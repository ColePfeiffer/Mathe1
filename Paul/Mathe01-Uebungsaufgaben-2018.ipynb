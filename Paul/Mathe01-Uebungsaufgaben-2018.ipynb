{
 "cells": [
  {
   "cell_type": "code",
   "execution_count": 189,
   "metadata": {},
   "outputs": [],
   "source": [
    "# Lernfortschritt\n",
    "help = []"
   ]
  },
  {
   "cell_type": "code",
   "execution_count": 11,
   "metadata": {},
   "outputs": [
    {
     "data": {
      "text/plain": [
       "5525"
      ]
     },
     "execution_count": 11,
     "metadata": {},
     "output_type": "execute_result"
    }
   ],
   "source": [
    "# Aufgabe 1\n",
    "# Berechnen Sie die Summe 1² + 2² + 3² + ... + 25²\n",
    "\n",
    "def afgb1(min, max):\n",
    "    sum = 0\n",
    "    while min <= max:\n",
    "        sum += min**2\n",
    "        min += 1\n",
    "    return sum\n",
    "\n",
    "afgb1(1,25)\n",
    "\n",
    "# Lösung: 5525"
   ]
  },
  {
   "cell_type": "code",
   "execution_count": 16,
   "metadata": {},
   "outputs": [
    {
     "data": {
      "text/plain": [
       "10000"
      ]
     },
     "execution_count": 16,
     "metadata": {},
     "output_type": "execute_result"
    }
   ],
   "source": [
    "# Aufgabe 2\n",
    "# Geben Sie die Summe der ersten 100 ungeraden Zahlen an.\n",
    "\n",
    "def afgb2(max):\n",
    "    x = 1\n",
    "    sum = 0\n",
    "    while x < max*2:\n",
    "        if x%2 == 1:\n",
    "            sum += x\n",
    "        x += 1\n",
    "    return sum\n",
    "\n",
    "afgb2(100)\n",
    "\n",
    "# Lösung: 10000"
   ]
  },
  {
   "cell_type": "code",
   "execution_count": 26,
   "metadata": {},
   "outputs": [
    {
     "data": {
      "text/plain": [
       "(19, 5, 3)"
      ]
     },
     "execution_count": 26,
     "metadata": {},
     "output_type": "execute_result"
    }
   ],
   "source": [
    "# Aufbabe 3\n",
    "# Welche der folgenden Zahlen ist die Größte?\n",
    "\n",
    "# [ ] 111100010010000000(2) - 16\n",
    "# [x] 5056447(8)            - 21\n",
    "# [ ] 1E240(16)             - 20\n",
    "\n",
    "# Lösung: 2"
   ]
  },
  {
   "cell_type": "code",
   "execution_count": 27,
   "metadata": {},
   "outputs": [
    {
     "data": {
      "text/plain": [
       "0"
      ]
     },
     "execution_count": 27,
     "metadata": {},
     "output_type": "execute_result"
    }
   ],
   "source": [
    "# Aufgabe 4\n",
    "# Berechnen Sie in Z/Z17 den Wert 7 x 7 + 10 x 7\n",
    "def afgb4(rechnung,z):\n",
    "    return x % z\n",
    "\n",
    "afgb4(7*7 + 10*7, 17)\n",
    "\n",
    "# Lösung: 0"
   ]
  },
  {
   "cell_type": "code",
   "execution_count": 36,
   "metadata": {},
   "outputs": [
    {
     "data": {
      "text/plain": [
       "[0, 2, 4, 6]"
      ]
     },
     "execution_count": 36,
     "metadata": {},
     "output_type": "execute_result"
    }
   ],
   "source": [
    "# Aufgabe 5\n",
    "# Kreuzen Sie alle Lösungen der Gleichung (x-2) x (x-4) = 0 in Z/8Z an.\n",
    "def afgb5(z):\n",
    "    a = []\n",
    "    x = 0\n",
    "    while x < z:\n",
    "        if ((x-2) * (x-4)) % 8 == 0:\n",
    "            a.append(x)\n",
    "        x+=1\n",
    "    return a\n",
    "\n",
    "afgb5(8)\n",
    "\n",
    "# lösung: 0,2,4,6"
   ]
  },
  {
   "cell_type": "code",
   "execution_count": 39,
   "metadata": {},
   "outputs": [
    {
     "data": {
      "text/plain": [
       "5"
      ]
     },
     "execution_count": 39,
     "metadata": {},
     "output_type": "execute_result"
    }
   ],
   "source": [
    "# Aufgabe 6\n",
    "# Wie viele verschiedene Lösungen hat die Geichung 20x² + 25x + 50 = 0 in Z/100Z\n",
    "\n",
    "def afgb6(z):\n",
    "    a = []\n",
    "    x = 0\n",
    "    while x < z:\n",
    "        if ((20*x**2) + 25*x + 50) % z == 0:\n",
    "            a.append(x)\n",
    "        x += 1\n",
    "    return len(a)\n",
    "\n",
    "afgb6(100)\n",
    "\n",
    "# Lösung: 5"
   ]
  },
  {
   "cell_type": "code",
   "execution_count": 41,
   "metadata": {},
   "outputs": [
    {
     "data": {
      "text/plain": [
       "15"
      ]
     },
     "execution_count": 41,
     "metadata": {},
     "output_type": "execute_result"
    }
   ],
   "source": [
    "# Aufgabe 7 \n",
    "# Für wie viele Elemente x von Z/160Z gilt x³ = x?\n",
    "\n",
    "def afgb7(z):\n",
    "    a = []\n",
    "    x = 0\n",
    "    while x < z:\n",
    "        if (x**3) % z == x:\n",
    "            a.append(x)\n",
    "        x += 1\n",
    "    return len(a)\n",
    "\n",
    "afgb7(160)\n",
    "\n",
    "# Lösung: 15"
   ]
  },
  {
   "cell_type": "code",
   "execution_count": 44,
   "metadata": {},
   "outputs": [
    {
     "data": {
      "text/plain": [
       "420707233300201"
      ]
     },
     "execution_count": 44,
     "metadata": {},
     "output_type": "execute_result"
    }
   ],
   "source": [
    "# Aufgabe 8\n",
    "# Sei a = 29 und b = 10**6. Die Zahl c = a**b hat deutlich mehr als eine Million Dezimalstellen. Was sind die letzten\n",
    "# beiden Ziffern von c (also die ganz rechts)?\n",
    "\n",
    "29**10\n",
    "\n",
    "# Lösung: 01"
   ]
  },
  {
   "cell_type": "code",
   "execution_count": 66,
   "metadata": {},
   "outputs": [
    {
     "data": {
      "text/plain": [
       "'0b1100100'"
      ]
     },
     "execution_count": 66,
     "metadata": {},
     "output_type": "execute_result"
    }
   ],
   "source": [
    "# Aufgabe 9\n",
    "# Geben Sie von der Binärdarstellung von 10**140000 das erste und das letzte Bit an.\n",
    "\n",
    "bin(100)\n",
    "\n",
    "# Lösung: 10"
   ]
  },
  {
   "cell_type": "code",
   "execution_count": 67,
   "metadata": {},
   "outputs": [
    {
     "name": "stdout",
     "output_type": "stream",
     "text": [
      "-0b1111111111010010\n"
     ]
    }
   ],
   "source": [
    "# Aufgabe 10\n",
    "# Geben Sie die Binärdarstellung (Zweierkompliment) von -46 auf einem 16-Bit-COmputer an.\n",
    "\n",
    "print(bin((-46^65535)+1))\n",
    "\n",
    "# Lösung: 1111111111010010"
   ]
  },
  {
   "cell_type": "code",
   "execution_count": 60,
   "metadata": {},
   "outputs": [
    {
     "data": {
      "text/plain": [
       "65536"
      ]
     },
     "execution_count": 60,
     "metadata": {},
     "output_type": "execute_result"
    }
   ],
   "source": [
    "# Aufgabe 11\n",
    "# Welchen Wert hat die Variable c nach Ausführung des folgenden Codes?\n",
    "\n",
    "c = 0\n",
    "k = 1\n",
    "for n in range(2 ** 40):\n",
    "    c += k\n",
    "    k *= -1\n",
    "c\n",
    "\n",
    "# Lösung: 0"
   ]
  },
  {
   "cell_type": "code",
   "execution_count": 70,
   "metadata": {},
   "outputs": [
    {
     "data": {
      "text/plain": [
       "42"
      ]
     },
     "execution_count": 70,
     "metadata": {},
     "output_type": "execute_result"
    }
   ],
   "source": [
    "# Aufgabe 12\n",
    "# Welchen Wert hat die Variable c nach Ausführung des folgenden Codes?\n",
    "\n",
    "c, k = 42, 1\n",
    "for n in range(5 ** 4):\n",
    "    c += (k - 1)\n",
    "    k = (k + 1) % 3\n",
    "c\n",
    "\n",
    "# Lösung: 42"
   ]
  },
  {
   "cell_type": "code",
   "execution_count": 72,
   "metadata": {},
   "outputs": [
    {
     "name": "stdout",
     "output_type": "stream",
     "text": [
      "-1\n"
     ]
    }
   ],
   "source": [
    "# Aufgabe 13\n",
    "# Welchen Wert hat die Variable c nach Ausführung des folgenden Codes?\n",
    "\n",
    "c = -1\n",
    "for n in range(5 ** 4):\n",
    "    c += (n % 5) - 2\n",
    "print(c)\n",
    "\n",
    "# Lösung: -1"
   ]
  },
  {
   "cell_type": "code",
   "execution_count": 74,
   "metadata": {},
   "outputs": [
    {
     "data": {
      "text/plain": [
       "0"
      ]
     },
     "execution_count": 74,
     "metadata": {},
     "output_type": "execute_result"
    }
   ],
   "source": [
    "# Aufgabe 14\n",
    "# Welchen Wert hat die Variable c nach Ausführung des folgenden Codes?\n",
    "\n",
    "c = 0\n",
    "k = 1\n",
    "for n in range(0, 3 ** 4):\n",
    "    c += (k-1)\n",
    "    k = (k + 1) % 3\n",
    "c\n",
    "\n",
    "# Lösung: 0"
   ]
  },
  {
   "cell_type": "code",
   "execution_count": 79,
   "metadata": {},
   "outputs": [
    {
     "name": "stdout",
     "output_type": "stream",
     "text": [
      "1\n",
      "5\n",
      "0\n"
     ]
    }
   ],
   "source": [
    "# Aufabe 15\n",
    "# Welche der folgenden Zahlen ist durch 7 teilbar?\n",
    "\n",
    "print(int(\"17025\", 8) % 7)\n",
    "print(int(\"17137\", 8) % 7)\n",
    "print(int(\"17141\", 8) % 7)\n",
    "\n",
    "# Lösung: 3."
   ]
  },
  {
   "cell_type": "code",
   "execution_count": 85,
   "metadata": {},
   "outputs": [
    {
     "name": "stdout",
     "output_type": "stream",
     "text": [
      "0.0\n",
      "909090909.0909091\n",
      "909090909090.909\n",
      "909090909091.0\n"
     ]
    }
   ],
   "source": [
    "# Aufgabe 16\n",
    "# Welche der folgenden Zahlen ist durch 11 teilbar?\n",
    "\n",
    "print(0 / 11)\n",
    "print((10**10) / 11)\n",
    "print((10**13) / 11)\n",
    "print(((10**13) + 1) / 11)\n",
    "\n",
    "# Lösung: 1, 4"
   ]
  },
  {
   "cell_type": "code",
   "execution_count": 86,
   "metadata": {},
   "outputs": [
    {
     "data": {
      "text/plain": [
       "43"
      ]
     },
     "execution_count": 86,
     "metadata": {},
     "output_type": "execute_result"
    }
   ],
   "source": [
    "# Aufgabe 17\n",
    "# Geben Sie den größten gemeinsamen Teiler von 471694074821, 471766128373 und 471757130107 an; also die größte Zahl,\n",
    "# die alle drei Zahlen teilt\n",
    "from math import *\n",
    "from sympy import *\n",
    "gcd(471694074821,gcd(471766128373,471757130107))\n",
    "\n",
    "# Lösung: 43"
   ]
  },
  {
   "cell_type": "code",
   "execution_count": 87,
   "metadata": {},
   "outputs": [],
   "source": [
    "# Aufgabe 18\n",
    "# Der größte gemeinsame Teiler von 18 und 11 ist 1. Geben Sie ganze Zahlen a und b an, so dass 1 = 18a + 11b gilt."
   ]
  },
  {
   "cell_type": "code",
   "execution_count": 95,
   "metadata": {},
   "outputs": [
    {
     "data": {
      "text/plain": [
       "[3, 9]"
      ]
     },
     "execution_count": 95,
     "metadata": {},
     "output_type": "execute_result"
    }
   ],
   "source": [
    "# Aufgabe 19\n",
    "# Geben Sie zwei Zahlen aus Z/27Z an, deren Produkt verschwindet, obwohl beide Zahlen nicht null sind.\n",
    "def afgb19(z):\n",
    "    x=1\n",
    "    y=1\n",
    "    a=[]\n",
    "    while x < z:\n",
    "        while y < z:\n",
    "            if (x*y)%z == 0:\n",
    "                a.append(x)\n",
    "                a.append(y)\n",
    "                return a\n",
    "            y +=1\n",
    "        y=1\n",
    "        x+=1\n",
    "    return a\n",
    "        \n",
    "afgb19(27)\n",
    "\n",
    "# Lösung: 3,9"
   ]
  },
  {
   "cell_type": "code",
   "execution_count": 103,
   "metadata": {},
   "outputs": [
    {
     "data": {
      "text/plain": [
       "13"
      ]
     },
     "execution_count": 103,
     "metadata": {},
     "output_type": "execute_result"
    }
   ],
   "source": [
    "# Aufgabe 20\n",
    "# Berechnen Sie den Quotienten 2/9 in Z23\n",
    "\n",
    "def afgb20(z):\n",
    "    x = 0\n",
    "    while x < z:\n",
    "        if (x*9)%z == 2:\n",
    "            return x\n",
    "        x+=1\n",
    "\n",
    "afgb20(23)\n",
    "\n",
    "# Lösung: 13"
   ]
  },
  {
   "cell_type": "code",
   "execution_count": 104,
   "metadata": {},
   "outputs": [
    {
     "data": {
      "text/plain": [
       "5"
      ]
     },
     "execution_count": 104,
     "metadata": {},
     "output_type": "execute_result"
    }
   ],
   "source": [
    "# Aufgabe 21\n",
    "# Geben Sie eine von 1 verschiedene Zahl an, die in Z/24Z einen Kehrwert hat.\n",
    "\n",
    "def afgb21(z):\n",
    "    x = 2\n",
    "    while x < z:\n",
    "        if (x*x)%z == 1:\n",
    "            return x\n",
    "        x += 1\n",
    "        \n",
    "afgb21(24)\n",
    "\n",
    "# Lösung: 5"
   ]
  },
  {
   "cell_type": "code",
   "execution_count": 190,
   "metadata": {},
   "outputs": [
    {
     "name": "stdout",
     "output_type": "stream",
     "text": [
      "SEND HELP PLEASE\n"
     ]
    }
   ],
   "source": [
    "# Aufgabe 22\n",
    "# Berechnen Sie den Wert (2/9)**1000 in Z11\n",
    "\n",
    "help.append(22)\n",
    "print('SEND HELP PLEASE')"
   ]
  },
  {
   "cell_type": "code",
   "execution_count": 126,
   "metadata": {},
   "outputs": [
    {
     "data": {
      "text/plain": [
       "2"
      ]
     },
     "execution_count": 126,
     "metadata": {},
     "output_type": "execute_result"
    }
   ],
   "source": [
    "# Aufgabe 23\n",
    "# Wie viele Elemente von Z/802Z sind bezüglich der Multiplikation invers zu sich selbst?\n",
    "\n",
    "def afgb23(z):\n",
    "    x = 0\n",
    "    i = 0\n",
    "    while x < z:\n",
    "        if ((x**2)%z == 1):\n",
    "            i+=1\n",
    "        x+=1\n",
    "    return i\n",
    "\n",
    "afgb23(802)\n",
    "\n",
    "# Lösung: 2"
   ]
  },
  {
   "cell_type": "code",
   "execution_count": 124,
   "metadata": {},
   "outputs": [
    {
     "data": {
      "text/plain": [
       "32"
      ]
     },
     "execution_count": 124,
     "metadata": {},
     "output_type": "execute_result"
    }
   ],
   "source": [
    "# Aufgabe 24\n",
    "# Wie viele Elemente von Z/93Z lassen sich als Quadrat eines Elements von Z/93Z darstellen?\n",
    "# Bspl: 51 ist das Quadrat von 21\n",
    "\n",
    "def afgb24(z):\n",
    "    qList = []\n",
    "    x = 0\n",
    "    while x < z:\n",
    "        if (x**2)%z not in qList:\n",
    "            qList.append((x**2)%93)\n",
    "        x += 1\n",
    "    return len(qList)\n",
    "\n",
    "afgb24(93)\n",
    "\n",
    "# Lösung: 32"
   ]
  },
  {
   "cell_type": "code",
   "execution_count": 191,
   "metadata": {},
   "outputs": [
    {
     "name": "stdout",
     "output_type": "stream",
     "text": [
      "SEND HELP PLEASE\n"
     ]
    }
   ],
   "source": [
    "# Aufgabe 25\n",
    "# 25 p = 2760727302517 ist eine Primzahl. \n",
    "# Geben Sie den Kehrwert von 853662459626 in Zp an.\n",
    "# Hinweis: kleiner Satz von Fermat.\n",
    "\n",
    "help.append(25)\n",
    "print('SEND HELP PLEASE')"
   ]
  },
  {
   "cell_type": "code",
   "execution_count": 134,
   "metadata": {},
   "outputs": [
    {
     "data": {
      "text/plain": [
       "(27, 140)"
      ]
     },
     "execution_count": 134,
     "metadata": {},
     "output_type": "execute_result"
    }
   ],
   "source": [
    "# Aufgabe 26\n",
    "# Geben Sie die kleinste positive Lösung des folgenden Kongruenzsystems an:\n",
    "# x = 2 (mod5) | x = 3 (mod4) | x = 6 (mod7)\n",
    "\n",
    "from sympy.ntheory.modular import crt\n",
    "crt([5,4,7],[2,3,6])\n",
    "\n",
    "# Lösung: 27"
   ]
  },
  {
   "cell_type": "code",
   "execution_count": 137,
   "metadata": {},
   "outputs": [
    {
     "data": {
      "text/plain": [
       "-22"
      ]
     },
     "execution_count": 137,
     "metadata": {},
     "output_type": "execute_result"
    }
   ],
   "source": [
    "# Aufgabe 27\n",
    "# Geben Sie die größte negative Lösung des folgenden Kongruenzsystems an:\n",
    "# x = 2 (mod3) | x = 2 (mod4) | x=6(mod7)\n",
    "\n",
    "from sympy.ntheory.modular import crt\n",
    "crt([3,4,7],[2,2,6])\n",
    "\n",
    "62-84\n",
    "\n",
    "# Lösung: -22"
   ]
  },
  {
   "cell_type": "code",
   "execution_count": 141,
   "metadata": {},
   "outputs": [
    {
     "name": "stdout",
     "output_type": "stream",
     "text": [
      "(245, 252)\n",
      "(77, 84)\n",
      "None\n",
      "None\n",
      "(77, 140)\n"
     ]
    }
   ],
   "source": [
    "# Aufgabe 28\n",
    "# Für welche a hat das folgende Kongruenzsystem keine Lösung?\n",
    "# x = 1 (mod4) | x = 2 (moda) | x=3 (mod7)\n",
    "\n",
    "from sympy.ntheory.modular import crt\n",
    "def afgb28(a):\n",
    "    return crt([4,a,7],[1,2,7])\n",
    "\n",
    "print(afgb28(9))\n",
    "print(afgb28(3))\n",
    "print(afgb28(6))\n",
    "print(afgb28(8))\n",
    "print(afgb28(5))\n",
    "\n",
    "# Lösung: 3,4"
   ]
  },
  {
   "cell_type": "code",
   "execution_count": 143,
   "metadata": {},
   "outputs": [
    {
     "data": {
      "text/plain": [
       "{3: 2, 11: 1, 101: 1}"
      ]
     },
     "execution_count": 143,
     "metadata": {},
     "output_type": "execute_result"
    }
   ],
   "source": [
    "# Aufgabe 29\n",
    "# Kreuzen Sie die kanonische Primfaktorzerlegung von 9999 an.\n",
    "\n",
    "from math import *\n",
    "factorint(9999)\n",
    "\n",
    "# Lösung: 3² x 11 x 101"
   ]
  },
  {
   "cell_type": "code",
   "execution_count": 144,
   "metadata": {},
   "outputs": [
    {
     "data": {
      "text/plain": [
       "181"
      ]
     },
     "execution_count": 144,
     "metadata": {},
     "output_type": "execute_result"
    }
   ],
   "source": [
    "# Aufgabe 30\n",
    "# Geben Sie die 42. Primzahl an.\n",
    "\n",
    "from math import *\n",
    "prime(42)\n",
    "\n",
    "# Lösung: 181"
   ]
  },
  {
   "cell_type": "code",
   "execution_count": 173,
   "metadata": {},
   "outputs": [
    {
     "name": "stdout",
     "output_type": "stream",
     "text": [
      "False\n",
      "False\n",
      "42.0\n",
      "False\n"
     ]
    }
   ],
   "source": [
    "# Aufgabe 31\n",
    "# Wenn p1 bis pn die ersten n Primzahlen sind, welche der folgenden Aussagen sidn dann mit Sicherheit wahr?\n",
    "\n",
    "from math import *\n",
    "print(isprime(prime(1) * prime(2) * prime(3) * prime(4)))\n",
    "print(isprime(1+prime(1) * prime(2) * prime(3) * prime(4) * prime(5) * prime(6) * prime(7)))\n",
    "print((prime(1) * prime(2) * prime(3) * prime(4))/prime(3))\n",
    "print(isprime(prime(1) * prime(2) * prime(3) * prime(4)))\n",
    "\n",
    "# Lösung: 3,4"
   ]
  },
  {
   "cell_type": "code",
   "execution_count": 192,
   "metadata": {},
   "outputs": [
    {
     "name": "stdout",
     "output_type": "stream",
     "text": [
      "5e-02\n",
      "SEND HELP PLEASE\n"
     ]
    }
   ],
   "source": [
    "# Aufgabe 32\n",
    "# Wenn man pi(10**8) durch 10**8 teilt, was kommt dan ungefähr heraus?\n",
    "from math import log\n",
    "print(\"%.0e\" % (((10**8)/log(10**8)) / 10**8))\n",
    "\n",
    "help.append(32)\n",
    "print('SEND HELP PLEASE')"
   ]
  },
  {
   "cell_type": "code",
   "execution_count": 193,
   "metadata": {},
   "outputs": [
    {
     "name": "stdout",
     "output_type": "stream",
     "text": [
      "3e+12\n"
     ]
    }
   ],
   "source": [
    "# Aufgabe 33\n",
    "# Welcher der folgenden Werte ist die beste Schätzung für die Anzahl der Primzahlen bis 10**14?\n",
    "print(\"%.0e\" % ((10**14)/log(10**14)))\n",
    "\n",
    "# Lösung: 3 * 10**12"
   ]
  },
  {
   "cell_type": "code",
   "execution_count": 197,
   "metadata": {},
   "outputs": [
    {
     "name": "stdout",
     "output_type": "stream",
     "text": [
      "SEND HELP PLEASE\n"
     ]
    }
   ],
   "source": [
    "# Aufgabe 34\n",
    "# Welche der folgenden Zahlen liegt am dichtesten an der 10**14-ten Primzahl?\n",
    "\n",
    "help.append(34)\n",
    "print('SEND HELP PLEASE')"
   ]
  },
  {
   "cell_type": "code",
   "execution_count": 202,
   "metadata": {},
   "outputs": [
    {
     "name": "stdout",
     "output_type": "stream",
     "text": [
      "SEND HELP PLEASE\n"
     ]
    }
   ],
   "source": [
    "# Aufgabe 35\n",
    "# Wie viele ELemente enthält die Menge {(q,p): p,q € P N [0,10**21]} ungefähr?\n",
    "\n",
    "help.append(35)\n",
    "print('SEND HELP PLEASE')"
   ]
  },
  {
   "cell_type": "code",
   "execution_count": 206,
   "metadata": {},
   "outputs": [
    {
     "name": "stdout",
     "output_type": "stream",
     "text": [
      "SEND HELP PLEASE\n"
     ]
    }
   ],
   "source": [
    "# Aufgabe 36\n",
    "# Wie viele Primzahlen leigen ungefähr zwischen 10**20 und 10**21\n",
    "\n",
    "help.append(36)\n",
    "print('SEND HELP PLEASE')"
   ]
  },
  {
   "cell_type": "code",
   "execution_count": null,
   "metadata": {},
   "outputs": [],
   "source": [
    "# Aufgabe 37\n",
    "# Wenn man sich eine Liste aller viertelligen Primtzahlen, bei denen eine Ziffer dreimal vorkommt, anschaut,\n",
    "# dann kommt eine Ziffer in der gesamten Liste niemals vor. Welche ist es?\n",
    "\n",
    "# Da Die Nullen immer hinten stehen müssen (0009 ist nicht 4Stellig), ist immer eine 0 hinten, also eine 10er Zahl,\n",
    "# somit gerade und durch 2 teilbar. Deshalb kann es keine Primzahl sein.\n",
    "\n",
    "# Lösung: 0"
   ]
  },
  {
   "cell_type": "code",
   "execution_count": 209,
   "metadata": {},
   "outputs": [
    {
     "name": "stdout",
     "output_type": "stream",
     "text": [
      "False\n",
      "False\n",
      "False\n",
      "False\n",
      "False\n"
     ]
    }
   ],
   "source": [
    "# Aufgabe 38\n",
    "# Wieviele sechsstellige Primzahlen gibt es, bei denen alle 6 Ziffern identisch sind?\n",
    "\n",
    "from math import *\n",
    "print(isprime(111111))\n",
    "print(isprime(333333))\n",
    "print(isprime(555555))\n",
    "print(isprime(777777))\n",
    "print(isprime(999999))\n",
    "\n",
    "# Lösung: 0"
   ]
  },
  {
   "cell_type": "code",
   "execution_count": null,
   "metadata": {},
   "outputs": [],
   "source": [
    "# Aufgabe 40\n",
    "# Bei welchen Zahlen gibt der Miller-Rabin-Test immer eine korrekte Antwort?\n",
    "\n",
    "# Lösung: Primzahlen"
   ]
  },
  {
   "cell_type": "code",
   "execution_count": 211,
   "metadata": {},
   "outputs": [
    {
     "data": {
      "text/plain": [
       "Fraction(26, 55)"
      ]
     },
     "execution_count": 211,
     "metadata": {},
     "output_type": "execute_result"
    }
   ],
   "source": [
    "# Aufgabe 41\n",
    "# Geben Sie die Dezimalzahl 0.4_72 = 0.4727272727272 als gekürzten Bruch an\n",
    "from fractions import *\n",
    "Fraction(0.47272727272727272).limit_denominator()\n",
    "\n",
    "# Lösung: 26/55"
   ]
  },
  {
   "cell_type": "code",
   "execution_count": 220,
   "metadata": {},
   "outputs": [
    {
     "data": {
      "text/plain": [
       "Fraction(11, 16)"
      ]
     },
     "execution_count": 220,
     "metadata": {},
     "output_type": "execute_result"
    }
   ],
   "source": [
    "# Aufgabe 42\n",
    "# Geben Sie die Binärzahl (0.1011)2 dezimal als Bruch an.\n",
    "\n",
    "# 0.1011 -> 1011/10000\n",
    "from fractions import *\n",
    "Fraction(0b1011,0b10000)\n",
    "\n",
    "# Lösung: 11/16"
   ]
  },
  {
   "cell_type": "code",
   "execution_count": 225,
   "metadata": {},
   "outputs": [
    {
     "data": {
      "text/plain": [
       "Fraction(1, 6)"
      ]
     },
     "execution_count": 225,
     "metadata": {},
     "output_type": "execute_result"
    }
   ],
   "source": [
    "# Aufgabe 43\n",
    "# Geben Sie die Binärzahl 0.0_01 = 0.001010101010101... dezimal als gekürzten Bruch an.\n",
    "\n",
    "from fractions import *\n",
    "Fraction(0b1,0b110)"
   ]
  },
  {
   "cell_type": "code",
   "execution_count": 228,
   "metadata": {},
   "outputs": [
    {
     "name": "stdout",
     "output_type": "stream",
     "text": [
      "SEND HELP PLEASE\n"
     ]
    }
   ],
   "source": [
    "# Aufgabe 44\n",
    "# Geben Sie die Zahl (0.7)10 in Binärdarstellung an\n",
    "\n",
    "help.append(44)\n",
    "print('SEND HELP PLEASE')"
   ]
  },
  {
   "cell_type": "code",
   "execution_count": 241,
   "metadata": {},
   "outputs": [
    {
     "name": "stdout",
     "output_type": "stream",
     "text": [
      "1/8\n",
      "{2: 3}\n",
      "\n",
      "2/5\n",
      "{5: 1}\n",
      "\n",
      "3/16\n",
      "{2: 4}\n",
      "\n",
      "3/4\n",
      "{2: 2}\n",
      "\n",
      "1/70\n",
      "{2: 1, 5: 1, 7: 1}\n",
      "\n"
     ]
    }
   ],
   "source": [
    "# Aufgabe 45\n",
    "# Kreuzen Sie die Zahlen an, die man dezimal mit endlich vielen Nachkommastellen darstellen kann:\n",
    "\n",
    "from sympy import factorint\n",
    "from fractions import Fraction\n",
    "\n",
    "print(Fraction(1,8))\n",
    "print(factorint(8))\n",
    "print('')\n",
    "\n",
    "print(Fraction(2,5))\n",
    "print(factorint(5))\n",
    "print('')\n",
    "\n",
    "print(Fraction(3,16))\n",
    "print(factorint(16))\n",
    "print('')\n",
    "\n",
    "print(Fraction(21,28))\n",
    "print(factorint(4))\n",
    "print('')\n",
    "\n",
    "print(Fraction(1,70))\n",
    "print(factorint(70))\n",
    "print('')\n",
    "\n",
    "# Lösung: 1,2,3,4"
   ]
  },
  {
   "cell_type": "code",
   "execution_count": 243,
   "metadata": {},
   "outputs": [
    {
     "name": "stdout",
     "output_type": "stream",
     "text": [
      "1/8\n",
      "{2: 3}\n",
      "\n",
      "2/5\n",
      "{5: 1}\n",
      "\n",
      "3/16\n",
      "{2: 4}\n",
      "\n",
      "3/4\n",
      "{2: 2}\n",
      "\n",
      "1/7\n",
      "{7: 1}\n",
      "\n"
     ]
    }
   ],
   "source": [
    "# Aufgabe 46\n",
    "# Kreuzen Sie die Zahlen an, die man binär mit endlich vielen Nachkommastellen darstellen kann:\n",
    "\n",
    "from sympy import factorint\n",
    "from fractions import Fraction\n",
    "\n",
    "print(Fraction(1,8))\n",
    "print(factorint(8))\n",
    "print('')\n",
    "\n",
    "print(Fraction(2,5))\n",
    "print(factorint(5))\n",
    "print('')\n",
    "\n",
    "print(Fraction(3,16))\n",
    "print(factorint(16))\n",
    "print('')\n",
    "\n",
    "print(Fraction(15,20))\n",
    "print(factorint(4))\n",
    "print('')\n",
    "\n",
    "print(Fraction(1,7))\n",
    "print(factorint(7))\n",
    "print('')\n",
    "\n",
    "# Lösung: 1,3,4"
   ]
  },
  {
   "cell_type": "code",
   "execution_count": 244,
   "metadata": {},
   "outputs": [
    {
     "name": "stdout",
     "output_type": "stream",
     "text": [
      "3/5\n",
      "{5: 1}\n",
      "\n",
      "1/8\n",
      "{2: 3}\n",
      "\n",
      "1/4\n",
      "{2: 2}\n",
      "\n",
      "5/16\n",
      "{2: 4}\n",
      "\n",
      "2/11\n",
      "{11: 1}\n",
      "\n"
     ]
    }
   ],
   "source": [
    "# Aufgabe 45\n",
    "# Kreuzen Sie die Zahlen an, die man oktal mit endlich vielen Nachkommastellen darstellen kann:\n",
    "\n",
    "from sympy import factorint\n",
    "from fractions import Fraction\n",
    "\n",
    "print(Fraction(3,5))\n",
    "print(factorint(5))\n",
    "print('')\n",
    "\n",
    "print(Fraction(1,8))\n",
    "print(factorint(8))\n",
    "print('')\n",
    "\n",
    "print(Fraction(7,28))\n",
    "print(factorint(4))\n",
    "print('')\n",
    "\n",
    "print(Fraction(5,16))\n",
    "print(factorint(16))\n",
    "print('')\n",
    "\n",
    "print(Fraction(2,11))\n",
    "print(factorint(11))\n",
    "print('')\n",
    "\n",
    "# Lösung: 2,3,4"
   ]
  },
  {
   "cell_type": "code",
   "execution_count": 249,
   "metadata": {},
   "outputs": [
    {
     "name": "stdout",
     "output_type": "stream",
     "text": [
      "3/8\n",
      "{2: 3}\n",
      "\n",
      "2/7\n",
      "{7: 1}\n",
      "\n",
      "0.5\n",
      "\n",
      "3/8\n",
      "{2: 3}\n",
      "\n",
      "0.7071067811865476\n"
     ]
    }
   ],
   "source": [
    "# Aufgabe 48\n",
    "# Kreuzen Sie die Zahlen an, die man oktal mit endlich vielen Nachkommastellen darstellen kann:\n",
    "\n",
    "from sympy import factorint\n",
    "from fractions import Fraction\n",
    "from math import sqrt\n",
    "\n",
    "print(Fraction(3,8))\n",
    "print(factorint(8))\n",
    "print('')\n",
    "\n",
    "print(Fraction(2,7))\n",
    "print(factorint(7))\n",
    "print('')\n",
    "\n",
    "print(sqrt(Fraction(1,4)))\n",
    "print('')\n",
    "\n",
    "print(Fraction(75,200))\n",
    "print(factorint(8))\n",
    "print('')\n",
    "\n",
    "print(sqrt(Fraction(1,2)))\n",
    "\n",
    "# Lösung: 1,3,4"
   ]
  },
  {
   "cell_type": "code",
   "execution_count": null,
   "metadata": {},
   "outputs": [],
   "source": [
    "# Aufgabe 49\n",
    "# Kreuzen Sie von den folgenden Aussagen über das IEEEE-Format die an, die wahr sind:\n",
    "\n",
    "# Lösung:\n",
    "# Man kann nur endlich viele Zahlen korrekt darstellen\n",
    "# Eine Maschinenzahl kann Repräsentant für verschiedene Zahlen sein\n",
    "# Die dezimale Genauigkeit des double-Formats beträgt 53 stellen."
   ]
  },
  {
   "cell_type": "code",
   "execution_count": 250,
   "metadata": {},
   "outputs": [
    {
     "name": "stdout",
     "output_type": "stream",
     "text": [
      "SEND HELP PLEASE\n"
     ]
    }
   ],
   "source": [
    "# Aufgabe 50:\n",
    "# Kreuzen Sie die folgenden Aussagen über das IEEE-Format an, die wahr sind:\n",
    "\n",
    "help.append(50)\n",
    "print('SEND HELP PLEASE')"
   ]
  },
  {
   "cell_type": "code",
   "execution_count": null,
   "metadata": {},
   "outputs": [],
   "source": [
    "# Aufgabe 51:\n",
    "# Die Zahl 2/5 sieht binär so aus: (0._0110)2. Kreuzen Sie an, welche von den folgenden Bitfolgen die Mantisse \n",
    "# (ohne hidden bit) ist, wenn diese Zahl im IEEE-Format double dargstellt wird.\n",
    "\n",
    "# 0._0110 -> (1).1001100110...11001 | 1\n",
    "# 1001100110...11010 weil am Ende aufgerundet werden muss\n",
    "\n",
    "# Lösung: 3.\n",
    "# 1001100110011001100110011001100110011001100110011010"
   ]
  },
  {
   "cell_type": "code",
   "execution_count": 253,
   "metadata": {},
   "outputs": [
    {
     "data": {
      "text/plain": [
       "13.0"
      ]
     },
     "execution_count": 253,
     "metadata": {},
     "output_type": "execute_result"
    }
   ],
   "source": [
    "# Aufgabe 52\n",
    "# Die Zahl 4/5 sieht binär so aus: (0._1100)2. Wenn diese Zahl im IEEE-Format double dargstellt wird,\n",
    "# welche Ziffer kommt in der 52-stelligen Mantisse (ohne hidden bit) häufiger vor?\n",
    "\n",
    "52/4\n",
    "\n",
    "# Lösung: Es kommen gleich viele Einsen und Nullen vor"
   ]
  },
  {
   "cell_type": "code",
   "execution_count": 273,
   "metadata": {},
   "outputs": [],
   "source": [
    "# Aufgabe 53\n",
    "# Welche der folgenden Zahlen lassen sich im IEEE-Format double (64 bit) exakt darstellen?\n",
    "\n",
    "# Wenn sich Kommazahl wiederholt, ist es eine irrationale Zahl.\n",
    "def afgb53(x):\n",
    "    i = 0\n",
    "    while i < 30:\n",
    "        x = x*2\n",
    "        print(x)\n",
    "        \n",
    "        i+=1\n",
    "\n",
    "afgb53(0.5)\n",
    "\n",
    "\n",
    "# Lösung 2,4,5"
   ]
  },
  {
   "cell_type": "code",
   "execution_count": 285,
   "metadata": {},
   "outputs": [
    {
     "name": "stdout",
     "output_type": "stream",
     "text": [
      "{2: 3}\n",
      "{2: 2, 5: 2}\n",
      "SEND HELP PLEASE\n"
     ]
    }
   ],
   "source": [
    "# Aufgabe 54\n",
    "# Welche der folgenden Zahlen lassen sich im IEEE-Format double (64-Bit) exakt darstellen?\n",
    "\n",
    "from math import *\n",
    "from fractions import Fraction\n",
    "\n",
    "Fraction(0.375)\n",
    "print(factorint(8))\n",
    "# True\n",
    "\n",
    "Fraction(1.41).limit_denominator()\n",
    "print(factorint(100))\n",
    "# True\n",
    "\n",
    "sqrt(Fraction(1,4))\n",
    "# True\n",
    "\n",
    "sqrt(2)\n",
    "# False\n",
    "\n",
    "# 2**53 + 2\n",
    "# False\n",
    "\n",
    "# 2**53+3\n",
    "# False\n",
    "\n",
    "# lösung: 1,2,3\n",
    "\n",
    "help.append(54)\n",
    "print('SEND HELP PLEASE')"
   ]
  },
  {
   "cell_type": "code",
   "execution_count": 287,
   "metadata": {},
   "outputs": [],
   "source": [
    "# Aufgabe 55\n",
    "# Kreuzen Sie die Aussagen an, die wahr sind:\n",
    "\n",
    "# Lösung: Wenn nach IEEE 754 gerechnet wird, wird immer mathematisch gerundet."
   ]
  },
  {
   "cell_type": "code",
   "execution_count": 290,
   "metadata": {},
   "outputs": [],
   "source": [
    "# Aufgabe 56\n",
    "# Kreuzen Sie die Zahlen an, die nicht rational sind.\n",
    "\n",
    "# Lösung: 2, 3, 4, 5"
   ]
  },
  {
   "cell_type": "code",
   "execution_count": null,
   "metadata": {},
   "outputs": [],
   "source": []
  },
  {
   "cell_type": "code",
   "execution_count": 289,
   "metadata": {},
   "outputs": [
    {
     "name": "stdout",
     "output_type": "stream",
     "text": [
      "[22, 25, 32, 34, 35, 36, 44, 50, 54]\n"
     ]
    }
   ],
   "source": [
    "print(help)"
   ]
  },
  {
   "cell_type": "code",
   "execution_count": 288,
   "metadata": {},
   "outputs": [
    {
     "data": {
      "text/plain": [
       "370"
      ]
     },
     "execution_count": 288,
     "metadata": {},
     "output_type": "execute_result"
    }
   ],
   "source": [
    "160+210"
   ]
  },
  {
   "cell_type": "code",
   "execution_count": null,
   "metadata": {},
   "outputs": [],
   "source": []
  }
 ],
 "metadata": {
  "kernelspec": {
   "display_name": "Python 3",
   "language": "python",
   "name": "python3"
  },
  "language_info": {
   "codemirror_mode": {
    "name": "ipython",
    "version": 3
   },
   "file_extension": ".py",
   "mimetype": "text/x-python",
   "name": "python",
   "nbconvert_exporter": "python",
   "pygments_lexer": "ipython3",
   "version": "3.7.1"
  }
 },
 "nbformat": 4,
 "nbformat_minor": 2
}
