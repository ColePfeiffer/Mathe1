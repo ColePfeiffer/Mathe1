{
 "cells": [
  {
   "cell_type": "code",
   "execution_count": 2,
   "metadata": {},
   "outputs": [],
   "source": [
    "# 1 Berechnen Sie die Summe 1^2 + 2^2... 25^2\n",
    "def sumQuad(x):\n",
    "    i = 1\n",
    "    s = 0\n",
    "    while i <= 25:\n",
    "        s += i * i\n",
    "        i += 1\n",
    "    return s"
   ]
  },
  {
   "cell_type": "code",
   "execution_count": 3,
   "metadata": {},
   "outputs": [
    {
     "data": {
      "text/plain": [
       "5525"
      ]
     },
     "execution_count": 3,
     "metadata": {},
     "output_type": "execute_result"
    }
   ],
   "source": [
    "sumQuad(25)"
   ]
  },
  {
   "cell_type": "code",
   "execution_count": 17,
   "metadata": {},
   "outputs": [],
   "source": [
    "# 2 Geben Sie die Summe der ersten 100 ungeraden natürlichen Zahlen ein\n",
    "def sumSecond(x, y):\n",
    "    i = 1\n",
    "    s = 0\n",
    "    \n",
    "    while i <= x * 2:\n",
    "        if i%2 == y:\n",
    "            s += i\n",
    "        i += 1\n",
    "    return s"
   ]
  },
  {
   "cell_type": "code",
   "execution_count": 18,
   "metadata": {},
   "outputs": [
    {
     "data": {
      "text/plain": [
       "10000"
      ]
     },
     "execution_count": 18,
     "metadata": {},
     "output_type": "execute_result"
    }
   ],
   "source": [
    "sumSecond(100, 1)"
   ]
  },
  {
   "cell_type": "code",
   "execution_count": 19,
   "metadata": {},
   "outputs": [],
   "source": [
    "# 3 Welche der folgenden Zahlen ist die größte?\n",
    "# [ ] 111100010010000000(2) - 16\n",
    "# [x] 5056447(8)            - 21\n",
    "# [ ] 1E240(16)             - 20"
   ]
  },
  {
   "cell_type": "code",
   "execution_count": 22,
   "metadata": {},
   "outputs": [
    {
     "data": {
      "text/plain": [
       "0"
      ]
     },
     "execution_count": 22,
     "metadata": {},
     "output_type": "execute_result"
    }
   ],
   "source": [
    "# 4 Berechnen Sie in Z/17Z den Wert 7*7 + 10*7\n",
    "((7*7) + (10*7))%17"
   ]
  },
  {
   "cell_type": "code",
   "execution_count": 29,
   "metadata": {},
   "outputs": [
    {
     "name": "stdout",
     "output_type": "stream",
     "text": [
      "[0, 2, 4, 6]\n"
     ]
    }
   ],
   "source": [
    "# 5 Kreuzen Sie alle lösungen der Gleichung (x - 2) * (x - 4) = 0 in Z/8Z an.\n",
    "x = 0\n",
    "list = []\n",
    "\n",
    "while x < 8:\n",
    "    \n",
    "    if ((x - 2) * (x - 4))%8 == 0:\n",
    "        list.append(x)\n",
    "    x += 1\n",
    "print(list)"
   ]
  },
  {
   "cell_type": "code",
   "execution_count": 196,
   "metadata": {},
   "outputs": [
    {
     "data": {
      "text/plain": [
       "5"
      ]
     },
     "execution_count": 196,
     "metadata": {},
     "output_type": "execute_result"
    }
   ],
   "source": [
    "# 6 Wieviele Lösungen hat die Gleichung 20x^2 + 25x + 50 = 0 in Z/100Z?\n",
    "\n",
    "def afgb6(z):\n",
    "    x = 0\n",
    "    i = 0\n",
    "    for x in range(0,z+1):\n",
    "        if ((20*x**2) + (25*x) + 50) %z == 0:\n",
    "            i+=1\n",
    "    return i\n",
    "\n",
    "afgb6(100)"
   ]
  },
  {
   "cell_type": "code",
   "execution_count": 36,
   "metadata": {},
   "outputs": [
    {
     "name": "stdout",
     "output_type": "stream",
     "text": [
      "15\n"
     ]
    }
   ],
   "source": [
    "# 7 Für wie viele Elemente x von Z/160Z gilt x^3 = x?\n",
    "x = 0\n",
    "z = 160\n",
    "i = 0\n",
    "while x < z:\n",
    "    if (x**3)%z == x%z:\n",
    "        i += 1\n",
    "    x += 1\n",
    "print(i)"
   ]
  },
  {
   "cell_type": "code",
   "execution_count": null,
   "metadata": {},
   "outputs": [],
   "source": [
    "# 8 Sei a = 29 und b = 10^6. Die Zahl c = a^b hat deutlich mehr als eine Million Dezimalstellen. \n",
    "# Was sind die letzten beiden Ziffern von c (also die beiden ganz rechts)?\n",
    "a = 29\n",
    "b = 10\n",
    "c = a**b\n",
    "c\n",
    "\n",
    "# Lösung: 01"
   ]
  },
  {
   "cell_type": "code",
   "execution_count": 198,
   "metadata": {},
   "outputs": [],
   "source": [
    "# 9 Geben Sie von der Binärdarstellung von 10^14000 das erste und das letzte Bit an\n",
    "# Lösung: 1 vorne, 0 hinten"
   ]
  },
  {
   "cell_type": "code",
   "execution_count": 111,
   "metadata": {},
   "outputs": [
    {
     "data": {
      "text/plain": [
       "'0b1111111111010010'"
      ]
     },
     "execution_count": 111,
     "metadata": {},
     "output_type": "execute_result"
    }
   ],
   "source": [
    "# 10 Geben Sie die Binärdarstellung (Zweierkompliment) von -46 auf einem 16-Bit-Computer an.\n",
    "2**16\n",
    "# 65335\n",
    "#Um eine negative Zahl a zu konvertieren (wenn man sie konvertieren\n",
    "#kann, wenn sie also nicht zu klein ist), addiere man einfach 256 und konvertiere wie\n",
    "#üblich ins Binärsystem. Für a = −100 erhält man z.B. 156 und dann 100111002.\n",
    "bin(-46+ 2**16)"
   ]
  },
  {
   "cell_type": "code",
   "execution_count": 50,
   "metadata": {},
   "outputs": [
    {
     "data": {
      "text/plain": [
       "0"
      ]
     },
     "execution_count": 50,
     "metadata": {},
     "output_type": "execute_result"
    }
   ],
   "source": [
    "# 11 Welchen Wert hat die Variable c nach Ausführung des folgenden Codes?\n",
    "c = 0\n",
    "k = 1\n",
    "for n in range(2 ** 40):\n",
    "    c += k\n",
    "    k *= -1\n",
    "c\n",
    "# Lösung: c hat den Wert 0, weil mit c überhaupt nichts passiert"
   ]
  },
  {
   "cell_type": "code",
   "execution_count": 200,
   "metadata": {},
   "outputs": [
    {
     "data": {
      "text/plain": [
       "42"
      ]
     },
     "execution_count": 200,
     "metadata": {},
     "output_type": "execute_result"
    }
   ],
   "source": [
    "# 12 Welchen Wert hat die Variable c nach Ausführung des folgenden Codes?\n",
    "c, k = 42, 1\n",
    "for n in range(5 ** 4):\n",
    "    c += (k - 1)\n",
    "    k = (k + 1) % 3\n",
    "c\n",
    "# Lösung: c hat den Wert 42, weil k immer 1 bleibt und immer 42 + 0 bleibt"
   ]
  },
  {
   "cell_type": "code",
   "execution_count": 55,
   "metadata": {},
   "outputs": [
    {
     "data": {
      "text/plain": [
       "-1"
      ]
     },
     "execution_count": 55,
     "metadata": {},
     "output_type": "execute_result"
    }
   ],
   "source": [
    "# 13 Welchen Wert hat die Variable c nach Ausführung des folgenden Codes?\n",
    "c = -1\n",
    "for n in range(5 ** 40):\n",
    "    c += (n % 5) - 2\n",
    "c\n",
    "# Lösung: c = -1"
   ]
  },
  {
   "cell_type": "code",
   "execution_count": 71,
   "metadata": {},
   "outputs": [
    {
     "data": {
      "text/plain": [
       "0"
      ]
     },
     "execution_count": 71,
     "metadata": {},
     "output_type": "execute_result"
    }
   ],
   "source": [
    "# 14 Welchen Wert hat hat die Variable c nach Ausführung des folgenden Codes?\n",
    "c = 0\n",
    "k = 1\n",
    "for n in range(0, 3 ** 40):\n",
    "    c += (k-1)\n",
    "    k = (k + 1) % 3\n",
    "c\n",
    "# Lösung: 0"
   ]
  },
  {
   "cell_type": "code",
   "execution_count": 63,
   "metadata": {},
   "outputs": [
    {
     "name": "stdout",
     "output_type": "stream",
     "text": [
      "1\n",
      "5\n",
      "0\n"
     ]
    }
   ],
   "source": [
    "# 15 Welche der folgenden Zahlen ist durch 7 teilbar?\n",
    "# 17025(8)\n",
    "# 17137(8)\n",
    "# 17141(8)\n",
    "print(int(\"17025\", 8) % 7)\n",
    "print(int(\"17137\", 8) % 7)\n",
    "print(int(\"17141\", 8) % 7)\n",
    "\n",
    "# Lösung: 17141 ist durch 7 teilbar"
   ]
  },
  {
   "cell_type": "code",
   "execution_count": null,
   "metadata": {},
   "outputs": [],
   "source": [
    "# 16 Welche der folgenden Zahlen ist durch 11 teilbar\n",
    "# [ ] 0\n",
    "# [ ] 10^10^10\n",
    "# [ ] 10^13^13\n",
    "# [X] 10^13^13 + 1\n",
    "(10**10)//11"
   ]
  },
  {
   "cell_type": "code",
   "execution_count": 22,
   "metadata": {},
   "outputs": [
    {
     "data": {
      "text/plain": [
       "43"
      ]
     },
     "execution_count": 22,
     "metadata": {},
     "output_type": "execute_result"
    }
   ],
   "source": [
    "# 17 Geben Sie den größten gemeinsamen Teiler von 471.694.074.821, 471.766.128.373 und 471.757.130.107 an.\n",
    "# Also die Zahl, die alle 3 Zahlen teilt.\n",
    "from math import gcd\n",
    "gcd(gcd(471694074821, 471766128373), 471757130107)"
   ]
  },
  {
   "cell_type": "code",
   "execution_count": 35,
   "metadata": {},
   "outputs": [
    {
     "name": "stdout",
     "output_type": "stream",
     "text": [
      "400 - 175\n",
      "225 - 175\n",
      "175 - 50\n",
      "125 - 50\n",
      "75 - 50\n",
      "50 - 25\n"
     ]
    },
    {
     "data": {
      "text/plain": [
       "25"
      ]
     },
     "execution_count": 35,
     "metadata": {},
     "output_type": "execute_result"
    }
   ],
   "source": [
    "# 18 Der gräßte gemeinsame Teiler von 18 und 11 ist 1. Geben Sie ganze Zahlen a und b an, so dass 1 = 18a + 11b gilt\n",
    "\n",
    "#1 = 18*a + 11*b\n",
    "def gdc(a,b):\n",
    "    while a != b:\n",
    "        if a < b:\n",
    "            a,b = b,a\n",
    "        print(a, '-', b)\n",
    "        a -= b\n",
    "    return a\n",
    "gdc(400,175)"
   ]
  },
  {
   "cell_type": "code",
   "execution_count": null,
   "metadata": {},
   "outputs": [],
   "source": []
  },
  {
   "cell_type": "code",
   "execution_count": 77,
   "metadata": {},
   "outputs": [
    {
     "data": {
      "text/plain": [
       "0"
      ]
     },
     "execution_count": 77,
     "metadata": {},
     "output_type": "execute_result"
    }
   ],
   "source": [
    "# 19 Geben Sie zwei Zahlen aus Z/27Z an, deren Produkt verschwindet, \n",
    "# obwohl beide Zahlen nicht null sind. Podukt = mal\n",
    "9 * 3 % 27\n",
    "# Lösung: 9 und 3"
   ]
  },
  {
   "cell_type": "code",
   "execution_count": 79,
   "metadata": {},
   "outputs": [
    {
     "name": "stdout",
     "output_type": "stream",
     "text": [
      "13\n"
     ]
    }
   ],
   "source": [
    "# 20 Berechnen Sie den Quotienten 2/9 in Z/23.\n",
    "# Lösung: Formel umstellen nach 9 * x % 23 = 2\n",
    "x = 0\n",
    "a = 2\n",
    "b = 9\n",
    "z = 23\n",
    "\n",
    "while (b * x) % 23 != a:\n",
    "    x += 1\n",
    "print(x)"
   ]
  },
  {
   "cell_type": "code",
   "execution_count": 113,
   "metadata": {},
   "outputs": [
    {
     "data": {
      "text/plain": [
       "1"
      ]
     },
     "execution_count": 113,
     "metadata": {},
     "output_type": "execute_result"
    }
   ],
   "source": [
    "# 21 Geben Sie eine von 1 verschiedene Zahl an, \n",
    "# die in Z/24Z einen Kehrwert hat:\n",
    "5 * 5 % 24\n",
    "# Lösung: 5 weil 5*5 = 25 mod 24 = 1"
   ]
  },
  {
   "cell_type": "code",
   "execution_count": 121,
   "metadata": {},
   "outputs": [
    {
     "name": "stdout",
     "output_type": "stream",
     "text": [
      "1 1\n"
     ]
    }
   ],
   "source": [
    "# 22 Berechnen Sie den Wert (2/9)^1.000.000 in Z11\n",
    "z = (2**1000) %11\n",
    "n = (9**1000) %11\n",
    "print(z,n)\n",
    "# Lösung: 1\n",
    "# Wenn man die beiden Zahlen in mod11 hoch 1000.. nimmt kommt bei beiden\n",
    "# immer 1 raus und 1/1 = 1"
   ]
  },
  {
   "cell_type": "code",
   "execution_count": 128,
   "metadata": {},
   "outputs": [
    {
     "data": {
      "text/plain": [
       "0"
      ]
     },
     "execution_count": 128,
     "metadata": {},
     "output_type": "execute_result"
    }
   ],
   "source": [
    "# 23 Wieviele Elemente von Z/802Z sind bezüglich der Multiplikation \n",
    "# invers zu sich selbst?\n",
    "def invers(z):\n",
    "    x = 802\n",
    "    i = 0\n",
    "    while x <= z:\n",
    "        if (x**2) % z == 1:\n",
    "            i+=1\n",
    "        x+=1\n",
    "    return i\n",
    "    \n",
    "\n",
    "invers(802)\n",
    "# Invers bedeutet, dass x * x % z = 1 ergibt.\n",
    "\n",
    "# Lösung: 2"
   ]
  },
  {
   "cell_type": "code",
   "execution_count": 144,
   "metadata": {},
   "outputs": [
    {
     "data": {
      "text/plain": [
       "32"
      ]
     },
     "execution_count": 144,
     "metadata": {},
     "output_type": "execute_result"
    }
   ],
   "source": [
    "# 24 Wie viele Elemente von Z/93Z lassen sich als Quadrat\n",
    "# eines Elements von Z/93Z darstellen? \n",
    "# Beispiel: 51 ist das Quadrat von 12\n",
    "\n",
    "def afgb24(z):\n",
    "    x = 0\n",
    "    i = 0\n",
    "    a = 0\n",
    "    quadList = []\n",
    "\n",
    "    while x <= z:\n",
    "        if (x**2) % z not in quadList:\n",
    "            quadList.append(x**2 %93)\n",
    "        x += 1\n",
    "    return len(quadList)\n",
    "afgb24(93)\n",
    "\n",
    "# Lösung: 32\n",
    "# Es wird jeweils die Quadratzahl mod 93 berechnet und alles was noch nicht\n",
    "# in der Liste ist der Liste hinzugefügt. Zum Schluss werden alle Elemente\n",
    "# gezählt, die in der Liste gelandet sind. Also alle Quadratzahlen in Z93."
   ]
  },
  {
   "cell_type": "code",
   "execution_count": 1,
   "metadata": {},
   "outputs": [
    {
     "data": {
      "text/plain": [
       "4200420042"
      ]
     },
     "execution_count": 1,
     "metadata": {},
     "output_type": "execute_result"
    }
   ],
   "source": [
    "# 25 p = 2760727302517 ist eine Primzahl. \n",
    "# Geben Sie den Kehrwert von 853662459626 in Zp an.\n",
    "# Hinweis: kleiner Satz von Fermat.\n",
    "\n",
    "# p € P = p ist ein Primzahl und wir rechnen in Zp\n",
    "# gesucht war der z^-1 = 1/z = x\n",
    "# z * x = 1 mod (p)\n",
    "# z * x mod(p) = 1\n",
    "# z * x = 1 + n * p\n",
    "# Solche Formeln stehen im Kapitel Division\n",
    "# 1 = x * z - n * p\n",
    "# Da kann man den erweiterten euklidschen Algoritmus anwenden.\n",
    "\n",
    "pow(853662459626,2760727302517 -2,2760727302517)\n",
    "\n",
    "# Lösung: 2\n",
    "# Nicht sicher"
   ]
  },
  {
   "cell_type": "code",
   "execution_count": 11,
   "metadata": {},
   "outputs": [
    {
     "data": {
      "text/plain": [
       "(27, 140)"
      ]
     },
     "execution_count": 11,
     "metadata": {},
     "output_type": "execute_result"
    }
   ],
   "source": [
    "# 26 Geben Sie die kleinste positive Lösung des folgenden Kongruenzsystems an:\n",
    "# x = 2 mod 5, x = 3 mod 4, x = 6 mod 7\n",
    "from sympy.ntheory.modular import crt\n",
    "crt([5,4,7], [2,3,6])\n",
    "# Lösung: 27\n",
    "# Kleinste positive Lösung 27, größte negative wäre 27-140 also -13"
   ]
  },
  {
   "cell_type": "code",
   "execution_count": 10,
   "metadata": {},
   "outputs": [
    {
     "data": {
      "text/plain": [
       "(62, 84)"
      ]
     },
     "execution_count": 10,
     "metadata": {},
     "output_type": "execute_result"
    }
   ],
   "source": [
    "# 27 Geben Sie die größte negative Lösung des folgenden Kongruenzsystems an:\n",
    "# x = 2 mod 3, x = 2 mod 4, x = 6 mod 7\n",
    "crt([3,4,7], [2,2,6])\n",
    "# Lösung: -22  \n",
    "# -22 <- weil 62 - 84 = -22"
   ]
  },
  {
   "cell_type": "code",
   "execution_count": 18,
   "metadata": {},
   "outputs": [
    {
     "data": {
      "text/plain": [
       "(17, 140)"
      ]
     },
     "execution_count": 18,
     "metadata": {},
     "output_type": "execute_result"
    }
   ],
   "source": [
    "# 28 Für welche a hat das folgende Kongruenzsystem keine Lösung?\n",
    "# a = 9 | a = 3 | a = 6 | a = 8 | a = 5\n",
    "crt([4,5,7], [1,2,3])\n",
    "# Lösung: a = 6 und a = 8 haben keine Lösung. Einfach ausprobiert"
   ]
  },
  {
   "cell_type": "code",
   "execution_count": 20,
   "metadata": {},
   "outputs": [
    {
     "data": {
      "text/plain": [
       "{3: 2, 11: 1, 101: 1}"
      ]
     },
     "execution_count": 20,
     "metadata": {},
     "output_type": "execute_result"
    }
   ],
   "source": [
    "# 29 Kreuzen Sie die kanonische Primfaktorzerlegung von 9999 an.\n",
    "# 9 x 11 x 101\n",
    "# 3² x 10 x 111\n",
    "# 3² x 11 x 101\n",
    "# 3² x 1111\n",
    "# 3² x 11²\n",
    "# 3 x 3333\n",
    "from sympy.ntheory import factorint\n",
    "factorint(9999)\n",
    "# Lösung: 3² x 11 x 101 (das dritte)"
   ]
  },
  {
   "cell_type": "code",
   "execution_count": 6,
   "metadata": {},
   "outputs": [
    {
     "data": {
      "text/plain": [
       "181"
      ]
     },
     "execution_count": 6,
     "metadata": {},
     "output_type": "execute_result"
    }
   ],
   "source": [
    "# 30 Geben Sie die 42. Primzahl an.\n",
    "from sympy.ntheory import prime\n",
    "prime(42)\n",
    "# Lösung: 181"
   ]
  },
  {
   "cell_type": "code",
   "execution_count": 28,
   "metadata": {},
   "outputs": [
    {
     "data": {
      "text/plain": [
       "1.0"
      ]
     },
     "execution_count": 28,
     "metadata": {},
     "output_type": "execute_result"
    }
   ],
   "source": [
    "# 31 Wenn p1 bis pn die ersten n Primzahlen sind, welche der folgenden Aussagen sind dann mit Sicherheit wahr?\n",
    "# [ ] p1 x p2 .... pn ist eine Primzahl\n",
    "# [ ] 1 + p1 x p2 ... pn ist eine Primzahl\n",
    "# [X] 1 + p1 x p2 ....pn ist durch keines der pi tielbar.\n",
    "# [ ] p1 x p2 .... pn ist keine Primzahl\n",
    "\n",
    "# Lösung: C \n",
    "# Da zb 1+ 2x3x5x7 = 211 sind und 211 nicht durch 2,3,5 oder 7 teilbar ist."
   ]
  },
  {
   "cell_type": "code",
   "execution_count": 18,
   "metadata": {},
   "outputs": [
    {
     "name": "stdout",
     "output_type": "stream",
     "text": [
      "5428681.023790647\n"
     ]
    }
   ],
   "source": [
    "# 32 Wenn man π(10)^8 durch 10^8 teilt, was kommt dann ungefähr heraus?\n",
    "# Die Anzahl der Primzahlen von \n",
    "from math import *\n",
    "# Pi(10^8) / 10^8 = ln(10^8) x 1/ = 1/ln(10^8)\n",
    "print(10**8/(log(10**8)))"
   ]
  },
  {
   "cell_type": "code",
   "execution_count": 24,
   "metadata": {},
   "outputs": [
    {
     "name": "stdout",
     "output_type": "stream",
     "text": [
      "3e+12\n"
     ]
    }
   ],
   "source": [
    "# 33 Welcher der folgenden Werte ist die beste Schätzung für die Anzahl der Primzahlen bis 10^14\n",
    "# [ ] 8 x 10^11 | [X] 3 x 10^12 | [ ] 7x10^12 | [ ] 2x10^13\n",
    "\n",
    "from math import log\n",
    "print(\"%.0e\" % (10**14/log(10**14)))"
   ]
  },
  {
   "cell_type": "code",
   "execution_count": 23,
   "metadata": {},
   "outputs": [
    {
     "name": "stdout",
     "output_type": "stream",
     "text": [
      "3102103442166.0845\n"
     ]
    }
   ],
   "source": [
    "# 34 Welche der folgenden Zahlen liegt am dichtesten an der 10^14ten Primzahl\n",
    "# 7 x 10^13 | 3x10^14 | 8x10\n",
    "print(10**14/(log(10**14)))"
   ]
  },
  {
   "cell_type": "code",
   "execution_count": 12,
   "metadata": {},
   "outputs": [
    {
     "name": "stdout",
     "output_type": "stream",
     "text": [
      "4.276909229288297e+38\n"
     ]
    }
   ],
   "source": [
    "# 35 Wie viele Elemente Enthält die Menge {(p,q) : p, q € P N [0,10^21]} ungefähr?\n",
    "# [X] 4.3 x 10^38 | [X] 3.9 x 10^40 | [X] 3.6 x 10^42 | [X] 3.3 x 10^44\n",
    "\n",
    "# A = {(p,q) : p,q € P n [0,10^21]}\n",
    "# [0,10^21] ist ein Intervall. Alle Zahlen von 0 bis 10^21. 0,1,2,3,Pi... alle reellen Zahlen\n",
    "# (0,1] = ]0,1] = 0 < x <= 1\n",
    "# (0,1) = [0,1[   = 0 < x < 1\n",
    "\n",
    "# Wir suchen das Tupel von p und q\n",
    "print((10**21)/(log(10**21))*(10**21)/(log(10**21)))"
   ]
  },
  {
   "cell_type": "code",
   "execution_count": 17,
   "metadata": {},
   "outputs": [
    {
     "name": "stdout",
     "output_type": "stream",
     "text": [
      "1.8509217204924305e+19\n"
     ]
    }
   ],
   "source": [
    "# 36 Wie viele Primzahlen liegen ungefähr zwischen 10^20 und 10^21?\n",
    "# [X] 1.9 x 10^19\n",
    "# [ ] 2.1 x 10^19\n",
    "# [ ] 2.2 x 10^18\n",
    "# [ ] 1.8 x 10^20\n",
    "print((10**21/(log(10**21)))-(10**20/(log(10**20))))"
   ]
  },
  {
   "cell_type": "code",
   "execution_count": 155,
   "metadata": {},
   "outputs": [
    {
     "data": {
      "text/plain": [
       "False"
      ]
     },
     "execution_count": 155,
     "metadata": {},
     "output_type": "execute_result"
    }
   ],
   "source": [
    "# 37 Wenn man sich eine Lister aller viertstelligen Primzahlen, bei denen eine Ziffer dreimal vorkommt, anschaut,\n",
    "# dann kommt eine Ziffer in der gesamten liste nie vor. Welche ist es?\n",
    "# 7 9 6 4 3 2 8 1\n",
    "from sympy import isprime\n",
    "isprime(9000)\n",
    "# Lösung: 0\n",
    "# Weil die nullen immer hinten stehen müssen und 10er gerade sind, also\n",
    "# keine Primzahlen sien können"
   ]
  },
  {
   "cell_type": "code",
   "execution_count": 46,
   "metadata": {},
   "outputs": [
    {
     "data": {
      "text/plain": [
       "False"
      ]
     },
     "execution_count": 46,
     "metadata": {},
     "output_type": "execute_result"
    }
   ],
   "source": [
    "# 38 Wieviele Sechsstellige Primzahlen gibt es, bei denen alle 6 Ziffern identisch sind?\n",
    "from sympy.ntheory import isprime\n",
    "isprime(999999)\n",
    "# Lösung: 0\n",
    "# Ausprobiert, aber halt nur alle ungeraden Ziffern, weil gerade Zahlen immer durch 2 teilbar sind und somit wegfallen.\n",
    "# Spart Zeit"
   ]
  },
  {
   "cell_type": "code",
   "execution_count": 165,
   "metadata": {},
   "outputs": [
    {
     "data": {
      "text/plain": [
       "(7, 59, 61)"
      ]
     },
     "execution_count": 165,
     "metadata": {},
     "output_type": "execute_result"
    }
   ],
   "source": [
    "# 39 Ein Primzahlzwilling ist ein Paar von Primzahlen, deren Differenz zwei ist. \n",
    "# Der erste Primzahlzwilling ist 3,5.\n",
    "# Welches ist der 7. Primzahlzwilling\n",
    "from sympy import isprime\n",
    "isprime(7)\n",
    "\n",
    "def primeTwin(x):\n",
    "    i = 0\n",
    "    a = 3\n",
    "    b = 5\n",
    "    while i < x:\n",
    "        if isprime(a) and isprime(b):\n",
    "            i+=1\n",
    "        a+=1\n",
    "        b= a+2\n",
    "    return i,a-1,b-1\n",
    "        \n",
    "    \n",
    "primeTwin(7)\n",
    "# 2= 1 4 = 2 6 = 3 12 = 4 18 = 5 30 = 6 42 = 7\n",
    "# Lösung: 59, 61."
   ]
  },
  {
   "cell_type": "code",
   "execution_count": 167,
   "metadata": {},
   "outputs": [],
   "source": [
    "# 40 Bei welchen Zahlen gibt der Miller-Rabin-Test immer eine korrekte Antwort?\n",
    "\n",
    "# Lösung: Primzahlen"
   ]
  },
  {
   "cell_type": "code",
   "execution_count": 168,
   "metadata": {},
   "outputs": [
    {
     "data": {
      "text/plain": [
       "Fraction(26, 55)"
      ]
     },
     "execution_count": 168,
     "metadata": {},
     "output_type": "execute_result"
    }
   ],
   "source": [
    "# 41 Geben Sie die Dezimalzahl 0.4_72 = 0.47272727272 als gekürzten Bruch an:\n",
    "from fractions import Fraction\n",
    "Fraction(0.4727272727272727272).limit_denominator()\n",
    "# Lösung: 26/55 stel"
   ]
  },
  {
   "cell_type": "code",
   "execution_count": 116,
   "metadata": {},
   "outputs": [
    {
     "data": {
      "text/plain": [
       "Fraction(11, 16)"
      ]
     },
     "execution_count": 116,
     "metadata": {},
     "output_type": "execute_result"
    }
   ],
   "source": [
    "# 42 Geben Sie die Binärzahl 0.1011(2) dezimal als Bruch an\n",
    "Fraction(0b1011,0b10000)\n",
    "# Lösung: 11/16\n",
    "# Zähler bleibt Zahl, Nenner wird mit Nullen für jede Nachkommastelle\n",
    "# aufgefüllt. zum schluss wird mit 0b in dezimal konvertiert."
   ]
  },
  {
   "cell_type": "code",
   "execution_count": 169,
   "metadata": {},
   "outputs": [
    {
     "data": {
      "text/plain": [
       "Fraction(1, 6)"
      ]
     },
     "execution_count": 169,
     "metadata": {},
     "output_type": "execute_result"
    }
   ],
   "source": [
    "# 43 Geben Sie die Binärzahl 0.0_01 = 0.00101010101010101... dezimal als gekürzten Bruch an\n",
    "from fractions import Fraction\n",
    "Fraction(0b1, 0b110)\n",
    "# Lösung: 1/6\n",
    "# Selbes Spiel wie vorher, nur dass alles was periodisch ist durch 1 statt\n",
    "# 0 ersetzt wird."
   ]
  },
  {
   "cell_type": "code",
   "execution_count": 170,
   "metadata": {},
   "outputs": [
    {
     "data": {
      "text/plain": [
       "Fraction(22677, 802796)"
      ]
     },
     "execution_count": 170,
     "metadata": {},
     "output_type": "execute_result"
    }
   ],
   "source": [
    "# 44 Geben Sie die Zahl 0.7^10 in Binärdarstellung an\n",
    "a = 0.7**10\n",
    "Fraction(a).limit_denominator()\n",
    "# Lösung: 22677/802796"
   ]
  },
  {
   "cell_type": "code",
   "execution_count": 119,
   "metadata": {},
   "outputs": [],
   "source": [
    "# 45 Kreuzen Sie die Zahlen an, die man dezimal mit endlcih vielen Nachkommastellen darstellen kann:\n",
    "# [ ] 1/8 | [X] 2/5 | [X] 3/16 | [X] 21/28 (3/4) | [ ] 1/70  \n",
    "\n",
    "# Lösung: Alle Zahlen, deren Nenner im gekürzten Bruch aus den Primzahlfaktoren 2 und oder 5 besteht.\n",
    "# 2/5, 3/16, 21/28, 1/70"
   ]
  },
  {
   "cell_type": "code",
   "execution_count": 120,
   "metadata": {},
   "outputs": [],
   "source": [
    "# 46 Kreuzen Sie die Zahlen an, die man binär mit endlich vielen Nachkommastellen darstellen kann:\n",
    "\n",
    "# Lösung: 1/8 | 3/16 | 15/20 (3/4)\n",
    "# Selbes Prinzip: Alle 2er Potenzen im Nenner"
   ]
  },
  {
   "cell_type": "code",
   "execution_count": 123,
   "metadata": {},
   "outputs": [
    {
     "data": {
      "text/plain": [
       "0.7071067811865476"
      ]
     },
     "execution_count": 123,
     "metadata": {},
     "output_type": "execute_result"
    }
   ],
   "source": [
    "# 47 Kreuzen Sie die Zahlen an, die man oktal mit endlich vielen Nachkommastellen darstellen kann:\n",
    "from math import sqrt\n",
    "sqrt(Fraction(1,4))\n",
    "sqrt(Fraction(1,2))\n",
    "# Lösung: 3/8 | V1/4 | 75/200 (3/8) | "
   ]
  },
  {
   "cell_type": "code",
   "execution_count": 124,
   "metadata": {},
   "outputs": [
    {
     "data": {
      "text/plain": [
       "0.7071067811865476"
      ]
     },
     "execution_count": 124,
     "metadata": {},
     "output_type": "execute_result"
    }
   ],
   "source": [
    "# 48 Kreuzen Sie die Zahlen an, die man oktal mit endlich vielen Nachkommastellen darstellen kann:\n",
    "from math import sqrt\n",
    "sqrt(Fraction(1,4))\n",
    "sqrt(Fraction(1,2))\n",
    "# Lösung: 3/8 | V1/4 | 75/200 (3/8)"
   ]
  },
  {
   "cell_type": "code",
   "execution_count": 125,
   "metadata": {},
   "outputs": [],
   "source": [
    "# 49 Kreuzen Sie die folgenden Aussagen über das IEEE-Format an, die wahr sind:\n",
    "# [X] man kann nur endlich viele Zahlen korrekt darstellen.\n",
    "# [ ] Es wird immer so gerundet, dass die letzte Binärstelle der Mantisse gerade ist.\n",
    "# [X] Eine Maschinenzahl kann Repräsentant für verschiedene Zahlen sein\n",
    "# [X] Die Genauigkeit des double-Formats beträgt 53 Stellen"
   ]
  },
  {
   "cell_type": "code",
   "execution_count": 126,
   "metadata": {},
   "outputs": [
    {
     "data": {
      "text/plain": [
       "['Der Befehl \"!!!!!!!!!!!!!!!!!HIER\" ist entweder falsch geschrieben oder',\n",
       " 'konnte nicht gefunden werden.']"
      ]
     },
     "execution_count": 126,
     "metadata": {},
     "output_type": "execute_result"
    }
   ],
   "source": [
    "# 50 Kreuzen Sie von den folgenden Aussagen über das IEEE Format die an, die wahr sind:\n",
    "# [ ] Jede Maschinenzahl ist \"Stellverteter\" für unendlich viele rationale Zahlen\n",
    "# [ ] Jede Rationale Zahl kann beliebig gut approximiert werden.\n",
    "# [ ] Man kann nur endlich viele Zahlen korrekt darstellen.\n",
    "# [ ] Zwischen je zwei Maschinenzahlen findet man immer noch eine weitere.\n",
    "# [ ] Der Abstand zweier benachbarter Maschinenzahlen ist immer gleich.\n",
    "!!!!!!!!!!!!!!!!!!!HIER BITTE NOCHMAL NACHSCHLAGEN WIE DIE SCHEISSE GEHT!!!!!!!!!!!!!!!!!!!!!"
   ]
  },
  {
   "cell_type": "code",
   "execution_count": 127,
   "metadata": {},
   "outputs": [],
   "source": [
    "# 51 Die Zahl 2/5 sieht binär so aus: 0._0110(2). Kreuzen Sie an, welche von den folgenden Bitfolgen \n",
    "# die Mantisse (ohne hidden bit) ist, wenn diese Zahl im IEEE-Format double dargestellt wird.\n",
    "\n",
    "# [ ] 0011001100.....0011\n",
    "# [ ] 1001100110.....1001\n",
    "# [X] 1001100110.....1010\n",
    "# [ ] 0110011001.....0110\n",
    "# [ ] 1100110011.....1100\n",
    "\n",
    "# Lösung: Die Zahl wird bis zur ersten 1 nach vorn verschoben, die 1 dann als Vorkommastelle (hidden bit) ausgeblendet\n",
    "# 0.0110011... -> 1.10011... und hinten wird eine 1 abgeschnitten ...11001|1 und deshalb aufgerundet -> 11010"
   ]
  },
  {
   "cell_type": "code",
   "execution_count": 130,
   "metadata": {},
   "outputs": [
    {
     "data": {
      "text/plain": [
       "2.0"
      ]
     },
     "execution_count": 130,
     "metadata": {},
     "output_type": "execute_result"
    }
   ],
   "source": [
    "# 52 Die Zahl 4/5 sieht binär so aus: 0._1100(2). Wenn diese Zahl im IEEE-Format double dargstellt wird, welche Ziffer\n",
    "# kommt in der 52-stelligen Mantisse (ohne hidden bit) häufiger vor?\n",
    "\n",
    "# [ ] Die Eins kommt häufiger vor als die Null.\n",
    "# [ ] Die Null kommt häufiger vor als die Eins.\n",
    "# [X] Es kommen gleich viele Einsen und Nullen vor.\n",
    "\n",
    "# Lösung: 0.11001100 -> 1.10011001100... -> 10011.00110.01100.11001.10011.00110.01100.11001.10011.00110.10\n",
    "#                                             5     10   15     20   25    30    35     40   45     50   52\n",
    "# 26 Einsen, 26 Nullen.\n",
    "52/26"
   ]
  },
  {
   "cell_type": "code",
   "execution_count": 131,
   "metadata": {},
   "outputs": [],
   "source": [
    "# 53 Welche der folgenden Zahlen lassen sich im IEEE-Format double(64 Bit) exakt darstellen?\n",
    "\n",
    "# [ ] Pi | [X] 0.5 | [] 3.14 | [X] 2^-42 | [X] 2^53 -1 | 2^53 + 1\n",
    "\n",
    "# Lösung: Alle Zahlen mit höchstens 2^53-1 Stellen im Positiven und 2^53 Stellen im Negativen"
   ]
  },
  {
   "cell_type": "code",
   "execution_count": 138,
   "metadata": {},
   "outputs": [
    {
     "data": {
      "text/plain": [
       "1.4142135623730951"
      ]
     },
     "execution_count": 138,
     "metadata": {},
     "output_type": "execute_result"
    }
   ],
   "source": [
    "# 54 Welche der folgenden Zahlen lassen sich im IEEE-Format double (64-Bit) exakt darstellen?\n",
    "# [X]0.375 | [ ] 1.41 | [X] V1/4 | [ ] V2 | [ ] 2^53 + 2 | [ ] 2^53 + 3  \n",
    "sqrt(Fraction(1,4))\n",
    "sqrt(2)"
   ]
  },
  {
   "cell_type": "code",
   "execution_count": 153,
   "metadata": {},
   "outputs": [
    {
     "name": "stdout",
     "output_type": "stream",
     "text": [
      "0.75\n",
      "1.5\n",
      "3.0\n",
      "6.0\n",
      "12.0\n"
     ]
    }
   ],
   "source": [
    "x = .375\n",
    "i = 0\n",
    "while i < 5:\n",
    "    x *= 2\n",
    "    i+=1\n",
    "    print(x)"
   ]
  },
  {
   "cell_type": "code",
   "execution_count": 154,
   "metadata": {},
   "outputs": [],
   "source": [
    "# 55 Kreuen Sie die Aussagen an, die wahr sind:\n",
    "# [ ] Beim mathematischen Runden liegen die gerundeten Werte immer dichter an den tatsächlichen Zahlen als beim kaufmännischen\n",
    "# [ ] Beim mathematischen liegen die gerundeten Werte häufiger dichter an den tatsächlichen Werten als beim kaufmännischen\n",
    "# [ ] Computer verwrenden mathematisches, weil es sich leichter implementieren lässt\n",
    "# [ ] In der Deziamldarstellung ist kaufmännisches Runden genauer, in binär mathematisches\n",
    "# [X] Wenn nach IEEE 754 gerechnet wird, wird immer mathematisch gertundet\n",
    "# [ ] Wenn nach IEEE 754 gerechnet wird, wird immer kaufmännisch gerundet\n",
    "# [ ] Keine von den Aussagen ist wahr"
   ]
  },
  {
   "cell_type": "code",
   "execution_count": 155,
   "metadata": {},
   "outputs": [],
   "source": [
    "# 56 Kreuzen Sie die Zahlen an, die nicht rational sind.\n",
    "# [ ] 0.50000000...\n",
    "# [X] 0.112123123411212312341121231234...\n",
    "# [ ] 0.1121231234....1011...\n",
    "# [X] 0.318424242424242...\n",
    "# [X] 0.010010001000010000"
   ]
  },
  {
   "cell_type": "code",
   "execution_count": 159,
   "metadata": {},
   "outputs": [
    {
     "data": {
      "text/plain": [
       "11.0"
      ]
     },
     "execution_count": 159,
     "metadata": {},
     "output_type": "execute_result"
    }
   ],
   "source": [
    "# 57 Kreuzen Sie von den folgenden Zahlen die an, die irrational sind:\n",
    "# [ ] V81 | [X] V91 | [ ] V100 | [X] V101 | [X] V111 | [ ] V121\n",
    "sqrt(121)"
   ]
  },
  {
   "cell_type": "code",
   "execution_count": 163,
   "metadata": {},
   "outputs": [
    {
     "data": {
      "text/plain": [
       "5.196152422706631"
      ]
     },
     "execution_count": 163,
     "metadata": {},
     "output_type": "execute_result"
    }
   ],
   "source": [
    "# 58 Kreuzen Sie von den folgenden Zahlen die an, die irrational sind:\n",
    "# [X] V8 | [ ] V2 x V8 | [X] V3 x V3 x V3 | [ ] V81 | [X] V111 | [ ] V121\n",
    "sqrt(3) * sqrt(3) * sqrt(3)"
   ]
  },
  {
   "cell_type": "code",
   "execution_count": 4,
   "metadata": {},
   "outputs": [
    {
     "ename": "NameError",
     "evalue": "name 'Fraction' is not defined",
     "output_type": "error",
     "traceback": [
      "\u001b[1;31m---------------------------------------------------------------------------\u001b[0m",
      "\u001b[1;31mNameError\u001b[0m                                 Traceback (most recent call last)",
      "\u001b[1;32m<ipython-input-4-8c41c68d0405>\u001b[0m in \u001b[0;36m<module>\u001b[1;34m\u001b[0m\n\u001b[0;32m      1\u001b[0m \u001b[1;31m# 59 Geben Sie einen Bruch an, der sich  von V3 um weniger als 10-4 unterscheidet\u001b[0m\u001b[1;33m\u001b[0m\u001b[1;33m\u001b[0m\u001b[1;33m\u001b[0m\u001b[0m\n\u001b[1;32m----> 2\u001b[1;33m \u001b[0mFraction\u001b[0m\u001b[1;33m(\u001b[0m\u001b[0msqrt\u001b[0m\u001b[1;33m(\u001b[0m\u001b[1;36m3\u001b[0m\u001b[1;33m)\u001b[0m\u001b[1;33m)\u001b[0m\u001b[1;33m.\u001b[0m\u001b[0mlimit_denominator\u001b[0m\u001b[1;33m(\u001b[0m\u001b[1;33m)\u001b[0m\u001b[1;33m\u001b[0m\u001b[1;33m\u001b[0m\u001b[0m\n\u001b[0m\u001b[0;32m      3\u001b[0m \u001b[1;31m# Lösung: 1694157/978122\u001b[0m\u001b[1;33m\u001b[0m\u001b[1;33m\u001b[0m\u001b[1;33m\u001b[0m\u001b[0m\n",
      "\u001b[1;31mNameError\u001b[0m: name 'Fraction' is not defined"
     ]
    }
   ],
   "source": [
    "# 59 Geben Sie einen Bruch an, der sich  von V3 um weniger als 10-4 unterscheidet\n",
    "Fraction(sqrt(3)).limit_denominator()\n",
    "# Lösung: 1694157/978122"
   ]
  },
  {
   "cell_type": "code",
   "execution_count": 7,
   "metadata": {},
   "outputs": [
    {
     "data": {
      "text/plain": [
       "Fraction(930249, 416020)"
      ]
     },
     "execution_count": 7,
     "metadata": {},
     "output_type": "execute_result"
    }
   ],
   "source": [
    "# 60 Geben Sie einen Bruch an, dessen Quadrat sich um weniger als 10-² von 5 Unterscheidet.\n",
    "from fractions import Fraction\n",
    "Fraction(sqrt(5)).limit_denominator()\n",
    "# Lösung: 930249/416020"
   ]
  },
  {
   "cell_type": "code",
   "execution_count": 54,
   "metadata": {},
   "outputs": [
    {
     "name": "stdout",
     "output_type": "stream",
     "text": [
      "1.7400000000000013\n"
     ]
    }
   ],
   "source": [
    "# 61 Geben Sie einen Bruch an, der sich von 1/V3 um weniger als 10-² vunterscheidet und dessen Nenner einen kleineren Betrag\n",
    "# als 10 hat\n",
    "\n",
    "# x² = 3\n",
    "# babylonisches Wurzelziehen\n",
    "x = 0\n",
    "while sqrt(3) - x >= 10**-4:\n",
    "    x+=0.01\n",
    "print(x)\n"
   ]
  },
  {
   "cell_type": "code",
   "execution_count": 10,
   "metadata": {},
   "outputs": [
    {
     "name": "stdout",
     "output_type": "stream",
     "text": [
      "0.14159265358979312 0.16227766016837952\n"
     ]
    }
   ],
   "source": [
    "# 62 Zwischen x-3 und V10-3 liegen unendlich viele Brüche\n",
    "from math import pi\n",
    "from math import sqrt\n",
    "\n",
    "print(pi-3, (sqrt(10)-3))"
   ]
  },
  {
   "cell_type": "code",
   "execution_count": null,
   "metadata": {},
   "outputs": [],
   "source": [
    "# 63"
   ]
  },
  {
   "cell_type": "code",
   "execution_count": null,
   "metadata": {},
   "outputs": [],
   "source": []
  },
  {
   "cell_type": "code",
   "execution_count": 2,
   "metadata": {},
   "outputs": [],
   "source": [
    "def lernfortschritt(aufgaben, fehler):\n",
    "    richtig = aufgaben - fehler\n",
    "    quote = richtig/aufgaben\n",
    "    note = \"\"\n",
    "    if quote > .5:\n",
    "        note = \"Bestanden.\"\n",
    "    else:\n",
    "        note = \"Nicht Bestanden.\"\n",
    "        \n",
    "    print(richtig, \"von\", aufgaben, \"richtig gelöst.\")\n",
    "    print(\"Somit: \", note)\n",
    "    print(\"Quote: \", quote*100, \"% gelöst\")\n",
    "    print(\"Fehler:\", 100 - quote*100, \"%\")"
   ]
  },
  {
   "cell_type": "code",
   "execution_count": 3,
   "metadata": {},
   "outputs": [
    {
     "name": "stdout",
     "output_type": "stream",
     "text": [
      "55 von 63 richtig gelöst.\n",
      "Somit:  Bestanden.\n",
      "Quote:  87.3015873015873 % gelöst\n",
      "Fehler: 12.698412698412696 %\n"
     ]
    }
   ],
   "source": [
    "lernfortschritt(63,8)"
   ]
  },
  {
   "cell_type": "code",
   "execution_count": 40,
   "metadata": {},
   "outputs": [
    {
     "name": "stdout",
     "output_type": "stream",
     "text": [
      "False\n",
      "0.09090909090909091\n"
     ]
    }
   ],
   "source": [
    "# 64 Kreuzen Sie von den folgenden Mengen die an, \n",
    "# die das Element 11 enthalten\n",
    "\n",
    "# [ ] {x € Z: x² < 100}\n",
    "# 11 ist eine ganze Zahl für die gilt, dass 11² kleiner als 100 ist\n",
    "# FALSCH weil 11² = 121 ist und 121 größer als 100 ist.\n",
    "print(11**2 < 100)\n",
    "\n",
    "# {mn: m,n € P}\n",
    "# ??????\n",
    "\n",
    "# [X] {x € N: x < 100}\n",
    "# 11 ist eine natürliche Zahl für die gilt, dass 11 < 100 ist.\n",
    "# RICHTIG weil 11 kleiner als 100 ist.\n",
    "\n",
    "# [ ] Q\\R\n",
    "# Q-R sind alle Zahlen ohne die Rationalen Zahlen. \n",
    "# FALSCH da 11 eine Rationale Zahl ist, und somit nicht in der Menge.\n",
    "\n",
    "# [ ] {X € Q : x != 0 und x**-1 >= 11}\n",
    "# FALSCH\n",
    "# weil x**-1 kleiner als 11 ist.\n",
    "print(11**-1)"
   ]
  },
  {
   "cell_type": "code",
   "execution_count": 50,
   "metadata": {},
   "outputs": [
    {
     "name": "stdout",
     "output_type": "stream",
     "text": [
      "True\n",
      "False\n"
     ]
    },
    {
     "data": {
      "text/plain": [
       "False"
      ]
     },
     "execution_count": 50,
     "metadata": {},
     "output_type": "execute_result"
    }
   ],
   "source": [
    "# 65 Kreuzen Sie von den folgenden Mengen die an, die das Element 42\n",
    "# enthalten.\n",
    "\n",
    "# [X] {m-n:m,n € N}\n",
    "# Für m - n gilt dass m und n natürliche Zahlen sind.\n",
    "# RICHTIG da 11 natürliche Zahl, und wenn man natürliche Zahl abzieht,\n",
    "# bleibt natürliche Zahl übrig\n",
    "\n",
    "# [X] {x € Q: x != 0 und x*^*-1 < 1}\n",
    "# X ist keiner als 1,\n",
    "print(42**-1 < 1)\n",
    "\n",
    "# [ ] {x € Z: x² <= 49}\n",
    "# FALSCH weil 42² größer ist als 49\n",
    "print(42**2 <= 49)\n",
    "\n",
    "# [ ] {x € P: x < 100}\n",
    "from sympy import isprime\n",
    "isprime(42)\n",
    "# Falsch weil 42 keine Primzahl ist"
   ]
  },
  {
   "cell_type": "code",
   "execution_count": 52,
   "metadata": {},
   "outputs": [],
   "source": [
    "# 66 Sei A eine Menge der durch 3 teilbaren Primzahlen. Welche der folgenden\n",
    "# ist wahr.\n",
    "\n",
    "# [X] A {3}\n",
    "# Weil 3 die einzige Primzahl ist und in der Menge A vorkommt\n",
    "\n",
    "# [ ] A = P n {3n : n € N}\n",
    "# Weil n alle natürlichen Zahlen beschreibt und die Schnittmenge zwischen\n",
    "# Allen natürlichen Zahlen und den Primzahlen gesucht wird. Also sind\n",
    "# alle Primzahlen vorhanden\n",
    "# FALSCH\n",
    "\n",
    "# [ ] A = P U {3n: n € N}\n",
    "# Ist dann auch falsch weil alle natürlichen Zahlen drin bleiben.\n",
    "# FALSCH\n",
    "\n",
    "# [X] A <= P\n",
    "# Richtig weil P das Element 3 aus A enthält\n",
    "\n",
    "# A = {p€P: p mod 3 = 1}\n",
    "# Falsch weil 3 % 3 = null ist."
   ]
  },
  {
   "cell_type": "code",
   "execution_count": 7,
   "metadata": {},
   "outputs": [],
   "source": [
    "# 67 Sei A die Menge aller irrationale rellen Zahlen. Welche der\n",
    "# folgenden Aussagen ist wahr? R\\Q\n",
    "\n",
    "# [ ] A = R n Q\n",
    "# FALSCH weil Zahlen aus Q nicht drin sein dürfen (Sowas wie -1/2)\n",
    "\n",
    "# [X] A = R \\ Q\n",
    "# RICHTIG da irrationale Zahlen immer R \\ Q sind.\n",
    "\n",
    "# [ ] A = Q \\ R\n",
    "# FALSCH da Q \\ R alle reellen Zahlen ausser die irrationalen wären.\n",
    "\n",
    "# [X] A <= Q\n",
    "# RICHTIG, da Q alle Zahlen enthält und somit auch alle irrationalen Zahlen.\n",
    "\n",
    "# [ ] A n Q = 0\n",
    "# FALSCH da der Schnitt von Q und R wieder R ergeben würde.\n",
    "\n",
    "# [ ] Keine der Aussagen ist wahr\n",
    "# FALSCH da 2 und 4 richtig waren."
   ]
  },
  {
   "cell_type": "code",
   "execution_count": 34,
   "metadata": {},
   "outputs": [
    {
     "name": "stdout",
     "output_type": "stream",
     "text": [
      "2.8284271247461903\n",
      "2.8284271247461903\n",
      "True\n",
      "2.8284271247461903\n"
     ]
    }
   ],
   "source": [
    "# 68 Jeweils zwei der aufgeführten Mengen sind gleich. Finden Sie die \n",
    "# entsprechenden Paare\n",
    "\n",
    "# A = R n R\n",
    "# C = R u R\n",
    "# Begründung: Sowohl vereinigt, als auch geschnitten sind alle Elemente\n",
    "# vorhanden.\n",
    "\n",
    "# E = N u {42}\n",
    "# I = {n € N: n² <= 0}\n",
    "# Begründung: E fasst alle natürlichen Zahlen (0,1,2,3). 42 ist eh schon\n",
    "# drin.\n",
    "# I fasst alle natürlichen Zahlen die n² größer oder gleich null sind. Also\n",
    "# auch alle N, weil die kleinste natürliche Zahl 0 ist.\n",
    "\n",
    "# D = {x € Q : x² = x und x < 1}\n",
    "# x ist die Menge aller rationalen Zahlen (... -1/2, 0, 0.75, 1 ...) für \n",
    "# die gilt, dass x² = x ist und x < 1 ist.\n",
    "print(0**2 == 0 and 0 < 1)\n",
    "# Also nur 0\n",
    "\n",
    "\n",
    "# F = {x € R x² = x und x < 0}\n",
    "# x ist die Menge aller Zahlen (reell), für die gilt, dass x² = x ist\n",
    "# (also nur 0), und x kleiner als null ist. Also gar nichts, bzw. die\n",
    "# LEERE MENGE\n",
    "\n",
    "# H = {x € R: x² = 8 und x > 0}\n",
    "# x ist die Menge aller Zahlen (reell) für die gilt, dass x² = 8 ist und\n",
    "# x über 0 ist.\n",
    "print(sqrt(8))\n",
    "# G = {2V2}\n",
    "# Begründung: Sowohl die Wurzel aus 8 (x² = 8), als auch 2 x Wurzel2\n",
    "# ergeben 2.8284271247461903\n",
    "from math import sqrt\n",
    "from fractions import Fraction\n",
    "print(2* sqrt(2))\n",
    "print(sqrt(8))\n",
    "\n",
    "# B = {x € Q: x² = 8}\n",
    "# x ist die Menge aller rationalen Zahlen (... -1/2, 0, 0.75, 1 ...) für\n",
    "# die gilt, dass x² = 8 ist (2.828427...).\n",
    "# J = {x € Q: x² = 8 und x > 0}\n",
    "# x ist die Menge aller rationalen Zahlen (... -1/2, 0, 0.75, 1 ...) für\n",
    "# die gilt, dass x² = 8 ist (2.828427...) und x > 0 ist (2 x Wurzel 2)."
   ]
  },
  {
   "cell_type": "code",
   "execution_count": 36,
   "metadata": {},
   "outputs": [
    {
     "name": "stdout",
     "output_type": "stream",
     "text": [
      "True\n"
     ]
    }
   ],
   "source": [
    "# 69 Jeweils zwei der unten aufgeführten Mengen sind gleich. Finden Sie\n",
    "# die entsprechenden Paare.\n",
    "\n",
    "#### A und C ####\n",
    "# A = R U Q\n",
    "# Da R alle Zahlen umfasst und es mit den rationalen Zahlen vereinigt wird\n",
    "# kommen wieder alle Zahlen dabei raus (R).\n",
    "# C = R u R\n",
    "# Da R alle Zahlen umfasst und die gleiche Schnittmenge mit sich selbst hat,\n",
    "# kommen wieder alle Zahlen dabei raus.\n",
    "# A = R, C = R\n",
    "\n",
    "### B und ? #### \n",
    "# B = {x € Q : x² = 8} U N.\n",
    "# B vereinigt alle Zahlen in Q für die gilt dass x² = 8 ist (2.82...) und\n",
    "# alle natürlichen Zahlen (0,1,2,3,4...)\n",
    "# B = {0,1,2,2.82...,3,4...}\n",
    "\n",
    "#### I und J ###\n",
    "# I = {2V2}\n",
    "# I = {sqrt(8)}\n",
    "# J = {x € Q: x² = 8 und x > 0}\n",
    "# J = {sqrt(8)}\n",
    "\n",
    "# D = {x € Q: x² = x und x < 1}\n",
    "# x²  = x trifft nur auf 0 und 1, -1 zu, nur 0 und -1 sind kleiner als 1.\n",
    "# D = {-1, 0}\n",
    "\n",
    "# E = N \\ {-42}.\n",
    "# E sind alle natürlichen Zahlen (0,1,2,3), {-42} soll abgezogen werden,\n",
    "# ist aber eh nicht vorhanden.\n",
    "# E = {0,1,2,3,4...}\n",
    "\n",
    "# F = {x € R: x² = x und x < 0}\n",
    "# nur -1² ergibt -1 und ist kleiner als 0\n",
    "print(-1**2 == -1 and -1 < 0)\n",
    "# F = {-1}\n",
    "\n",
    "# G = {n € N: n+n = n}\n",
    "# nur 0+0 = 0.\n",
    "# G = {0}\n",
    "\n",
    "# H = {x € R : x² = 8 und x > 0}\n",
    "# H = {1}"
   ]
  },
  {
   "cell_type": "code",
   "execution_count": 37,
   "metadata": {},
   "outputs": [],
   "source": [
    "# 70 Wieviele Elemente hat die folgende Menge?\n",
    "# {(p/q) : p € Z und € N+ und |pq| <= 3}\n",
    "# für p/q gilt, dass p aus ganzen Zahlen besteht (...-1,0,1..)\n",
    "# und p nur aus positiven natürlichen Zahlen besteht (0,1,2,3)\n",
    "# und die Mächtigkeit von |pq| <= 3 ist.\n",
    "# Über q werden keinerlei Aussagen getroffen, deshalb lässt sich\n",
    "# Keine genaue Elementanzahl bestimmen.\n",
    "# Die Menge p/q hat also <= 3 Elemente."
   ]
  },
  {
   "cell_type": "code",
   "execution_count": 38,
   "metadata": {},
   "outputs": [],
   "source": [
    "# 71 Sei A = {1,2,4} und B = {2,3,4}. Wie viele Elemente hat die Menge\n",
    "# P(A) \\ P(B)\n",
    "# P(A) = { {}, {1}, {2}, {4}, {1,2}, {1,4}, {2,4}, {1,2,4} } = |7|\n",
    "# P(B) = { {}, {2}, {3}, {4}, {2,3}, {2,4}, {3,4}, {2,3,4}} = |7|\n",
    "# P(A) | P(B) = { {1}, {1,2}, {1,4}, {2,4}, {1,2,4} } = |5|\n",
    "# Lösung: 5 Elemente."
   ]
  },
  {
   "cell_type": "code",
   "execution_count": 43,
   "metadata": {},
   "outputs": [
    {
     "data": {
      "text/plain": [
       "{1, 2, 3, 4}"
      ]
     },
     "execution_count": 43,
     "metadata": {},
     "output_type": "execute_result"
    }
   ],
   "source": [
    "# 72 Sei A = {1,2,3} und B = {2,3,4}. Geben Sie ein geordnetes Paar an,\n",
    "# das Element von A² \\ B², aber nicht Element von (A\\B)² ist.\n",
    "A = {1,2,3}\n",
    "B = {2,3,4}\n",
    "A | B"
   ]
  },
  {
   "cell_type": "code",
   "execution_count": null,
   "metadata": {},
   "outputs": [],
   "source": []
  },
  {
   "cell_type": "code",
   "execution_count": 16,
   "metadata": {},
   "outputs": [
    {
     "name": "stdout",
     "output_type": "stream",
     "text": [
      "90\n",
      "20\n",
      "9\n"
     ]
    }
   ],
   "source": [
    "# 80 A, B und C sind Mengen, die jeweils 30 Elemente haben. A ∩ B hat funf Elemente, A ∩ C hat sechs\n",
    "# Elemente. Ferner sind A ∩ B und A ∩ C disjunkt und es gilt |A ∪ B ∪ C| = 70. Wie viele Elemente\n",
    "# hat B ∩ C?\n",
    "\n",
    "# 90 Elemnte insgesamt\n",
    "print (90)\n",
    "# 20 überschneiden sich, nur die zählen\n",
    "print (90-70)\n",
    "# A n B = 5\n",
    "# A n C = 6\n",
    "\n",
    "# A N B und A N C = 0\n",
    "print(90-70-6-5)\n",
    "# Da 6 und 5 schon mal wegfallen, bleibt nur der rest der 20 übrig\n",
    "\n",
    "# B n A = 9\n",
    "# Lösung: 9"
   ]
  },
  {
   "cell_type": "code",
   "execution_count": 31,
   "metadata": {},
   "outputs": [
    {
     "data": {
      "text/plain": [
       "225"
      ]
     },
     "execution_count": 31,
     "metadata": {},
     "output_type": "execute_result"
    }
   ],
   "source": [
    "# 81 Wie viele dreistellige Dezimalzahlen gibt es, bei denen entweder alle Ziffern gerade oder alle Ziffern\n",
    "# ungerade sind? Hinweis: 007 und 042 sind keine dreistelligen Zahlen\n",
    "print(4*5*5 + 5*5*5)\n",
    "# (Hunderter stellen ohne Null(2,4,6,8) + 10er stellen + 1er stellen gerade) + (hunderter + 10er + 1er ungerade)\n",
    "# Alternativ:\n",
    "print(5*5*5 + 5*5*5)-(5*5)\n",
    "# (100er Stellen gerade (0,4,6,8) + 10er + 1er gerade) + (100er + 10er + 1er ungerade) - (100er + 10er mit Nullen)\n",
    "\n",
    "# Lösung: 225"
   ]
  },
  {
   "cell_type": "code",
   "execution_count": 46,
   "metadata": {},
   "outputs": [
    {
     "name": "stdout",
     "output_type": "stream",
     "text": [
      "740\n"
     ]
    }
   ],
   "source": [
    "# 82 Wieviele dreistellige natürliche Zahlen, die mindestens eine der drei folgenden Bedingungen erfüllen, gibt es?\n",
    "A = set()\n",
    "for i in range (100,1000):\n",
    "    if (i // 100) % 2 == 1:\n",
    "        A.add(i)\n",
    "    if (i % 2) == 0:\n",
    "        A.add(i)\n",
    "    if (i % 5) == 0:\n",
    "        A.add(i)\n",
    "print(len(A))"
   ]
  },
  {
   "cell_type": "code",
   "execution_count": 48,
   "metadata": {},
   "outputs": [
    {
     "data": {
      "text/plain": [
       "1352"
      ]
     },
     "execution_count": 48,
     "metadata": {},
     "output_type": "execute_result"
    }
   ],
   "source": [
    "# 83 Wie viele verschiedene Zeichenketten der Länge 4, die mindestens eine der folgenden Bediungungen erfüllen,\n",
    "# kann man aus den 8 Buchstaben A bis H konstruieren.\n",
    "# 1. Der erste Buchstabe ist A\n",
    "# 2. Der zweite Buchstabe ist B\n",
    "# 3. Der dritte Buchstabe ist C\n",
    "(1*8*8*8) + (7*1*8*8) + (7*7*1*8)\n",
    "\n",
    "# Lösung: 1352"
   ]
  },
  {
   "cell_type": "code",
   "execution_count": 51,
   "metadata": {},
   "outputs": [
    {
     "data": {
      "text/plain": [
       "972"
      ]
     },
     "execution_count": 51,
     "metadata": {},
     "output_type": "execute_result"
    }
   ],
   "source": [
    "# 84 Wie viele verschiedene Zeichenketten der länge 4, die mindestens eine der folgenden Bedingungen erfüllen,\n",
    "# kann man aus den 6 Buchstaben A bis F konstruieren.\n",
    "(1*6*6*6) + (5*1*6*6) + (4*4*6*6)\n",
    "\n",
    "# Lösung: 972"
   ]
  },
  {
   "cell_type": "code",
   "execution_count": null,
   "metadata": {},
   "outputs": [],
   "source": [
    "# 85 Wie viele verschiedene Zeichenketten der Länge 4"
   ]
  },
  {
   "cell_type": "code",
   "execution_count": null,
   "metadata": {},
   "outputs": [],
   "source": []
  },
  {
   "cell_type": "code",
   "execution_count": 54,
   "metadata": {},
   "outputs": [
    {
     "data": {
      "text/plain": [
       "1023"
      ]
     },
     "execution_count": 54,
     "metadata": {},
     "output_type": "execute_result"
    }
   ],
   "source": [
    "# 88 Berechnen Sie die folgende Summe: 44 E k12 (k+3)\n",
    "def summ(k,m,plus):\n",
    "    k += plus\n",
    "    m += plus\n",
    "    res = 0\n",
    "    i = 0\n",
    "    for i in range (k,m+1):\n",
    "        res += i\n",
    "    return res\n",
    "summ(12,44,3)\n",
    "\n",
    "# Lösung: 1023"
   ]
  },
  {
   "cell_type": "code",
   "execution_count": 4,
   "metadata": {},
   "outputs": [
    {
     "data": {
      "text/plain": [
       "20855"
      ]
     },
     "execution_count": 4,
     "metadata": {},
     "output_type": "execute_result"
    }
   ],
   "source": [
    "# 89 Berechnen Sie die Summe 30+35+40+45+...455\n",
    "def summ02(start,end,abstand):\n",
    "    i = start\n",
    "    res = 0\n",
    "    while i <= end:\n",
    "        res += i\n",
    "        i += abstand\n",
    "    return res\n",
    "summ02(30,455,5)\n",
    "\n",
    "# Lösung: 20855"
   ]
  },
  {
   "cell_type": "code",
   "execution_count": 80,
   "metadata": {},
   "outputs": [
    {
     "data": {
      "text/plain": [
       "45"
      ]
     },
     "execution_count": 80,
     "metadata": {},
     "output_type": "execute_result"
    }
   ],
   "source": [
    "# 90 Welchen Wert muss k haben, damit n=k, m = 110, (n² + n + 1) = 425546\n",
    "# ergibt?\n",
    "\n",
    "def summ03(k,m,plus):\n",
    "    res = 0\n",
    "    n = 0\n",
    "    for n in range (k,m+1):\n",
    "        \n",
    "        res += n**2 + n + 1\n",
    "    return res\n",
    "\n",
    "def summ04(result):\n",
    "    n = 0\n",
    "    while summ03(n,110,0) != result:\n",
    "        n+= 1\n",
    "    return n\n",
    "summ04(425546)\n",
    "\n",
    "# Lösung: 45. Lass summ03 so lang durchlaufen bis das Ergebnis 425546 ist."
   ]
  },
  {
   "cell_type": "code",
   "execution_count": 87,
   "metadata": {},
   "outputs": [
    {
     "data": {
      "text/plain": [
       "Fraction(1, 9)"
      ]
     },
     "execution_count": 87,
     "metadata": {},
     "output_type": "execute_result"
    }
   ],
   "source": [
    "# 91 Geben Sie das folgende Produkt als gekürzten Bruch an:\n",
    "# k=5 m=41, k/(k+1)\n",
    "\n",
    "def afgb91(k,m):\n",
    "    res = 1\n",
    "    for i in range (k,m+1):\n",
    "        res *= i/(i+1)\n",
    "    return Fraction(res).limit_denominator()\n",
    "\n",
    "afgb91(5,44)\n",
    "\n",
    "# Lösung: 1/9"
   ]
  },
  {
   "cell_type": "code",
   "execution_count": 88,
   "metadata": {},
   "outputs": [
    {
     "data": {
      "text/plain": [
       "Fraction(3, 43)"
      ]
     },
     "execution_count": 88,
     "metadata": {},
     "output_type": "execute_result"
    }
   ],
   "source": [
    "# 92 Geben Sie das folgende Produkt als gekürzten Bruch an\n",
    "def afgb92(k,m):\n",
    "    res = 1\n",
    "    for i in range (k,m+1):\n",
    "        res *= (i**2) / ((i**2) + i)\n",
    "    return Fraction(res).limit_denominator()\n",
    "\n",
    "afgb91(3,42)\n",
    "# Lösung: 3/43"
   ]
  },
  {
   "cell_type": "code",
   "execution_count": 98,
   "metadata": {},
   "outputs": [
    {
     "data": {
      "text/plain": [
       "48"
      ]
     },
     "execution_count": 98,
     "metadata": {},
     "output_type": "execute_result"
    }
   ],
   "source": [
    "# 93 Welchen Wert hat das Produkt a x (a+a) x (a+a+a) x ...(a+a+...+a)\n",
    "# wenn es insgesamt n Faktoren gibt?\n",
    "2 * (2+2) * (2+2+2)\n",
    "from math import factorial\n",
    "factorial(3)*2**3\n",
    "\n",
    "# lösung: n!a^n. Ausprobiert. "
   ]
  },
  {
   "cell_type": "code",
   "execution_count": 99,
   "metadata": {},
   "outputs": [
    {
     "data": {
      "text/plain": [
       "32400"
      ]
     },
     "execution_count": 99,
     "metadata": {},
     "output_type": "execute_result"
    }
   ],
   "source": [
    "# 94 Durch Umsortieren der Ziffern kann man aus 234456 andere Zahlen machen,\n",
    "# z.B. 423654 oder 564234. Wie viele verschiedene Zahlen (inklusive\n",
    "# 234456) kann man auf diese Art erhalten?\n",
    "\n",
    "# 6 Ziffern, eine davon doppelt.\n",
    "5*6*6*6*5*6\n",
    "# Lösung = 32400 aber geraten."
   ]
  },
  {
   "cell_type": "code",
   "execution_count": 56,
   "metadata": {},
   "outputs": [
    {
     "data": {
      "text/plain": [
       "0"
      ]
     },
     "execution_count": 56,
     "metadata": {},
     "output_type": "execute_result"
    }
   ],
   "source": []
  },
  {
   "cell_type": "code",
   "execution_count": 4,
   "metadata": {},
   "outputs": [
    {
     "name": "stdout",
     "output_type": "stream",
     "text": [
      "45 von 62 richtig gelöst.\n",
      "Somit:  Bestanden.\n",
      "Quote:  72.58064516129032 % gelöst\n",
      "Fehler: 27.41935483870968 %\n"
     ]
    }
   ],
   "source": [
    "lernfortschritt(62,17)"
   ]
  },
  {
   "cell_type": "code",
   "execution_count": null,
   "metadata": {},
   "outputs": [],
   "source": []
  }
 ],
 "metadata": {
  "kernelspec": {
   "display_name": "Python 3",
   "language": "python",
   "name": "python3"
  },
  "language_info": {
   "codemirror_mode": {
    "name": "ipython",
    "version": 3
   },
   "file_extension": ".py",
   "mimetype": "text/x-python",
   "name": "python",
   "nbconvert_exporter": "python",
   "pygments_lexer": "ipython3",
   "version": "3.7.1"
  }
 },
 "nbformat": 4,
 "nbformat_minor": 2
}
