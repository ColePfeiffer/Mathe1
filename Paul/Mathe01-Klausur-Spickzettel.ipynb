{
 "cells": [
  {
   "cell_type": "code",
   "execution_count": 2,
   "metadata": {},
   "outputs": [],
   "source": [
    "###### Spickzettel Mathe ########\n",
    "\n",
    "# Summe = +\n",
    "# Differenz = -\n",
    "# Produkt = x\n",
    "# Quotient = :\n",
    "\n",
    "# N = natürliche Zahlen: 0,1,2,3...\n",
    "# Z = Ganze Zahlen: -1,0,1...\n",
    "# Q = rationale Zahlen: -1/2, 0.75\n",
    "# R\\Q = Irrationale Zahlen: Pi, 1._74, V2\n",
    "# R = Reelle Zahlen = Alle Zahlen"
   ]
  },
  {
   "cell_type": "code",
   "execution_count": 4,
   "metadata": {},
   "outputs": [
    {
     "data": {
      "text/plain": [
       "5"
      ]
     },
     "execution_count": 4,
     "metadata": {},
     "output_type": "execute_result"
    }
   ],
   "source": [
    "######## 5 Euklids Algorithmus ############\n",
    "\n",
    "# größten gemeinsamen Teiler herausfinden:\n",
    "from math import gcd\n",
    "gcd(20,105)\n",
    "\n",
    "# rückwärts: S."
   ]
  },
  {
   "cell_type": "code",
   "execution_count": 17,
   "metadata": {},
   "outputs": [
    {
     "data": {
      "text/plain": [
       "(37, 60)"
      ]
     },
     "execution_count": 17,
     "metadata": {},
     "output_type": "execute_result"
    }
   ],
   "source": [
    "######## 7 Chinesischer Restsatz #########\n",
    "\n",
    "# Berechnen von X = 1 mod 3, X = 1 mod 4, X = 2 mod 5\n",
    "from sympy.ntheory.modular import crt\n",
    "crt([3,4,5], [1,1,2])\n",
    "# (37, 60). 37 kleinster positiver gemeinsamer Teiler, 60 = Abstand"
   ]
  },
  {
   "cell_type": "code",
   "execution_count": 21,
   "metadata": {},
   "outputs": [
    {
     "data": {
      "text/plain": [
       "True"
      ]
     },
     "execution_count": 21,
     "metadata": {},
     "output_type": "execute_result"
    }
   ],
   "source": [
    "######## 8 Primzahlen ###########\n",
    "\n",
    "# Primzahlzerlegung einer Zahl n factorint(n)\n",
    "from sympy.ntheory import factorint\n",
    "factorint(8888)\n",
    "# {2: 3, 11: 1, 101: 1}\n",
    "\n",
    "# Pi(n)**10 = primepi(n). Gibt an, wieviele Primzahlen bis zur Zahl 1000 vorkommen\n",
    "# S.80\n",
    "from sympy import primepi\n",
    "primepi(7)\n",
    "# primepi(1000) = 168\n",
    "\n",
    "# 42. Pimzahl anzeigen mit prime(42)\n",
    "# S.83\n",
    "from sympy import prime\n",
    "prime(42)\n",
    "# Ergebnis = 181\n",
    "\n",
    "# Primzahlschätzungen\n",
    "# n/ln(n) = Pi(n)\n",
    "#\n",
    "\n",
    "####### 9 Primzahltests ########\n",
    "\n",
    "# Miller Rabin Test. Ist n Primzahl? isprime(n)\n",
    "from sympy import isprime\n",
    "isprime(4211)"
   ]
  },
  {
   "cell_type": "code",
   "execution_count": 1,
   "metadata": {},
   "outputs": [],
   "source": [
    "####### 11 Rationale Zahlen ####\n"
   ]
  },
  {
   "cell_type": "code",
   "execution_count": null,
   "metadata": {},
   "outputs": [],
   "source": []
  },
  {
   "cell_type": "code",
   "execution_count": 5,
   "metadata": {},
   "outputs": [],
   "source": [
    "####### 15 Mengen #############\n",
    "# A u B = Vereinigt (In A und oder B) \n",
    "# A | B\n",
    "\n",
    "# A n B = Schnitt (in A und B)\n",
    "# A & B\n",
    "\n",
    "# A / B = A - B. Alles was in A aber nicht in B ist.\n",
    "# A - B"
   ]
  },
  {
   "cell_type": "code",
   "execution_count": 16,
   "metadata": {},
   "outputs": [
    {
     "name": "stdout",
     "output_type": "stream",
     "text": [
      "k = 1 , m = , n = 2\n",
      "1 i + 2 n = 3 = + 3\n",
      "2 i + 2 n = 4 = + 7\n"
     ]
    },
    {
     "data": {
      "text/plain": [
       "7"
      ]
     },
     "execution_count": 16,
     "metadata": {},
     "output_type": "execute_result"
    }
   ],
   "source": [
    "####### Summenformel ############\n",
    "def sumE(k,m,n):\n",
    "    erg = 0\n",
    "    print('k =',k,', m =',', n =',n)\n",
    "    for i in range (k,m):\n",
    "        erg += (i+n)\n",
    "        print(i,'i +', n, 'n =', i+n, '= +', erg)\n",
    "    return erg\n",
    "sumE(1,3,2)"
   ]
  },
  {
   "cell_type": "code",
   "execution_count": null,
   "metadata": {},
   "outputs": [],
   "source": []
  }
 ],
 "metadata": {
  "kernelspec": {
   "display_name": "Python 3",
   "language": "python",
   "name": "python3"
  },
  "language_info": {
   "codemirror_mode": {
    "name": "ipython",
    "version": 3
   },
   "file_extension": ".py",
   "mimetype": "text/x-python",
   "name": "python",
   "nbconvert_exporter": "python",
   "pygments_lexer": "ipython3",
   "version": "3.7.1"
  }
 },
 "nbformat": 4,
 "nbformat_minor": 2
}
