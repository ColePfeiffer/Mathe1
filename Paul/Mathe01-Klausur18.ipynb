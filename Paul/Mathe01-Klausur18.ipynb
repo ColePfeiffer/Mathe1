{
 "cells": [
  {
   "cell_type": "code",
   "execution_count": 16,
   "metadata": {},
   "outputs": [
    {
     "name": "stdout",
     "output_type": "stream",
     "text": [
      "1\n",
      "49\n",
      "351\n",
      "399\n",
      "401\n",
      "449\n",
      "751\n",
      "799\n"
     ]
    },
    {
     "data": {
      "text/plain": [
       "8"
      ]
     },
     "execution_count": 16,
     "metadata": {},
     "output_type": "execute_result"
    }
   ],
   "source": [
    "# Wie viele Elemente von Z/800Z sind bezüglich der Multiplikation invers\n",
    "# zu sich selbst.\n",
    "def invers(x):\n",
    "    result = 0\n",
    "    for i in range (1,x+1):\n",
    "        if i * i % 800 == 1:\n",
    "            print(i)\n",
    "            result +=1\n",
    "    return result\n",
    "invers(800)"
   ]
  },
  {
   "cell_type": "code",
   "execution_count": 18,
   "metadata": {},
   "outputs": [
    {
     "data": {
      "text/plain": [
       "1"
      ]
     },
     "execution_count": 18,
     "metadata": {},
     "output_type": "execute_result"
    }
   ],
   "source": [
    "# p = 2760727302517 ist eine Primzahl. Geben Sie den Kehrwert von \n",
    "# 853662459626 in Zp an. Verwenden Sie dafür den Hinweis am Ende des\n",
    "# Aufgabenzettels."
   ]
  },
  {
   "cell_type": "code",
   "execution_count": 23,
   "metadata": {},
   "outputs": [],
   "source": [
    "# Kreuzen Sie die Zahlen an, die man oktal mit endlich vielen Nachkomma-\n",
    "# stellen darstellen kann:\n",
    "# [1/8], [2,5], [3,16], [15,20], [3,7].\n",
    "#   X             x        x     "
   ]
  },
  {
   "cell_type": "code",
   "execution_count": 28,
   "metadata": {},
   "outputs": [
    {
     "ename": "SyntaxError",
     "evalue": "unexpected EOF while parsing (<ipython-input-28-98b83feafd90>, line 3)",
     "output_type": "error",
     "traceback": [
      "\u001b[1;36m  File \u001b[1;32m\"<ipython-input-28-98b83feafd90>\"\u001b[1;36m, line \u001b[1;32m3\u001b[0m\n\u001b[1;33m    bin((-142)*2**16\u001b[0m\n\u001b[1;37m                    ^\u001b[0m\n\u001b[1;31mSyntaxError\u001b[0m\u001b[1;31m:\u001b[0m unexpected EOF while parsing\n"
     ]
    }
   ],
   "source": [
    "# Tragen Sie die Binärdarstellung (Zweierkompliment) von -142 auf einem\n",
    "# 16-Bit-Comuputer ein:\n",
    "bin((-142)*2**16"
   ]
  },
  {
   "cell_type": "code",
   "execution_count": 29,
   "metadata": {},
   "outputs": [],
   "source": [
    "# Sei A die Menge der ersten 50 Primzahlen und B die Menge {mn: m,n € A}.\n",
    "# Geben Sie die Mächtigkeit von B an.\n",
    "# "
   ]
  },
  {
   "cell_type": "code",
   "execution_count": 30,
   "metadata": {},
   "outputs": [],
   "source": [
    "# Den Ausdruck (1+x)**20 kann man nach dem binomischen Lehrsatz auch als\n",
    "# bla schreiben"
   ]
  },
  {
   "cell_type": "code",
   "execution_count": 31,
   "metadata": {},
   "outputs": [],
   "source": [
    "# Für "
   ]
  },
  {
   "cell_type": "code",
   "execution_count": 42,
   "metadata": {},
   "outputs": [
    {
     "data": {
      "text/plain": [
       "(17, 140)"
      ]
     },
     "execution_count": 42,
     "metadata": {},
     "output_type": "execute_result"
    }
   ],
   "source": [
    "# Für welche a hat das folgende Kongruenzsystem keine Lösung?\n",
    "from sympy.ntheory.modular import crt\n",
    "crt([4,5,7], [1,2,3])\n",
    "# a = 8, a = 6"
   ]
  },
  {
   "cell_type": "code",
   "execution_count": 43,
   "metadata": {},
   "outputs": [
    {
     "data": {
      "text/plain": [
       "Fraction(17, 22)"
      ]
     },
     "execution_count": 43,
     "metadata": {},
     "output_type": "execute_result"
    }
   ],
   "source": [
    "# Geben Sie die Dezimalzahl 0.7_72 als gekürzten Bruch an\n",
    "from fractions import Fraction\n",
    "Fraction(0.77272727272727272727272).limit_denominator()\n",
    "# 17/22"
   ]
  },
  {
   "cell_type": "code",
   "execution_count": 50,
   "metadata": {},
   "outputs": [
    {
     "data": {
      "text/plain": [
       "0"
      ]
     },
     "execution_count": 50,
     "metadata": {},
     "output_type": "execute_result"
    }
   ],
   "source": [
    "def foo():\n",
    "    k = 0\n",
    "    while True:\n",
    "        yield k\n",
    "        k+= 1\n",
    "c, s = 0,0\n",
    "for i in foo():\n",
    "    s = (s+i)%3\n",
    "    c+=1\n",
    "    return s\n",
    "\n",
    "# 0"
   ]
  },
  {
   "cell_type": "code",
   "execution_count": 64,
   "metadata": {},
   "outputs": [
    {
     "name": "stdout",
     "output_type": "stream",
     "text": [
      "20855\n"
     ]
    }
   ],
   "source": [
    "# Berechnen Sie die Summen 30+35...+455\n",
    "res = 0\n",
    "i = 30\n",
    "while i <= 455:\n",
    "    res += i\n",
    "    i += 5\n",
    "print(res)\n",
    "\n",
    "# 20855"
   ]
  },
  {
   "cell_type": "code",
   "execution_count": 65,
   "metadata": {},
   "outputs": [],
   "source": [
    "# Wieviele Teilmengen von N(Natürliche Zahlen), gibt es, die höchstens 17\n",
    "# Elemente entahlten und deren größtes Element kleiner als 19 ist.\n",
    "# A x € N : |x| <= 17 und x <19"
   ]
  },
  {
   "cell_type": "code",
   "execution_count": 66,
   "metadata": {},
   "outputs": [
    {
     "name": "stdout",
     "output_type": "stream",
     "text": [
      "11\n"
     ]
    }
   ],
   "source": [
    "# Berechnen Sie den Quotienten von 3/17 in Z23:\n",
    "# x = 17\n",
    "x = 1\n",
    "while x * 17 % 23 != 3:\n",
    "    x += 1\n",
    "print(x)\n",
    "\n",
    "# 11"
   ]
  },
  {
   "cell_type": "code",
   "execution_count": null,
   "metadata": {},
   "outputs": [],
   "source": []
  }
 ],
 "metadata": {
  "kernelspec": {
   "display_name": "Python 3",
   "language": "python",
   "name": "python3"
  },
  "language_info": {
   "codemirror_mode": {
    "name": "ipython",
    "version": 3
   },
   "file_extension": ".py",
   "mimetype": "text/x-python",
   "name": "python",
   "nbconvert_exporter": "python",
   "pygments_lexer": "ipython3",
   "version": "3.7.1"
  }
 },
 "nbformat": 4,
 "nbformat_minor": 2
}
