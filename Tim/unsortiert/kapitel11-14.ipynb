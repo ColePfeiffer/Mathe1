{
 "cells": [
  {
   "cell_type": "code",
   "execution_count": 109,
   "metadata": {},
   "outputs": [
    {
     "name": "stdout",
     "output_type": "stream",
     "text": [
      "\t Teiler gefunden: 3\n",
      "[10, 5]\n",
      "\t Teiler gefunden: 5\n",
      "[2, 1]\n",
      "[2, 1]\n",
      "\t Teiler gefunden: 3\n",
      "[-10, -5]\n",
      "\t Teiler gefunden: 5\n",
      "[-2, -1]\n",
      "[-2, -1]\n",
      "\t Teiler gefunden: 3\n",
      "[-10, -5]\n",
      "\t Teiler gefunden: 5\n",
      "[-2, -1]\n",
      "[-2, -1]\n",
      "[-2, 1]\n",
      "####\n",
      "\t Teiler gefunden: 3\n",
      "[20, 5]\n",
      "\t Teiler gefunden: 5\n",
      "[4, 1]\n",
      "Ergebnis: [4, 1]\n",
      "None\n",
      "####\n",
      "\t Teiler gefunden: 5\n",
      "[10, 1]\n",
      "[10, 1]\n"
     ]
    }
   ],
   "source": [
    "import math \n",
    "from math import gcd\n",
    "\n",
    "list = [30,15]\n",
    "\n",
    "def kuerze(list):\n",
    "    max = 0\n",
    "    i = 2\n",
    "    \n",
    "    # defines max value\n",
    "    if(math.fabs(list[0]) > math.fabs(list[1])):\n",
    "        max = int(math.fabs(list[1]))\n",
    "    elif(math.fabs(list[0]) == math.fabs(list[1])):\n",
    "        max = int(math.fabs(list[0]))\n",
    "    else:\n",
    "        max = int(math.fabs(list[0]))\n",
    "            \n",
    "    while (i <= max):\n",
    "        if(list[0] % i == 0 and list[1] % i == 0):\n",
    "            print(\"\\t Teiler gefunden: \"+str(i))\n",
    "            list[0] = list[0] // i\n",
    "            list[1] = list[1] // i\n",
    "            print(list)\n",
    "            kuerze(list)\n",
    "        elif(list[0] % -i == 0 and list[1] % -i == 0):\n",
    "            print(\"\\t Teiler gefunden: \"+str(-i))\n",
    "            list[0] = list[0] // -i\n",
    "            list[1] = list[1] // -i\n",
    "            print(list)\n",
    "            kuerze(list)\n",
    "        i = i+1\n",
    "    \n",
    "    return list\n",
    "\n",
    "# Weitz Lösung\n",
    "def lowestTerms (frac):\n",
    "    num = frac[0]\n",
    "    den = frac[1]\n",
    "    g = gcd(num, den)\n",
    "    return [num // g, den // g]\n",
    "\n",
    "print(kuerze([30,15]))\n",
    "print(kuerze([-30,-15]))\n",
    "print(kuerze([-30,-15]))\n",
    "print(lowestTerms([-30, 15]))\n",
    "\n",
    "def addiere(list1, list2):\n",
    "    \n",
    "    nenner = list1[1]*list2[1]\n",
    "    \n",
    "    listS = [(list1[0]*list2[1] + list1[1]*list2[0]), nenner]\n",
    "    listS = kuerze(listS) # kuerzen\n",
    "    print(\"Ergebnis: \"+str(listS))\n",
    "    \n",
    "def multipliziere(list1, list2):\n",
    "    \n",
    "    listS = [list1[0]*list2[0],list1[1]*list2[1]]\n",
    "    listS = kuerze(listS)\n",
    "    \n",
    "    return listS\n",
    "\n",
    "print(\"####\")\n",
    "print(addiere([30,15], [2,1]))\n",
    "print(\"####\")\n",
    "print(multipliziere([5,5],[10,1]))"
   ]
  },
  {
   "cell_type": "code",
   "execution_count": 159,
   "metadata": {},
   "outputs": [
    {
     "name": "stdout",
     "output_type": "stream",
     "text": [
      "21.3\n",
      "0.5\n",
      "1.0000000\n",
      "0.3333333\n",
      "0.9900000\n",
      "0.01\n",
      "####\n",
      "0.6666667\n",
      "0.3333333\n",
      "1.0000000\n",
      "####\n",
      "0.0000010\n",
      "0.0000010\n"
     ]
    }
   ],
   "source": [
    "from decimal import *\n",
    "\n",
    "print(Decimal('21.3'))\n",
    "print(Decimal(1/2))\n",
    "\n",
    "def round(dec):\n",
    "    return dec.quantize(Decimal('0.0000001'))\n",
    "\n",
    "round(Decimal(2/3))\n",
    "round(Decimal('0.000000005'))\n",
    "print(round(Decimal(1/3+1/3+1/3)))\n",
    "print(round(Decimal(1/3)))\n",
    "print(round(Decimal(0.33*3)))\n",
    "print(1E-2)\n",
    "\n",
    "print(\"####\")\n",
    "\n",
    "print(round(Decimal(2/3)))\n",
    "print(round(Decimal(1/3)))\n",
    "print(round(Decimal(2/3+1/3)))\n",
    "print(\"####\")\n",
    "print(round(Decimal((10**-6 *100)/100)))\n",
    "print(round(Decimal(10**-6)))"
   ]
  },
  {
   "cell_type": "code",
   "execution_count": 8,
   "metadata": {},
   "outputs": [
    {
     "name": "stdout",
     "output_type": "stream",
     "text": [
      "0.6875\n"
     ]
    },
    {
     "ename": "IndexError",
     "evalue": "list index out of range",
     "output_type": "error",
     "traceback": [
      "\u001b[1;31m---------------------------------------------------------------------------\u001b[0m",
      "\u001b[1;31mIndexError\u001b[0m                                Traceback (most recent call last)",
      "\u001b[1;32m<ipython-input-8-14ad260d5e50>\u001b[0m in \u001b[0;36m<module>\u001b[1;34m()\u001b[0m\n\u001b[0;32m     10\u001b[0m \u001b[0mprint\u001b[0m\u001b[1;33m(\u001b[0m\u001b[0mparse_bin\u001b[0m\u001b[1;33m(\u001b[0m\u001b[1;34m'0.1011'\u001b[0m\u001b[1;33m)\u001b[0m\u001b[1;33m)\u001b[0m\u001b[1;33m\u001b[0m\u001b[0m\n\u001b[0;32m     11\u001b[0m \u001b[1;33m\u001b[0m\u001b[0m\n\u001b[1;32m---> 12\u001b[1;33m \u001b[0mprint\u001b[0m\u001b[1;33m(\u001b[0m\u001b[0mparse_bin\u001b[0m\u001b[1;33m(\u001b[0m\u001b[1;34m'1011'\u001b[0m\u001b[1;33m)\u001b[0m\u001b[1;33m)\u001b[0m\u001b[1;33m\u001b[0m\u001b[0m\n\u001b[0m\u001b[0;32m     13\u001b[0m \u001b[1;33m\u001b[0m\u001b[0m\n\u001b[0;32m     14\u001b[0m \u001b[0mprint\u001b[0m\u001b[1;33m(\u001b[0m\u001b[0mparse_bin\u001b[0m\u001b[1;33m(\u001b[0m\u001b[1;34m'0.1101'\u001b[0m\u001b[1;33m)\u001b[0m\u001b[1;33m)\u001b[0m\u001b[1;33m\u001b[0m\u001b[0m\n",
      "\u001b[1;32m<ipython-input-8-14ad260d5e50>\u001b[0m in \u001b[0;36mparse_bin\u001b[1;34m(s)\u001b[0m\n\u001b[0;32m      7\u001b[0m \u001b[1;32mdef\u001b[0m \u001b[0mparse_bin\u001b[0m\u001b[1;33m(\u001b[0m\u001b[0ms\u001b[0m\u001b[1;33m)\u001b[0m\u001b[1;33m:\u001b[0m\u001b[1;33m\u001b[0m\u001b[0m\n\u001b[0;32m      8\u001b[0m     \u001b[0mt\u001b[0m \u001b[1;33m=\u001b[0m \u001b[0ms\u001b[0m\u001b[1;33m.\u001b[0m\u001b[0msplit\u001b[0m\u001b[1;33m(\u001b[0m\u001b[1;34m'.'\u001b[0m\u001b[1;33m)\u001b[0m\u001b[1;33m\u001b[0m\u001b[0m\n\u001b[1;32m----> 9\u001b[1;33m     \u001b[1;32mreturn\u001b[0m \u001b[0mint\u001b[0m\u001b[1;33m(\u001b[0m\u001b[0mt\u001b[0m\u001b[1;33m[\u001b[0m\u001b[1;36m0\u001b[0m\u001b[1;33m]\u001b[0m\u001b[1;33m,\u001b[0m \u001b[1;36m2\u001b[0m\u001b[1;33m)\u001b[0m \u001b[1;33m+\u001b[0m \u001b[0mint\u001b[0m\u001b[1;33m(\u001b[0m\u001b[0mt\u001b[0m\u001b[1;33m[\u001b[0m\u001b[1;36m1\u001b[0m\u001b[1;33m]\u001b[0m\u001b[1;33m,\u001b[0m \u001b[1;36m2\u001b[0m\u001b[1;33m)\u001b[0m \u001b[1;33m/\u001b[0m \u001b[1;36m2.\u001b[0m\u001b[1;33m**\u001b[0m\u001b[0mlen\u001b[0m\u001b[1;33m(\u001b[0m\u001b[0mt\u001b[0m\u001b[1;33m[\u001b[0m\u001b[1;36m1\u001b[0m\u001b[1;33m]\u001b[0m\u001b[1;33m)\u001b[0m\u001b[1;33m\u001b[0m\u001b[0m\n\u001b[0m\u001b[0;32m     10\u001b[0m \u001b[0mprint\u001b[0m\u001b[1;33m(\u001b[0m\u001b[0mparse_bin\u001b[0m\u001b[1;33m(\u001b[0m\u001b[1;34m'0.1011'\u001b[0m\u001b[1;33m)\u001b[0m\u001b[1;33m)\u001b[0m\u001b[1;33m\u001b[0m\u001b[0m\n\u001b[0;32m     11\u001b[0m \u001b[1;33m\u001b[0m\u001b[0m\n",
      "\u001b[1;31mIndexError\u001b[0m: list index out of range"
     ]
    }
   ],
   "source": [
    "from fractions import Fraction\n",
    "\n",
    "Fraction(0b1011, 0b100000)\n",
    "Fraction(0b10001, 0b100000)\n",
    "#Fraction(0b1011, 0b100000)\n",
    "\n",
    "def parse_bin(s):\n",
    "    t = s.split('.')\n",
    "    return int(t[0], 2) + int(t[1], 2) / 2.**len(t[1])\n",
    "print(parse_bin('0.1011'))\n",
    "\n",
    "print(parse_bin('0.1101'))\n",
    "print(0b1101 / 0b10000)\n",
    "\n",
    "print(parse_bin('0.10001'))\n",
    "print(0b10001 / 0b100000)\n",
    "\n",
    "print(parse_bin('11.0101'))\n",
    "print(0b110101 / 0b0010000)\n",
    "\n",
    "print(parse_bin('0.01010101'))\n",
    "print(0b01010101 / 0b100000000)\n",
    "\n",
    "Fraction('0.01010101')"
   ]
  },
  {
   "cell_type": "code",
   "execution_count": 7,
   "metadata": {},
   "outputs": [
    {
     "name": "stdout",
     "output_type": "stream",
     "text": [
      "1/2\n"
     ]
    },
    {
     "data": {
      "text/plain": [
       "[0, 0, 0, 1, 1, 0, 0, 1, 1, 0]"
      ]
     },
     "execution_count": 7,
     "metadata": {},
     "output_type": "execute_result"
    }
   ],
   "source": [
    "from fractions import Fraction\n",
    "\n",
    "def initialBinPlaces(x,n): #x = zahl; n = nachkommastellen\n",
    "    result = []\n",
    "    while len(result) < n: # es soll solange Ziffern hinzugefügt werden, bis n-Stellen erreicht ist\n",
    "        x = x * 2\n",
    "        if(x >= 1):\n",
    "            result.append(1)\n",
    "            x = x-1\n",
    "        else:\n",
    "            result.append(0)\n",
    "    return result\n",
    "\n",
    "print(Fraction(1,2))\n",
    "initialBinPlaces(Fraction(1,10),10)"
   ]
  },
  {
   "cell_type": "code",
   "execution_count": 18,
   "metadata": {},
   "outputs": [
    {
     "name": "stdout",
     "output_type": "stream",
     "text": [
      "yes!\n"
     ]
    },
    {
     "data": {
      "text/plain": [
       "1"
      ]
     },
     "execution_count": 18,
     "metadata": {},
     "output_type": "execute_result"
    }
   ],
   "source": [
    "#Listen und Indize\n",
    "\n",
    "a = [2,4,6,8,10]\n",
    "a[2]\n",
    "\n",
    "if(a[-0] == a[0]):\n",
    "    print(\"yes!\")\n",
    "    \n",
    "#ganze Stücke\n",
    "\n",
    "a[1:4] #4,6,8\n",
    "a[1:-2] #4,6\n",
    "a.index(4)"
   ]
  },
  {
   "cell_type": "code",
   "execution_count": 3,
   "metadata": {},
   "outputs": [
    {
     "name": "stdout",
     "output_type": "stream",
     "text": [
      "3602879701896397/36028797018963968\n",
      "0.1000000000000000055511151231257827021181583404541015625\n"
     ]
    }
   ],
   "source": [
    "from fractions import Fraction\n",
    "from decimal import *\n",
    "\n",
    "def binPlaces(x): #x = zahl; n = nachkommastellen\n",
    "    \n",
    "    pastNumbers = []\n",
    "    start = []\n",
    "    periodic = []\n",
    "    \n",
    "    while x > 0:\n",
    "        \n",
    "        if x in pastNumbers:\n",
    "            cut = pastNumbers.index(x)\n",
    "            periodic = start[cut:] #punkt hinten - ab cut, aber alles nach hinten!\n",
    "            start = start[:cut] #punkt vorne - von Anfang an bis cut!\n",
    "            break\n",
    "            \n",
    "        pastNumbers.append(x)\n",
    "        x = x*2\n",
    "        if x >= 1:\n",
    "            start.append(1)\n",
    "            x = x-1\n",
    "        else:\n",
    "            start.append(0)\n",
    "            \n",
    "    return start, periodic\n",
    "    \n",
    "binPlaces(Fraction(1,5))\n",
    "\n",
    "binPlaces(Decimal('0.3'))\n",
    "binPlaces(0.1) #geht nicht, weil bereits in IEEE umgewandelt wurde\n",
    "\n",
    "print(Fraction.from_float(0.1)) # Gibt den gekürzten Bruch in Dezimaldarstellung an\n",
    "print(Decimal.from_float(0.1)) # Gibt den gekürzten Bruch als Dezimalzahl aus, im Prinzip dasselbe wie davor, nur halt ausgerechnet...\n",
    "\n"
   ]
  },
  {
   "cell_type": "code",
   "execution_count": 43,
   "metadata": {},
   "outputs": [
    {
     "name": "stdout",
     "output_type": "stream",
     "text": [
      "25\n",
      "25\n"
     ]
    }
   ],
   "source": [
    "s = 0\n",
    "L = [1,2,3,4,5,5,4,3,2,1]\n",
    "L.remove(5)\n",
    "for i in L:\n",
    "    s += i\n",
    "    \n",
    "print(1+2+3+4+5+4+3+2+1)\n",
    "print(s)"
   ]
  },
  {
   "cell_type": "code",
   "execution_count": 51,
   "metadata": {},
   "outputs": [
    {
     "data": {
      "text/plain": [
       "Fraction(3, 10)"
      ]
     },
     "execution_count": 51,
     "metadata": {},
     "output_type": "execute_result"
    }
   ],
   "source": [
    "Fraction(300, 1000) # zum kürzen"
   ]
  },
  {
   "cell_type": "code",
   "execution_count": 85,
   "metadata": {},
   "outputs": [
    {
     "name": "stdout",
     "output_type": "stream",
     "text": [
      "9.539392014169456\n"
     ]
    },
    {
     "data": {
      "text/plain": [
       "2.8284271247461903"
      ]
     },
     "execution_count": 85,
     "metadata": {},
     "output_type": "execute_result"
    }
   ],
   "source": [
    "import math\n",
    "\n",
    "Fraction(2**53+1)\n",
    "Fraction(math.sqrt(91))\n",
    "print(5370200290044331/562949953421312)\n",
    "math.sqrt(91)\n",
    "\n",
    "\n",
    "\n",
    "#Fraction(math.sqrt(9))\n",
    "\n",
    "#print(1592262918131443 // 16777216)\n",
    "#print(2**53-1)\n",
    "\n",
    "math.sqrt(8)"
   ]
  },
  {
   "cell_type": "code",
   "execution_count": null,
   "metadata": {},
   "outputs": [],
   "source": [
    "Fraction(9007199254740991, 1)"
   ]
  }
 ],
 "metadata": {
  "kernelspec": {
   "display_name": "Python 3",
   "language": "python",
   "name": "python3"
  },
  "language_info": {
   "codemirror_mode": {
    "name": "ipython",
    "version": 3
   },
   "file_extension": ".py",
   "mimetype": "text/x-python",
   "name": "python",
   "nbconvert_exporter": "python",
   "pygments_lexer": "ipython3",
   "version": "3.6.5"
  }
 },
 "nbformat": 4,
 "nbformat_minor": 2
}
