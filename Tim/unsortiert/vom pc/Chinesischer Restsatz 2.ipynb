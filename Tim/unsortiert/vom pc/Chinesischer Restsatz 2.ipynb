{
 "cells": [
  {
   "cell_type": "code",
   "execution_count": null,
   "metadata": {},
   "outputs": [],
   "source": [
    "#Chinesischer Restsatz\n",
    "\n",
    "def chinR(a1, m1, a2, m2, a3, m3):\n",
    "    n = m1 * m2 * m3\n",
    "    \n",
    "    n1 = n // m1\n",
    "    n2 = n // m2\n",
    "    n3 = n // m3\n",
    "    \n",
    "    print(n1)\n",
    "    print(n2)\n",
    "    print(n3)\n",
    "    \n",
    "    solver(n1,m1)\n",
    "    solver(n2,m2)\n",
    "    #solver(n3,m3)\n",
    "    \n",
    "    return 0\n",
    "\n",
    "def solver(n,m):\n",
    "    xn = m-1\n",
    "    x = 1\n",
    "    found = 0\n",
    "    \n",
    "    while(x >= xn):\n",
    "        print(str(x)+\" * \"+str(n)+\" % \"+str(m)+\" = \"+str((x * n) % m))\n",
    "        \n",
    "        if(((x * n) % m) == 1):\n",
    "            return x\n",
    "        else:\n",
    "            return \"error\"\n",
    "\n",
    "chinR(1,10,2,3,6,7)\n",
    "    \n",
    "    "
   ]
  },
  {
   "cell_type": "code",
   "execution_count": null,
   "metadata": {},
   "outputs": [],
   "source": [
    "print(\"555\")"
   ]
  },
  {
   "cell_type": "code",
   "execution_count": null,
   "metadata": {},
   "outputs": [],
   "source": []
  }
 ],
 "metadata": {
  "kernelspec": {
   "display_name": "Python 3",
   "language": "python",
   "name": "python3"
  },
  "language_info": {
   "codemirror_mode": {
    "name": "ipython",
    "version": 3
   },
   "file_extension": ".py",
   "mimetype": "text/x-python",
   "name": "python",
   "nbconvert_exporter": "python",
   "pygments_lexer": "ipython3",
   "version": "3.6.5"
  }
 },
 "nbformat": 4,
 "nbformat_minor": 2
}
