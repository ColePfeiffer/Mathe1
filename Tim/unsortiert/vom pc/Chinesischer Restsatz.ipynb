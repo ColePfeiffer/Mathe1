{
 "cells": [
  {
   "cell_type": "code",
   "execution_count": 27,
   "metadata": {},
   "outputs": [
    {
     "name": "stdout",
     "output_type": "stream",
     "text": [
      "\n",
      "Step 1: \n",
      "\n",
      "\tn: 210\n",
      "\tn1: 21\n",
      "\tn2: 70\n",
      "\tn2: 30\n",
      "\n",
      "Step 2:\n",
      "\t1 * 21 % 10 = 1\n",
      "\t________________\n",
      "\t1 * 70 % 3 = 1\n",
      "\t________________\n",
      "\t1 * 30 % 7 = 2\n",
      "\t2 * 30 % 7 = 4\n",
      "\t3 * 30 % 7 = 6\n",
      "\t4 * 30 % 7 = 1\n",
      "\t________________\n",
      "\n",
      "Step 3:\n",
      "\tResult: 881\n",
      "\n",
      "Step 4:\n",
      "\tSmallest Result: 41\n"
     ]
    },
    {
     "data": {
      "text/plain": [
       "41"
      ]
     },
     "execution_count": 27,
     "metadata": {},
     "output_type": "execute_result"
    }
   ],
   "source": [
    "#Chinesischer Restsatz\n",
    "\n",
    "def chinR(a1, m1, a2, m2, a3, m3):\n",
    "    n = m1 * m2 * m3\n",
    "    \n",
    "    n1 = n // m1\n",
    "    n2 = n // m2\n",
    "    n3 = n // m3\n",
    "    \n",
    "    print(\"\\nStep 1: \\n\\n\\tn: \"+str(n)+\"\\n\\tn1: \"+str(n1)+\"\\n\\tn2: \"+str(n2)+\"\\n\\tn2: \"+str(n3))\n",
    "    \n",
    "    print(\"\\nStep 2:\")\n",
    "    x1 = findX(n1,m1)\n",
    "    x2 = findX(n2,m2)\n",
    "    x3 = findX(n3,m3)\n",
    "        \n",
    "    print(\"\\nStep 3:\")\n",
    "    result = a1*x1*n1 + a2*x2*n2 + a3*x3*n3\n",
    "    print(\"\\tResult: \"+str(result))\n",
    "    \n",
    "    smallestResult = result\n",
    "    \n",
    "    while((smallestResult - n) > 0):\n",
    "        smallestResult = smallestResult - n\n",
    "    \n",
    "    print(\"\\nStep 4:\")\n",
    "    print(\"\\tSmallest Result: \"+str(smallestResult))\n",
    "    return smallestResult\n",
    "\n",
    "def findX(n,m):\n",
    "\n",
    "    xn = m-1\n",
    "    x = 1\n",
    "    found = 0\n",
    "        \n",
    "    while(x != xn):\n",
    "        print(\"\\t\"+str(x)+\" * \"+str(n)+\" % \"+str(m)+\" = \"+str((x * n) % m))\n",
    "        \n",
    "        if(((x * n) % m) == 1):\n",
    "            print(\"\\t________________\")\n",
    "            return x\n",
    "        else:\n",
    "            x = x+1\n",
    "\n",
    "chinR(1,10,2,3,6,7)\n",
    "    \n",
    "    "
   ]
  },
  {
   "cell_type": "code",
   "execution_count": null,
   "metadata": {},
   "outputs": [],
   "source": []
  },
  {
   "cell_type": "code",
   "execution_count": null,
   "metadata": {},
   "outputs": [],
   "source": []
  }
 ],
 "metadata": {
  "kernelspec": {
   "display_name": "Python 3",
   "language": "python",
   "name": "python3"
  },
  "language_info": {
   "codemirror_mode": {
    "name": "ipython",
    "version": 3
   },
   "file_extension": ".py",
   "mimetype": "text/x-python",
   "name": "python",
   "nbconvert_exporter": "python",
   "pygments_lexer": "ipython3",
   "version": "3.6.5"
  }
 },
 "nbformat": 4,
 "nbformat_minor": 2
}
