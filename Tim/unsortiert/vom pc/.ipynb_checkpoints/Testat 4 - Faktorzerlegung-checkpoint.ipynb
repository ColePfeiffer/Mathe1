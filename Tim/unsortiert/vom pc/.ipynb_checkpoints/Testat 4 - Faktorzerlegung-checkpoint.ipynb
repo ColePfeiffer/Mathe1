{
 "cells": [
  {
   "cell_type": "code",
   "execution_count": 67,
   "metadata": {},
   "outputs": [
    {
     "name": "stdout",
     "output_type": "stream",
     "text": [
      "1/72 \t= \t1 * 1/8 - 1 * 1/9 \n",
      "\t= \t1/8 - 1/9\n",
      "\n",
      "\n",
      "4/45 \t= \t8 * 1/9 - 4 * 1/5 \n",
      "\t= \t8/9 - 4/5\n",
      "\n",
      "\n",
      "5/6 \t= \t3 * 1/2 - 2 * 1/3 \n",
      "\t= \t3/2 - 2/3\n"
     ]
    }
   ],
   "source": [
    "from sympy import *\n",
    "from collections import *\n",
    "from fractions import Fraction\n",
    "\n",
    "# see output for return value\n",
    "def primeFact(n): \n",
    "    \n",
    "    i = 1\n",
    "    currentPrime = 2\n",
    "   \n",
    "    #all prime factors, may contain duplicates\n",
    "    factorsAllOccurrences = [] \n",
    "    \n",
    "    #aux var: contains all prime factors that occurred but without duplicates\n",
    "    factorsSeen = [] \n",
    "    \n",
    "    # will contain objects like [a, b, c],\n",
    "    # where b is a prime number and c is the potency of said prime number\n",
    "    # a is (b**c) for easier access \n",
    "    output = []\n",
    "    \n",
    "    if(n % 2 == 0):\n",
    "        factorsSeen.append(currentPrime)\n",
    "    \n",
    "    while (n != 1):\n",
    "\n",
    "        if(n % currentPrime == 0):\n",
    "            n = n // currentPrime\n",
    "            factorsAllOccurrences.append(currentPrime)           \n",
    "        else:            \n",
    "            i += 1    \n",
    "            currentPrime = prime(i)\n",
    "            factorsSeen.append(currentPrime)    \n",
    "    \n",
    "    # fills output through counting how often a certain prime number occurred \n",
    "    for f in factorsSeen:\n",
    "        output.append([f**factorsAllOccurrences.count(f), f, factorsAllOccurrences.count(f)])\n",
    "   \n",
    "    return output\n",
    "\n",
    "#print(primeFact(72))\n",
    "#print(primeFact(45))\n",
    "\n",
    "def test(z,n):\n",
    "    primeFactorized = primeFact(n)\n",
    "    \n",
    "    #starting values\n",
    "    a = 1 \n",
    "    b = 1\n",
    "    \n",
    "    while (Fraction(z,n) !=   \n",
    "           a * Fraction(1, primeFactorized[0][0]) - \n",
    "           b * Fraction(1, primeFactorized[1][0])):\n",
    "        if(Fraction(z,n) <   \n",
    "           a * Fraction(1, primeFactorized[0][0]) - \n",
    "           b * Fraction(1, primeFactorized[1][0])):\n",
    "            b += 1\n",
    "        else:\n",
    "            a += 1\n",
    "        \n",
    "    return \"{0} \\t= \\t{1} * {2} - {3} * {4} \\n\\t= \\t{5} - {6}\".format(\n",
    "        Fraction(z,n),\n",
    "        a,\n",
    "        Fraction(1,primeFactorized[0][0]),\n",
    "        b,\n",
    "        Fraction(1,primeFactorized[1][0]),\n",
    "        a * Fraction(1, primeFactorized[0][0]),\n",
    "        b * Fraction(1,primeFactorized[1][0]))\n",
    "\n",
    "print(test(1,72)+\"\\n\\n\")\n",
    "print(test(4,45)+\"\\n\\n\")\n",
    "print(test(5,6))"
   ]
  },
  {
   "cell_type": "code",
   "execution_count": null,
   "metadata": {},
   "outputs": [],
   "source": []
  }
 ],
 "metadata": {
  "kernelspec": {
   "display_name": "Python 3",
   "language": "python",
   "name": "python3"
  },
  "language_info": {
   "codemirror_mode": {
    "name": "ipython",
    "version": 3
   },
   "file_extension": ".py",
   "mimetype": "text/x-python",
   "name": "python",
   "nbconvert_exporter": "python",
   "pygments_lexer": "ipython3",
   "version": "3.6.5"
  }
 },
 "nbformat": 4,
 "nbformat_minor": 2
}
