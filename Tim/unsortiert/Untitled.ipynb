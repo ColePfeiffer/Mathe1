{
 "cells": [
  {
   "cell_type": "code",
   "execution_count": 3,
   "metadata": {},
   "outputs": [
    {
     "name": "stdout",
     "output_type": "stream",
     "text": [
      "\n",
      "Step 1: \n",
      "\n",
      "\tn: 210\n",
      "\tn1: 21\n",
      "\tn2: 70\n",
      "\tn2: 30\n",
      "\n",
      "Step 2:\n",
      "\t1 * 21 % 10 = 1\n",
      "\t________________\n",
      "\t1 * 70 % 3 = 1\n",
      "\t________________\n",
      "\t1 * 30 % 7 = 2\n",
      "\t2 * 30 % 7 = 4\n",
      "\t3 * 30 % 7 = 6\n",
      "\t4 * 30 % 7 = 1\n",
      "\t________________\n",
      "\n",
      "Step 3:\n",
      "\tResult: 881\n",
      "\n",
      "Step 4:\n",
      "\tSmallest Result: 41\n"
     ]
    },
    {
     "data": {
      "text/plain": [
       "41"
      ]
     },
     "execution_count": 3,
     "metadata": {},
     "output_type": "execute_result"
    }
   ],
   "source": [
    "#Chinesischer Restsatz\n",
    "\n",
    "def chinR(a1, m1, a2, m2, a3, m3):\n",
    "    n = m1 * m2 * m3\n",
    "    \n",
    "    n1 = n // m1\n",
    "    n2 = n // m2\n",
    "    n3 = n // m3\n",
    "    \n",
    "    print(\"\\nStep 1: \\n\\n\\tn: \"+str(n)+\"\\n\\tn1: \"+str(n1)+\"\\n\\tn2: \"+str(n2)+\"\\n\\tn2: \"+str(n3))\n",
    "    \n",
    "    print(\"\\nStep 2:\")\n",
    "\n",
    "    x1 = findX(n1,m1)\n",
    "    x2 = findX(n2,m2)\n",
    "    x3 = findX(n3,m3)\n",
    "        \n",
    "    print(\"\\nStep 3:\")\n",
    "    result = a1*x1*n1 + a2*x2*n2 + a3*x3*n3\n",
    "    print(\"\\tResult: \"+str(result))\n",
    "    \n",
    "    smallestResult = result\n",
    "    \n",
    "    while((smallestResult - n) > 0):\n",
    "        smallestResult = smallestResult - n\n",
    "    \n",
    "    print(\"\\nStep 4:\")\n",
    "    print(\"\\tSmallest Result: \"+str(smallestResult))\n",
    "    return smallestResult\n",
    "\n",
    "def findX(n,m):\n",
    "\n",
    "    xn = m-1\n",
    "    x = 1\n",
    "    found = 0\n",
    "        \n",
    "    while(x != xn):\n",
    "        print(\"\\t\"+str(x)+\" * \"+str(n)+\" % \"+str(m)+\" = \"+str((x * n) % m))\n",
    "        \n",
    "        if(((x * n) % m) == 1):\n",
    "            print(\"\\t________________\")\n",
    "            return x\n",
    "        else:\n",
    "            x = x+1\n",
    "\n",
    "chinR(1,10,2,3,6,7)"
   ]
  },
  {
   "cell_type": "code",
   "execution_count": 21,
   "metadata": {},
   "outputs": [
    {
     "data": {
      "text/plain": [
       "(41, 210)"
      ]
     },
     "execution_count": 21,
     "metadata": {},
     "output_type": "execute_result"
    }
   ],
   "source": [
    "from sympy.ntheory.modular import crt\n",
    "\n",
    "crt([10,3,7], [1,2,6])\n"
   ]
  },
  {
   "cell_type": "code",
   "execution_count": 110,
   "metadata": {},
   "outputs": [
    {
     "name": "stdout",
     "output_type": "stream",
     "text": [
      "2 * 2 * 2 * 3 * 5 * 5 * 7 = 4200\n",
      "2^3 * 3^1 * 5^2 * 7^1 * \n"
     ]
    }
   ],
   "source": [
    "def isPrime(z):\n",
    "    if z <= 1:\n",
    "        return False\n",
    "    else:\n",
    "        for i in range(2,z):\n",
    "            if(z % i == 0):\n",
    "                return False\n",
    "            \n",
    "    return True\n",
    "            \n",
    "isPrime(5)\n",
    "\n",
    "#12\n",
    "\n",
    "def okcool(n):\n",
    "    \n",
    "    list = []\n",
    "    \n",
    "    if(isPrime(n) == False):\n",
    "        \n",
    "        for i in range(2,n):\n",
    "            while(n % i == 0):\n",
    "                if(isPrime(i)):\n",
    "                    list.append(i)\n",
    "                    n = n // i\n",
    "                else:\n",
    "                    print(\"keine Primzahl\")\n",
    "        \n",
    "        numbers = \"\"\n",
    "        result = 1\n",
    "        \n",
    "        primfz = []\n",
    "        \n",
    "        list.sort()\n",
    "        \n",
    "        index = 0\n",
    "        for i in list:\n",
    "            \n",
    "            if(index==0):\n",
    "                primfz.append((i, 1))\n",
    "            else:\n",
    "                (key, value) = primfz[len(primfz)-1]\n",
    "                if key == i:\n",
    "                    primfz[len(primfz)-1] = (key, value+1)\n",
    "                else:\n",
    "                    primfz.append((i, 1))\n",
    "\n",
    "            numbers += str(i)\n",
    "            if i < len(list):\n",
    "                numbers += \" * \"\n",
    "            result = result * i\n",
    "            \n",
    "            index = index+1\n",
    "        \n",
    "        numbers += \" = \"\n",
    "        print(str(numbers)+str(result))\n",
    "        \n",
    "        #Kanonische Primfaktorzerlegung\n",
    "        ausgabe = \"\"\n",
    "        for i in primfz:\n",
    "            (key, value) = i\n",
    "            ausgabe += str(key)+\"^\"+str(value)+\" * \"\n",
    "        \n",
    "        print(ausgabe)\n",
    "        \n",
    "    else:\n",
    "        return \"Bereits eine Primzahl!\"\n",
    "    \n",
    "okcool(4200)"
   ]
  },
  {
   "cell_type": "code",
   "execution_count": 113,
   "metadata": {},
   "outputs": [
    {
     "name": "stdout",
     "output_type": "stream",
     "text": [
      "yo\n"
     ]
    }
   ],
   "source": [
    "if 4 in [3,4,[5,6],7]:\n",
    "    print(\"yo\")"
   ]
  },
  {
   "cell_type": "code",
   "execution_count": 116,
   "metadata": {},
   "outputs": [
    {
     "data": {
      "text/plain": [
       "[5, 43, 6]"
      ]
     },
     "execution_count": 116,
     "metadata": {},
     "output_type": "execute_result"
    }
   ],
   "source": [
    "a = [43, 5, 43, 6]\n",
    "a.remove(43)\n",
    "a"
   ]
  },
  {
   "cell_type": "code",
   "execution_count": 125,
   "metadata": {},
   "outputs": [
    {
     "name": "stdout",
     "output_type": "stream",
     "text": [
      "-141\n",
      "(17, 126)\n",
      "-109\n",
      "(23, 24)\n",
      "-1\n"
     ]
    }
   ],
   "source": [
    "from sympy.ntheory.modular import crt\n",
    "\n",
    "crt([9,5,11], [3,4,2])\n",
    "print(354-495)\n",
    "\n",
    "print(crt([2,9,7], [1,8,3]))\n",
    "print(17-126)\n",
    "\n",
    "print(crt([3,4,8], [2,3,7]))\n",
    "print(23-24)\n"
   ]
  },
  {
   "cell_type": "code",
   "execution_count": 159,
   "metadata": {},
   "outputs": [
    {
     "name": "stdout",
     "output_type": "stream",
     "text": [
      "3 and 5\n",
      "5 and 7\n",
      "11 and 13\n",
      "17 and 19\n",
      "29 and 31\n",
      "41 and 43\n",
      "59 and 61\n",
      "71 and 73\n",
      "7\n"
     ]
    }
   ],
   "source": [
    "from sympy import isprime, prime\n",
    "\n",
    "def twinTest(start, end):\n",
    "    for i in range(start, end):\n",
    "        j = i+2\n",
    "        if(isprime(i) and isprime(j)):\n",
    "            print(\"{:d} and {:d}\".format(i, j))\n",
    "            \n",
    "twinTest(2,100)\n",
    "\n",
    "#n-te primzahl berechnen mit sympy\n",
    "\n",
    "print(prime(4))"
   ]
  },
  {
   "cell_type": "code",
   "execution_count": 204,
   "metadata": {},
   "outputs": [
    {
     "name": "stdout",
     "output_type": "stream",
     "text": [
      "(23, 24)\n",
      "-1\n",
      "3 5\n",
      "5 7\n",
      "11 13\n",
      "17 19\n",
      "29 31\n",
      "41 43\n",
      "59 61\n",
      "71 73\n",
      "101 103\n",
      "107 109\n",
      "137 139\n",
      "149 151\n",
      "179 181\n",
      "191 193\n",
      "197 199\n",
      "2\n",
      "3\n",
      "3 5\n",
      "(3, 5)\n",
      "(3, 5)\n"
     ]
    },
    {
     "data": {
      "text/plain": [
       "1"
      ]
     },
     "execution_count": 204,
     "metadata": {},
     "output_type": "execute_result"
    }
   ],
   "source": [
    "from sympy import isprime, prime\n",
    "from sympy.ntheory.modular import crt\n",
    "\n",
    "print(crt([3,4,8], [2,3,7]))\n",
    "print(23-24)\n",
    "\n",
    "def gimmeTwins(start,end):\n",
    "    for i in range(start,end):\n",
    "        j = i+2\n",
    "        if(isprime(i) and isprime(j)):\n",
    "            print(i,j)\n",
    "            \n",
    "gimmeTwins(2,200)\n",
    "\n",
    "for i in range(1,3):\n",
    "    print(prime(i))\n",
    "    \n",
    "def gimmeTwinsBiggerThanN(n):\n",
    "    for i in range(n+1,n+100000000):\n",
    "        j = i+2\n",
    "        if(isprime(i) and isprime(j)):\n",
    "            print(i,j)\n",
    "            return (i,j)\n",
    "            \n",
    "print(gimmeTwinsBiggerThanN(1))\n",
    "        \n",
    "def btTWeitz(n):\n",
    "    if n % 2 == 0:\n",
    "        n += 1\n",
    "    while True:\n",
    "        if isprime(n) and isprime(n+2):\n",
    "            return n, n+2\n",
    "        n += 2\n",
    "\n",
    "print(btTWeitz(1))\n",
    "\n",
    "[[a**(p-1) % p for a in range(p)] for p in [2,3,5,7,11]]\n",
    "\n",
    "def fermatTester(a, prim):\n",
    "    if(isprime(prim)):\n",
    "        return (a ** (prim-1)) % prim\n",
    "    else:\n",
    "        return \"prim ist keine primzahl\"\n",
    "\n",
    "fermatTester(5,17)\n",
    "        \n",
    "                        "
   ]
  },
  {
   "cell_type": "code",
   "execution_count": null,
   "metadata": {},
   "outputs": [],
   "source": []
  },
  {
   "cell_type": "code",
   "execution_count": null,
   "metadata": {},
   "outputs": [],
   "source": []
  }
 ],
 "metadata": {
  "kernelspec": {
   "display_name": "Python 3",
   "language": "python",
   "name": "python3"
  },
  "language_info": {
   "codemirror_mode": {
    "name": "ipython",
    "version": 3
   },
   "file_extension": ".py",
   "mimetype": "text/x-python",
   "name": "python",
   "nbconvert_exporter": "python",
   "pygments_lexer": "ipython3",
   "version": "3.6.5"
  }
 },
 "nbformat": 4,
 "nbformat_minor": 2
}
