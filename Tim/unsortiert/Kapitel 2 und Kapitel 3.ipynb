{
 "cells": [
  {
   "cell_type": "code",
   "execution_count": 139,
   "metadata": {},
   "outputs": [
    {
     "name": "stdout",
     "output_type": "stream",
     "text": [
      "27\n",
      "11\n",
      "297\n",
      "6\n",
      "6.0\n"
     ]
    }
   ],
   "source": [
    "# Aufgabe 21\n",
    "\n",
    "    # 9999 = 9999\n",
    "    # 1111 = 8 + 4 + 2 + 1 = 15\n",
    "\n",
    "# Aufgabe 22\n",
    "    # 2^n -1\n",
    "\n",
    "# Aufgabe 23\n",
    "    # log2k\n",
    "    \n",
    "#Aufgabe 24\n",
    "\n",
    "print(0b11011)\n",
    "print(0b1011)\n",
    "print(0b100101001)\n",
    "# Überhang bei mehr als drei Einsen...\n",
    "# https://math.stackexchange.com/questions/1779837/binary-multiplication-how-to-carry-a-001-in-case-of-adding-4-times-1\n",
    "\n",
    "27*11\n",
    "\n",
    "\n",
    "print(12//2) #Ganze Zahl\n",
    "print(12/2) #Flißkommazahl"
   ]
  },
  {
   "cell_type": "code",
   "execution_count": 36,
   "metadata": {},
   "outputs": [
    {
     "name": "stdout",
     "output_type": "stream",
     "text": [
      "13\n",
      "13\n",
      "13\n",
      "59\n",
      "59\n",
      "59\n"
     ]
    },
    {
     "data": {
      "text/plain": [
       "'0b111011'"
      ]
     },
     "execution_count": 36,
     "metadata": {},
     "output_type": "execute_result"
    }
   ],
   "source": [
    "# Aufgabe 26: Umwandlung von Binär in Oktal und Hexadezimal ... Geht schnell und es ist keine Umwandlung von Binär zur Dezimal erforderlich.\n",
    "print(0b1101)\n",
    "print(0o15)\n",
    "print(0xd)\n",
    "\n",
    "print(0b111011)\n",
    "print(0o73)\n",
    "print(0x3b)\n",
    "\n",
    "bin(59)"
   ]
  },
  {
   "cell_type": "code",
   "execution_count": 43,
   "metadata": {},
   "outputs": [
    {
     "name": "stdout",
     "output_type": "stream",
     "text": [
      "Das ist ja toll\n",
      "Das ist ja nicht so toll\n"
     ]
    },
    {
     "data": {
      "text/plain": [
       "'Das ist ja {}'"
      ]
     },
     "execution_count": 43,
     "metadata": {},
     "output_type": "execute_result"
    }
   ],
   "source": [
    "b = \"Das ist ja {}\"\n",
    "print(b.format(\"toll\"))\n",
    "print(b.format(\"nicht so toll\"))\n",
    "b"
   ]
  },
  {
   "cell_type": "code",
   "execution_count": 49,
   "metadata": {},
   "outputs": [
    {
     "data": {
      "text/plain": [
       "'Number in binary: 10001 | Hexadecimal: 11 | Octal 21'"
      ]
     },
     "execution_count": 49,
     "metadata": {},
     "output_type": "execute_result"
    }
   ],
   "source": [
    "c = \"Number in binary: {:b} | Hexadecimal: {:x} | Octal {:o}\"\n",
    "c.format(17, 17, 17)"
   ]
  },
  {
   "cell_type": "code",
   "execution_count": 89,
   "metadata": {},
   "outputs": [
    {
     "name": "stdout",
     "output_type": "stream",
     "text": [
      "a: [1, 2, 4, 6]\n",
      "Länge: 4\n",
      "Umgekehrte Reihenfolge: [6, 4, 2, 1]\n",
      "Ausgabe des letzten Elements + Löschen: 6\n",
      "[1, 2, 4]\n",
      "[1, 2, 4, 13]\n",
      "51\n",
      "51\n"
     ]
    }
   ],
   "source": [
    "a = [1, 2, 4, 6]\n",
    "print(\"a: \"+str(a))\n",
    "print(\"Länge: \"+str(len(a)))\n",
    "print(\"Umgekehrte Reihenfolge: \"+str(list(reversed(a)))) # a wird dabei nicht verändert\n",
    "print(\"Ausgabe des letzten Elements + Löschen: \"+str(a.pop()))\n",
    "print(a)\n",
    "a.append(13)\n",
    "print(a)\n",
    "\n",
    "def convBinToDec(binList):\n",
    "    binList = list(reversed(binList))\n",
    "    result = 0\n",
    "    while len(binList) > 0:\n",
    "        result = result + binList.pop()\n",
    "        result = result * 2\n",
    "    return result // 2\n",
    "\n",
    "\n",
    "def convBinToDecOwnVersion(binList):\n",
    "    i = 0\n",
    "    length = len(binList)\n",
    "    result = 0\n",
    "    \n",
    "    while i < length:\n",
    "        result += (binList.pop()*2**i)\n",
    "        i += 1\n",
    "    return result\n",
    "\n",
    "print(convBinToDec([1,1,0,0,1,1]))\n",
    "print(convBinToDecOwnVersion([1,1,0,0,1,1]))"
   ]
  },
  {
   "cell_type": "code",
   "execution_count": 138,
   "metadata": {},
   "outputs": [
    {
     "name": "stdout",
     "output_type": "stream",
     "text": [
      "[0]\n",
      "[1, 0, 1, 1]\n",
      "50\n"
     ]
    }
   ],
   "source": [
    "# Aufgabe 33\n",
    "def decimalToBinary(dNumber):\n",
    "    bList = []\n",
    "    \n",
    "    if(dNumber >= 0):\n",
    "        bList.append(dNumber%2)\n",
    "    \n",
    "        while(dNumber // 2 > 0):\n",
    "            dNumber = dNumber // 2\n",
    "            bList.append(dNumber % 2)\n",
    "            #print(dNumber)\n",
    "\n",
    "        bList = list(reversed(bList))\n",
    "        return bList  \n",
    "    else:\n",
    "        return \"Nur nicht-negative Zahlen!\"\n",
    "    \n",
    "\n",
    "print(decimalToBinary(0))    \n",
    "print(decimalToBinary(11))\n",
    "print(convBinToDec(decimalToBinary(50)))"
   ]
  },
  {
   "cell_type": "code",
   "execution_count": 160,
   "metadata": {},
   "outputs": [
    {
     "name": "stdout",
     "output_type": "stream",
     "text": [
      "0\n",
      "[1, 0, 1, 1]\n",
      "50\n"
     ]
    }
   ],
   "source": [
    "# Aufgabe 35\n",
    "def decimalToBinaryWithoutModulo(dNumber):\n",
    "    bList = []\n",
    "    \n",
    "    if(dNumber >= 0):\n",
    "        \n",
    "        bList.append(berechneRest(dNumber))\n",
    "    \n",
    "        while(dNumber // 2 > 0):\n",
    "            dNumber = dNumber // 2\n",
    "            bList.append(berechneRest(dNumber))\n",
    "            #print(dNumber)\n",
    "\n",
    "        bList = list(reversed(bList))\n",
    "        return bList  \n",
    "    else:\n",
    "        return \"Nur nicht-negative Zahlen!\"\n",
    "    \n",
    "# funktioniert nur beim Dividenten 2\n",
    "def berechneRest(zahl):\n",
    "    ergebnis = zahl / 2\n",
    "    #print(str(ergebnis)+\" vs \"+str(int(ergebnis)))\n",
    "    \n",
    "    if (ergebnis == int(ergebnis)):\n",
    "        return 0\n",
    "    else:\n",
    "        return 1\n",
    "    \n",
    "# Alternativ von Herrn Weitz: a % b == a - (a // b) * b\n",
    "\n",
    "print(berechneRest(12))\n",
    "print(decimalToBinaryWithoutModulo(11))\n",
    "print(convBinToDec(decimalToBinaryWithoutModulo(50)))"
   ]
  },
  {
   "cell_type": "code",
   "execution_count": 168,
   "metadata": {},
   "outputs": [
    {
     "name": "stdout",
     "output_type": "stream",
     "text": [
      "Global: toll\n",
      "Inner Scope: nicht toll\n",
      "Global: toll\n"
     ]
    }
   ],
   "source": [
    "# Aufgabe 36\n",
    "foo = \"toll\"\n",
    "\n",
    "def cool():\n",
    "    foo = \"nicht toll\"\n",
    "    print(\"Inner Scope: \"+foo)\n",
    "\n",
    "print(\"Global: \"+foo)\n",
    "cool()\n",
    "print(\"Global: \"+foo)"
   ]
  },
  {
   "cell_type": "code",
   "execution_count": 11,
   "metadata": {},
   "outputs": [
    {
     "name": "stdout",
     "output_type": "stream",
     "text": [
      "27 * 8 = 216 im Zehnersystem... 8 im Binärsystem entspricht 1000, also verschieben wir die Zahl um drei Stellen nach links.\n",
      "216\n",
      "27 * 16 = 432 - 16 => 1 0000, also Verschieben um 4 Stellen.\n",
      "432\n",
      "1 << 4 == 2^4\n",
      "16\n"
     ]
    }
   ],
   "source": [
    "#Aufgabe 42\n",
    "\n",
    "print(\"27 * 8 = 216 im Zehnersystem... 8 im Binärsystem entspricht 1000, also verschieben wir die Zahl um drei Stellen nach links.\")\n",
    "print(27<<3)\n",
    "\n",
    "print(\"27 * 16 = 432 - 16 => 1 0000, also Verschieben um 4 Stellen.\")\n",
    "print(27<<4)\n",
    "\n",
    "print(\"1 << 4 == 2^4\")\n",
    "print(1<<4)"
   ]
  },
  {
   "cell_type": "code",
   "execution_count": 33,
   "metadata": {},
   "outputs": [
    {
     "data": {
      "text/plain": [
       "28"
      ]
     },
     "execution_count": 33,
     "metadata": {},
     "output_type": "execute_result"
    }
   ],
   "source": [
    "#Aufgabe 44\n",
    "\n",
    "def multiply(p):\n",
    "    # 14 in binär == 1110\n",
    "    p = (p<<3) + (p<<2) + (p<<1)\n",
    "    return p\n",
    "\n",
    "multiply(2)"
   ]
  },
  {
   "cell_type": "code",
   "execution_count": 38,
   "metadata": {},
   "outputs": [
    {
     "name": "stdout",
     "output_type": "stream",
     "text": [
      "Produkt von 186 und 25 im 8-Bit System. Die größte möglichste Zahl ist 256.\n"
     ]
    },
    {
     "data": {
      "text/plain": [
       "42"
      ]
     },
     "execution_count": 38,
     "metadata": {},
     "output_type": "execute_result"
    }
   ],
   "source": [
    "#Aufgabe 47\n",
    "\n",
    "print(\"Produkt von 186 und 25 im 8-Bit System. Die größte möglichste Zahl ist 256.\")\n",
    "(186 * 25) % 256\n",
    "\n",
    "#\"{:b}\".format(186*25)"
   ]
  },
  {
   "cell_type": "code",
   "execution_count": 39,
   "metadata": {},
   "outputs": [],
   "source": [
    "# 1111 1111 * 1111 1111  ... also 255 * 255, dafür bräuchten wir 16 Bits - Also das doppelte von dem, was wir haben."
   ]
  },
  {
   "cell_type": "code",
   "execution_count": 46,
   "metadata": {},
   "outputs": [
    {
     "data": {
      "text/plain": [
       "False"
      ]
     },
     "execution_count": 46,
     "metadata": {},
     "output_type": "execute_result"
    }
   ],
   "source": [
    "# Modulo\n",
    "\n",
    "def congruentModulo(a, b, n):\n",
    "    return a % n == b % n\n",
    "\n",
    "congruentModulo(0,101,19)"
   ]
  },
  {
   "cell_type": "code",
   "execution_count": 51,
   "metadata": {},
   "outputs": [
    {
     "name": "stdout",
     "output_type": "stream",
     "text": [
      "176\n",
      "Rest von 211*302 + 17 durch 3 == 1 * 2 + 2 == 2 + 2 == 4 == 1\n"
     ]
    }
   ],
   "source": [
    "print((1*2*3*4*5*6*7) % 256)\n",
    "\n",
    "print(\"Rest von 211*302 + 17 durch 3 == 1 * 2 + 2 == 2 + 2 == 4 == 1\" )"
   ]
  },
  {
   "cell_type": "code",
   "execution_count": 57,
   "metadata": {},
   "outputs": [
    {
     "data": {
      "text/plain": [
       "128"
      ]
     },
     "execution_count": 57,
     "metadata": {},
     "output_type": "execute_result"
    }
   ],
   "source": [
    "a = 1\n",
    "k = 0xC #12, 8, 4, 0\n",
    "while k > 0:\n",
    "    k -= 4\n",
    "    a = a << 2 # entspricht multiplikation mit 4 denn 100 ist vier\n",
    "\n",
    "a"
   ]
  },
  {
   "cell_type": "code",
   "execution_count": 61,
   "metadata": {},
   "outputs": [
    {
     "data": {
      "text/plain": [
       "0"
      ]
     },
     "execution_count": 61,
     "metadata": {},
     "output_type": "execute_result"
    }
   ],
   "source": [
    "(3 + 5*5) % 7"
   ]
  },
  {
   "cell_type": "code",
   "execution_count": 67,
   "metadata": {},
   "outputs": [
    {
     "data": {
      "text/plain": [
       "2"
      ]
     },
     "execution_count": 67,
     "metadata": {},
     "output_type": "execute_result"
    }
   ],
   "source": [
    "def sumMod(a, b, n): #2 + 5 in 5\n",
    "    z = a % n + b % n\n",
    "    return z\n",
    "\n",
    "sumMod(12,15,5)"
   ]
  },
  {
   "cell_type": "code",
   "execution_count": 73,
   "metadata": {},
   "outputs": [
    {
     "name": "stdout",
     "output_type": "stream",
     "text": [
      "1\n",
      "2\n"
     ]
    }
   ],
   "source": [
    "print(2*2*2 % 7)\n",
    "\n",
    "print(2*2*2*2*2*2*2*2*2*2 % 7)"
   ]
  },
  {
   "cell_type": "code",
   "execution_count": 77,
   "metadata": {},
   "outputs": [
    {
     "name": "stdout",
     "output_type": "stream",
     "text": [
      "56\n"
     ]
    }
   ],
   "source": [
    "def quersumme(a):\n",
    "    \n",
    "    print(b)\n",
    "    \n",
    "quersumme(56)"
   ]
  },
  {
   "cell_type": "code",
   "execution_count": null,
   "metadata": {},
   "outputs": [],
   "source": []
  },
  {
   "cell_type": "code",
   "execution_count": null,
   "metadata": {},
   "outputs": [],
   "source": []
  }
 ],
 "metadata": {
  "kernelspec": {
   "display_name": "Python 3",
   "language": "python",
   "name": "python3"
  },
  "language_info": {
   "codemirror_mode": {
    "name": "ipython",
    "version": 3
   },
   "file_extension": ".py",
   "mimetype": "text/x-python",
   "name": "python",
   "nbconvert_exporter": "python",
   "pygments_lexer": "ipython3",
   "version": "3.6.5"
  }
 },
 "nbformat": 4,
 "nbformat_minor": 2
}
