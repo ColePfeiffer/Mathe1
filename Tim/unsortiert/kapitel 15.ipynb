{
 "cells": [
  {
   "cell_type": "code",
   "execution_count": 30,
   "metadata": {},
   "outputs": [
    {
     "name": "stdout",
     "output_type": "stream",
     "text": [
      "yo\n",
      "yo\n",
      "3 2\n",
      "True\n",
      "d\n",
      "1\n",
      "2\n",
      "3\n",
      "4\n",
      "5\n",
      "10\n",
      "20\n"
     ]
    }
   ],
   "source": [
    "#Mengen\n",
    "\n",
    "A = {1,2,3,42} #Menge\n",
    "#Aalt = set(1,2,3,42) #Menge\n",
    "B = {3,42,2,1}\n",
    "C = {1,2,2,3,42}\n",
    "\n",
    "\n",
    "if(A==B):\n",
    "    print(\"yo\")\n",
    "if(B==C==A):\n",
    "    print(\"yo\")\n",
    "    \n",
    "    \n",
    "a = [1,2,2] # Liste, Elemente dürfen doppelt vorkommen\n",
    "b = {1,1,2} # Menge, jedes Element nur einmal\n",
    "\n",
    "print(len(a), len(b))\n",
    "\n",
    "#Teilmenge: Eine Menge A ist Teilmeinge einer Menge B,\n",
    "#wenn alle Elemente von A in B erhalten sind.\n",
    "# in Python: <=\n",
    "\n",
    "print({1,4,3} <= {1,2,3,4}) # A ist Teilmenge von B\n",
    "\n",
    "guckmal = {1,2,3,4,4,4,5,10,20}\n",
    "\n",
    "print(\"\\n\")\n",
    "\n",
    "for i in guckmal:\n",
    "    print(i)"
   ]
  },
  {
   "cell_type": "code",
   "execution_count": 43,
   "metadata": {},
   "outputs": [
    {
     "name": "stdout",
     "output_type": "stream",
     "text": [
      "True\n",
      "Leere Menge als Teilmenge:  True\n"
     ]
    },
    {
     "data": {
      "text/plain": [
       "{1, 2}"
      ]
     },
     "execution_count": 43,
     "metadata": {},
     "output_type": "execute_result"
    }
   ],
   "source": [
    "def subset(A, B):\n",
    "    for a in A:\n",
    "        if a not in B:\n",
    "            return False\n",
    "    \n",
    "    return True\n",
    "\n",
    "A = {1,4,3}\n",
    "B = {1,2,3,4}\n",
    "\n",
    "print(subset(A, B))\n",
    "\n",
    "if(5 in B):\n",
    "    print(\"yo\")\n",
    "    \n",
    "#Leere Menge\n",
    "\n",
    "leer = set()\n",
    "\n",
    "print(\"Leere Menge als Teilmenge: \", subset(leer,B))\n",
    "\n",
    "# Vereinigung in Python |\n",
    "# Alles gemeinsam ohne Duplikate\n",
    "{1,2,3,4} | {3,4,5}\n",
    "\n",
    "# Durchschnitt in Python &\n",
    "# Nur das, was in beiden erhalten ist\n",
    "\n",
    "{1,2,3,4} & {3,4,5}\n",
    "\n",
    "# Disjunkt: Keine Gemeinsamkeiten\n",
    "\n",
    "{1,2,3} & {4,5,6}\n",
    "\n",
    "# Differenz: \\\n",
    "# A \\ B ist die Menge, die alle Elemente von A enthält, \n",
    "# die nicht Elemente von B sind\n",
    "\n",
    "{1,2,3,4} - {3,4,5}\n"
   ]
  },
  {
   "cell_type": "code",
   "execution_count": 58,
   "metadata": {},
   "outputs": [
    {
     "name": "stdout",
     "output_type": "stream",
     "text": [
      "{1, 2, 3, 4, 5, 8, 19}\n",
      "{2, 3, 4}\n",
      "{1, 8}\n"
     ]
    }
   ],
   "source": [
    "def verein(A, B):\n",
    "    \n",
    "    V = A\n",
    "    \n",
    "    for b in B:\n",
    "        if b not in A:\n",
    "            V.add(b)\n",
    "            \n",
    "    return V\n",
    "\n",
    "print(verein({1,2,3,4,8},{3,4,5,19,2}))\n",
    "            \n",
    "def durch(A, B):\n",
    "    D = set()\n",
    "    \n",
    "    for a in A:\n",
    "        if a in B:\n",
    "            D.add(a)\n",
    "            \n",
    "    return D\n",
    "\n",
    "print(durch({1,2,3,4,8},{3,4,5,19,2}))\n",
    "\n",
    "def diff(A, B):\n",
    "    D = A\n",
    "    \n",
    "    for b in B:\n",
    "        if b in A:\n",
    "            D.remove(b)\n",
    "    \n",
    "    return D\n",
    "\n",
    "print(diff({1,2,3,4,8},{3,4,5,19,2}))"
   ]
  },
  {
   "cell_type": "code",
   "execution_count": 63,
   "metadata": {},
   "outputs": [
    {
     "name": "stdout",
     "output_type": "stream",
     "text": [
      "{2, 4, 6, 8, 10, 12, 14, 16, 18, 20, 22, 24, 26, 28, 30, 32, 34, 36, 38, 40, 42, 44, 46, 48, 50, 52, 54, 56, 58, 60, 62, 64, 66, 68, 70, 72, 74, 76, 78, 80}\n"
     ]
    }
   ],
   "source": [
    "A = set(range(0,100+1)) #range(start,stop)\n",
    "B = set(range(2,80+1,2)) #range(start,stop,step)\n",
    "\n",
    "print(B)"
   ]
  },
  {
   "cell_type": "code",
   "execution_count": 65,
   "metadata": {},
   "outputs": [
    {
     "data": {
      "text/plain": [
       "{1,\n",
       " 2,\n",
       " 4,\n",
       " 5,\n",
       " 7,\n",
       " 8,\n",
       " 10,\n",
       " 11,\n",
       " 13,\n",
       " 14,\n",
       " 16,\n",
       " 17,\n",
       " 19,\n",
       " 20,\n",
       " 22,\n",
       " 23,\n",
       " 25,\n",
       " 26,\n",
       " 28,\n",
       " 29,\n",
       " 31,\n",
       " 32,\n",
       " 34,\n",
       " 35,\n",
       " 37,\n",
       " 38,\n",
       " 40,\n",
       " 41}"
      ]
     },
     "execution_count": 65,
     "metadata": {},
     "output_type": "execute_result"
    }
   ],
   "source": [
    "A = set(range(101))\n",
    "\n",
    "D = set()\n",
    "for n in A:\n",
    "    if n < 42 and n % 3 != 0:\n",
    "        D.add(n)\n",
    "        \n",
    "#D\n",
    "\n",
    "D2 = {n for n in A if n < 42 and n % 3 != 0}\n",
    "\n",
    "D2\n"
   ]
  },
  {
   "cell_type": "code",
   "execution_count": 66,
   "metadata": {},
   "outputs": [],
   "source": [
    "#X1 = {n E Z : |n| < 10}\n",
    "#X2 = {n E P : n^2 < 10000}\n",
    "#X3 = {n E N : n < 500 und n ist eine Quadratzahl}"
   ]
  },
  {
   "cell_type": "code",
   "execution_count": null,
   "metadata": {},
   "outputs": [],
   "source": [
    "# noch sieben seiten und übungen"
   ]
  }
 ],
 "metadata": {
  "kernelspec": {
   "display_name": "Python 3",
   "language": "python",
   "name": "python3"
  },
  "language_info": {
   "codemirror_mode": {
    "name": "ipython",
    "version": 3
   },
   "file_extension": ".py",
   "mimetype": "text/x-python",
   "name": "python",
   "nbconvert_exporter": "python",
   "pygments_lexer": "ipython3",
   "version": "3.6.5"
  }
 },
 "nbformat": 4,
 "nbformat_minor": 2
}
