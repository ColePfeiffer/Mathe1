{
 "cells": [
  {
   "cell_type": "code",
   "execution_count": 17,
   "metadata": {},
   "outputs": [
    {
     "name": "stdout",
     "output_type": "stream",
     "text": [
      "0\n",
      "no 0\n",
      "yes 0\n",
      "1\n",
      "no 1\n",
      "no 1\n",
      "2\n",
      "yes 2\n",
      "yes 2\n",
      "3\n",
      "no 3\n",
      "no 3\n",
      "4\n",
      "yes 4\n",
      "yes 4\n",
      "5\n",
      "no 5\n",
      "no 5\n",
      "6\n",
      "no 6\n",
      "yes 6\n",
      "7\n",
      "no 7\n",
      "no 7\n"
     ]
    }
   ],
   "source": [
    "x = 8\n",
    "\n",
    "for x in range(8):\n",
    "    print(x%8)\n",
    "\n",
    "    if (x%8-2) * (x%8-4) == 0:\n",
    "        print(\"yes\", x)\n",
    "    else:\n",
    "        print(\"no\", x)\n",
    "\n",
    "    if ((x-2) * (x-4)) % 8 == 0:\n",
    "        print(\"yes\", x)\n",
    "    else:\n",
    "        print(\"no\", x)"
   ]
  },
  {
   "cell_type": "code",
   "execution_count": 20,
   "metadata": {},
   "outputs": [
    {
     "name": "stdout",
     "output_type": "stream",
     "text": [
      "0\n",
      "0\n",
      "0\n",
      "1.0\n",
      "1.5\n",
      "1.8333333333333333\n",
      "2.083333333333333\n"
     ]
    }
   ],
   "source": [
    "def sum_1_div_k(m):\n",
    "  summe, k = 0, 1\n",
    "  if m>0:\n",
    "    while k<=m:\n",
    "      summe += 1/k\n",
    "      k += 1\n",
    "  return summe\n",
    " \n",
    "for i in range(-2,5):\n",
    "  print(sum_1_div_k(i))"
   ]
  },
  {
   "cell_type": "code",
   "execution_count": 21,
   "metadata": {},
   "outputs": [
    {
     "data": {
      "text/plain": [
       "20020"
      ]
     },
     "execution_count": 21,
     "metadata": {},
     "output_type": "execute_result"
    }
   ],
   "source": [
    "s = 0\n",
    "for k in range(10,101):\n",
    "    s += 4 * k\n",
    "s"
   ]
  },
  {
   "cell_type": "code",
   "execution_count": 31,
   "metadata": {},
   "outputs": [
    {
     "data": {
      "text/plain": [
       "(27, 140)"
      ]
     },
     "execution_count": 31,
     "metadata": {},
     "output_type": "execute_result"
    }
   ],
   "source": [
    "from sympy.ntheory.modular import crt\n",
    "\n",
    "crt([5,4,7],[2,3,6])"
   ]
  },
  {
   "cell_type": "code",
   "execution_count": 33,
   "metadata": {},
   "outputs": [
    {
     "ename": "KeyboardInterrupt",
     "evalue": "",
     "output_type": "error",
     "traceback": [
      "\u001b[1;31m---------------------------------------------------------------------------\u001b[0m",
      "\u001b[1;31mKeyboardInterrupt\u001b[0m                         Traceback (most recent call last)",
      "\u001b[1;32m<ipython-input-33-74546fa5dac5>\u001b[0m in \u001b[0;36m<module>\u001b[1;34m()\u001b[0m\n\u001b[0;32m      5\u001b[0m \u001b[1;32mfor\u001b[0m \u001b[0mk\u001b[0m \u001b[1;32min\u001b[0m \u001b[0mrange\u001b[0m\u001b[1;33m(\u001b[0m\u001b[1;36m0\u001b[0m\u001b[1;33m,\u001b[0m\u001b[1;36m3486784401\u001b[0m\u001b[1;33m)\u001b[0m\u001b[1;33m:\u001b[0m\u001b[1;33m\u001b[0m\u001b[0m\n\u001b[0;32m      6\u001b[0m     \u001b[0mn\u001b[0m \u001b[1;33m-=\u001b[0m \u001b[1;36m1\u001b[0m\u001b[1;33m\u001b[0m\u001b[0m\n\u001b[1;32m----> 7\u001b[1;33m     \u001b[0ms\u001b[0m \u001b[1;33m+=\u001b[0m \u001b[1;36m4\u001b[0m \u001b[1;33m*\u001b[0m \u001b[0mn\u001b[0m\u001b[1;33m\u001b[0m\u001b[0m\n\u001b[0m\u001b[0;32m      8\u001b[0m \u001b[0ms\u001b[0m\u001b[1;33m\u001b[0m\u001b[0m\n",
      "\u001b[1;31mKeyboardInterrupt\u001b[0m: "
     ]
    }
   ],
   "source": [
    "3**20\n",
    "\n",
    "s = 0\n",
    "n = 3486784401\n",
    "for k in range(0,3486784401):\n",
    "    n -= 1\n",
    "    s += 4 * n\n",
    "s"
   ]
  },
  {
   "cell_type": "code",
   "execution_count": 44,
   "metadata": {},
   "outputs": [
    {
     "data": {
      "text/plain": [
       "0"
      ]
     },
     "execution_count": 44,
     "metadata": {},
     "output_type": "execute_result"
    }
   ],
   "source": [
    "(3**1) % 3"
   ]
  },
  {
   "cell_type": "code",
   "execution_count": 35,
   "metadata": {},
   "outputs": [
    {
     "data": {
      "text/plain": [
       "729"
      ]
     },
     "execution_count": 35,
     "metadata": {},
     "output_type": "execute_result"
    }
   ],
   "source": [
    "i3 ** 6"
   ]
  },
  {
   "cell_type": "code",
   "execution_count": 76,
   "metadata": {},
   "outputs": [
    {
     "name": "stdout",
     "output_type": "stream",
     "text": [
      "{0, 1, 64, 4, 36, 100, 9, 16, 49, 81, 25}\n",
      "set()\n",
      "no\n"
     ]
    }
   ],
   "source": [
    "import sympy\n",
    "\n",
    "D = {n for n in A if n % 42 and n%3 != 0}\n",
    "\n",
    "A = set(p**2 for p in range(0,11))\n",
    "// Output: {0, 1, 64, 4, 36, 100, 9, 16, 49, 81, 25}\n",
    "print(A)\n",
    "\n",
    "\n",
    "print(B)\n",
    "\n",
    "if 11 in A:\n",
    "    print(\"yes\")\n",
    "else:\n",
    "    print(\"no\")"
   ]
  },
  {
   "cell_type": "code",
   "execution_count": 118,
   "metadata": {},
   "outputs": [
    {
     "name": "stdout",
     "output_type": "stream",
     "text": [
      "740\n"
     ]
    }
   ],
   "source": [
    "A = set(p for p in range(100,1000))\n",
    "\n",
    "check = 0\n",
    "\n",
    "for a in A:\n",
    "    s = str(a)\n",
    "    \n",
    "    if (int(s[0]) % 2 != 0):\n",
    "        check += 1\n",
    "    elif (a % 2 == 0):\n",
    "        check += 1\n",
    "    elif (a % 5 == 0):\n",
    "        check += 1\n",
    "        \n",
    "print(check)"
   ]
  },
  {
   "cell_type": "code",
   "execution_count": 223,
   "metadata": {},
   "outputs": [
    {
     "name": "stdout",
     "output_type": "stream",
     "text": [
      "[1, 0, 1, 1, 0, 0, 0]\n",
      "25/6\n",
      "33\n"
     ]
    }
   ],
   "source": [
    "from fractions import Fraction\n",
    "\n",
    "def initialBinPlaces (x, n):\n",
    "    result = []\n",
    "    while len(result) < n:\n",
    "        x *= 2\n",
    "        if x >= 1:\n",
    "            result.append(1)\n",
    "            x -= 1\n",
    "        else:\n",
    "            result.append(0)\n",
    "    return result\n",
    "\n",
    "print(initialBinPlaces(0.6875,7))\n",
    "\n",
    "print(Fraction(100,24)) # kürzt, stellt 25/6 dar\n",
    "print(Fraction(33))"
   ]
  },
  {
   "cell_type": "code",
   "execution_count": 150,
   "metadata": {},
   "outputs": [
    {
     "name": "stdout",
     "output_type": "stream",
     "text": [
      "0b1010\n",
      "0xa\n",
      "0o12\n",
      "10\n",
      "10\n",
      "10\n"
     ]
    }
   ],
   "source": [
    "print(bin(10))\n",
    "print(hex(10))\n",
    "print(oct(10))\n",
    "\n",
    "print(0b1010)\n",
    "print(0xa)\n",
    "print(0o12)"
   ]
  },
  {
   "cell_type": "code",
   "execution_count": 158,
   "metadata": {},
   "outputs": [
    {
     "name": "stdout",
     "output_type": "stream",
     "text": [
      "2\n",
      "12\n",
      "22\n",
      "32\n",
      "42\n",
      "52\n",
      "62\n",
      "72\n",
      "82\n",
      "92\n",
      "ausgabe:  10\n"
     ]
    }
   ],
   "source": [
    "i = 0\n",
    "for x in range(100):\n",
    "    if ((25*(x**2)) + (30*x) + 40) % 100 == 0:\n",
    "        print(x)\n",
    "        i += 1\n",
    "        \n",
    "print(\"ausgabe: \",i)"
   ]
  },
  {
   "cell_type": "code",
   "execution_count": 177,
   "metadata": {},
   "outputs": [
    {
     "ename": "TypeError",
     "evalue": "'float' object cannot be interpreted as an integer",
     "output_type": "error",
     "traceback": [
      "\u001b[1;31m---------------------------------------------------------------------------\u001b[0m",
      "\u001b[1;31mTypeError\u001b[0m                                 Traceback (most recent call last)",
      "\u001b[1;32m<ipython-input-177-039fd58ff007>\u001b[0m in \u001b[0;36m<module>\u001b[1;34m()\u001b[0m\n\u001b[0;32m      1\u001b[0m \u001b[1;33m\u001b[0m\u001b[0m\n\u001b[0;32m      2\u001b[0m \u001b[1;31m#Gemeinsamer Teiler von 3 Zahlen\u001b[0m\u001b[1;33m\u001b[0m\u001b[1;33m\u001b[0m\u001b[0m\n\u001b[1;32m----> 3\u001b[1;33m \u001b[0mmath\u001b[0m\u001b[1;33m.\u001b[0m\u001b[0mgcd\u001b[0m\u001b[1;33m(\u001b[0m\u001b[0mmath\u001b[0m\u001b[1;33m.\u001b[0m\u001b[0mgcd\u001b[0m\u001b[1;33m(\u001b[0m\u001b[1;36m0.536\u001b[0m\u001b[1;33m,\u001b[0m\u001b[1;36m0.1834\u001b[0m\u001b[1;33m)\u001b[0m\u001b[1;33m,\u001b[0m \u001b[1;36m0.58283\u001b[0m\u001b[1;33m)\u001b[0m\u001b[1;33m\u001b[0m\u001b[0m\n\u001b[0m",
      "\u001b[1;31mTypeError\u001b[0m: 'float' object cannot be interpreted as an integer"
     ]
    }
   ],
   "source": [
    "\n",
    "#Gemeinsamer Teiler von 3 Zahlen\n",
    "math.gcd(math.gcd(0.536,0.1834), 0.58283)\n",
    "\n"
   ]
  },
  {
   "cell_type": "code",
   "execution_count": 181,
   "metadata": {},
   "outputs": [
    {
     "data": {
      "text/plain": [
       "5"
      ]
     },
     "execution_count": 181,
     "metadata": {},
     "output_type": "execute_result"
    }
   ],
   "source": [
    "def float_gcd(a, b, rtol = 1e-05, atol = 1e-08):\n",
    "    t = min(abs(a), abs(b))\n",
    "    while abs(b) > rtol * t + atol:\n",
    "        a, b = b, a % b\n",
    "    return a\n",
    "\n",
    "float_gcd(25,0.125)"
   ]
  },
  {
   "cell_type": "code",
   "execution_count": 186,
   "metadata": {},
   "outputs": [
    {
     "data": {
      "text/plain": [
       "0.14285714285714285"
      ]
     },
     "execution_count": 186,
     "metadata": {},
     "output_type": "execute_result"
    }
   ],
   "source": [
    "1/8\n",
    "2/5\n",
    "2/16\n",
    "1/7"
   ]
  },
  {
   "cell_type": "code",
   "execution_count": 190,
   "metadata": {},
   "outputs": [
    {
     "name": "stdout",
     "output_type": "stream",
     "text": [
      "0b101010\n",
      "b010110\n"
     ]
    }
   ],
   "source": [
    "print(bin(42))\n",
    "print('b010110')"
   ]
  },
  {
   "cell_type": "code",
   "execution_count": 197,
   "metadata": {},
   "outputs": [
    {
     "name": "stdout",
     "output_type": "stream",
     "text": [
      "0b101010\n",
      "0b1111111111010100\n"
     ]
    }
   ],
   "source": [
    "def convertDecToBin(bitSystem,number):\n",
    "    num = bin(((1 << bitSystem) - 1) & number)\n",
    "    return num\n",
    "\n",
    "print(convertDecToBin(16,42))\n",
    "print(convertDecToBin(16,-44))"
   ]
  },
  {
   "cell_type": "code",
   "execution_count": 209,
   "metadata": {},
   "outputs": [
    {
     "ename": "NameError",
     "evalue": "name 'isPrime' is not defined",
     "output_type": "error",
     "traceback": [
      "\u001b[1;31m---------------------------------------------------------------------------\u001b[0m",
      "\u001b[1;31mNameError\u001b[0m                                 Traceback (most recent call last)",
      "\u001b[1;32m<ipython-input-209-b9c6c1abeb02>\u001b[0m in \u001b[0;36m<module>\u001b[1;34m()\u001b[0m\n\u001b[0;32m      4\u001b[0m \u001b[1;32mwhile\u001b[0m\u001b[1;33m(\u001b[0m\u001b[0mlen\u001b[0m\u001b[1;33m(\u001b[0m\u001b[0mp\u001b[0m\u001b[1;33m)\u001b[0m \u001b[1;33m<=\u001b[0m \u001b[1;36m20\u001b[0m\u001b[1;33m)\u001b[0m\u001b[1;33m:\u001b[0m\u001b[1;33m\u001b[0m\u001b[0m\n\u001b[0;32m      5\u001b[0m     \u001b[1;32mfor\u001b[0m \u001b[0mn\u001b[0m \u001b[1;32min\u001b[0m \u001b[0mrange\u001b[0m\u001b[1;33m(\u001b[0m\u001b[1;36m150\u001b[0m\u001b[1;33m)\u001b[0m\u001b[1;33m:\u001b[0m\u001b[1;33m\u001b[0m\u001b[0m\n\u001b[1;32m----> 6\u001b[1;33m         \u001b[1;32mif\u001b[0m \u001b[0misPrime\u001b[0m\u001b[1;33m(\u001b[0m\u001b[0mn\u001b[0m\u001b[1;33m)\u001b[0m\u001b[1;33m:\u001b[0m\u001b[1;33m\u001b[0m\u001b[0m\n\u001b[0m\u001b[0;32m      7\u001b[0m             \u001b[0mp\u001b[0m\u001b[1;33m.\u001b[0m\u001b[0mappend\u001b[0m\u001b[1;33m(\u001b[0m\u001b[0mn\u001b[0m\u001b[1;33m)\u001b[0m\u001b[1;33m\u001b[0m\u001b[0m\n\u001b[0;32m      8\u001b[0m \u001b[1;33m\u001b[0m\u001b[0m\n",
      "\u001b[1;31mNameError\u001b[0m: name 'isPrime' is not defined"
     ]
    }
   ],
   "source": [
    "from sympy import prime, isprime, nextprime\n",
    "\n",
    "nextprime(4)\n",
    "isprime(5)"
   ]
  },
  {
   "cell_type": "code",
   "execution_count": 214,
   "metadata": {},
   "outputs": [
    {
     "name": "stdout",
     "output_type": "stream",
     "text": [
      "[2, 3, 5, 7, 11, 13, 17, 19, 23, 29, 31, 37, 41, 43, 47, 53, 59, 61, 67, 71]\n"
     ]
    },
    {
     "data": {
      "text/plain": [
       "381"
      ]
     },
     "execution_count": 214,
     "metadata": {},
     "output_type": "execute_result"
    }
   ],
   "source": [
    "from sympy import prime, isprime, nextprime\n",
    "\n",
    "# Gibt die ersten 20 Primzahlen\n",
    "p = []\n",
    "for n in range(150):\n",
    "    if(len(p) >= 20):\n",
    "        break\n",
    "    else:\n",
    "        if isprime(n):\n",
    "            p.append(n)\n",
    "# Zählt die Mächtigkeit            \n",
    "B = set()\n",
    "for i in p:\n",
    "    for j in p:\n",
    "        B.add(i/j)   \n",
    "len(B)"
   ]
  },
  {
   "cell_type": "code",
   "execution_count": 263,
   "metadata": {},
   "outputs": [
    {
     "data": {
      "text/plain": [
       "0.16666666666666666"
      ]
     },
     "execution_count": 263,
     "metadata": {},
     "output_type": "execute_result"
    }
   ],
   "source": [
    "p = 1\n",
    "for k in range(7,42):\n",
    "    p *= k / (k+1)\n",
    "p"
   ]
  },
  {
   "cell_type": "code",
   "execution_count": 236,
   "metadata": {},
   "outputs": [
    {
     "name": "stdout",
     "output_type": "stream",
     "text": [
      "(59, 84)\n",
      "Kleinster positiver Teiler:  59\n",
      "Größter negativer Teiler:  -25\n"
     ]
    }
   ],
   "source": [
    "from sympy.ntheory.modular import crt\n",
    "\n",
    "print(crt([3,4,7],[2,3,3]))\n",
    "print(\"Kleinster positiver Teiler: \", 59)\n",
    "print(\"Größter negativer Teiler: \", 59-84)\n"
   ]
  },
  {
   "cell_type": "code",
   "execution_count": 258,
   "metadata": {},
   "outputs": [
    {
     "name": "stdout",
     "output_type": "stream",
     "text": [
      "[1117, 1117, 1117, 1151, 1151, 1151, 1171, 1171, 1171, 1181, 1181, 1181, 1511, 1511, 1511, 1777, 1777, 1777, 1811, 1811, 1811, 1999, 1999, 1999, 2111, 2111, 2111, 2221, 2221, 2221, 2333, 2333, 2333, 2777, 2777, 2777, 2999, 2999, 2999, 3313, 3313, 3313, 3323, 3323, 3323, 3331, 3331, 3331, 3343, 3343, 3343, 3373, 3373, 3373, 3433, 3433, 3433, 3533, 3533, 3533, 3733, 3733, 3733, 3833, 3833, 3833, 4111, 4111, 4111, 4441, 4441, 4441, 4447, 4447, 4447, 4999, 4999, 4999, 5333, 5333, 5333, 5557, 5557, 5557, 6661, 6661, 6661, 7177, 7177, 7177, 7333, 7333, 7333, 7477, 7477, 7477, 7577, 7577, 7577, 7717, 7717, 7717, 7727, 7727, 7727, 7757, 7757, 7757, 7877, 7877, 7877, 8111, 8111, 8111, 8887, 8887, 8887, 8999, 8999, 8999, 9199, 9199, 9199, 9929, 9929, 9929, 9949, 9949, 9949]\n"
     ]
    }
   ],
   "source": [
    "from sympy import isprime, nextprime\n",
    "\n",
    "prim = []\n",
    "\n",
    "for i in range (1000,10000):\n",
    "    if isprime(i):\n",
    "\n",
    "        string = str(i)\n",
    "        \n",
    "        for currentChar in string:\n",
    "            charCount = 0\n",
    "\n",
    "            for allChars in string:\n",
    "                if currentChar == allChars:\n",
    "                    charCount += 1\n",
    "                    \n",
    "            if(charCount < 3):\n",
    "                charCount = 0\n",
    "            else:\n",
    "                prim.append(i)\n",
    "                    \n",
    "print(prim) # 0 kommt nicht vor\n",
    "        "
   ]
  },
  {
   "cell_type": "code",
   "execution_count": 317,
   "metadata": {},
   "outputs": [
    {
     "data": {
      "text/plain": [
       "Fraction(37, 55)"
      ]
     },
     "execution_count": 317,
     "metadata": {},
     "output_type": "execute_result"
    }
   ],
   "source": [
    "# 0.627\n",
    "\n",
    "from fractions import Fraction\n",
    "\n",
    "Fraction(666,990)"
   ]
  },
  {
   "cell_type": "code",
   "execution_count": 318,
   "metadata": {},
   "outputs": [
    {
     "data": {
      "text/plain": [
       "18"
      ]
     },
     "execution_count": 318,
     "metadata": {},
     "output_type": "execute_result"
    }
   ],
   "source": [
    "math.gcd(666,990)"
   ]
  },
  {
   "cell_type": "code",
   "execution_count": 290,
   "metadata": {},
   "outputs": [
    {
     "data": {
      "text/plain": [
       "0.17647058823529413"
      ]
     },
     "execution_count": 290,
     "metadata": {},
     "output_type": "execute_result"
    }
   ],
   "source": [
    "((3%23)/(17%23))"
   ]
  },
  {
   "cell_type": "code",
   "execution_count": 292,
   "metadata": {},
   "outputs": [
    {
     "data": {
      "text/plain": [
       "1"
      ]
     },
     "execution_count": 292,
     "metadata": {},
     "output_type": "execute_result"
    }
   ],
   "source": [
    "math.gcd(5,7)"
   ]
  },
  {
   "cell_type": "code",
   "execution_count": 293,
   "metadata": {},
   "outputs": [
    {
     "data": {
      "text/plain": [
       "1.7320508075688772"
      ]
     },
     "execution_count": 293,
     "metadata": {},
     "output_type": "execute_result"
    }
   ],
   "source": [
    "math.sqrt(3)"
   ]
  },
  {
   "cell_type": "code",
   "execution_count": 294,
   "metadata": {},
   "outputs": [
    {
     "data": {
      "text/plain": [
       "0.0001"
      ]
     },
     "execution_count": 294,
     "metadata": {},
     "output_type": "execute_result"
    }
   ],
   "source": [
    "10**-4"
   ]
  },
  {
   "cell_type": "code",
   "execution_count": 295,
   "metadata": {},
   "outputs": [
    {
     "data": {
      "text/plain": [
       "1.7319508075688772"
      ]
     },
     "execution_count": 295,
     "metadata": {},
     "output_type": "execute_result"
    }
   ],
   "source": [
    "1.7320508075688772-0.0001"
   ]
  },
  {
   "cell_type": "code",
   "execution_count": 304,
   "metadata": {},
   "outputs": [
    {
     "data": {
      "text/plain": [
       "Fraction(3, 4)"
      ]
     },
     "execution_count": 304,
     "metadata": {},
     "output_type": "execute_result"
    }
   ],
   "source": [
    "from fractions import Fraction\n",
    "\n",
    "Fraction(0.75)"
   ]
  },
  {
   "cell_type": "code",
   "execution_count": 305,
   "metadata": {},
   "outputs": [
    {
     "data": {
      "text/plain": [
       "1000000"
      ]
     },
     "execution_count": 305,
     "metadata": {},
     "output_type": "execute_result"
    }
   ],
   "source": [
    "\n",
    "10**6"
   ]
  },
  {
   "cell_type": "code",
   "execution_count": 316,
   "metadata": {},
   "outputs": [
    {
     "data": {
      "text/plain": [
       "174690015040882455988354400790170000897162886859579152352704471899874163427116241050767381769631464055938734482112142486751362076901376"
      ]
     },
     "execution_count": 316,
     "metadata": {},
     "output_type": "execute_result"
    }
   ],
   "source": [
    "22**100"
   ]
  },
  {
   "cell_type": "code",
   "execution_count": 322,
   "metadata": {},
   "outputs": [
    {
     "name": "stdout",
     "output_type": "stream",
     "text": [
      "111111 111119\n",
      "222222 222247\n",
      "333333 333337\n",
      "444444 444449\n",
      "555555 555557\n",
      "666666 666667\n",
      "777777 777781\n",
      "888888 888917\n",
      "999999 1000003\n"
     ]
    }
   ],
   "source": [
    "from sympy import prime, isprime, nextprime\n",
    "\n",
    "x = [1,2,3,4,5,6,7,8,9]\n",
    "for n in x:\n",
    "    n1 = n * 111111\n",
    "    if (isprime(n1)):\n",
    "        print(\"yea\",n1)\n",
    "    else:\n",
    "        print(n1, nextprime(n1))\n",
    "        "
   ]
  },
  {
   "cell_type": "code",
   "execution_count": 327,
   "metadata": {},
   "outputs": [
    {
     "name": "stdout",
     "output_type": "stream",
     "text": [
      "(5, 10)\n"
     ]
    },
    {
     "ename": "TypeError",
     "evalue": "gcd() takes exactly 2 arguments (3 given)",
     "output_type": "error",
     "traceback": [
      "\u001b[1;31m---------------------------------------------------------------------------\u001b[0m",
      "\u001b[1;31mTypeError\u001b[0m                                 Traceback (most recent call last)",
      "\u001b[1;32m<ipython-input-327-79d2de715d30>\u001b[0m in \u001b[0;36m<module>\u001b[1;34m()\u001b[0m\n\u001b[0;32m      2\u001b[0m \u001b[1;33m\u001b[0m\u001b[0m\n\u001b[0;32m      3\u001b[0m \u001b[0mprint\u001b[0m\u001b[1;33m(\u001b[0m\u001b[0mcrt\u001b[0m\u001b[1;33m(\u001b[0m\u001b[1;33m[\u001b[0m\u001b[1;36m10\u001b[0m\u001b[1;33m,\u001b[0m\u001b[1;36m10\u001b[0m\u001b[1;33m]\u001b[0m\u001b[1;33m,\u001b[0m\u001b[1;33m[\u001b[0m\u001b[1;36m25\u001b[0m\u001b[1;33m,\u001b[0m\u001b[1;36m5\u001b[0m\u001b[1;33m]\u001b[0m\u001b[1;33m)\u001b[0m\u001b[1;33m)\u001b[0m\u001b[1;33m\u001b[0m\u001b[0m\n\u001b[1;32m----> 4\u001b[1;33m \u001b[0mprint\u001b[0m\u001b[1;33m(\u001b[0m\u001b[0mmath\u001b[0m\u001b[1;33m.\u001b[0m\u001b[0mgcd\u001b[0m\u001b[1;33m(\u001b[0m\u001b[1;36m25\u001b[0m\u001b[1;33m,\u001b[0m\u001b[1;36m5\u001b[0m\u001b[1;33m,\u001b[0m\u001b[1;36m30\u001b[0m\u001b[1;33m)\u001b[0m\u001b[1;33m)\u001b[0m\u001b[1;33m\u001b[0m\u001b[0m\n\u001b[0m",
      "\u001b[1;31mTypeError\u001b[0m: gcd() takes exactly 2 arguments (3 given)"
     ]
    }
   ],
   "source": [
    "from sympy.ntheory.modular import crt\n",
    "\n",
    "print(crt([10,10],[25,5]))\n",
    "print(math.gcd(25,5,30))"
   ]
  },
  {
   "cell_type": "code",
   "execution_count": 3,
   "metadata": {},
   "outputs": [
    {
     "ename": "TypeError",
     "evalue": "unhashable type: 'set'",
     "output_type": "error",
     "traceback": [
      "\u001b[1;31m---------------------------------------------------------------------------\u001b[0m",
      "\u001b[1;31mTypeError\u001b[0m                                 Traceback (most recent call last)",
      "\u001b[1;32m<ipython-input-3-cf80a9680e4e>\u001b[0m in \u001b[0;36m<module>\u001b[1;34m()\u001b[0m\n\u001b[0;32m      1\u001b[0m \u001b[0mA\u001b[0m \u001b[1;33m=\u001b[0m \u001b[1;33m{\u001b[0m\u001b[1;36m1\u001b[0m\u001b[1;33m}\u001b[0m\u001b[1;33m\u001b[0m\u001b[0m\n\u001b[0;32m      2\u001b[0m \u001b[0mB\u001b[0m \u001b[1;33m=\u001b[0m \u001b[1;33m{\u001b[0m\u001b[1;36m2\u001b[0m\u001b[1;33m,\u001b[0m\u001b[1;36m3\u001b[0m\u001b[1;33m}\u001b[0m\u001b[1;33m\u001b[0m\u001b[0m\n\u001b[1;32m----> 3\u001b[1;33m \u001b[0mC\u001b[0m \u001b[1;33m=\u001b[0m \u001b[1;33m{\u001b[0m\u001b[1;33m{\u001b[0m\u001b[1;36m1\u001b[0m\u001b[1;33m}\u001b[0m\u001b[1;33m,\u001b[0m\u001b[1;33m{\u001b[0m\u001b[1;36m2\u001b[0m\u001b[1;33m,\u001b[0m\u001b[1;36m3\u001b[0m\u001b[1;33m}\u001b[0m\u001b[1;33m}\u001b[0m\u001b[1;33m\u001b[0m\u001b[0m\n\u001b[0m",
      "\u001b[1;31mTypeError\u001b[0m: unhashable type: 'set'"
     ]
    }
   ],
   "source": [
    "A = {1}\n",
    "B = {2,3}\n",
    "C = {{1},{2,3}}"
   ]
  },
  {
   "cell_type": "code",
   "execution_count": 14,
   "metadata": {},
   "outputs": [
    {
     "name": "stdout",
     "output_type": "stream",
     "text": [
      "(4, 5)\n",
      "5\n",
      "yo\n"
     ]
    },
    {
     "data": {
      "text/plain": [
       "True"
      ]
     },
     "execution_count": 14,
     "metadata": {},
     "output_type": "execute_result"
    }
   ],
   "source": [
    "#(4,5) (5,6)\n",
    "\n",
    "a = (4,5)\n",
    "b = (5,6)\n",
    "c = (5,4)\n",
    "d = (4,5)\n",
    "print(a)\n",
    "print(a[1])\n",
    "\n",
    "if(a == d):\n",
    "    print(\"yo\")\n",
    "else:\n",
    "    print(\"nö\")\n",
    "\n",
    "def checkPair(p, pc):\n",
    "    if p == pc:\n",
    "        return True\n",
    "    else: \n",
    "        return False\n",
    "\n",
    "checkPair(a,a)"
   ]
  },
  {
   "cell_type": "code",
   "execution_count": 57,
   "metadata": {},
   "outputs": [
    {
     "name": "stdout",
     "output_type": "stream",
     "text": [
      "1 3\n",
      "1 4\n",
      "2 3\n",
      "2 4\n",
      "3 5\n",
      "3 6\n",
      "4 5\n",
      "4 6\n",
      "(1, 3) 5\n",
      "(1, 3) 6\n",
      "(1, 4) 5\n",
      "(1, 4) 6\n",
      "(2, 3) 5\n",
      "(2, 3) 6\n",
      "(2, 4) 5\n",
      "(2, 4) 6\n",
      "[((1, 3), 5), ((1, 3), 6), ((1, 4), 5), ((1, 4), 6), ((2, 3), 5), ((2, 3), 6), ((2, 4), 5), ((2, 4), 6)]\n"
     ]
    }
   ],
   "source": [
    "A = {\"peter\", \"otto\", \"max\", \"thomas\",\"anna\"}\n",
    "B = {\"weint\", \"schreit\", \"lacht\"}\n",
    "C = {\"leise\",\"laut\"}\n",
    "          \n",
    "def kreuzprodukt(A, B):\n",
    "    x = []\n",
    "    for a in A:\n",
    "        for b in B:\n",
    "            print(a,b)\n",
    "            x.append((a,b))\n",
    "    return x\n",
    "\n",
    "#kreuzprodukt(A,B)\n",
    "\n",
    "A2 = {1,2}\n",
    "B2 = {3,4}\n",
    "C2 = {5,6}\n",
    "\n",
    "AB = kreuzprodukt(A2,B2)\n",
    "BC = kreuzprodukt(B2,C2)\n",
    "\n",
    "#print(AB, \"|\", BC)\n",
    "#print()\n",
    "print(kreuzprodukt(AB,C2))\n",
    "#kreuzprodukt(kreuzprodukt(A2,B2),C2)\n",
    "#kreuzprodukt(A2,kreuzprodukt(B2,C2))\n",
    "\n",
    "def kreuzproduktDrei(A, B,C):\n",
    "    for a in A:\n",
    "        for b in B:\n",
    "            for c in C:\n",
    "                print(a,b,c)\n",
    "\n"
   ]
  },
  {
   "cell_type": "code",
   "execution_count": 84,
   "metadata": {},
   "outputs": [
    {
     "name": "stdout",
     "output_type": "stream",
     "text": [
      "{1, 2, 3, 4, 5, 6, 7, 8, 9, 10}\n",
      "10\n",
      "235\n",
      "235\n"
     ]
    }
   ],
   "source": [
    "A = {1,2,3}\n",
    "B = {1,2,4,5,6}\n",
    "C = {1,2,4,7,8}\n",
    "D = {1,2,7,9,10}\n",
    "list = []\n",
    "list.append(A)\n",
    "list.append(B)\n",
    "list.append(C)\n",
    "list.append(D)\n",
    "\n",
    "def deleteDuplicates(list):\n",
    "    elements = set()\n",
    "    for m in list:\n",
    "        for e in m:\n",
    "            elements.add(e)\n",
    "            \n",
    "    print(elements)\n",
    "    print(len(elements))\n",
    "    return len(elements)\n",
    "\n",
    "deleteDuplicates(list)\n",
    "\n",
    "numbers = set()\n",
    "for i in range(1,1001):\n",
    "    if(i % 2 != 0 and i % 3 != 0 and\n",
    "      i % 5 != 0 and i % 7 != 0):\n",
    "        numbers.add(i)\n",
    "   \n",
    "numbers = set()\n",
    "\n",
    "for i in range(1,1001):\n",
    "    if(i >= 10 and i <= 99):\n",
    "        numbers.add(i)\n",
    "    if(i % 7 == 0):\n",
    "        numbers.add(i)\n",
    "    s = str(i)\n",
    "    if(len(s) == 3 and s[0] == s[1] == s[2]):\n",
    "        numbers.add(i)\n",
    "    elif(len(s) == 2 and s[0] == s[1]):\n",
    "        numbers.add(i)\n",
    "    elif(len(s) == 1):\n",
    "        numbers.add(i)\n",
    "print(len(numbers))        \n",
    "        \n",
    "        \n",
    "print(len(numbers))"
   ]
  },
  {
   "cell_type": "code",
   "execution_count": 79,
   "metadata": {},
   "outputs": [
    {
     "data": {
      "text/plain": [
       "235"
      ]
     },
     "execution_count": 79,
     "metadata": {},
     "output_type": "execute_result"
    }
   ],
   "source": [
    "def identicalDigits (n):\n",
    "    D = {n % 10}\n",
    "    d10 = (n % 100) // 10\n",
    "    d100 = n // 100\n",
    "    if d100 != 0:\n",
    "        D.add(d100)\n",
    "    if d10 != 0 or d100 != 0:\n",
    "        D.add(d10)\n",
    "    return len(D) == 1\n",
    "\n",
    "c = 0\n",
    "for n in range(1, 1000):\n",
    "    if (9 < n < 99) or n % 7 == 0 or identicalDigits(n):\n",
    "        c += 1\n",
    "c"
   ]
  },
  {
   "cell_type": "code",
   "execution_count": 88,
   "metadata": {},
   "outputs": [
    {
     "data": {
      "text/plain": [
       "1860"
      ]
     },
     "execution_count": 88,
     "metadata": {},
     "output_type": "execute_result"
    }
   ],
   "source": []
  },
  {
   "cell_type": "code",
   "execution_count": 89,
   "metadata": {},
   "outputs": [
    {
     "data": {
      "text/plain": [
       "1860"
      ]
     },
     "execution_count": 89,
     "metadata": {},
     "output_type": "execute_result"
    }
   ],
   "source": []
  },
  {
   "cell_type": "code",
   "execution_count": 128,
   "metadata": {},
   "outputs": [
    {
     "data": {
      "text/plain": [
       "6"
      ]
     },
     "execution_count": 128,
     "metadata": {},
     "output_type": "execute_result"
    }
   ],
   "source": [
    "def fak(n):\n",
    "    if(n>1):\n",
    "        return n * fak(n-1)\n",
    "    else:\n",
    "        return n\n",
    "\n",
    "fak(4)//(fak(2)*fak(2))"
   ]
  },
  {
   "cell_type": "code",
   "execution_count": 127,
   "metadata": {},
   "outputs": [
    {
     "name": "stdout",
     "output_type": "stream",
     "text": [
      "{(1, 2, 1, 2), (1, 1, 2, 2), (2, 1, 2, 1), (2, 2, 1, 1), (2, 1, 1, 2), (1, 2, 2, 1)}\n",
      "\n",
      "24\n",
      "6\n"
     ]
    }
   ],
   "source": [
    "def perms (L):\n",
    "    if len(L) <= 1:\n",
    "        return (L,)\n",
    "    return tuple((L[i],) + P for i in range(len(L)) for P in perms(L[:i]+L[i+1:]))\n",
    "\n",
    "\n",
    "test = perms((1,1,2,2))\n",
    "list = set()\n",
    "for t in test:\n",
    "    list.add(t)\n",
    "    \n",
    "print(list)\n",
    "\n",
    "#print(len(perms((1,2,2))))\n",
    "#print(perms((1,1,2,2)))\n",
    "print()\n",
    "#print(perms((1,1,1,2)))\n",
    "\n",
    "print(len(perms((1,1,2,2))))\n",
    "print(len(list))"
   ]
  },
  {
   "cell_type": "code",
   "execution_count": 171,
   "metadata": {},
   "outputs": [
    {
     "name": "stdout",
     "output_type": "stream",
     "text": [
      "210\n",
      "210\n",
      "990\n",
      "990\n",
      "\n"
     ]
    },
    {
     "data": {
      "text/plain": [
       "0"
      ]
     },
     "execution_count": 171,
     "metadata": {},
     "output_type": "execute_result"
    }
   ],
   "source": [
    "def fak(n):\n",
    "    if(n>1):\n",
    "        return n * fak(n-1)\n",
    "    else:\n",
    "        return n\n",
    "\n",
    "fak(6)\n",
    "\n",
    "# 7 Leute, die gewinnen können\n",
    "# 3 Plätze zu vergeben\n",
    "\n",
    "print(7 * 6 * 5) # Anzahl der Möglichkeiten mal Anzahl der Möglichkeiten\n",
    "print(fak(7)//fak(4)) # Anzahl aller - Anzahl derjenigen, die keine Rolle spielen\n",
    "\n",
    "print(9*10*11)\n",
    "print(fak(11)//fak(8))\n",
    "\n",
    "print()\n",
    "\n",
    "# 7 Geschenke\n",
    "# Drei aussuchen, Reihenfolge egal\n",
    "\n",
    "210 / fak(3)\n",
    "\n",
    "(fak(7)/fak(4))/fak(3)\n",
    "\n",
    "fak(7) // (fak(5)*fak(2))\n",
    "\n",
    "7*6 / 2\n",
    "\n",
    "fak(7) // fak(3) // fak(4)\n",
    "\n",
    "fak(7) // (fak(3)*(fak(7)-fak(3)))"
   ]
  },
  {
   "cell_type": "code",
   "execution_count": 1,
   "metadata": {},
   "outputs": [
    {
     "name": "stdout",
     "output_type": "stream",
     "text": [
      "210\n",
      "210\n",
      "990\n",
      "990\n",
      "\n",
      "21\n",
      "42\n",
      "42\n",
      "6\n"
     ]
    },
    {
     "data": {
      "text/plain": [
       "216"
      ]
     },
     "execution_count": 1,
     "metadata": {},
     "output_type": "execute_result"
    }
   ],
   "source": [
    "def fak(n):\n",
    "    if(n>1):\n",
    "        return n * fak(n-1)\n",
    "    else:\n",
    "        return n\n",
    "\n",
    "fak(6)\n",
    "\n",
    "# 7 Leute, die gewinnen können\n",
    "# 3 Plätze zu vergeben\n",
    "\n",
    "print(7 * 6 * 5) # Anzahl der Möglichkeiten mal Anzahl der Möglichkeiten\n",
    "print(fak(7)//fak(4)) # Anzahl aller - Anzahl derjenigen, die keine Rolle spielen\n",
    "\n",
    "print(9*10*11)\n",
    "print(fak(11)//fak(8))\n",
    "\n",
    "print()\n",
    "\n",
    "# 7 Geschenke\n",
    "# Drei aussuchen, Reihenfolge egal\n",
    "\n",
    "210 / fak(3)\n",
    "\n",
    "(fak(7)/fak(4))/fak(3)\n",
    "\n",
    "fak(7) // (fak(5)*fak(2))\n",
    "\n",
    "7*6 / 2\n",
    "\n",
    "fak(7) // fak(3) // fak(4)\n",
    "\n",
    "print(fak(7) // (fak(5)*(7-5)))\n",
    "print(fak(7) // fak(5))\n",
    "print(7*6)\n",
    "\n",
    "print(fak(3)) #546-\n",
    "\n",
    "1*6*6*6\n",
    "\n"
   ]
  },
  {
   "cell_type": "code",
   "execution_count": 16,
   "metadata": {},
   "outputs": [
    {
     "data": {
      "text/plain": [
       "648"
      ]
     },
     "execution_count": 16,
     "metadata": {},
     "output_type": "execute_result"
    }
   ],
   "source": [
    "3*6*6*6"
   ]
  },
  {
   "cell_type": "code",
   "execution_count": 28,
   "metadata": {},
   "outputs": [
    {
     "data": {
      "text/plain": [
       "540"
      ]
     },
     "execution_count": 28,
     "metadata": {},
     "output_type": "execute_result"
    }
   ],
   "source": [
    "3*(6*6*6)+(\n",
    "    -(6*6)-(6*6)-(6*6)-6+)"
   ]
  },
  {
   "cell_type": "code",
   "execution_count": 19,
   "metadata": {},
   "outputs": [
    {
     "name": "stdout",
     "output_type": "stream",
     "text": [
      "17\n",
      "2\n",
      "0\n"
     ]
    }
   ],
   "source": [
    "zeichen = [\"A\", \"B\",\"C\",\"D\",\"E\",\"F\"]\n",
    "\n",
    "list = []\n",
    "for(i"
   ]
  },
  {
   "cell_type": "code",
   "execution_count": 20,
   "metadata": {},
   "outputs": [
    {
     "data": {
      "text/plain": [
       "102"
      ]
     },
     "execution_count": 20,
     "metadata": {},
     "output_type": "execute_result"
    }
   ],
   "source": [
    "17*6"
   ]
  },
  {
   "cell_type": "code",
   "execution_count": 37,
   "metadata": {},
   "outputs": [
    {
     "data": {
      "text/plain": [
       "1626"
      ]
     },
     "execution_count": 37,
     "metadata": {},
     "output_type": "execute_result"
    }
   ],
   "source": [
    "test = 1*2*3*6*6*6+1*2*6*6*6+1*2*6*6*6\n",
    "\n",
    "test - (3*(6*6*6)+(6*6)+(6*6)+(6*6)+6))"
   ]
  },
  {
   "cell_type": "code",
   "execution_count": 4,
   "metadata": {},
   "outputs": [
    {
     "ename": "ImportError",
     "evalue": "cannot import name 'Fractions'",
     "output_type": "error",
     "traceback": [
      "\u001b[1;31m---------------------------------------------------------------------------\u001b[0m",
      "\u001b[1;31mImportError\u001b[0m                               Traceback (most recent call last)",
      "\u001b[1;32m<ipython-input-4-30b2119974cc>\u001b[0m in \u001b[0;36m<module>\u001b[1;34m()\u001b[0m\n\u001b[1;32m----> 1\u001b[1;33m \u001b[1;32mfrom\u001b[0m \u001b[0msympy\u001b[0m \u001b[1;32mimport\u001b[0m \u001b[0mFractions\u001b[0m\u001b[1;33m\u001b[0m\u001b[0m\n\u001b[0m\u001b[0;32m      2\u001b[0m \u001b[1;33m\u001b[0m\u001b[0m\n\u001b[0;32m      3\u001b[0m \u001b[0mFraction\u001b[0m\u001b[1;33m(\u001b[0m\u001b[0mint\u001b[0m\u001b[1;33m(\u001b[0m\u001b[0mround\u001b[0m\u001b[1;33m(\u001b[0m\u001b[1;36m16\u001b[0m\u001b[1;33m*\u001b[0m\u001b[0mtarget_number\u001b[0m\u001b[1;33m)\u001b[0m\u001b[1;33m)\u001b[0m\u001b[1;33m,\u001b[0m\u001b[1;36m16\u001b[0m\u001b[1;33m)\u001b[0m\u001b[1;33m\u001b[0m\u001b[0m\n",
      "\u001b[1;31mImportError\u001b[0m: cannot import name 'Fractions'"
     ]
    }
   ],
   "source": [
    "from sympy import Fractions\n",
    "\n",
    "Fraction(int(round(16*target_number)),16)"
   ]
  },
  {
   "cell_type": "code",
   "execution_count": 13,
   "metadata": {},
   "outputs": [
    {
     "data": {
      "text/plain": [
       "Fraction(16, 1)"
      ]
     },
     "execution_count": 13,
     "metadata": {},
     "output_type": "execute_result"
    }
   ],
   "source": [
    "from fractions import Fraction\n",
    "import math\n",
    "\n",
    "target_number = math.sqrt(3)-0.0005\n",
    "\n",
    "Fraction(target_number)\n",
    "\n",
    "#Fraction(int(round(16*target_number)),16)\n",
    "\n",
    "Fraction(16)"
   ]
  },
  {
   "cell_type": "code",
   "execution_count": null,
   "metadata": {},
   "outputs": [],
   "source": []
  }
 ],
 "metadata": {
  "kernelspec": {
   "display_name": "Python 3",
   "language": "python",
   "name": "python3"
  },
  "language_info": {
   "codemirror_mode": {
    "name": "ipython",
    "version": 3
   },
   "file_extension": ".py",
   "mimetype": "text/x-python",
   "name": "python",
   "nbconvert_exporter": "python",
   "pygments_lexer": "ipython3",
   "version": "3.6.5"
  }
 },
 "nbformat": 4,
 "nbformat_minor": 2
}
