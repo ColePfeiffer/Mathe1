{
 "cells": [
  {
   "cell_type": "code",
   "execution_count": 30,
   "metadata": {},
   "outputs": [
    {
     "name": "stdout",
     "output_type": "stream",
     "text": [
      "Meiste Einsen in der Binärdarstellung ( 5 ) in Zahl:  31\n"
     ]
    }
   ],
   "source": [
    "# Testat: Übung 1 A \n",
    "\n",
    "# Liste A von positiven natürlichen Zahlen \n",
    "# Ziel: Es soll die Zahl ausgeben werden, die \n",
    "# die meisten Einsen in der Binärdarstellung enthält\n",
    "\n",
    "#listOfNums = [14,1,25,38,69,22,70,1995]\n",
    "listOfNums = [27,29,30,31,32,34,60]\n",
    "numWithMostOnes = 0\n",
    "mostOnes = 0\n",
    "\n",
    "for z in listOfNums:\n",
    "    binZ = dezToBin(z)\n",
    "    addedOnes = 0 # zählt die Anzahl der Einsen\n",
    "\n",
    "    # Nimmt alle Ziffern aus der Liste und addiert sie miteinander\n",
    "    # Nullen spielen keine Rolle\n",
    "    \n",
    "    for p in binZ: # alternativ mit einer While und pop() lösbar\n",
    "        addedOnes = addedOnes + p\n",
    "\n",
    "    if (mostOnes < addedOnes):\n",
    "        mostOnes = addedOnes\n",
    "        numWithMostOnes = z\n",
    "    \n",
    "print(\"Meiste Einsen in der Binärdarstellung (\", mostOnes, \") in Zahl: \",numWithMostOnes)\n",
    "\n",
    "def dezToBin(n):\n",
    "    if n == 0:\n",
    "        return [0]\n",
    "    result = []\n",
    "    while n > 0:\n",
    "        result.append(n%2)\n",
    "        n = n // 2\n",
    "    return list(reversed(result))"
   ]
  },
  {
   "cell_type": "code",
   "execution_count": 20,
   "metadata": {},
   "outputs": [
    {
     "ename": "TypeError",
     "evalue": "'int' object is not iterable",
     "output_type": "error",
     "traceback": [
      "\u001b[1;31m---------------------------------------------------------------------------\u001b[0m",
      "\u001b[1;31mTypeError\u001b[0m                                 Traceback (most recent call last)",
      "\u001b[1;32m<ipython-input-20-3f1d04f3b334>\u001b[0m in \u001b[0;36m<module>\u001b[1;34m()\u001b[0m\n\u001b[0;32m      1\u001b[0m \u001b[0mtest\u001b[0m \u001b[1;33m=\u001b[0m \u001b[1;36m1110\u001b[0m\u001b[1;33m\u001b[0m\u001b[0m\n\u001b[0;32m      2\u001b[0m \u001b[1;33m\u001b[0m\u001b[0m\n\u001b[1;32m----> 3\u001b[1;33m \u001b[1;32mfor\u001b[0m \u001b[0mi\u001b[0m \u001b[1;32min\u001b[0m \u001b[0mtest\u001b[0m\u001b[1;33m:\u001b[0m\u001b[1;33m\u001b[0m\u001b[0m\n\u001b[0m\u001b[0;32m      4\u001b[0m     \u001b[0mprint\u001b[0m\u001b[1;33m(\u001b[0m\u001b[0mi\u001b[0m\u001b[1;33m)\u001b[0m\u001b[1;33m\u001b[0m\u001b[0m\n",
      "\u001b[1;31mTypeError\u001b[0m: 'int' object is not iterable"
     ]
    }
   ],
   "source": [
    "test = 1110\n",
    "\n",
    "for i in test:\n",
    "    print(i)"
   ]
  },
  {
   "cell_type": "code",
   "execution_count": null,
   "metadata": {},
   "outputs": [],
   "source": []
  }
 ],
 "metadata": {
  "kernelspec": {
   "display_name": "Python 3",
   "language": "python",
   "name": "python3"
  },
  "language_info": {
   "codemirror_mode": {
    "name": "ipython",
    "version": 3
   },
   "file_extension": ".py",
   "mimetype": "text/x-python",
   "name": "python",
   "nbconvert_exporter": "python",
   "pygments_lexer": "ipython3",
   "version": "3.6.5"
  }
 },
 "nbformat": 4,
 "nbformat_minor": 2
}
