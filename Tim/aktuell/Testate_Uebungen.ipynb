{
 "cells": [
  {
   "cell_type": "code",
   "execution_count": null,
   "metadata": {},
   "outputs": [],
   "source": [
    "# Testat: Übung 1 A \n",
    "\n",
    "# Liste A von positiven natürlichen Zahlen \n",
    "# Ziel: Es soll die Zahl ausgeben werden, die \n",
    "# die meisten Einsen in der Binärdarstellung enthält\n",
    "\n",
    "#listOfNums = [14,1,25,38,69,22,70,1995]\n",
    "listOfNums = [27,29,30,31,32,34,60]\n",
    "numWithMostOnes = 0\n",
    "mostOnes = 0\n",
    "\n",
    "def dezToBin(n):\n",
    "    if n == 0:\n",
    "        return [0]\n",
    "    result = []\n",
    "    while n > 0:\n",
    "        result.append(n%2)\n",
    "        n = n // 2\n",
    "    return list(reversed(result))\n",
    "\n",
    "\n",
    "for z in listOfNums:\n",
    "    binZ = dezToBin(z)\n",
    "    addedOnes = 0 # zählt die Anzahl der Einsen\n",
    "\n",
    "    # Nimmt alle Ziffern aus der Liste und addiert sie miteinander\n",
    "    # Nullen spielen keine Rolle\n",
    "    \n",
    "    for p in binZ: # alternativ mit einer While und pop() lösbar\n",
    "        addedOnes = addedOnes + p\n",
    "\n",
    "    if (mostOnes < addedOnes):\n",
    "        mostOnes = addedOnes\n",
    "        numWithMostOnes = z\n",
    "    \n",
    "print(\"Meiste Einsen in der Binärdarstellung (\", mostOnes, \") in Zahl: \",numWithMostOnes)"
   ]
  },
  {
   "cell_type": "code",
   "execution_count": 90,
   "metadata": {},
   "outputs": [
    {
     "data": {
      "text/plain": [
       "[5, 10, 13, 15, 17, 20, 25, 26, 29, 30, 34, 35, 37, 39, 40, 45]"
      ]
     },
     "execution_count": 90,
     "metadata": {},
     "output_type": "execute_result"
    }
   ],
   "source": [
    "'''\n",
    "SS 2019: Übung 1A\n",
    "\n",
    "Aufgabenstellung:\n",
    "\n",
    "Hypotenuse: Die Gerade, die gegenüber des rechten Winkels liegt... Sprich die längste Seite eines rechtwinkligen Dreiecks\n",
    "5,10,13,15,17...\n",
    "\n",
    "Satz des Pythagoras: a**2 + b**2 = c**2 \n",
    "c**2 == Hypotenuse\n",
    "\n",
    "'''\n",
    "\n",
    "import math\n",
    "\n",
    "# Dient nur dem Verständnis\n",
    "def findeABzuHypo(c):\n",
    "    a = 1\n",
    "    b = 1\n",
    "    maxZahl = 11\n",
    "    while a < maxZahl:\n",
    "        b = 1\n",
    "\n",
    "        while b < maxZahl:\n",
    "            print(\"A: \",a, \"    B: \", b)\n",
    "            if(a**2 + b**2 == 5**2):\n",
    "                print (a,b,a**2,b**2)\n",
    "                return a,b\n",
    "\n",
    "            b = b+1\n",
    "\n",
    "        a = a+1\n",
    "        \n",
    "# Eigentliche Lösung\n",
    "def zeigeHypo():\n",
    "    a = 1\n",
    "    b = 1\n",
    "    c = 0\n",
    "    \n",
    "    maxZahl = 40\n",
    "    listOfHyps = []\n",
    "    \n",
    "    while a < maxZahl:\n",
    "        b = 1\n",
    "\n",
    "        while b < maxZahl:\n",
    "            #print(\"A: \",a, \"    B: \", b)\n",
    "            cQ = a**2 + b**2\n",
    "            c  = math.sqrt(cQ) \n",
    "            if(c%1 == 0):\n",
    "                c = int(c)\n",
    "                if c not in listOfHyps:\n",
    "                    listOfHyps.append(int(c))\n",
    "            b = b+1\n",
    "\n",
    "        a = a+1\n",
    "    \n",
    "    listOfHyps.sort()\n",
    "    return listOfHyps\n",
    "        \n",
    "zeigeHypo()"
   ]
  },
  {
   "cell_type": "code",
   "execution_count": 68,
   "metadata": {},
   "outputs": [
    {
     "data": {
      "text/plain": [
       "2.0"
      ]
     },
     "execution_count": 68,
     "metadata": {},
     "output_type": "execute_result"
    }
   ],
   "source": [
    "int(16.7)\n",
    "\n",
    "7.5//3"
   ]
  },
  {
   "cell_type": "code",
   "execution_count": null,
   "metadata": {},
   "outputs": [],
   "source": []
  },
  {
   "cell_type": "code",
   "execution_count": null,
   "metadata": {},
   "outputs": [],
   "source": []
  }
 ],
 "metadata": {
  "kernelspec": {
   "display_name": "Python 3",
   "language": "python",
   "name": "python3"
  },
  "language_info": {
   "codemirror_mode": {
    "name": "ipython",
    "version": 3
   },
   "file_extension": ".py",
   "mimetype": "text/x-python",
   "name": "python",
   "nbconvert_exporter": "python",
   "pygments_lexer": "ipython3",
   "version": "3.6.5"
  }
 },
 "nbformat": 4,
 "nbformat_minor": 2
}
