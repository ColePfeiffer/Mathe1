{
 "cells": [
  {
   "cell_type": "code",
   "execution_count": 1,
   "metadata": {},
   "outputs": [
    {
     "name": "stdout",
     "output_type": "stream",
     "text": [
      "-3\n",
      "5\n",
      "8\n",
      "-13\n"
     ]
    }
   ],
   "source": [
    "#14 ggT Linearfaktordarstellung\n",
    "# 1 = 18a + 11b\n",
    "\n",
    "for a in range (-20,20):\n",
    "    for b in range (-20,20):\n",
    "        if(18*a + 11*b) == 1:\n",
    "            print(a)\n",
    "            print(b)\n",
    "            \n",
    "#Ergebnis: -3, 5"
   ]
  },
  {
   "cell_type": "code",
   "execution_count": null,
   "metadata": {},
   "outputs": [],
   "source": [
    "#15 Restklassenring \n",
    "\n",
    "for a in range(0,27):\n",
    "    for b in range(0,27):\n",
    "        if (a*b == 27):\n",
    "            print(a, b)\n",
    "            \n",
    "            "
   ]
  },
  {
   "cell_type": "code",
   "execution_count": null,
   "metadata": {},
   "outputs": [],
   "source": [
    "#16 Inverses Element in Restklassenring finden, Quotient\n",
    "# 2/9 in Z23\n",
    "\n",
    "for a in range(0,23):\n",
    "    if ((9 * a)%23 == 2):\n",
    "        print(a)\n",
    "        \n",
    "def quotientBerechnen(z,n,moduloZ): #4,5,7\n",
    "    for aktuelleZahl in range(0,moduloZ):\n",
    "        if ((n * aktuelleZahl)%moduloZ == z):\n",
    "            print(n, \" * (\", aktuelleZahl, \") in Z\",moduloZ, \" = \",z);\n",
    "            print(\"Gesuchte Zahl: \", aktuelleZahl)\n",
    "\n",
    "quotientBerechnen(4,5,7)\n",
    "        \n",
    "#Berechnen Sie das inverse Element (bzgl. der Addition) von 4 in Z=13Z.\n",
    "\n",
    "for i in range(0,13):\n",
    "    if (4+i)%13==0:\n",
    "        print(i)"
   ]
  },
  {
   "cell_type": "code",
   "execution_count": 2,
   "metadata": {},
   "outputs": [
    {
     "name": "stdout",
     "output_type": "stream",
     "text": [
      "(59, 84)\n",
      "Kleinster positiver Teiler:  59\n",
      "Größter negativer Teiler:  -25\n"
     ]
    }
   ],
   "source": [
    "# Konguenzsystem, chinesischer Restsatz\n",
    "from sympy.ntheory.modular import crt\n",
    "import math\n",
    "\n",
    "print(crt([3,4,7],[2,3,3])) #Erst Modulo, dann andere Ziffern\n",
    "# Ergebnis: Kleinste positive Zahl, Zweite Zahl zum Berechnen des größten negativen Teilers\n",
    "\n",
    "print(\"Kleinster positiver Teiler: \", 59)\n",
    "print(\"Größter negativer Teiler: \", 59-84)\n",
    "\n",
    "# Größten gemeinsamen Teiler finden von drei Zahlen\n",
    "math.gcd(471757130107,(math.gcd(471694074821,471766128373)))"
   ]
  },
  {
   "cell_type": "code",
   "execution_count": 9,
   "metadata": {},
   "outputs": [
    {
     "name": "stdout",
     "output_type": "stream",
     "text": [
      "gibt ca. Anzahl aller Primzahlen bis n aus:\n",
      "3102103442166.0845\n",
      "\n",
      "\n",
      "gibt ca. die n-te Primzahl aus:\n",
      "3223619130191664.0\n",
      "\n",
      "\n",
      "Gibt die Wahrscheinlichkeit aus einer Anzahl von Zahlen von 1 bis n zufällig eine Primzahl auszuwählen.\n",
      "0.031021034421660845\n"
     ]
    }
   ],
   "source": [
    "#Kanonische Primfaktorzerlegung in Python\n",
    "\n",
    "from sympy import factorint\n",
    "\n",
    "factorint(9999)\n",
    "\n",
    "#26 x-te Primzahl ausgeben\n",
    "\n",
    "from sympy import prime\n",
    "\n",
    "prime(42)\n",
    "\n",
    "#Primzahlensatz anwenden, Nährung\n",
    "\n",
    "#28\n",
    "\n",
    "from math import log\n",
    "\n",
    "n = 10**14\n",
    "\n",
    "print(\"gibt ca. Anzahl aller Primzahlen bis n aus:\")\n",
    "print(n / log(n)) #dann einfach nur mit den bestehenden Zahlen vergleichen und/oder Gemeinsamkeiten erkennen\n",
    "\n",
    "print(\"\\n\")\n",
    "print(\"gibt ca. die n-te Primzahl aus:\")\n",
    "print(n * log(n)) #\n",
    "\n",
    "print(\"\\n\")\n",
    "print(\"Gibt die Wahrscheinlichkeit aus einer Anzahl von Zahlen von 1 bis n zufällig eine Primzahl auszuwählen.\")\n",
    "print(1 / log(n))"
   ]
  },
  {
   "cell_type": "code",
   "execution_count": 1,
   "metadata": {},
   "outputs": [
    {
     "name": "stdout",
     "output_type": "stream",
     "text": [
      "Aufgabe 2:  654729075\n"
     ]
    }
   ],
   "source": [
    "#Produkt\n",
    "produkt = 1 # Wichtig! Produkt muss am Anfang auf 1 stehen\n",
    "for i in range (1,20,2): #Anfang, Ende, Steps\n",
    "    produkt = produkt * i\n",
    "\n",
    "print(\"Aufgabe 2: \", produkt)\n",
    "\n",
    "#Summe\n"
   ]
  },
  {
   "cell_type": "code",
   "execution_count": 2,
   "metadata": {},
   "outputs": [
    {
     "name": "stdout",
     "output_type": "stream",
     "text": [
      "3\n"
     ]
    }
   ],
   "source": [
    "# Modulo\n",
    "# Negative Zahlen ins Positive wandeln\n",
    "def negZahl(negativeZahl, mod):\n",
    "    while(negativeZahl < 0):\n",
    "        negativeZahl = negativeZahl + mod\n",
    "    \n",
    "    print(negativeZahl)\n",
    "    \n",
    "negZahl(-17,4)"
   ]
  },
  {
   "cell_type": "code",
   "execution_count": null,
   "metadata": {},
   "outputs": [],
   "source": []
  }
 ],
 "metadata": {
  "kernelspec": {
   "display_name": "Python 3",
   "language": "python",
   "name": "python3"
  },
  "language_info": {
   "codemirror_mode": {
    "name": "ipython",
    "version": 3
   },
   "file_extension": ".py",
   "mimetype": "text/x-python",
   "name": "python",
   "nbconvert_exporter": "python",
   "pygments_lexer": "ipython3",
   "version": "3.6.5"
  }
 },
 "nbformat": 4,
 "nbformat_minor": 2
}
