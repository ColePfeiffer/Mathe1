{
 "cells": [
  {
   "cell_type": "code",
   "execution_count": 1,
   "metadata": {},
   "outputs": [
    {
     "name": "stdout",
     "output_type": "stream",
     "text": [
      "-3\n",
      "5\n",
      "8\n",
      "-13\n"
     ]
    }
   ],
   "source": [
    "#14 ggT Linearfaktordarstellung\n",
    "# 1 = 18a + 11b\n",
    "\n",
    "for a in range (-20,20):\n",
    "    for b in range (-20,20):\n",
    "        if(18*a + 11*b) == 1:\n",
    "            print(a)\n",
    "            print(b)\n",
    "            \n",
    "#Ergebnis: -3, 5"
   ]
  },
  {
   "cell_type": "code",
   "execution_count": null,
   "metadata": {},
   "outputs": [],
   "source": [
    "#15 Restklassenring \n",
    "\n",
    "for a in range(0,27):\n",
    "    for b in range(0,27):\n",
    "        if (a*b == 27):\n",
    "            print(a, b)\n",
    "            \n",
    "            "
   ]
  },
  {
   "cell_type": "code",
   "execution_count": null,
   "metadata": {},
   "outputs": [],
   "source": [
    "#16 Inverses Element in Restklassenring finden, Quotient\n",
    "# 2/9 in Z23\n",
    "\n",
    "for a in range(0,23):\n",
    "    if ((9 * a)%23 == 2):\n",
    "        print(a)"
   ]
  },
  {
   "cell_type": "code",
   "execution_count": 2,
   "metadata": {},
   "outputs": [
    {
     "name": "stdout",
     "output_type": "stream",
     "text": [
      "(59, 84)\n",
      "Kleinster positiver Teiler:  59\n",
      "Größter negativer Teiler:  -25\n"
     ]
    }
   ],
   "source": [
    "# Konguenzsystem, chinesischer Restsatz\n",
    "\n",
    "from sympy.ntheory.modular import crt\n",
    "\n",
    "print(crt([3,4,7],[2,3,3]))\n",
    "print(\"Kleinster positiver Teiler: \", 59)\n",
    "print(\"Größter negativer Teiler: \", 59-84)"
   ]
  },
  {
   "cell_type": "code",
   "execution_count": 9,
   "metadata": {},
   "outputs": [
    {
     "name": "stdout",
     "output_type": "stream",
     "text": [
      "gibt ca. Anzahl aller Primzahlen bis n aus:\n",
      "3102103442166.0845\n",
      "\n",
      "\n",
      "gibt ca. die n-te Primzahl aus:\n",
      "3223619130191664.0\n",
      "\n",
      "\n",
      "Gibt die Wahrscheinlichkeit aus einer Anzahl von Zahlen von 1 bis n zufällig eine Primzahl auszuwählen.\n",
      "0.031021034421660845\n"
     ]
    }
   ],
   "source": [
    "#Kanonische Primfaktorzerlegung in Python\n",
    "\n",
    "from sympy import factorint\n",
    "\n",
    "factorint(9999)\n",
    "\n",
    "#26 x-te Primzahl ausgeben\n",
    "\n",
    "from sympy import prime\n",
    "\n",
    "prime(42)\n",
    "\n",
    "#Primzahlensatz anwenden, Nährung\n",
    "\n",
    "#28\n",
    "\n",
    "from math import log\n",
    "\n",
    "n = 10**14\n",
    "\n",
    "print(\"gibt ca. Anzahl aller Primzahlen bis n aus:\")\n",
    "print(n / log(n)) #dann einfach nur mit den bestehenden Zahlen vergleichen und/oder Gemeinsamkeiten erkennen\n",
    "\n",
    "print(\"\\n\")\n",
    "print(\"gibt ca. die n-te Primzahl aus:\")\n",
    "print(n * log(n)) #\n",
    "\n",
    "print(\"\\n\")\n",
    "print(\"Gibt die Wahrscheinlichkeit aus einer Anzahl von Zahlen von 1 bis n zufällig eine Primzahl auszuwählen.\")\n",
    "print(1 / log(n))"
   ]
  },
  {
   "cell_type": "code",
   "execution_count": null,
   "metadata": {},
   "outputs": [],
   "source": []
  }
 ],
 "metadata": {
  "kernelspec": {
   "display_name": "Python 3",
   "language": "python",
   "name": "python3"
  },
  "language_info": {
   "codemirror_mode": {
    "name": "ipython",
    "version": 3
   },
   "file_extension": ".py",
   "mimetype": "text/x-python",
   "name": "python",
   "nbconvert_exporter": "python",
   "pygments_lexer": "ipython3",
   "version": "3.6.5"
  }
 },
 "nbformat": 4,
 "nbformat_minor": 2
}
