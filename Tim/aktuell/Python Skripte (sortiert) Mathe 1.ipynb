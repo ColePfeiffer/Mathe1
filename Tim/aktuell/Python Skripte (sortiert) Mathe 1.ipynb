{
 "cells": [
  {
   "cell_type": "code",
   "execution_count": 26,
   "metadata": {},
   "outputs": [
    {
     "name": "stdout",
     "output_type": "stream",
     "text": [
      "-3 5\n",
      "8 -13\n",
      "-25 41\n",
      "-14 23\n",
      "-3 5\n",
      "8 -13\n",
      "19 -31\n",
      "30 -49\n",
      "0\n",
      "2\n",
      "4\n",
      "6\n"
     ]
    },
    {
     "data": {
      "text/plain": [
       "43"
      ]
     },
     "execution_count": 26,
     "metadata": {},
     "output_type": "execute_result"
    }
   ],
   "source": [
    "'''\n",
    "Gleichungen ______________________\n",
    "\n",
    "ggT Linearfaktordarstellung\n",
    "\n",
    "'''\n",
    "#14 ggT Linearfaktordarstellung für 1 = 18a + 11b\n",
    "\n",
    "for a in range (-20,20):\n",
    "    for b in range (-20,20):\n",
    "        if(18*a + 11*b) == 1:\n",
    "            print(a,b)\n",
    "            \n",
    "#Ergebnis: -3, 5\n",
    "\n",
    "'''\n",
    "Der größte gemeinsame Teiler von 18 und 11 ist 1. \n",
    "Geben Sie ganze Zahlen a und b an, so dass\n",
    "1 = 18a + 11b gilt.\n",
    "'''\n",
    "\n",
    "for a in range(-50,50):\n",
    "    for b in range(-50,50):\n",
    "        if (18*a + 11*b == 1):\n",
    "            print(a,b)\n",
    "\n",
    "'''\n",
    "Alle Lösungen für eine Gleichung finden\n",
    "'''\n",
    "for x in range (0,8):\n",
    "    tempErgebnis = (x - 2) * (x - 4)\n",
    "    if (tempErgebnis % 8 == 0):\n",
    "        print(x)\n",
    "        \n",
    "'''\n",
    "Größten gemeinsamen Teiler finden von drei Zahlen\n",
    "'''\n",
    "import math\n",
    "\n",
    "math.gcd(471757130107,(math.gcd(471694074821,471766128373)))"
   ]
  },
  {
   "cell_type": "code",
   "execution_count": 17,
   "metadata": {},
   "outputs": [
    {
     "name": "stdout",
     "output_type": "stream",
     "text": [
      "gibt ca. Anzahl aller Primzahlen bis n aus:\n",
      "3102103442166.0845\n",
      "\n",
      "\n",
      "gibt ca. die n-te Primzahl aus:\n",
      "3223619130191664.0\n",
      "\n",
      "\n",
      "Gibt die Wahrscheinlichkeit aus einer Anzahl von Zahlen von 1 bis n zufällig eine Primzahl auszuwählen.\n",
      "0.031021034421660845\n"
     ]
    },
    {
     "data": {
      "text/plain": [
       "[2, 2, 2, 2]"
      ]
     },
     "execution_count": 17,
     "metadata": {},
     "output_type": "execute_result"
    }
   ],
   "source": [
    "'''\n",
    "Primzahlen\n",
    "'''\n",
    "\n",
    "#26 x-te Primzahl ausgeben\n",
    "\n",
    "from sympy import prime\n",
    "\n",
    "prime(42)\n",
    "\n",
    "#Primzahlensatz anwenden, Nährung\n",
    "from math import log\n",
    "\n",
    "n = 10**14\n",
    "\n",
    "print(\"gibt ca. Anzahl aller Primzahlen bis n aus:\")\n",
    "print(n / log(n)) #dann einfach nur mit den bestehenden Zahlen vergleichen und/oder Gemeinsamkeiten erkennen\n",
    "\n",
    "print(\"\\n\")\n",
    "print(\"gibt ca. die n-te Primzahl aus:\")\n",
    "print(n * log(n)) #\n",
    "\n",
    "print(\"\\n\")\n",
    "print(\"Gibt die Wahrscheinlichkeit aus einer Anzahl von Zahlen von 1 bis n zufällig eine Primzahl auszuwählen.\")\n",
    "print(1 / log(n))\n",
    "\n",
    "\n",
    "#Kanonische Primfaktorzerlegung in Python\n",
    "from sympy import factorint\n",
    "factorint(9999)\n",
    "\n",
    "# Alternativ... Manuell:\n",
    "def kanoPrimFaktZerlegung(n):\n",
    "    p = 2\n",
    "    list1 = []\n",
    "    \n",
    "    for i in range(0,n):\n",
    "        \n",
    "        if(n % p == 0):\n",
    "            list1.append(p)\n",
    "            n = n // p\n",
    "            p = 2\n",
    "        else:\n",
    "            p = p+1\n",
    "        \n",
    "    return(list1)\n",
    "\n",
    "kanoPrimFaktZerlegung(16)"
   ]
  },
  {
   "cell_type": "code",
   "execution_count": 38,
   "metadata": {},
   "outputs": [
    {
     "name": "stdout",
     "output_type": "stream",
     "text": [
      "3 9\n",
      "9 3\n",
      "13\n",
      "5  * ( 5 ) in Z 7  =  4\n",
      "Gesuchte Zahl:  5\n",
      "9\n",
      "Negative Zahlen ins Positive wandeln:\n",
      "3\n",
      "5 5\n",
      "7 7\n",
      "11 11\n",
      "13 13\n",
      "17 17\n",
      "19 19\n",
      "23 23\n",
      "5 5\n",
      "7 7\n",
      "11 11\n",
      "13 13\n",
      "17 17\n",
      "19 19\n",
      "23 23\n",
      "1\n",
      "801\n",
      "Anzahl:  2\n"
     ]
    }
   ],
   "source": [
    "'''\n",
    "Restklassenringe und Modulo\n",
    "\n",
    "'''\n",
    "#15 Restklassenring \n",
    "\n",
    "for a in range(0,27):\n",
    "    for b in range(0,27):\n",
    "        if (a*b == 27):\n",
    "            print(a, b)\n",
    "\n",
    "            \n",
    "'''\n",
    "#16 Inverses Element in Restklassenring finden, Quotient 2/9 in Z23\n",
    "'''\n",
    "for a in range(0,23):\n",
    "    if ((9 * a)%23 == 2):\n",
    "        print(a)\n",
    "        \n",
    "def quotientBerechnen(z,n,moduloZ): #4,5,7\n",
    "    for aktuelleZahl in range(0,moduloZ):\n",
    "        if ((n * aktuelleZahl)%moduloZ == z):\n",
    "            print(n, \" * (\", aktuelleZahl, \") in Z\",moduloZ, \" = \",z);\n",
    "            print(\"Gesuchte Zahl: \", aktuelleZahl)\n",
    "\n",
    "quotientBerechnen(4,5,7)\n",
    "        \n",
    "#Berechnen Sie das inverse Element (bzgl. der Addition) von 4 in Z=13Z.\n",
    "\n",
    "for i in range(0,13):\n",
    "    if (4+i)%13==0:\n",
    "        print(i)\n",
    "            \n",
    "'''\n",
    "Negative Zahlen ins Positive wandeln\n",
    "'''     \n",
    "print(\"Negative Zahlen ins Positive wandeln:\")\n",
    "def negZahl(negativeZahl, mod):\n",
    "    while(negativeZahl < 0):\n",
    "        negativeZahl = negativeZahl + mod\n",
    "    \n",
    "    print(negativeZahl)\n",
    "    \n",
    "negZahl(-17,4)\n",
    "            \n",
    "'''\n",
    "#17\n",
    "Geben Sie eine von 1 verschiedene Zahl an, die in Z/24Z einen Kehrwert hat.\n",
    "\n",
    "Kehrwert: Die Zahl, die ich mit einer anderen Zahl multipliziere, \n",
    "um 1 in Modulo des Restklassenrings zu erhalten.\n",
    "'''\n",
    "\n",
    "for a in range(0,24):\n",
    "    for b in range(0,24):\n",
    "        if (a*b)%24 == 1 and a is not 1 and b is not 1:\n",
    "            print(a,b)\n",
    "'''          \n",
    "#19 \n",
    "Wie viele Elemente von Z/802Z sind bezüglich der Multiplikation invers zu sich selbst?\n",
    "\n",
    "Inverses Element:\n",
    "Bei Addition/Subtraktion == 0\n",
    "Bei Division/Multiplikation == 1\n",
    "'''  \n",
    "counter = 0\n",
    "\n",
    "for i in range(0,802):\n",
    "    if((i*i)%802 == 1):\n",
    "        print(i)\n",
    "        counter = counter + 1\n",
    "        \n",
    "print(\"Anzahl: \", counter)"
   ]
  },
  {
   "cell_type": "code",
   "execution_count": 13,
   "metadata": {},
   "outputs": [
    {
     "name": "stdout",
     "output_type": "stream",
     "text": [
      "(59, 84)\n",
      "Kleinster positiver Teiler:  59\n",
      "Größter negativer Teiler:  -25\n"
     ]
    }
   ],
   "source": [
    "'''\n",
    "Konguenzsystem, chinesischer Restsatz\n",
    "'''\n",
    "\n",
    "from sympy.ntheory.modular import crt\n",
    "import math\n",
    "\n",
    "print(crt([3,4,7],[2,3,3])) #Erst Modulo, dann andere Ziffern\n",
    "# Ergebnis: Kleinste positive Zahl, Zweite Zahl zum Berechnen des größten negativen Teilers\n",
    "\n",
    "print(\"Kleinster positiver Teiler: \", 59)\n",
    "print(\"Größter negativer Teiler: \", 59-84)"
   ]
  },
  {
   "cell_type": "code",
   "execution_count": 25,
   "metadata": {},
   "outputs": [
    {
     "name": "stdout",
     "output_type": "stream",
     "text": [
      "7701 1\n",
      "7775 5\n",
      "7777 0\n",
      "Nur c ist durch 7 teilbar.\n"
     ]
    }
   ],
   "source": [
    "'''\n",
    "Zahlensysteme und Binärzahlumwandlungen\n",
    "'''\n",
    "\n",
    "# Binärzahl in Dezimalbruch umwandeln\n",
    "# Aufbau: Binärzahl hinter dem Komma, Anzahl der Stellen\n",
    "\n",
    "from fractions import Fraction\n",
    "\n",
    "# 0.01011\n",
    "Fraction(0b01011, 0b100000)\n",
    "# 0.1101\n",
    "Fraction(0b1101, 0b10000)\n",
    "\n",
    "'''\n",
    "Welche der Zahlen ist durch 7 teilbar? Einsatz von int(x, y)\n",
    "'''\n",
    "\n",
    "a = int('17025', 8)\n",
    "b = int('17137', 8)\n",
    "c = int('17141', 8)\n",
    "\n",
    "print(a, a%7)\n",
    "print(b, b%7)\n",
    "print(c, c%7)\n",
    "\n",
    "print(\"Nur c ist durch 7 teilbar.\")"
   ]
  },
  {
   "cell_type": "code",
   "execution_count": 1,
   "metadata": {},
   "outputs": [
    {
     "data": {
      "text/plain": [
       "12"
      ]
     },
     "execution_count": 1,
     "metadata": {},
     "output_type": "execute_result"
    }
   ],
   "source": [
    "'''\n",
    "Allgemeine Python-Geschichten\n",
    "'''\n",
    "\n",
    "# Zahl auseinandernehmen\n",
    "test = 127\n",
    "list1 = []\n",
    "\n",
    "zahl = 127\n",
    "list1.append(zahl % 10)\n",
    "zahl = zahl // 10\n",
    "\n",
    "zahl"
   ]
  },
  {
   "cell_type": "code",
   "execution_count": null,
   "metadata": {},
   "outputs": [],
   "source": [
    "'''\n",
    "Definitionen und Bedeutungen\n",
    "\n",
    "\n",
    "Neutrales Element:\n",
    "    Fügt man das neutrale Element zu einer Zahl x hinzu, erhält man die Zahl x.\n",
    "Inverses Element:\n",
    "    Fügt man das inverse Element zu einer Zahl hinzu, erhält man das neutrale Element... also im Falle der Addition zu 8 -8.\n",
    "    \n",
    "Quadrat einer Zahl: 5**2 = 25, 3**3 = 9\n",
    "'''"
   ]
  },
  {
   "cell_type": "code",
   "execution_count": 8,
   "metadata": {},
   "outputs": [
    {
     "name": "stdout",
     "output_type": "stream",
     "text": [
      "Zwischenergebnis:  0.05761455\n",
      "0.125 0.05428681023790647 1e-08 18.420680743952367\n",
      "Ergebnis: b\n"
     ]
    }
   ],
   "source": [
    "'''\n",
    "Schätzungen\n",
    "\n",
    "Aufgabe #27\n",
    "Wenn man π(10^8) durch 10^8 teilt, was kommt dann ungefähr heraus?\n",
    "\n",
    "[ ] 1/8\n",
    "[x] 1/ln10^8 (ähnlich genug..)\n",
    "[ ] 10^-8\n",
    "[ ] ln10^8\n",
    "[ ] 8\n",
    "'''\n",
    "\n",
    "from sympy import primepi\n",
    "from math import log\n",
    "\n",
    "k = primepi(10**8)/10**8\n",
    "print(\"Zwischenergebnis: \", k)\n",
    "\n",
    "a = 1/8\n",
    "b = 1 / log(10**8)\n",
    "c = 10**-8\n",
    "d = log(10**8)\n",
    "\n",
    "print(a,b,c,d)\n",
    "print(\"Ergebnis: b\")"
   ]
  },
  {
   "cell_type": "code",
   "execution_count": 3,
   "metadata": {},
   "outputs": [
    {
     "name": "stdout",
     "output_type": "stream",
     "text": [
      "True\n",
      "False\n",
      "Teilmengenüberprüfung: True\n",
      "Vereinigung: {1, 2, 3, 4}\n",
      "Durchschnitt: {3, 4}\n",
      "Differenz: {1, 2}\n",
      "1\n",
      "2\n",
      "8 8\n"
     ]
    }
   ],
   "source": [
    "'''\n",
    "Mengen\n",
    "'''\n",
    "\n",
    "A = {1,2,3,4}\n",
    "B = set() # nicht B = {}\n",
    "\n",
    "print(3 in A)\n",
    "print(6 in A)\n",
    "\n",
    "B.add(3)\n",
    "\n",
    "A = {1,2,3} <= {1,2,3,4,5} # Teilmenge prüfen\n",
    "print(\"Teilmengenüberprüfung:\", A)\n",
    "\n",
    "\n",
    "B = {1,2} | {2,3,4} # Vereinigung\n",
    "print(\"Vereinigung:\",B)\n",
    "\n",
    "\n",
    "C = {1,3,4,5} & {2,3,4} # Durchschnitt\n",
    "print(\"Durchschnitt:\", C)\n",
    "\n",
    "\n",
    "C = {1,2,3,4,5} - {3,4,5} # Differenz\n",
    "print(\"Differenz:\",C)\n",
    "\n",
    "for i in C:\n",
    "    print(i)\n",
    "    \n",
    "'''\n",
    "#63 Sei A = {1, 2, 4} und B = {2, 3, 4}. Wie viele Elemente hat die Menge Potenzmenge(A) \\ Potenzmenge(B)?\n",
    "\n",
    "Das kosmische P ist die Potenzmenge. Siehe https://wikimedia.org/api/rest_v1/media/math/render/svg/038c6b5ab1bf073dad64d1cfbada2b62f773c635\n",
    "\n",
    "Verhält sich folgendermaßen: P von A = Leere Menge, 1,2,4,{1,2,4},{1,2},{1,4},{4,2}\n",
    "'''\n",
    "\n",
    "def getPowerSet(s):\n",
    "\n",
    "    power_set = {frozenset()}\n",
    "\n",
    "    for element in s:\n",
    "        one_element_set = frozenset({element})\n",
    "        power_set |= {subset | one_element_set for subset in power_set}\n",
    "\n",
    "    return power_set\n",
    "\n",
    "A = getPowerSet({1,2,4})\n",
    "B = getPowerSet({2,3,4})\n",
    "\n",
    "C = A-B\n",
    "\n",
    "C\n",
    "\n",
    "#Errechnung der Anzahl der Elemente in einer Potenzmenge ohne die Funktion da oben:\n",
    "\n",
    "A = {1,2,3}\n",
    "\n",
    "ElementsOfA_PM = 2**len(A)\n",
    "print(ElementsOfA_PM, len(getPowerSet(A)))"
   ]
  },
  {
   "cell_type": "code",
   "execution_count": 4,
   "metadata": {},
   "outputs": [
    {
     "name": "stdout",
     "output_type": "stream",
     "text": [
      "Aufgabe 2:  654729075\n",
      "1023\n"
     ]
    },
    {
     "data": {
      "image/png": "[encoded data removed]",
      "text/plain": [
       "<IPython.core.display.Image object>"
      ]
     },
     "execution_count": 4,
     "metadata": {},
     "output_type": "execute_result"
    }
   ],
   "source": [
    "'''\n",
    "Produktformel und Summenformel\n",
    "'''\n",
    "produkt = 1 # Wichtig! Produkt muss am Anfang auf 1 stehen\n",
    "for i in range (1,20,2): #Anfang, Ende, Steps\n",
    "    produkt = produkt * i\n",
    "\n",
    "print(\"Aufgabe 2: \", produkt)\n",
    "\n",
    "'''\n",
    "#88\n",
    "Berechnen Sie die folgende Summe: \n",
    "'''\n",
    "\n",
    "from IPython.display import Image\n",
    "image = \"https://i.imgur.com/lx6Veth.png\"\n",
    "\n",
    "sum = 0\n",
    "for k in range(12,45):\n",
    "    sum = k+3 + sum\n",
    "    \n",
    "print(sum)\n",
    "\n",
    "\n",
    "\n",
    "Image(image)\n"
   ]
  },
  {
   "cell_type": "code",
   "execution_count": null,
   "metadata": {},
   "outputs": [],
   "source": [
    "#Gruselaufgaben\n",
    "\n",
    "#61\n",
    "'''\n",
    "Geben Sie einen Bruch an, der sich von 1 / Wurzel aus 3 um weniger als 10**-2 unterscheidet\n",
    "und dessen Nenner einen kleineren Betrag als 10 hat.\n",
    "'''\n",
    "\n",
    "import math\n",
    "from fractions import Fraction\n",
    "\n",
    "zahl = 1/math.sqrt(3)\n",
    "maxUnterschied = 10**-2\n",
    "min = zahl-maxUnterschied\n",
    "max = zahl+maxUnterschied\n",
    "maxNenner = 9\n",
    "\n",
    "for n in range(1,maxNenner+1):\n",
    "    for z in range (1,maxNenner+1):\n",
    "        q = Fraction(n,z)\n",
    "        if(q >= min and q <= max): # Letzte Bedingung muss per Hand überprüft werden\n",
    "            print(\"Bruch: \", q)"
   ]
  },
  {
   "cell_type": "code",
   "execution_count": null,
   "metadata": {},
   "outputs": [],
   "source": [
    "# Inklusion-Exklusion\n",
    "\n",
    "z = set()\n",
    "\n",
    "for i in range(0,1000):\n",
    "    if (i%3 != 0) and (i%2 != 0) and (i%5 != 0) and (i%7 != 0):\n",
    "        z.add(i)\n",
    "        \n",
    "len(z)\n",
    "\n",
    "#S. 53 in den Lösungen\n",
    "\n",
    "'''\n",
    "\n",
    "[0,10] Zahlen 0 bis 10\n",
    "[0,10) Zahlen von 0 bis 9.99999... \n",
    "(0,10) -> 0.000000...1 bis 9.9999999...\n",
    "\n",
    "\n",
    "a) 40-41\n",
    "b) 42\n",
    "c) \n",
    "'''\n",
    "\n"
   ]
  }
 ],
 "metadata": {
  "kernelspec": {
   "display_name": "Python 3",
   "language": "python",
   "name": "python3"
  },
  "language_info": {
   "codemirror_mode": {
    "name": "ipython",
    "version": 3
   },
   "file_extension": ".py",
   "mimetype": "text/x-python",
   "name": "python",
   "nbconvert_exporter": "python",
   "pygments_lexer": "ipython3",
   "version": "3.6.6"
  }
 },
 "nbformat": 4,
 "nbformat_minor": 2
}
