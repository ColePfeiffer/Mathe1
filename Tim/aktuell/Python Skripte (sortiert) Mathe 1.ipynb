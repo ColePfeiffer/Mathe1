{
 "cells": [
  {
   "cell_type": "code",
   "execution_count": 1,
   "metadata": {},
   "outputs": [
    {
     "name": "stdout",
     "output_type": "stream",
     "text": [
      "-3\n",
      "5\n",
      "8\n",
      "-13\n"
     ]
    }
   ],
   "source": [
    "#14 ggT Linearfaktordarstellung\n",
    "# 1 = 18a + 11b\n",
    "\n",
    "for a in range (-20,20):\n",
    "    for b in range (-20,20):\n",
    "        if(18*a + 11*b) == 1:\n",
    "            print(a)\n",
    "            print(b)\n",
    "            \n",
    "#Ergebnis: -3, 5"
   ]
  },
  {
   "cell_type": "code",
   "execution_count": null,
   "metadata": {},
   "outputs": [],
   "source": [
    "#15 Restklassenring \n",
    "\n",
    "for a in range(0,27):\n",
    "    for b in range(0,27):\n",
    "        if (a*b == 27):\n",
    "            print(a, b)\n",
    "            \n",
    "            "
   ]
  },
  {
   "cell_type": "code",
   "execution_count": null,
   "metadata": {},
   "outputs": [],
   "source": [
    "#16 Inverses Element in Restklassenring finden, Quotient\n",
    "# 2/9 in Z23\n",
    "\n",
    "for a in range(0,23):\n",
    "    if ((9 * a)%23 == 2):\n",
    "        print(a)\n",
    "        \n",
    "def quotientBerechnen(z,n,moduloZ): #4,5,7\n",
    "    for aktuelleZahl in range(0,moduloZ):\n",
    "        if ((n * aktuelleZahl)%moduloZ == z):\n",
    "            print(n, \" * (\", aktuelleZahl, \") in Z\",moduloZ, \" = \",z);\n",
    "            print(\"Gesuchte Zahl: \", aktuelleZahl)\n",
    "\n",
    "quotientBerechnen(4,5,7)\n",
    "        \n",
    "#Berechnen Sie das inverse Element (bzgl. der Addition) von 4 in Z=13Z.\n",
    "\n",
    "for i in range(0,13):\n",
    "    if (4+i)%13==0:\n",
    "        print(i)"
   ]
  },
  {
   "cell_type": "code",
   "execution_count": 2,
   "metadata": {},
   "outputs": [
    {
     "name": "stdout",
     "output_type": "stream",
     "text": [
      "(59, 84)\n",
      "Kleinster positiver Teiler:  59\n",
      "Größter negativer Teiler:  -25\n"
     ]
    }
   ],
   "source": [
    "# Konguenzsystem, chinesischer Restsatz\n",
    "from sympy.ntheory.modular import crt\n",
    "import math\n",
    "\n",
    "print(crt([3,4,7],[2,3,3])) #Erst Modulo, dann andere Ziffern\n",
    "# Ergebnis: Kleinste positive Zahl, Zweite Zahl zum Berechnen des größten negativen Teilers\n",
    "\n",
    "print(\"Kleinster positiver Teiler: \", 59)\n",
    "print(\"Größter negativer Teiler: \", 59-84)\n",
    "\n",
    "# Größten gemeinsamen Teiler finden von drei Zahlen\n",
    "math.gcd(471757130107,(math.gcd(471694074821,471766128373)))"
   ]
  },
  {
   "cell_type": "code",
   "execution_count": 9,
   "metadata": {},
   "outputs": [
    {
     "name": "stdout",
     "output_type": "stream",
     "text": [
      "gibt ca. Anzahl aller Primzahlen bis n aus:\n",
      "3102103442166.0845\n",
      "\n",
      "\n",
      "gibt ca. die n-te Primzahl aus:\n",
      "3223619130191664.0\n",
      "\n",
      "\n",
      "Gibt die Wahrscheinlichkeit aus einer Anzahl von Zahlen von 1 bis n zufällig eine Primzahl auszuwählen.\n",
      "0.031021034421660845\n"
     ]
    }
   ],
   "source": [
    "#Kanonische Primfaktorzerlegung in Python\n",
    "from sympy import factorint\n",
    "factorint(9999)\n",
    "\n",
    "# Alternativ... Manuell:\n",
    "def kanoPrimFaktZerlegung(n):\n",
    "    p = 2\n",
    "    list1 = []\n",
    "    \n",
    "    for i in range(0,n):\n",
    "        \n",
    "        if(n % p == 0):\n",
    "            list1.append(p)\n",
    "            n = n // p\n",
    "            p = 2\n",
    "        else:\n",
    "            p = p+1\n",
    "        \n",
    "    return(list1)\n",
    "\n",
    "kanoPrimFaktZerlegung(16)\n",
    "\n",
    "#26 x-te Primzahl ausgeben\n",
    "\n",
    "from sympy import prime\n",
    "\n",
    "prime(42)\n",
    "\n",
    "#Primzahlensatz anwenden, Nährung\n",
    "\n",
    "#28\n",
    "\n",
    "from math import log\n",
    "\n",
    "n = 10**14\n",
    "\n",
    "print(\"gibt ca. Anzahl aller Primzahlen bis n aus:\")\n",
    "print(n / log(n)) #dann einfach nur mit den bestehenden Zahlen vergleichen und/oder Gemeinsamkeiten erkennen\n",
    "\n",
    "print(\"\\n\")\n",
    "print(\"gibt ca. die n-te Primzahl aus:\")\n",
    "print(n * log(n)) #\n",
    "\n",
    "print(\"\\n\")\n",
    "print(\"Gibt die Wahrscheinlichkeit aus einer Anzahl von Zahlen von 1 bis n zufällig eine Primzahl auszuwählen.\")\n",
    "print(1 / log(n))"
   ]
  },
  {
   "cell_type": "code",
   "execution_count": 1,
   "metadata": {},
   "outputs": [
    {
     "name": "stdout",
     "output_type": "stream",
     "text": [
      "Aufgabe 2:  654729075\n"
     ]
    }
   ],
   "source": [
    "#Produkt\n",
    "produkt = 1 # Wichtig! Produkt muss am Anfang auf 1 stehen\n",
    "for i in range (1,20,2): #Anfang, Ende, Steps\n",
    "    produkt = produkt * i\n",
    "\n",
    "print(\"Aufgabe 2: \", produkt)\n",
    "\n",
    "#Summe\n"
   ]
  },
  {
   "cell_type": "code",
   "execution_count": 2,
   "metadata": {},
   "outputs": [
    {
     "name": "stdout",
     "output_type": "stream",
     "text": [
      "3\n"
     ]
    }
   ],
   "source": [
    "# Modulo\n",
    "# Negative Zahlen ins Positive wandeln\n",
    "def negZahl(negativeZahl, mod):\n",
    "    while(negativeZahl < 0):\n",
    "        negativeZahl = negativeZahl + mod\n",
    "    \n",
    "    print(negativeZahl)\n",
    "    \n",
    "negZahl(-17,4)"
   ]
  },
  {
   "cell_type": "code",
   "execution_count": 14,
   "metadata": {},
   "outputs": [
    {
     "data": {
      "text/plain": [
       "Fraction(13, 16)"
      ]
     },
     "execution_count": 14,
     "metadata": {},
     "output_type": "execute_result"
    }
   ],
   "source": [
    "# Binärzahl in Dezimalbruch umwandeln\n",
    "\n",
    "# Aufbau:\n",
    "# Binärzahl hinter dem Komma, Anzahl der Stellen\n",
    "\n",
    "from fractions import Fraction\n",
    "\n",
    "# 0.01011\n",
    "Fraction(0b01011, 0b100000)\n",
    "# 0.1101\n",
    "Fraction(0b1101, 0b10000)"
   ]
  },
  {
   "cell_type": "code",
   "execution_count": 1,
   "metadata": {},
   "outputs": [
    {
     "data": {
      "text/plain": [
       "12"
      ]
     },
     "execution_count": 1,
     "metadata": {},
     "output_type": "execute_result"
    }
   ],
   "source": [
    "# Zahl auseinandernehmen\n",
    "\n",
    "test = 127\n",
    "list1 = []\n",
    "\n",
    "zahl = 127\n",
    "list1.append(zahl % 10)\n",
    "zahl = zahl // 10\n",
    "\n",
    "zahl"
   ]
  },
  {
   "cell_type": "code",
   "execution_count": null,
   "metadata": {},
   "outputs": [],
   "source": [
    "Definitionen und Bedeutungen\n",
    "\n",
    "\n",
    "Neutrales Element:\n",
    "    Fügt man das neutrale Element zu einer Zahl x hinzu, erhält man die Zahl x.\n",
    "Inverses Element:\n",
    "    Fügt man das inverse Element zu einer Zahl hinzu, erhält man das neutrale Element... also im Falle der Addition zu 8 -8.\n",
    "    \n",
    "Quadrat einer Zahl:\n"
   ]
  },
  {
   "cell_type": "code",
   "execution_count": 3,
   "metadata": {},
   "outputs": [
    {
     "data": {
      "text/plain": [
       "144"
      ]
     },
     "execution_count": 3,
     "metadata": {},
     "output_type": "execute_result"
    }
   ],
   "source": [
    "12*4"
   ]
  },
  {
   "cell_type": "code",
   "execution_count": 1,
   "metadata": {},
   "outputs": [
    {
     "name": "stdout",
     "output_type": "stream",
     "text": [
      "0\n",
      "2\n",
      "4\n",
      "6\n",
      "-25 41\n",
      "-14 23\n",
      "-3 5\n",
      "8 -13\n",
      "19 -31\n",
      "30 -49\n"
     ]
    }
   ],
   "source": [
    "# Alle Lösungen für eine Gleichung finden\n",
    "\n",
    "for x in range (0,8):\n",
    "    tempErgebnis = (x - 2) * (x - 4)\n",
    "    if (tempErgebnis % 8 == 0):\n",
    "        print(x)\n",
    "        \n",
    "'''\n",
    "#18 Der größte gemeinsame Teiler von 18 und 11 ist 1. \n",
    "Geben Sie ganze Zahlen a und b an, so dass\n",
    "1 = 18a + 11b gilt.\n",
    "'''\n",
    "\n",
    "for a in range(-50,50):\n",
    "    for b in range(-50,50):\n",
    "        if (18*a + 11*b == 1):\n",
    "            print(a,b)"
   ]
  },
  {
   "cell_type": "code",
   "execution_count": 2,
   "metadata": {},
   "outputs": [
    {
     "name": "stdout",
     "output_type": "stream",
     "text": [
      "1\n",
      "801\n",
      "Anzahl:  2\n"
     ]
    }
   ],
   "source": [
    "#19 Wie viele Elemente von Z/802Z sind bezüglich der Multiplikation invers zu sich selbst?\n",
    "\n",
    "# Inverses Element:\n",
    "# Bei Addition/Subtraktion == 0\n",
    "# Bei Division/Multiplikation == 1\n",
    "\n",
    "counter = 0\n",
    "\n",
    "for i in range(0,802):\n",
    "    if((i*i)%802 == 1):\n",
    "        print(i)\n",
    "        counter = counter + 1\n",
    "        \n",
    "print(\"Anzahl: \", counter)"
   ]
  },
  {
   "cell_type": "code",
   "execution_count": 3,
   "metadata": {},
   "outputs": [],
   "source": [
    "# Definition Quadratzahl ... Quadrat von 5 ist 5*2 == 25 "
   ]
  },
  {
   "cell_type": "code",
   "execution_count": 4,
   "metadata": {},
   "outputs": [
    {
     "data": {
      "text/plain": [
       "{3: 2, 11: 1, 101: 1}"
      ]
     },
     "execution_count": 4,
     "metadata": {},
     "output_type": "execute_result"
    }
   ],
   "source": [
    "# 29 Kanonische Primfaktorzerlegung von 9999\n",
    "\n",
    "from sympy import factorint\n",
    "\n",
    "factorint(9999)"
   ]
  },
  {
   "cell_type": "code",
   "execution_count": 5,
   "metadata": {},
   "outputs": [
    {
     "data": {
      "text/plain": [
       "181"
      ]
     },
     "execution_count": 5,
     "metadata": {},
     "output_type": "execute_result"
    }
   ],
   "source": [
    "#26 Geben Sie die 42te Primzahl aus.\n",
    "\n",
    "from sympy import prime\n",
    "\n",
    "prime(42)"
   ]
  },
  {
   "cell_type": "code",
   "execution_count": 8,
   "metadata": {},
   "outputs": [
    {
     "name": "stdout",
     "output_type": "stream",
     "text": [
      "Zwischenergebnis:  0.05761455\n",
      "0.125 0.05428681023790647 1e-08 18.420680743952367\n",
      "Ergebnis: b\n"
     ]
    }
   ],
   "source": [
    "'''\n",
    "Aufgabe #27\n",
    "Wenn man π(10^8) durch 10^8 teilt, was kommt dann ungefähr heraus?\n",
    "\n",
    "[ ] 1/8\n",
    "[x] 1/ln10^8 (ähnlich genug..)\n",
    "[ ] 10^-8\n",
    "[ ] ln10^8\n",
    "[ ] 8\n",
    "'''\n",
    "\n",
    "from sympy import primepi\n",
    "from math import log\n",
    "\n",
    "k = primepi(10**8)/10**8\n",
    "print(\"Zwischenergebnis: \", k)\n",
    "\n",
    "a = 1/8\n",
    "b = 1 / log(10**8)\n",
    "c = 10**-8\n",
    "d = log(10**8)\n",
    "\n",
    "print(a,b,c,d)\n",
    "print(\"Ergebnis: b\")"
   ]
  },
  {
   "cell_type": "code",
   "execution_count": 7,
   "metadata": {},
   "outputs": [
    {
     "name": "stdout",
     "output_type": "stream",
     "text": [
      "5 5\n",
      "7 7\n",
      "11 11\n",
      "13 13\n",
      "17 17\n",
      "19 19\n",
      "23 23\n"
     ]
    }
   ],
   "source": [
    "'''\n",
    "Aufgabe #17\n",
    "Geben Sie eine von 1 verschiedene Zahl an, die in Z/24Z einen Kehrwert hat.\n",
    "\n",
    "Kehrwert: Die Zahl, die ich mit einer anderen Zahl multipliziere, \n",
    "um 1 in Modulo des Restklassenrings zu erhalten.\n",
    "'''\n",
    "\n",
    "for a in range (0,24):\n",
    "    for b in range(0,24):\n",
    "        if (((a*b)%24)==1 and a != 1 and b != 1):\n",
    "            print(a,b)"
   ]
  },
  {
   "cell_type": "code",
   "execution_count": 9,
   "metadata": {},
   "outputs": [
    {
     "name": "stdout",
     "output_type": "stream",
     "text": [
      "5 5\n",
      "7 7\n",
      "11 11\n",
      "13 13\n",
      "17 17\n",
      "19 19\n",
      "23 23\n"
     ]
    }
   ],
   "source": [
    "'''\n",
    "#21 Kehrwert finden in Z/24Z, aber nicht 1\n",
    "'''\n",
    "\n",
    "for a in range(0,24):\n",
    "    for b in range(0,24):\n",
    "        if (a*b)%24 == 1 and a is not 1 and b is not 1:\n",
    "            print(a,b)\n"
   ]
  },
  {
   "cell_type": "code",
   "execution_count": null,
   "metadata": {},
   "outputs": [],
   "source": []
  }
 ],
 "metadata": {
  "kernelspec": {
   "display_name": "Python 3",
   "language": "python",
   "name": "python3"
  },
  "language_info": {
   "codemirror_mode": {
    "name": "ipython",
    "version": 3
   },
   "file_extension": ".py",
   "mimetype": "text/x-python",
   "name": "python",
   "nbconvert_exporter": "python",
   "pygments_lexer": "ipython3",
   "version": "3.6.6"
  }
 },
 "nbformat": 4,
 "nbformat_minor": 2
}
