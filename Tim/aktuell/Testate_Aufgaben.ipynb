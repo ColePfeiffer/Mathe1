{
 "cells": [
  {
   "cell_type": "code",
   "execution_count": 15,
   "metadata": {},
   "outputs": [
    {
     "name": "stdout",
     "output_type": "stream",
     "text": [
      "Aufgabe 1: 289\n",
      "Aufgabe 2:  2\n",
      "9\n"
     ]
    }
   ],
   "source": [
    "#WS 01:\n",
    "#Aufgabe 01\n",
    "zCounter = 0\n",
    "summe = 0\n",
    "for i in range(1,50):\n",
    "    if (i%2 != 0 and zCounter < 17):\n",
    "        zCounter += 1\n",
    "        summe += i\n",
    "\n",
    "print(\"Aufgabe 1:\", summe)\n",
    "# Alternativ: 17*17 oder 17**2 (gilt nur für ungerade Zahlen)\n",
    "\n",
    "#Aufgabe 02\n",
    "ergebnis = (2+3+4+5)%4\n",
    "print(\"Aufgabe 2: \", ergebnis)\n",
    "\n",
    "#Aufgabe 03: Berechnen Sie das inverse Element (bzgl. der Addition) von 4 in Z=13Z.\n",
    "\n",
    "for i in range(0,13):\n",
    "    if (4+i)%13==0:\n",
    "        print(i)\n",
    "\n"
   ]
  },
  {
   "cell_type": "code",
   "execution_count": 24,
   "metadata": {},
   "outputs": [
    {
     "name": "stdout",
     "output_type": "stream",
     "text": [
      "Aufgabe 1:  5525\n",
      "Aufgabe 2:  654729075\n",
      "Aufgabe 3:  0\n"
     ]
    }
   ],
   "source": [
    "#SS Testat 01:\n",
    "# Aufgabe 01: Berechnen Sie die Summe der ersten 25 Quadratzahlen und geben Sie das Ergebnis an\n",
    "\n",
    "summe = 0\n",
    "for i in range(1,26):\n",
    "    summe = summe + i*i\n",
    "    \n",
    "print(\"Aufgabe 1: \", summe)\n",
    "# Alternativ: print((25*26*51)//6)\n",
    "\n",
    "# Aufgabe 02: Berechnen Sie das Produkt der ersten 10 ungeraden Zahlen und geben Sie das Ergebnis an\n",
    "\n",
    "produkt = 1 # Wichtig! Produkt muss am Anfang auf 1 stehen\n",
    "for i in range (1,20,2): #Anfang, Ende, Steps\n",
    "    produkt = produkt * i\n",
    "\n",
    "print(\"Aufgabe 2: \", produkt)\n",
    "\n",
    "# Aufgabe 03:\n",
    "print(\"Aufgabe 3: \",(7*7+10*7)%17)"
   ]
  },
  {
   "cell_type": "code",
   "execution_count": 25,
   "metadata": {},
   "outputs": [
    {
     "name": "stdout",
     "output_type": "stream",
     "text": [
      "Aufgabe 01:  518400\n"
     ]
    }
   ],
   "source": [
    "# Testat SS_01 B\n",
    "\n",
    "#Aufgabe 01: Berechen Sie das Produkt aus den ersten 6 Quadratzahlen und geben Sie das Ergebnis\n",
    "\n",
    "produkt = 1\n",
    "for i in range(1,7):\n",
    "    produkt = produkt * (i*i) #Alternativ produkt * (i**2)\n",
    "    \n",
    "print(\"Aufgabe 01: \", produkt)"
   ]
  },
  {
   "cell_type": "code",
   "execution_count": null,
   "metadata": {},
   "outputs": [],
   "source": []
  }
 ],
 "metadata": {
  "kernelspec": {
   "display_name": "Python 3",
   "language": "python",
   "name": "python3"
  },
  "language_info": {
   "codemirror_mode": {
    "name": "ipython",
    "version": 3
   },
   "file_extension": ".py",
   "mimetype": "text/x-python",
   "name": "python",
   "nbconvert_exporter": "python",
   "pygments_lexer": "ipython3",
   "version": "3.6.5"
  }
 },
 "nbformat": 4,
 "nbformat_minor": 2
}
