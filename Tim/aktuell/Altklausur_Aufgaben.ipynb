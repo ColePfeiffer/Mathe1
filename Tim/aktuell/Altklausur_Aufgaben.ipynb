{
 "cells": [
  {
   "cell_type": "code",
   "execution_count": 1,
   "metadata": {},
   "outputs": [
    {
     "data": {
      "text/plain": [
       "(524288, {0, 1, 2, 3, 4, 5, 6, 7, 8, 9, 10, 11, 12, 13, 14, 15, 16, 17, 18})"
      ]
     },
     "execution_count": 1,
     "metadata": {},
     "output_type": "execute_result"
    }
   ],
   "source": [
    "'''\n",
    "Klausuraufgabe:\n",
    "\n",
    "Wie viele Teilmenngen von N gibt es, die höchstens 17 Elemente enthalten und deren größtes Element kleiner als 19 ist?\n",
    "'''\n",
    "from sympy import *\n",
    "\n",
    "maxElements = 17\n",
    "maxNumber = 18\n",
    "options = set()\n",
    "\n",
    "for option in range(0,maxNumber+1):\n",
    "    options.add(option)\n",
    "\n",
    "options, len(options)\n",
    "\n",
    "def getPowerSet(s):\n",
    "    power_set = {frozenset()}\n",
    "\n",
    "    for element in s:\n",
    "        one_element_set = frozenset({element})\n",
    "        power_set |= {subset | one_element_set for subset in power_set}\n",
    "\n",
    "    return power_set\n",
    "\n",
    "A = getPowerSet(options)\n",
    "len(A), options\n"
   ]
  },
  {
   "cell_type": "code",
   "execution_count": 2,
   "metadata": {},
   "outputs": [
    {
     "data": {
      "text/plain": [
       "22725"
      ]
     },
     "execution_count": 2,
     "metadata": {},
     "output_type": "execute_result"
    }
   ],
   "source": [
    "s = 0\n",
    "for i in range(30,475+1,5):\n",
    "    s = s + i\n",
    "    \n",
    "s"
   ]
  },
  {
   "cell_type": "code",
   "execution_count": 3,
   "metadata": {},
   "outputs": [
    {
     "name": "stdout",
     "output_type": "stream",
     "text": [
      "1275\n"
     ]
    },
    {
     "data": {
      "text/plain": [
       "91"
      ]
     },
     "metadata": {},
     "output_type": "display_data"
    }
   ],
   "source": [
    "'''\n",
    "Random Klausuraufgabe... '''\n",
    "\n",
    "from sympy import *\n",
    "from IPython.display import display\n",
    "\n",
    "\n",
    "a = set() # Menge der ersten 50 Primzahlen\n",
    "b = set() #b = {m*n: m,n E A}\n",
    "\n",
    "maechtVonB = 0\n",
    "\n",
    "for i in range(1,51):\n",
    "    a.add(prime(i))\n",
    "    \n",
    "for m in a:\n",
    "    for n in a: \n",
    "        b.add(m*n)\n",
    "        \n",
    "print(len(b))\n",
    "\n",
    "\n",
    "\n",
    "k = symbols(\"k\")\n",
    "s = Sum((k), (k, 0,13))\n",
    "display(s.doit())\n"
   ]
  },
  {
   "cell_type": "code",
   "execution_count": null,
   "metadata": {},
   "outputs": [],
   "source": []
  }
 ],
 "metadata": {
  "kernelspec": {
   "display_name": "Python 3",
   "language": "python",
   "name": "python3"
  },
  "language_info": {
   "codemirror_mode": {
    "name": "ipython",
    "version": 3
   },
   "file_extension": ".py",
   "mimetype": "text/x-python",
   "name": "python",
   "nbconvert_exporter": "python",
   "pygments_lexer": "ipython3",
   "version": "3.6.6"
  }
 },
 "nbformat": 4,
 "nbformat_minor": 2
}
