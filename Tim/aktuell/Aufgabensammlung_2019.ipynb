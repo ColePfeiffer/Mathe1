{
 "cells": [
  {
   "cell_type": "code",
   "execution_count": 63,
   "metadata": {},
   "outputs": [],
   "source": [
    "import math\n",
    "\n",
    "def p(txt):\n",
    "    print(txt) \n"
   ]
  },
  {
   "cell_type": "code",
   "execution_count": 1,
   "metadata": {},
   "outputs": [
    {
     "data": {
      "text/plain": [
       "5525"
      ]
     },
     "execution_count": 1,
     "metadata": {},
     "output_type": "execute_result"
    }
   ],
   "source": [
    "'''\n",
    "#1 Berechnen Sie die Summe 1**2 + 2**2 + 3**2 + · · · + 25**2\n",
    "'''   \n",
    "\n",
    "sum = 0\n",
    "\n",
    "for i in range(1,26):\n",
    "    sum = sum + i**2\n",
    "    \n",
    "sum"
   ]
  },
  {
   "cell_type": "code",
   "execution_count": 17,
   "metadata": {},
   "outputs": [
    {
     "data": {
      "text/plain": [
       "(100, 10000)"
      ]
     },
     "execution_count": 17,
     "metadata": {},
     "output_type": "execute_result"
    }
   ],
   "source": [
    "'''\n",
    "#2 Geben Sie die Summe der ersten 100 ungeraden naturlichen Zahlen an.\n",
    "'''\n",
    "sum = 0\n",
    "counter = 0\n",
    "\n",
    "for i in range(1,200):\n",
    "    if not(i%2 == 0):\n",
    "        counter = counter +1\n",
    "        sum = sum + i\n",
    "\n",
    "counter, sum"
   ]
  },
  {
   "cell_type": "code",
   "execution_count": 3,
   "metadata": {},
   "outputs": [
    {
     "name": "stdout",
     "output_type": "stream",
     "text": [
      "123456\n",
      "1334567\n",
      "123456\n"
     ]
    }
   ],
   "source": [
    "''' \n",
    "Aufgabe 3 \n",
    "Welche von den folgenden Zahlen ist die größte? \n",
    "[ ] 11110001001000000 2\n",
    "[x] 5056447 8\n",
    "[ ] 1E240 16\n",
    "\n",
    "\n",
    "1. hat 16 Stellen... 16*1 = 16\n",
    "2. hat 7 Stellen...  7*3  = 21\n",
    "3. hat 5 Stellen...  5*4  = 20\n",
    "\n",
    "Also ist die zweite Zahl die größte Zahl.\n",
    "'''\n",
    "\n",
    "print(0b11110001001000000)\n",
    "print(0o5056447)\n",
    "print(0x1E240)"
   ]
  },
  {
   "cell_type": "code",
   "execution_count": 25,
   "metadata": {},
   "outputs": [
    {
     "data": {
      "text/plain": [
       "0"
      ]
     },
     "execution_count": 25,
     "metadata": {},
     "output_type": "execute_result"
    }
   ],
   "source": [
    "'''\n",
    "#4 Berechnen Sie in Z/17Z den Wert 7 · 7 + 10 · 7.\n",
    "'''\n",
    "\n",
    "test1 = 7*7+10*7 \n",
    "test1 = test1 % 17\n",
    "\n",
    "test1"
   ]
  },
  {
   "cell_type": "code",
   "execution_count": 27,
   "metadata": {},
   "outputs": [
    {
     "name": "stdout",
     "output_type": "stream",
     "text": [
      "0\n",
      "2\n",
      "4\n",
      "6\n"
     ]
    }
   ],
   "source": [
    "'''\n",
    "Aufgabe 5\n",
    "Kreuzen Sie alle Lösungen der Gleichung (x − 2) · (x − 4) = 0 in Z/8Z an. \n",
    "[x]0 [ ]1 [x]2 [ ]3 [x]4 [ ]5 [x]6 [ ]7\n",
    "'''\n",
    "\n",
    "for x in range (0,8):\n",
    "    tempErgebnis = (x - 2) * (x - 4)\n",
    "    if (tempErgebnis % 8 == 0):\n",
    "        print(x)"
   ]
  },
  {
   "cell_type": "code",
   "execution_count": 36,
   "metadata": {},
   "outputs": [
    {
     "name": "stdout",
     "output_type": "stream",
     "text": [
      "10\n",
      "30\n",
      "50\n",
      "70\n",
      "90\n"
     ]
    },
    {
     "data": {
      "text/plain": [
       "5"
      ]
     },
     "execution_count": 36,
     "metadata": {},
     "output_type": "execute_result"
    }
   ],
   "source": [
    "'''\n",
    "#6 Wie viele verschiedene Lösungen hat die Gleichung \n",
    "20x**2 + 25x + 50 = 0 in Z/100Z?\n",
    "'''\n",
    "\n",
    "counter = 0\n",
    "\n",
    "for x in range(0,100):\n",
    "    tempErgebnis = (20*x**2)+25*x+50\n",
    "    if (tempErgebnis%100 == 0):\n",
    "        counter += 1\n",
    "        print(x)\n",
    "        \n",
    "counter"
   ]
  },
  {
   "cell_type": "code",
   "execution_count": 40,
   "metadata": {},
   "outputs": [
    {
     "name": "stdout",
     "output_type": "stream",
     "text": [
      "0\n",
      "1\n",
      "15\n",
      "31\n",
      "49\n",
      "64\n",
      "65\n",
      "79\n",
      "81\n",
      "95\n",
      "96\n",
      "111\n",
      "129\n",
      "145\n",
      "159\n"
     ]
    },
    {
     "data": {
      "text/plain": [
       "15"
      ]
     },
     "execution_count": 40,
     "metadata": {},
     "output_type": "execute_result"
    }
   ],
   "source": [
    "'''\n",
    "#7 Für wie viele Elemente x von Z/160Z gilt x**3 = x?\n",
    "'''\n",
    "\n",
    "counter = 0\n",
    "\n",
    "for x in range(0,160):\n",
    "    if ((x**3)%160 == x):\n",
    "        print(x)\n",
    "        counter += 1\n",
    "        \n",
    "counter"
   ]
  },
  {
   "cell_type": "code",
   "execution_count": 3,
   "metadata": {
    "scrolled": false
   },
   "outputs": [
    {
     "data": {
      "text/plain": [
       "(173699988580574150503527111447092012958094272504905748027425059243621644655068680393953671507766272449955415623807786743823204768515573818694802001,\n",
       " 'Die letzten beiden Dezimalstellen sind 01')"
      ]
     },
     "execution_count": 3,
     "metadata": {},
     "output_type": "execute_result"
    }
   ],
   "source": [
    "'''\n",
    "#8 Sei a = 29 und b = 10**6. Die Zahl c = a**b hat deutlich mehr als eine Million Dezimalstellen.\n",
    "Was sind die letzten beiden Ziffern von c (also die beiden ganz rechts)?\n",
    "'''\n",
    "\n",
    "a = 29 #auch 3 möglich\n",
    "b = 10**2\n",
    "c = a**b\n",
    "\n",
    "c, \"Die letzten beiden Dezimalstellen sind 01\"\n",
    "\n",
    "#Alternativ:\n",
    "# Lösung:\n",
    "#\"{0:b}\".format(29**(10**6))\n",
    "# 01"
   ]
  },
  {
   "cell_type": "code",
   "execution_count": 1,
   "metadata": {},
   "outputs": [
    {
     "name": "stdout",
     "output_type": "stream",
     "text": [
      "0b1110 0b11011010110000\n",
      "Wahrscheinlich fürs Erste 1, fürs Letzte 0... weil es gerade ist, muss hinten eine 0 stehen. Vorne immer eine 1 bei Binärzahlen.\n"
     ]
    }
   ],
   "source": [
    "'''\n",
    "#9 Binärdarstellung von 10**14000 ... Erste und letzte Bit\n",
    "'''\n",
    "\n",
    "print(bin(14), bin(14000))\n",
    "print(\"Wahrscheinlich fürs Erste 1, fürs Letzte 0... weil es gerade ist, muss hinten eine 0 stehen. Vorne immer eine 1 bei Binärzahlen.\")\n",
    "\n",
    "#Alternativ:\n",
    "# Lösung:\n",
    "# \"{0:b}\".format(10**14000)\n",
    "# MSB = 1 | LSB = 0"
   ]
  },
  {
   "cell_type": "code",
   "execution_count": 3,
   "metadata": {
    "scrolled": false
   },
   "outputs": [
    {
     "name": "stdout",
     "output_type": "stream",
     "text": [
      "Binärdarstellung von 46:             10 1110\n",
      "Erweitern auf 16-Bit:    0000 0000 0010 1110\n",
      "Invertieren:             1111 1111 1101 0001\n",
      "Addieren von 1:          1111 1111 1101 0010\n",
      "-0b1111111111010010\n"
     ]
    }
   ],
   "source": [
    "'''\n",
    "#10 Geben Sie die Binärdarstellung (Zweierkomplement) von −46 \n",
    "auf einem 16-Bit-Computer an.\n",
    "'''\n",
    "bin(46)\n",
    "print(\"Binärdarstellung von 46:             10 1110\")\n",
    "print(\"Erweitern auf 16-Bit:    0000 0000 0010 1110\")\n",
    "print(\"Invertieren:             1111 1111 1101 0001\")\n",
    "print(\"Addieren von 1:          1111 1111 1101 0010\")\n",
    "\n",
    "#Alternativ:\n",
    "print(bin((-46^65535)+1))"
   ]
  },
  {
   "cell_type": "code",
   "execution_count": 8,
   "metadata": {},
   "outputs": [
    {
     "data": {
      "text/plain": [
       "0"
      ]
     },
     "execution_count": 8,
     "metadata": {},
     "output_type": "execute_result"
    }
   ],
   "source": [
    "'''\n",
    "Aufgabe 11\n",
    "Welchen Wert hat die Variable c nach Ausführung des folgenden Codes?\n",
    "c=0\n",
    "k=1\n",
    "for n in range(2 ** 40):\n",
    "    c += k \n",
    "    k *= -1\n",
    "    \n",
    "0\n",
    "'''\n",
    "\n",
    "c = 0\n",
    "k =1\n",
    "# Die Range war auf 2**40 gesetzt. Es spielt aber keine Rolle, ob da 40 oder 2 steht\n",
    "# Ausschlaggebend fürs Ergebnis ist die 2 davor, die macht die Durchläufe\n",
    "# nämlich gerade...\n",
    "for n in range(2**2): \n",
    "    c += k\n",
    "    k *= -1\n",
    "\n",
    "c"
   ]
  },
  {
   "cell_type": "code",
   "execution_count": 14,
   "metadata": {},
   "outputs": [
    {
     "data": {
      "text/plain": [
       "40"
      ]
     },
     "execution_count": 14,
     "metadata": {},
     "output_type": "execute_result"
    }
   ],
   "source": [
    "'''\n",
    "Aufgabe 12\n",
    "Welchen Wert hat die Variable c nach Ausführung des folgenden Codes?\n",
    "\n",
    "40\n",
    "'''\n",
    "\n",
    "c = 42\n",
    "k = 1\n",
    "# Die Range war auf 3**40 gesetzt. Es spielt aber keine Rolle, ob da 40 oder 2 steht\n",
    "# Ausschlaggebend fürs Ergebnis ist die 3 davor, die macht die Durchläufe\n",
    "# nämlich ungerade...\n",
    "for n in range(3**2): \n",
    "    k *= -1\n",
    "    c += 2*k\n",
    "\n",
    "c"
   ]
  },
  {
   "cell_type": "code",
   "execution_count": 21,
   "metadata": {},
   "outputs": [
    {
     "name": "stdout",
     "output_type": "stream",
     "text": [
      "-1\n"
     ]
    }
   ],
   "source": [
    "'''\n",
    "#13 Welchen Wert hat die Variable c...\n",
    "\n",
    "Siehe oben bzgl. Lösung.\n",
    "'''\n",
    "\n",
    "c = -1\n",
    "for n in range(5**2): #ursprünglich 5 ** 40\n",
    "    c += (n%5) -2\n",
    "    \n",
    "print(c)"
   ]
  },
  {
   "cell_type": "code",
   "execution_count": 25,
   "metadata": {},
   "outputs": [
    {
     "data": {
      "text/plain": [
       "0"
      ]
     },
     "execution_count": 25,
     "metadata": {},
     "output_type": "execute_result"
    }
   ],
   "source": [
    "'''\n",
    "#14 Welchen Wert hat die Variable c...\n",
    "\n",
    "Siehe oben bzgl. Lösung.\n",
    "'''\n",
    "\n",
    "c = 0\n",
    "k = 1\n",
    "for n in range(0, 3 ** 2): # in Aufgabe 3 ** 40\n",
    "    c += (k-1)\n",
    "    k = (k+1) % 3\n",
    "    \n",
    "c"
   ]
  },
  {
   "cell_type": "code",
   "execution_count": 28,
   "metadata": {},
   "outputs": [
    {
     "name": "stdout",
     "output_type": "stream",
     "text": [
      "7701 1\n",
      "7775 5\n",
      "7777 0\n",
      "Nur c ist durch 7 teilbar.\n"
     ]
    }
   ],
   "source": [
    "'''\n",
    "#15 Welche der Zahlen ist durch 7 teilbar?\n",
    "'''\n",
    "\n",
    "a = int('17025', 8)\n",
    "b = int('17137', 8)\n",
    "c = int('17141', 8)\n",
    "\n",
    "print(a, a%7)\n",
    "print(b, b%7)\n",
    "print(c, c%7)\n",
    "\n",
    "print(\"Nur c ist durch 7 teilbar.\")"
   ]
  },
  {
   "cell_type": "code",
   "execution_count": 75,
   "metadata": {},
   "outputs": [
    {
     "name": "stdout",
     "output_type": "stream",
     "text": [
      "0 0 ist durch jede Zahl teilbar.\n",
      "10**10**10 Es ist egal wieviele Nullen wir an die 10 hängen, sie wird nie durch 11 teilbar sein.\n",
      "10**13**13 Zunächst rechnen wir 13**13 und prüfen auf Teilbarkeit. Nicht durch 11 teilbar, also ist es egal wieviele Nullen wir anhängen.\n",
      "13**13**13+1 Wir prüfen, ob das vorherige Ergebnis + 1 durch 11 teilbar ist. Ist es nicht, also nein. Nullen ändern nichts.\n",
      "0 0\n",
      "10 10\n",
      "10 10\n",
      "11 0\n",
      "A und D sind durch 11 teilbar.\n",
      "False\n",
      "False\n",
      "True\n"
     ]
    }
   ],
   "source": [
    "''' #16 Welche der Zahlen ist durch 11 teilbar? \n",
    "\n",
    "'''\n",
    "print(\"0\",\"0 ist durch jede Zahl teilbar.\")\n",
    "print(\"10**10**10\", \"Es ist egal wieviele Nullen wir an die 10 hängen, sie wird nie durch 11 teilbar sein.\")\n",
    "print(\"10**13**13\", \"Zunächst rechnen wir 13**13 und prüfen auf Teilbarkeit. Nicht durch 11 teilbar, also ist es egal wieviele Nullen wir anhängen.\")\n",
    "print(\"13**13**13+1\",\"Wir prüfen, ob das vorherige Ergebnis + 1 durch 11 teilbar ist. Ist es nicht, also nein. Nullen ändern nichts.\")\n",
    "\n",
    "a = 10**5\n",
    "b = 12**13\n",
    "c = 10%3 ** 5%3\n",
    "d = 12%3 ** 13%3\n",
    "\n",
    "a%3, b%3, c,d\n",
    "\n",
    "a = 0\n",
    "b = 10%11 ** 10%11 ** 10%11\n",
    "c = 10%11 ** 13%11 ** 13%11\n",
    "d = 10%11 ** 13%11 ** 13%11 + 1\n",
    "\n",
    "print(a, a%11)\n",
    "print(b, b%11)\n",
    "print(c, c%11)\n",
    "print(d, d%11)\n",
    "print(\"A und D sind durch 11 teilbar.\")\n",
    "\n",
    "\n",
    "# Alternativ\n",
    "\n",
    "print(10**100 % 11 == 0) # 10**10**10 -> 10 ** 100\n",
    "print(10**169 % 11 == 0) # 10**13**13 -> 10 ** 169\n",
    "print((10**169 +1) % 11 == 0)\n",
    "# ... usw"
   ]
  },
  {
   "cell_type": "code",
   "execution_count": 10,
   "metadata": {},
   "outputs": [
    {
     "data": {
      "text/plain": [
       "43"
      ]
     },
     "execution_count": 10,
     "metadata": {},
     "output_type": "execute_result"
    }
   ],
   "source": [
    "'''\n",
    "#17 Geben Sie den größten gemeinsamen Teiler von \n",
    "471 694 074 821, \n",
    "471 766 128 373 \n",
    "und 471 757 130 107 an; also die größte Zahl, die alle drei Zahlen teilt.\n",
    "'''\n",
    "\n",
    "a = 471694074821\n",
    "b = 471766128373 \n",
    "c = 471757130107\n",
    "\n",
    "math.gcd(a,(math.gcd(b,c)))"
   ]
  },
  {
   "cell_type": "code",
   "execution_count": 16,
   "metadata": {},
   "outputs": [
    {
     "name": "stdout",
     "output_type": "stream",
     "text": [
      "-25 41\n",
      "-14 23\n",
      "-3 5\n",
      "8 -13\n",
      "19 -31\n",
      "30 -49\n"
     ]
    }
   ],
   "source": [
    "'''\n",
    "#18 Der größte gemeinsame Teiler von 18 und 11 ist 1. \n",
    "Geben Sie ganze Zahlen a und b an, so dass\n",
    "1 = 18a + 11b gilt.\n",
    "'''\n",
    "\n",
    "for a in range(-50,50):\n",
    "    for b in range(-50,50):\n",
    "        if (18*a + 11*b == 1):\n",
    "            print(a,b)"
   ]
  },
  {
   "cell_type": "code",
   "execution_count": 19,
   "metadata": {},
   "outputs": [
    {
     "name": "stdout",
     "output_type": "stream",
     "text": [
      "3 9\n",
      "3 18\n",
      "6 9\n",
      "6 18\n",
      "9 3\n",
      "9 6\n",
      "9 9\n",
      "9 12\n",
      "9 15\n",
      "9 18\n",
      "9 21\n",
      "9 24\n",
      "12 9\n",
      "12 18\n",
      "15 9\n",
      "15 18\n",
      "18 3\n",
      "18 6\n",
      "18 9\n",
      "18 12\n",
      "18 15\n",
      "18 18\n",
      "18 21\n",
      "18 24\n",
      "21 9\n",
      "21 18\n",
      "24 9\n",
      "24 18\n",
      "... also zum Beispiel 3*9, 3*18, ...\n"
     ]
    }
   ],
   "source": [
    "'''\n",
    "#19 Geben Sie zwei Zahlen aus Z/27Z an, \n",
    "deren Produkt verschwindet, obwohl beide Zahlen nicht null sind.\n",
    "'''\n",
    "\n",
    "for i in range (1,27):\n",
    "    for j in range(1,27):\n",
    "        if ((i*j)%27 == 0):\n",
    "            print(i,j)\n",
    "\n",
    "print(\"... also zum Beispiel 3*9, 3*18, ...\")"
   ]
  },
  {
   "cell_type": "code",
   "execution_count": 2,
   "metadata": {},
   "outputs": [
    {
     "name": "stdout",
     "output_type": "stream",
     "text": [
      "9 * 13 in Z 23 = 2\n",
      "Gesuchte Zahl:  13\n"
     ]
    }
   ],
   "source": [
    "'''\n",
    "#20 Berechnen Sie den Quotienten 2/9 in Z23.\n",
    "'''\n",
    "\n",
    "def quotientBerechnen(z,n,moduloZ): #4,5,7\n",
    "    for aktuelleZahl in range(0,moduloZ):\n",
    "        if ((n * aktuelleZahl)%moduloZ == z):\n",
    "            print(n, \"*\", aktuelleZahl, \"in Z\",moduloZ, \"=\",z);\n",
    "            print(\"Gesuchte Zahl: \", aktuelleZahl)\n",
    "\n",
    "quotientBerechnen(2,9,23)"
   ]
  },
  {
   "cell_type": "code",
   "execution_count": 3,
   "metadata": {},
   "outputs": [
    {
     "name": "stdout",
     "output_type": "stream",
     "text": [
      "5 5\n",
      "Lösung:  5\n",
      "7 7\n",
      "Lösung:  7\n",
      "11 11\n",
      "Lösung:  11\n",
      "13 13\n",
      "Lösung:  13\n",
      "17 17\n",
      "Lösung:  17\n",
      "19 19\n",
      "Lösung:  19\n",
      "23 23\n",
      "Lösung:  23\n"
     ]
    }
   ],
   "source": [
    "'''\n",
    "#21 Kehrwert finden in Z/24Z, aber nicht 1\n",
    "'''\n",
    "\n",
    "for a in range(0,24):\n",
    "    for b in range(0,24):\n",
    "        if (a*b)%24 == 1 and a is not 1 and b is not 1:\n",
    "            print(a,b)\n",
    "            print(\"Lösung: \", a)\n"
   ]
  },
  {
   "cell_type": "code",
   "execution_count": 2,
   "metadata": {},
   "outputs": [
    {
     "name": "stdout",
     "output_type": "stream",
     "text": [
      "9 * 10 in Z 11 = 2\n",
      "Gesuchte Zahl:  10\n"
     ]
    },
    {
     "data": {
      "text/plain": [
       "(1, 'Ergebnis: 1')"
      ]
     },
     "execution_count": 2,
     "metadata": {},
     "output_type": "execute_result"
    }
   ],
   "source": [
    "'''\n",
    "#22 Berechnen Sie den Wert\n",
    "2/9 ** 1000000 in Z11\n",
    "'''\n",
    "\n",
    "z = 2\n",
    "n = 9\n",
    "e = 1000000\n",
    "\n",
    "\n",
    "def quotientBerechnen(z,n,moduloZ): #4,5,7\n",
    "    for aktuelleZahl in range(0,moduloZ):\n",
    "        if ((n * aktuelleZahl)%moduloZ == z):\n",
    "            print(n, \"*\", aktuelleZahl, \"in Z\",moduloZ, \"=\",z);\n",
    "            print(\"Gesuchte Zahl: \", aktuelleZahl)\n",
    "            return aktuelleZahl\n",
    "\n",
    "zahl = quotientBerechnen(z,n,11)\n",
    "\n",
    "(zahl**e)%11, \"Ergebnis: 1\""
   ]
  },
  {
   "cell_type": "code",
   "execution_count": 10,
   "metadata": {},
   "outputs": [
    {
     "name": "stdout",
     "output_type": "stream",
     "text": [
      "1\n",
      "801\n",
      "Lösung:  2\n"
     ]
    }
   ],
   "source": [
    "'''\n",
    "#23 Wieviele Elemente von Z/80Z sind innerhalb der Mulitiplikation invers \n",
    "zu sich selbst?\n",
    "'''\n",
    "\n",
    "for i in range(0,802):\n",
    "    if((i*i)%802 == 1):\n",
    "        print(i)\n",
    "        \n",
    "        \n",
    "print(\"Lösung: \", 2)"
   ]
  },
  {
   "cell_type": "code",
   "execution_count": 16,
   "metadata": {},
   "outputs": [
    {
     "name": "stdout",
     "output_type": "stream",
     "text": [
      "{0, 1, 4, 7, 9, 10, 16, 18, 19, 25, 28, 31, 33, 36, 39, 40, 45, 49, 51, 63, 64, 66, 67, 69, 70, 72, 76, 78, 81, 82, 87, 90} 32\n"
     ]
    }
   ],
   "source": [
    "'''\n",
    "#24 \n",
    "\n",
    "Wie viele Elemente von Z/93Z lassen sich als Quadrat eines Elements \n",
    "von Z/93Z darstellen? [Beispiel: 51 ist das Quadrat von 12.\n",
    "\n",
    "Definition Quadratzahl ... Quadrat von 5 ist 5**2 == 25 \n",
    "\n",
    "Menge anstatt Counter oder Liste, da sonst Ergebnisse doppelt gezählt werden.\n",
    "\n",
    "'''\n",
    "\n",
    "counter = 0\n",
    "liste = set()\n",
    "\n",
    "for i in range(0,93):\n",
    "    temp = (i**2)%93\n",
    "    if(temp <= 92):\n",
    "        liste.add(temp)\n",
    "        counter += 1\n",
    "        \n",
    "print(liste, len(liste))"
   ]
  },
  {
   "cell_type": "code",
   "execution_count": 1,
   "metadata": {},
   "outputs": [
    {
     "name": "stdout",
     "output_type": "stream",
     "text": [
      "4200420042\n"
     ]
    }
   ],
   "source": [
    "''' #25 \n",
    "p= 2760727302517 ist eine Primzahl. Geben Sie den Kehrwert von 853662459626 in Zp an. (Hinweis: kleiner Satz von Fermat.)\n",
    "\n",
    "Ansatz: pow(a, p-2, p)\n",
    "\n",
    "Lösung: 4200420042\n",
    "\n",
    "'''\n",
    "\n",
    "a = 853662459626\n",
    "p = 2760727302517\n",
    "\n",
    "print(pow(a,p-2,p))"
   ]
  },
  {
   "cell_type": "code",
   "execution_count": 52,
   "metadata": {},
   "outputs": [
    {
     "name": "stdout",
     "output_type": "stream",
     "text": [
      "(27, 140)\n",
      "Größter negativer Teiler:  -113\n",
      "Positiver: 27\n"
     ]
    }
   ],
   "source": [
    "#26\n",
    "#Geben Sie die kleinste positive Lösung des folgenden Kongruenzsystems an:\n",
    "#x=2 (mod 5); x=3 (mod 4); x=6 (mod 7)\n",
    "\n",
    "from sympy.ntheory.modular import crt\n",
    "\n",
    "print(crt([5,4,7],[2,3,6]))\n",
    "print(\"Größter negativer Teiler: \", 27-140)\n",
    "print(\"Positiver: 27\")"
   ]
  },
  {
   "cell_type": "code",
   "execution_count": 53,
   "metadata": {},
   "outputs": [
    {
     "name": "stdout",
     "output_type": "stream",
     "text": [
      "(62, 84)\n",
      "Größter negativer Teiler:  -22\n",
      "Ergebnis: -22\n"
     ]
    }
   ],
   "source": [
    "#27\n",
    "#Geben Sie die größte negative Lösung des folgenden Kongruenzsystems an:\n",
    "#x=2 (mod 3); x=2 (mod 4); x=6 (mod 7)\n",
    "\n",
    "print(crt([3,4,7],[2,2,6]))\n",
    "print(\"Größter negativer Teiler: \", 62-84)\n",
    "print(\"Ergebnis: -22\")"
   ]
  },
  {
   "cell_type": "code",
   "execution_count": 54,
   "metadata": {},
   "outputs": [
    {
     "name": "stdout",
     "output_type": "stream",
     "text": [
      "(101, 252) 9\n",
      "(17, 84) 3\n",
      "None 6\n",
      "None 8\n",
      "(17, 140) 5\n"
     ]
    }
   ],
   "source": [
    "#28\n",
    "#Für welche a hat das folgende Kongruenzsystem keine Lösung?\n",
    "#x=1 (mod 4); x=2 (mod a); x=3 (mod 7)\n",
    "\n",
    "for a in [9,3,6,8,5]:\n",
    "    print(crt([4,a,7],[1,2,3]), a)"
   ]
  },
  {
   "cell_type": "code",
   "execution_count": 55,
   "metadata": {},
   "outputs": [
    {
     "data": {
      "text/plain": [
       "{3: 2, 11: 1, 101: 1}"
      ]
     },
     "execution_count": 55,
     "metadata": {},
     "output_type": "execute_result"
    }
   ],
   "source": [
    "#29\n",
    "#Kreuzen Sie die kanonische Primfaktorzerlegung von 9999 an.\n",
    "\n",
    "from sympy import factorint\n",
    "\n",
    "factorint(9999)"
   ]
  },
  {
   "cell_type": "code",
   "execution_count": 57,
   "metadata": {},
   "outputs": [
    {
     "data": {
      "text/plain": [
       "181"
      ]
     },
     "execution_count": 57,
     "metadata": {},
     "output_type": "execute_result"
    }
   ],
   "source": [
    "#30 Geben Sie die 42te Primzahl aus.\n",
    "\n",
    "from sympy import prime\n",
    "\n",
    "prime(42)"
   ]
  },
  {
   "cell_type": "code",
   "execution_count": 18,
   "metadata": {},
   "outputs": [
    {
     "name": "stdout",
     "output_type": "stream",
     "text": [
      "A kann nicht richtig sein, weil das Ergebnis durch jede Primzahl bis n teilbar wäre.\n",
      "B: Es kann eine Primzahl dabei herauskommen, muss aber nicht. Also falsch...\n",
      "C: Ja, das stimmt... Die 1 ist dafür verantwortlich.\n",
      "D ist wahr, siehe Antwort zu A...\n"
     ]
    }
   ],
   "source": [
    "#31 \n",
    "\n",
    "print(\"A kann nicht richtig sein, weil das Ergebnis durch jede Primzahl bis n teilbar wäre.\")\n",
    "print(\"B: Es kann eine Primzahl dabei herauskommen, muss aber nicht. Also falsch...\")\n",
    "print(\"C: Ja, das stimmt... Die 1 ist dafür verantwortlich.\")\n",
    "print(\"D ist wahr, siehe Antwort zu A...\")"
   ]
  },
  {
   "cell_type": "code",
   "execution_count": 67,
   "metadata": {
    "scrolled": true
   },
   "outputs": [
    {
     "name": "stdout",
     "output_type": "stream",
     "text": [
      "Zwischenergebnis:  0.05761455\n",
      "0.125 0.05428681023790647 1e-08 18.420680743952367\n",
      "Ergebnis: b\n"
     ]
    }
   ],
   "source": [
    "#32\n",
    "#Wenn man pi(10**8) durch 10**8 teilt, was kommt dann ungefähr heraus?\n",
    "\n",
    "\n",
    "#pi(10**8) = 10**8 / ln(10**8)\n",
    "#(10**8 / ln(10**8)) * (1 / 10**8) = 1 / ln(10**8)\n",
    "\n",
    "from sympy import primepi\n",
    "from math import log\n",
    "\n",
    "k = primepi(10**8)/10**8\n",
    "print(\"Zwischenergebnis: \", k)\n",
    "\n",
    "a = 1/8\n",
    "b = 1 / log(10**8)\n",
    "c = 10**-8\n",
    "d = log(10**8)\n",
    "\n",
    "print(a,b,c,d)\n",
    "print(\"Ergebnis: b\")\n"
   ]
  },
  {
   "cell_type": "code",
   "execution_count": 8,
   "metadata": {},
   "outputs": [
    {
     "name": "stdout",
     "output_type": "stream",
     "text": [
      "n:  100000000000000 \n",
      "Ergebnis:  3102103442166.0845\n",
      "a: 800000000000, b: 3000000000000, c: 7000000000000, d: 20000000000000\n"
     ]
    }
   ],
   "source": [
    "#33 Anzahl der Primzahlen schätzen bis 10**14\n",
    "\n",
    "from math import log\n",
    "\n",
    "n = 10**14\n",
    "# Es gibt ungefähr n/ln(n) Primzahlen unterhalb von n\n",
    "print(\"n: \", n,\"\\nErgebnis: \", n/log(n))\n",
    "\n",
    "a = 8*10**11\n",
    "b = 3*10**12 # richtig\n",
    "c = 7*10**12\n",
    "d = 2*10**13\n",
    "\n",
    "print(\"a: {:d}, b: {:d}, c: {:d}, d: {:d}\".format(a,b,c,d))\n"
   ]
  },
  {
   "cell_type": "code",
   "execution_count": 12,
   "metadata": {},
   "outputs": [
    {
     "name": "stdout",
     "output_type": "stream",
     "text": [
      "Ergebnis:  3223619130191664.0\n",
      "a: 70000000000000, b: 300000000000000, c: 800000000000000, d: 3000000000000000\n",
      "Antwort: d\n"
     ]
    }
   ],
   "source": [
    "#34\n",
    "#Welche der  folgenden Zahlen liegt am dichtesten an der 10**14-ten Primzahl? (4 Antwortmöglichkeiten)\n",
    "\n",
    "from math import log\n",
    "\n",
    "n = 10**14\n",
    "print(\"Ergebnis: \", n * log(n))\n",
    "\n",
    "# Hier jetzt noch die Dinger ausrechnen oder alternativ Stellen nach der 3 zählen ... 15 Stellen, also ist 3**15 am nähsten\n",
    "a = 7 * 10**13\n",
    "b = 3 * 10**14\n",
    "c = 8 * 10**14\n",
    "d = 3 * 10**15 #richtig\n",
    "print(\"a: {:d}, b: {:d}, c: {:d}, d: {:d}\".format(a,b,c,d))\n",
    "print(\"Antwort: d\")"
   ]
  },
  {
   "cell_type": "code",
   "execution_count": 21,
   "metadata": {},
   "outputs": [
    {
     "name": "stdout",
     "output_type": "stream",
     "text": [
      "\n",
      " 4.3e+38 \n",
      " 3.9e+40 \n",
      " 3.6e+42 \n",
      " 3.3e+44 \n",
      " \n",
      " 4.276909229288297e+38\n"
     ]
    }
   ],
   "source": [
    "#35\n",
    "#Wie viele Elemente enthält die Menge {(p, q) : p, q € P  [0, 10**21 ]} ungefähr?\n",
    "from math import log1p\n",
    "\n",
    "erg = (10**21 / log1p(10**21))**2 # Die Menge enthält Tupel, deswegen **2 am Ende\n",
    "\n",
    "a = 4.3*10**38 #richtig\n",
    "b = 3.9*10**40\n",
    "c = 3.6*10**42\n",
    "d = 3.3*10**44\n",
    "\n",
    "#print(\"a: {:f}, b: {:f}, c: {:f}, d: {:f}\\n\\nErgebnis: {:f}\".format(a,b,c,d,erg))\n",
    "print(\"\\n\",a,\"\\n\",b,\"\\n\",c,\"\\n\",d,\"\\n\",\"\\n\",erg)"
   ]
  },
  {
   "cell_type": "code",
   "execution_count": 26,
   "metadata": {},
   "outputs": [
    {
     "name": "stdout",
     "output_type": "stream",
     "text": [
      "n1:  100000000000000000000 n2: 1000000000000000000000\n",
      "Ergebnis 1:  2.171472409516259e+18\n",
      "Ergebnis 2:  2.0680689614440563e+19\n",
      "Finales Ergebnis: 1.8509217204924305e+19\n",
      "a 1.9e+19 b 2.1e+19 c 2.2000000000000003e+18 d 1.8e+20\n",
      "A ist richtig.\n"
     ]
    }
   ],
   "source": [
    "#36 Anzahl der Primzahlen bis 10**20 und 10**21, wieviele liegen dazwischen?\n",
    "\n",
    "from math import log\n",
    "\n",
    "n1 = 10**20\n",
    "n2 = 10**21\n",
    "print(\"n1: \", n1, \"n2:\", n2)\n",
    "\n",
    "e1 =  n1/log(n1)\n",
    "e2 =  n2/log(n2)\n",
    "\n",
    "ergebnis = e2 - e1\n",
    "print(\"Ergebnis 1: \", n1/log(n1))\n",
    "print(\"Ergebnis 2: \", n2/log(n2))\n",
    "\n",
    "print(\"Finales Ergebnis:\", ergebnis)\n",
    "\n",
    "a = 1.9*10**19\n",
    "b = 2.1*10**19\n",
    "c = 2.2*10**18\n",
    "d = 1.8*10**20\n",
    "\n",
    "'a {}, b {}, c {}, d {}'.format(a, b, c, d)\n",
    "\n",
    "print(\"a\", a, \"b\", b, \"c\", c, \"d\", d)\n",
    "print(\"A ist richtig.\")"
   ]
  },
  {
   "cell_type": "code",
   "execution_count": 33,
   "metadata": {},
   "outputs": [
    {
     "name": "stdout",
     "output_type": "stream",
     "text": [
      "1117\n",
      "1151\n",
      "1171\n",
      "1181\n",
      "1511\n",
      "1777\n",
      "1811\n",
      "1999\n",
      "2111\n",
      "2221\n",
      "2333\n",
      "2777\n",
      "2999\n",
      "3313\n",
      "3323\n",
      "3331\n",
      "3343\n",
      "3373\n",
      "3433\n",
      "3533\n",
      "3733\n",
      "3833\n",
      "4111\n",
      "4441\n",
      "4447\n",
      "4999\n",
      "5333\n",
      "5557\n",
      "6661\n",
      "7177\n",
      "7333\n",
      "7477\n",
      "7577\n",
      "7717\n",
      "7727\n",
      "7757\n",
      "7877\n",
      "8111\n",
      "8887\n",
      "8999\n",
      "9199\n",
      "9929\n",
      "9949\n"
     ]
    }
   ],
   "source": [
    "#37\n",
    "#Wenn man sich eine Liste aller vierstelligen Primzahlen, bei denen eine Ziffer dreimal vorkommt,\n",
    "#anschaut, dann kommt eine Ziffer in der gesamten Liste nie vor. Welche ist es?\n",
    "\n",
    "from sympy import isprime\n",
    "\n",
    "for i in range(1000,9999):\n",
    "    if (isprime(i)):\n",
    "        currentPrimAsString = str(i)\n",
    "        for z in range(0,10):\n",
    "            if (currentPrimAsString.count(str(z)) >= 3):\n",
    "                print(currentPrimAsString)\n",
    "        \n",
    "#0 ist nicht dabei!"
   ]
  },
  {
   "cell_type": "code",
   "execution_count": 36,
   "metadata": {},
   "outputs": [
    {
     "name": "stdout",
     "output_type": "stream",
     "text": [
      "111111 ist nicht prim\n",
      "222222 ist nicht prim\n",
      "333333 ist nicht prim\n",
      "444444 ist nicht prim\n",
      "555555 ist nicht prim\n",
      "666666 ist nicht prim\n",
      "777777 ist nicht prim\n",
      "888888 ist nicht prim\n",
      "999999 ist nicht prim\n"
     ]
    }
   ],
   "source": [
    "#Nr.38\n",
    "#Wie viele sechsstellige Primzahlen gibt es, bei denen alle sechs Ziffern identisch sind?\n",
    "\n",
    "from sympy import isprime\n",
    "\n",
    "i = 111111\n",
    "\n",
    "for b in range(1,10):\n",
    "    if (isprime(i*b)):\n",
    "        print(i, \"ist prim\")\n",
    "    else:\n",
    "        print(i*b, \"ist nicht prim\")"
   ]
  },
  {
   "cell_type": "code",
   "execution_count": 39,
   "metadata": {},
   "outputs": [
    {
     "name": "stdout",
     "output_type": "stream",
     "text": [
      "3 and 5 Paar Nr:  1\n",
      "5 and 7 Paar Nr:  2\n",
      "11 and 13 Paar Nr:  3\n",
      "17 and 19 Paar Nr:  4\n",
      "29 and 31 Paar Nr:  5\n",
      "41 and 43 Paar Nr:  6\n",
      "59 and 61 Paar Nr:  7\n",
      "71 and 73 Paar Nr:  8\n"
     ]
    }
   ],
   "source": [
    "#39\n",
    "#Ein Primzahlzwilling ist ein Paar von Primzahlen, deren Differenz zwei ist. Der erste Primzahlzwilling ist (3, 5).\n",
    "#Welches ist der siebte Primzahlzwilling?\n",
    "\n",
    "from sympy import isprime\n",
    "\n",
    "def generate_twins(start, end):\n",
    "    counter = 0\n",
    "    for i in range(start, end):\n",
    "        j = i + 2\n",
    "        if(isprime(i) and isprime(j)):\n",
    "            counter = counter +1\n",
    "            print(\"{:d} and {:d}\".format(i, j), \"Paar Nr: \", counter)\n",
    "\n",
    "\n",
    "generate_twins(2, 100)"
   ]
  },
  {
   "cell_type": "code",
   "execution_count": 10,
   "metadata": {},
   "outputs": [
    {
     "data": {
      "text/plain": [
       "Fraction(26, 55)"
      ]
     },
     "execution_count": 10,
     "metadata": {},
     "output_type": "execute_result"
    }
   ],
   "source": [
    "'''\n",
    "#41 \n",
    "Geben Sie die Dezimalzahl 0.4'72' = 0.4727272727272... als gekürzten Bruch an.\n",
    "\n",
    "Von Kiwan:\n",
    "0.4-72- = 1/10 * 4.-72- = 1/10 * (4 + 72/99) = 1/10 * (396/99 + 72/99) = 1/10 * 468/99 = 468/990\n",
    "\n",
    "from fractions import Fraction\n",
    "Fraction(468, 990\n",
    "\n",
    "Meine Lösung:\n",
    "'''\n",
    "\n",
    "from fractions import Fraction\n",
    "\n",
    "#Das Limit_denominator sorgt dafür, dass er die nächste ganze Zahl sucht und ausgibt, die als Bruch dargestellt werden kann\n",
    "Fraction(0.47272727272727272727272).limit_denominator()"
   ]
  },
  {
   "cell_type": "code",
   "execution_count": 46,
   "metadata": {},
   "outputs": [
    {
     "name": "stdout",
     "output_type": "stream",
     "text": [
      "Methode 1:  11/16\n",
      "Methode 2:  11/16\n"
     ]
    }
   ],
   "source": [
    "'''\n",
    "#42\n",
    "\n",
    "Geben Sie die Binärzahl 0.1011 dezimal als Bruch an.\n",
    "\n",
    "Für 0.1111\n",
    "\n",
    "0. Stelle  | 0 = 0\n",
    "-1. Stelle | 1 = 1/2\n",
    "-2. Stelle | 1 = 1/4\n",
    "-3. Stelle | 1 = 1/8\n",
    "-4. Stelle | 1 = 1/16\n",
    "\n",
    "Für 0.1011\n",
    "0. Stelle  | 0 = 0\n",
    "-1. Stelle | 1 = 1/2\n",
    "-2. Stelle | 0 = 0\n",
    "-3. Stelle | 1 = 1/8\n",
    "-4. Stelle | 1 = 1/16\n",
    "\n",
    "1/2+1/8+1/16\n",
    "\n",
    "Alternativ:\n",
    "\n",
    "0.1011 = 1011/10000 (binär) = 11/16 (dezimal) \n",
    "Vorgehensweise: Binärzahl als Nenner, Zähler mit selber Ziffernanzahl mit 0 auffüllen (hier 4) und eine 1 vorne ran\n",
    "'''\n",
    "\n",
    "from fractions import Fraction\n",
    "\n",
    "print(\"Methode 1: \",Fraction(1/2+1/8+1/16))\n",
    "print(\"Methode 2: \",Fraction(0b1011, 0b10000))\n",
    "#alternativ bin_places"
   ]
  },
  {
   "cell_type": "code",
   "execution_count": 74,
   "metadata": {},
   "outputs": [
    {
     "name": "stdout",
     "output_type": "stream",
     "text": [
      "Alternativ:  1/6\n"
     ]
    }
   ],
   "source": [
    "'''\n",
    "#43\n",
    "Geben Sie die Binärzahl 0.0-01- (Periode 01) = 0.00101010101010101... dezimal als gekürzten Bruch an.\n",
    "\n",
    "1. a) Komma verschieben und b) Periode isolieren bzw. mit so vielen Einsen wie Ziffern auffüllen bzw mit der höchsten Ziffer im Zahlensystem ... im Dezimalsystem also mit 9 \n",
    "    a) 0.0'01' -> 0.'01'\n",
    "    -> 1/10 * [b]\n",
    "    b) '01'    -> (01/11)\n",
    "    -> 1/10 + (01/11)\n",
    "    \n",
    "2. In Dezimal umwandeln und ausrechnen\n",
    "    1/2 * 1/3 = 1/6\n",
    "    -> 3. Wir wandeln 1/10 um und erhalten 1/2 in Dezimalschreibweise\n",
    "    -> 4. Wir wandeln 01/11 um und erhalten 1/3 in Dezimalschreibweise...\n",
    "    -> 5. Nun nur noch zusammenrechnen... Ergebnis: 1/6\n",
    "'''\n",
    "\n",
    "print(\"Alternativ: \",Fraction(0b1, 0b10)*Fraction(0b01, 0b11))"
   ]
  },
  {
   "cell_type": "code",
   "execution_count": 19,
   "metadata": {
    "scrolled": true
   },
   "outputs": [
    {
     "ename": "ValueError",
     "evalue": "invalid literal for int() with base 2: '6875'",
     "output_type": "error",
     "traceback": [
      "\u001b[1;31m---------------------------------------------------------------------------\u001b[0m",
      "\u001b[1;31mValueError\u001b[0m                                Traceback (most recent call last)",
      "\u001b[1;32m<ipython-input-19-c8bfdae9fc4e>\u001b[0m in \u001b[0;36m<module>\u001b[1;34m()\u001b[0m\n\u001b[0;32m     13\u001b[0m     \u001b[1;32mreturn\u001b[0m \u001b[0mint\u001b[0m\u001b[1;33m(\u001b[0m\u001b[0mt\u001b[0m\u001b[1;33m[\u001b[0m\u001b[1;36m0\u001b[0m\u001b[1;33m]\u001b[0m\u001b[1;33m,\u001b[0m\u001b[1;36m2\u001b[0m\u001b[1;33m)\u001b[0m\u001b[1;33m+\u001b[0m\u001b[0mint\u001b[0m\u001b[1;33m(\u001b[0m\u001b[0mt\u001b[0m\u001b[1;33m[\u001b[0m\u001b[1;36m1\u001b[0m\u001b[1;33m]\u001b[0m\u001b[1;33m,\u001b[0m\u001b[1;36m2\u001b[0m\u001b[1;33m)\u001b[0m\u001b[1;33m/\u001b[0m\u001b[1;36m2.\u001b[0m\u001b[1;33m**\u001b[0m\u001b[0mlen\u001b[0m\u001b[1;33m(\u001b[0m\u001b[0mt\u001b[0m\u001b[1;33m[\u001b[0m\u001b[1;36m1\u001b[0m\u001b[1;33m]\u001b[0m\u001b[1;33m)\u001b[0m\u001b[1;33m\u001b[0m\u001b[0m\n\u001b[0;32m     14\u001b[0m \u001b[1;33m\u001b[0m\u001b[0m\n\u001b[1;32m---> 15\u001b[1;33m \u001b[0mprint\u001b[0m\u001b[1;33m(\u001b[0m\u001b[0mparse_bin\u001b[0m\u001b[1;33m(\u001b[0m\u001b[1;34m'0.6875'\u001b[0m\u001b[1;33m)\u001b[0m\u001b[1;33m)\u001b[0m\u001b[1;33m\u001b[0m\u001b[0m\n\u001b[0m",
      "\u001b[1;32m<ipython-input-19-c8bfdae9fc4e>\u001b[0m in \u001b[0;36mparse_bin\u001b[1;34m(s)\u001b[0m\n\u001b[0;32m     11\u001b[0m \u001b[1;32mdef\u001b[0m \u001b[0mparse_bin\u001b[0m\u001b[1;33m(\u001b[0m\u001b[0ms\u001b[0m\u001b[1;33m)\u001b[0m\u001b[1;33m:\u001b[0m\u001b[1;33m\u001b[0m\u001b[0m\n\u001b[0;32m     12\u001b[0m     \u001b[0mt\u001b[0m \u001b[1;33m=\u001b[0m \u001b[0ms\u001b[0m\u001b[1;33m.\u001b[0m\u001b[0msplit\u001b[0m\u001b[1;33m(\u001b[0m\u001b[1;34m'.'\u001b[0m\u001b[1;33m)\u001b[0m\u001b[1;33m\u001b[0m\u001b[0m\n\u001b[1;32m---> 13\u001b[1;33m     \u001b[1;32mreturn\u001b[0m \u001b[0mint\u001b[0m\u001b[1;33m(\u001b[0m\u001b[0mt\u001b[0m\u001b[1;33m[\u001b[0m\u001b[1;36m0\u001b[0m\u001b[1;33m]\u001b[0m\u001b[1;33m,\u001b[0m\u001b[1;36m2\u001b[0m\u001b[1;33m)\u001b[0m\u001b[1;33m+\u001b[0m\u001b[0mint\u001b[0m\u001b[1;33m(\u001b[0m\u001b[0mt\u001b[0m\u001b[1;33m[\u001b[0m\u001b[1;36m1\u001b[0m\u001b[1;33m]\u001b[0m\u001b[1;33m,\u001b[0m\u001b[1;36m2\u001b[0m\u001b[1;33m)\u001b[0m\u001b[1;33m/\u001b[0m\u001b[1;36m2.\u001b[0m\u001b[1;33m**\u001b[0m\u001b[0mlen\u001b[0m\u001b[1;33m(\u001b[0m\u001b[0mt\u001b[0m\u001b[1;33m[\u001b[0m\u001b[1;36m1\u001b[0m\u001b[1;33m]\u001b[0m\u001b[1;33m)\u001b[0m\u001b[1;33m\u001b[0m\u001b[0m\n\u001b[0m\u001b[0;32m     14\u001b[0m \u001b[1;33m\u001b[0m\u001b[0m\n\u001b[0;32m     15\u001b[0m \u001b[0mprint\u001b[0m\u001b[1;33m(\u001b[0m\u001b[0mparse_bin\u001b[0m\u001b[1;33m(\u001b[0m\u001b[1;34m'0.6875'\u001b[0m\u001b[1;33m)\u001b[0m\u001b[1;33m)\u001b[0m\u001b[1;33m\u001b[0m\u001b[0m\n",
      "\u001b[1;31mValueError\u001b[0m: invalid literal for int() with base 2: '6875'"
     ]
    }
   ],
   "source": [
    "#44 #ALARM\n",
    "#Geben Sie die Zahl 0.7 (dezimal) in Binärdarstellung an.\n",
    "#0.7 * 2 = 1.4\n",
    "#0.4 * 2 = 0.8\n",
    "#0.8 * 2 = 1.6\n",
    "#0.6 * 2 = 1.2\n",
    "#0.2 * 2 = 0.4\n",
    "#Lösung: 0.1-0110- (10110, Periode 0110)\n",
    "#bin places!!! im buch"
   ]
  },
  {
   "cell_type": "code",
   "execution_count": 76,
   "metadata": {},
   "outputs": [
    {
     "name": "stdout",
     "output_type": "stream",
     "text": [
      "0.014285714285714285\n"
     ]
    }
   ],
   "source": [
    "'''\n",
    "#45\n",
    "Kreuzen Sie die Zahlen an, die man dezimal mit endlich vielen Nachkommastellen darstellen kann:\n",
    "\n",
    "Bei Dezimalzahlen dürfen die Primfaktoren des Nenners nur 2 und 5 sein.\n",
    "\n",
    "[x] 1/8 -> 2*2*2*2\n",
    "[x] 2/5 -> 5 \n",
    "[x] 3/16 -> 2*2*2*2*2 \n",
    "[x] 21/28 -> Kürzen zu 3/4 -> 2*2\n",
    "[ ] 1/70 \n",
    "\n",
    "alternativ einfach ausgeben und gucken, ob ultra lang (dann irrational) oder halt normal lol\n",
    "also:\n",
    "print(1/8) usw\n",
    "'''\n",
    "\n",
    "from fractions import Fraction\n",
    "\n",
    "Fraction(21/28)\n",
    "print(1/70)"
   ]
  },
  {
   "cell_type": "code",
   "execution_count": 43,
   "metadata": {},
   "outputs": [],
   "source": [
    "'''\n",
    "#51 \n",
    "\n",
    "# Ohne Hidden bit... also wird die erste Eins einmalig abgeschnitten... Danach folgt die ganze Periode, also samt 1... Also muss das Egebnis schon mal mit 10 beginnen und mit 0110 weitergehen...\n",
    "# heißt nur 2 und 3 können mögliche Antworten sein. Am Ende aufs Runden achten, da gerundet werden müsste und das nur bei 3 getan wird, ist 3 die richtige Antwort.\n",
    "\n",
    "\n",
    "Man muss erstmal bis zur ersten 1 verschieben... Die wird dann einmal weggekickt und stellt das hidden bit dar. Das heißt in diesem Fall\n",
    "muss das Ergebnis mit 10 beginnen... Bleiben nur noch zwei Möglichkeiten. \n",
    "\n",
    "Jetzt wird gecheckt, ob gerundet werden muss. Bei der ersten Option wird die letzte 1 weggeschnitten, das heißt, dass eigentlich\n",
    "hätte gerundet werden müssen... Wurde es da aber nicht. Bei der unteren Option wurde das gemacht. Das heißt, Option 3 ist korrekt.\n",
    "\n",
    "\n",
    "'''\n",
    "\n",
    "# 52 reinkopieren\n"
   ]
  },
  {
   "cell_type": "code",
   "execution_count": 2,
   "metadata": {},
   "outputs": [
    {
     "ename": "NameError",
     "evalue": "name 'math' is not defined",
     "output_type": "error",
     "traceback": [
      "\u001b[1;31m---------------------------------------------------------------------------\u001b[0m",
      "\u001b[1;31mNameError\u001b[0m                                 Traceback (most recent call last)",
      "\u001b[1;32m<ipython-input-2-d42c9f157c2a>\u001b[0m in \u001b[0;36m<module>\u001b[1;34m()\u001b[0m\n\u001b[0;32m     15\u001b[0m \u001b[0mmaxRange\u001b[0m \u001b[1;33m=\u001b[0m \u001b[0mFraction\u001b[0m\u001b[1;33m(\u001b[0m\u001b[1;36m2\u001b[0m\u001b[1;33m**\u001b[0m\u001b[1;36m53\u001b[0m\u001b[1;33m)\u001b[0m \u001b[1;31m#darstellbarer bereich in IEEE bzw Endbereich\u001b[0m\u001b[1;33m\u001b[0m\u001b[0m\n\u001b[0;32m     16\u001b[0m \u001b[1;33m\u001b[0m\u001b[0m\n\u001b[1;32m---> 17\u001b[1;33m \u001b[0ma\u001b[0m \u001b[1;33m=\u001b[0m \u001b[0mmath\u001b[0m\u001b[1;33m.\u001b[0m\u001b[0mpi\u001b[0m\u001b[1;33m\u001b[0m\u001b[0m\n\u001b[0m\u001b[0;32m     18\u001b[0m \u001b[0mb\u001b[0m \u001b[1;33m=\u001b[0m \u001b[1;36m0.5\u001b[0m\u001b[1;33m\u001b[0m\u001b[0m\n\u001b[0;32m     19\u001b[0m \u001b[0mc\u001b[0m \u001b[1;33m=\u001b[0m \u001b[1;36m3.14\u001b[0m\u001b[1;33m\u001b[0m\u001b[0m\n",
      "\u001b[1;31mNameError\u001b[0m: name 'math' is not defined"
     ]
    }
   ],
   "source": [
    "#53 #ALARM\n",
    "'''\n",
    "Welche der folgenden Zahlen lassen sich im IEEE-Format Double (64-Bit) exakt darstellen?\n",
    "\n",
    "[ ] PI\n",
    "[x] 0.5\n",
    "[ ] 3.14\n",
    "[x] 2**-42\n",
    "[x] (2**53)-1\n",
    "[ ] (2**53)+1\n",
    "\n",
    "\n",
    "\n",
    "SIEHE PAULS LÖSUNG.... \n",
    "\n",
    ".... checkt, ob Perioden in der Zahl existieren ... wenn ja, ist sie nicht darstellbar. :))) ok!!\n",
    "'''\n",
    "\n",
    "from fractions import Fraction\n",
    "\n",
    "maxRange = Fraction(2**53) #darstellbarer bereich in IEEE bzw Endbereich\n",
    "\n",
    "a = math.pi\n",
    "b = 0.5\n",
    "c = 3.14\n",
    "d = 2**-42\n",
    "e = (2**53)-1\n",
    "f = (2**53)+1\n",
    "\n",
    "# Checkt, ob die Zahl im Wertebereich liegt...\n",
    "counter = 0\n",
    "for i in (a,b,c,d,e,f):\n",
    "    if(i<maxRange):\n",
    "        print(counter, \"lässt sich darstellen.\", i)\n",
    "    else:\n",
    "        print(counter,\" ist außerhalb des Wertebereichs.\", i)\n",
    "    counter = counter +1\n",
    "    \n",
    "# Im nächsten Schritt muss geguckt werden, ob die Zahl periodisch ist oder nicht.\n",
    "# Weiß aber nicht genau wie... #ALARM\n",
    "\n",
    "print(maxRange)\n",
    "print(Fraction(2**53-1)) #gerade noch so darstellbar\n",
    "print(Fraction(2**53+1))#fällt raus"
   ]
  },
  {
   "cell_type": "code",
   "execution_count": 44,
   "metadata": {},
   "outputs": [],
   "source": [
    "#55 siehe Kiwans Antwort\n",
    "'''\n",
    "'''"
   ]
  },
  {
   "cell_type": "code",
   "execution_count": null,
   "metadata": {},
   "outputs": [],
   "source": [
    "'''\n",
    "#56\n",
    "Kreuzen Sie die Zahlen an, die nicht rational sind.\n",
    "\n",
    "[ ] 0.500000000000000000000000000000000000000000000000000000000000000000000\n",
    "[ ] 0.112123123411212312341121231234112123123411212312341121231234112123123\n",
    "[x] 0.112123123412345123456123456712345678123456789123456789101234567891011 \n",
    "[ ] 0.318424242424242424242424242424242424242424242424242424242424242424242\n",
    "[x] 0.010010001000010000010000001000000010000000010000000001000000000010000\n",
    "\n",
    "Erklärung:\n",
    "Zahlen, die periodisch sind, können trotzdem rational sein, solange sie einem \n",
    "konkreten Muster folgen, d.h. solange sie sich wiederholen.\n",
    "\n",
    "Wenn sie das nicht tun, dann sind sie nicht rational.\n",
    "'''"
   ]
  },
  {
   "cell_type": "code",
   "execution_count": 78,
   "metadata": {},
   "outputs": [
    {
     "data": {
      "text/plain": [
       "'\\n#57\\nKreuzen Sie von den folgenden Zahlen die an, die irrational sind:\\n\\n[ ] Wurzel aus 81\\n[x] Wurzel aus 91\\n[ ] Wurzel aus 100\\n[x] Wurzel aus 101\\n[x] Wurzel aus 111\\n[ ] Wurzel aus 121\\n\\nErklärung:\\nReal numbers have two categories: rational and irrational. \\nIf a square root is not a perfect square, then it is considered an \\nirrational number. These numbers cannot be written as a fraction \\nbecause the decimal does not end (non-terminating) and does not \\nrepeat a pattern (non-repeating).\\n\\nPerfect Square is a number that can be expressed as the \\nproduct of two equal integers: \\n9 = 3*3\\n16 = 4*4\\n25 = 5*5\\n'"
      ]
     },
     "execution_count": 78,
     "metadata": {},
     "output_type": "execute_result"
    }
   ],
   "source": [
    "'''\n",
    "#57\n",
    "Kreuzen Sie von den folgenden Zahlen die an, die irrational sind:\n",
    "\n",
    "[ ] Wurzel aus 81\n",
    "[x] Wurzel aus 91\n",
    "[ ] Wurzel aus 100\n",
    "[x] Wurzel aus 101\n",
    "[x] Wurzel aus 111\n",
    "[ ] Wurzel aus 121\n",
    "\n",
    "Erklärung:\n",
    "Real numbers have two categories: rational and irrational. \n",
    "If a square root is not a perfect square, then it is considered an \n",
    "irrational number. These numbers cannot be written as a fraction \n",
    "because the decimal does not end (non-terminating) and does not \n",
    "repeat a pattern (non-repeating).\n",
    "\n",
    "Perfect Square is a number that can be expressed as the \n",
    "product of two equal integers: \n",
    "9 = 3*3\n",
    "16 = 4*4\n",
    "25 = 5*5\n",
    "'''"
   ]
  },
  {
   "cell_type": "code",
   "execution_count": null,
   "metadata": {},
   "outputs": [],
   "source": [
    "'''\n",
    "#58 \n",
    "\n",
    "Die ankreuzen, die irrational sind:\n",
    "\n",
    "[x] Wurzel aus 8\n",
    "[ ] Wurzel aus 2 * Wurzel aus 8 | Wurzel aus 16, also 4*4, also rational\n",
    "[x] Wurzel aus 3 * Wurzel aus 3 * Wurzel aus 3\n",
    "[ ] Wurzel aus 81\n",
    "[x] Wurzel aus 111\n",
    "[ ] Wurzel aus 121\n",
    "\n",
    "'''"
   ]
  },
  {
   "cell_type": "code",
   "execution_count": null,
   "metadata": {},
   "outputs": [],
   "source": [
    "#59 \n",
    "#Geben Sie einen Bruch an, der sich von Wurzel aus 3 um weniger als 10^-4 unterscheidet.\n",
    "\n",
    "import math\n",
    "\n",
    "math.sqrt(3)\n",
    "\n",
    "# 10^-4 = 0.00010\n",
    "\n",
    "Fraction(math.sqrt(3)).limit_denominator()\n",
    "\n",
    "print(\"Wurzel aus 3:\", math.sqrt(3))\n",
    "print(\"Überprüfung: \",1694157/978122)"
   ]
  },
  {
   "cell_type": "code",
   "execution_count": 77,
   "metadata": {},
   "outputs": [
    {
     "name": "stdout",
     "output_type": "stream",
     "text": [
      "930249/416020\n",
      "Wurzel aus 5:  2.23606797749979\n",
      "Ergebnis (930249/416020) als Dezimalzahl:  2.2360679775010817\n",
      "Überprüfung:  5.000000000005778\n"
     ]
    }
   ],
   "source": [
    "'''\n",
    "#60\n",
    "Geben Sie einen Bruch an, dessen Quadrat sich um weniger als 10^-2 von 5 unterscheidet.\n",
    "'''\n",
    "import math\n",
    "\n",
    "print(Fraction(math.sqrt(5)).limit_denominator())\n",
    "print(\"Wurzel aus 5: \", math.sqrt(5))\n",
    "print(\"Ergebnis (930249/416020) als Dezimalzahl: \", 930249/416020)\n",
    "print(\"Überprüfung: \",(930249/416020)**2)"
   ]
  },
  {
   "cell_type": "code",
   "execution_count": 4,
   "metadata": {},
   "outputs": [
    {
     "name": "stdout",
     "output_type": "stream",
     "text": [
      "Bruch:  4/7\n"
     ]
    }
   ],
   "source": [
    "#61\n",
    "'''\n",
    "Geben Sie einen Bruch an, der sich von 1 / Wurzel aus 3 um weniger als 10**-2 unterscheidet\n",
    "und dessen Nenner einen kleineren Betrag als 10 hat.\n",
    "'''\n",
    "\n",
    "import math\n",
    "from fractions import Fraction\n",
    "\n",
    "zahl = 1/math.sqrt(3)\n",
    "maxUnterschied = 10**-2\n",
    "min = zahl-maxUnterschied\n",
    "max = zahl+maxUnterschied\n",
    "maxNenner = 9\n",
    "\n",
    "for z in range(1,maxNenner+1):\n",
    "    for n in range (1,maxNenner+1):\n",
    "        q = Fraction(z,n)\n",
    "        if(q > min and q < max): # Letzte Bedingung muss per Hand überprüft werden\n",
    "            print(\"Bruch: \", q)"
   ]
  },
  {
   "cell_type": "code",
   "execution_count": 1,
   "metadata": {},
   "outputs": [
    {
     "name": "stdout",
     "output_type": "stream",
     "text": [
      "Bruch:  1/7\n",
      "Bruch:  2/13\n",
      "Bruch:  1/7\n",
      "Bruch:  3/19\n",
      "Anzahl:  3\n",
      "\n",
      "Zur Kontrolle\n",
      "Min:  0.14159265358979312 Max:  0.16227766016837952\n",
      "0.15789473684210525\n",
      "0.15384615384615385\n",
      "0.14285714285714285\n"
     ]
    }
   ],
   "source": [
    "'''\n",
    "#62 #ALARM Wir sind uns nicht sicher, (aber wir sind sehr stolz auf uns)\n",
    "\n",
    "Zwischen PI - 3 und (Wurzel aus 10)-3 liegen unendlich viele Brüche. Bei wie vielen dieser Bruche ist der Nenner\n",
    "kleiner als 20, wenn sie in gekurzter Form dargestellt werden? \n",
    "[Hinweis: Schreiben Sie sich dafur ein kleines Programm.]\n",
    "'''\n",
    "\n",
    "import math\n",
    "from fractions import Fraction\n",
    "\n",
    "rangeMin = math.pi-3\n",
    "rangeMax = math.sqrt(10)-3\n",
    "maxNenner = 19\n",
    "numberOfFractions = set()\n",
    "\n",
    "for z in range(1,maxNenner+1):\n",
    "    for n in range (1,maxNenner+1):\n",
    "        q = Fraction(z,n)\n",
    "        if(q > rangeMin and q < rangeMax):\n",
    "            numberOfFractions.add(q)\n",
    "            print(\"Bruch: \", q)\n",
    "            \n",
    "print(\"Anzahl: \", len(numberOfFractions))\n",
    "print()\n",
    "print(\"Zur Kontrolle\")\n",
    "print(\"Min: \", rangeMin, \"Max: \", rangeMax)\n",
    "print(3/19)\n",
    "print(2/13)\n",
    "print(1/7)"
   ]
  },
  {
   "cell_type": "code",
   "execution_count": 150,
   "metadata": {},
   "outputs": [
    {
     "name": "stdout",
     "output_type": "stream",
     "text": [
      "Bruch:  161/72\n",
      "Zwei Lösungen aus der Schleife: \n",
      "\n",
      "\n",
      "Kontrolle für (161/72): 2.236111111111111\n",
      "Bedingung 1: min:  2.23606797749979 \n",
      "Bedingung 2: nicht größer als q-Wurzel aus 5: 0.0001\n",
      "Wert - Wurzel aus 5:  0.000043 < 0.0001\n",
      "\n",
      "\n",
      "Kontrolle für (928/415): 2.236144578313253\n",
      "Bedingung 1: min:  2.23606797749979 \n",
      "Bedingung 2: nicht größer als q-Wurzel aus 5: 0.0001\n",
      "Wert - Wurzel aus 5:  0.000077 < 0.0001\n"
     ]
    }
   ],
   "source": [
    "'''\n",
    "#63\n",
    "\n",
    "1) q ist größer als Wurzel aus 5\n",
    "2) q - Wurzel aus 5 ist kleiner als 10^-4\n",
    "3) Der Nenner von q ist kleiner als 100 000\n",
    "\n",
    "'''\n",
    "min = math.sqrt(5)\n",
    "\n",
    "maxMinusSqrt = 10**-4\n",
    "maxNenner = 200 # der eigentlich max-Nenner ist natürlich größer, aber falls wir vorher etwas finden, ist die Aufgabe ja auch erledigt... und das dauert dann nicht so lange in der Loop\n",
    "\n",
    "for z in range(1,maxNenner+1):\n",
    "    for n in range (1,maxNenner+1):\n",
    "        q = Fraction(z,n)\n",
    "        if(q > min and ((q - math.sqrt(5)) < maxMinusSqrt)):\n",
    "            print(\"Bruch: \", q)\n",
    "            \n",
    "            \n",
    "print(\"Zwei Lösungen aus der Schleife: \")\n",
    "\n",
    "print(\"\\n\\nKontrolle für (161/72):\",161/72)\n",
    "print(\"Bedingung 1: min: \", min, \"\\nBedingung 2: nicht größer als q-Wurzel aus 5:\", maxMinusSqrt)\n",
    "print(\"Wert - Wurzel aus 5: \", '{:f}'.format((161/72)-min), \"<\",maxMinusSqrt)\n",
    "\n",
    "'''\n",
    "#wert = 7.660081346338998e-05\n",
    "#'{:f}'.format(wert)\n",
    "\n",
    "Das sorgt dafür, dass so kryptische Darstellungen wie 5944E-49 als normale Zahl dargestellt werden.\n",
    "'''\n",
    "\n",
    "print(\"\\n\\nKontrolle für (928/415):\",928/415)\n",
    "print(\"Bedingung 1: min: \", min, \"\\nBedingung 2: nicht größer als q-Wurzel aus 5:\", maxMinusSqrt)\n",
    "print(\"Wert - Wurzel aus 5: \", '{:f}'.format((928/415)-min), \"<\",maxMinusSqrt)\n",
    "\n"
   ]
  },
  {
   "cell_type": "code",
   "execution_count": null,
   "metadata": {},
   "outputs": [],
   "source": [
    "'''\n",
    "#64\n",
    "\n",
    "Kreuzen Sie von den folgenden Mengen die an, die das Element 11 enthalten:\n",
    "\n",
    "[ ] {x E Z: x**2 < 100} \n",
    "    11**2 ist größer als 100, also ist 11 nicht dabei.\n",
    "[ ] {mn: m; n E P}\n",
    "    m*n ... d.h., dass wir zwei Primzahlen brauchen, die 11 ergeben. Geht nicht!\n",
    "[x] {x E N: x < 100}\n",
    "[ ] Q \\ R\n",
    "    Leere Menge, denn R enthält alles, was Q enthält und noch viel mehr (alle bösen irrationalen Zahlen!).\n",
    "[ ] {x E Q: x =/= 0 und x**-1 >= 11}\n",
    "    11 kann da nicht drin sein, weil 11**-1 kleiner als 11 ist.\n",
    "    \n",
    "#65\n",
    "\n",
    "Kreuzen Sie von den folgenden Mengen die an, die das Element 42 enthalten:\n",
    "\n",
    "[x] {m - n: m,n E N}\n",
    "    z.B. 43,1 ... alles, was sich so darstellen lässt, ist in der neuen Menge drin, heißt auch 42.\n",
    "[x] {x E Q: x =!= 0 und x**-1 < 1}\n",
    "    Einfach mathematisch durch Python überprüfen...\n",
    "[ ] {x E Z: x**2 <= 49}\n",
    "    42**2 muss größer als 49 sein, deswegen ist 42 nicht enthalten.\n",
    "[ ] {x E P: x < 100}\n",
    "    42 ist keine Primzahl.\n",
    "[ ] R \\ Q\n",
    "    Es bleiben nur die irrationalen Zahlen über und 42 ist eine rationale Zahl.\n",
    "    \n",
    "#66 Sei A die Menge der durch 3 teilbaren Primzahlen. Welche der folgenden Aussagen sind wahr?\n",
    "\n",
    "[x] A = {3} \n",
    "[x] A = P Durchschnitt {3n : n E N}\n",
    "[ ] A = P Vereinigung {3n : n E N}\n",
    "    Hier sind alle Primzahlen drin und auch mehr, und das geht nicht.\n",
    "[x] A Teilmenge P\n",
    "[ ] A = {p E P:p mod 3 = 1}\n",
    "    13 ist drin, aber 3 nicht, also geht das nicht.\n",
    "\n",
    "[ ] Keine der Aussagen ist wahr\n",
    "\n",
    "\n",
    "#67\n",
    "Sei A die Menge aller irrationalen reellen Zahlen. Welche der folgenden Aussangen sind wahr?\n",
    "\n",
    "[] A = R Durchschnitt Q\n",
    "    Da sind nur rationale Zahlen drin, also nur Q.\n",
    "[x] A = R \\ Q\n",
    "    Hier bleiben nur die irrationalen Zahlen über.\n",
    "[] A = Q \\ R\n",
    "    Leere Menge\n",
    "[] A Teilmenge Q\n",
    "    Ist nicht wahr.\n",
    "[x] A Durchschnitt Q = Leere Menge\n",
    "\n",
    "#68\n",
    "\n",
    "A,C | B,E | D,I | G,H | F,J\n",
    "\n",
    "A = R\n",
    "B = (leere Menge) Vereinigung N -> N \n",
    "C = R\n",
    "D = 0\n",
    "E = N\n",
    "F = Leere Menge\n",
    "G = 2*Wurzel aus 2 -> Wurzel aus 8\n",
    "H = math.sqrt(8), Wurzel aus 8\n",
    "I = 0\n",
    "J = Leere Menge\n",
    "\n",
    "#69\n",
    "\n",
    "B,E | A,C | D,G | F,J | H,I|\n",
    "\n",
    "A = R\n",
    "B = (leere Menge) Vereinigung N -> N \n",
    "C = R\n",
    "D = 0\n",
    "E = N\n",
    "F = Leere Menge\n",
    "G = 0\n",
    "H = Wurzel aus 8\n",
    "I = 2*Wurzel aus 2 bzw Wurzel aus 8\n",
    "J = Leere Menge\n",
    "\n",
    "'''"
   ]
  },
  {
   "cell_type": "code",
   "execution_count": 1,
   "metadata": {},
   "outputs": [
    {
     "name": "stdout",
     "output_type": "stream",
     "text": [
      "11 {0.0, 1.0, 2.0, 3.0, -0.5, 0.5, -0.3333333333333333, 0.3333333333333333, -1.0, -3.0, -2.0}\n"
     ]
    }
   ],
   "source": [
    "'''\n",
    "#70 Wieviele Elemente hat die folgende Menge?\n",
    "'''\n",
    "A = set()\n",
    "\n",
    "for q in range(1,4):\n",
    "    for p in range(-3,4):\n",
    "        if(abs(p*q)) <= 3:\n",
    "            A.add(p/q)\n",
    "\n",
    "print(len(A), A)"
   ]
  },
  {
   "cell_type": "code",
   "execution_count": 107,
   "metadata": {},
   "outputs": [
    {
     "name": "stdout",
     "output_type": "stream",
     "text": [
      " Antwort:  4 \n",
      " {frozenset({1, 4}), frozenset({1}), frozenset({1, 2, 4}), frozenset({1, 2})}\n"
     ]
    }
   ],
   "source": [
    "'''\n",
    "#71 Sei A = {1, 2, 4} und B = {2, 3, 4}. Wie viele Elemente hat die Menge Potenzmenge(A) \\ Potenzmenge(B)?\n",
    "\n",
    "Das kosmische P ist die Potenzmenge. Siehe https://wikimedia.org/api/rest_v1/media/math/render/svg/038c6b5ab1bf073dad64d1cfbada2b62f773c635\n",
    "\n",
    "Verhält sich folgendermaßen: P von A = Leere Menge, 1,2,4,{1,2,4},{1,2},{1,4},{4,2}\n",
    "\n",
    "\n",
    "\n",
    "TIPP: siehe kiwans antwort, das ist ne coolere methode... \n",
    "\n",
    "'''\n",
    "def getPowerSet(s):\n",
    "\n",
    "    power_set = {frozenset()}\n",
    "\n",
    "    for element in s:\n",
    "        one_element_set = frozenset({element})\n",
    "        power_set |= {subset | one_element_set for subset in power_set}\n",
    "\n",
    "    return power_set\n",
    "\n",
    "A = getPowerSet({1,2,4})\n",
    "B = getPowerSet({2,3,4})\n",
    "\n",
    "C = A-B\n",
    "\n",
    "print(\" Antwort: \", len(C),\"\\n\",C)"
   ]
  },
  {
   "cell_type": "code",
   "execution_count": 121,
   "metadata": {},
   "outputs": [
    {
     "name": "stdout",
     "output_type": "stream",
     "text": [
      "\tA**2 \\ B**2: {(1, 2), (1, 3), (3, 1), (2, 1), (1, 1)}\n",
      "\t(A\\B)**2 {(1, 1)}\n",
      "Lösung: z.B. (1,2) oder (1,3) oder (3,1) ...\n"
     ]
    }
   ],
   "source": [
    "''' #72\n",
    "#ALARM ist das richtig?\n",
    "\n",
    "Sei A = {1,2,3} und B = {2,3,4}\n",
    "Geben Sie ein geordnetes Paar an, das Element von A**2 \\ B**2, \n",
    "aber nicht Element von (A \\ B)**2 ist.\n",
    "\n",
    "Wichtig: Hier geht es um geordnete Paare, nicht um Potenzmengen!\n",
    "'''\n",
    "\n",
    "A = {1,2,3}\n",
    "B = {2,3,4}\n",
    "\n",
    "AAKP = set()\n",
    "BBKP = set()\n",
    "\n",
    "for a1 in A :\n",
    "    for a2 in A:\n",
    "        AAKP.add((a1,a2))\n",
    "for b1 in B:\n",
    "    for b2 in B:\n",
    "        BBKP.add((b1,b2))\n",
    "        \n",
    "AAMinusBBKP = AAKP-BBKP\n",
    "print(\"\\tA**2 \\ B**2:\", AAMinusBBKP)\n",
    "\n",
    "AMinusB = A-B\n",
    "AMinusBKP = set() #Kreuzprodukt\n",
    "\n",
    "for ab1 in AMinusB:\n",
    "    for ab2 in AMinusB:\n",
    "        AMinusBKP.add((ab1,ab2))\n",
    "\n",
    "print(\"\\t(A\\B)**2\", AMinusBKP)\n",
    "\n",
    "\n",
    "print(\"Lösung: z.B. (1,2) oder (1,3) oder (3,1) ...\")"
   ]
  },
  {
   "cell_type": "code",
   "execution_count": 124,
   "metadata": {},
   "outputs": [
    {
     "name": "stdout",
     "output_type": "stream",
     "text": [
      "Lösung:  12 {0, 1, 2, 3, 4, 6, 9, -2, -6, -4, -3, -1}\n"
     ]
    }
   ],
   "source": [
    "'''\n",
    "#73\n",
    "Sei A = {-2,-1,0,1,2,3}. Geben Sie die Mächtigkeit von B = {xy: x,y E A} an.\n",
    "'''\n",
    "\n",
    "A = {-2,-1,0,1,2,3}\n",
    "B = set()\n",
    "\n",
    "for x in A:\n",
    "    for y in A:\n",
    "        B.add(x*y)\n",
    "        \n",
    "print(\"Lösung: \",len(B), B)"
   ]
  },
  {
   "cell_type": "code",
   "execution_count": 126,
   "metadata": {},
   "outputs": [
    {
     "name": "stdout",
     "output_type": "stream",
     "text": [
      "Lösung:  463\n"
     ]
    }
   ],
   "source": [
    "'''\n",
    "#74\n",
    "Sei A die Menge der ersten 22 Primzahlen und B = {m/n : m,n E A}. \n",
    "Geben Sie die Mächtigkeit von B an.\n",
    "'''\n",
    "\n",
    "from sympy import prime\n",
    "\n",
    "A = set()\n",
    "B = set()\n",
    "\n",
    "for i in range(1,23):\n",
    "    A.add(prime(i))\n",
    "    \n",
    "for m in A:\n",
    "    for n in A:\n",
    "        B.add(m/n)\n",
    "\n",
    "print(\"Lösung: \",len(B))   "
   ]
  },
  {
   "cell_type": "code",
   "execution_count": 127,
   "metadata": {},
   "outputs": [
    {
     "name": "stdout",
     "output_type": "stream",
     "text": [
      "Lösung:  24\n"
     ]
    }
   ],
   "source": [
    "'''\n",
    "#75 Sei A die Menge der ersten 23 Primzahlen \n",
    "und B die Menge {ggT(m, n): m,n E A}. Geben Sie die Mächtigkeit von B an.\n",
    "'''\n",
    "\n",
    "from sympy import prime\n",
    "import math\n",
    "\n",
    "A = set()\n",
    "B = set()\n",
    "\n",
    "for i in range(1,24):\n",
    "    A.add(prime(i))\n",
    "    \n",
    "for m in A:\n",
    "    for n in A:\n",
    "        B.add(math.gcd(m,n))\n",
    "        \n",
    "print(\"Lösung: \", len(B))"
   ]
  },
  {
   "cell_type": "code",
   "execution_count": 128,
   "metadata": {},
   "outputs": [
    {
     "name": "stdout",
     "output_type": "stream",
     "text": [
      "Lösung:  820\n"
     ]
    }
   ],
   "source": [
    "''' #76 \n",
    "Sei A die Menge der ersten 40 Primzahlen und \n",
    "B = {m*n : m,n E A}. Geben Sie die Mächtigkeit von B an. '''\n",
    "\n",
    "from sympy import prime\n",
    "import math\n",
    "\n",
    "A = set()\n",
    "B = set()\n",
    "\n",
    "for i in range(1,41):\n",
    "    A.add(prime(i))\n",
    "    \n",
    "for m in A:\n",
    "    for n in A:\n",
    "        B.add(m*n)\n",
    "        \n",
    "print(\"Lösung: \", len(B))"
   ]
  },
  {
   "cell_type": "code",
   "execution_count": 4,
   "metadata": {},
   "outputs": [
    {
     "name": "stdout",
     "output_type": "stream",
     "text": [
      "Lösung:  780\n"
     ]
    }
   ],
   "source": [
    "''' #77 \n",
    "Sei A die Menge der ersten 40 Primzahlen und \n",
    "B = {m*n : m,n E A und m != n}. Geben Sie die Mächtigkeit von B an.'''\n",
    "\n",
    "from sympy import prime\n",
    "\n",
    "A = set()\n",
    "B = set()\n",
    "\n",
    "for i in range(1,41):\n",
    "    A.add(prime(i))\n",
    "    \n",
    "for m in A:\n",
    "    for n in A:\n",
    "        if (m != n):\n",
    "            B.add(m*n)\n",
    "\n",
    "print(\"Lösung: \", len(B))"
   ]
  },
  {
   "cell_type": "code",
   "execution_count": 1,
   "metadata": {},
   "outputs": [
    {
     "name": "stdout",
     "output_type": "stream",
     "text": [
      "Lösung:  31\n",
      "Menge A:  {2, 3, 5, 7, 11, 13, 17, 19, 23, 29}\n"
     ]
    }
   ],
   "source": [
    "'''\n",
    "#78\n",
    "Sei A = {p ∈ P : p < q}. Für welche Primzahl q gilt |A × A| = 100?\n",
    "\n",
    "Lösung Aufgabe 266. Die Mächtigkeit von |A × A| ist |A| * |A|\n",
    "Die Mächtigkeit ist die Anzahl der Elemente. Die Mächtigkeit von A muss 10 sein, da 10*10 =100 ergibt. \n",
    "A wird wie oben definiert. Wir möchten 10 Elemente in der Menge haben, dementsprechend ermittelt man die 11te.\n",
    "'''\n",
    "import math\n",
    "from sympy import prime\n",
    "\n",
    "numberOfElementsInA = int(math.sqrt(100))\n",
    "q = prime(numberOfElementsInA + 1)\n",
    "\n",
    "A = set()\n",
    "\n",
    "#generiert uns die Menge A, die aus Primzahlen kleiner als q besteht\n",
    "for i in range(1,numberOfElementsInA+1):\n",
    "    A.add(prime(i))\n",
    "    \n",
    "print(\"Lösung: \", q)\n",
    "print(\"Menge A: \", A)"
   ]
  },
  {
   "cell_type": "code",
   "execution_count": 13,
   "metadata": {},
   "outputs": [
    {
     "name": "stdout",
     "output_type": "stream",
     "text": [
      "84\n"
     ]
    }
   ],
   "source": [
    "'''\n",
    "#79\n",
    "Die Mengen A und B sind folgendermaßen definiert:\n",
    "A = {{n, n + 1, n + 2} : n E N und n <= 42} = {{0, 1, 2}, {1, 2, 3}, . . . , {42, 43, 44}}\n",
    "B = {X Durchschnitt Y : X, Y E A und X != Y }\n",
    "\n",
    "Wie viele Elemente hat B?\n",
    "'''\n",
    "\n",
    "# vvvv hatte mich geirrt, sind keine tupel sondern mengen, aber selbes problem\n",
    "# Die Aufgabe spricht von Mengen, das funktioniert hier nicht, weil wir den Durchschnitt nehmen wollen, aber die Durchschnitts-\n",
    "# funktion nur bei Mengen funktioniert... Darum folgende Konstruktion mit Listen, die Tupel in Form von Mengen speichern.\n",
    "\n",
    "A = []\n",
    "B = []\n",
    "\n",
    "highestNum = 42\n",
    "\n",
    "for n in range(0,42+1):\n",
    "    A.append({n, n+1, n+2}) \n",
    "    \n",
    "for X in A:\n",
    "    for Y in A:\n",
    "        if X != Y:\n",
    "            X_D_Y = X&Y # Durchschnitt von X und Y\n",
    "            \n",
    "            if X_D_Y not in B: #Da wir mit Listen arbeiten, müssen wir doppelte Ergebnisse ausschließen.\n",
    "                B.append(X_D_Y) \n",
    "            \n",
    "print(len(B))"
   ]
  },
  {
   "cell_type": "code",
   "execution_count": 165,
   "metadata": {},
   "outputs": [
    {
     "name": "stdout",
     "output_type": "stream",
     "text": [
      "8 8\n",
      "11 11\n",
      "79\n"
     ]
    },
    {
     "data": {
      "image/png": "[encoded data removed]",
      "text/plain": [
       "<IPython.core.display.Image object>"
      ]
     },
     "execution_count": 165,
     "metadata": {},
     "output_type": "execute_result"
    }
   ],
   "source": [
    "'''\n",
    "#80\n",
    "\n",
    "A, B und C sind Mengen, die jeweils 30 Elemente haben. A Durchschnitt B hat fünf Elemente, A Durchschnitt C hat sechs\n",
    "Elemente. Ferner sind A Durchschnitt B und A Durchschnitt C disjunkt und es gilt | A Vereinigung B Vereinigung C | = 70. \n",
    "\n",
    "Wie viele Elemente hat B Durchschnitt C?\n",
    "'''\n",
    "from IPython.display import Image\n",
    "\n",
    "# |A Vereinigung B| =  |A| + |B| - |A Durchschnitt B|\n",
    "A = {1,2,3,4,5}\n",
    "B = {1,2,6,7,8}\n",
    "\n",
    "C = len(A|B)\n",
    "D = len(A) + len(B) - len(A&B)\n",
    "print(C, D)\n",
    "\n",
    "# |A Vereinigung B Vereinigung C| = |A| + |B| + |C| - |A Durchschnitt B| - |A Durchschnitt C| - |B Durchschnitt C| + |A Durchschnitt B Durchschnitt C|\n",
    "A = {1,2,3,4,5}\n",
    "B = {1,2,6,7,8}\n",
    "C = {1,9,10,11}\n",
    "\n",
    "D = len(A|B|C)\n",
    "E = len(A) + len(B) + len(C) - len(A&B) - len(A&C) -len (B&C) + len(A&B&C)\n",
    "# Würden wir am Ende nicht einmal A&B&C rechnen, dann hätten wir zu viel herausgenommen!\n",
    "print(D,E)\n",
    "\n",
    "AVBVC = 70\n",
    "\n",
    "A = 30\n",
    "B = 30\n",
    "C = 30\n",
    "\n",
    "ADB = 5\n",
    "ADC = 6\n",
    "\n",
    "#unbekannt:\n",
    "#BDC\n",
    "#ADBDC\n",
    "\n",
    "\n",
    "'''\n",
    "# A+B+C = 90\n",
    "# ADB + ADC = 11 \n",
    "# 90 - 11 = 79\n",
    "# Heißt also, dass BDC 9 sein muss, damit wir auf ingesamt 70 Elemente kommen.\n",
    "\n",
    "bzw\n",
    "\n",
    "90-70 = 20\n",
    "Da A und C disjunkt sind\n",
    "20-6-5 = 9\n",
    "\n",
    "'''\n",
    "\n",
    "Image(\"https://i.imgur.com/RpR4MNf.png\")"
   ]
  },
  {
   "cell_type": "code",
   "execution_count": 80,
   "metadata": {},
   "outputs": [
    {
     "data": {
      "text/plain": [
       "225"
      ]
     },
     "execution_count": 80,
     "metadata": {},
     "output_type": "execute_result"
    }
   ],
   "source": [
    "'''\n",
    "#81\n",
    "\n",
    "Wieviele dreistellige Dezimalzahlen gibt es, bei denen entweder alle Ziffern gerade oder alle Ziffern ungerade sind?\n",
    "\n",
    "Hinweis: 007 und 042 sind keine dreistelligen Dezimalzahlen.\n",
    "'''\n",
    "\n",
    "def checkIfEven(d):\n",
    "    if(d % 2 == 0):\n",
    "        return True\n",
    "    else:\n",
    "        return False\n",
    "\n",
    "z = set()\n",
    "\n",
    "for i in range(100,1000):\n",
    "    \n",
    "    tempNum = i\n",
    "    even = 0\n",
    "    notEven = 0\n",
    "    \n",
    "    for d in range (0,3):\n",
    "        digit = tempNum % 10 #Gibt mir die letzte Ziffer\n",
    "        tempNum = tempNum // 10 #schneidet die letzte Ziffer ab\n",
    "        \n",
    "        if(checkIfEven(digit)):\n",
    "            even = even +1\n",
    "        else:\n",
    "            notEven = notEven +1\n",
    "            \n",
    "        if(even == 3 or notEven == 3):\n",
    "            z.add(i)\n",
    "\n",
    "    even = 0\n",
    "    notEven = 0\n",
    "        \n",
    "len(z)"
   ]
  },
  {
   "cell_type": "code",
   "execution_count": 87,
   "metadata": {},
   "outputs": [
    {
     "data": {
      "text/plain": [
       "740"
      ]
     },
     "execution_count": 87,
     "metadata": {},
     "output_type": "execute_result"
    }
   ],
   "source": [
    "'''\n",
    "#82\n",
    "\n",
    "Wie viele dreistellige natürliche Zahlen, die mindestens eine der drei folgenden Bedingungen erfüllen, gibt es?\n",
    "\n",
    "(i) Die erste Ziffer ist ungerade.\n",
    "(ii) Die Zahl ist durch 2 teilbar.\n",
    "(iii) Die Zahl ist durch 5 teilbar.\n",
    "\n",
    "Erlaubt sind also z.B. die Zahlen 103, 452 und 425, aber auch 152 oder 300. Nicht erlaubt sind etwa\n",
    "42 (nicht dreistellig) oder 421.\n",
    "\n",
    "'''\n",
    "\n",
    "A = set()\n",
    "\n",
    "for z in range(100,1000):\n",
    "    \n",
    "    \n",
    "    firstDigit = z//100 #Bedingung 1\n",
    "    if (firstDigit % 2 != 0):\n",
    "        A.add(z)\n",
    "    \n",
    "    if (z%2 == 0): \n",
    "        A.add(z)\n",
    "        \n",
    "    if (z%5 == 0):\n",
    "        A.add(z)\n",
    "        \n",
    "len(A)"
   ]
  },
  {
   "cell_type": "code",
   "execution_count": 92,
   "metadata": {},
   "outputs": [
    {
     "data": {
      "text/plain": [
       "1352"
      ]
     },
     "execution_count": 92,
     "metadata": {},
     "output_type": "execute_result"
    }
   ],
   "source": [
    "'''\n",
    "#83\n",
    "\n",
    "Wie viele verschiedene Zeichenketten der Länge 4, die mindestens eine der folgenden Bedingungen erfüllen, \n",
    "kann man aus den 8 Buchstaben A bis H konstruieren?\n",
    "\n",
    "(i) Der erste Buchstabe ist A.\n",
    "(ii) Der zweite Buchstabe ist B.\n",
    "(iii) Der dritte Buchstabe ist C.\n",
    "\n",
    "Erlaubt sind also z.B. die Zeichenketten ADBH oder DBDH, aber auch AHCC oder ABCA.\n",
    "'''\n",
    "\n",
    "options = ['A', 'B', 'C', 'D', 'E', 'F', 'G', 'H']\n",
    "\n",
    "# Gibt uns alle möglichen Kombinationen für Zeichenketten der Länge 4\n",
    "allCombinations = set()\n",
    "string = \"\"\n",
    "for pos1 in options:\n",
    "    for pos2 in options:\n",
    "        for pos3 in options:\n",
    "            for pos4 in options:\n",
    "                string = pos1+pos2+pos3+pos4\n",
    "                allCombinations.add(string)\n",
    "                \n",
    "           \n",
    "A = set()     \n",
    "for element in allCombinations:\n",
    "    if(element[0] == \"A\"):\n",
    "        A.add(element)\n",
    "    \n",
    "    if(element[1] == \"B\"):\n",
    "        A.add(element)\n",
    "        \n",
    "    if(element[2] == \"C\"):\n",
    "        A.add(element)\n",
    "        \n",
    "len(A)"
   ]
  },
  {
   "cell_type": "code",
   "execution_count": 93,
   "metadata": {},
   "outputs": [
    {
     "data": {
      "text/plain": [
       "1152"
      ]
     },
     "execution_count": 93,
     "metadata": {},
     "output_type": "execute_result"
    }
   ],
   "source": [
    "'''\n",
    "#84\n",
    "\n",
    "Wie viele verschiedene Zeichenketten der Länge 4, die mindestens eine der folgenden Bedingungen erfüllen, \n",
    "kann man aus den 6 Buchstaben A bis F konstruieren?\n",
    "\n",
    "(i) Der erste Buchstabe ist A.\n",
    "(ii) Der zweite Buchstabe ist B.\n",
    "(iii) Die ersten beiden Buchstaben sind unterschiedlich.\n",
    "'''\n",
    "\n",
    "options = ['A', 'B', 'C', 'D', 'E', 'F']\n",
    "\n",
    "# Gibt uns alle möglichen Kombinationen für Zeichenketten der Länge 4\n",
    "allCombinations = set()\n",
    "string = \"\"\n",
    "for pos1 in options:\n",
    "    for pos2 in options:\n",
    "        for pos3 in options:\n",
    "            for pos4 in options:\n",
    "                string = pos1+pos2+pos3+pos4\n",
    "                allCombinations.add(string)\n",
    "                \n",
    "           \n",
    "A = set()     \n",
    "for element in allCombinations:\n",
    "    if(element[0] == \"A\"):\n",
    "        A.add(element)\n",
    "    \n",
    "    if(element[1] == \"B\"):\n",
    "        A.add(element)\n",
    "        \n",
    "    if(element[0] != element[1]):\n",
    "        A.add(element)\n",
    "        \n",
    "len(A)"
   ]
  },
  {
   "cell_type": "code",
   "execution_count": 96,
   "metadata": {},
   "outputs": [
    {
     "data": {
      "text/plain": [
       "1352"
      ]
     },
     "execution_count": 96,
     "metadata": {},
     "output_type": "execute_result"
    }
   ],
   "source": [
    "'''\n",
    "#85\n",
    "\n",
    "Wie viele verschiedene Zeichenketten der Länge 4, die mindestens eine der folgenden Bedingungen erfüllen, \n",
    "kann man aus den 8 Buchstaben A bis H konstruieren?\n",
    "\n",
    "(i) Der erste Buchstabe ist A.\n",
    "(ii) Der zweite Buchstabe ist B.\n",
    "(iii) Die letzten beiden Buchstaben sind gleich.\n",
    "'''\n",
    "\n",
    "options = ['A', 'B', 'C', 'D', 'E', 'F', 'G', 'H']\n",
    "\n",
    "# Gibt uns alle möglichen Kombinationen für Zeichenketten der Länge 4\n",
    "allCombinations = set()\n",
    "string = \"\"\n",
    "for pos1 in options:\n",
    "    for pos2 in options:\n",
    "        for pos3 in options:\n",
    "            for pos4 in options:\n",
    "                string = pos1+pos2+pos3+pos4\n",
    "                allCombinations.add(string)\n",
    "                \n",
    "           \n",
    "A = set()     \n",
    "for element in allCombinations:\n",
    "    if(element[0] == \"A\"):\n",
    "        A.add(element)\n",
    "    \n",
    "    if(element[1] == \"B\"):\n",
    "        A.add(element)\n",
    "        \n",
    "    if(element[2] == element[3]):\n",
    "        A.add(element)\n",
    "        \n",
    "len(A)"
   ]
  },
  {
   "cell_type": "code",
   "execution_count": 95,
   "metadata": {},
   "outputs": [
    {
     "data": {
      "text/plain": [
       "2149"
      ]
     },
     "execution_count": 95,
     "metadata": {},
     "output_type": "execute_result"
    }
   ],
   "source": [
    "'''\n",
    "#86\n",
    "\n",
    "Wie viele verschiedene Zeichenketten der Länge 4, die mindestens eine der folgenden Bedingungen erfüllen, \n",
    "kann man aus den 7 Buchstaben A bis G konstruieren?\n",
    "\n",
    "(i) Der erste Buchstabe ist A.\n",
    "(ii) Der zweite Buchstabe ist B.\n",
    "(iii) Die letzten beiden Buchstaben sind verschieden.\n",
    "'''\n",
    "\n",
    "options = ['A', 'B', 'C', 'D', 'E', 'F', 'G']\n",
    "\n",
    "# Gibt uns alle möglichen Kombinationen für Zeichenketten der Länge 4\n",
    "allCombinations = set()\n",
    "string = \"\"\n",
    "for pos1 in options:\n",
    "    for pos2 in options:\n",
    "        for pos3 in options:\n",
    "            for pos4 in options:\n",
    "                string = pos1+pos2+pos3+pos4\n",
    "                allCombinations.add(string)\n",
    "                \n",
    "           \n",
    "A = set()     \n",
    "for element in allCombinations:\n",
    "    if(element[0] == \"A\"):\n",
    "        A.add(element)\n",
    "    \n",
    "    if(element[1] == \"B\"):\n",
    "        A.add(element)\n",
    "        \n",
    "    if(element[2] != element[3]):\n",
    "        A.add(element)\n",
    "        \n",
    "len(A)"
   ]
  },
  {
   "cell_type": "code",
   "execution_count": 110,
   "metadata": {},
   "outputs": [
    {
     "data": {
      "text/plain": [
       "1257"
      ]
     },
     "execution_count": 110,
     "metadata": {},
     "output_type": "execute_result"
    }
   ],
   "source": [
    "'''\n",
    "#87\n",
    "\n",
    "Wie viele verschiedene Zeichenketten der Länge 4, die mindestens eine der folgenden Bedingungen erfüllen, \n",
    "kann man aus den 7 Buchstaben A bis G konstruieren?\n",
    "\n",
    "(i) Der erste Buchstabe ist A.\n",
    "(ii) Der zweite Buchstabe ist B.\n",
    "(iii) Alle Buchstaben sind verschieden.\n",
    "'''\n",
    "\n",
    "options = ['A', 'B', 'C', 'D', 'E', 'F', 'G']\n",
    "\n",
    "# Gibt uns alle möglichen Kombinationen für Zeichenketten der Länge 4\n",
    "allCombinations = set()\n",
    "string = \"\"\n",
    "for pos1 in options:\n",
    "    for pos2 in options:\n",
    "        for pos3 in options:\n",
    "            for pos4 in options:\n",
    "                string = pos1+pos2+pos3+pos4\n",
    "                allCombinations.add(string)\n",
    "                \n",
    "           \n",
    "A = set()     \n",
    "for element in allCombinations:\n",
    "    \n",
    "    if(element[0] == \"A\"):\n",
    "        A.add(element)\n",
    "    \n",
    "    if(element[1] == \"B\"):\n",
    "        A.add(element)\n",
    "    \n",
    "    unique = True\n",
    "    for o in options:\n",
    "        if(element.count(o) > 1):\n",
    "            unique = False\n",
    "            break\n",
    "    if(unique):\n",
    "        A.add(element)\n",
    "        \n",
    "len(A)"
   ]
  },
  {
   "cell_type": "code",
   "execution_count": 118,
   "metadata": {
    "scrolled": true
   },
   "outputs": [
    {
     "name": "stdout",
     "output_type": "stream",
     "text": [
      "1023\n"
     ]
    },
    {
     "data": {
      "image/png": "[encoded data removed]",
      "text/plain": [
       "<IPython.core.display.Image object>"
      ]
     },
     "execution_count": 118,
     "metadata": {},
     "output_type": "execute_result"
    }
   ],
   "source": [
    "'''\n",
    "#88\n",
    "Berechnen Sie die folgende Summe: \n",
    "'''\n",
    "\n",
    "from IPython.display import Image\n",
    "image = \"https://i.imgur.com/lx6Veth.png\"\n",
    "\n",
    "sum = 0\n",
    "for k in range(12,45):\n",
    "    sum = k+3 + sum\n",
    "    \n",
    "print(sum)\n",
    "Image(image)"
   ]
  },
  {
   "cell_type": "code",
   "execution_count": 119,
   "metadata": {},
   "outputs": [
    {
     "data": {
      "image/png": "[encoded data removed]",
      "text/plain": [
       "<IPython.core.display.Image object>"
      ]
     },
     "execution_count": 119,
     "metadata": {},
     "output_type": "execute_result"
    }
   ],
   "source": [
    "from IPython.display import Image\n",
    "image = \"https://i.imgur.com/TZ99ifE.png\"\n",
    "Image(image)"
   ]
  },
  {
   "cell_type": "code",
   "execution_count": 11,
   "metadata": {},
   "outputs": [
    {
     "name": "stdout",
     "output_type": "stream",
     "text": [
      "89:  20855\n",
      "#91:  5/42\n",
      "#92:  3/43\n"
     ]
    }
   ],
   "source": [
    "'''\n",
    "#89\n",
    "Berechnen Sie die folgende Summe: \n",
    "'''\n",
    "\n",
    "from fractions import Fraction\n",
    "\n",
    "sum = 0\n",
    "for k in range(30,456,5):\n",
    "    sum = sum+k\n",
    "    \n",
    "print(\"89: \", sum)\n",
    "\n",
    "#90 #ALARM keine ahnung...\n",
    "sum = 425546\n",
    "#siehe kiwans antwort :)\n",
    "\n",
    "#91 #ALARM nicht sicher...\n",
    "produkt = 1\n",
    "\n",
    "for k in range(5,42):\n",
    "    produkt = Fraction(k, k+1) * produkt\n",
    "\n",
    "print(\"#91: \", Fraction(produkt))\n",
    "\n",
    "#92\n",
    "\n",
    "produkt = 1\n",
    "\n",
    "for k in range(3,43):\n",
    "    #produkt = produkt * (k**2 / (k**2 + k))\n",
    "    produkt = produkt * (Fraction(k**2, k**2+k))\n",
    "    \n",
    "print(\"#92: \", produkt)"
   ]
  },
  {
   "cell_type": "code",
   "execution_count": 20,
   "metadata": {},
   "outputs": [
    {
     "name": "stdout",
     "output_type": "stream",
     "text": [
      "750 216 125 120 750\n"
     ]
    }
   ],
   "source": [
    "'''\n",
    "#93\n",
    "'''\n",
    "from math import factorial \n",
    "\n",
    "n = 3\n",
    "a = 5\n",
    "\n",
    "ergebnis = a * (a+a) * (a+a+a)\n",
    "\n",
    "a1 = factorial(n)**3\n",
    "b = a**n\n",
    "c = factorial(a)\n",
    "# ...\n",
    "d = factorial(n) * a**n\n",
    "\n",
    "print(ergebnis, a1, b, c, d)"
   ]
  },
  {
   "cell_type": "code",
   "execution_count": 22,
   "metadata": {},
   "outputs": [
    {
     "data": {
      "text/plain": [
       "'\\n\\nDAS IST FALSCH, weil auch sowas wie 662366 drin wäre:\\n\\noptions = [2,3,4,4,5,6]\\nallCombinations = set()\\n\\nfor p0 in options:\\n    for p1 in options:\\n        for p2 in options:\\n            for p3 in options:\\n                for p4 in options:\\n                    for p5 in options:\\n                        allCombinations.add((p0,p1,p2,p3,p4,p5))\\n\\nprint(len(allCombinations))\\n\\n\\nsiehe kiwans baum :))) \\n'"
      ]
     },
     "execution_count": 22,
     "metadata": {},
     "output_type": "execute_result"
    }
   ],
   "source": [
    "'''\n",
    "#94\n",
    "Durch Umsortieren der Ziffern kann man aus 234456 andere Zahlen machen, z.B. 423654 oder 564234.\n",
    "Wie viele verschiedene Zahlen (inklusive 234456) kann man auf diese Art erhalten?'''\n",
    "\n",
    "from math import *\n",
    "'''\n",
    "\n",
    "DAS IST FALSCH, weil auch sowas wie 662366 drin wäre:\n",
    "\n",
    "options = [2,3,4,4,5,6]\n",
    "allCombinations = set()\n",
    "\n",
    "for p0 in options:\n",
    "    for p1 in options:\n",
    "        for p2 in options:\n",
    "            for p3 in options:\n",
    "                for p4 in options:\n",
    "                    for p5 in options:\n",
    "                        allCombinations.add((p0,p1,p2,p3,p4,p5))\n",
    "\n",
    "print(len(allCombinations))\n",
    "\n",
    "\n",
    "siehe kiwans baum :))) \n",
    "'''\n",
    "\n"
   ]
  },
  {
   "cell_type": "code",
   "execution_count": 20,
   "metadata": {},
   "outputs": [
    {
     "name": "stdout",
     "output_type": "stream",
     "text": [
      "462 462\n"
     ]
    }
   ],
   "source": [
    "'''\n",
    "#95\n",
    "\n",
    "Wie viele verschiedene Zahlen gibt es, die man als Produkt von genau fünf (nicht notwendig verschiedenen) Primzahlen \n",
    "unter 18 darstellen kann? (Beispiele: 2**5 oder 2 * 3 * 5 * 7 * 17.)\n",
    "'''\n",
    "\n",
    "from sympy import prime\n",
    "\n",
    "options = [2, 3, 5, 7, 11, 13, 17] \n",
    "nums = set()\n",
    "\n",
    "# Pro Zahl gibt es folgende Möglichkeiten:    \n",
    "for c1 in options: # 5x die Zahl selbst\n",
    "    for c2 in options: # 4x die Zahl, 1x andere (6 Optionen)\n",
    "        for c3 in options: # 3x die Zahl, 2x andere (je 6 Optionen)\n",
    "            for c4 in options: # 2x die Zahl, 3x andere (je 6 Optionen)\n",
    "                for c5 in options:  # 1x die Zahl, 4x andere (je 6 Optionen)\n",
    "                    nums.add(c1*c2*c3*c4*c5)\n",
    "                    \n",
    "                    \n",
    "# Alternativ:\n",
    "# Kombinationen mit Wiederholung\n",
    "from itertools import combinations_with_replacement\n",
    "\n",
    "erg = list(combinations_with_replacement(options,5))\n",
    "                    \n",
    "print(len(nums), len(erg))        "
   ]
  },
  {
   "cell_type": "code",
   "execution_count": 36,
   "metadata": {},
   "outputs": [
    {
     "name": "stdout",
     "output_type": "stream",
     "text": [
      "329 329\n"
     ]
    }
   ],
   "source": [
    "'''\n",
    "#96\n",
    "\n",
    "Wie viele verschiedene Zahlen gibt es, die man als Produkt von vier oder weniger (nicht notwendig verschiedenen) Primzahlen \n",
    "unter 18 darstellen kann?\n",
    "'''\n",
    "\n",
    "from sympy import prime\n",
    "\n",
    "options = [2, 3, 5, 7, 11, 13, 17] \n",
    "primes =  [1, 2, 3, 5, 7, 11, 13, 17] # Wir nehmen eine 1 dazu, damit wir auch 1 * 2 oder 1 * 2 * 3 * 4 haben...\n",
    "\n",
    "nums = set()\n",
    "    \n",
    "for c1 in options: \n",
    "    nums.add(c1)\n",
    "    for c2 in options: \n",
    "        nums.add(c1*c2)\n",
    "        for c3 in options: \n",
    "            nums.add(c1*c2*c3)\n",
    "            for c4 in options:\n",
    "                nums.add(c1*c2*c3*c4)\n",
    "                                  \n",
    "# Alternativ:\n",
    "# Kombinationen mit Wiederholung\n",
    "from itertools import combinations_with_replacement\n",
    "\n",
    "ergL = list(combinations_with_replacement(primes,4)) \n",
    "\n",
    "#WICHTIG: am Ende 1 abziehen, weil man auch 1**5 in der Liste hat\n",
    "erg = len(ergL)-1\n",
    "\n",
    "print(len(nums), erg) "
   ]
  },
  {
   "cell_type": "code",
   "execution_count": 41,
   "metadata": {},
   "outputs": [
    {
     "data": {
      "text/plain": [
       "(322, 322)"
      ]
     },
     "execution_count": 41,
     "metadata": {},
     "output_type": "execute_result"
    }
   ],
   "source": [
    "'''\n",
    "#97\n",
    "\n",
    "Wie viele verschiedene Zahlen gibt es, die man als Produkt von zwei, drei oder vier (nicht notwendig verschiedenen) Primzahlen \n",
    "unter 18 darstellen kann? Beispiele: 2**4 oder 3**3 oder 2 * 3 * 5 * 17 oder 11 * 13.)\n",
    "'''\n",
    "\n",
    "options = [2, 3, 5, 7, 11, 13, 17] \n",
    "\n",
    "nums = set()\n",
    "    \n",
    "for c1 in options: \n",
    "    for c2 in options: \n",
    "        nums.add(c1*c2)\n",
    "        for c3 in options: \n",
    "            nums.add(c1*c2*c3)\n",
    "            for c4 in options:\n",
    "                nums.add(c1*c2*c3*c4)\n",
    "                \n",
    "                \n",
    "# Wichtig: Wir müssen -8 rechnen, weil 1*2 oder 1*11 nicht mit drin sein soll!\n",
    "primes =  [1, 2, 3, 5, 7, 11, 13, 17]\n",
    "erg = len(list(combinations_with_replacement(primes,4)))-8\n",
    "\n",
    "len(nums), erg                                 "
   ]
  },
  {
   "cell_type": "code",
   "execution_count": 28,
   "metadata": {},
   "outputs": [
    {
     "name": "stdout",
     "output_type": "stream",
     "text": [
      "Alle möglichen Teilmengen:  8192\n",
      "Ergebnis:  7936\n",
      "[5, 7, 11, 13, 17]\n"
     ]
    }
   ],
   "source": [
    "'''\n",
    "#98\n",
    "\n",
    "Wie viele Teilmengen von {5, 6, 7, 8, 9, 10, 11, 12, 13, 14, 15, 16, 17} gibt es, die mindestens eine Primzahl\n",
    "enthalten?\n",
    "'''\n",
    "from sympy import prime, isprime\n",
    "\n",
    "def getPowerSet(s):\n",
    "    power_set = {frozenset()}\n",
    "\n",
    "    for element in s:\n",
    "        one_element_set = frozenset({element})\n",
    "        power_set |= {subset | one_element_set for subset in power_set}\n",
    "\n",
    "    return power_set\n",
    "\n",
    "options = {5, 6, 7, 8, 9, 10, 11, 12, 13, 14, 15, 16, 17}\n",
    "teilmengen = getPowerSet(options) # Erstellt alle möglichen Teilmengen aus unserer Basis-Menge\n",
    "\n",
    "# Erstellt eine Liste aller Primnzahlen, die in options auftauchen\n",
    "primes = [] #[5, 7, 11, 13, 17]\n",
    "for i in options:\n",
    "    if(isprime(i)):\n",
    "        primes.append(i)\n",
    "\n",
    "\n",
    "ergebnis = set()\n",
    "for teilmenge in teilmengen:\n",
    "    for p in primes:\n",
    "        if p in teilmenge: # Wenn eine Primzahl in der Teilmenge enthalten ist, dann...\n",
    "            ergebnis.add(teilmenge) # ... füge Teilmenge zu ergebnis hinzu!\n",
    "   \n",
    "\n",
    "nichtPrimErg = teilmengen - ergebnis\n",
    "print(\"Alle möglichen Teilmengen: \", len(teilmengen))\n",
    "print(\"Ergebnis: \", len(ergebnis))\n",
    "#print(len(nichtPrimErg), nichtPrimErg)\n",
    "print(primes)"
   ]
  },
  {
   "cell_type": "code",
   "execution_count": 31,
   "metadata": {},
   "outputs": [
    {
     "data": {
      "text/plain": [
       "(4096, 256, 256)"
      ]
     },
     "execution_count": 31,
     "metadata": {},
     "output_type": "execute_result"
    }
   ],
   "source": [
    "'''\n",
    "#99 #ALARM wie mache ich das, kann kein powerset bilden, dauert zu lange...\n",
    "\n",
    "Sei A = {p E P : p < 40} und B = {n E N : n > 10}. Wie viele Mengen gibt es, die sowohl Teilmenge\n",
    "von A als auch Teilmenge von B sind? (Beispielsweise ist {19, 29, 31} so eine Menge.)\n",
    "\n",
    "'''\n",
    "\n",
    "from sympy import prime, isprime\n",
    "\n",
    "def getPowerSet(s):\n",
    "\n",
    "    power_set = {frozenset()}\n",
    "\n",
    "    for element in s:\n",
    "        one_element_set = frozenset({element})\n",
    "        power_set |= {subset | one_element_set for subset in power_set}\n",
    "\n",
    "    return power_set\n",
    "\n",
    "A = set()\n",
    "B = set()\n",
    "\n",
    "for i in range(1,13):\n",
    "    A.add(prime(i))\n",
    "\n",
    "for i in range(11,40):\n",
    "    if(isprime(i)): # Wir fügen nur die Zahlen hinzu, die prim sind, denn alle anderen sind irrelevant für unser Ergebnis\n",
    "        B.add(i)\n",
    "\n",
    "A_P = getPowerSet(A)\n",
    "B_P = getPowerSet(B)\n",
    "\n",
    "ergebnis = set()\n",
    "\n",
    "len(A_P), len(B_P), len(A_P&B_P)"
   ]
  },
  {
   "cell_type": "code",
   "execution_count": 42,
   "metadata": {},
   "outputs": [
    {
     "name": "stdout",
     "output_type": "stream",
     "text": [
      "Ergebnis:  65519\n"
     ]
    }
   ],
   "source": [
    "'''\n",
    "#100\n",
    "\n",
    "Wieviele Teilmengen von N gibt es, die höchstens 14 Elemente enthalten und deren größtes Element kleiner als 16 ist?\n",
    "'''\n",
    "\n",
    "from sympy import prime, isprime\n",
    "\n",
    "def getPowerSet(s):\n",
    "\n",
    "    power_set = {frozenset()}\n",
    "\n",
    "    for element in s:\n",
    "        one_element_set = frozenset({element})\n",
    "        power_set |= {subset | one_element_set for subset in power_set}\n",
    "\n",
    "    return power_set\n",
    "\n",
    "options = set()\n",
    "\n",
    "for i in range(0,16):\n",
    "    options.add(i)\n",
    "    \n",
    "alleTeilmengen = getPowerSet(options)\n",
    "ergebnis = set()\n",
    "\n",
    "for teilmenge in alleTeilmengen:\n",
    "    if (len(teilmenge) <= 14):\n",
    "        ergebnis.add(teilmenge)\n",
    "\n",
    "print(\"Ergebnis: \", len(ergebnis))"
   ]
  },
  {
   "cell_type": "code",
   "execution_count": 58,
   "metadata": {},
   "outputs": [
    {
     "name": "stdout",
     "output_type": "stream",
     "text": [
      "Ergebnis:  4536\n"
     ]
    }
   ],
   "source": [
    "'''\n",
    "#101\n",
    "\n",
    "Wie viele natürliche Zahlen gibt es, die kleiner als 10 000 sind und in deren Dezimaldarstellung vier\n",
    "verschiedene Ziffern vorkommen? (Führende Nullen gelten nicht als Ziffern, also wäre 0421 nicht so\n",
    "eine Zahl.)\n",
    "'''\n",
    "\n",
    "nums = set()\n",
    "A = set()\n",
    "\n",
    "for i in range(1000,10000):\n",
    "    nums.add(str(i))\n",
    "    \n",
    "   \n",
    "for num in nums:\n",
    "    singleDigitCounter = 0\n",
    "    for i in range(0,10): #WICHTIG! bis 10, sonst gehts halt nur bis 0-8\n",
    "        if (num.count(str(i)) == 1):\n",
    "            singleDigitCounter += 1\n",
    "    if(singleDigitCounter == 4):\n",
    "        A.add(num)\n",
    "\n",
    "print(\"Ergebnis: \", len(A))"
   ]
  },
  {
   "cell_type": "code",
   "execution_count": 60,
   "metadata": {},
   "outputs": [
    {
     "data": {
      "text/plain": [
       "1470"
      ]
     },
     "execution_count": 60,
     "metadata": {},
     "output_type": "execute_result"
    }
   ],
   "source": [
    "'''\n",
    "#102\n",
    "\n",
    "Wie viele natürliche Zahlen gibt es, die kleiner als 4.096 sind und in deren Oktaldarstellung vier\n",
    "verschiedene Ziffern vorkommen? \n",
    "\n",
    "Führende Nullen gelten nicht als Ziffern, also wäre 0421 zur Basis 8 nicht so eine Zahl.\n",
    "'''\n",
    "\n",
    "baseNums = set()\n",
    "\n",
    "for i in range (500, 4096):\n",
    "    baseNums.add(i)\n",
    "    \n",
    "A = set()\n",
    "\n",
    "\n",
    "for num in baseNums:\n",
    "    octal = oct(num)[2:] # Schneidet das komische 0o ab...\n",
    "    singleDigitCounter = 0\n",
    "    for i in range(0,8): #jungeeee :( mach mal range richtig!!! nicht 0,7\n",
    "        if(octal.count(str(i)) == 1):\n",
    "            singleDigitCounter += 1\n",
    "    \n",
    "    if(singleDigitCounter == 4):\n",
    "           A.add(octal) # oder A.add(num)\n",
    "\n",
    "len(A)"
   ]
  },
  {
   "cell_type": "code",
   "execution_count": 62,
   "metadata": {},
   "outputs": [
    {
     "data": {
      "image/png": "[encoded data removed]",
      "text/plain": [
       "<IPython.core.display.Image object>"
      ]
     },
     "execution_count": 62,
     "metadata": {},
     "output_type": "execute_result"
    }
   ],
   "source": [
    "'''\n",
    "#103\n",
    "Wie viele ganze Zahlen zwischen 64 und 128 gibt es, deren Binärdarstellung ein Palindrom ist?\n",
    "\n",
    "... Zwischen .... Also 65-127?\n",
    "\n",
    "'''\n",
    "\n",
    "baseNums = set()\n",
    "A = set()\n",
    "\n",
    "for i in range(64, 129): # also .......................... range ganz dick auf den spicker notieren\n",
    "    baseNums.add(i)\n",
    "    \n",
    "for num in baseNums:\n",
    "    binary = bin(num)[2:] # Schneidet 0b ab\n",
    "    maxRange = (len(binary) // 2)\n",
    "    \n",
    "    #print(num, binary)\n",
    "    valid = True\n",
    "    \n",
    "    for i in range(0,maxRange):\n",
    "        digitFromFront = binary[i]\n",
    "        digitFromBack = binary[len(binary)-1-i]\n",
    "        \n",
    "        #print(digitFromFront, digitFromBack)\n",
    "        \n",
    "        if not(digitFromFront == digitFromBack):\n",
    "            valid = False\n",
    "            break\n",
    "            \n",
    "    if(valid):\n",
    "        A.add((num, binary))\n",
    "\n",
    "A, len(A)\n",
    "\n",
    "from IPython.display import Image\n",
    "image = 'https://i.imgur.com/dvPoNMZ.png'\n",
    "Image(image)"
   ]
  },
  {
   "cell_type": "code",
   "execution_count": 66,
   "metadata": {},
   "outputs": [
    {
     "data": {
      "text/plain": [
       "50388"
      ]
     },
     "execution_count": 66,
     "metadata": {},
     "output_type": "execute_result"
    }
   ],
   "source": [
    "'''\n",
    "#104\n",
    "'''\n",
    "\n",
    "from sympy import binomial \n",
    "\n",
    "n = 19\n",
    "k = 12\n",
    "#weil (2 + x)**11 vorgegeben ist, ist b die zahl in dem Term, also 2\n",
    "b = 1\n",
    "\n",
    "b**(n-k)*binomial(n, k)\n",
    "\n"
   ]
  },
  {
   "cell_type": "code",
   "execution_count": 65,
   "metadata": {},
   "outputs": [
    {
     "data": {
      "text/plain": [
       "1320"
      ]
     },
     "execution_count": 65,
     "metadata": {},
     "output_type": "execute_result"
    }
   ],
   "source": []
  },
  {
   "cell_type": "code",
   "execution_count": 69,
   "metadata": {},
   "outputs": [
    {
     "data": {
      "text/plain": [
       "'Peter'"
      ]
     },
     "execution_count": 69,
     "metadata": {},
     "output_type": "execute_result"
    }
   ],
   "source": [
    "string = \"123Peter\"\n",
    "\n",
    "peter = string[3:]\n",
    "\n",
    "peter"
   ]
  },
  {
   "cell_type": "code",
   "execution_count": 9,
   "metadata": {},
   "outputs": [
    {
     "data": {
      "text/plain": [
       "Fraction(37, 55)"
      ]
     },
     "execution_count": 9,
     "metadata": {},
     "output_type": "execute_result"
    }
   ],
   "source": [
    "from fractions import Fraction\n",
    "\n",
    "Fraction(0.6727272727272727272727272727272727272727272727272).limit_denominator()"
   ]
  },
  {
   "cell_type": "code",
   "execution_count": null,
   "metadata": {},
   "outputs": [],
   "source": []
  }
 ],
 "metadata": {
  "kernelspec": {
   "display_name": "Python 3",
   "language": "python",
   "name": "python3"
  },
  "language_info": {
   "codemirror_mode": {
    "name": "ipython",
    "version": 3
   },
   "file_extension": ".py",
   "mimetype": "text/x-python",
   "name": "python",
   "nbconvert_exporter": "python",
   "pygments_lexer": "ipython3",
   "version": "3.6.5"
  }
 },
 "nbformat": 4,
 "nbformat_minor": 2
}
