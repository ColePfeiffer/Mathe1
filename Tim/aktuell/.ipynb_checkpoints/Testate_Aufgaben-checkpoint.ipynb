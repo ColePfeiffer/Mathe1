{
 "cells": [
  {
   "cell_type": "code",
   "execution_count": 15,
   "metadata": {},
   "outputs": [
    {
     "name": "stdout",
     "output_type": "stream",
     "text": [
      "Aufgabe 1: 289\n",
      "Aufgabe 2:  2\n",
      "9\n"
     ]
    }
   ],
   "source": [
    "#WS 01:\n",
    "#Aufgabe 01\n",
    "zCounter = 0\n",
    "summe = 0\n",
    "for i in range(1,50):\n",
    "    if (i%2 != 0 and zCounter < 17):\n",
    "        zCounter += 1\n",
    "        summe += i\n",
    "\n",
    "print(\"Aufgabe 1:\", summe)\n",
    "# Alternativ: 17*17 oder 17**2 (gilt nur für ungerade Zahlen)\n",
    "\n",
    "#Aufgabe 02\n",
    "ergebnis = (2+3+4+5)%4\n",
    "print(\"Aufgabe 2: \", ergebnis)\n",
    "\n",
    "#Aufgabe 03: Berechnen Sie das inverse Element (bzgl. der Addition) von 4 in Z=13Z.\n",
    "\n",
    "for i in range(0,13):\n",
    "    if (4+i)%13==0:\n",
    "        print(i)\n",
    "\n"
   ]
  },
  {
   "cell_type": "code",
   "execution_count": 24,
   "metadata": {},
   "outputs": [
    {
     "name": "stdout",
     "output_type": "stream",
     "text": [
      "Aufgabe 1:  5525\n",
      "Aufgabe 2:  654729075\n",
      "Aufgabe 3:  0\n"
     ]
    }
   ],
   "source": [
    "#SS Testat 01:\n",
    "# Aufgabe 01: Berechnen Sie die Summe der ersten 25 Quadratzahlen und geben Sie das Ergebnis an\n",
    "\n",
    "summe = 0\n",
    "for i in range(1,26):\n",
    "    summe = summe + i*i\n",
    "    \n",
    "print(\"Aufgabe 1: \", summe)\n",
    "# Alternativ: print((25*26*51)//6)\n",
    "\n",
    "# Aufgabe 02: Berechnen Sie das Produkt der ersten 10 ungeraden Zahlen und geben Sie das Ergebnis an\n",
    "\n",
    "produkt = 1 # Wichtig! Produkt muss am Anfang auf 1 stehen\n",
    "for i in range (1,20,2): #Anfang, Ende, Steps\n",
    "    produkt = produkt * i\n",
    "\n",
    "print(\"Aufgabe 2: \", produkt)\n",
    "\n",
    "# Aufgabe 03:\n",
    "print(\"Aufgabe 3: \",(7*7+10*7)%17)"
   ]
  },
  {
   "cell_type": "code",
   "execution_count": 25,
   "metadata": {},
   "outputs": [
    {
     "name": "stdout",
     "output_type": "stream",
     "text": [
      "Aufgabe 01:  518400\n"
     ]
    }
   ],
   "source": [
    "# Testat SS_01 B\n",
    "\n",
    "#Aufgabe 01: Berechen Sie das Produkt aus den ersten 6 Quadratzahlen und geben Sie das Ergebnis\n",
    "\n",
    "produkt = 1\n",
    "for i in range(1,7):\n",
    "    produkt = produkt * (i*i) #Alternativ produkt * (i**2)\n",
    "    \n",
    "print(\"Aufgabe 01: \", produkt)"
   ]
  },
  {
   "cell_type": "code",
   "execution_count": 4,
   "metadata": {},
   "outputs": [
    {
     "name": "stdout",
     "output_type": "stream",
     "text": [
      "Aufgabe 1:  1\n",
      "Aufgabe 2:  17\n",
      "Aufgabe 3: 27-140 = -113\n",
      "Aufgabe 4: 3\n",
      "Z13 ist im Prinzip dasselbe wie Z/Z13, aber die abkürzende Schreibweise Z13 verwendet man ausschließlich bei Primzahlen.\n",
      "Das heißt, wenn Z13 nullteilerfrei ist, dann ist auch Z/Z13 nullteilerfrei.\n",
      "\n",
      "Allgemein gilt: Ein Restklassenring natürlicher Zahlen ist immer dann nullteilerfrei, wenn er eine Primzahl ist.\n"
     ]
    }
   ],
   "source": [
    "# Testat SS_02 A\n",
    "\n",
    "import math\n",
    "\n",
    "print(\"Aufgabe 1: \", math.gcd(25789,(math.gcd(241,3356))))\n",
    "\n",
    "# Aufgabe 02\n",
    "\n",
    "def quotientBerechnen(z,n,moduloZ): #4,5,7\n",
    "    for aktuelleZahl in range(0,moduloZ):\n",
    "        if ((n * aktuelleZahl)%moduloZ == z):\n",
    "            #print(n, \" * (\", aktuelleZahl, \") in Z\",moduloZ, \" = \",z);\n",
    "            #print(\"Gesuchte Zahl: \", aktuelleZahl)\n",
    "            return aktuelleZahl\n",
    "\n",
    "print(\"Aufgabe 2: \", quotientBerechnen(4,7,23))\n",
    "\n",
    "# Aufgabe 03\n",
    "\n",
    "from sympy.ntheory.modular import crt\n",
    "import math\n",
    "\n",
    "crt([5,4,7],[2,3,6]) #Erst Modulo, dann andere Ziffern\n",
    "# Ergebnis: Kleinste positive Zahl, Zweite Zahl zum Berechnen des größten negativen Teilers\n",
    "\n",
    "print(\"Aufgabe 3: 27-140 =\",27-140)\n",
    "\n",
    "#Aufgabe 04\n",
    "def negZahl(negativeZahl, mod):\n",
    "    while(negativeZahl < 0):\n",
    "        negativeZahl = negativeZahl + mod\n",
    "    \n",
    "    return negativeZahl\n",
    "    \n",
    "print(\"Aufgabe 4:\", negZahl(-17,4))\n",
    "print(\"Z13 ist im Prinzip dasselbe wie Z/Z13, aber die abkürzende Schreibweise Z13 verwendet man ausschließlich bei Primzahlen.\\n\"\n",
    "      +\"Das heißt, wenn Z13 nullteilerfrei ist, dann ist auch Z/Z13 nullteilerfrei.\")\n",
    "\n",
    "print(\"\\nAllgemein gilt: Ein Restklassenring natürlicher Zahlen ist immer dann nullteilerfrei, wenn er eine Primzahl ist.\")"
   ]
  },
  {
   "cell_type": "code",
   "execution_count": 5,
   "metadata": {},
   "outputs": [
    {
     "name": "stdout",
     "output_type": "stream",
     "text": [
      "Aufgabe 1:  1\n",
      "Aufgabe 2:  6\n",
      "Aufgabe 3: 27-140 = -113\n",
      "Aufgabe 4: 3\n",
      "Z13 ist im Prinzip dasselbe wie Z/Z13, aber die abkürzende Schreibweise Z13 verwendet man ausschließlich bei Primzahlen.\n",
      "Das heißt, wenn Z13 nullteilerfrei ist, dann ist auch Z/Z13 nullteilerfrei.\n",
      "\n",
      "Allgemein gilt: Ein Restklassenring natürlicher Zahlen ist immer dann nullteilerfrei, wenn er eine Primzahl ist.\n"
     ]
    }
   ],
   "source": [
    "# Testat SS_02 B\n",
    "\n",
    "import math\n",
    "\n",
    "print(\"Aufgabe 1: \", math.gcd(25789,(math.gcd(241,3356))))\n",
    "\n",
    "# Aufgabe 02\n",
    "\n",
    "def quotientBerechnen(z,n,moduloZ): #4,5,7\n",
    "    for aktuelleZahl in range(0,moduloZ):\n",
    "        if ((n * aktuelleZahl)%moduloZ == z):\n",
    "            #print(n, \" * (\", aktuelleZahl, \") in Z\",moduloZ, \" = \",z);\n",
    "            #print(\"Gesuchte Zahl: \", aktuelleZahl)\n",
    "            return aktuelleZahl\n",
    "\n",
    "print(\"Aufgabe 2: \", quotientBerechnen(3,9,17))\n",
    "\n",
    "# Aufgabe 03\n",
    "\n",
    "from sympy.ntheory.modular import crt\n",
    "import math\n",
    "\n",
    "crt([5,4,7],[2,3,6]) #Erst Modulo, dann andere Ziffern\n",
    "# Ergebnis: Kleinste positive Zahl, Zweite Zahl zum Berechnen des größten negativen Teilers\n",
    "\n",
    "print(\"Aufgabe 3: 27-140 =\",27-140)\n",
    "\n",
    "#Aufgabe 04\n",
    "def negZahl(negativeZahl, mod):\n",
    "    while(negativeZahl < 0):\n",
    "        negativeZahl = negativeZahl + mod\n",
    "    \n",
    "    return negativeZahl\n",
    "    \n",
    "print(\"Aufgabe 4:\", negZahl(-17,4))\n",
    "print(\"Z13 ist im Prinzip dasselbe wie Z/Z13, aber die abkürzende Schreibweise Z13 verwendet man ausschließlich bei Primzahlen.\\n\"\n",
    "      +\"Das heißt, wenn Z13 nullteilerfrei ist, dann ist auch Z/Z13 nullteilerfrei.\")\n",
    "\n",
    "print(\"\\nAllgemein gilt: Ein Restklassenring natürlicher Zahlen ist immer dann nullteilerfrei, wenn er eine Primzahl ist.\")"
   ]
  },
  {
   "cell_type": "code",
   "execution_count": 68,
   "metadata": {},
   "outputs": [
    {
     "name": "stdout",
     "output_type": "stream",
     "text": [
      "1 : 3 5\n",
      "3 : 5 7\n",
      "4 : 11 13\n",
      "5 : 17 19\n",
      "6 : 41 43\n",
      "\n",
      "(3, 5)\n",
      "(5, 7)\n",
      "(11, 13)\n",
      "(17, 19)\n",
      "(29, 31)\n",
      "(41, 43)\n",
      "\n",
      "Aufgabe 3:  0.20833333333333334\n",
      "5/23 ist die richtige Lösung... einfach ablesbar!\n",
      "\n",
      "11111111111 False\n",
      "22222222222 False\n",
      "33333333333 False\n",
      "44444444444 False\n",
      "55555555555 False\n",
      "66666666666 False\n",
      "77777777777 False\n",
      "88888888888 False\n",
      "99999999999 False\n",
      "111111111110 False\n",
      "\n",
      "Eigentlich ist auf dem ersten Blick ersichtlich, dass alle Zahlen außer die 1111111 keine Primzahlen sein können... sie sind alle durch die jeweils letzte Ziffer teilbar. Lediglich die erste Zahl muss überprüft werden. Sie ist keine Primzahl.\n"
     ]
    }
   ],
   "source": [
    "# Testat SS_03 A\n",
    "\n",
    "from sympy import prevprime, sieve, isprime\n",
    "from fractions import Fraction\n",
    "from decimal import *\n",
    "\n",
    "# Zahl hinter dem Punkt ohne erste 0, Anzahl der Stellen\n",
    "Fraction(0b1111, 0b10000)\n",
    "\n",
    "\n",
    "# Variante A\n",
    "primzahlen = list(sieve.primerange(1, 60))\n",
    "primzahlen.reverse()\n",
    "\n",
    "index = 1\n",
    "counter = 1\n",
    "while (len(primzahlen) > 1):\n",
    "    firstP = primzahlen.pop()\n",
    "    secondP = primzahlen.pop()\n",
    "    \n",
    "    if(counter == 1):\n",
    "        print(\"1 : 3 5\")\n",
    "        counter = counter+1\n",
    "    \n",
    "    if(secondP == firstP+2):\n",
    "        counter = counter+1\n",
    "        print(counter, \":\", firstP, secondP)\n",
    "\n",
    "print()        \n",
    "# Variante B\n",
    "def nextPrimePair(n):\n",
    "    if n%2 == 0:\n",
    "        n += 1\n",
    "    while True:\n",
    "        if isprime(n) and isprime(n+2):\n",
    "            return n, n+2\n",
    "        n += 2\n",
    "        \n",
    "\n",
    "counter = 0\n",
    "twins = nextPrimePair(1)\n",
    "\n",
    "while (counter <= 5):\n",
    "    print(twins)\n",
    "    twins = nextPrimePair(twins[1])\n",
    "    counter = counter+1\n",
    "\n",
    "result = 1\n",
    "for k in range(5,24):\n",
    "    result = result * (k**2 / (k**2 +k))\n",
    "\n",
    "print()\n",
    "print(\"Aufgabe 3: \", result)\n",
    "print(\"5/23 ist die richtige Lösung... einfach ablesbar!\")\n",
    "print()\n",
    "\n",
    "t = 0\n",
    "for p in range (1,11):\n",
    "    t = p*11111111111\n",
    "    print(t, isprime(t))\n",
    "\n",
    "print()\n",
    "print(\"Eigentlich ist auf dem ersten Blick ersichtlich, dass alle Zahlen außer die 1111111 keine Primzahlen sein können... sie sind alle durch die jeweils letzte Ziffer teilbar. Lediglich die erste Zahl muss überprüft werden. Sie ist keine Primzahl.\")\n"
   ]
  },
  {
   "cell_type": "code",
   "execution_count": null,
   "metadata": {},
   "outputs": [],
   "source": []
  }
 ],
 "metadata": {
  "kernelspec": {
   "display_name": "Python 3",
   "language": "python",
   "name": "python3"
  },
  "language_info": {
   "codemirror_mode": {
    "name": "ipython",
    "version": 3
   },
   "file_extension": ".py",
   "mimetype": "text/x-python",
   "name": "python",
   "nbconvert_exporter": "python",
   "pygments_lexer": "ipython3",
   "version": "3.6.5"
  }
 },
 "nbformat": 4,
 "nbformat_minor": 2
}
