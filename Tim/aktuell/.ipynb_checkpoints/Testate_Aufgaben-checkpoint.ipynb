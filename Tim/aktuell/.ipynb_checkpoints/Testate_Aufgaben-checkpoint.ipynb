{
 "cells": [
  {
   "cell_type": "code",
   "execution_count": 12,
   "metadata": {},
   "outputs": [
    {
     "name": "stdout",
     "output_type": "stream",
     "text": [
      "Aufgabe 1: 289\n",
      "Aufgabe 2:  2\n"
     ]
    }
   ],
   "source": [
    "#WS 01:\n",
    "#Aufgabe 01\n",
    "zCounter = 0\n",
    "summe = 0\n",
    "for i in range(1,50):\n",
    "    if (i%2 != 0 and zCounter < 17):\n",
    "        zCounter += 1\n",
    "        summe += i\n",
    "\n",
    "print(\"Aufgabe 1:\", summe)\n",
    "# Alternativ: 17*17 oder 17**2 (gilt nur für ungerade Zahlen)\n",
    "\n",
    "#Aufgabe 02\n",
    "ergebnis = (2+3+4+5)%4\n",
    "print(\"Aufgabe 2: \", ergebnis)\n",
    "\n",
    "#Aufgabe 03: Berechnen Sie das inverse Element (bzgl. der Addition) von 4 in Z=13Z.\n",
    "\n"
   ]
  },
  {
   "cell_type": "code",
   "execution_count": null,
   "metadata": {},
   "outputs": [],
   "source": [
    "#"
   ]
  }
 ],
 "metadata": {
  "kernelspec": {
   "display_name": "Python 3",
   "language": "python",
   "name": "python3"
  },
  "language_info": {
   "codemirror_mode": {
    "name": "ipython",
    "version": 3
   },
   "file_extension": ".py",
   "mimetype": "text/x-python",
   "name": "python",
   "nbconvert_exporter": "python",
   "pygments_lexer": "ipython3",
   "version": "3.6.5"
  }
 },
 "nbformat": 4,
 "nbformat_minor": 2
}
