{
 "cells": [
  {
   "cell_type": "code",
   "execution_count": 8,
   "metadata": {},
   "outputs": [
    {
     "data": {
      "text/plain": [
       "5525"
      ]
     },
     "execution_count": 8,
     "metadata": {},
     "output_type": "execute_result"
    }
   ],
   "source": [
    "import math\n",
    "\n",
    "def p(txt):\n",
    "    print(txt)\n",
    "\n",
    "    \n",
    "'''\n",
    "#1 Berechnen Sie die Summe 1**2 + 2**2 + 3**2 + · · · + 25**2\n",
    "'''\n",
    "\n",
    "sum = 0\n",
    "\n",
    "for i in range(1,26):\n",
    "    sum = sum + i**2\n",
    "\n",
    "sum"
   ]
  },
  {
   "cell_type": "code",
   "execution_count": 17,
   "metadata": {},
   "outputs": [
    {
     "data": {
      "text/plain": [
       "(100, 10000)"
      ]
     },
     "execution_count": 17,
     "metadata": {},
     "output_type": "execute_result"
    }
   ],
   "source": [
    "'''\n",
    "#2 Geben Sie die Summe der ersten 100 ungeraden naturlichen Zahlen an.\n",
    "'''\n",
    "sum = 0\n",
    "counter = 0\n",
    "\n",
    "for i in range(1,200):\n",
    "    if not(i%2 == 0):\n",
    "        counter = counter +1\n",
    "        sum = sum + i\n",
    "\n",
    "counter, sum"
   ]
  },
  {
   "cell_type": "code",
   "execution_count": 18,
   "metadata": {},
   "outputs": [
    {
     "data": {
      "text/plain": [
       "'\\n#3 Größte Zahl erkennen...\\n\\n1. hat 16 Stellen... 16*1 = 16\\n2. hat 7 Stellen...  7*3  = 21\\n3. hat 5 Stellen...  5*4  = 20\\n\\nAlso ist die zweite Zahl die größte Zahl.\\n'"
      ]
     },
     "execution_count": 18,
     "metadata": {},
     "output_type": "execute_result"
    }
   ],
   "source": [
    "'''\n",
    "#3 Größte Zahl erkennen...\n",
    "\n",
    "1. hat 16 Stellen... 16*1 = 16\n",
    "2. hat 7 Stellen...  7*3  = 21\n",
    "3. hat 5 Stellen...  5*4  = 20\n",
    "\n",
    "Also ist die zweite Zahl die größte Zahl.\n",
    "'''"
   ]
  },
  {
   "cell_type": "code",
   "execution_count": 25,
   "metadata": {},
   "outputs": [
    {
     "data": {
      "text/plain": [
       "0"
      ]
     },
     "execution_count": 25,
     "metadata": {},
     "output_type": "execute_result"
    }
   ],
   "source": [
    "'''\n",
    "#4 Berechnen Sie in Z/17Z den Wert 7 · 7 + 10 · 7.\n",
    "'''\n",
    "\n",
    "test1 = 7*7+10*7 \n",
    "test1 = test1 % 17\n",
    "\n",
    "test1"
   ]
  },
  {
   "cell_type": "code",
   "execution_count": 27,
   "metadata": {},
   "outputs": [
    {
     "name": "stdout",
     "output_type": "stream",
     "text": [
      "0\n",
      "2\n",
      "4\n",
      "6\n"
     ]
    }
   ],
   "source": [
    "'''\n",
    "#5 Alle Lösungen ankreuzen... \n",
    "'''\n",
    "\n",
    "for x in range (0,8):\n",
    "    tempErgebnis = (x - 2) * (x - 4)\n",
    "    if (tempErgebnis % 8 == 0):\n",
    "        print(x)"
   ]
  },
  {
   "cell_type": "code",
   "execution_count": 36,
   "metadata": {},
   "outputs": [
    {
     "name": "stdout",
     "output_type": "stream",
     "text": [
      "10\n",
      "30\n",
      "50\n",
      "70\n",
      "90\n"
     ]
    },
    {
     "data": {
      "text/plain": [
       "5"
      ]
     },
     "execution_count": 36,
     "metadata": {},
     "output_type": "execute_result"
    }
   ],
   "source": [
    "'''\n",
    "#6 Wie viele verschiedene L¨osungen hat die Gleichung \n",
    "20x**2 + 25x + 50 = 0 in Z/100Z?\n",
    "'''\n",
    "\n",
    "counter = 0\n",
    "\n",
    "for x in range(0,100):\n",
    "    tempErgebnis = (20*x**2)+25*x+50\n",
    "    if (tempErgebnis%100 == 0):\n",
    "        counter += 1\n",
    "        print(x)\n",
    "        \n",
    "counter"
   ]
  },
  {
   "cell_type": "code",
   "execution_count": 40,
   "metadata": {},
   "outputs": [
    {
     "name": "stdout",
     "output_type": "stream",
     "text": [
      "0\n",
      "1\n",
      "15\n",
      "31\n",
      "49\n",
      "64\n",
      "65\n",
      "79\n",
      "81\n",
      "95\n",
      "96\n",
      "111\n",
      "129\n",
      "145\n",
      "159\n"
     ]
    },
    {
     "data": {
      "text/plain": [
       "15"
      ]
     },
     "execution_count": 40,
     "metadata": {},
     "output_type": "execute_result"
    }
   ],
   "source": [
    "'''\n",
    "#7 Für wie viele Elemente x von Z/160Z gilt x**3 = x?\n",
    "'''\n",
    "\n",
    "counter = 0\n",
    "\n",
    "for x in range(0,160):\n",
    "    if ((x**3)%160 == x):\n",
    "        print(x)\n",
    "        counter += 1\n",
    "        \n",
    "counter"
   ]
  },
  {
   "cell_type": "code",
   "execution_count": 3,
   "metadata": {
    "scrolled": false
   },
   "outputs": [
    {
     "data": {
      "text/plain": [
       "(173699988580574150503527111447092012958094272504905748027425059243621644655068680393953671507766272449955415623807786743823204768515573818694802001,\n",
       " 'Die letzten beiden Dezimalstellen sind 01')"
      ]
     },
     "execution_count": 3,
     "metadata": {},
     "output_type": "execute_result"
    }
   ],
   "source": [
    "'''\n",
    "#8 Sei a = 29 und b = 10**6. Die Zahl c = a**b hat deutlich mehr als eine Million Dezimalstellen.\n",
    "Was sind die letzten beiden Ziffern von c (also die beiden ganz rechts)?\n",
    "'''\n",
    "\n",
    "a = 29 #auch 3 möglich\n",
    "b = 10**2\n",
    "c = a**b\n",
    "\n",
    "c, \"Die letzten beiden Dezimalstellen sind 01\"\n",
    "\n",
    "#Alternativ:\n",
    "# Lösung:\n",
    "#\"{0:b}\".format(29**(10**6))\n",
    "# 01"
   ]
  },
  {
   "cell_type": "code",
   "execution_count": 1,
   "metadata": {},
   "outputs": [
    {
     "ename": "IndentationError",
     "evalue": "unexpected indent (<ipython-input-1-d8a6f1f06351>, line 10)",
     "output_type": "error",
     "traceback": [
      "\u001b[1;36m  File \u001b[1;32m\"<ipython-input-1-d8a6f1f06351>\"\u001b[1;36m, line \u001b[1;32m10\u001b[0m\n\u001b[1;33m    \"{0:b}\".format(10**14000)\u001b[0m\n\u001b[1;37m    ^\u001b[0m\n\u001b[1;31mIndentationError\u001b[0m\u001b[1;31m:\u001b[0m unexpected indent\n"
     ]
    }
   ],
   "source": [
    "'''\n",
    "#9 Binärdarstellung von 10**14000 ... Erste und letzte Bit\n",
    "'''\n",
    "\n",
    "print(bin(14), bin(14000))\n",
    "print(\"Wahrscheinlich fürs Erste 1, fürs Letzte 0... weil es gerade ist, muss hinten eine 0 stehen. Vorne immer eine 1 bei Binärzahlen.\")\n",
    "\n",
    "#Alternativ:\n",
    "# Lösung:\n",
    "# \"{0:b}\".format(10**14000)\n",
    "# MSB = 1 | LSB = 0"
   ]
  },
  {
   "cell_type": "code",
   "execution_count": 3,
   "metadata": {
    "scrolled": false
   },
   "outputs": [
    {
     "name": "stdout",
     "output_type": "stream",
     "text": [
      "Binärdarstellung von 46:             10 1110\n",
      "Erweitern auf 16-Bit:    0000 0000 0010 1110\n",
      "Invertieren:             1111 1111 1101 0001\n",
      "Addieren von 1:          1111 1111 1101 0010\n",
      "-0b1111111111010010\n"
     ]
    }
   ],
   "source": [
    "'''\n",
    "#10 Geben Sie die Binärdarstellung (Zweierkomplement) von −46 \n",
    "auf einem 16-Bit-Computer an.\n",
    "'''\n",
    "bin(46)\n",
    "print(\"Binärdarstellung von 46:             10 1110\")\n",
    "print(\"Erweitern auf 16-Bit:    0000 0000 0010 1110\")\n",
    "print(\"Invertieren:             1111 1111 1101 0001\")\n",
    "print(\"Addieren von 1:          1111 1111 1101 0010\")\n",
    "\n",
    "#Alternativ:\n",
    "print(bin((-46^65535)+1))"
   ]
  },
  {
   "cell_type": "code",
   "execution_count": 8,
   "metadata": {},
   "outputs": [
    {
     "data": {
      "text/plain": [
       "0"
      ]
     },
     "execution_count": 8,
     "metadata": {},
     "output_type": "execute_result"
    }
   ],
   "source": [
    "'''\n",
    "#11 Welchen Wert hat die Variable c...\n",
    "'''\n",
    "\n",
    "c = 0\n",
    "k =1\n",
    "# Die Range war auf 2**40 gesetzt. Es spielt aber keine Rolle, ob da 40 oder 2 steht\n",
    "# Ausschlaggebend fürs Ergebnis ist die 2 davor, die macht die Durchläufe\n",
    "# nämlich gerade...\n",
    "for n in range(2**2): \n",
    "    c += k\n",
    "    k *= -1\n",
    "\n",
    "c"
   ]
  },
  {
   "cell_type": "code",
   "execution_count": 14,
   "metadata": {},
   "outputs": [
    {
     "data": {
      "text/plain": [
       "40"
      ]
     },
     "execution_count": 14,
     "metadata": {},
     "output_type": "execute_result"
    }
   ],
   "source": [
    "'''\n",
    "#12 Welchen Wert hat die Variable c...\n",
    "'''\n",
    "\n",
    "c = 42\n",
    "k = 1\n",
    "# Die Range war auf 3**40 gesetzt. Es spielt aber keine Rolle, ob da 40 oder 2 steht\n",
    "# Ausschlaggebend fürs Ergebnis ist die 3 davor, die macht die Durchläufe\n",
    "# nämlich ungerade...\n",
    "for n in range(3**2): \n",
    "    k *= -1\n",
    "    c += 2*k\n",
    "\n",
    "c"
   ]
  },
  {
   "cell_type": "code",
   "execution_count": 21,
   "metadata": {},
   "outputs": [
    {
     "name": "stdout",
     "output_type": "stream",
     "text": [
      "-1\n"
     ]
    }
   ],
   "source": [
    "'''\n",
    "#13 Welchen Wert hat die Variable c...\n",
    "\n",
    "Siehe oben bzgl. Lösung.\n",
    "'''\n",
    "\n",
    "c = -1\n",
    "for n in range(5**2): #ursprünglich 5 ** 40\n",
    "    c += (n%5) -2\n",
    "    \n",
    "print(c)"
   ]
  },
  {
   "cell_type": "code",
   "execution_count": 25,
   "metadata": {},
   "outputs": [
    {
     "data": {
      "text/plain": [
       "0"
      ]
     },
     "execution_count": 25,
     "metadata": {},
     "output_type": "execute_result"
    }
   ],
   "source": [
    "'''\n",
    "#14 Welchen Wert hat die Variable c...\n",
    "\n",
    "Siehe oben bzgl. Lösung.\n",
    "'''\n",
    "\n",
    "c = 0\n",
    "k = 1\n",
    "for n in range(0, 3 ** 2): # in Aufgabe 3 ** 40\n",
    "    c += (k-1)\n",
    "    k = (k+1) % 3\n",
    "    \n",
    "c"
   ]
  },
  {
   "cell_type": "code",
   "execution_count": 28,
   "metadata": {},
   "outputs": [
    {
     "name": "stdout",
     "output_type": "stream",
     "text": [
      "7701 1\n",
      "7775 5\n",
      "7777 0\n",
      "Nur c ist durch 7 teilbar.\n"
     ]
    }
   ],
   "source": [
    "'''\n",
    "#15 Welche der Zahlen ist durch 7 teilbar?\n",
    "'''\n",
    "\n",
    "a = int('17025', 8)\n",
    "b = int('17137', 8)\n",
    "c = int('17141', 8)\n",
    "\n",
    "print(a, a%7)\n",
    "print(b, b%7)\n",
    "print(c, c%7)\n",
    "\n",
    "print(\"Nur c ist durch 7 teilbar.\")"
   ]
  },
  {
   "cell_type": "code",
   "execution_count": 4,
   "metadata": {},
   "outputs": [
    {
     "name": "stdout",
     "output_type": "stream",
     "text": [
      "0 0 ist durch jede Zahl teilbar.\n",
      "10**10**10 Es ist egal wieviele Nullen wir an die 10 hängen, sie wird nie durch 11 teilbar sein.\n",
      "10**13**13 Zunächst rechnen wir 13**13 und prüfen auf Teilbarkeit. Nicht durch 11 teilbar, also ist es egal wieviele Nullen wir anhängen.\n",
      "13**13**13+1 Wir prüfen, ob das vorherige Ergebnis + 1 durch 11 teilbar ist. Ist es nicht, also nein. Nullen ändern nichts.\n",
      "0 0\n",
      "10 10\n",
      "10 10\n",
      "11 0\n",
      "A und D sind durch 11 teilbar.\n",
      "False\n",
      "False\n"
     ]
    }
   ],
   "source": [
    "''' #16 Welche der Zahlen ist durch 11 teilbar? \n",
    "#ALARM bin mir nicht sicher\n",
    "'''\n",
    "print(\"0\",\"0 ist durch jede Zahl teilbar.\")\n",
    "print(\"10**10**10\", \"Es ist egal wieviele Nullen wir an die 10 hängen, sie wird nie durch 11 teilbar sein.\")\n",
    "print(\"10**13**13\", \"Zunächst rechnen wir 13**13 und prüfen auf Teilbarkeit. Nicht durch 11 teilbar, also ist es egal wieviele Nullen wir anhängen.\")\n",
    "print(\"13**13**13+1\",\"Wir prüfen, ob das vorherige Ergebnis + 1 durch 11 teilbar ist. Ist es nicht, also nein. Nullen ändern nichts.\")\n",
    "\n",
    "a = 10**5\n",
    "b = 12**13\n",
    "c = 10%3 ** 5%3\n",
    "d = 12%3 ** 13%3\n",
    "\n",
    "a%3, b%3, c,d\n",
    "\n",
    "a = 0\n",
    "b = 10%11 ** 10%11 ** 10%11\n",
    "c = 10%11 ** 13%11 ** 13%11\n",
    "d = 10%11 ** 13%11 ** 13%11 + 1\n",
    "\n",
    "print(a, a%11)\n",
    "print(b, b%11)\n",
    "print(c, c%11)\n",
    "print(d, d%11)\n",
    "print(\"A und D sind durch 11 teilbar.\")\n",
    "\n",
    "\n",
    "# Alternativ\n",
    "\n",
    "print(10**100 % 11 == 0)\n",
    "print(10**169 % 11 == 0)\n",
    "# ... usw"
   ]
  },
  {
   "cell_type": "code",
   "execution_count": 10,
   "metadata": {},
   "outputs": [
    {
     "data": {
      "text/plain": [
       "43"
      ]
     },
     "execution_count": 10,
     "metadata": {},
     "output_type": "execute_result"
    }
   ],
   "source": [
    "'''\n",
    "#17 Geben Sie den gr¨oßten gemeinsamen Teiler von \n",
    "471 694 074 821, \n",
    "471 766 128 373 \n",
    "und 471 757 130 107 an; also die gr¨oßte Zahl, die alle drei Zahlen teilt.\n",
    "'''\n",
    "\n",
    "a = 471694074821\n",
    "b = 471766128373 \n",
    "c = 471757130107\n",
    "\n",
    "math.gcd(a,(math.gcd(b,c)))"
   ]
  },
  {
   "cell_type": "code",
   "execution_count": 16,
   "metadata": {},
   "outputs": [
    {
     "name": "stdout",
     "output_type": "stream",
     "text": [
      "-25 41\n",
      "-14 23\n",
      "-3 5\n",
      "8 -13\n",
      "19 -31\n",
      "30 -49\n"
     ]
    }
   ],
   "source": [
    "'''\n",
    "#18 Der größte gemeinsame Teiler von 18 und 11 ist 1. \n",
    "Geben Sie ganze Zahlen a und b an, so dass\n",
    "1 = 18a + 11b gilt.\n",
    "'''\n",
    "\n",
    "for a in range(-50,50):\n",
    "    for b in range(-50,50):\n",
    "        if (18*a + 11*b == 1):\n",
    "            print(a,b)"
   ]
  },
  {
   "cell_type": "code",
   "execution_count": 19,
   "metadata": {},
   "outputs": [
    {
     "name": "stdout",
     "output_type": "stream",
     "text": [
      "3 9\n",
      "3 18\n",
      "6 9\n",
      "6 18\n",
      "9 3\n",
      "9 6\n",
      "9 9\n",
      "9 12\n",
      "9 15\n",
      "9 18\n",
      "9 21\n",
      "9 24\n",
      "12 9\n",
      "12 18\n",
      "15 9\n",
      "15 18\n",
      "18 3\n",
      "18 6\n",
      "18 9\n",
      "18 12\n",
      "18 15\n",
      "18 18\n",
      "18 21\n",
      "18 24\n",
      "21 9\n",
      "21 18\n",
      "24 9\n",
      "24 18\n",
      "... also zum Beispiel 3*9, 3*18, ...\n"
     ]
    }
   ],
   "source": [
    "'''\n",
    "#19 Geben Sie zwei Zahlen aus Z/27Z an, \n",
    "deren Produkt verschwindet, obwohl beide Zahlen nicht null sind.\n",
    "'''\n",
    "\n",
    "for i in range (1,27):\n",
    "    for j in range(1,27):\n",
    "        if ((i*j)%27 == 0):\n",
    "            print(i,j)\n",
    "\n",
    "print(\"... also zum Beispiel 3*9, 3*18, ...\")"
   ]
  },
  {
   "cell_type": "code",
   "execution_count": 2,
   "metadata": {},
   "outputs": [
    {
     "name": "stdout",
     "output_type": "stream",
     "text": [
      "9 * 13 in Z 23 = 2\n",
      "Gesuchte Zahl:  13\n"
     ]
    }
   ],
   "source": [
    "'''\n",
    "#20 Berechnen Sie den Quotienten 2/9 in Z23.\n",
    "'''\n",
    "\n",
    "def quotientBerechnen(z,n,moduloZ): #4,5,7\n",
    "    for aktuelleZahl in range(0,moduloZ):\n",
    "        if ((n * aktuelleZahl)%moduloZ == z):\n",
    "            print(n, \"*\", aktuelleZahl, \"in Z\",moduloZ, \"=\",z);\n",
    "            print(\"Gesuchte Zahl: \", aktuelleZahl)\n",
    "\n",
    "quotientBerechnen(2,9,23)"
   ]
  },
  {
   "cell_type": "code",
   "execution_count": 73,
   "metadata": {},
   "outputs": [
    {
     "name": "stdout",
     "output_type": "stream",
     "text": [
      "5 5\n",
      "7 7\n",
      "11 11\n",
      "13 13\n",
      "17 17\n",
      "19 19\n",
      "23 23\n"
     ]
    }
   ],
   "source": [
    "'''\n",
    "#21 Kehrwert finden in Z/24Z, aber nicht 1\n",
    "'''\n",
    "\n",
    "for a in range(0,24):\n",
    "    for b in range(0,24):\n",
    "        if (a*b)%24 == 1 and a is not 1 and b is not 1:\n",
    "            print(a,b)\n"
   ]
  },
  {
   "cell_type": "code",
   "execution_count": 7,
   "metadata": {},
   "outputs": [
    {
     "name": "stdout",
     "output_type": "stream",
     "text": [
      "9 * 10 in Z 11 = 2\n",
      "Gesuchte Zahl:  10\n"
     ]
    },
    {
     "data": {
      "text/plain": [
       "(1, 'Ergebnis: 1')"
      ]
     },
     "execution_count": 7,
     "metadata": {},
     "output_type": "execute_result"
    }
   ],
   "source": [
    "'''\n",
    "#22 Berechnen Sie den Wert\n",
    "2/9 ** 1000000 in Z11\n",
    "'''\n",
    "\n",
    "z = 2\n",
    "n = 9\n",
    "e = 1000000\n",
    "\n",
    "\n",
    "def quotientBerechnen(z,n,moduloZ): #4,5,7\n",
    "    for aktuelleZahl in range(0,moduloZ):\n",
    "        if ((n * aktuelleZahl)%moduloZ == z):\n",
    "            print(n, \"*\", aktuelleZahl, \"in Z\",moduloZ, \"=\",z);\n",
    "            print(\"Gesuchte Zahl: \", aktuelleZahl)\n",
    "            return aktuelleZahl\n",
    "\n",
    "zahl = quotientBerechnen(z,n,11)\n",
    "\n",
    "(zahl**e)%11, \"Ergebnis: 1\""
   ]
  },
  {
   "cell_type": "code",
   "execution_count": 10,
   "metadata": {},
   "outputs": [
    {
     "name": "stdout",
     "output_type": "stream",
     "text": [
      "1\n",
      "801\n",
      "Lösung:  2\n"
     ]
    }
   ],
   "source": [
    "'''\n",
    "#23 Wieviele Elemente von Z/80Z sind innerhalb der Mulitiplikation invers \n",
    "zu sich selbst?\n",
    "'''\n",
    "\n",
    "for i in range(0,802):\n",
    "    if((i*i)%802 == 1):\n",
    "        print(i)\n",
    "        \n",
    "        \n",
    "print(\"Lösung: \", 2)"
   ]
  },
  {
   "cell_type": "code",
   "execution_count": 16,
   "metadata": {},
   "outputs": [
    {
     "name": "stdout",
     "output_type": "stream",
     "text": [
      "{0, 1, 4, 7, 9, 10, 16, 18, 19, 25, 28, 31, 33, 36, 39, 40, 45, 49, 51, 63, 64, 66, 67, 69, 70, 72, 76, 78, 81, 82, 87, 90} 32\n"
     ]
    }
   ],
   "source": [
    "'''\n",
    "#24 \n",
    "\n",
    "Wie viele Elemente von Z/93Z lassen sich als Quadrat eines Elements \n",
    "von Z/93Z darstellen? [Beispiel: 51 ist das Quadrat von 12.\n",
    "\n",
    "Definition Quadratzahl ... Quadrat von 5 ist 5**2 == 25 \n",
    "\n",
    "Menge anstatt Counter oder Liste, da sonst Ergebnisse doppelt gezählt werden.\n",
    "\n",
    "'''\n",
    "\n",
    "counter = 0\n",
    "liste = set()\n",
    "\n",
    "for i in range(0,93):\n",
    "    temp = (i**2)%93\n",
    "    if(temp <= 92):\n",
    "        liste.add(temp)\n",
    "        counter += 1\n",
    "        \n",
    "print(liste, len(liste))"
   ]
  },
  {
   "cell_type": "code",
   "execution_count": 4,
   "metadata": {},
   "outputs": [
    {
     "name": "stdout",
     "output_type": "stream",
     "text": [
      "4200420042\n"
     ]
    }
   ],
   "source": [
    "''' #25 \n",
    "p= 2760727302517 ist eine Primzahl. Geben Sie den Kehrwert von 853662459626 in Zp an. (Hinweis: kleiner Satz von Fermat.)\n",
    "\n",
    "Ansatz: pow(a, p-2, p)\n",
    "\n",
    "Lösung: 4200420042\n",
    "\n",
    "'''\n",
    "\n",
    "a = 853662459626\n",
    "p = 2760727302517\n",
    "b = p - 2\n",
    "\n",
    "print(pow(a,p-2,p))"
   ]
  },
  {
   "cell_type": "code",
   "execution_count": 52,
   "metadata": {},
   "outputs": [
    {
     "name": "stdout",
     "output_type": "stream",
     "text": [
      "(27, 140)\n",
      "Größter negativer Teiler:  -113\n",
      "Positiver: 27\n"
     ]
    }
   ],
   "source": [
    "# 26 Kleinste positive Lösung\n",
    "\n",
    "from sympy.ntheory.modular import crt\n",
    "\n",
    "print(crt([5,4,7],[2,3,6]))\n",
    "print(\"Größter negativer Teiler: \", 27-140)\n",
    "print(\"Positiver: 27\")"
   ]
  },
  {
   "cell_type": "code",
   "execution_count": 53,
   "metadata": {},
   "outputs": [
    {
     "name": "stdout",
     "output_type": "stream",
     "text": [
      "(62, 84)\n",
      "Größter negativer Teiler:  -22\n",
      "Ergebnis: -22\n"
     ]
    }
   ],
   "source": [
    "# 27 Größte negative Lösung\n",
    "\n",
    "print(crt([3,4,7],[2,2,6]))\n",
    "print(\"Größter negativer Teiler: \", 62-84)\n",
    "print(\"Ergebnis: -22\")"
   ]
  },
  {
   "cell_type": "code",
   "execution_count": 54,
   "metadata": {},
   "outputs": [
    {
     "name": "stdout",
     "output_type": "stream",
     "text": [
      "(101, 252) 9\n",
      "(17, 84) 3\n",
      "None 6\n",
      "None 8\n",
      "(17, 140) 5\n"
     ]
    }
   ],
   "source": [
    "# 28 Kongruenzsystem ... Lösungen finden\n",
    "\n",
    "for a in [9,3,6,8,5]:\n",
    "    print(crt([4,a,7],[1,2,3]), a)"
   ]
  },
  {
   "cell_type": "code",
   "execution_count": 55,
   "metadata": {},
   "outputs": [
    {
     "data": {
      "text/plain": [
       "{3: 2, 11: 1, 101: 1}"
      ]
     },
     "execution_count": 55,
     "metadata": {},
     "output_type": "execute_result"
    }
   ],
   "source": [
    "# 29 Kanonische Primfaktorzerlegung von 9999\n",
    "\n",
    "from sympy import factorint\n",
    "\n",
    "factorint(9999)"
   ]
  },
  {
   "cell_type": "code",
   "execution_count": 57,
   "metadata": {},
   "outputs": [
    {
     "data": {
      "text/plain": [
       "181"
      ]
     },
     "execution_count": 57,
     "metadata": {},
     "output_type": "execute_result"
    }
   ],
   "source": [
    "# 30 Geben Sie die 42te Primzahl aus.\n",
    "\n",
    "from sympy import prime\n",
    "\n",
    "prime(42)"
   ]
  },
  {
   "cell_type": "code",
   "execution_count": 18,
   "metadata": {},
   "outputs": [
    {
     "name": "stdout",
     "output_type": "stream",
     "text": [
      "A kann nicht richtig sein, weil das Ergebnis durch jede Primzahl bis n teilbar wäre.\n",
      "B: Es kann eine Primzahl dabei herauskommen, muss aber nicht. Also falsch...\n",
      "C: Ja, das stimmt... Die 1 ist dafür verantwortlich.\n",
      "D ist wahr, siehe Antwort zu A...\n"
     ]
    }
   ],
   "source": [
    "# 31 \n",
    "\n",
    "print(\"A kann nicht richtig sein, weil das Ergebnis durch jede Primzahl bis n teilbar wäre.\")\n",
    "print(\"B: Es kann eine Primzahl dabei herauskommen, muss aber nicht. Also falsch...\")\n",
    "print(\"C: Ja, das stimmt... Die 1 ist dafür verantwortlich.\")\n",
    "print(\"D ist wahr, siehe Antwort zu A...\")"
   ]
  },
  {
   "cell_type": "code",
   "execution_count": 67,
   "metadata": {
    "scrolled": true
   },
   "outputs": [
    {
     "name": "stdout",
     "output_type": "stream",
     "text": [
      "Zwischenergebnis:  0.05761455\n",
      "0.125 0.05428681023790647 1e-08 18.420680743952367\n",
      "Ergebnis: b\n"
     ]
    }
   ],
   "source": [
    "# 32\n",
    "\n",
    "from sympy import primepi\n",
    "from math import log\n",
    "\n",
    "k = primepi(10**8)/10**8\n",
    "print(\"Zwischenergebnis: \", k)\n",
    "\n",
    "a = 1/8\n",
    "b = 1 / log(10**8)\n",
    "c = 10**-8\n",
    "d = log(10**8)\n",
    "\n",
    "print(a,b,c,d)\n",
    "print(\"Ergebnis: b\")\n"
   ]
  },
  {
   "cell_type": "code",
   "execution_count": 10,
   "metadata": {},
   "outputs": [
    {
     "name": "stdout",
     "output_type": "stream",
     "text": [
      "n:  100000000000000\n",
      "Ergebnis:  3102103442166.0845\n",
      "800000000000 3000000000000 7000000000000 20000000000000\n",
      "B ist richtig.\n"
     ]
    }
   ],
   "source": [
    "# 33 Anzahl der Primzahlen schätzen bis 10**14\n",
    "\n",
    "from math import log\n",
    "\n",
    "n = 10**14\n",
    "print(\"n: \", n)\n",
    "\n",
    "# Es gibt ungefähr n/ln(n) Primzahlen unterhalb von n\n",
    "\n",
    "print(\"Ergebnis: \", n/log(n))\n",
    "\n",
    "a = 8*10**11\n",
    "b = 3*10**12\n",
    "c = 7*10**12\n",
    "d = 2*10**13\n",
    "\n",
    "print(a,b,c,d)\n",
    "print(\"B ist richtig.\")"
   ]
  },
  {
   "cell_type": "code",
   "execution_count": 14,
   "metadata": {},
   "outputs": [
    {
     "name": "stdout",
     "output_type": "stream",
     "text": [
      "3223619130191664.0\n",
      "70000000000000\n",
      "300000000000000\n",
      "800000000000000\n",
      "3000000000000000\n"
     ]
    },
    {
     "data": {
      "text/plain": [
       "'\\nfrom math import log1p # äähhhhh.................. ist das wie log?\\nprint(10*14 * log1p(10*14)) #Primzahlsatz; log1p ist ln (nur log müsste auch reichen)\\n\\n'"
      ]
     },
     "execution_count": 14,
     "metadata": {},
     "output_type": "execute_result"
    }
   ],
   "source": [
    "# 34\n",
    "#Welche der  folgenden Zahlen liegt am dichtesten an der 10**14-ten Primzahl? (4 Antwortmöglichkeiten)\n",
    "\n",
    "from math import log\n",
    "\n",
    "n = 10**14\n",
    "print(n * log(n))\n",
    "\n",
    "# Prim ... \n",
    "# Hier jetzt noch die Dinger ausrechnen oder alternativ Stellen nach der 3 zählen ... 15 Stellen, also ist 3**15 am nähsten\n",
    "print(7 * 10**13) #1\n",
    "print(3 * 10**14) #2\n",
    "print(8 * 10**14) #3\n",
    "print(3 * 10**15) #4\n",
    "\n",
    "#4 ist richtig\n",
    "\n",
    "'''\n",
    "from math import log1p # äähhhhh.................. ist das wie log?\n",
    "print(10*14 * log1p(10*14)) #Primzahlsatz; log1p ist ln (nur log müsste auch reichen)\n",
    "\n",
    "'''\n",
    "\n"
   ]
  },
  {
   "cell_type": "code",
   "execution_count": 15,
   "metadata": {},
   "outputs": [
    {
     "name": "stdout",
     "output_type": "stream",
     "text": [
      "4.276909229288297e+38\n",
      "4.3e+38\n",
      "3.9e+40\n",
      "3.6e+42\n",
      "3.3e+44\n"
     ]
    }
   ],
   "source": [
    "# 35\n",
    "\n",
    "#Nr.35\n",
    "#Wie viele Elemente enthält die Menge {(p, q) : p, q € P  [0; 10**21 ]} ungefähr?\n",
    "from math import log1p\n",
    "print((10**21 / log1p(10**21))**2)\n",
    "\n",
    "print(4.3*10**38)\n",
    "print(3.9*10**40)\n",
    "print(3.6*10**42)\n",
    "print(3.3*10**44)\n",
    "#1. ist richtig"
   ]
  },
  {
   "cell_type": "code",
   "execution_count": 26,
   "metadata": {},
   "outputs": [
    {
     "name": "stdout",
     "output_type": "stream",
     "text": [
      "n1:  100000000000000000000 n2: 1000000000000000000000\n",
      "Ergebnis 1:  2.171472409516259e+18\n",
      "Ergebnis 2:  2.0680689614440563e+19\n",
      "Finales Ergebnis: 1.8509217204924305e+19\n",
      "a 1.9e+19 b 2.1e+19 c 2.2000000000000003e+18 d 1.8e+20\n",
      "A ist richtig.\n"
     ]
    }
   ],
   "source": [
    "# 36 Anzahl der Primzahlen bis 10**20 und 10**21, wieviele liegen dazwischen?\n",
    "\n",
    "from math import log\n",
    "\n",
    "n1 = 10**20\n",
    "n2 = 10**21\n",
    "print(\"n1: \", n1, \"n2:\", n2)\n",
    "\n",
    "e1 =  n1/log(n1)\n",
    "e2 =  n2/log(n2)\n",
    "\n",
    "ergebnis = e2 - e1\n",
    "print(\"Ergebnis 1: \", n1/log(n1))\n",
    "print(\"Ergebnis 2: \", n2/log(n2))\n",
    "\n",
    "print(\"Finales Ergebnis:\", ergebnis)\n",
    "\n",
    "a = 1.9*10**19\n",
    "b = 2.1*10**19\n",
    "c = 2.2*10**18\n",
    "d = 1.8*10**20\n",
    "\n",
    "'a {}, b {}, c {}, d {}'.format(a, b, c, d)\n",
    "\n",
    "print(\"a\", a, \"b\", b, \"c\", c, \"d\", d)\n",
    "print(\"A ist richtig.\")"
   ]
  },
  {
   "cell_type": "code",
   "execution_count": 33,
   "metadata": {},
   "outputs": [
    {
     "name": "stdout",
     "output_type": "stream",
     "text": [
      "2\n"
     ]
    }
   ],
   "source": [
    "#37\n",
    "# alle vierstellige Primzahlen bei denen eine Ziffer dreimal vorkommt\n",
    "\n",
    "from sympy import isprime\n",
    "\n",
    "liste = [0,1,2,3,4,5,6,7,8,9]\n",
    "\n",
    "for i in range (1000,100000):\n",
    "    if (isprime(i)):\n",
    "        numAsString = str(i)\n",
    "        print(numAsString)\n",
    "        \n",
    "        for j in liste:\n",
    "            if(numAsString.count(j) >= 3):\n",
    "                print(i)\n",
    "\n",
    "\n",
    "\n",
    "# geht irgendwie nicht, aber so vom ansatz her sollte das eigentlich stimmen :( dann noch zhur liste hinzufügen ... liste sollte set sein)\n",
    "# Antwort: 0"
   ]
  },
  {
   "cell_type": "code",
   "execution_count": 36,
   "metadata": {},
   "outputs": [
    {
     "name": "stdout",
     "output_type": "stream",
     "text": [
      "111111\n",
      "1111111\n"
     ]
    }
   ],
   "source": [
    "from sympy import isprime\n",
    "\n",
    "p = 111111\n",
    "for i in (111111,1111111):\n",
    "    if(isprime(i)):\n",
    "        print(i)\n",
    "    else:\n",
    "        print(i)\n",
    "    \n",
    "    i += p\n",
    "#0, geht so aber nicht"
   ]
  },
  {
   "cell_type": "code",
   "execution_count": 39,
   "metadata": {},
   "outputs": [
    {
     "name": "stdout",
     "output_type": "stream",
     "text": [
      "3 and 5 Paar Nr:  1\n",
      "5 and 7 Paar Nr:  2\n",
      "11 and 13 Paar Nr:  3\n",
      "17 and 19 Paar Nr:  4\n",
      "29 and 31 Paar Nr:  5\n",
      "41 and 43 Paar Nr:  6\n",
      "59 and 61 Paar Nr:  7\n",
      "71 and 73 Paar Nr:  8\n"
     ]
    }
   ],
   "source": [
    "#39\n",
    "\n",
    "from sympy import isprime\n",
    "\n",
    "def generate_twins(start, end):\n",
    "    counter = 0\n",
    "    for i in range(start, end):\n",
    "        j = i + 2\n",
    "        if(isprime(i) and isprime(j)):\n",
    "            counter = counter +1\n",
    "            print(\"{:d} and {:d}\".format(i, j), \"Paar Nr: \", counter)\n",
    "\n",
    "\n",
    "generate_twins(2, 100)"
   ]
  },
  {
   "cell_type": "code",
   "execution_count": 40,
   "metadata": {},
   "outputs": [
    {
     "ename": "NameError",
     "evalue": "name 'Fraction' is not defined",
     "output_type": "error",
     "traceback": [
      "\u001b[1;31m---------------------------------------------------------------------------\u001b[0m",
      "\u001b[1;31mNameError\u001b[0m                                 Traceback (most recent call last)",
      "\u001b[1;32m<ipython-input-40-ca8cc0be5b0b>\u001b[0m in \u001b[0;36m<module>\u001b[1;34m()\u001b[0m\n\u001b[0;32m     17\u001b[0m \u001b[1;36m1\u001b[0m\u001b[1;33m/\u001b[0m\u001b[1;36m2\u001b[0m\u001b[1;33m+\u001b[0m\u001b[1;36m1\u001b[0m\u001b[1;33m/\u001b[0m\u001b[1;36m8\u001b[0m\u001b[1;33m+\u001b[0m\u001b[1;36m1\u001b[0m\u001b[1;33m/\u001b[0m\u001b[1;36m16\u001b[0m\u001b[1;33m\u001b[0m\u001b[0m\n\u001b[0;32m     18\u001b[0m \u001b[1;33m\u001b[0m\u001b[0m\n\u001b[1;32m---> 19\u001b[1;33m \u001b[0mFraction\u001b[0m\u001b[1;33m(\u001b[0m\u001b[1;36m0.6875\u001b[0m\u001b[1;33m)\u001b[0m\u001b[1;33m\u001b[0m\u001b[0m\n\u001b[0m",
      "\u001b[1;31mNameError\u001b[0m: name 'Fraction' is not defined"
     ]
    }
   ],
   "source": [
    "'''\n",
    "#41\n",
    "\n",
    "Geben Sie die Binarzahl 0.1011 dezimal als Bruch an.\n",
    "\n",
    "0.1111\n",
    "\n",
    "0 = 0\n",
    "1 = 1/2\n",
    "1 = 1/4\n",
    "1 = 1/8\n",
    "1 = 1/16\n",
    "\n",
    "0.1011\n",
    "'''\n",
    "\n",
    "1/2+1/8+1/16\n",
    "\n",
    "Fraction(0.6875)"
   ]
  },
  {
   "cell_type": "code",
   "execution_count": 41,
   "metadata": {},
   "outputs": [
    {
     "name": "stdout",
     "output_type": "stream",
     "text": [
      "0.014285714285714285\n"
     ]
    }
   ],
   "source": [
    "#44 siehe Kiwans Aufgaben\n",
    "\n",
    "'''\n",
    "#42\n",
    "Kreuzen Sie die Zahlen an, die man dezimal mit endlich vielen Nachkommastellen darstellen kann:\n",
    "\n",
    "Bei Dezimalzahlen dürfen die Primfaktoren des Nenners nur 2 und 5 sein.\n",
    "\n",
    "[x] 1/8 -> 2*2*2*2\n",
    "[x] 2/5 -> 5 \n",
    "[x] 3/16 -> 2*2*2*2*2 \n",
    "[x] 21/28 -> Kürzen zu 3/4 -> 2*2\n",
    "[ ] 1/70 \n",
    "\n",
    "alternativ einfach ausgeben und gucken, ob ultra lang (dann irrational) oder halt normal lol\n",
    "\n",
    "'''\n",
    "\n",
    "from fractions import Fraction\n",
    "\n",
    "Fraction(21/28)\n",
    "print(1/70)\n",
    "\n"
   ]
  },
  {
   "cell_type": "code",
   "execution_count": 43,
   "metadata": {},
   "outputs": [],
   "source": [
    "#51\n",
    "'''\n",
    "# Ohne Hidden bit... also wird die erste Eins einmalig abgeschnitten... Danach folgt die ganze Periode, also samt 1... Also muss das Egebnis schon mal mit 10 beginnen und mit 0110 weitergehen...\n",
    "# heißt nur 2 und 3 können mögliche Antworten sein. Am Ende aufs Runden achten, da gerundet werden müsste und das nur bei 3 getan wird, ist 3 die richtige Antwort.\n",
    "'''\n"
   ]
  },
  {
   "cell_type": "code",
   "execution_count": null,
   "metadata": {},
   "outputs": [],
   "source": [
    "#53\n",
    "'''\n",
    "Welche der folgenden Zahlen lassen sich im IEEE-Format Double (64-Bit) exakt darstellen?\n",
    "\n",
    "[] PI\n",
    "[] 0.5\n",
    "[] 3.14\n",
    "[] 2**-42\n",
    "[] (2**53)-1\n",
    "[] (2**53)+1\n",
    "'''\n",
    "\n",
    "from fractions import Fraction\n",
    "\n",
    "maxRange = Fraction(2**53) #darstellbarer bereich in IEEE bzw Endbereich\n",
    "\n",
    "a = math.pi\n",
    "b = 0.5\n",
    "c = 3.14\n",
    "d = 2**-42\n",
    "e = (2**53)-1\n",
    "f = (2**53)+1\n",
    "\n",
    "print(Fraction(2**53-1)) #gerade noch so darstellbar\n",
    "print(Fraction(2**53+1))#fällt raus\n",
    " \n",
    "\n",
    "\n",
    "\n",
    "\n"
   ]
  },
  {
   "cell_type": "code",
   "execution_count": 44,
   "metadata": {},
   "outputs": [],
   "source": [
    "#55 siehe Kiwans Antwort\n",
    "'''\n",
    "'''"
   ]
  },
  {
   "cell_type": "code",
   "execution_count": 45,
   "metadata": {},
   "outputs": [
    {
     "name": "stdout",
     "output_type": "stream",
     "text": [
      "930249/416020\n",
      "Wurzel aus 5:  2.23606797749979\n",
      "Ergebnis (930249/416020) als Dezimalzahl:  2.2360679775010817\n",
      "Überprüfung:  5.000000000005778\n"
     ]
    }
   ],
   "source": [
    "'''\n",
    "#53\n",
    "\n",
    "Geben Sie einen Bruch an, dessen Quadrat sich um weniger als 10^-2 von 5 unterscheidet.\n",
    "'''\n",
    "import math\n",
    "\n",
    "print(Fraction(math.sqrt(5)).limit_denominator())\n",
    "print(\"Wurzel aus 5: \", math.sqrt(5))\n",
    "print(\"Ergebnis (930249/416020) als Dezimalzahl: \", 930249/416020)\n",
    "print(\"Überprüfung: \",(930249/416020)**2)"
   ]
  },
  {
   "cell_type": "code",
   "execution_count": 100,
   "metadata": {},
   "outputs": [
    {
     "name": "stdout",
     "output_type": "stream",
     "text": [
      "Bruch:  4/7\n"
     ]
    }
   ],
   "source": [
    "#61\n",
    "'''\n",
    "Geben Sie einen Bruch an, der sich von 1 / Wurzel aus 3 um weniger als 10**-2 unterscheidet\n",
    "und dessen Nenner einen kleineren Betrag als 10 hat.\n",
    "'''\n",
    "\n",
    "import math\n",
    "from fractions import Fraction\n",
    "\n",
    "zahl = 1/math.sqrt(3)\n",
    "maxUnterschied = 10**-2\n",
    "min = zahl-maxUnterschied\n",
    "max = zahl+maxUnterschied\n",
    "maxNenner = 9\n",
    "\n",
    "for n in range(1,maxNenner+1):\n",
    "    for z in range (1,maxNenner+1):\n",
    "        q = Fraction(n,z)\n",
    "        if(q > min and q < max): # Letzte Bedingung muss per Hand überprüft werden\n",
    "            print(\"Bruch: \", q)"
   ]
  },
  {
   "cell_type": "code",
   "execution_count": 99,
   "metadata": {},
   "outputs": [
    {
     "name": "stdout",
     "output_type": "stream",
     "text": [
      "Bruch:  1/7\n",
      "Bruch:  2/13\n",
      "Bruch:  1/7\n",
      "Bruch:  3/19\n",
      "Anzahl:  3\n",
      "\n",
      "Zur Kontrolle\n",
      "Min:  0.14159265358979312 Max:  0.16227766016837952\n",
      "0.15789473684210525\n",
      "0.15384615384615385\n",
      "0.14285714285714285\n"
     ]
    }
   ],
   "source": [
    "'''\n",
    "#62 #ALARM Wir sind uns nicht sicher, (aber wir sind sehr stolz auf uns)\n",
    "\n",
    "Zwischen PI - 3 und (Wurzel aus 10)-3 liegen unendlich viele Brüche. Bei wie vielen dieser Bruche ist der Nenner\n",
    "kleiner als 20, wenn sie in gekurzter Form dargestellt werden? \n",
    "[Hinweis: Schreiben Sie sich dafur ein kleines Programm.]\n",
    "'''\n",
    "\n",
    "import math\n",
    "from fractions import Fraction\n",
    "\n",
    "rangeMin = math.pi-3\n",
    "rangeMax = math.sqrt(10)-3\n",
    "maxNenner = 19\n",
    "numberOfFractions = set()\n",
    "\n",
    "for n in range(1,maxNenner+1):\n",
    "    for z in range (1,maxNenner+1):\n",
    "        q = Fraction(n,z)\n",
    "        if(q > rangeMin and q < rangeMax):\n",
    "            numberOfFractions.add(q)\n",
    "            print(\"Bruch: \", q)\n",
    "            \n",
    "print(\"Anzahl: \", len(numberOfFractions))\n",
    "print()\n",
    "print(\"Zur Kontrolle\")\n",
    "print(\"Min: \", rangeMin, \"Max: \", rangeMax)\n",
    "print(3/19)\n",
    "print(2/13)\n",
    "print(1/7)"
   ]
  },
  {
   "cell_type": "code",
   "execution_count": 150,
   "metadata": {},
   "outputs": [
    {
     "name": "stdout",
     "output_type": "stream",
     "text": [
      "Bruch:  161/72\n",
      "Zwei Lösungen aus der Schleife: \n",
      "\n",
      "\n",
      "Kontrolle für (161/72): 2.236111111111111\n",
      "Bedingung 1: min:  2.23606797749979 \n",
      "Bedingung 2: nicht größer als q-Wurzel aus 5: 0.0001\n",
      "Wert - Wurzel aus 5:  0.000043 < 0.0001\n",
      "\n",
      "\n",
      "Kontrolle für (928/415): 2.236144578313253\n",
      "Bedingung 1: min:  2.23606797749979 \n",
      "Bedingung 2: nicht größer als q-Wurzel aus 5: 0.0001\n",
      "Wert - Wurzel aus 5:  0.000077 < 0.0001\n"
     ]
    }
   ],
   "source": [
    "'''\n",
    "#63\n",
    "\n",
    "1) q ist größer als Wurzel aus 5\n",
    "2) q - Wurzel aus 5 ist kleiner als 10^-4\n",
    "3) Der Nenner von q ist kleiner als 100 000\n",
    "\n",
    "'''\n",
    "min = math.sqrt(5)\n",
    "\n",
    "maxMinusSqrt = 10**-4\n",
    "maxNenner = 200 # der eigentlich max-Nenner ist natürlich größer, aber falls wir vorher etwas finden, ist die Aufgabe ja auch erledigt... und das dauert dann nicht so lange in der Loop\n",
    "\n",
    "for n in range(1,maxNenner+1):\n",
    "    for z in range (1,maxNenner+1):\n",
    "        q = Fraction(n,z)\n",
    "        if(q > min and ((q - math.sqrt(5)) < maxMinusSqrt)):\n",
    "            print(\"Bruch: \", q)\n",
    "            \n",
    "            \n",
    "print(\"Zwei Lösungen aus der Schleife: \")\n",
    "\n",
    "print(\"\\n\\nKontrolle für (161/72):\",161/72)\n",
    "print(\"Bedingung 1: min: \", min, \"\\nBedingung 2: nicht größer als q-Wurzel aus 5:\", maxMinusSqrt)\n",
    "print(\"Wert - Wurzel aus 5: \", '{:f}'.format((161/72)-min), \"<\",maxMinusSqrt)\n",
    "\n",
    "'''\n",
    "#wert = 7.660081346338998e-05\n",
    "#'{:f}'.format(wert)\n",
    "\n",
    "Das sorgt dafür, dass so kryptische Darstellungen wie 5944E-49 als normale Zahl dargestellt werden.\n",
    "'''\n",
    "\n",
    "print(\"\\n\\nKontrolle für (928/415):\",928/415)\n",
    "print(\"Bedingung 1: min: \", min, \"\\nBedingung 2: nicht größer als q-Wurzel aus 5:\", maxMinusSqrt)\n",
    "print(\"Wert - Wurzel aus 5: \", '{:f}'.format((928/415)-min), \"<\",maxMinusSqrt)\n",
    "\n"
   ]
  },
  {
   "cell_type": "code",
   "execution_count": null,
   "metadata": {},
   "outputs": [],
   "source": [
    "'''\n",
    "#64\n",
    "\n",
    "Kreuzen Sie von den folgenden Mengen die an, die das Element 11 enthalten:\n",
    "\n",
    "[ ] {x E Z: x**2 < 100} \n",
    "    11**2 ist größer als 100, also ist 11 nicht dabei.\n",
    "[ ] {mn: m; n E P}\n",
    "    m*n ... d.h., dass wir zwei Primzahlen brauchen, die 11 ergeben. Geht nicht!\n",
    "[x] {x E N: x < 100}\n",
    "[ ] Q \\ R\n",
    "    Leere Menge, denn R enthält alles, was Q enthält und noch viel mehr (alle bösen irrationalen Zahlen!).\n",
    "[ ] {x E Q: x =/= 0 und x**-1 >= 11}\n",
    "    11 kann da nicht drin sein, weil 11**-1 kleiner als 11 ist.\n",
    "    \n",
    "#65\n",
    "\n",
    "Kreuzen Sie von den folgenden Mengen die an, die das Element 42 enthalten:\n",
    "\n",
    "[x] {m - n: m,n E N}\n",
    "    z.B. 43,1 ... alles, was sich so darstellen lässt, ist in der neuen Menge drin, heißt auch 42.\n",
    "[x] {x E Q: x =!= 0 und x**-1 < 1}\n",
    "    Einfach mathematisch durch Python überprüfen...\n",
    "[ ] {x E Z: x**2 <= 49}\n",
    "    42**2 muss größer als 49 sein, deswegen ist 42 nicht enthalten.\n",
    "[ ] {x E P: x < 100}\n",
    "    42 ist keine Primzahl.\n",
    "[ ] R \\ Q\n",
    "    Es bleiben nur die irrationalen Zahlen über und 42 ist eine rationale Zahl.\n",
    "    \n",
    "#66 Sei A die Menge der durch 3 teilbaren Primzahlen. Welche der folgenden Aussagen sind wahr?\n",
    "\n",
    "[x] A = {3} \n",
    "[x] A = P Durchschnitt {3n : n E N}\n",
    "[ ] A = P Vereinigung {3n : n E N}\n",
    "    Hier sind alle Primzahlen drin und auch mehr, und das geht nicht.\n",
    "[x] A Teilmenge P\n",
    "[ ] A = {p E P:p mod 3 = 1}\n",
    "    13 ist drin, aber 3 nicht, also geht das nicht.\n",
    "\n",
    "[ ] Keine der Aussagen ist wahr\n",
    "\n",
    "\n",
    "#67\n",
    "Sei A die Menge aller irrationalen reellen Zahlen. Welche der folgenden Aussangen sind wahr?\n",
    "\n",
    "[] A = R Durchschnitt Q\n",
    "    Da sind nur rationale Zahlen drin, also nur Q.\n",
    "[x] A = R \\ Q\n",
    "    Hier bleiben nur die irrationalen Zahlen über.\n",
    "[] A = Q \\ R\n",
    "    Leere Menge\n",
    "[] A Teilmenge Q\n",
    "    Ist nicht wahr.\n",
    "[x] A Durchschnitt Q = Leere Menge\n",
    "\n",
    "#68\n",
    "\n",
    "A,C | B,E | D,I | G,H | F,J\n",
    "\n",
    "A = R\n",
    "B = (leere Menge) Vereinigung N -> N \n",
    "C = R\n",
    "D = 0\n",
    "E = N\n",
    "F = Leere Menge\n",
    "G = 2*Wurzel aus 2 -> Wurzel aus 8\n",
    "H = math.sqrt(8), Wurzel aus 8\n",
    "I = 0\n",
    "J = Leere Menge\n",
    "\n",
    "#69\n",
    "\n",
    "B,E | A,C | D,G | F,J | H,I|\n",
    "\n",
    "A = R\n",
    "B = (leere Menge) Vereinigung N -> N \n",
    "C = R\n",
    "D = 0\n",
    "E = N\n",
    "F = Leere Menge\n",
    "G = 0\n",
    "H = Wurzel aus 8\n",
    "I = 2*Wurzel aus 2 bzw Wurzel aus 8\n",
    "J = Leere Menge\n",
    "\n",
    "'''"
   ]
  },
  {
   "cell_type": "code",
   "execution_count": 1,
   "metadata": {},
   "outputs": [
    {
     "name": "stdout",
     "output_type": "stream",
     "text": [
      "11 {0.0, 1.0, 2.0, 3.0, -0.5, 0.5, -0.3333333333333333, 0.3333333333333333, -1.0, -3.0, -2.0}\n"
     ]
    }
   ],
   "source": [
    "'''\n",
    "#70 Wieviele Elemente hat die folgende Menge?\n",
    "'''\n",
    "\n",
    "A = set()\n",
    "\n",
    "for q in range(1,4):\n",
    "    for p in range(-3,4):\n",
    "        if(abs(p*q)) <= 3:\n",
    "            A.add(p/q)\n",
    "\n",
    "print(len(A), A)"
   ]
  },
  {
   "cell_type": "code",
   "execution_count": 10,
   "metadata": {},
   "outputs": [
    {
     "name": "stdout",
     "output_type": "stream",
     "text": [
      "2\n",
      "3\n",
      "5\n",
      "7\n",
      "11\n",
      "13\n",
      "17\n",
      "19\n",
      "23\n",
      "29\n"
     ]
    },
    {
     "data": {
      "text/plain": [
       "10"
      ]
     },
     "execution_count": 10,
     "metadata": {},
     "output_type": "execute_result"
    }
   ],
   "source": [
    "'''\n",
    "Aufgabe 78\n",
    "Sei A = {p ∈ P : p < q}. Für welche Primzahl q gilt |A × A| = 100?\n",
    "\n",
    "Lösung Aufgabe 266. Die Mächtigkeit von |A × A| ist |A| * |A|\n",
    "Die Mächtigkeit ist die Anzahl der Elemente. Die Mächtigkeit von A muss 10 sein, da 10*10 =100 ergibt. \n",
    "A wird wie oben definiert. Wir möchten 10 Elemente in der Menge haben, dementsprechend ermittelt man die 11te.\n",
    "'''\n",
    "\n",
    "from sympy import prime\n",
    "\n",
    "max = prime(11)\n",
    "\n",
    "Temp = set()\n",
    "\n",
    "for i in range(1,11):\n",
    "    Temp.add(prime(i))\n",
    "\n",
    "A = set()\n",
    "for p in Temp:\n",
    "    print(p)\n",
    "    if(p < prime(11)):\n",
    "        A.add(p)\n",
    "        \n",
    "len(A)"
   ]
  },
  {
   "cell_type": "code",
   "execution_count": 9,
   "metadata": {},
   "outputs": [
    {
     "name": "stdout",
     "output_type": "stream",
     "text": [
      "1275\n"
     ]
    }
   ],
   "source": []
  },
  {
   "cell_type": "code",
   "execution_count": 15,
   "metadata": {},
   "outputs": [
    {
     "data": {
      "text/plain": [
       "{(0, 1, 2),\n",
       " (1, 2, 3),\n",
       " (2, 3, 4),\n",
       " (3, 4, 5),\n",
       " (4, 5, 6),\n",
       " (5, 6, 7),\n",
       " (6, 7, 8),\n",
       " (7, 8, 9),\n",
       " (8, 9, 10),\n",
       " (9, 10, 11),\n",
       " (10, 11, 12),\n",
       " (11, 12, 13),\n",
       " (12, 13, 14),\n",
       " (13, 14, 15),\n",
       " (14, 15, 16),\n",
       " (15, 16, 17),\n",
       " (16, 17, 18),\n",
       " (17, 18, 19),\n",
       " (18, 19, 20),\n",
       " (19, 20, 21),\n",
       " (20, 21, 22),\n",
       " (21, 22, 23),\n",
       " (22, 23, 24),\n",
       " (23, 24, 25),\n",
       " (24, 25, 26),\n",
       " (25, 26, 27),\n",
       " (26, 27, 28),\n",
       " (27, 28, 29),\n",
       " (28, 29, 30),\n",
       " (29, 30, 31),\n",
       " (30, 31, 32),\n",
       " (31, 32, 33),\n",
       " (32, 33, 34),\n",
       " (33, 34, 35),\n",
       " (34, 35, 36),\n",
       " (35, 36, 37),\n",
       " (36, 37, 38),\n",
       " (37, 38, 39),\n",
       " (38, 39, 40),\n",
       " (39, 40, 41),\n",
       " (40, 41, 42),\n",
       " (41, 42, 43),\n",
       " (42, 43, 44)}"
      ]
     },
     "execution_count": 15,
     "metadata": {},
     "output_type": "execute_result"
    }
   ],
   "source": [
    "'''\n",
    "Aufgabe 79\n",
    "Die Mengen A und B sind folgendermaßen definiert:\n",
    "A = {{n, n + 1, n + 2} : n E N und n <= 42} = {{0, 1, 2}, {1, 2, 3}, . . . , {42, 43, 44}}\n",
    "B = {X \\ Y : X, Y E A und X != Y }\n",
    "\n",
    "Wie viele Elemente hat B?\n",
    "'''\n",
    "\n",
    "A = set()\n",
    "B = set()\n",
    "\n",
    "for n in range (0,42+1):\n",
    "    A.add((n,n+1,n+2))\n",
    "\n",
    "# B = {X \\ Y : X, Y E A und X != Y } \n",
    "# Sind X und Y jetzt Triple-Elemente oder Zahlen??? .... Und sollen in A nur Triple sein oder Elemente, die Triple in der Form\n",
    "# bilden können...?\n",
    "    \n",
    "len(A)\n",
    "A"
   ]
  },
  {
   "cell_type": "code",
   "execution_count": 27,
   "metadata": {},
   "outputs": [
    {
     "name": "stdout",
     "output_type": "stream",
     "text": [
      "1275\n"
     ]
    },
    {
     "data": {
      "text/plain": [
       "91"
      ]
     },
     "metadata": {},
     "output_type": "display_data"
    }
   ],
   "source": [
    "'''\n",
    "Random Klausuraufgabe... '''\n",
    "\n",
    "from sympy import *\n",
    "from IPython.display import display\n",
    "\n",
    "\n",
    "a = set() # Menge der ersten 50 Primzahlen\n",
    "b = set() #b = {m*n: m,n E A}\n",
    "\n",
    "maechtVonB = 0\n",
    "\n",
    "for i in range(1,51):\n",
    "    a.add(prime(i))\n",
    "    \n",
    "for m in a:\n",
    "    for n in a: \n",
    "        b.add(m*n)\n",
    "        \n",
    "print(len(b))\n",
    "\n",
    "\n",
    "\n",
    "k = symbols(\"k\")\n",
    "s = Sum((k), (k, 0,13))\n",
    "display(s.doit())\n"
   ]
  },
  {
   "cell_type": "code",
   "execution_count": null,
   "metadata": {},
   "outputs": [],
   "source": []
  }
 ],
 "metadata": {
  "kernelspec": {
   "display_name": "Python 3",
   "language": "python",
   "name": "python3"
  },
  "language_info": {
   "codemirror_mode": {
    "name": "ipython",
    "version": 3
   },
   "file_extension": ".py",
   "mimetype": "text/x-python",
   "name": "python",
   "nbconvert_exporter": "python",
   "pygments_lexer": "ipython3",
   "version": "3.6.5"
  }
 },
 "nbformat": 4,
 "nbformat_minor": 2
}
