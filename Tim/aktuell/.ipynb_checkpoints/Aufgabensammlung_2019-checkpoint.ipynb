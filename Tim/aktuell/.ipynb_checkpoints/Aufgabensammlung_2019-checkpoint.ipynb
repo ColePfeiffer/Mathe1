{
 "cells": [
  {
   "cell_type": "code",
   "execution_count": 8,
   "metadata": {},
   "outputs": [
    {
     "data": {
      "text/plain": [
       "5525"
      ]
     },
     "execution_count": 8,
     "metadata": {},
     "output_type": "execute_result"
    }
   ],
   "source": [
    "import math\n",
    "\n",
    "def p(txt):\n",
    "    print(txt)\n",
    "\n",
    "    \n",
    "'''\n",
    "#1 Berechnen Sie die Summe 1**2 + 2**2 + 3**2 + · · · + 25**2\n",
    "'''\n",
    "\n",
    "sum = 0\n",
    "\n",
    "for i in range(1,26):\n",
    "    sum = sum + i**2\n",
    "\n",
    "sum"
   ]
  },
  {
   "cell_type": "code",
   "execution_count": 17,
   "metadata": {},
   "outputs": [
    {
     "data": {
      "text/plain": [
       "(100, 10000)"
      ]
     },
     "execution_count": 17,
     "metadata": {},
     "output_type": "execute_result"
    }
   ],
   "source": [
    "'''\n",
    "#2 Geben Sie die Summe der ersten 100 ungeraden naturlichen Zahlen an.\n",
    "'''\n",
    "sum = 0\n",
    "counter = 0\n",
    "\n",
    "for i in range(1,200):\n",
    "    if not(i%2 == 0):\n",
    "        counter = counter +1\n",
    "        sum = sum + i\n",
    "\n",
    "counter, sum"
   ]
  },
  {
   "cell_type": "code",
   "execution_count": 18,
   "metadata": {},
   "outputs": [
    {
     "data": {
      "text/plain": [
       "'\\n#3 Größte Zahl erkennen...\\n\\n1. hat 16 Stellen... 16*1 = 16\\n2. hat 7 Stellen...  7*3  = 21\\n3. hat 5 Stellen...  5*4  = 20\\n\\nAlso ist die zweite Zahl die größte Zahl.\\n'"
      ]
     },
     "execution_count": 18,
     "metadata": {},
     "output_type": "execute_result"
    }
   ],
   "source": [
    "'''\n",
    "#3 Größte Zahl erkennen...\n",
    "\n",
    "1. hat 16 Stellen... 16*1 = 16\n",
    "2. hat 7 Stellen...  7*3  = 21\n",
    "3. hat 5 Stellen...  5*4  = 20\n",
    "\n",
    "Also ist die zweite Zahl die größte Zahl.\n",
    "'''"
   ]
  },
  {
   "cell_type": "code",
   "execution_count": 25,
   "metadata": {},
   "outputs": [
    {
     "data": {
      "text/plain": [
       "0"
      ]
     },
     "execution_count": 25,
     "metadata": {},
     "output_type": "execute_result"
    }
   ],
   "source": [
    "'''\n",
    "#4 Berechnen Sie in Z/17Z den Wert 7 · 7 + 10 · 7.\n",
    "'''\n",
    "\n",
    "test1 = 7*7+10*7 \n",
    "test1 = test1 % 17\n",
    "\n",
    "test1"
   ]
  },
  {
   "cell_type": "code",
   "execution_count": 27,
   "metadata": {},
   "outputs": [
    {
     "name": "stdout",
     "output_type": "stream",
     "text": [
      "0\n",
      "2\n",
      "4\n",
      "6\n"
     ]
    }
   ],
   "source": [
    "'''\n",
    "#5 Alle Lösungen ankreuzen... \n",
    "'''\n",
    "\n",
    "for x in range (0,8):\n",
    "    tempErgebnis = (x - 2) * (x - 4)\n",
    "    if (tempErgebnis % 8 == 0):\n",
    "        print(x)"
   ]
  },
  {
   "cell_type": "code",
   "execution_count": 36,
   "metadata": {},
   "outputs": [
    {
     "name": "stdout",
     "output_type": "stream",
     "text": [
      "10\n",
      "30\n",
      "50\n",
      "70\n",
      "90\n"
     ]
    },
    {
     "data": {
      "text/plain": [
       "5"
      ]
     },
     "execution_count": 36,
     "metadata": {},
     "output_type": "execute_result"
    }
   ],
   "source": [
    "'''\n",
    "#6 Wie viele verschiedene L¨osungen hat die Gleichung \n",
    "20x**2 + 25x + 50 = 0 in Z/100Z?\n",
    "'''\n",
    "\n",
    "counter = 0\n",
    "\n",
    "for x in range(0,100):\n",
    "    tempErgebnis = (20*x**2)+25*x+50\n",
    "    if (tempErgebnis%100 == 0):\n",
    "        counter += 1\n",
    "        print(x)\n",
    "        \n",
    "counter"
   ]
  },
  {
   "cell_type": "code",
   "execution_count": 40,
   "metadata": {},
   "outputs": [
    {
     "name": "stdout",
     "output_type": "stream",
     "text": [
      "0\n",
      "1\n",
      "15\n",
      "31\n",
      "49\n",
      "64\n",
      "65\n",
      "79\n",
      "81\n",
      "95\n",
      "96\n",
      "111\n",
      "129\n",
      "145\n",
      "159\n"
     ]
    },
    {
     "data": {
      "text/plain": [
       "15"
      ]
     },
     "execution_count": 40,
     "metadata": {},
     "output_type": "execute_result"
    }
   ],
   "source": [
    "'''\n",
    "#7 Für wie viele Elemente x von Z/160Z gilt x**3 = x?\n",
    "'''\n",
    "\n",
    "counter = 0\n",
    "\n",
    "for x in range(0,160):\n",
    "    if ((x**3)%160 == x):\n",
    "        print(x)\n",
    "        counter += 1\n",
    "        \n",
    "counter"
   ]
  },
  {
   "cell_type": "code",
   "execution_count": 55,
   "metadata": {},
   "outputs": [
    {
     "data": {
      "text/plain": [
       "(173699988580574150503527111447092012958094272504905748027425059243621644655068680393953671507766272449955415623807786743823204768515573818694802001,\n",
       " 'Die letzten beiden Dezimalstellen sind 01')"
      ]
     },
     "execution_count": 55,
     "metadata": {},
     "output_type": "execute_result"
    }
   ],
   "source": [
    "'''\n",
    "#8 Sei a = 29 und b = 10**6. Die Zahl c = a**b hat deutlich mehr als eine Million Dezimalstellen.\n",
    "Was sind die letzten beiden Ziffern von c (also die beiden ganz rechts)?\n",
    "'''\n",
    "\n",
    "a = 29 #auch 3 möglich\n",
    "b = 10**2\n",
    "c = a**b\n",
    "\n",
    "c, \"Die letzten beiden Dezimalstellen sind 01\"\n",
    "\n",
    "#Alternativ:\n",
    "# Lösung:\n",
    "# \"{0:b}\".format(29**(10**6))\n",
    "# 01"
   ]
  },
  {
   "cell_type": "code",
   "execution_count": 2,
   "metadata": {},
   "outputs": [
    {
     "name": "stdout",
     "output_type": "stream",
     "text": [
      "0b1110 0b11011010110000\n",
      "Wahrscheinlich fürs Erste 1, fürs Letzte 0... weil es gerade ist, muss hinten eine 0 stehen. Vorne immer eine 1 bei Binärzahlen.\n"
     ]
    }
   ],
   "source": [
    "'''\n",
    "#9 Binärdarstellung von 10**14000 ... Erste und letzte Bit\n",
    "'''\n",
    "\n",
    "print(bin(14), bin(14000))\n",
    "print(\"Wahrscheinlich fürs Erste 1, fürs Letzte 0... weil es gerade ist, muss hinten eine 0 stehen. Vorne immer eine 1 bei Binärzahlen.\")\n",
    "\n",
    "#Alternativ:\n",
    "# Lösung:\n",
    "# \"{0:b}\".format(10**14000)\n",
    "# MSB = 1 | LSB = 0"
   ]
  },
  {
   "cell_type": "code",
   "execution_count": 3,
   "metadata": {
    "scrolled": true
   },
   "outputs": [
    {
     "name": "stdout",
     "output_type": "stream",
     "text": [
      "Binärdarstellung von 46:             10 1110\n",
      "Erweitern auf 16-Bit:    0000 0000 0010 1110\n",
      "Invertieren:             1111 1111 1101 0001\n",
      "Addieren von 1:          1111 1111 1101 0010\n",
      "-0b1111111111010010\n"
     ]
    }
   ],
   "source": [
    "'''\n",
    "#10 Geben Sie die Binärdarstellung (Zweierkomplement) von −46 \n",
    "auf einem 16-Bit-Computer an.\n",
    "'''\n",
    "bin(46)\n",
    "print(\"Binärdarstellung von 46:             10 1110\")\n",
    "print(\"Erweitern auf 16-Bit:    0000 0000 0010 1110\")\n",
    "print(\"Invertieren:             1111 1111 1101 0001\")\n",
    "print(\"Addieren von 1:          1111 1111 1101 0010\")\n",
    "\n",
    "#Alternativ:\n",
    "print(bin((-46^65535)+1))"
   ]
  },
  {
   "cell_type": "code",
   "execution_count": 8,
   "metadata": {},
   "outputs": [
    {
     "data": {
      "text/plain": [
       "0"
      ]
     },
     "execution_count": 8,
     "metadata": {},
     "output_type": "execute_result"
    }
   ],
   "source": [
    "'''\n",
    "#11 Welchen Wert hat die Variable c...\n",
    "'''\n",
    "\n",
    "c = 0\n",
    "k =1\n",
    "# Die Range war auf 2**40 gesetzt. Es spielt aber keine Rolle, ob da 40 oder 2 steht\n",
    "# Ausschlaggebend fürs Ergebnis ist die 2 davor, die macht die Durchläufe\n",
    "# nämlich gerade...\n",
    "for n in range(2**2): \n",
    "    c += k\n",
    "    k *= -1\n",
    "\n",
    "c"
   ]
  },
  {
   "cell_type": "code",
   "execution_count": 14,
   "metadata": {},
   "outputs": [
    {
     "data": {
      "text/plain": [
       "40"
      ]
     },
     "execution_count": 14,
     "metadata": {},
     "output_type": "execute_result"
    }
   ],
   "source": [
    "'''\n",
    "#12 Welchen Wert hat die Variable c...\n",
    "'''\n",
    "\n",
    "c = 42\n",
    "k = 1\n",
    "# Die Range war auf 3**40 gesetzt. Es spielt aber keine Rolle, ob da 40 oder 2 steht\n",
    "# Ausschlaggebend fürs Ergebnis ist die 3 davor, die macht die Durchläufe\n",
    "# nämlich ungerade...\n",
    "for n in range(3**2): \n",
    "    k *= -1\n",
    "    c += 2*k\n",
    "\n",
    "c"
   ]
  },
  {
   "cell_type": "code",
   "execution_count": 21,
   "metadata": {},
   "outputs": [
    {
     "name": "stdout",
     "output_type": "stream",
     "text": [
      "-1\n"
     ]
    }
   ],
   "source": [
    "'''\n",
    "#13 Welchen Wert hat die Variable c...\n",
    "\n",
    "Siehe oben bzgl. Lösung.\n",
    "'''\n",
    "\n",
    "c = -1\n",
    "for n in range(5**2): #ursprünglich 5 ** 40\n",
    "    c += (n%5) -2\n",
    "    \n",
    "print(c)"
   ]
  },
  {
   "cell_type": "code",
   "execution_count": 25,
   "metadata": {},
   "outputs": [
    {
     "data": {
      "text/plain": [
       "0"
      ]
     },
     "execution_count": 25,
     "metadata": {},
     "output_type": "execute_result"
    }
   ],
   "source": [
    "'''\n",
    "#14 Welchen Wert hat die Variable c...\n",
    "\n",
    "Siehe oben bzgl. Lösung.\n",
    "'''\n",
    "\n",
    "c = 0\n",
    "k = 1\n",
    "for n in range(0, 3 ** 2): # in Aufgabe 3 ** 40\n",
    "    c += (k-1)\n",
    "    k = (k+1) % 3\n",
    "    \n",
    "c"
   ]
  },
  {
   "cell_type": "code",
   "execution_count": 28,
   "metadata": {},
   "outputs": [
    {
     "name": "stdout",
     "output_type": "stream",
     "text": [
      "7701 1\n",
      "7775 5\n",
      "7777 0\n",
      "Nur c ist durch 7 teilbar.\n"
     ]
    }
   ],
   "source": [
    "'''\n",
    "#15 Welche der Zahlen ist durch 7 teilbar?\n",
    "'''\n",
    "\n",
    "a = int('17025', 8)\n",
    "b = int('17137', 8)\n",
    "c = int('17141', 8)\n",
    "\n",
    "print(a, a%7)\n",
    "print(b, b%7)\n",
    "print(c, c%7)\n",
    "\n",
    "print(\"Nur c ist durch 7 teilbar.\")"
   ]
  },
  {
   "cell_type": "code",
   "execution_count": 7,
   "metadata": {},
   "outputs": [
    {
     "name": "stdout",
     "output_type": "stream",
     "text": [
      "0 0\n",
      "10 10\n",
      "10 10\n",
      "11 0\n",
      "A und D sind durch 11 teilbar.\n"
     ]
    }
   ],
   "source": [
    "''' #16 Welche der Zahlen ist durch 11 teilbar? \n",
    "#ALARM bin mir nicht sicher\n",
    "'''\n",
    "print(\"0\",\"0 ist durch jede Zahl teilbar.\")\n",
    "print(\"10**10**10\", \"Es ist egal wieviele Nullen wir an die 10 hängen, sie wird nie durch 11 teilbar sein.\")\n",
    "print(\"10**13**13\", \"Zunächst rechnen wir 13**13 und prüfen auf Teilbarkeit. Nicht durch 11 teilbar, also ist es egal wieviele Nullen wir anhängen.\")\n",
    "print(\"13**13**13+1\",\"Wir prüfen, ob das vorherige Ergebnis + 1 durch 11 teilbar ist. Ist es nicht, also nein. Nullen ändern nichts.\")\n",
    "\n",
    "a = 10**5\n",
    "b = 12**13\n",
    "c = 10%3 ** 5%3\n",
    "d = 12%3 ** 13%3\n",
    "\n",
    "a%3, b%3, c,d\n",
    "\n",
    "a = 0\n",
    "b = 10%11 ** 10%11 ** 10%11\n",
    "c = 10%11 ** 13%11 ** 13%11\n",
    "d = 10%11 ** 13%11 ** 13%11 + 1\n",
    "\n",
    "print(a, a%11)\n",
    "print(b, b%11)\n",
    "print(c, c%11)\n",
    "print(d, d%11)\n",
    "print(\"A und D sind durch 11 teilbar.\")"
   ]
  },
  {
   "cell_type": "code",
   "execution_count": 10,
   "metadata": {},
   "outputs": [
    {
     "data": {
      "text/plain": [
       "43"
      ]
     },
     "execution_count": 10,
     "metadata": {},
     "output_type": "execute_result"
    }
   ],
   "source": [
    "'''\n",
    "#17 Geben Sie den gr¨oßten gemeinsamen Teiler von \n",
    "471 694 074 821, \n",
    "471 766 128 373 \n",
    "und 471 757 130 107 an; also die gr¨oßte Zahl, die alle drei Zahlen teilt.\n",
    "'''\n",
    "\n",
    "a = 471694074821\n",
    "b = 471766128373 \n",
    "c = 471757130107\n",
    "\n",
    "math.gcd(a,(math.gcd(b,c)))"
   ]
  },
  {
   "cell_type": "code",
   "execution_count": 16,
   "metadata": {},
   "outputs": [
    {
     "name": "stdout",
     "output_type": "stream",
     "text": [
      "-25 41\n",
      "-14 23\n",
      "-3 5\n",
      "8 -13\n",
      "19 -31\n",
      "30 -49\n"
     ]
    }
   ],
   "source": [
    "'''\n",
    "#18 Der größte gemeinsame Teiler von 18 und 11 ist 1. \n",
    "Geben Sie ganze Zahlen a und b an, so dass\n",
    "1 = 18a + 11b gilt.\n",
    "'''\n",
    "\n",
    "for a in range(-50,50):\n",
    "    for b in range(-50,50):\n",
    "        if (18*a + 11*b == 1):\n",
    "            print(a,b)"
   ]
  },
  {
   "cell_type": "code",
   "execution_count": 19,
   "metadata": {},
   "outputs": [
    {
     "name": "stdout",
     "output_type": "stream",
     "text": [
      "3 9\n",
      "3 18\n",
      "6 9\n",
      "6 18\n",
      "9 3\n",
      "9 6\n",
      "9 9\n",
      "9 12\n",
      "9 15\n",
      "9 18\n",
      "9 21\n",
      "9 24\n",
      "12 9\n",
      "12 18\n",
      "15 9\n",
      "15 18\n",
      "18 3\n",
      "18 6\n",
      "18 9\n",
      "18 12\n",
      "18 15\n",
      "18 18\n",
      "18 21\n",
      "18 24\n",
      "21 9\n",
      "21 18\n",
      "24 9\n",
      "24 18\n",
      "... also zum Beispiel 3*9, 3*18, ...\n"
     ]
    }
   ],
   "source": [
    "'''\n",
    "#19 Geben Sie zwei Zahlen aus Z/27Z an, \n",
    "deren Produkt verschwindet, obwohl beide Zahlen nicht null sind.\n",
    "'''\n",
    "\n",
    "for i in range (1,27):\n",
    "    for j in range(1,27):\n",
    "        if ((i*j)%27 == 0):\n",
    "            print(i,j)\n",
    "\n",
    "print(\"... also zum Beispiel 3*9, 3*18, ...\")"
   ]
  },
  {
   "cell_type": "code",
   "execution_count": 2,
   "metadata": {},
   "outputs": [
    {
     "name": "stdout",
     "output_type": "stream",
     "text": [
      "9 * 13 in Z 23 = 2\n",
      "Gesuchte Zahl:  13\n"
     ]
    }
   ],
   "source": [
    "'''\n",
    "#20 Berechnen Sie den Quotienten 2/9 in Z23.\n",
    "'''\n",
    "\n",
    "def quotientBerechnen(z,n,moduloZ): #4,5,7\n",
    "    for aktuelleZahl in range(0,moduloZ):\n",
    "        if ((n * aktuelleZahl)%moduloZ == z):\n",
    "            print(n, \"*\", aktuelleZahl, \"in Z\",moduloZ, \"=\",z);\n",
    "            print(\"Gesuchte Zahl: \", aktuelleZahl)\n",
    "\n",
    "quotientBerechnen(2,9,23)"
   ]
  },
  {
   "cell_type": "code",
   "execution_count": 73,
   "metadata": {},
   "outputs": [
    {
     "name": "stdout",
     "output_type": "stream",
     "text": [
      "5 5\n",
      "7 7\n",
      "11 11\n",
      "13 13\n",
      "17 17\n",
      "19 19\n",
      "23 23\n"
     ]
    }
   ],
   "source": [
    "'''\n",
    "#21 Kehrwert finden in Z/24Z, aber nicht 1\n",
    "'''\n",
    "\n",
    "for a in range(0,24):\n",
    "    for b in range(0,24):\n",
    "        if (a*b)%24 == 1 and a is not 1 and b is not 1:\n",
    "            print(a,b)\n"
   ]
  },
  {
   "cell_type": "code",
   "execution_count": 7,
   "metadata": {},
   "outputs": [
    {
     "name": "stdout",
     "output_type": "stream",
     "text": [
      "9 * 10 in Z 11 = 2\n",
      "Gesuchte Zahl:  10\n"
     ]
    },
    {
     "data": {
      "text/plain": [
       "(1, 'Ergebnis: 1')"
      ]
     },
     "execution_count": 7,
     "metadata": {},
     "output_type": "execute_result"
    }
   ],
   "source": [
    "'''\n",
    "#22 Berechnen Sie den Wert\n",
    "2/9 ** 1000000 in Z11\n",
    "'''\n",
    "\n",
    "z = 2\n",
    "n = 9\n",
    "e = 1000000\n",
    "\n",
    "def quotientBerechnen(z,n,moduloZ): #4,5,7\n",
    "    for aktuelleZahl in range(0,moduloZ):\n",
    "        if ((n * aktuelleZahl)%moduloZ == z):\n",
    "            print(n, \"*\", aktuelleZahl, \"in Z\",moduloZ, \"=\",z);\n",
    "            print(\"Gesuchte Zahl: \", aktuelleZahl)\n",
    "\n",
    "quotientBerechnen(z,n,11)\n",
    "\n",
    "(10**e)%11, \"Ergebnis: 1\""
   ]
  },
  {
   "cell_type": "code",
   "execution_count": 10,
   "metadata": {},
   "outputs": [
    {
     "name": "stdout",
     "output_type": "stream",
     "text": [
      "1\n",
      "801\n",
      "Lösung:  2\n"
     ]
    }
   ],
   "source": [
    "'''\n",
    "#23 Wieviele Elemente von Z/80Z sind innerhalb der Mulitiplikation invers \n",
    "zu sich selbst?\n",
    "'''\n",
    "\n",
    "for i in range(0,802):\n",
    "    if((i*i)%802 == 1):\n",
    "        print(i)\n",
    "        \n",
    "        \n",
    "print(\"Lösung: \", 2)"
   ]
  },
  {
   "cell_type": "code",
   "execution_count": 16,
   "metadata": {},
   "outputs": [
    {
     "name": "stdout",
     "output_type": "stream",
     "text": [
      "{0, 1, 4, 7, 9, 10, 16, 18, 19, 25, 28, 31, 33, 36, 39, 40, 45, 49, 51, 63, 64, 66, 67, 69, 70, 72, 76, 78, 81, 82, 87, 90} 32\n"
     ]
    }
   ],
   "source": [
    "'''\n",
    "#24 \n",
    "\n",
    "Wie viele Elemente von Z/93Z lassen sich als Quadrat eines Elements \n",
    "von Z/93Z darstellen? [Beispiel: 51 ist das Quadrat von 12.\n",
    "\n",
    "Definition Quadratzahl ... Quadrat von 5 ist 5**2 == 25 \n",
    "\n",
    "Liste anstatt Counter, da sonst Ergebnisse doppelt gezählt werden.\n",
    "\n",
    "'''\n",
    "\n",
    "counter = 0\n",
    "liste = set()\n",
    "\n",
    "for i in range(0,93):\n",
    "    temp = (i**2)%93\n",
    "    if(temp <= 92):\n",
    "        liste.add(temp)\n",
    "        counter += 1\n",
    "        \n",
    "print(liste, len(liste))"
   ]
  },
  {
   "cell_type": "code",
   "execution_count": 7,
   "metadata": {},
   "outputs": [
    {
     "name": "stdout",
     "output_type": "stream",
     "text": [
      "4200420042\n",
      "1\n"
     ]
    }
   ],
   "source": [
    "''' #25 \n",
    "p= 2760727302517 ist eine Primzahl. Geben Sie den Kehrwert von 853662459626 in Zp an. (Hinweis: kleiner Satz von Fermat.)\n",
    "Lösung: ??\n",
    "pow(a, p-2, p)\n",
    "'''\n",
    "a = 853662459626\n",
    "p = 2760727302517\n",
    "b = p - 2\n",
    "\n",
    "print(pow(a,p-2,p))\n",
    "print(pow(a,p-1,p))\n"
   ]
  },
  {
   "cell_type": "code",
   "execution_count": 52,
   "metadata": {},
   "outputs": [
    {
     "name": "stdout",
     "output_type": "stream",
     "text": [
      "(27, 140)\n",
      "Größter negativer Teiler:  -113\n",
      "Positiver: 27\n"
     ]
    }
   ],
   "source": [
    "# 26 Kleinste positive Lösung\n",
    "\n",
    "from sympy.ntheory.modular import crt\n",
    "\n",
    "print(crt([5,4,7],[2,3,6]))\n",
    "print(\"Größter negativer Teiler: \", 27-140)\n",
    "print(\"Positiver: 27\")"
   ]
  },
  {
   "cell_type": "code",
   "execution_count": 53,
   "metadata": {},
   "outputs": [
    {
     "name": "stdout",
     "output_type": "stream",
     "text": [
      "(62, 84)\n",
      "Größter negativer Teiler:  -22\n",
      "Ergebnis: -22\n"
     ]
    }
   ],
   "source": [
    "# 27 Größte negative Lösung\n",
    "\n",
    "print(crt([3,4,7],[2,2,6]))\n",
    "print(\"Größter negativer Teiler: \", 62-84)\n",
    "print(\"Ergebnis: -22\")"
   ]
  },
  {
   "cell_type": "code",
   "execution_count": 54,
   "metadata": {},
   "outputs": [
    {
     "name": "stdout",
     "output_type": "stream",
     "text": [
      "(101, 252) 9\n",
      "(17, 84) 3\n",
      "None 6\n",
      "None 8\n",
      "(17, 140) 5\n"
     ]
    }
   ],
   "source": [
    "# 28 Kongruenzsystem ... Lösungen finden\n",
    "\n",
    "for a in [9,3,6,8,5]:\n",
    "    print(crt([4,a,7],[1,2,3]), a)"
   ]
  },
  {
   "cell_type": "code",
   "execution_count": 55,
   "metadata": {},
   "outputs": [
    {
     "data": {
      "text/plain": [
       "{3: 2, 11: 1, 101: 1}"
      ]
     },
     "execution_count": 55,
     "metadata": {},
     "output_type": "execute_result"
    }
   ],
   "source": [
    "# 29 Kanonische Primfaktorzerlegung von 9999\n",
    "\n",
    "from sympy import factorint\n",
    "\n",
    "factorint(9999)"
   ]
  },
  {
   "cell_type": "code",
   "execution_count": 57,
   "metadata": {},
   "outputs": [
    {
     "data": {
      "text/plain": [
       "181"
      ]
     },
     "execution_count": 57,
     "metadata": {},
     "output_type": "execute_result"
    }
   ],
   "source": [
    "# 30 Geben Sie die 42te Primzahl aus.\n",
    "\n",
    "from sympy import prime\n",
    "\n",
    "prime(42)"
   ]
  },
  {
   "cell_type": "code",
   "execution_count": 18,
   "metadata": {},
   "outputs": [
    {
     "name": "stdout",
     "output_type": "stream",
     "text": [
      "A kann nicht richtig sein, weil das Ergebnis durch jede Primzahl bis n teilbar wäre.\n",
      "B: Es kann eine Primzahl dabei herauskommen, muss aber nicht. Also falsch...\n",
      "C: Ja, das stimmt... Die 1 ist dafür verantwortlich.\n",
      "D ist wahr, siehe Antwort zu A...\n"
     ]
    }
   ],
   "source": [
    "# 31 \n",
    "\n",
    "print(\"A kann nicht richtig sein, weil das Ergebnis durch jede Primzahl bis n teilbar wäre.\")\n",
    "print(\"B: Es kann eine Primzahl dabei herauskommen, muss aber nicht. Also falsch...\")\n",
    "print(\"C: Ja, das stimmt... Die 1 ist dafür verantwortlich.\")\n",
    "print(\"D ist wahr, siehe Antwort zu A...\")"
   ]
  },
  {
   "cell_type": "code",
   "execution_count": 67,
   "metadata": {},
   "outputs": [
    {
     "name": "stdout",
     "output_type": "stream",
     "text": [
      "Zwischenergebnis:  0.05761455\n",
      "0.125 0.05428681023790647 1e-08 18.420680743952367\n",
      "Ergebnis: b\n"
     ]
    }
   ],
   "source": [
    "# 32\n",
    "\n",
    "from sympy import primepi\n",
    "from math import log\n",
    "\n",
    "k = primepi(10**8)/10**8\n",
    "print(\"Zwischenergebnis: \", k)\n",
    "\n",
    "a = 1/8\n",
    "b = 1 / log(10**8)\n",
    "c = 10**-8\n",
    "d = log(10**8)\n",
    "\n",
    "print(a,b,c,d)\n",
    "print(\"Ergebnis: b\")\n"
   ]
  },
  {
   "cell_type": "code",
   "execution_count": 25,
   "metadata": {},
   "outputs": [
    {
     "name": "stdout",
     "output_type": "stream",
     "text": [
      "100000000000000\n",
      "3102103442166.0845\n",
      "800000000000 3000000000000 7000000000000\n"
     ]
    }
   ],
   "source": [
    "# 33 Anzahl der Primzahlen schätzen bis 10**14\n",
    "\n",
    "from math import log\n",
    "\n",
    "n = 10**14\n",
    "print(n)\n",
    "\n",
    "# Es gibt ungefähr n/ln(n) Primzahlen unterhalb von n\n",
    "\n",
    "print(n/log(n))\n",
    "\n",
    "a = 8*10**11\n",
    "b = 3*10**12\n",
    "c = 7*10**12\n",
    "d = 2*10**13\n",
    "\n",
    "print(a,b,c)"
   ]
  },
  {
   "cell_type": "code",
   "execution_count": 27,
   "metadata": {},
   "outputs": [
    {
     "name": "stdout",
     "output_type": "stream",
     "text": [
      "3223619130191664.0\n"
     ]
    }
   ],
   "source": [
    "# 34\n",
    "\n",
    "\n",
    "from math import log\n",
    "\n",
    "n = 10**14\n",
    "\n",
    "print(n * log(n))\n",
    "\n",
    "# Prim ... \n",
    "# Hier jetzt noch die Dinger ausrechnen oder alternativ Stellen nach der 3 zählen ... 15 Stellen, also ist 3**15 am nähsten"
   ]
  },
  {
   "cell_type": "code",
   "execution_count": 71,
   "metadata": {},
   "outputs": [],
   "source": [
    "# 35\n",
    "\n"
   ]
  },
  {
   "cell_type": "code",
   "execution_count": null,
   "metadata": {},
   "outputs": [],
   "source": []
  }
 ],
 "metadata": {
  "kernelspec": {
   "display_name": "Python 3",
   "language": "python",
   "name": "python3"
  },
  "language_info": {
   "codemirror_mode": {
    "name": "ipython",
    "version": 3
   },
   "file_extension": ".py",
   "mimetype": "text/x-python",
   "name": "python",
   "nbconvert_exporter": "python",
   "pygments_lexer": "ipython3",
   "version": "3.6.5"
  }
 },
 "nbformat": 4,
 "nbformat_minor": 2
}
