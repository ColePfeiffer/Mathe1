{
 "cells": [
  {
   "cell_type": "code",
   "execution_count": 49,
   "metadata": {},
   "outputs": [
    {
     "data": {
      "text/plain": [
       "[2, 2, 2, 2]"
      ]
     },
     "execution_count": 49,
     "metadata": {},
     "output_type": "execute_result"
    }
   ],
   "source": [
    "#Kapitel 8: Primzahlen\n",
    "\n",
    "import math\n",
    "\n",
    "'''\n",
    " A133\n",
    " \n",
    " Die selbstgeschriebene Funktion isPrime() muss nicht durch alle Zahlen iterieren. Es reicht bei der Wurzel von n aufzuhören.\n",
    "\n",
    " A134\n",
    "'''\n",
    "\n",
    "math.sqrt(10**100) #ca. 10*50 als max Range\n",
    "\n",
    "#A136\n",
    "\n",
    "def kanoPrimFaktZerlegung(n):\n",
    "    p = 2\n",
    "    list1 = []\n",
    "    \n",
    "    for i in range(0,n):\n",
    "        \n",
    "        if(n % p == 0):\n",
    "            list1.append(p)\n",
    "            n = n // p\n",
    "            p = 2\n",
    "        else:\n",
    "            p = p+1\n",
    "        \n",
    "    return(list1)\n",
    "\n",
    "kanoPrimFaktZerlegung(16)\n",
    "\n",
    "#from sympy import factorint\n",
    "#factorint(44)"
   ]
  },
  {
   "cell_type": "code",
   "execution_count": 7,
   "metadata": {},
   "outputs": [
    {
     "name": "stdout",
     "output_type": "stream",
     "text": [
      "d\n"
     ]
    }
   ],
   "source": [
    "from IPython.display import Image\n",
    "\n",
    "print(\"d\")\n",
    "\n"
   ]
  },
  {
   "cell_type": "code",
   "execution_count": null,
   "metadata": {},
   "outputs": [],
   "source": []
  }
 ],
 "metadata": {
  "kernelspec": {
   "display_name": "Python 3",
   "language": "python",
   "name": "python3"
  },
  "language_info": {
   "codemirror_mode": {
    "name": "ipython",
    "version": 3
   },
   "file_extension": ".py",
   "mimetype": "text/x-python",
   "name": "python",
   "nbconvert_exporter": "python",
   "pygments_lexer": "ipython3",
   "version": "3.6.6"
  }
 },
 "nbformat": 4,
 "nbformat_minor": 2
}
