{
 "cells": [
  {
   "cell_type": "code",
   "execution_count": 39,
   "metadata": {},
   "outputs": [
    {
     "name": "stdout",
     "output_type": "stream",
     "text": [
      "171.0\n",
      "593775 30 6\n",
      "593775 30 24\n",
      "501942 38 5\n",
      "501942 38 33\n",
      "575757 39 5\n",
      "575757 39 34\n"
     ]
    },
    {
     "data": {
      "text/plain": [
       "'\\nMein Ansatz: nicht ganz richtig!\\n\\nfrom sympy import *\\n\\nmaxElements = 17\\nmaxNumber = 18\\noptions = set()\\n\\nfor option in range(0,maxNumber+1):\\n    options.add(option)\\n\\noptions, len(options)\\n\\ndef getPowerSet(s):\\n    power_set = {frozenset()}\\n\\n    for element in s:\\n        one_element_set = frozenset({element})\\n        power_set |= {subset | one_element_set for subset in power_set}\\n\\n    return power_set\\n\\nA = getPowerSet(options)\\nlen(A), options\\n'"
      ]
     },
     "execution_count": 39,
     "metadata": {},
     "output_type": "execute_result"
    }
   ],
   "source": [
    "'''\n",
    "Klausuraufgabe:\n",
    "\n",
    "Wie viele Teilmenngen von N gibt es, die höchstens 17 Elemente enthalten und deren größtes Element kleiner als 19 ist?\n",
    "\n",
    "-> Urnenmodell ohne Reihenfolge und ohne Wiederholung\n",
    "\n",
    "'''\n",
    "\n",
    "from math import *\n",
    "\n",
    "n = 19\n",
    "k = 17\n",
    "\n",
    "ergebnis = factorial(n) / (  factorial(k) * factorial((n-k)) )\n",
    "print(ergebnis)\n",
    "\n",
    "def binomial(x, y):\n",
    "    try:\n",
    "        binom = factorial(x) // factorial(y) // factorial(x - y)\n",
    "    except ValueError:\n",
    "        binom = 0\n",
    "    return binom\n",
    "\n",
    "for i in range (1,40):\n",
    "    for j in range (1,40):\n",
    "        test = binomial(i,j)\n",
    "        if(test >= 500000 and test <= 624268):\n",
    "            print(test, i, j)\n",
    "\n",
    "\n",
    "'''\n",
    "Mein Ansatz: nicht ganz richtig!\n",
    "\n",
    "from sympy import *\n",
    "\n",
    "maxElements = 17\n",
    "maxNumber = 18\n",
    "options = set()\n",
    "\n",
    "for option in range(0,maxNumber+1):\n",
    "    options.add(option)\n",
    "\n",
    "options, len(options)\n",
    "\n",
    "def getPowerSet(s):\n",
    "    power_set = {frozenset()}\n",
    "\n",
    "    for element in s:\n",
    "        one_element_set = frozenset({element})\n",
    "        power_set |= {subset | one_element_set for subset in power_set}\n",
    "\n",
    "    return power_set\n",
    "\n",
    "A = getPowerSet(options)\n",
    "len(A), options\n",
    "'''"
   ]
  },
  {
   "cell_type": "code",
   "execution_count": 2,
   "metadata": {},
   "outputs": [
    {
     "data": {
      "text/plain": [
       "22725"
      ]
     },
     "execution_count": 2,
     "metadata": {},
     "output_type": "execute_result"
    }
   ],
   "source": [
    "s = 0\n",
    "for i in range(30,475+1,5):\n",
    "    s = s + i\n",
    "    \n",
    "s"
   ]
  },
  {
   "cell_type": "code",
   "execution_count": 3,
   "metadata": {},
   "outputs": [
    {
     "name": "stdout",
     "output_type": "stream",
     "text": [
      "1275\n"
     ]
    },
    {
     "data": {
      "text/plain": [
       "91"
      ]
     },
     "metadata": {},
     "output_type": "display_data"
    }
   ],
   "source": [
    "'''\n",
    "Random Klausuraufgabe... '''\n",
    "\n",
    "from sympy import *\n",
    "from IPython.display import display\n",
    "\n",
    "\n",
    "a = set() # Menge der ersten 50 Primzahlen\n",
    "b = set() #b = {m*n: m,n E A}\n",
    "\n",
    "maechtVonB = 0\n",
    "\n",
    "for i in range(1,51):\n",
    "    a.add(prime(i))\n",
    "    \n",
    "for m in a:\n",
    "    for n in a: \n",
    "        b.add(m*n)\n",
    "        \n",
    "print(len(b))\n",
    "\n",
    "\n",
    "\n",
    "k = symbols(\"k\")\n",
    "s = Sum((k), (k, 0,13))\n",
    "display(s.doit())\n"
   ]
  },
  {
   "cell_type": "code",
   "execution_count": 5,
   "metadata": {},
   "outputs": [
    {
     "name": "stdout",
     "output_type": "stream",
     "text": [
      "Aufgabe 1:  8\n",
      "Aufgabe 2:  4200420042\n",
      "Aufgabe 3: 1/8, 3/16, 15/20 (gekürzt)\n",
      "Aufgabe 4: 1111 1111 0111 0010\n",
      "Aufgabe 5: 1275\n",
      "Aufgabe 6: 125970\n",
      "\n",
      " 4.3e+38 \n",
      " 3.9e+40 \n",
      " 3.6e+42 \n",
      " 3.3e+44 \n",
      " \n",
      " 3.565438506835801e+42\n",
      "Aufgabe 7: A ist richtig!\n"
     ]
    }
   ],
   "source": [
    "'''\n",
    "###########################################\n",
    "ALTKLAUSUR SS 2018\n",
    "###########################################\n",
    "'''\n",
    "#Aufgabe 1\n",
    "counter = 0\n",
    "\n",
    "for i in range(0,800):\n",
    "    if((i*i)%800 == 1):\n",
    "        counter += 1\n",
    "        #print(i)\n",
    "        \n",
    "print(\"Aufgabe 1: \", counter)\n",
    "\n",
    "#Aufgabe 2\n",
    "\n",
    "p = 2760727302517\n",
    "a = 853662459626\n",
    "\n",
    "print(\"Aufgabe 2: \", pow(a,p-2,p))\n",
    "\n",
    "#Aufgabe 3 #ALARM\n",
    "#Bei Oktalzahlen dürfen die Primfaktoren des Nenners nur 2 sein.\n",
    "print(\"Aufgabe 3: 1/8, 3/16, 15/20 (gekürzt)\")\n",
    "\n",
    "#Aufgabe 4\n",
    "#bin(142) -> 1000 1110\n",
    "# 0000 0000 1000 1110\n",
    "# 1111 1111 0111 0001\n",
    "# 1111 1111 0111 0010\n",
    "print(\"Aufgabe 4: 1111 1111 0111 0010\")\n",
    "\n",
    "#Aufgabe 5\n",
    "from sympy import prime\n",
    "\n",
    "A = set()\n",
    "\n",
    "for i in range(1,51):\n",
    "    A.add(prime(i))\n",
    "    \n",
    "B = set()\n",
    "\n",
    "for n in A:\n",
    "    for m in A:\n",
    "        B.add(m*n)\n",
    "        \n",
    "print(\"Aufgabe 5:\", len(B))\n",
    "\n",
    "#Aufgabe 6\n",
    "from sympy import binomial \n",
    "\n",
    "n = 20\n",
    "k = 12\n",
    "#weil (2 + x)**11 vorgegeben ist, ist b die zahl in dem Term, also 2\n",
    "b = 1\n",
    "\n",
    "erg = b**(n-k)*binomial(n, k)\n",
    "print(\"Aufgabe 6:\", erg)\n",
    "\n",
    "#Aufgabe 7\n",
    "#Wie viele Elemente enthält die Menge {(p, q) : p, q € P  [0, 10**21 ]} ungefähr?\n",
    "from math import log1p\n",
    "erg = (10**23 / log1p(10**23))**2 # Die Menge enthält Tupel, deswegen **2 am Ende\n",
    "\n",
    "a = 4.3*10**38 \n",
    "b = 3.9*10**40\n",
    "c = 3.6*10**42 #richtig\n",
    "d = 3.3*10**44\n",
    "\n",
    "#print(\"a: {:f}, b: {:f}, c: {:f}, d: {:f}\\n\\nErgebnis: {:f}\".format(a,b,c,d,erg))\n",
    "print(\"\\n\",a,\"\\n\",b,\"\\n\",c,\"\\n\",d,\"\\n\",\"\\n\",erg)\n",
    "\n",
    "print(\"Aufgabe 7: 3 ist richtig!\")\n",
    "\n"
   ]
  },
  {
   "cell_type": "code",
   "execution_count": 7,
   "metadata": {},
   "outputs": [
    {
     "name": "stdout",
     "output_type": "stream",
     "text": [
      "Aufgabe 8:\n",
      "3 (17, 84)\n",
      "8 None\n",
      "6 None\n",
      "9 (101, 252)\n",
      "5 (17, 140)\n",
      "Aufgabe 9:  17/22\n",
      "Aufgabe 10: 1\n",
      "Aufgabe 11: Wurzel aus 4, 2**53-1, 0.375\n",
      "Aufgabe 12:  20855\n",
      "Aufgabe 13:  524268\n"
     ]
    }
   ],
   "source": [
    "#Aufgabe 8\n",
    "\n",
    "from sympy.ntheory.modular import crt\n",
    "import math\n",
    "print(\"Aufgabe 8:\")\n",
    "for a in [3,8,6,9,5]:\n",
    "    print(a, crt([4,a,7],[1,2,3]))\n",
    "    \n",
    "# Aufgabe 9 #ALARM\n",
    "erg = Fraction(0.772727272727272727272727272727272727272727272727272727272).limit_denominator()\n",
    "print(\"Aufgabe 9: \", erg)\n",
    "\n",
    "# Aufgabe 10\n",
    "\n",
    "def foo():\n",
    "    k = 0\n",
    "    while True:\n",
    "        yield k\n",
    "        k += 1\n",
    "        \n",
    "c, s = 0, 0\n",
    "for i in foo():\n",
    "    s = (s+i) % 3\n",
    "    c += 1\n",
    "    if c > 34:\n",
    "        break\n",
    "        \n",
    "print(\"Aufgabe 10:\", s)\n",
    "\n",
    "#Aufgabe 11:\n",
    "from math import *\n",
    "from fractions import Fraction\n",
    "\n",
    "#math.sqrt(2) #nein\n",
    "#math.sqrt(4) #ja\n",
    "#2**53+1 #nein, sprengt den bereich\n",
    "#2**53-1 #ja\n",
    "#Fraction(0.375) #ja\n",
    "#Fraction(1.41) #nein\n",
    "\n",
    "print(\"Aufgabe 11: Wurzel aus 4, 2**53-1, 0.375\")\n",
    "\n",
    "#Aufgabe 12\n",
    "sum = 0\n",
    "for i in range(30,456,5):\n",
    "    sum += i\n",
    "\n",
    "print(\"Aufgabe 12: \", sum)\n",
    "\n",
    "#Aufgabe 13\n",
    "\n",
    "A = set()\n",
    "for i in range(0,19):\n",
    "    A.add(i)\n",
    "\n",
    "def getPowerSet(s):\n",
    "    power_set = {frozenset()}\n",
    "\n",
    "    for element in s:\n",
    "        one_element_set = frozenset({element})\n",
    "        power_set |= {subset | one_element_set for subset in power_set}\n",
    "\n",
    "    return power_set\n",
    "\n",
    "alleTeilmengen = getPowerSet(A)\n",
    "erg = set()\n",
    "\n",
    "for teilmenge in alleTeilmengen:\n",
    "    if(len(teilmenge) <= 17):\n",
    "        erg.add(teilmenge)\n",
    "        \n",
    "print(\"Aufgabe 13: \", len(erg))"
   ]
  },
  {
   "cell_type": "markdown",
   "metadata": {},
   "source": [
    "# Aufgabe 1"
   ]
  },
  {
   "cell_type": "code",
   "execution_count": 8,
   "metadata": {},
   "outputs": [
    {
     "name": "stdout",
     "output_type": "stream",
     "text": [
      "Aufgabe 15:  11\n",
      "Aufgabe 16: 4\n",
      "Aufgabe 17:  1694157/978122\n",
      "Aufgabe 18: 1352\n",
      "Aufgabe 20: AH, BC, DG, EI, FJ\n"
     ]
    }
   ],
   "source": [
    "\n",
    "#Aufgabe 14 #ALARM\n",
    "\n",
    "options = [2,3,4,4,5,6]\n",
    "\n",
    "#Aufgabe 15\n",
    "def quotientBerechnen(z,n,moduloZ): #4,5,7\n",
    "    for aktuelleZahl in range(0,moduloZ):\n",
    "        if ((n * aktuelleZahl)%moduloZ == z):\n",
    "            #print(n, \" * (\", aktuelleZahl, \") in Z\",moduloZ, \" = \",z);\n",
    "            return aktuelleZahl\n",
    "            \n",
    "quotientBerechnen(3,17,23)\n",
    "print(\"Aufgabe 15: \", 11)\n",
    "\n",
    "#ALARM\n",
    "# Wir schneiden bis zur ersten 1 ab, dann \n",
    "# 0.0100 -> (1).000100010001...\n",
    "# Wenn eine 1 abgeschnitten wird, muss aufgerundet werden, also +1 gerechnet, wenn nicht, dann nicht. Also ist 4 richtig.\n",
    "print(\"Aufgabe 16: 4\")\n",
    "\n",
    "erg = Fraction(math.sqrt(3)).limit_denominator()\n",
    "print(\"Aufgabe 17: \", erg)\n",
    "\n",
    "\n",
    "#18\n",
    "\n",
    "options = ['A', 'B', 'C', 'D', 'E', 'F', 'G', 'H']\n",
    "\n",
    "# Gibt uns alle möglichen Kombinationen für Zeichenketten der Länge 4\n",
    "allCombinations = set()\n",
    "string = \"\"\n",
    "for pos1 in options:\n",
    "    for pos2 in options:\n",
    "        for pos3 in options:\n",
    "            for pos4 in options:\n",
    "                string = pos1+pos2+pos3+pos4\n",
    "                allCombinations.add(string)\n",
    "                \n",
    "           \n",
    "A = set()     \n",
    "for element in allCombinations:\n",
    "    if(element[0] == \"A\"):\n",
    "        A.add(element)\n",
    "    \n",
    "    if(element[1] == \"B\"):\n",
    "        A.add(element)\n",
    "        \n",
    "    if(element[2] == element[3]):\n",
    "        A.add(element)\n",
    "        \n",
    "print(\"Aufgabe 18:\", len(A))\n",
    "#20\n",
    "\n",
    "'''\n",
    "a = 2 * math.sqrt(2) #2.8284271247461903\n",
    "b = N\n",
    "c = N\n",
    "d = 0 \n",
    "e = R\n",
    "f = leere Menge\n",
    "g = 0\n",
    "h = 2 * math.sqrt(2)\n",
    "i = R\n",
    "j = leere Menge\n",
    "'''\n",
    "\n",
    "print(\"Aufgabe 20: AH, BC, DG, EI, FJ\")"
   ]
  },
  {
   "cell_type": "code",
   "execution_count": 2,
   "metadata": {},
   "outputs": [
    {
     "name": "stdout",
     "output_type": "stream",
     "text": [
      "a 1\n",
      "a 2\n",
      "a 3\n",
      "b 1\n",
      "b 2\n",
      "b 3\n",
      "c 1\n",
      "c 2\n",
      "c 3\n"
     ]
    }
   ],
   "source": [
    "      \n"
   ]
  },
  {
   "cell_type": "code",
   "execution_count": null,
   "metadata": {},
   "outputs": [],
   "source": []
  }
 ],
 "metadata": {
  "kernelspec": {
   "display_name": "Python 3",
   "language": "python",
   "name": "python3"
  },
  "language_info": {
   "codemirror_mode": {
    "name": "ipython",
    "version": 3
   },
   "file_extension": ".py",
   "mimetype": "text/x-python",
   "name": "python",
   "nbconvert_exporter": "python",
   "pygments_lexer": "ipython3",
   "version": "3.6.5"
  }
 },
 "nbformat": 4,
 "nbformat_minor": 2
}
