{
 "cells": [
  {
   "cell_type": "code",
   "execution_count": 2,
   "metadata": {},
   "outputs": [
    {
     "name": "stdout",
     "output_type": "stream",
     "text": [
      "5525\n"
     ]
    }
   ],
   "source": [
    "#1 Summenformel\n",
    "\n",
    "import math\n",
    "\n",
    "sum = 0\n",
    "for i in range(1, 26):\n",
    "    sum = sum + i**2\n",
    "    \n",
    "print(sum)\n",
    "\n",
    "\n",
    "def p(text):\n",
    "    print(text)"
   ]
  },
  {
   "cell_type": "code",
   "execution_count": 8,
   "metadata": {},
   "outputs": [
    {
     "data": {
      "text/plain": [
       "1909"
      ]
     },
     "execution_count": 8,
     "metadata": {},
     "output_type": "execute_result"
    }
   ],
   "source": [
    "'''\n",
    "2 Zahlensystem: Größen erkennen\n",
    "\n",
    "Wieviele Bits braucht man, um die Ziffer des Zahlensystems im Binärsystem darzustellen? \n",
    "Bei 8 braucht man 3, bei 16 4...\n",
    "\n",
    "Jetzt nimmt man die Anzahl der Ziffern der Zahl mal die Anzahl der Bits im Binärsystem mal \n",
    "und erhält eine Aussage über die Größe der Zahl im Binärsystem.\n",
    "\n",
    "Demnach müsste die mittlere die größte Zahl sein... Sie hat 21 Stellen.\n",
    "\n",
    "'''"
   ]
  },
  {
   "cell_type": "code",
   "execution_count": 13,
   "metadata": {},
   "outputs": [
    {
     "name": "stdout",
     "output_type": "stream",
     "text": [
      "15\n",
      "2\n",
      "0\n",
      "Ergebnis ist 0\n"
     ]
    }
   ],
   "source": [
    "#3 Restklassenring\n",
    "\n",
    "p((7*7)%17)\n",
    "p((10*7)%17)\n",
    "p((15+2)%17)\n",
    "\n",
    "p(\"Ergebnis ist 0\")"
   ]
  },
  {
   "cell_type": "code",
   "execution_count": 14,
   "metadata": {},
   "outputs": [
    {
     "name": "stdout",
     "output_type": "stream",
     "text": [
      "0\n",
      "2\n",
      "4\n",
      "6\n"
     ]
    }
   ],
   "source": [
    "#4 \n",
    "# Da es sich um einen Restklassenring handelt, gibt es nur acht Möglichkeiten… also alle ausprobieren.\n",
    "\n",
    "\n",
    "for i in range (0,8):\n",
    "    if (((i-2)*(i-4))%8 == 0):\n",
    "        print(i)\n"
   ]
  },
  {
   "cell_type": "code",
   "execution_count": 15,
   "metadata": {},
   "outputs": [
    {
     "name": "stdout",
     "output_type": "stream",
     "text": [
      "10\n",
      "30\n",
      "50\n",
      "70\n",
      "90\n",
      "Anzahl:  5\n"
     ]
    }
   ],
   "source": [
    "#5 Wie viele verschiedene Lösungen hat die Gleichung 20x2 + 25x + 50 = 0 in Z=100Z?\n",
    "\n",
    "counter = 0\n",
    "for x in range (0,100):\n",
    "    if(20*x**2 + 25 * x + 50)%100 == 0:\n",
    "        print(x)\n",
    "        counter = counter + 1\n",
    "        \n",
    "print(\"Anzahl: \", counter)"
   ]
  },
  {
   "cell_type": "code",
   "execution_count": 55,
   "metadata": {},
   "outputs": [
    {
     "name": "stdout",
     "output_type": "stream",
     "text": [
      "0\n",
      "1\n",
      "15\n",
      "31\n",
      "49\n",
      "64\n",
      "65\n",
      "79\n",
      "81\n",
      "95\n",
      "96\n",
      "111\n",
      "129\n",
      "145\n",
      "159\n",
      "Ergebnis: 15\n"
     ]
    }
   ],
   "source": [
    "#6 Für wie viele Elemente x von Z/160Z gilt x**3 = x?\n",
    "\n",
    "counter = 0\n",
    "for x in range (0,160):\n",
    "    if(x**3%160 == x%160):\n",
    "        print(x)\n",
    "        counter = counter + 1\n",
    "        \n",
    "print(\"Anzahl: \", counter)"
   ]
  },
  {
   "cell_type": "code",
   "execution_count": 31,
   "metadata": {},
   "outputs": [
    {
     "name": "stdout",
     "output_type": "stream",
     "text": [
      "173699988580574150503527111447092012958094272504905748027425059243621644655068680393953671507766272449955415623807786743823204768515573818694802001\n"
     ]
    }
   ],
   "source": [
    "# 7 Sei a = 29 und b = 10**6. Die Zahl c = a**b hat deutlich mehr als eine Million Dezimalstellen. \n",
    "# Was sind die letzten beiden Ziffern von c (also die beiden ganz rechts)?\n",
    "\n",
    "a = 29 # Hier kann man auch jede andere ungerade Zahl nehmen! Es ändert nichts an den letzten beiden Ziffern\n",
    "b = 100 # Anstelle von 10**6 kann man jede 10er Potenz größer-gleich 100 nehmen, weil 10**6 nur Nullen anhängt\n",
    "c = a**b\n",
    "\n",
    "print(c)\n",
    "\n",
    "# Ergebnis: 01\n",
    "\n",
    "# Da b = 10^6 ist, also 1000000, können wir das vereinfachen, indem wir b durch 10 oder 100 ersetzen. Die letzten beiden Dezimalstellen ändern sich nie."
   ]
  },
  {
   "cell_type": "code",
   "execution_count": 33,
   "metadata": {},
   "outputs": [
    {
     "name": "stdout",
     "output_type": "stream",
     "text": [
      "Umwandeln in Binär:                 0b101110\n",
      "Binärdarstellung von 46:             10 1110\n",
      "Erweitern auf 16-Bit:    0000 0000 0010 1110\n",
      "Invertieren:             1111 1111 1101 0001\n",
      "Addieren von 1:          1111 1111 1101 0010\n"
     ]
    }
   ],
   "source": [
    "#8 Geben Sie die Binardarstellung (Zweierkomplement) von 􀀀46 auf einem 16-Bit-Computer an.\n",
    "\n",
    "print(\"Umwandeln in Binär:                \", bin(46))\n",
    "print(\"Binärdarstellung von 46:             10 1110\")\n",
    "print(\"Erweitern auf 16-Bit:    0000 0000 0010 1110\")\n",
    "print(\"Invertieren:             1111 1111 1101 0001\")\n",
    "print(\"Addieren von 1:          1111 1111 1101 0010\")\n"
   ]
  },
  {
   "cell_type": "code",
   "execution_count": 16,
   "metadata": {},
   "outputs": [
    {
     "data": {
      "text/plain": [
       "0"
      ]
     },
     "execution_count": 16,
     "metadata": {},
     "output_type": "execute_result"
    }
   ],
   "source": [
    "#9 Welchen Wert hat die Variable c nach Ausfuhrung des folgenden Codes?\n",
    "\n",
    "c = 0\n",
    "k = 1\n",
    "\n",
    "# Hier geht es einzig um die Frage, ob 2**40 gerade oder ungerade ist. \n",
    "# Weil alle Verknüpfungen Zweierpotenzen ergeben, sind sie immer gerade... \n",
    "# D.h., dass wir die 40 auch zu einer 1 oder einer 2 ändern können und sich am Endergebnis nichts ändert.\n",
    "\n",
    "for n in range(2**2): \n",
    "    c += k\n",
    "    k *= -1\n",
    "    \n",
    "c\n",
    "\n",
    "#Ergebnis 0"
   ]
  },
  {
   "cell_type": "code",
   "execution_count": 34,
   "metadata": {},
   "outputs": [
    {
     "name": "stdout",
     "output_type": "stream",
     "text": [
      "0\n"
     ]
    }
   ],
   "source": [
    "#10\n",
    "\n",
    "c = 0\n",
    "k = 1\n",
    "\n",
    "# Das Argument (die 3) darf nicht verändert werden, ansonsten würde das Ergebnis verfälscht werden.\n",
    "# Die Potenz hingegen (die 40) darf beliebig verkleinert werden.\n",
    "# Es geht darum, ob die Anzahl der Durchläufe gerade oder ungerade sind.\n",
    "for n in range(0, 3**3):\n",
    "    c += (k-1)\n",
    "    k = (k+1) % 3\n",
    "    \n",
    "print(c)"
   ]
  },
  {
   "cell_type": "code",
   "execution_count": 35,
   "metadata": {},
   "outputs": [
    {
     "name": "stdout",
     "output_type": "stream",
     "text": [
      "7701 1\n",
      "7775 5\n",
      "7777 0\n"
     ]
    }
   ],
   "source": [
    "#11 \n",
    "\n",
    "# Darauf achten, dass zunächst in Dezimal umgerechnet werden muss!\n",
    "\n",
    "a = int('17025', 8)\n",
    "b = int('17137', 8)\n",
    "c = int('17141', 8)\n",
    "\n",
    "# Alternativ:\n",
    "#a = 0o17025\n",
    "#b = 0o17137\n",
    "#c = 0o17141\n",
    "\n",
    "print(a, a%7)\n",
    "print(b, b%7)\n",
    "print(c, c%7)"
   ]
  },
  {
   "cell_type": "code",
   "execution_count": 28,
   "metadata": {},
   "outputs": [
    {
     "name": "stdout",
     "output_type": "stream",
     "text": [
      "0 0 ist durch jede Zahl teilbar.\n",
      "10**10**10 Es ist egal wieviele Nullen wir an die 10 hängen, sie wird nie durch 11 teilbar sein.\n",
      "10**13**13 Zunächst rechnen wir 13**13 und prüfen auf Teilbarkeit. Nicht durch 11 teilbar, also ist es egal wieviele Nullen wir anhängen.\n",
      "13**13**13+1 Wir prüfen, ob das vorherige Ergebnis + 1 durch 11 teilbar ist. Ist es nicht, also nein. Nullen ändern nichts.\n",
      "1) 0 ist durch jede Zahl teilbar.\n",
      "2) 10**10**10 |  10\n",
      "3) 10**13**13 |  10\n",
      "4) 10**13**13+1 |  11\n",
      "9\n",
      "5\n"
     ]
    }
   ],
   "source": [
    "#12 #ALARM!!!!!!\n",
    "\n",
    "#Welche der folgenden Zahlen ist durch 11 teilbar?\n",
    "\n",
    "print(\"0\",\"0 ist durch jede Zahl teilbar.\")\n",
    "print(\"10**10**10\", \"Es ist egal wieviele Nullen wir an die 10 hängen, sie wird nie durch 11 teilbar sein.\")\n",
    "print(\"10**13**13\", \"Zunächst rechnen wir 13**13 und prüfen auf Teilbarkeit. Nicht durch 11 teilbar, also ist es egal wieviele Nullen wir anhängen.\")\n",
    "print(\"13**13**13+1\",\"Wir prüfen, ob das vorherige Ergebnis + 1 durch 11 teilbar ist. Ist es nicht, also nein. Nullen ändern nichts.\")\n",
    "\n",
    "print(\"1) 0 ist durch jede Zahl teilbar.\")\n",
    "a = 10%11**10%11**10%11\n",
    "print(\"2) 10**10**10 | \", a)\n",
    "b = 10%13**10%13**10%13\n",
    "print(\"3) 10**13**13 | \",b)\n",
    "c = (10%11**13%11**13%11)+1\n",
    "print(\"4) 10**13**13+1 | \",c) \n",
    "\n",
    "\n",
    "print(((13**13)+1)%11) # 9\n",
    "print(((13%11) ** (13%11)) +1) #5\n",
    "\n",
    "# Hilfe? Inkonsistent?? Was geht ab?"
   ]
  },
  {
   "cell_type": "code",
   "execution_count": 37,
   "metadata": {},
   "outputs": [
    {
     "data": {
      "text/plain": [
       "43"
      ]
     },
     "execution_count": 37,
     "metadata": {},
     "output_type": "execute_result"
    }
   ],
   "source": [
    "#13\n",
    "\n",
    "math.gcd(471757130107,(math.gcd(471694074821,471766128373)))"
   ]
  },
  {
   "cell_type": "code",
   "execution_count": 38,
   "metadata": {},
   "outputs": [
    {
     "name": "stdout",
     "output_type": "stream",
     "text": [
      "-3 5\n",
      "8 -13\n"
     ]
    }
   ],
   "source": [
    "#14 ggT Linearfaktordarstellung\n",
    "# Der gro\u0019te gemeinsame Teiler von 18 und 11 ist 1. Geben Sie ganze Zahlen a und b an, so dass\n",
    "#1 = 18a + 11b gilt.\n",
    "\n",
    "maxrange = 20\n",
    "\n",
    "for a in range(-maxrange,maxrange):\n",
    "    for b in range (-maxrange,maxrange):\n",
    "        if (18*a + 11*b == 1):\n",
    "            print(a,b)"
   ]
  },
  {
   "cell_type": "code",
   "execution_count": 39,
   "metadata": {},
   "outputs": [
    {
     "name": "stdout",
     "output_type": "stream",
     "text": [
      "3 9\n",
      "9 3\n"
     ]
    }
   ],
   "source": [
    "#15 Restklassenring \n",
    "#Geben Sie zwei Zahlen aus Z/27Z an, deren Produkt verschwindet, obwohl beide Zahlen nicht null sind.\n",
    "\n",
    "for a in range(1,27):\n",
    "    for b in range(1,27):\n",
    "        if (a*b == 27):\n",
    "            print(a,b)"
   ]
  },
  {
   "cell_type": "code",
   "execution_count": 2,
   "metadata": {},
   "outputs": [
    {
     "name": "stdout",
     "output_type": "stream",
     "text": [
      "13\n",
      "5  * ( 5 ) in Z 7  =  4\n",
      "Gesuchte Zahl:  5\n",
      "7  * ( 17 ) in Z 23  =  4\n",
      "Gesuchte Zahl:  17\n"
     ]
    },
    {
     "data": {
      "text/plain": [
       "4"
      ]
     },
     "execution_count": 2,
     "metadata": {},
     "output_type": "execute_result"
    }
   ],
   "source": [
    "#16 Inverses Element in Restklassenring finden, Quotient\n",
    "# 2/9 in Z23\n",
    "\n",
    "# 1 ist das inverse Element innerhalb von Restklassenringen bei der Multiplikation\n",
    "\n",
    "for a in range(0,23):\n",
    "    if ((9 * a)%23 == 2):\n",
    "        print(a)\n",
    "\n",
    "# 4/5 in Z7\n",
    "#2,9,23\n",
    "def tester(z,n,moduloZ): #4,5,7\n",
    "    for aktuelleZahl in range(0,moduloZ):\n",
    "        if ((n * aktuelleZahl)%moduloZ == z):\n",
    "            print(n, \" * (\", aktuelleZahl, \") in Z\",moduloZ, \" = \",z);\n",
    "            print(\"Gesuchte Zahl: \", aktuelleZahl)\n",
    "        \n",
    "\n",
    "tester(4,5,7)\n",
    "tester(4,7,23)\n",
    "\n",
    "119%23"
   ]
  },
  {
   "cell_type": "code",
   "execution_count": 1,
   "metadata": {},
   "outputs": [
    {
     "name": "stdout",
     "output_type": "stream",
     "text": [
      "5 5\n",
      "7 7\n",
      "11 11\n",
      "13 13\n",
      "17 17\n",
      "19 19\n",
      "23 23\n"
     ]
    }
   ],
   "source": [
    "'''\n",
    "Aufgabe #17\n",
    "Geben Sie eine von 1 verschiedene Zahl an, die in Z/24Z einen Kehrwert hat.\n",
    "\n",
    "Kehrwert: Die Zahl, die ich mit einer anderen Zahl multipliziere, \n",
    "um 1 in Modulo des Restklassenrings zu erhalten.\n",
    "'''\n",
    "\n",
    "for a in range (0,24):\n",
    "    for b in range(0,24):\n",
    "        if (((a*b)%24)==1 and a != 1 and b != 1):\n",
    "            print(a,b)"
   ]
  },
  {
   "cell_type": "code",
   "execution_count": 27,
   "metadata": {},
   "outputs": [
    {
     "name": "stdout",
     "output_type": "stream",
     "text": [
      "1\n",
      "801\n",
      "Anzahl:  2\n"
     ]
    }
   ],
   "source": [
    "#19 Wie viele Elemente von Z/802Z sind bezüglich der Multiplikation invers zu sich selbst?\n",
    "\n",
    "# Inverses Element:\n",
    "# Bei Addition/Subtraktion == 0\n",
    "# Bei Division/Multiplikation == 1\n",
    "\n",
    "counter = 0\n",
    "\n",
    "for i in range(0,802):\n",
    "    if((i*i)%802 == 1):\n",
    "        print(i)\n",
    "        counter = counter + 1\n",
    "        \n",
    "print(\"Anzahl: \", counter)"
   ]
  },
  {
   "cell_type": "code",
   "execution_count": 28,
   "metadata": {},
   "outputs": [
    {
     "name": "stdout",
     "output_type": "stream",
     "text": [
      "93\n"
     ]
    }
   ],
   "source": [
    "#20 \n",
    "\n",
    "count = 0\n",
    "\n",
    "for a in range(0,93):\n",
    "    #print((a**2)%93)\n",
    "    if ((a**2)%93 < 93):\n",
    "        count += 1\n",
    "        \n",
    "print(count)"
   ]
  },
  {
   "cell_type": "code",
   "execution_count": 8,
   "metadata": {
    "scrolled": true
   },
   "outputs": [
    {
     "name": "stdout",
     "output_type": "stream",
     "text": [
      "4200420042\n"
     ]
    }
   ],
   "source": [
    "''' #21 \n",
    "p= 2760727302517 ist eine Primzahl. Geben Sie den Kehrwert von 853662459626 in Zp an. (Hinweis: kleiner Satz von Fermat.)\n",
    "\n",
    "Ansatz: pow(a, p-2, p)\n",
    "\n",
    "Lösung: 4200420042\n",
    "\n",
    "'''\n",
    "\n",
    "a = 853662459626\n",
    "p = 2760727302517\n",
    "b = p - 2\n",
    "\n",
    "print(pow(a,p-2,p))"
   ]
  },
  {
   "cell_type": "code",
   "execution_count": 31,
   "metadata": {},
   "outputs": [
    {
     "name": "stdout",
     "output_type": "stream",
     "text": [
      "(27, 140)\n",
      "Größter negativer Teiler:  -113\n",
      "Positiver: 27\n",
      "(62, 84)\n",
      "Größter negativer Teiler:  -22\n",
      "Ergebnis: -22\n"
     ]
    }
   ],
   "source": [
    "#22\n",
    "\n",
    "from sympy.ntheory.modular import crt\n",
    "\n",
    "print(crt([5,4,7],[2,3,6]))\n",
    "print(\"Größter negativer Teiler: \", 27-140)\n",
    "print(\"Positiver: 27\")\n",
    "\n",
    "#23\n",
    "#-113\n",
    "\n",
    "print(crt([3,4,7],[2,2,6]))\n",
    "print(\"Größter negativer Teiler: \", 62-84)\n",
    "print(\"Ergebnis: -22\")\n"
   ]
  },
  {
   "cell_type": "code",
   "execution_count": 34,
   "metadata": {},
   "outputs": [
    {
     "name": "stdout",
     "output_type": "stream",
     "text": [
      "(101, 252) 9\n",
      "(17, 84) 3\n",
      "None 6\n",
      "None 8\n",
      "(17, 140) 5\n"
     ]
    }
   ],
   "source": [
    "#24\n",
    "\n",
    "for a in [9,3,6,8,5]:\n",
    "    print(crt([4,a,7],[1,2,3]), a)"
   ]
  },
  {
   "cell_type": "code",
   "execution_count": 35,
   "metadata": {},
   "outputs": [
    {
     "data": {
      "text/plain": [
       "{3: 2, 11: 1, 101: 1}"
      ]
     },
     "execution_count": 35,
     "metadata": {},
     "output_type": "execute_result"
    }
   ],
   "source": [
    "#25 # in aufgabensammlung\n",
    "\n",
    "from sympy import factorint\n",
    "\n",
    "factorint(9999)"
   ]
  },
  {
   "cell_type": "code",
   "execution_count": 37,
   "metadata": {},
   "outputs": [
    {
     "data": {
      "text/plain": [
       "181"
      ]
     },
     "execution_count": 37,
     "metadata": {},
     "output_type": "execute_result"
    }
   ],
   "source": [
    "#26 Geben Sie die 42te Primzahl aus.\n",
    "\n",
    "from sympy import prime\n",
    "\n",
    "prime(42)"
   ]
  },
  {
   "cell_type": "code",
   "execution_count": 3,
   "metadata": {},
   "outputs": [
    {
     "name": "stdout",
     "output_type": "stream",
     "text": [
      "Zwischenergebnis:  0.05761455\n",
      "0.125 0.05428681023790647 1e-08 18.420680743952367\n",
      "Ergebnis: b\n"
     ]
    }
   ],
   "source": [
    "'''\n",
    "Aufgabe #27\n",
    "Wenn man π(10^8) durch 10^8 teilt, was kommt dann ungefähr heraus?\n",
    "\n",
    "[ ] 1/8\n",
    "[x] 1/ln10^8 (ähnlich genug..)\n",
    "[ ] 10^-8\n",
    "[ ] ln10^8\n",
    "[ ] 8\n",
    "'''\n",
    "\n",
    "from sympy import primepi\n",
    "from math import log\n",
    "\n",
    "k = primepi(10**8)/10**8\n",
    "print(\"Zwischenergebnis: \", k)\n",
    "\n",
    "a = 1/8\n",
    "b = 1 / log(10**8)\n",
    "c = 10**-8\n",
    "d = log(10**8)\n",
    "\n",
    "print(a,b,c,d)\n",
    "print(\"Ergebnis: b\")"
   ]
  },
  {
   "cell_type": "code",
   "execution_count": 5,
   "metadata": {},
   "outputs": [
    {
     "name": "stdout",
     "output_type": "stream",
     "text": [
      "gibt ca. Anzahl aller Primzahlen bis n aus:\n",
      "3102103442166.0845\n",
      "1.7320508075688772\n",
      "\n",
      "\n",
      "gibt ca. die n-te Primzahl aus:\n",
      "3223619130191664.0\n"
     ]
    }
   ],
   "source": [
    "'''\n",
    "Aufgabe #28\n",
    "Welcher der folgenden Werte ist die beste Schätzung für die Anzahl der Primzahlen bis 10^14?\n",
    "[ ] 8·10^11    [x] 3·10^12    [ ] 7·10^12    [ ] 2·10^13\n",
    "'''\n",
    "\n",
    "from math import log\n",
    "\n",
    "n = 10**14\n",
    "\n",
    "print(\"gibt ca. Anzahl aller Primzahlen bis n aus:\")\n",
    "print(n / log(n)) \n",
    "\n",
    "# dann einfach nur mit den bestehenden Zahlen vergleichen und/oder Gemeinsamkeiten erkennen\n",
    "\n",
    "#29 \n",
    "\n",
    "from math import sqrt\n",
    "\n",
    "a = sqrt(3)\n",
    "b = a *\n",
    "\n",
    "\n",
    "print(\"\\n\")\n",
    "print(\"gibt ca. die n-te Primzahl aus:\")\n",
    "print(n * log(n)) #"
   ]
  },
  {
   "cell_type": "code",
   "execution_count": 43,
   "metadata": {},
   "outputs": [
    {
     "data": {
      "text/plain": [
       "4.276909229288297e+38"
      ]
     },
     "execution_count": 43,
     "metadata": {},
     "output_type": "execute_result"
    }
   ],
   "source": [
    "#30\n",
    "    \n",
    "n = 10**21\n",
    "ze = (n / log(n))\n",
    "ze = ze ** 2\n",
    "\n",
    "ze"
   ]
  },
  {
   "cell_type": "code",
   "execution_count": 20,
   "metadata": {},
   "outputs": [
    {
     "name": "stdout",
     "output_type": "stream",
     "text": [
      "1.8509217204924305e+19\n",
      "1.9e+19\n",
      "1.8e+20\n"
     ]
    }
   ],
   "source": [
    "#31\n",
    "\n",
    "# Primzahlsatz anwenden und Differenz berechnen\n",
    "\n",
    "a = 10**20 / log(10**20)\n",
    "b = 10**21 / log(10**21)\n",
    "\n",
    "print(b-a)\n",
    "\n",
    "print(1.9 * 10**19)\n",
    "print(1.8 * 10**20)\n",
    "\n",
    "# Beim Runden erhalten wir 1.9.... das heißt, dass die erste Zahl näher dran ist\n",
    "\n"
   ]
  },
  {
   "cell_type": "code",
   "execution_count": 3,
   "metadata": {},
   "outputs": [
    {
     "data": {
      "text/plain": [
       "'\\nfor i in range(1000,9999):\\n    if (isprime(i)):\\n        print(i)\\n'"
      ]
     },
     "execution_count": 3,
     "metadata": {},
     "output_type": "execute_result"
    }
   ],
   "source": [
    "#32 \n",
    "#Wenn man sich eine Liste aller vierstelligen Primzahlen, bei denen eine Ziffer dreimal vorkommt,\n",
    "#anschaut, dann kommt eine Ziffer in der gesamten Liste nie vor. Welche ist es?\n",
    "\n",
    "from sympy import isprime\n",
    "\n",
    "for i in range(1000,9999):\n",
    "    if (isprime(i)):\n",
    "        currentPrimAsString = str(i)\n",
    "        for z in range(0,10):\n",
    "            if (currentPrimAsString.count(str(z)) >= 3):\n",
    "                print(currentPrimAsString)\n",
    "        \n",
    "#0 ist nicht dabei!\n",
    "        \n",
    "    "
   ]
  },
  {
   "cell_type": "code",
   "execution_count": 1,
   "metadata": {},
   "outputs": [
    {
     "name": "stdout",
     "output_type": "stream",
     "text": [
      "111111\n",
      "222222\n",
      "333333\n",
      "444444\n",
      "555555\n",
      "666666\n",
      "777777\n",
      "888888\n",
      "999999\n"
     ]
    }
   ],
   "source": [
    "#33\n",
    "#Wie viele sechsstellige Primzahlen gibt es, bei denen alle sechs Ziffern identisch sind?\n",
    "\n",
    "from sympy import isprime\n",
    "\n",
    "i = 111111\n",
    "\n",
    "for b in range(1,10):\n",
    "    if (isprime(i*b)):\n",
    "        print(i, \"ist prim\")\n",
    "    else:\n",
    "        print(i*b, \"ist nicht prim\")"
   ]
  },
  {
   "cell_type": "code",
   "execution_count": 61,
   "metadata": {},
   "outputs": [
    {
     "name": "stdout",
     "output_type": "stream",
     "text": [
      "3 and 5 Paar Nr:  1\n",
      "5 and 7 Paar Nr:  2\n",
      "11 and 13 Paar Nr:  3\n",
      "17 and 19 Paar Nr:  4\n",
      "29 and 31 Paar Nr:  5\n",
      "41 and 43 Paar Nr:  6\n",
      "59 and 61 Paar Nr:  7\n",
      "71 and 73 Paar Nr:  8\n"
     ]
    }
   ],
   "source": [
    "#34\n",
    "#Ein Primzahlzwilling ist ein Paar von Primzahlen, deren Differenz zwei ist. Der erste Primzahlzwilling ist (3, 5).\n",
    "#Welches ist der siebte Primzahlzwilling?\n",
    "    \n",
    "def generate_twins(start, end):\n",
    "    counter = 0\n",
    "    for i in range(start, end):\n",
    "        j = i + 2\n",
    "        if(isprime(i) and isprime(j)):\n",
    "            counter = counter +1\n",
    "            print(\"{:d} and {:d}\".format(i, j), \"Paar Nr: \", counter)\n",
    "\n",
    "\n",
    "generate_twins(2, 100)"
   ]
  },
  {
   "cell_type": "code",
   "execution_count": 1,
   "metadata": {},
   "outputs": [
    {
     "data": {
      "text/plain": [
       "'\\n#ALARM\\n# 35 Bei welchen Zahlen gibt der Miller-Rabin-Test immer eine korrekte Antwort?\\n\\nNur bei Primzahlen\\n'"
      ]
     },
     "execution_count": 1,
     "metadata": {},
     "output_type": "execute_result"
    }
   ],
   "source": [
    "'''\n",
    "#ALARM\n",
    "#35 Bei welchen Zahlen gibt der Miller-Rabin-Test immer eine korrekte Antwort?\n",
    "\n",
    "Nur bei Primzahlen\n",
    "\n",
    "Erklärung:\n",
    "\n",
    "So, if N is a prime, then Miller–Rabin algorithm is always correct.\n",
    "On the other hand, if N is a composite number, then Miller–Rabin\n",
    "algorithm correctly classifies it as a composite number with\n",
    "probability > (1 − 2−t), where t is an input it takes. Intuitively, the\n",
    "Miller–Rabin only sometimes incorrectly classifies composite\n",
    "numbers as primes numbers\n",
    "\n",
    "'''"
   ]
  },
  {
   "cell_type": "code",
   "execution_count": 1,
   "metadata": {},
   "outputs": [
    {
     "data": {
      "text/plain": [
       "Fraction(26, 55)"
      ]
     },
     "execution_count": 1,
     "metadata": {},
     "output_type": "execute_result"
    }
   ],
   "source": [
    "'''\n",
    "#41 \n",
    "Geben Sie die Dezimalzahl 0.4'72' = 0.4727272727272... als gekürzten Bruch an.\n",
    "\n",
    "Von Kiwan:\n",
    "0.4-72- = 1/10 * 4.-72- = 1/10 * (4 + 72/99) = 1/10 * (396/99 + 72/99) = 1/10 * 468/99 = 468/990\n",
    "\n",
    "from fractions import Fraction\n",
    "Fraction(468, 990\n",
    "\n",
    "Meine Lösung:\n",
    "'''\n",
    "\n",
    "from fractions import Fraction\n",
    "\n",
    "#Das Limit_denominator sorgt dafür, dass er die nächste ganze Zahl sucht und ausgibt, die als Bruch dargestellt werden kann\n",
    "Fraction(0.4727272727272).limit_denominator()"
   ]
  },
  {
   "cell_type": "code",
   "execution_count": 3,
   "metadata": {},
   "outputs": [
    {
     "data": {
      "text/plain": [
       "'\\n#35 \\n\\n\\n'"
      ]
     },
     "execution_count": 3,
     "metadata": {},
     "output_type": "execute_result"
    }
   ],
   "source": [
    "'''\n",
    "#37\n",
    "Kreuzen Sie die Zahlen an, die nicht rational sind.\n",
    "\n",
    "[ ] 0.500000000000000000000000000000000000000000000000000000000000000000000\n",
    "[ ] 0.112123123411212312341121231234112123123411212312341121231234112123123\n",
    "[x] 0.112123123412345123456123456712345678123456789123456789101234567891011 \n",
    "[ ] 0.318424242424242424242424242424242424242424242424242424242424242424242\n",
    "[x] 0.010010001000010000010000001000000010000000010000000001000000000010000\n",
    "\n",
    "Erklärung:\n",
    "Zahlen, die periodisch sind, können trotzdem rational sein, solange sie einem \n",
    "konkreten Muster folgen, d.h. solange sie sich wiederholen.\n",
    "\n",
    "Wenn sie das nicht tun, dann sind sie nicht rational.\n",
    "'''"
   ]
  },
  {
   "cell_type": "code",
   "execution_count": 4,
   "metadata": {},
   "outputs": [
    {
     "data": {
      "text/plain": [
       "'\\n#35 \\n\\n\\n'"
      ]
     },
     "execution_count": 4,
     "metadata": {},
     "output_type": "execute_result"
    }
   ],
   "source": [
    "'''\n",
    "#38 \n",
    "Kreuzen Sie von den folgenden Zahlen die an, die irrational sind:\n",
    "\n",
    "[ ] Wurzel aus 81\n",
    "[x] Wurzel aus 91\n",
    "[ ] Wurzel aus 100\n",
    "[x] Wurzel aus 101\n",
    "[x] Wurzel aus 111\n",
    "[ ] Wurzel aus 121\n",
    "\n",
    "Erklärung:\n",
    "Real numbers have two categories: rational and irrational. \n",
    "If a square root is not a perfect square, then it is considered an \n",
    "irrational number. These numbers cannot be written as a fraction \n",
    "because the decimal does not end (non-terminating) and does not \n",
    "repeat a pattern (non-repeating).\n",
    "\n",
    "Perfect Square is a number that can be expressed as the \n",
    "product of two equal integers: \n",
    "9 = 3*3\n",
    "16 = 4*4\n",
    "25 = 5*5\n",
    "'''"
   ]
  },
  {
   "cell_type": "code",
   "execution_count": 8,
   "metadata": {},
   "outputs": [
    {
     "data": {
      "text/plain": [
       "'\\n#39 \\n\\n[x] Wurzel aus 8\\n[ ] Wurzel aus 2 * Wurzel aus 8 | Wurzel aus 16, also 4*4, also rational\\n[x] Wurzel aus 3 * Wurzel aus 3 * Wurzel aus 3\\n[ ] Wurzel aus 81\\n[x] Wurzel aus 111\\n[ ] Wurzel aus 121\\n\\n'"
      ]
     },
     "execution_count": 8,
     "metadata": {},
     "output_type": "execute_result"
    }
   ],
   "source": [
    "'''\n",
    "#39 \n",
    "\n",
    "Die ankreuzen, die irrational sind:\n",
    "\n",
    "[x] Wurzel aus 8\n",
    "[ ] Wurzel aus 2 * Wurzel aus 8 | Wurzel aus 16, also 4*4, also rational\n",
    "[x] Wurzel aus 3 * Wurzel aus 3 * Wurzel aus 3\n",
    "[ ] Wurzel aus 81\n",
    "[x] Wurzel aus 111\n",
    "[ ] Wurzel aus 121\n",
    "\n",
    "'''"
   ]
  },
  {
   "cell_type": "code",
   "execution_count": 16,
   "metadata": {},
   "outputs": [
    {
     "data": {
      "text/plain": [
       "Fraction(11, 16)"
      ]
     },
     "execution_count": 16,
     "metadata": {},
     "output_type": "execute_result"
    }
   ],
   "source": [
    "'''\n",
    "#40\n",
    "\n",
    "Geben Sie die Binarzahl 0.1011 dezimal als Bruch an.\n",
    "\n",
    "0.1111\n",
    "\n",
    "0 = 0\n",
    "1 = 1/2\n",
    "1 = 1/4\n",
    "1 = 1/8\n",
    "1 = 1/16\n",
    "\n",
    "0.1011\n",
    "'''\n",
    "\n",
    "1/2+1/8+1/16\n",
    "\n",
    "Fraction(0.6875)"
   ]
  },
  {
   "cell_type": "code",
   "execution_count": 2,
   "metadata": {},
   "outputs": [
    {
     "name": "stdout",
     "output_type": "stream",
     "text": [
      "Alternativ:  1/6\n"
     ]
    }
   ],
   "source": [
    "'''\n",
    "#41\n",
    "Geben Sie die Binärzahl 0.0-01- (Periode 01) = 0.00101010101010101... dezimal als gekürzten Bruch an.\n",
    "\n",
    "1. a) Komma verschieben und b) Periode isolieren bzw. mit so vielen Einsen wie Ziffern auffüllen bzw mit der höchsten Ziffer im Zahlensystem ... im Dezimalsystem also mit 9 \n",
    "    a) 0.0'01' -> 0.'01'\n",
    "    -> 1/10 * [b]\n",
    "    b) '01'    -> (01/11)\n",
    "    -> 1/10 + (01/11)\n",
    "    \n",
    "2. In Dezimal umwandeln und ausrechnen\n",
    "    1/2 * 1/3 = 1/6\n",
    "    -> 3. Wir wandeln 1/10 um und erhalten 1/2 in Dezimalschreibweise\n",
    "    -> 4. Wir wandeln 01/11 um und erhalten 1/3 in Dezimalschreibweise...\n",
    "    -> 5. Nun nur noch zusammenrechnen... Ergebnis: 1/6\n",
    "'''\n",
    "\n",
    "print(\"Alternativ: \",Fraction(0b1, 0b10)*Fraction(0b01, 0b11))"
   ]
  },
  {
   "cell_type": "code",
   "execution_count": 3,
   "metadata": {},
   "outputs": [
    {
     "name": "stdout",
     "output_type": "stream",
     "text": [
      "0.014285714285714285\n",
      "0.1875\n"
     ]
    }
   ],
   "source": [
    "'''\n",
    "#42\n",
    "Kreuzen Sie die Zahlen an, die man dezimal mit endlich vielen Nachkommastellen darstellen kann:\n",
    "\n",
    "Bei Dezimalzahlen dürfen die Primfaktoren des Nenners nur 2 und 5 sein.\n",
    "\n",
    "[x] 1/8 -> 2*2*2*2\n",
    "[x] 2/5 -> 5 \n",
    "[x] 3/16 -> 2*2*2*2*2 \n",
    "[x] 21/28 -> Kürzen zu 3/4 -> 2*2\n",
    "[ ] 1/70 \n",
    "\n",
    "alternativ einfach ausgeben und gucken, ob ultra lang (dann irrational) oder halt normal lol\n",
    "\n",
    "'''\n",
    "\n",
    "from fractions import Fraction\n",
    "\n",
    "Fraction(21/28)\n",
    "print(1/70)\n",
    "print(3/16)\n",
    "\n"
   ]
  },
  {
   "cell_type": "code",
   "execution_count": 22,
   "metadata": {},
   "outputs": [
    {
     "data": {
      "text/plain": [
       "'\\n#43\\nKreuzen Sie die Zahlen an, die man binär mit endlich vielen Nachkommastellen darstellen kann:\\n\\nBei Binärzahlen dürfen die Primfaktoren des Nenners nur 2 sein.\\n\\n[x] 1/8 -> 2*2*2*2\\n[ ] 2/5  \\n[x] 3/16 -> 2*2*2*2*2 \\n[x] 15/20 -> Kürzen zu 3/4 -> 2*2\\n[ ] 1/7 \\n'"
      ]
     },
     "execution_count": 22,
     "metadata": {},
     "output_type": "execute_result"
    }
   ],
   "source": [
    "'''\n",
    "#43\n",
    "Kreuzen Sie die Zahlen an, die man binär mit endlich vielen Nachkommastellen darstellen kann:\n",
    "\n",
    "Bei Binärzahlen dürfen die Primfaktoren des Nenners nur 2 sein.\n",
    "\n",
    "[x] 1/8 -> 2*2*2*2\n",
    "[ ] 2/5  \n",
    "[x] 3/16 -> 2*2*2*2*2 \n",
    "[x] 15/20 -> Kürzen zu 3/4 -> 2*2\n",
    "[ ] 1/7 \n",
    "'''\n"
   ]
  },
  {
   "cell_type": "code",
   "execution_count": 23,
   "metadata": {},
   "outputs": [
    {
     "data": {
      "text/plain": [
       "'\\n#44\\nKreuzen Sie die Zahlen an, die man oktal mit endlich vielen Nachkommastellen darstellen kann:\\n\\nBei Oktalzahlen dürfen die Primfaktoren des Nenners nur 2 sein.\\n\\n[ ] 3/5\\n[x] 1/8  \\n[x] 7/28 -> 1/4 -> 2*2 \\n[x] 5/16\\n[ ] 2/11 \\n\\n'"
      ]
     },
     "execution_count": 23,
     "metadata": {},
     "output_type": "execute_result"
    }
   ],
   "source": [
    "'''\n",
    "#44\n",
    "Kreuzen Sie die Zahlen an, die man oktal mit endlich vielen Nachkommastellen darstellen kann:\n",
    "\n",
    "Bei Oktalzahlen dürfen die Primfaktoren des Nenners nur 2 sein.\n",
    "\n",
    "[ ] 3/5\n",
    "[x] 1/8  \n",
    "[x] 7/28 -> 1/4 -> 2*2 \n",
    "[x] 5/16\n",
    "[ ] 2/11 \n",
    "\n",
    "'''"
   ]
  },
  {
   "cell_type": "code",
   "execution_count": 6,
   "metadata": {},
   "outputs": [
    {
     "name": "stdout",
     "output_type": "stream",
     "text": [
      "15.954589770191003\n"
     ]
    },
    {
     "data": {
      "text/plain": [
       "Fraction(1, 4)"
      ]
     },
     "execution_count": 6,
     "metadata": {},
     "output_type": "execute_result"
    }
   ],
   "source": [
    "'''\n",
    "#45\n",
    "Kreuzen Sie die Zahlen an, die man oktal mit endlich vielen Nachkommastellen darstellen kann:\n",
    "\n",
    "Bei Oktalzahlen dürfen die Primfaktoren des Nenners nur 2 sein.\n",
    "\n",
    "[x] 3/8\n",
    "[ ] 2/7  \n",
    "[x] Wurzel aus 1/4 -> 0,5 -> 1/2\n",
    "[x] 75/200 -> 3/8\n",
    "[ ] 1/2 -> Irrationale Zahl\n",
    "\n",
    "'''\n",
    "'''\n",
    "#46\n",
    "\n",
    "[x] Man kann nur endlich viele Zahlen korrekt darstellen. (Man hat nur endlich viele Bits zur Verfügung.)\n",
    "[ ] Es wird immer so gerundet, dass die letzte Binärstelle der Mantisse gerade ist. #ALARM\n",
    "[x] Eine Maschinenzahl kann Repräsentant für verschiedene Zahlen sein.\n",
    "[ ] Die dezimale Genauigkeit des double-Formats beträgt 53-Stellen. #ALARM\n",
    "    53*log zur Basis 10 (2) ~~ 16\n",
    "'''\n",
    "import math\n",
    "\n",
    "dezimaleGenauigkeit = 53 * math.log10(2)\n",
    "\n",
    "print(dezimaleGenauigkeit)\n",
    "\n",
    "#Bei Float ist es 7-8 ungefähr...\n",
    "\n",
    "'''\n",
    "\n",
    "#47\n",
    "[x] Jede Maschinenzahl ist Stellvertreter für unendlich viele rationale Zahlen.\n",
    "[ ] -> Man kann nur so gut annähren, wie man Stellen zur Verfügung hat, also nicht beliebig gut.\n",
    "[x] \n",
    "[ ] Endliche Anzahl von Maschinenzahlen...\n",
    "[x] Nein, weil Frank das sagt. :-)\n",
    "    Vielleicht irrt sich Frank... denn die TU Berlin sagt: Die Genuigkeit ... (der Abstand zwischen zwei benachbarten Zahlen ist immer gleich).\n",
    "    Also vielleicht doch? #ALARM\n",
    "\n",
    "#48\n",
    "\n",
    "Man muss erstmal bis zur ersten 1 verschieben... Die wird dann einmal weggekickt und stellt das hidden bit dar. Das heißt in diesem Fall\n",
    "muss das Ergebnis mit 10 beginnen... Bleiben nur noch zwei Möglichkeiten. \n",
    "\n",
    "Jetzt wird gecheckt, ob gerundet werden muss. Bei der ersten Option wird die letzte 1 weggeschnitten, das heißt, dass eigentlich\n",
    "hätte gerundet werden müssen... Wurde es da aber nicht. Bei der unteren Option wurde das gemacht. Das heißt, Option 3 ist korrekt.\n",
    "\n",
    "#49\n",
    "\n",
    "Gleiche  Anzahl von Nullen und Einsen... Dennn obwohl die erste EIns einmal weggeschnitten wird, halten sie sich die Waage. Am Ende ändert auch das Aufrunden nichts.\n",
    "\n",
    "#50\n",
    "\n",
    "[ ] Nein, weil irrational\n",
    "[x] Ja, denn 1/2\n",
    "[ ] Geht nicht. Mit Fraction überprüfen, wenn nicht glatt, dann geht's nicht. \n",
    "[x] Geht, weil die Mantisse 52-Stellen hat, also passt die 42 rein.\n",
    "[x] Geht, wegen dem -1.\n",
    "[ ] Zu Groß\n",
    "\n",
    "#51\n",
    "[x] 0.375 Mit Fraction überprüfen, geht!\n",
    "[ ] 1.41\n",
    "[x] Wurzel aus 1/4 -> 0,5 -> 1/2 Geht!\n",
    "[ ] Irrational, geht nicht\n",
    "[ ] Zu groß, geht nicht\n",
    "[ ] Zu groß, geht auch nicht\n",
    "'''\n",
    "\n",
    "Fraction(1/4)"
   ]
  },
  {
   "cell_type": "code",
   "execution_count": 7,
   "metadata": {},
   "outputs": [
    {
     "name": "stdout",
     "output_type": "stream",
     "text": [
      "Wurzel aus 3: 1.7320508075688772\n",
      "Überprüfung:  1.7320508075679721\n"
     ]
    }
   ],
   "source": [
    "#52 \n",
    "#Geben Sie einen Bruch an, der sich von Wurzel aus 3 um weniger als 10^-4 unterscheidet.\n",
    "\n",
    "import math\n",
    "\n",
    "math.sqrt(3)\n",
    "\n",
    "# 10^-4 = 0.00010\n",
    "\n",
    "Fraction(math.sqrt(3)).limit_denominator()\n",
    "\n",
    "print(\"Wurzel aus 3:\", math.sqrt(3))\n",
    "print(\"Überprüfung: \",1694157/978122)"
   ]
  },
  {
   "cell_type": "code",
   "execution_count": 11,
   "metadata": {},
   "outputs": [
    {
     "name": "stdout",
     "output_type": "stream",
     "text": [
      "930249/416020\n",
      "Wurzel aus 5:  2.23606797749979\n",
      "Ergebnis (930249/416020) als Dezimalzahl:  2.2360679775010817\n",
      "Überprüfung:  5.000000000005778\n"
     ]
    }
   ],
   "source": [
    "'''\n",
    "#53\n",
    "\n",
    "Geben Sie einen Bruch an, dessen Quadrat sich um weniger als 10^-2 von 5 unterscheidet.\n",
    "'''\n",
    "import math\n",
    "\n",
    "print(Fraction(math.sqrt(5)).limit_denominator())\n",
    "print(\"Wurzel aus 5: \", math.sqrt(5))\n",
    "print(\"Ergebnis (930249/416020) als Dezimalzahl: \", 930249/416020)\n",
    "print(\"Überprüfung: \",(930249/416020)**2)"
   ]
  },
  {
   "cell_type": "code",
   "execution_count": 64,
   "metadata": {},
   "outputs": [
    {
     "ename": "TypeError",
     "evalue": "'Fraction' object cannot be interpreted as an integer",
     "output_type": "error",
     "traceback": [
      "\u001b[1;31m---------------------------------------------------------------------------\u001b[0m",
      "\u001b[1;31mTypeError\u001b[0m                                 Traceback (most recent call last)",
      "\u001b[1;32m<ipython-input-64-0ffa25d9d621>\u001b[0m in \u001b[0;36m<module>\u001b[1;34m()\u001b[0m\n\u001b[0;32m     10\u001b[0m \u001b[0mb\u001b[0m \u001b[1;33m=\u001b[0m \u001b[0mmath\u001b[0m\u001b[1;33m.\u001b[0m\u001b[0msqrt\u001b[0m\u001b[1;33m(\u001b[0m\u001b[1;36m10\u001b[0m\u001b[1;33m)\u001b[0m\u001b[1;33m-\u001b[0m\u001b[1;36m3\u001b[0m\u001b[1;33m\u001b[0m\u001b[0m\n\u001b[0;32m     11\u001b[0m \u001b[1;33m\u001b[0m\u001b[0m\n\u001b[1;32m---> 12\u001b[1;33m \u001b[1;32mfor\u001b[0m \u001b[0mi\u001b[0m \u001b[1;32min\u001b[0m \u001b[0mrange\u001b[0m \u001b[1;33m(\u001b[0m\u001b[0mFraction\u001b[0m\u001b[1;33m(\u001b[0m\u001b[0ma\u001b[0m\u001b[1;33m)\u001b[0m\u001b[1;33m,\u001b[0m \u001b[0mFraction\u001b[0m\u001b[1;33m(\u001b[0m\u001b[0mb\u001b[0m\u001b[1;33m)\u001b[0m\u001b[1;33m)\u001b[0m\u001b[1;33m:\u001b[0m\u001b[1;33m\u001b[0m\u001b[0m\n\u001b[0m\u001b[0;32m     13\u001b[0m     \u001b[0mprint\u001b[0m\u001b[1;33m(\u001b[0m\u001b[0mi\u001b[0m\u001b[1;33m)\u001b[0m\u001b[1;33m\u001b[0m\u001b[0m\n",
      "\u001b[1;31mTypeError\u001b[0m: 'Fraction' object cannot be interpreted as an integer"
     ]
    }
   ],
   "source": [
    "'''\n",
    "#54 #ALARM Wir sind uns nicht sicher, (aber wir sind sehr stolz auf uns)\n",
    "\n",
    "Zwischen PI - 3 und (Wurzel aus 10)-3 liegen unendlich viele Brüche. Bei wie vielen dieser Bruche ist der Nenner\n",
    "kleiner als 20, wenn sie in gekurzter Form dargestellt werden? \n",
    "[Hinweis: Schreiben Sie sich dafur ein kleines Programm.]\n",
    "'''\n",
    "\n",
    "import math\n",
    "from fractions import Fraction\n",
    "\n",
    "rangeMin = math.pi-3\n",
    "rangeMax = math.sqrt(10)-3\n",
    "maxNenner = 19\n",
    "numberOfFractions = set()\n",
    "\n",
    "for n in range(1,maxNenner+1):\n",
    "    for z in range (1,maxNenner+1):\n",
    "        q = Fraction(n,z)\n",
    "        if(q >= rangeMin and q <= rangeMax): # Letzte Bedingung muss per Hand überprüft werden\n",
    "            numberOfFractions.add(q)\n",
    "            print(\"Bruch: \", q)\n",
    "            \n",
    "print(\"Anzahl: \", len(numberOfFractions))\n",
    "print()\n",
    "print(\"Zur Kontrolle\")\n",
    "print(\"Min: \", rangeMin, \"Max: \", rangeMax)\n",
    "print(3/19)\n",
    "print(2/13)\n",
    "print(1/7)"
   ]
  },
  {
   "cell_type": "code",
   "execution_count": 73,
   "metadata": {},
   "outputs": [
    {
     "name": "stdout",
     "output_type": "stream",
     "text": [
      "930249/416020\n"
     ]
    }
   ],
   "source": [
    "'''\n",
    "#55\n",
    "\n",
    "1) q ist größer als Wurzel aus 5\n",
    "2) q - Wurzel aus 5 ist kleiner als 10^-4\n",
    "3) Der Nenner von q ist kleiner als 100 000\n",
    "\n",
    "'''\n",
    "min = math.sqrt(5)\n",
    "\n",
    "maxMinusSqrt = 10**-4\n",
    "maxNenner = 200 # der eigentlich max-Nenner ist natürlich größer, aber falls wir vorher etwas finden, ist die Aufgabe ja auch erledigt... und das dauert dann nicht so lange in der Loop\n",
    "\n",
    "for n in range(1,maxNenner+1):\n",
    "    for z in range (1,maxNenner+1):\n",
    "        q = Fraction(n,z)\n",
    "        if(q > min and ((q - math.sqrt(5)) < maxMinusSqrt)):\n",
    "            print(\"Bruch: \", q)\n",
    "            \n",
    "            \n",
    "print(\"Zwei Lösungen aus der Schleife: \")\n",
    "\n",
    "print(\"\\n\\nKontrolle für (161/72):\",161/72)\n",
    "print(\"Bedingung 1: min: \", min, \"\\nBedingung 2: nicht größer als q-Wurzel aus 5:\", maxMinusSqrt)\n",
    "print(\"Wert - Wurzel aus 5: \", '{:f}'.format((161/72)-min), \"<\",maxMinusSqrt)\n",
    "\n",
    "'''\n",
    "#wert = 7.660081346338998e-05\n",
    "#'{:f}'.format(wert)\n",
    "\n",
    "Das sorgt dafür, dass so kryptische Darstellungen wie 5944E-49 als normale Zahl dargestellt werden.\n",
    "'''\n",
    "\n",
    "print(\"\\n\\nKontrolle für (928/415):\",928/415)\n",
    "print(\"Bedingung 1: min: \", min, \"\\nBedingung 2: nicht größer als q-Wurzel aus 5:\", maxMinusSqrt)\n",
    "print(\"Wert - Wurzel aus 5: \", '{:f}'.format((928/415)-min), \"<\",maxMinusSqrt)\n",
    "\n"
   ]
  },
  {
   "cell_type": "code",
   "execution_count": 75,
   "metadata": {},
   "outputs": [
    {
     "data": {
      "text/plain": [
       "'\\n#58 Sei A die Menge der durch 3 teilbaren Primzahlen. Welche der folgenden Aussagen sind wahr?\\n\\n[] A = {3} \\n[] A = P Durchschnitt {3n : n E N}\\n[] A = P Vereinigung {3n : n E N}\\n[] A Teilmenge P\\n[] A = {p E P:p mod 3 = 1}\\n\\n[] Keine der Aussagen ist wahr\\n\\n\\n#59\\n\\n[]\\n[]\\n[]\\n[]\\n'"
      ]
     },
     "execution_count": 75,
     "metadata": {},
     "output_type": "execute_result"
    }
   ],
   "source": [
    "'''\n",
    "#56\n",
    "\n",
    "Kreuzen Sie von den folgenden Mengen die an, die das Element 11 enthalten:\n",
    "\n",
    "[ ] {x E Z: x**2 < 100} \n",
    "    11**2 ist größer als 100, also ist 11 nicht dabei.\n",
    "[ ] {mn: m; n E P}\n",
    "    m*n ... d.h., dass wir zwei Primzahlen brauchen, die 11 ergeben. Geht nicht!\n",
    "[x] {x E N: x < 100}\n",
    "[ ] Q \\ R\n",
    "    Leere Menge, denn R enthält alles, was Q enthält und noch viel mehr (alle bösen irrationalen Zahlen!).\n",
    "[ ] {x E Q: x =/= 0 und x**-1 >= 11}\n",
    "    11 kann da nicht drin sein, weil 11**-1 kleiner als 11 ist.\n",
    "    \n",
    "#57\n",
    "\n",
    "Kreuzen Sie von den folgenden Mengen die an, die das Element 42 enthalten:\n",
    "\n",
    "[x] {m - n: m,n E N}\n",
    "    z.B. 43,1 ... alles, was sich so darstellen lässt, ist in der neuen Menge drin, heißt auch 42.\n",
    "[x] {x E Q: x =!= 0 und x**-1 < 1}\n",
    "    Einfach mathematisch durch Python überprüfen...\n",
    "[ ] {x E Z: x**2 <= 49}\n",
    "    42**2 muss größer als 49 sein, deswegen ist 42 nicht enthalten.\n",
    "[ ] {x E P: x < 100}\n",
    "    42 ist keine Primzahl.\n",
    "[ ] R \\ Q\n",
    "    Es bleiben nur die irrationalen Zahlen über und 42 ist eine rationale Zahl.\n",
    "    \n",
    "#58 Sei A die Menge der durch 3 teilbaren Primzahlen. Welche der folgenden Aussagen sind wahr?\n",
    "\n",
    "[x] A = {3} \n",
    "[x] A = P Durchschnitt {3n : n E N}\n",
    "[] A = P Vereinigung {3n : n E N}\n",
    "    Hier sind alle Primzahlen drin und auch mehr, und das geht nicht.\n",
    "[x] A Teilmenge P\n",
    "[] A = {p E P:p mod 3 = 1}\n",
    "    13 ist drin, aber 3 nicht, also geht das nicht.\n",
    "\n",
    "[] Keine der Aussagen ist wahr\n",
    "\n",
    "\n",
    "#59\n",
    "\n",
    "Sei A die Menge aller irrationalen reellen Zahlen. Welche der folgenden Aussangen sind wahr?\n",
    "\n",
    "[] A = R Durchschnitt Q\n",
    "    Da sind nur rationale Zahlen drin, also nur Q.\n",
    "[x] A = R \\ Q\n",
    "    Hier bleiben nur die irrationalen Zahlen über.\n",
    "[] A = Q \\ R\n",
    "    Leere Menge\n",
    "[] A Teilmenge Q\n",
    "    Ist nicht wahr.\n",
    "[x] A Durchschnitt Q = Leere Menge\n",
    "\n",
    "#60\n",
    "\n",
    "A,C | B,E | D,I | G,H | F,J\n",
    "\n",
    "A = R\n",
    "B = (leere Menge) Vereinigung N -> N \n",
    "C = R\n",
    "D = 0\n",
    "E = N\n",
    "F = Leere Menge\n",
    "G = 2*Wurzel aus 2 -> Wurzel aus 8\n",
    "H = math.sqrt(8), Wurzel aus 8\n",
    "I = 0\n",
    "J = Leere Menge\n",
    "\n",
    "#61\n",
    "\n",
    "B,E | A,C | D,G | F,J | H,I|\n",
    "\n",
    "A = R\n",
    "B = (leere Menge) Vereinigung N -> N \n",
    "C = R\n",
    "D = 0\n",
    "E = N\n",
    "F = Leere Menge\n",
    "G = 0\n",
    "H = Wurzel aus 8\n",
    "I = 2*Wurzel aus 2 bzw Wurzel aus 8\n",
    "J = Leere Menge\n",
    "\n",
    "'''\n",
    "\n",
    "\n",
    "\n"
   ]
  },
  {
   "cell_type": "code",
   "execution_count": 7,
   "metadata": {},
   "outputs": [
    {
     "name": "stdout",
     "output_type": "stream",
     "text": [
      "11 {0.0, 1.0, 2.0, 3.0, -0.5, 0.5, -0.3333333333333333, 0.3333333333333333, -1.0, -3.0, -2.0}\n"
     ]
    }
   ],
   "source": [
    "'''\n",
    "#62 Wieviele Elemente hat die folgende Menge?\n",
    "'''\n",
    "\n",
    "A = set()\n",
    "\n",
    "for q in range(1,4):\n",
    "    for p in range(-3,4):\n",
    "        if(abs(p*q)) <= 3:\n",
    "            A.add(p/q)\n",
    "\n",
    "print(len(A), A)"
   ]
  },
  {
   "cell_type": "code",
   "execution_count": 96,
   "metadata": {},
   "outputs": [
    {
     "data": {
      "text/plain": [
       "{frozenset({1}), frozenset({1, 4}), frozenset({1, 2}), frozenset({1, 2, 4})}"
      ]
     },
     "execution_count": 96,
     "metadata": {},
     "output_type": "execute_result"
    }
   ],
   "source": [
    "'''\n",
    "#63 Sei A = {1, 2, 4} und B = {2, 3, 4}. Wie viele Elemente hat die Menge Potenzmenge(A) \\ Potenzmenge(B)?\n",
    "\n",
    "Das kosmische P ist die Potenzmenge. Siehe https://wikimedia.org/api/rest_v1/media/math/render/svg/038c6b5ab1bf073dad64d1cfbada2b62f773c635\n",
    "\n",
    "Verhält sich folgendermaßen: P von A = Leere Menge, 1,2,4,{1,2,4},{1,2},{1,4},{4,2}\n",
    "'''\n",
    "\n",
    "\n",
    "def getPowerSet(s):\n",
    "\n",
    "    power_set = {frozenset()}\n",
    "\n",
    "    for element in s:\n",
    "        one_element_set = frozenset({element})\n",
    "        power_set |= {subset | one_element_set for subset in power_set}\n",
    "\n",
    "    return power_set\n",
    "\n",
    "A = getPowerSet({1,2,4})\n",
    "B = getPowerSet({2,3,4})\n",
    "\n",
    "C = A-B\n",
    "\n",
    "C"
   ]
  },
  {
   "cell_type": "code",
   "execution_count": 3,
   "metadata": {},
   "outputs": [
    {
     "name": "stdout",
     "output_type": "stream",
     "text": [
      "\tA**2 \\ B**2: {(1, 2), (1, 3), (3, 1), (2, 1), (1, 1)}\n",
      "\t(A\\B)**2 {(1, 1)}\n",
      "Lösung: z.B. (1,2) oder (1,3) oder (3,1) ...\n"
     ]
    }
   ],
   "source": [
    "''' #64\n",
    "#ALARM ist das richtig?\n",
    "\n",
    "Sei A = {1,2,3} und B = {2,3,4}\n",
    "Geben Sie ein geordnetes Paar an, das Element von A**2 \\ B**2, \n",
    "aber nicht Element von (A \\ B)**2 ist.\n",
    "\n",
    "Wichtig: Hier geht es um geordnete Paare, nicht um Potenzmengen!\n",
    "'''\n",
    "\n",
    "A = {1,2,3}\n",
    "B = {2,3,4}\n",
    "\n",
    "AAKP = set()\n",
    "BBKP = set()\n",
    "\n",
    "for a1 in A :\n",
    "    for a2 in A:\n",
    "        AAKP.add((a1,a2))\n",
    "for b1 in B:\n",
    "    for b2 in B:\n",
    "        BBKP.add((b1,b2))\n",
    "        \n",
    "AAMinusBBKP = AAKP-BBKP\n",
    "print(\"\\tA**2 \\ B**2:\", AAMinusBBKP)\n",
    "\n",
    "AMinusB = A-B\n",
    "AMinusBKP = set() #Kreuzprodukt\n",
    "\n",
    "for ab1 in AMinusB:\n",
    "    for ab2 in AMinusB:\n",
    "        AMinusBKP.add((ab1,ab2))\n",
    "\n",
    "print(\"\\t(A\\B)**2\", AMinusBKP)\n",
    "\n",
    "\n",
    "print(\"Lösung: z.B. (1,2) oder (1,3) oder (3,1) ...\")"
   ]
  },
  {
   "cell_type": "code",
   "execution_count": 110,
   "metadata": {},
   "outputs": [
    {
     "name": "stdout",
     "output_type": "stream",
     "text": [
      "{0, 1, 2, 3, 4, 6, 9, -2, -6, -4, -3, -1}\n",
      "Antwort:  12\n"
     ]
    }
   ],
   "source": [
    "'''\n",
    "#65\n",
    "Sei A = {-2,-1,0,1,2,3}. Geben Sie die Mächtigkeit von B = {xy: x,y E A} an.\n",
    "'''\n",
    "\n",
    "A = {-2,-1,0,1,2,3}\n",
    "B = set()\n",
    "\n",
    "for x in A:\n",
    "    for y in A:\n",
    "        B.add(x*y)\n",
    "        \n",
    "print(\"Lösung: \",len(B), B)"
   ]
  },
  {
   "cell_type": "code",
   "execution_count": 118,
   "metadata": {
    "scrolled": true
   },
   "outputs": [
    {
     "data": {
      "text/plain": [
       "463"
      ]
     },
     "execution_count": 118,
     "metadata": {},
     "output_type": "execute_result"
    }
   ],
   "source": [
    "'''\n",
    "#66 Sei A die Menge der ersten 22 Primzahlen und B = {m/n : m,n E A}. Geben Sie die Mächtigkeit von B an.\n",
    "'''\n",
    "\n",
    "from sympy import prime\n",
    "\n",
    "A = set()\n",
    "\n",
    "for i in range(1,23):\n",
    "    A.add(prime(i))\n",
    "\n",
    "B = set()\n",
    "for m in A:\n",
    "    for n in A:\n",
    "        B.add(m/n)\n",
    "        \n",
    "len(B)"
   ]
  },
  {
   "cell_type": "code",
   "execution_count": 5,
   "metadata": {},
   "outputs": [
    {
     "data": {
      "text/plain": [
       "24"
      ]
     },
     "execution_count": 5,
     "metadata": {},
     "output_type": "execute_result"
    }
   ],
   "source": [
    "'''\n",
    "#67 Sei A die Menge der ersten 23 Primzahlen und B die Menge {ggT(m, n): m,n E A}. Geben Sie die Mächtigkeit von B an.\n",
    "\n",
    "'''\n",
    "from sympy import prime\n",
    "import math\n",
    "\n",
    "A = set()\n",
    "\n",
    "for i in range(1,24):\n",
    "    A.add(prime(i))\n",
    "\n",
    "B = set()\n",
    "for m in A:\n",
    "    for n in A:\n",
    "        B.add(math.gcd(m,n))\n",
    "        \n",
    "len(B)"
   ]
  },
  {
   "cell_type": "code",
   "execution_count": 125,
   "metadata": {},
   "outputs": [
    {
     "data": {
      "text/plain": [
       "820"
      ]
     },
     "execution_count": 125,
     "metadata": {},
     "output_type": "execute_result"
    }
   ],
   "source": [
    "'''\n",
    "#68 Sei A die Menge der ersten 40 Primzahlen und B = {m*n : m,n E A}. Geben Sie die Mächtigkeit von B an.\n",
    "'''\n",
    "\n",
    "from sympy import prime\n",
    "\n",
    "A = set()\n",
    "\n",
    "for i in range(1,41):\n",
    "    A.add(prime(i))\n",
    "\n",
    "B = set()\n",
    "for m in A:\n",
    "    for n in A:\n",
    "        B.add(m*n)\n",
    "        \n",
    "len(B)"
   ]
  },
  {
   "cell_type": "code",
   "execution_count": 21,
   "metadata": {},
   "outputs": [
    {
     "name": "stdout",
     "output_type": "stream",
     "text": [
      "Anzahl der Elemente:  10 \n",
      "Ergebnis: 31\n",
      "100\n"
     ]
    }
   ],
   "source": [
    "'''\n",
    "#69 Sei A = {p E P: p < q}. Für welche Primzahl q gilt |A x A| = 100?\n",
    "#q ist hier einfach nur stellvertretend für eine Zahl, z.B. 11... Muss eine Primzahl sein.\n",
    "\n",
    "Anzahl von A bei |A x A| berechnen: Wurzel von 100 = 10\n",
    "'''\n",
    "\n",
    "import math\n",
    "from sympy import prime\n",
    "\n",
    "numberOfElementsInA = int(math.sqrt(100))\n",
    "q = prime(numberOfElementsInA + 1)\n",
    "\n",
    "A = set()\n",
    "\n",
    "#generiert uns die Menge A, die aus Primzahlen kleiner als q besteht\n",
    "for i in range(1,numberOfElementsInA+1):\n",
    "    A.add(prime(i))\n",
    "    \n",
    "print(\"Lösung: \", q)\n",
    "print(\"Menge A: \", A)"
   ]
  },
  {
   "cell_type": "code",
   "execution_count": null,
   "metadata": {},
   "outputs": [],
   "source": [
    "'''\n",
    "#70\n",
    "\n",
    "A, B und C sind Mengen, die jeweils 30 Elemente haben. A Durchschnitt B hat fünf Elemente, A Durchschnitt C hat sechs\n",
    "Elemente. Ferner sind A Durchschnitt B und A Durchschnitt C disjunkt und es gilt |A Vereinigung B Vereinigung C | = 70. Wie viele Elemente\n",
    "hat B Durchschnitt C?\n",
    "'''\n",
    "\n",
    "#Endliche Kombinatorik, Inklusion, Exklusion\n",
    "#ALARM"
   ]
  }
 ],
 "metadata": {
  "kernelspec": {
   "display_name": "Python 3",
   "language": "python",
   "name": "python3"
  },
  "language_info": {
   "codemirror_mode": {
    "name": "ipython",
    "version": 3
   },
   "file_extension": ".py",
   "mimetype": "text/x-python",
   "name": "python",
   "nbconvert_exporter": "python",
   "pygments_lexer": "ipython3",
   "version": "3.6.5"
  }
 },
 "nbformat": 4,
 "nbformat_minor": 2
}
