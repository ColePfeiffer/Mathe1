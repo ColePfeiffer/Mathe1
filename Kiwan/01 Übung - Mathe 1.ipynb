{
 "cells": [
  {
   "cell_type": "code",
   "execution_count": 3,
   "metadata": {},
   "outputs": [
    {
     "data": {
      "text/plain": [
       "[5,\n",
       " 5,\n",
       " 10,\n",
       " 10,\n",
       " 13,\n",
       " 13,\n",
       " 15,\n",
       " 15,\n",
       " 17,\n",
       " 17,\n",
       " 20,\n",
       " 20,\n",
       " 25,\n",
       " 25,\n",
       " 25,\n",
       " 25,\n",
       " 26,\n",
       " 26,\n",
       " 29,\n",
       " 29,\n",
       " 30,\n",
       " 30]"
      ]
     },
     "execution_count": 3,
     "metadata": {},
     "output_type": "execute_result"
    }
   ],
   "source": [
    "def hyp(n):\n",
    "    a=1\n",
    "    b=1\n",
    "    c=1\n",
    "    hypList=[]\n",
    "    \n",
    "    while len(hypList) <= n:\n",
    "        #print(\"c=\", c)\n",
    "        c += 1\n",
    "        a = 1\n",
    "        while a<c:\n",
    "            #print(\"a=\",a)\n",
    "            a += 1\n",
    "            b = 1\n",
    "            while b < c:\n",
    "                #print(\"b=\",b)\n",
    "                \n",
    "                if c*c==a*a+b*b:\n",
    "                #if (c/c)%10==0:\n",
    "                    hypList.append(c)\n",
    "                b += 1\n",
    "                \n",
    "    return hypList\n",
    "             \n",
    "hyp(20)\n",
    "\n",
    "#einige Ergebnisse werden mehrfach ausgegeben\n",
    "#nicht die optimale Lösung"
   ]
  },
  {
   "cell_type": "code",
   "execution_count": 10,
   "metadata": {},
   "outputs": [
    {
     "data": {
      "text/plain": [
       "3"
      ]
     },
     "execution_count": 10,
     "metadata": {},
     "output_type": "execute_result"
    }
   ],
   "source": [
    "def hyp(n):\n",
    "    a=1\n",
    "    b=1\n",
    "    c=1\n",
    "    hypList=[]\n",
    "    \n",
    "def moin()    \n",
    "    while len(hypList) <= n:\n",
    "        #print(\"c=\", c)\n",
    "        c += 1\n",
    "        a = 1\n",
    "        while a<c:\n",
    "            #print(\"a=\",a)\n",
    "            a += 1\n",
    "            b = 1\n",
    "            while b < c:\n",
    "                #print(\"b=\",b)\n",
    "                \n",
    "                if c*c==a*a+b*b:\n",
    "                #if (c/c)%10==0:\n",
    "                    hypList.append(c)\n",
    "                b += 1\n",
    "                \n",
    "    return hypList\n",
    "             \n",
    "hyp(20)"
   ]
  },
  {
   "cell_type": "code",
   "execution_count": null,
   "metadata": {},
   "outputs": [],
   "source": []
  }
 ],
 "metadata": {
  "kernelspec": {
   "display_name": "Python 3",
   "language": "python",
   "name": "python3"
  },
  "language_info": {
   "codemirror_mode": {
    "name": "ipython",
    "version": 3
   },
   "file_extension": ".py",
   "mimetype": "text/x-python",
   "name": "python",
   "nbconvert_exporter": "python",
   "pygments_lexer": "ipython3",
   "version": "3.7.1"
  }
 },
 "nbformat": 4,
 "nbformat_minor": 2
}
