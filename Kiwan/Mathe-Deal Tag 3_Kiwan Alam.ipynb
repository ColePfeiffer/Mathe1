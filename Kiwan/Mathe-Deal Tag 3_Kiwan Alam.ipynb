{
 "cells": [
  {
   "cell_type": "code",
   "execution_count": 1,
   "metadata": {},
   "outputs": [
    {
     "data": {
      "text/plain": [
       "120"
      ]
     },
     "execution_count": 1,
     "metadata": {},
     "output_type": "execute_result"
    }
   ],
   "source": [
    "#Aufgabe 1)\n",
    "\n",
    "def faculty (n):\n",
    "    f = 1\n",
    "    for i in range(1, n+1):\n",
    "        f *= i\n",
    "    return f\n",
    "\n",
    "faculty(5)"
   ]
  },
  {
   "cell_type": "code",
   "execution_count": 2,
   "metadata": {},
   "outputs": [
    {
     "data": {
      "text/plain": [
       "33"
      ]
     },
     "execution_count": 2,
     "metadata": {},
     "output_type": "execute_result"
    }
   ],
   "source": [
    "#Aufgabe 2)\n",
    "\n",
    "def intervallSum (startValue, endValue):\n",
    "    v = 0\n",
    "    for i in range(startValue, endValue+1):\n",
    "        v += i\n",
    "    return v\n",
    "\n",
    "intervallSum(3, 8)"
   ]
  },
  {
   "cell_type": "code",
   "execution_count": 3,
   "metadata": {},
   "outputs": [
    {
     "name": "stdout",
     "output_type": "stream",
     "text": [
      "12\n",
      "25\n",
      "10000\n"
     ]
    }
   ],
   "source": [
    "#Aufgabe 3)\n",
    "\n",
    "def sum (n, odd):\n",
    "    s = 0\n",
    "    if odd == True:\n",
    "        for i in range(1, n*2, 2): #für mich: für ungerade Zahlen als Endwert n*2-1 (in for-Schleife also n*2)\n",
    "            s += i\n",
    "    elif odd == False:\n",
    "        for i in range(2, n*2+1, 2):#für mich: für ungerade Zahlen als Endwert n*2 (in for-Schleife also n*2+1)\n",
    "            s += i\n",
    "    return s\n",
    "\n",
    "print(sum(3, False))\n",
    "print(sum(5, True))\n",
    "print(sum(100, True))\n",
    "#ich habe hier print verwendet, damit ich alles in eine Zelle schreiben kann"
   ]
  },
  {
   "cell_type": "code",
   "execution_count": 4,
   "metadata": {},
   "outputs": [
    {
     "data": {
      "text/plain": [
       "4"
      ]
     },
     "execution_count": 4,
     "metadata": {},
     "output_type": "execute_result"
    }
   ],
   "source": [
    "#Aufgabe 4)\n",
    "\n",
    "def modulo (zaehler, nenner, restklasse):\n",
    "    for x in range (1, restklasse):\n",
    "        if (nenner * x) % restklasse == zaehler:\n",
    "            return x\n",
    "        \n",
    "modulo(2, 3, 5)"
   ]
  },
  {
   "cell_type": "code",
   "execution_count": 23,
   "metadata": {
    "scrolled": true
   },
   "outputs": [
    {
     "name": "stdout",
     "output_type": "stream",
     "text": [
      "a1b1 ist kleiner als a2b2\n"
     ]
    }
   ],
   "source": [
    "#Aufgabe 5)\n",
    "\n",
    "def compareNumbers(a, b):\n",
    "    if a > b:\n",
    "        return 1\n",
    "    elif a < b:\n",
    "        return -1\n",
    "    elif a == b:\n",
    "        return 0\n",
    "\n",
    "def printCompare(a, b):\n",
    "    if compareNumbers(a, b) == -1:\n",
    "        print(\"a1b1 ist kleiner als a2b2\")\n",
    "    elif compareNumbers(a, b) == 1:\n",
    "        print(\"a1b1 ist größer als a2b2\")\n",
    "    elif compareNumbers(a, b) == 0:\n",
    "        print(\"a1b1 ist gleich a2b2\")\n",
    "\n",
    "def compareIntervallSum (a1, b1, a2, b2):\n",
    "    sum1 = intervallSum(a1, b1)\n",
    "    sum2 = intervallSum(a2, b2)\n",
    "    return printCompare(sum1, sum2)\n",
    "\n",
    "compareIntervallSum(3, 6, 4, 8)"
   ]
  },
  {
   "cell_type": "code",
   "execution_count": null,
   "metadata": {},
   "outputs": [],
   "source": []
  }
 ],
 "metadata": {
  "kernelspec": {
   "display_name": "Python 3",
   "language": "python",
   "name": "python3"
  },
  "language_info": {
   "codemirror_mode": {
    "name": "ipython",
    "version": 3
   },
   "file_extension": ".py",
   "mimetype": "text/x-python",
   "name": "python",
   "nbconvert_exporter": "python",
   "pygments_lexer": "ipython3",
   "version": "3.7.1"
  }
 },
 "nbformat": 4,
 "nbformat_minor": 2
}
