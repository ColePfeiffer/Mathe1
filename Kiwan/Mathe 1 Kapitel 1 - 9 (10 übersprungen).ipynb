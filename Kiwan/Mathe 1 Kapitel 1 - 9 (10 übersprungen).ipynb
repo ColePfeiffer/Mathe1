{
 "cells": [
  {
   "cell_type": "code",
   "execution_count": null,
   "metadata": {},
   "outputs": [],
   "source": [
    "#1. Erste Schritte mit Python\n",
    "#Aufgabe 1\n",
    "\n",
    "a = 4\n",
    "b = 6\n",
    "c = 3\n",
    "\n",
    "print(a+b*c)\n",
    "print(a+b+c)\n",
    "print(a-b/c)\n",
    "print(a*(b+c))\n",
    "\n",
    "#Punkt vor Strichrechnungen und Klammerung funktionieren wie gewohnt"
   ]
  },
  {
   "cell_type": "code",
   "execution_count": null,
   "metadata": {},
   "outputs": [],
   "source": [
    "#Bedingte Anweisungen (if und else)\n",
    "\n",
    "a = 42\n",
    "b = 10     ##wäre hier gar nicht nötig\n",
    "if a > 9:\n",
    "    b = 7\n",
    "else:\n",
    "    b = 3\n",
    "b"
   ]
  },
  {
   "cell_type": "code",
   "execution_count": null,
   "metadata": {},
   "outputs": [],
   "source": [
    "a = 42\n",
    "b = 10\n",
    "if a > 9:\n",
    "    c = 2\n",
    "    d = 10\n",
    "    b = c * d + 3\n",
    "b"
   ]
  },
  {
   "cell_type": "code",
   "execution_count": null,
   "metadata": {},
   "outputs": [],
   "source": [
    "a = 42 #Zuweisung\n",
    "b = 10\n",
    "if a == 43: #Gleichheit\n",
    "    b = 11\n",
    "b"
   ]
  },
  {
   "cell_type": "code",
   "execution_count": null,
   "metadata": {},
   "outputs": [],
   "source": [
    "#Aufgabe 3\n",
    "\n",
    "a = 8\n",
    "b = 5\n",
    "if a != b: #a ungleich b\n",
    "    b = 1\n",
    "    print(b)\n",
    "    \n",
    "if b <= a: #b kleiner gleich a\n",
    "    b = 2\n",
    "    print(b)"
   ]
  },
  {
   "cell_type": "code",
   "execution_count": null,
   "metadata": {},
   "outputs": [],
   "source": [
    "#Aufgabe 4 - Junktoren (and/or/not)\n",
    "\n",
    "x = 12\n",
    "if x > 10 and x < 20: #x größer als 10 und kleiner als 20\n",
    "    print(42)\n",
    "    \n",
    "x = 7\n",
    "if x < 10 or x > 20: #x kleiner als 10 oder größer als 20\n",
    "    print(123)\n",
    "\n",
    "if not x == 9: #x ergibt nicht 9/x ist ungleich 9\n",
    "    print(666)"
   ]
  },
  {
   "cell_type": "code",
   "execution_count": null,
   "metadata": {},
   "outputs": [],
   "source": [
    "#Aufgabe 5\n",
    "\n",
    "a = 100\n",
    "a += 10 # == a = a + 10 -> a wird 10 hinzugefügt; bleibt gespeichert \n",
    "print(a)\n",
    "\n",
    "a -= 70 # == a = a - 70\n",
    "print(a)"
   ]
  },
  {
   "cell_type": "code",
   "execution_count": null,
   "metadata": {},
   "outputs": [],
   "source": [
    "#Iteration/Schleifen\n",
    "\n",
    "i = 1\n",
    "s = 0\n",
    "while i <= 10: #solange i <= 10 ist,\n",
    "    s = s + i #werden s und i,\n",
    "    i = i + 1 #und danach i und 1 addiert\n",
    "    print(s)\n",
    "s"
   ]
  },
  {
   "cell_type": "code",
   "execution_count": null,
   "metadata": {},
   "outputs": [],
   "source": [
    "#Aufgabe 6\n",
    "\n",
    "i = 1\n",
    "s = 0\n",
    "while i <= 10:\n",
    "    s = s + 1\n",
    "    print(s)\n",
    "s\n",
    "\n",
    "#i wird nicht verändert, daher läuft die Iteration unendlich weiter, bis der Kernel unterbrochen wird"
   ]
  },
  {
   "cell_type": "code",
   "execution_count": null,
   "metadata": {},
   "outputs": [],
   "source": [
    "#Aufgabe 7\n",
    "\n",
    "i = 1\n",
    "s = 0\n",
    "while i <= 10:\n",
    "    i = i + 1 \n",
    "    s = s + i\n",
    "    print(s)\n",
    "s\n",
    "#Ergebnis 65 und nicht 54, weil i<=10 und nicht i<10"
   ]
  },
  {
   "cell_type": "code",
   "execution_count": null,
   "metadata": {},
   "outputs": [],
   "source": [
    "#Funktionen\n",
    "#Bsp. 1\n",
    "\n",
    "def sumFn (n):\n",
    "    i = 1\n",
    "    s = 0\n",
    "    while i <= n:\n",
    "        s = s + i\n",
    "        i = i + 1\n",
    "    return s\n",
    "\n",
    "sumFn(10)"
   ]
  },
  {
   "cell_type": "code",
   "execution_count": 4,
   "metadata": {},
   "outputs": [
    {
     "data": {
      "text/plain": [
       "'?Warum wird print(42) nicht angezeigt?'"
      ]
     },
     "execution_count": 4,
     "metadata": {},
     "output_type": "execute_result"
    }
   ],
   "source": [
    "#Bsp. 2\n",
    "\n",
    "def pos (x):\n",
    "    if x > 0:\n",
    "        return 1\n",
    "    else:\n",
    "        return 0\n",
    "    print(42)\n",
    "    \n",
    "pos(-5)\n",
    "\"\"\"?Warum wird print(42) nicht angezeigt?\"\"\""
   ]
  },
  {
   "cell_type": "code",
   "execution_count": null,
   "metadata": {},
   "outputs": [],
   "source": [
    "#Bsp. 3 Differenzfunktion\n",
    "\n",
    "def dist (x, y): #Fkt mit 2 Variablen\n",
    "    d = x - y\n",
    "    if d < 0: #wenn d kleiner als 0 ist,\n",
    "        d = -d #wird das Vorzeichen gewechselt (Betrag)\n",
    "    return d\n",
    "\n",
    "dist(4, 10)"
   ]
  },
  {
   "cell_type": "code",
   "execution_count": 10,
   "metadata": {},
   "outputs": [
    {
     "data": {
      "text/plain": [
       "0"
      ]
     },
     "execution_count": 10,
     "metadata": {},
     "output_type": "execute_result"
    }
   ],
   "source": [
    "#Aufgabe 8 - sumFn (aus Skript) mit negativem Argument\n",
    "\n",
    "def sumFn (n):\n",
    "    i = 1\n",
    "    s = 0\n",
    "    while i <= n:\n",
    "        s = s + i\n",
    "        i = i + 1\n",
    "    return s\n",
    "\n",
    "sumFn(-3) # i ist so schon größer als n, daher bleibt s = 0"
   ]
  },
  {
   "cell_type": "code",
   "execution_count": 29,
   "metadata": {},
   "outputs": [
    {
     "data": {
      "text/plain": [
       "-10"
      ]
     },
     "execution_count": 29,
     "metadata": {},
     "output_type": "execute_result"
    }
   ],
   "source": [
    "#Aufgabe 9.1 - Modifizierte sumFn-Fkt (Variante 1) \n",
    "\n",
    "def sumFn2 (n):\n",
    "    i = 1\n",
    "    s = 0\n",
    "    if n < 0:\n",
    "        while i <= -n:\n",
    "            s -= i\n",
    "            i += 1\n",
    "    else:\n",
    "        while i <= n:\n",
    "            s += i\n",
    "            i += 1\n",
    "    return s\n",
    "\n",
    "sumFn2(-4)"
   ]
  },
  {
   "cell_type": "code",
   "execution_count": 13,
   "metadata": {},
   "outputs": [
    {
     "data": {
      "text/plain": [
       "-10"
      ]
     },
     "execution_count": 13,
     "metadata": {},
     "output_type": "execute_result"
    }
   ],
   "source": [
    "#Aufgabe 9.2 - Modifizierte sumFn-Fkt (Variante 2)\n",
    "\n",
    "def sumFn3 (n):\n",
    "    if n >= 0:\n",
    "        return sumFn (n)\n",
    "    else:\n",
    "        return -sumFn (-n)\n",
    "    \n",
    "sumFn3 (-4)"
   ]
  },
  {
   "cell_type": "code",
   "execution_count": null,
   "metadata": {},
   "outputs": [],
   "source": [
    "#Aufgabe 10 - Fkt für Fakultat n!\n",
    "\n",
    "def fak (n):\n",
    "    i = 1\n",
    "    while n >= 1:\n",
    "        i *= n\n",
    "        n -= 1\n",
    "    return i\n",
    "\n",
    "fak(5)"
   ]
  },
  {
   "cell_type": "code",
   "execution_count": null,
   "metadata": {},
   "outputs": [],
   "source": [
    "#Aufgabe 12 - Betragsfkt\n",
    "\n",
    "def absBetrag (n):\n",
    "    if n < 0:\n",
    "        n = -n\n",
    "    return n\n",
    "\n",
    "absBetrag (-42)"
   ]
  },
  {
   "cell_type": "code",
   "execution_count": null,
   "metadata": {},
   "outputs": [],
   "source": [
    "#Aufgabe 13 - Welche Zahl weiter von 0 entfernt\n",
    "\n",
    "def dist0 (a, b):\n",
    "    if absBetrag(a) > absBetrag(b): #Betragsfkt wiederverwenden\n",
    "        return a\n",
    "    else:\n",
    "        return b\n",
    "    \n",
    "dist0(-7, 5)"
   ]
  },
  {
   "cell_type": "code",
   "execution_count": null,
   "metadata": {},
   "outputs": [],
   "source": [
    "#Aufgabe 15 - Potenzfkt (nur positive Zahlen)\n",
    "\n",
    "def pot (a, b):\n",
    "    c = 1\n",
    "    while b > 0:\n",
    "        c *= a\n",
    "        b -= 1\n",
    "    return c ###aus Lösungen\n",
    "\n",
    "print(pot (3, 2))\n",
    "print(pot(2, 3))"
   ]
  },
  {
   "cell_type": "code",
   "execution_count": null,
   "metadata": {},
   "outputs": [],
   "source": [
    "#2. Ganze Zahlen\n",
    "#Strings\n",
    "\n",
    "a = \"Frunobulax\"\n",
    "print(a)\n",
    "\n",
    "b = \"See: {}{}\" #{}:Ersetzungsfeld\n",
    "b.format(23,\"hello\")"
   ]
  },
  {
   "cell_type": "code",
   "execution_count": 1,
   "metadata": {},
   "outputs": [
    {
     "name": "stdout",
     "output_type": "stream",
     "text": [
      "Nummer in Binär: 10111\n",
      "Nummer in Oktal: 27\n",
      "Nummer in Hexadezimal: 17\n"
     ]
    }
   ],
   "source": [
    "#Aufgabe 29 - Binär-, Oktal- und Hexadezimalzahlen in Python\n",
    "\n",
    "c = 'Nummer in Binär: {:b}'\n",
    "print(c.format(23))\n",
    "\n",
    "d = 'Nummer in Oktal: {:o}'\n",
    "print(d.format(23))\n",
    "\n",
    "e = 'Nummer in Hexadezimal: {0:x}'\n",
    "print(e.format(23))"
   ]
  },
  {
   "cell_type": "code",
   "execution_count": null,
   "metadata": {},
   "outputs": [],
   "source": [
    "#Listen\n",
    "\n",
    "a = [3, 7, 2, 1] #Liste\n",
    "print(a)\n",
    "\n",
    "print(len(a)) #Länge der Liste != Anzahl der Elemente\n",
    "\n",
    "print(list(reversed(a))) #Inversion der Liste; a verändert sich aber nicht\n",
    "print(a) # -> unveränderte Liste\n",
    "\n",
    "print(a.pop()) #Entfernt das letzte Element der Liste und gibt es aus\n",
    "print(a)\n",
    "\n",
    "a.append(42) #Fügt der Liste ein Element hinzu\n",
    "print(a)"
   ]
  },
  {
   "cell_type": "code",
   "execution_count": null,
   "metadata": {},
   "outputs": [],
   "source": [
    "#Bsp. - Fkt binär in dezimal\n",
    "\n",
    "def convBinToDec (binList):\n",
    "    binList = list(reversed(binList))\n",
    "    result = 0 #0 ist irrelevant; nur da, um Variable zu definieren \n",
    "    while len(binList) > 0:\n",
    "        result = result + binList.pop()\n",
    "        result = result * 2\n",
    "    return result // 2 #ganzzahlige Division (ohne Rest)\n",
    "\n",
    "#oder performanter\n",
    "\n",
    "def convBinToDec1b (binList):\n",
    "    binList = list(reversed(binList))\n",
    "    result = 0\n",
    "    while len(binList) > 0:\n",
    "        result = result * 2\n",
    "        result = result + binList.pop()\n",
    "    return result\n",
    "\n",
    "convBinToDec([1, 1, 0, 0, 1])"
   ]
  },
  {
   "cell_type": "code",
   "execution_count": null,
   "metadata": {},
   "outputs": [],
   "source": [
    "#Aufgabe 33 + 34 - Fkt dezimal in binär\n",
    "\n",
    "def convDecToBin (decZahl):\n",
    "    binList = [] #leere Liste\n",
    "    \n",
    "    if decZahl == 0: #Aufg. 34: falls die Dezimalzahl 0 ist,\n",
    "        return [0] #soll auch 0 als Binärzahl herauskommen\n",
    "    \n",
    "    while decZahl > 0:\n",
    "        binList.append(decZahl % 2) #Rest der Dezimalzahl (decZahl%2) wird Liste angehängt\n",
    "        decZahl = decZahl // 2\n",
    "    return list(reversed(binList)) #Liste invertieren, da \"append\" immer rechts anhängt\n",
    "\n",
    "convDecToBin(11)"
   ]
  },
  {
   "cell_type": "code",
   "execution_count": null,
   "metadata": {},
   "outputs": [],
   "source": [
    "#3. Modulare Arithmetik\n",
    "#Multiplikation und Division als Verschiebung\n",
    "\n",
    "print(27 << 3) #Bitverschiebung um 3 Stellen nach links: 27=11011, 216=11011000; entspricht 27*8 (um 2^3 Stellen verschoben)\n",
    "print(15 << 2) #enspricht 15*2^2 == 15*4\n",
    "print(40 >> 3) #Bitverschiebung um 3 Stellen nach rechts: 40=101000, 5=101; entspricht 40/8 (um 2^3 Stellen verschoben)\n",
    "print(20 >> 2) #entspricht 20/2^2 == 20/4"
   ]
  },
  {
   "cell_type": "code",
   "execution_count": null,
   "metadata": {},
   "outputs": [],
   "source": [
    "#Aufgabe 44 - Argument wird mit 14 multipliziert (nur mit + und <<; ohne *)\n",
    "\n",
    "def multWith14 (n):\n",
    "    n = (n << 3) + (n << 2) + (n << 1) #14*n == 8*n + 4*n + 2*n\n",
    "    return n\n",
    "\n",
    "#besser:\n",
    "\n",
    "def multWith14 (n):\n",
    "    return (n << 3) + (n << 2) + (n << 1)\n",
    "\n",
    "multWith14(14)"
   ]
  },
  {
   "cell_type": "code",
   "execution_count": null,
   "metadata": {},
   "outputs": [],
   "source": [
    "#Aufgabe 48 - (186 * 25) in 8-Bit-Arithmetik\n",
    "\n",
    "print((186 * 25) % 256)\n",
    "\n",
    "\"{:b}\".format(186 * 25) #die letzten 8 Ziffern sind 42 in binär"
   ]
  },
  {
   "cell_type": "code",
   "execution_count": null,
   "metadata": {},
   "outputs": [],
   "source": [
    "#Boolesche Werte\n",
    "\n",
    "a = 3\n",
    "b = 4\n",
    "print(a < b) #prüft ob wahr oder falsch\n",
    "print(a > b)"
   ]
  },
  {
   "cell_type": "code",
   "execution_count": null,
   "metadata": {},
   "outputs": [],
   "source": [
    "#Bsp. + Aufgabe 49\n",
    "\n",
    "def congruentModulo (a, b, n): #zwei Zahlen a, b; modulo n\n",
    "    return a % n == b % n\n",
    "\n",
    "print(congruentModulo(201, 101, 10)) #201 ist kongruent zu 101 modulo 10 -> True\n",
    "print(congruentModulo(201, 101, 19))\n",
    "print(congruentModulo(101, 101, 19))\n",
    "print(congruentModulo(0, 42, 7))"
   ]
  },
  {
   "cell_type": "code",
   "execution_count": null,
   "metadata": {},
   "outputs": [],
   "source": [
    "#Aufgabe 51 - Fkt congruentModulo mit anderer Interpretation\n",
    "\n",
    "def congruentModulo2 (a, b, n):\n",
    "    d = abs(a-b) #Absolutwert bzw. Betrag des Abstandes\n",
    "    return d % n == 0\n",
    "\n",
    "print(congruentModulo2(201, 101, 10))\n",
    "print(congruentModulo2(201, 101, 19))"
   ]
  },
  {
   "cell_type": "code",
   "execution_count": null,
   "metadata": {},
   "outputs": [],
   "source": [
    "\"\"\"Formeln für Modulo\"\"\"\n",
    "\n",
    "#Wenn a kongruent b (mod n) und c kongruent d (mod n), dann gilt:\n",
    "#1.: a + c kongruent b + d (mod n)\n",
    "#2.: a * c kongruent b * d (mod n)"
   ]
  },
  {
   "cell_type": "code",
   "execution_count": null,
   "metadata": {},
   "outputs": [],
   "source": [
    "#Aufgabe 55\n",
    "\n",
    "def fak (n): #Fakultätsfkt aus Aufgabe 10\n",
    "    i = 1\n",
    "    while n >= 1:\n",
    "        i *= n\n",
    "        n -= 1\n",
    "    return i\n",
    "\n",
    "fak(7) % 256"
   ]
  },
  {
   "cell_type": "code",
   "execution_count": null,
   "metadata": {},
   "outputs": [],
   "source": [
    "#Aufgabe 65 - Restklassenringe in Python\n",
    "\n",
    "def sumMod (a, b, n):\n",
    "    return (a + b) % n #a+b in nZ\n",
    "\n",
    "print(sumMod (3, 5, 7)) #3+5 in 7Z == 1\n",
    "\n",
    "def prodMod (a, b, n):\n",
    "    return (a * b) % n #a*b in nZ\n",
    "\n",
    "print(prodMod (4, 3, 7)) #4*3 in 7Z == 5"
   ]
  },
  {
   "cell_type": "code",
   "execution_count": 6,
   "metadata": {},
   "outputs": [
    {
     "name": "stdout",
     "output_type": "stream",
     "text": [
      "6\n",
      "22\n",
      "4\n"
     ]
    }
   ],
   "source": [
    "#Aufgabe 68 - Fkt für Quersummen und iterierte Quersummen\n",
    "\n",
    "def querSum (n):\n",
    "    r = n #n ersetzen, damit nach der Eingabe n unverändert bleibt\n",
    "    s = 0 #muss 0 sein\n",
    "    while r > 0:\n",
    "        s = s + r % 10 #in modulo 10 wird es immer die letzte Ziffer der Zahl (123%10 == 3)\n",
    "        r = r // 10 #ganzzahlige Division durch 10 teilt die letzte Ziffer raus (123//10 == 12)\n",
    "    return s\n",
    "\n",
    "print(querSum(123))\n",
    "print(querSum(9652))\n",
    "\n",
    "def iteSum (n):\n",
    "    r = querSum(n)\n",
    "    s = 0\n",
    "    while r >= 10:\n",
    "        r = querSum(r)\n",
    "    return r\n",
    "\n",
    "print(iteSum(9652))"
   ]
  },
  {
   "cell_type": "code",
   "execution_count": null,
   "metadata": {},
   "outputs": [],
   "source": [
    "#4. Negatvive Zahlen\n",
    "#Aufgabe 81 - Ermittlung der additiven Inverse in einem Restklassenring\n",
    "\n",
    "def addInv (a, n): #unsicher\n",
    "    b = n - a\n",
    "    (a + b) % n\n",
    "    return b\n",
    "\n",
    "print(addInv(-5, 10))\n",
    "print(addInv(4, 6))\n",
    "\n",
    "#aus Lösungen\n",
    "\n",
    "def addInv2 (a,n):\n",
    "    return a if a == 0 else n - a\n",
    "\n",
    "print(addInv2(-5, 10))\n",
    "print(addInv2(4, 6))"
   ]
  },
  {
   "cell_type": "code",
   "execution_count": null,
   "metadata": {},
   "outputs": [],
   "source": [
    "#Aufgabe 88\n",
    "\n",
    "def mathMod (a, b):\n",
    "    return a % abs(b)\n",
    "\n",
    "mathMod (12, 5)"
   ]
  },
  {
   "cell_type": "code",
   "execution_count": null,
   "metadata": {},
   "outputs": [],
   "source": [
    "#5. Euklids Algorithmus\n",
    "#Aufgabe 102 - Fkt für größten gemeinsamen Teiler (ohne Euklids Algorithmus)\n",
    "\n",
    "def ggT (a, b):\n",
    "    c = a\n",
    "    if c > b:\n",
    "        c = b\n",
    "    while a % c != 0 or b % c != 0:\n",
    "        c -= 1\n",
    "    return c\n",
    "\n",
    "ggT(77, 42)"
   ]
  },
  {
   "cell_type": "code",
   "execution_count": null,
   "metadata": {},
   "outputs": [],
   "source": [
    "#Bsp - ggT mit Euklids Algorithmus\n",
    "\n",
    "def GCD (a, b):\n",
    "    while a != b:\n",
    "        print(a, b)\n",
    "        if b > a:\n",
    "            a, b = b, a\n",
    "        a = a - b\n",
    "    return a\n",
    "\n",
    "GCD (237, 318)"
   ]
  },
  {
   "cell_type": "code",
   "execution_count": null,
   "metadata": {},
   "outputs": [],
   "source": [
    "#Aufgabe 107 + 108 - Fkt GCD modifiziert\n",
    "\n",
    "def gcdMod (a, b):\n",
    "    while True:\n",
    "        print(a, b)\n",
    "        if b > a:\n",
    "            a, b = b, a\n",
    "        a = a % b\n",
    "        if a == 0:\n",
    "            break\n",
    "    return b\n",
    "\n",
    "gcdMod (237, 318)"
   ]
  },
  {
   "cell_type": "code",
   "execution_count": 1,
   "metadata": {},
   "outputs": [
    {
     "name": "stdout",
     "output_type": "stream",
     "text": [
      "[8, 7, 6, 5]\n",
      "6\n",
      "[8, 7, 42, 5]\n",
      "0\n",
      "8\n",
      "15\n",
      "57\n"
     ]
    },
    {
     "data": {
      "text/plain": [
       "62"
      ]
     },
     "execution_count": 1,
     "metadata": {},
     "output_type": "execute_result"
    }
   ],
   "source": [
    "#Listen Teil 2\n",
    "\n",
    "a = [8, 7, 6, 5]\n",
    "print(a)\n",
    "print(a[2]) #2 ist der Index; man fängt bei 0 an zu zählen -> hier: 6\n",
    "\n",
    "a[2] = 42 #Änderung einzelner Elemente einer Gruppe\n",
    "print(a)\n",
    "\n",
    "\n",
    "#for-Schleifen\n",
    "\n",
    "s = 0\n",
    "for x in a: #Code wird für jedes Element der Liste a ausgeführt\n",
    "    print(s)\n",
    "    s += x\n",
    "s"
   ]
  },
  {
   "cell_type": "code",
   "execution_count": null,
   "metadata": {},
   "outputs": [],
   "source": [
    "#Listen Teil 3\n",
    "\n",
    "b = [20, 40]\n",
    "x, y = b #Elemente der Liste werdenin einzelne Variablen \"kopiert\"\n",
    "print(y)\n",
    "\n",
    "c = [42, \"moin\", True, [2, 4, 6]] #alle Python-Objekte können in Listen gespeichert werden\n",
    "print(c)\n",
    "\n",
    "d = [20, [30, 40]]\n",
    "x, [y, z] = d #Destruktion von Listen\n",
    "print(y)\n",
    "\n",
    "e = [[1, 1], [2, 4], [3, 9]]\n",
    "for x, y in e:\n",
    "    print(x, y)"
   ]
  },
  {
   "cell_type": "code",
   "execution_count": null,
   "metadata": {},
   "outputs": [],
   "source": [
    "#Aufgabe 114 - convBinToDec mit for statt while\n",
    "\n",
    "def convBinToDec1b (binList):\n",
    "    binList = list(reversed(binList))\n",
    "    result = 0\n",
    "    while len(binList) > 0:\n",
    "        result = result * 2\n",
    "        result = result + binList.pop()\n",
    "    return result\n",
    "\n",
    "print(convBinToDec([1, 1, 0, 0, 1]))\n",
    "\n",
    "def convBinToDec2 (binList):\n",
    "    result = 0\n",
    "    for x in binList:\n",
    "        result = result * 2\n",
    "        result = result + x\n",
    "    return result\n",
    "\n",
    "print(convBinToDec2([1, 1, 0, 0, 1]))"
   ]
  },
  {
   "cell_type": "code",
   "execution_count": null,
   "metadata": {},
   "outputs": [],
   "source": [
    "#Aufgabe 115 - Fkt für erweiterten euklidischen Algorithmus \n",
    "\n",
    "def extGCD (a, b):\n",
    "    diffs = []\n",
    "    while a != b:\n",
    "        if b > a:\n",
    "            a, b = b, a\n",
    "        diffs.append([a, b])\n",
    "        a = a - b\n",
    "    d = a\n",
    "    m = 1\n",
    "    n = -1\n",
    "    a, b = diffs.pop()\n",
    "    for x, y in reversed(diffs):\n",
    "        if y == a:\n",
    "            b = x\n",
    "            m -= n\n",
    "        else:\n",
    "            a = x\n",
    "            n -= m\n",
    "    return [d, [m, a, n, b]]\n",
    "\n",
    "extGCD(225, 400)"
   ]
  },
  {
   "cell_type": "code",
   "execution_count": null,
   "metadata": {},
   "outputs": [],
   "source": [
    "#Aufgabe 116 - perfomantere Fkt für erweiterten euklidischen Algorithmus\n",
    "\n",
    "def extGCD2 (a, b):\n",
    "    m_a, n_a = 1, 0\n",
    "    m_b, n_b = 0, 1\n",
    "    while a != b:\n",
    "        if b > a:\n",
    "            a, b = b, a\n",
    "            m_a, n_a, m_b, n_b = m_b, n_b, m_a, n_a\n",
    "        a = a - b\n",
    "        m_a = m_a - m_b\n",
    "        n_a = n_a - n_b\n",
    "    return [a, m_a, n_a]\n",
    "\n",
    "extGCD2(225, 400)\n",
    "\n",
    "\"\"\"nochmal angucken\"\"\""
   ]
  },
  {
   "cell_type": "code",
   "execution_count": null,
   "metadata": {},
   "outputs": [],
   "source": [
    "#Standardbibliothek\n",
    "\n",
    "import math #Import aller Fkt aus \"math\" Modul \n",
    "print(math.gcd(99, 101))\n",
    "\n",
    "#oder\n",
    "\n",
    "from math import gcd #Import der Funktion \"gcd\" aus \"math\"\n",
    "print(gcd(99, 101)) #Vorteil: auf \"math.\" kann verzichtet werden"
   ]
  },
  {
   "cell_type": "code",
   "execution_count": 30,
   "metadata": {},
   "outputs": [
    {
     "data": {
      "text/plain": [
       "4"
      ]
     },
     "execution_count": 30,
     "metadata": {},
     "output_type": "execute_result"
    }
   ],
   "source": [
    "#6. Division\n",
    "#Anwendung: ISBN\n",
    "\n",
    "def checkISBN (digits):\n",
    "    factor = 1\n",
    "    sum = 0\n",
    "    for digit in digits:\n",
    "        sum += factor * int(digit)\n",
    "        factor += 1\n",
    "    return sum % 11\n",
    "\n",
    "checkISBN(\"148421177\")"
   ]
  },
  {
   "cell_type": "code",
   "execution_count": null,
   "metadata": {},
   "outputs": [],
   "source": [
    "#7. Der chinesische Restsatz\n",
    "\n",
    "from sympy.ntheory.modular import crt\n",
    "crt([3, 5, 7], [1, 2, 4])"
   ]
  },
  {
   "cell_type": "code",
   "execution_count": 36,
   "metadata": {},
   "outputs": [
    {
     "data": {
      "text/plain": [
       "0"
      ]
     },
     "execution_count": 36,
     "metadata": {},
     "output_type": "execute_result"
    }
   ],
   "source": [
    "#Aufgabe 132 - chinesischer Restsatz ohne Bibliothek\n",
    "\n",
    "\"\"\"versuchen\"\"\""
   ]
  },
  {
   "cell_type": "code",
   "execution_count": 56,
   "metadata": {},
   "outputs": [
    {
     "data": {
      "text/plain": [
       "True"
      ]
     },
     "execution_count": 56,
     "metadata": {},
     "output_type": "execute_result"
    }
   ],
   "source": [
    "#8. Primzahlen\n",
    "#Bsp - Fkt, um zu überprüfen, ob es sich um eine Primzahl handelt\n",
    "\n",
    "def isPrime (n):\n",
    "    if n <= 1:\n",
    "        return False\n",
    "    for i in range(2, n):\n",
    "        if n % i == 0:\n",
    "            return False\n",
    "    return True\n",
    "\n",
    "isPrime(7)"
   ]
  },
  {
   "cell_type": "code",
   "execution_count": null,
   "metadata": {},
   "outputs": [],
   "source": [
    "#Iterator \"range\" als Liste der Werte\n",
    "\n",
    "print(list(range(1, 10))) #alle Werte im Bereich AUßER die letzte Zahl der range\n",
    "\n",
    "print(list(range(7))) #Abkürzung für range(0, n)\n",
    "\n",
    "print(list(range(5, 60 , 10))) #drittes Argument gibt Schrittweite an"
   ]
  },
  {
   "cell_type": "code",
   "execution_count": 39,
   "metadata": {},
   "outputs": [
    {
     "data": {
      "text/plain": [
       "[2, 3, 5, 7, 11, 13, 17, 19]"
      ]
     },
     "execution_count": 39,
     "metadata": {},
     "output_type": "execute_result"
    }
   ],
   "source": [
    "#Bsp - Liste der Primzahlen unter 20\n",
    "\n",
    "p = []\n",
    "for n in range(20):\n",
    "    if isPrime(n):\n",
    "        p.append(n)\n",
    "p"
   ]
  },
  {
   "cell_type": "code",
   "execution_count": 2,
   "metadata": {
    "scrolled": true
   },
   "outputs": [
    {
     "data": {
      "text/plain": [
       "[2, 2, 2, 3, 5, 5, 7]"
      ]
     },
     "execution_count": 2,
     "metadata": {},
     "output_type": "execute_result"
    }
   ],
   "source": [
    "#Aufgabe 136 - Fkt für Primfaktorzerlegung als Liste\n",
    "\n",
    "def primeFactors (n):\n",
    "    factorList = []\n",
    "    for i in range(2, n):\n",
    "        while n % i == 0:\n",
    "            factorList.append(i)\n",
    "            n /= i\n",
    "    return factorList\n",
    "\n",
    "primeFactors(4200)"
   ]
  },
  {
   "cell_type": "code",
   "execution_count": 3,
   "metadata": {},
   "outputs": [
    {
     "data": {
      "text/plain": [
       "[2, 3, 5, 7, 11, 13, 17, 19, 23, 29, 31, 37, 41, 43, 47]"
      ]
     },
     "execution_count": 3,
     "metadata": {},
     "output_type": "execute_result"
    }
   ],
   "source": [
    "#Bsp - Fkt für Sieb des Eratosthenes\n",
    "\n",
    "def sieve (n):\n",
    "    primes = []\n",
    "    numbers = list(range(2, n))\n",
    "    c = 2\n",
    "    while c * c < n:\n",
    "        for k in range(c, n, c):\n",
    "            if k in numbers: #\"in\" teste ob ein Objekt in einer Liste vorkommt\n",
    "                numbers.remove(k) #entfernt etwas aus einer Liste\n",
    "        primes.append(c)\n",
    "        c = numbers[0]\n",
    "    return primes + numbers #neue Liste, indem 2 vorhandene Listen aneinandergehängt werden\n",
    "\n",
    "sieve (50) #Liste der Primzahlen bis n"
   ]
  },
  {
   "cell_type": "code",
   "execution_count": null,
   "metadata": {},
   "outputs": [],
   "source": [
    "#Aufgabe 139 - Wird \"Yo!\" gedruckt oder nicht?\n",
    "\n",
    "if 5 in [3, 4, [5, 6], 7]:\n",
    "    print(\"Yo!\")\n",
    "    \n",
    "#es wird nicht gedruckt: 5 ist kein Element der Liste, sondern nur die (innere) Liste [5, 6]; nicht dasselbe wie Zahl 5"
   ]
  },
  {
   "cell_type": "code",
   "execution_count": null,
   "metadata": {},
   "outputs": [],
   "source": [
    "#Aufgabe 140\n",
    "\n",
    "a = [5, 42, 8, 42]\n",
    "a.remove(42)\n",
    "a\n",
    "\n",
    "#Python fängt links an zu lesen; wenn das Element ein Mal vorkam, wird es entfernt und der Vorgang gestoppt"
   ]
  },
  {
   "cell_type": "code",
   "execution_count": 8,
   "metadata": {},
   "outputs": [
    {
     "data": {
      "text/plain": [
       "'versuchen'"
      ]
     },
     "execution_count": 8,
     "metadata": {},
     "output_type": "execute_result"
    }
   ],
   "source": [
    "#Aufgabe 141 - \n",
    "\n",
    "\"\"\"versuchen\"\"\""
   ]
  },
  {
   "cell_type": "code",
   "execution_count": null,
   "metadata": {},
   "outputs": [],
   "source": [
    "#Bibliothek - Anzahl der Primzahlen, die nicht größer als n sind\n",
    "\n",
    "from sympy import primepi\n",
    "\n",
    "primepi(1000) #bis 1000 gibt es 168 Primzahlen"
   ]
  },
  {
   "cell_type": "code",
   "execution_count": 1,
   "metadata": {},
   "outputs": [
    {
     "name": "stdout",
     "output_type": "stream",
     "text": [
      "[1, 8, 27, 64, 125, 216, 343, 512, 729, 1000]\n"
     ]
    },
    {
     "data": {
      "text/plain": [
       "[1, 8, 27, 64, 125, 216, 343, 512, 729, 1000]"
      ]
     },
     "execution_count": 1,
     "metadata": {},
     "output_type": "execute_result"
    }
   ],
   "source": [
    "#Bsp - Liste der ersten 10 Kubikzahlen\n",
    "\n",
    "cubeList = []\n",
    "for i in range(1, 11):\n",
    "    cubeList.append(i ** 3)\n",
    "print(cubeList)\n",
    "\n",
    "#verkürzte Syntax in Python (list comprehension)\n",
    "\n",
    "cubeList2 = [i ** 3 for i in range(1, 11)] #Reihenfolge: Ausdruck, for-Schleife (evtl. ifs oder weitere fors)\n",
    "cubeList2"
   ]
  },
  {
   "cell_type": "code",
   "execution_count": null,
   "metadata": {},
   "outputs": [],
   "source": [
    "#Bibliothek Teil 2\n",
    "\n",
    "import matplotlib.pyplot as plt #Bibliothek wird in \"plt\" umbenannt\n",
    "\n",
    "%matplotlib inline\n",
    "\n",
    "ratios = [(10**k) / primepi(10**k) for k in range(1, 9)]\n",
    "\n",
    "plt.scatter(list(range(1, 9)), ratios)\n",
    "print(\"nacharbeiten\")"
   ]
  },
  {
   "cell_type": "code",
   "execution_count": 12,
   "metadata": {},
   "outputs": [
    {
     "name": "stdout",
     "output_type": "stream",
     "text": [
      "1\n",
      "2\n",
      "4\n",
      "6\n",
      "10\n"
     ]
    },
    {
     "data": {
      "text/plain": [
       "[[0, 1],\n",
       " [0, 1, 1],\n",
       " [0, 1, 1, 1, 1],\n",
       " [0, 1, 1, 1, 1, 1, 1],\n",
       " [0, 1, 1, 1, 1, 1, 1, 1, 1, 1, 1]]"
      ]
     },
     "execution_count": 12,
     "metadata": {},
     "output_type": "execute_result"
    }
   ],
   "source": [
    "#9. Anwendung: Primzahltests\n",
    "#Aufgabe 149\n",
    "\n",
    "for p in [2,3,5,7,11]:\n",
    "    for a in range(p):\n",
    "        (a ** p - 1) % p\n",
    "    print(a)\n",
    "    \n",
    "#in meiner Lösung fehlt etwas; aus Lösungen:\n",
    "\n",
    "[[a**(p-1) % p for a in range(p)] for p in [2,3,5,7,11]] #Output als Liste, bei mir wird alles addiert"
   ]
  },
  {
   "cell_type": "code",
   "execution_count": 4,
   "metadata": {},
   "outputs": [
    {
     "data": {
      "text/plain": [
       "5"
      ]
     },
     "execution_count": 4,
     "metadata": {},
     "output_type": "execute_result"
    }
   ],
   "source": [
    "from random import randrange\n",
    "randrange(1,10) #zufällige Zahl zwischen 0 und 9; randrange akzeptiert dieselben Argumente wie range"
   ]
  },
  {
   "cell_type": "code",
   "execution_count": 5,
   "metadata": {},
   "outputs": [
    {
     "name": "stdout",
     "output_type": "stream",
     "text": [
      "True\n",
      "False\n"
     ]
    }
   ],
   "source": [
    "#Bsp - Fkt für Fermattest\n",
    "\n",
    "def FermatTest (p):\n",
    "    return randrange(2, p) ** (p - 1) % p == 1\n",
    "\n",
    "print(FermatTest(7))\n",
    "print(FermatTest(6))\n",
    "\n",
    "#Aber: Fermattest ist nicht deterministisch (= kann auch falsche Ergebnisse liefern) -> probabilistischer Test"
   ]
  },
  {
   "cell_type": "code",
   "execution_count": 11,
   "metadata": {},
   "outputs": [
    {
     "data": {
      "text/plain": [
       "0.232"
      ]
     },
     "execution_count": 11,
     "metadata": {},
     "output_type": "execute_result"
    }
   ],
   "source": [
    "#Fehlerwahrscheinlichkeit für Fermattest\n",
    "\n",
    "def TestFermatTest (p, n):\n",
    "    s = 0\n",
    "    for i in range(n):\n",
    "        if FermatTest(p):\n",
    "            s += 1\n",
    "    return s / n\n",
    "\n",
    "TestFermatTest (15, 1000) #Test, ob 15 eine Primzahl ist, wird 1000 Mal durchgeführt -> Fehlerwahrscheinlichkeit: 21,6%"
   ]
  },
  {
   "cell_type": "code",
   "execution_count": 7,
   "metadata": {},
   "outputs": [
    {
     "data": {
      "text/plain": [
       "True"
      ]
     },
     "execution_count": 7,
     "metadata": {},
     "output_type": "execute_result"
    }
   ],
   "source": [
    "#Bsp - Fkt für Miller-Rabin-Test\n",
    "\n",
    "def MillerRabin (p):\n",
    "    d = p - 1\n",
    "    r = 0\n",
    "    while d % 2 == 0:\n",
    "        d //= 2\n",
    "        r += 1\n",
    "    a = randrange(2, p - 1)\n",
    "    x = (a ** d) % p\n",
    "    if x == 1 or x == p - 1:\n",
    "        return True\n",
    "    while r > 1:\n",
    "        x = (x * x) % p\n",
    "        if x == 1:\n",
    "            return False\n",
    "        if x == p -1:\n",
    "            return True\n",
    "        r -= 1\n",
    "    return False\n",
    "\n",
    "MillerRabin (89)"
   ]
  },
  {
   "cell_type": "code",
   "execution_count": null,
   "metadata": {},
   "outputs": [],
   "source": []
  }
 ],
 "metadata": {
  "kernelspec": {
   "display_name": "Python 3",
   "language": "python",
   "name": "python3"
  },
  "language_info": {
   "codemirror_mode": {
    "name": "ipython",
    "version": 3
   },
   "file_extension": ".py",
   "mimetype": "text/x-python",
   "name": "python",
   "nbconvert_exporter": "python",
   "pygments_lexer": "ipython3",
   "version": "3.7.1"
  }
 },
 "nbformat": 4,
 "nbformat_minor": 2
}
