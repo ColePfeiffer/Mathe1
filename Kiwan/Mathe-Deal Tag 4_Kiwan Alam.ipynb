{
 "cells": [
  {
   "cell_type": "code",
   "execution_count": 1,
   "metadata": {},
   "outputs": [
    {
     "data": {
      "text/plain": [
       "[0, 1, 2, 3, 4, 5, 6, 7, 8, 9, 10, 11, 12, 13, 14, 15]"
      ]
     },
     "execution_count": 1,
     "metadata": {},
     "output_type": "execute_result"
    }
   ],
   "source": [
    "#Aufgabe 1)\n",
    "\n",
    "def myList (n):\n",
    "    list = []\n",
    "    for i in range(n+1):\n",
    "        list.append(i)\n",
    "    return list\n",
    "\n",
    "myList(15)"
   ]
  },
  {
   "cell_type": "code",
   "execution_count": 2,
   "metadata": {},
   "outputs": [
    {
     "name": "stdout",
     "output_type": "stream",
     "text": [
      "[1, 1, 1, 1, 1]\n",
      "[0, 0, 0, 0, 0, 0]\n",
      "[1, 3, 5, 7]\n"
     ]
    }
   ],
   "source": [
    "#Aufgabe 2)\n",
    "\n",
    "#wenn das dritte Argument \"len\" heißt, kriege ich eine Fehlermeldung in der Schleifenbedingung\n",
    "def initList (startValue, increment, length):\n",
    "    list = []\n",
    "    x = startValue\n",
    "    while len(list) < length:\n",
    "        list.append(x)\n",
    "        x += increment\n",
    "    return list\n",
    "\n",
    "print(initList(1, 0, 5))\n",
    "print(initList(0, 0, 6))\n",
    "print(initList(1, 2, 4))"
   ]
  },
  {
   "cell_type": "code",
   "execution_count": 1,
   "metadata": {},
   "outputs": [
    {
     "name": "stdout",
     "output_type": "stream",
     "text": [
      "[1, 1, 1, 1, 1]\n",
      "[0, 0, 0, 0, 0, 0]\n",
      "[1, 3, 5, 7]\n"
     ]
    }
   ],
   "source": [
    "#Aufgabe 2) mit for\n",
    "\n",
    "#Ich habe in der Aufgabenstellung zunächst übersehen, dass es mit while geschrieben werden soll, ups. Das ist meine 1.Version\n",
    "def initList2 (startValue, increment, len):\n",
    "    list = []\n",
    "    ##if startValue == 0 and increment == 0: #wenn ich diese if-Abfrage hier weglasse, dann würden bei initList2(0,0,6)\n",
    "        ##for i in range(startValue, len): #7 Nullen anstatt 6 ausgegeben werden, warum?\n",
    "            ##list.append(startValue)\n",
    "    \n",
    "    #stephi was here\n",
    "    #also die for schleife oben hätte funktioniert, wenn man den Rest auskommentiert\n",
    "    #eigentlich ist das das was du möchtest.\n",
    "    #Du brauchtest bei der elif ein len +1, weil dein startvalue 1 war. Entweder du gehst von startValue bis\n",
    "    #startValue + len oder einfach von 0 bis len\n",
    "    if increment == 0:\n",
    "        for i in range(0, len):\n",
    "            list.append(startValue)\n",
    "    else:\n",
    "        for i in range(startValue, len*increment+1, increment): #sollte ich len*increment+1 noch in eine Variable packen? \n",
    "            #->Nö, wenn du damit so klar kommst nicht\n",
    "            list.append(i)\n",
    "    return list\n",
    "\n",
    "print(initList2(1, 0, 5))\n",
    "print(initList2(0, 0, 6))\n",
    "print(initList2(1, 2, 4))"
   ]
  },
  {
   "cell_type": "code",
   "execution_count": 6,
   "metadata": {},
   "outputs": [
    {
     "data": {
      "text/plain": [
       "3"
      ]
     },
     "execution_count": 6,
     "metadata": {},
     "output_type": "execute_result"
    }
   ],
   "source": [
    "#Aufgabe 3)\n",
    "\n",
    "def average (list):\n",
    "    sum = 0\n",
    "    count = 0\n",
    "    avg = 0\n",
    "    popList = list\n",
    "    while count < len(list):\n",
    "        #du darfst diese elemente nicht entfernen\n",
    "        #benutze das hier:\n",
    "        #sum += popList[count]\n",
    "        #Aber achtung, die Bedingung von der While-schleife muss noch geändert werden\n",
    "        \n",
    "        sum += popList[count]\n",
    "        count += 1\n",
    "        #print(list, popList) #Problem für Nr.4: Warum wird auch list geleert, obwohl ich popList.pop() verwende?\n",
    "    avg = sum // count\n",
    "    return avg\n",
    "\n",
    "average([2, 3, 4])\n",
    "\n",
    "#für mich:\n",
    "#erste Idee:\n",
    "#def average (list):\n",
    "    #sum = 0\n",
    "    #avg = 1\n",
    "    #popList = list #popList damit Rechenoperation am Ende mit ursprünglicher list ausgeführt wird\n",
    "    #while len(popList) > 0:\n",
    "        #sum += popList.pop()\n",
    "    #return avg = sum / len(list) #wäre meine Idee, aber die eingegebene Liste \n",
    "    #return len([list]) #hat nur die Länge 1, weil die Liste an sich als ein Element gesehen wird;\n",
    "    #Eingabe in die Fkt (list) ist ja auch nur ein Element"
   ]
  },
  {
   "cell_type": "code",
   "execution_count": 16,
   "metadata": {},
   "outputs": [
    {
     "data": {
      "text/plain": [
       "[0, -2, 2]"
      ]
     },
     "execution_count": 16,
     "metadata": {},
     "output_type": "execute_result"
    }
   ],
   "source": [
    "#Aufgabe 4\n",
    "\n",
    "def temperature (list):\n",
    "    temp = average(list) #Problem mit geleerter Liste aus Nr.3\n",
    "    tempList = []\n",
    "    ##for i in range(\"?\"):\n",
    "    #ich weiß leider nicht, wie ich auf die einzelnen Elemente der Liste zugreifen kann\n",
    "    #Lösung:\n",
    "    for i in list:\n",
    "        tempList.append(i - temp)\n",
    "        \n",
    "    return tempList\n",
    "\n",
    "temperature([12,10,14])"
   ]
  },
  {
   "cell_type": "code",
   "execution_count": 24,
   "metadata": {},
   "outputs": [
    {
     "name": "stdout",
     "output_type": "stream",
     "text": [
      "[2, 3, 11, 1, 101, 1]\n"
     ]
    }
   ],
   "source": [
    "#Aufgabe 5\n",
    "\n",
    "def primFactorization (n):\n",
    "    x = n\n",
    "    primeFactors = []\n",
    "    count = 0\n",
    "    i = 2\n",
    "    #benutze eine while Schleife anstatt einer for schleife\n",
    "    #solange x größer als 1 ist\n",
    "    ##for i in range(2, x):\n",
    "    while x > 1:\n",
    "        #setze den Counter auf 0\n",
    "        count = 0\n",
    "        while x % i == 0:\n",
    "            #erhöhe den Counter um 1\n",
    "            count += 1\n",
    "            ##primeFactors.append(i) das möchtest du hier nicht machen\n",
    "            x //= i\n",
    "        #wenn der counter größer 0 ist,\n",
    "        if count > 0:\n",
    "            #dann füge i zu primeFactors hinzu\n",
    "            primeFactors.append(i)\n",
    "            #füge counter zu primeFactors hinzu\n",
    "            primeFactors.append(count)\n",
    "        i += 1\n",
    "    \n",
    "    return primeFactors\n",
    "\n",
    "print(primFactorization(8888))\n",
    "\n",
    "#ich weiß nicht, wie ich die Exponenten noch in die Liste kriege"
   ]
  },
  {
   "cell_type": "code",
   "execution_count": 19,
   "metadata": {},
   "outputs": [
    {
     "data": {
      "text/plain": [
       "[0, 1, 2, 3, 4, 5, 6, 7, 8, 9, 10, 11, 12, 13, 14, 15]"
      ]
     },
     "execution_count": 19,
     "metadata": {},
     "output_type": "execute_result"
    }
   ],
   "source": [
    "#Aufgabe 6\n",
    "\n",
    "def myList2 (n):\n",
    "    list = [i for i in range(n+1)]\n",
    "    return list\n",
    "myList2(15)"
   ]
  },
  {
   "cell_type": "code",
   "execution_count": 61,
   "metadata": {},
   "outputs": [
    {
     "name": "stdout",
     "output_type": "stream",
     "text": [
      "[1, 1, 1, 1, 1]\n",
      "[0, 0, 0, 0, 0, 0]\n",
      "[1, 3, 5, 7]\n"
     ]
    }
   ],
   "source": [
    "#Aufgabe 7\n",
    "\n",
    "def initList3 (startValue, increment, length):\n",
    "    if startValue == 0 and increment == 0: #dieselbe Frage wie in Aufgabe 2)\n",
    "        list = [startValue for i in range(startValue, length)]\n",
    "    elif increment == 0:\n",
    "        list = [startValue for i in range(startValue, length+1)]\n",
    "    else:\n",
    "        list = [i for i in range(startValue, length*increment+1, increment)]\n",
    "    return list\n",
    "\n",
    "print(initList3(1, 0, 5))\n",
    "print(initList3(0, 0, 6))\n",
    "print(initList3(1, 2, 4))\n",
    "\n",
    "#Geht die Kurzschreibweise auch mit while?\n",
    "#ich glaube nicht"
   ]
  },
  {
   "cell_type": "code",
   "execution_count": null,
   "metadata": {},
   "outputs": [],
   "source": []
  },
  {
   "cell_type": "code",
   "execution_count": null,
   "metadata": {},
   "outputs": [],
   "source": []
  },
  {
   "cell_type": "code",
   "execution_count": null,
   "metadata": {},
   "outputs": [],
   "source": []
  }
 ],
 "metadata": {
  "kernelspec": {
   "display_name": "Python 3",
   "language": "python",
   "name": "python3"
  },
  "language_info": {
   "codemirror_mode": {
    "name": "ipython",
    "version": 3
   },
   "file_extension": ".py",
   "mimetype": "text/x-python",
   "name": "python",
   "nbconvert_exporter": "python",
   "pygments_lexer": "ipython3",
   "version": "3.7.1"
  }
 },
 "nbformat": 4,
 "nbformat_minor": 2
}
