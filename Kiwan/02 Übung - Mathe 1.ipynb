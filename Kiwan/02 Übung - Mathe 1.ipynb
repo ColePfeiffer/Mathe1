{
 "cells": [
  {
   "cell_type": "code",
   "execution_count": 3,
   "metadata": {},
   "outputs": [],
   "source": [
    "%run ueb2.py"
   ]
  },
  {
   "cell_type": "code",
   "execution_count": 88,
   "metadata": {},
   "outputs": [
    {
     "data": {
      "image/png": "[encoded data removed]",
      "text/plain": [
       "<Figure size 288x288 with 1 Axes>"
      ]
     },
     "metadata": {
      "needs_background": "light"
     },
     "output_type": "display_data"
    }
   ],
   "source": [
    "def asteroids(n,p,s):\n",
    "\n",
    "    m = n * n\n",
    "    feld = [0] * m\n",
    "\n",
    "\n",
    "    col = p % n\n",
    "    row = p // n\n",
    "\n",
    "    for i in range (-s,s+1):\n",
    "        \n",
    "        \"Schussfelder\"\n",
    "        obenUnten = (row-i) * n + (col%n)\n",
    "        linksRechts = row * n + (col - i) % n\n",
    "        \n",
    "        diagonalEins = (row + i) * n + (col + i)%n\n",
    "        diagonalZwei = (row + i) * n + (col - i)%n\n",
    "\n",
    "        \"Schussfeldfarben\"\n",
    "        feld[obenUnten] = 1\n",
    "        feld[linksRechts] = 1\n",
    "        feld[diagonalEins] = 1\n",
    "        feld[diagonalZwei] = 1 \n",
    "        \n",
    "        \"Spaceshipfeldfarbe\"\n",
    "        feld[p] = 2 \n",
    "    \n",
    "    showMatrix(feld)\n",
    "    \n",
    "\"(Länge von X und Y, Spaceship Stelle, Länge der Schüsse)\"\n",
    "asteroids(9,33,3)"
   ]
  },
  {
   "cell_type": "code",
   "execution_count": null,
   "metadata": {},
   "outputs": [],
   "source": []
  }
 ],
 "metadata": {
  "kernelspec": {
   "display_name": "Python 3",
   "language": "python",
   "name": "python3"
  },
  "language_info": {
   "codemirror_mode": {
    "name": "ipython",
    "version": 3
   },
   "file_extension": ".py",
   "mimetype": "text/x-python",
   "name": "python",
   "nbconvert_exporter": "python",
   "pygments_lexer": "ipython3",
   "version": "3.7.1"
  }
 },
 "nbformat": 4,
 "nbformat_minor": 2
}
