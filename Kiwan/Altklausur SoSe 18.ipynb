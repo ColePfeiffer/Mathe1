{
 "cells": [
  {
   "cell_type": "code",
   "execution_count": 1,
   "metadata": {},
   "outputs": [],
   "source": [
    "#Altklausur SoSe 18"
   ]
  },
  {
   "cell_type": "code",
   "execution_count": 7,
   "metadata": {},
   "outputs": [
    {
     "data": {
      "text/plain": [
       "8"
      ]
     },
     "execution_count": 7,
     "metadata": {},
     "output_type": "execute_result"
    }
   ],
   "source": [
    "#Nr.1\n",
    "erg = []\n",
    "for i in range(800):\n",
    "    if i * i % 800 == 1: \n",
    "        erg.append(i)\n",
    "len(erg)"
   ]
  },
  {
   "cell_type": "code",
   "execution_count": 8,
   "metadata": {},
   "outputs": [
    {
     "data": {
      "text/plain": [
       "4200420042"
      ]
     },
     "execution_count": 8,
     "metadata": {},
     "output_type": "execute_result"
    }
   ],
   "source": [
    "#Nr.2\n",
    "p=2760727302517\n",
    "zahl = 853662459626\n",
    "pow(zahl, p-2, p)"
   ]
  },
  {
   "cell_type": "code",
   "execution_count": 9,
   "metadata": {},
   "outputs": [],
   "source": [
    "#Nr.3\n",
    "#Richtig: 1/8; 3/16; 15/20=3/4"
   ]
  },
  {
   "cell_type": "code",
   "execution_count": 11,
   "metadata": {},
   "outputs": [
    {
     "data": {
      "text/plain": [
       "'0b1110010'"
      ]
     },
     "execution_count": 11,
     "metadata": {},
     "output_type": "execute_result"
    }
   ],
   "source": [
    "\"FALSCH\"\n",
    "#Nr.4\n",
    "-142+256\n",
    "bin(114)"
   ]
  },
  {
   "cell_type": "code",
   "execution_count": 19,
   "metadata": {},
   "outputs": [
    {
     "name": "stdout",
     "output_type": "stream",
     "text": [
      "229\n"
     ]
    },
    {
     "data": {
      "text/plain": [
       "1275"
      ]
     },
     "execution_count": 19,
     "metadata": {},
     "output_type": "execute_result"
    }
   ],
   "source": [
    "#Nr.5\n",
    "from sympy import prime\n",
    "from sympy import isprime\n",
    "print(prime(50))\n",
    "A = []\n",
    "for i in range(230):\n",
    "    if isprime(i):\n",
    "        A.append(i)\n",
    "B = set()\n",
    "for m in A:\n",
    "    for n in A:\n",
    "        B.add(m*n)\n",
    "len(B)"
   ]
  },
  {
   "cell_type": "code",
   "execution_count": 30,
   "metadata": {},
   "outputs": [
    {
     "data": {
      "text/plain": [
       "125970"
      ]
     },
     "execution_count": 30,
     "metadata": {},
     "output_type": "execute_result"
    }
   ],
   "source": [
    "#Nr.6\n",
    "from sympy import binomial\n",
    "n = 20\n",
    "k = 12\n",
    "b = 1 #kann man also ignorieren\n",
    "binomial(20, 12)"
   ]
  },
  {
   "cell_type": "code",
   "execution_count": 25,
   "metadata": {},
   "outputs": [
    {
     "name": "stdout",
     "output_type": "stream",
     "text": [
      "3.565438506835801e+42\n",
      "4.3e+38\n",
      "3.9e+40\n",
      "3.6e+42\n",
      "3.3e+44\n"
     ]
    }
   ],
   "source": [
    "#Nr.7\n",
    "from math import log1p\n",
    "print((10**23/log1p(10**23))**2)\n",
    "\n",
    "print(4.3*10**38)\n",
    "print(3.9*10**40)\n",
    "print(3.6*10**42) #richtig\n",
    "print(3.3*10**44)"
   ]
  },
  {
   "cell_type": "code",
   "execution_count": 31,
   "metadata": {},
   "outputs": [
    {
     "data": {
      "text/plain": [
       "(17, 140)"
      ]
     },
     "execution_count": 31,
     "metadata": {},
     "output_type": "execute_result"
    }
   ],
   "source": [
    "#Nr.8\n",
    "from sympy.ntheory.modular import crt\n",
    "crt([4,5,7], [1,2,3])\n",
    "#Lösung:8,6"
   ]
  },
  {
   "cell_type": "code",
   "execution_count": 33,
   "metadata": {},
   "outputs": [
    {
     "data": {
      "text/plain": [
       "Fraction(17, 22)"
      ]
     },
     "execution_count": 33,
     "metadata": {},
     "output_type": "execute_result"
    }
   ],
   "source": [
    "\"FALSCH\"\n",
    "#Nr.9\n",
    "from fractions import Fraction\n",
    "#0.7_72_\n",
    "# = 1*10 * 7._72_\n",
    "# 1*10 * (7+72/99)\n",
    "Fraction(1, 10) *(7+Fraction(72, 99))"
   ]
  },
  {
   "cell_type": "code",
   "execution_count": 4,
   "metadata": {},
   "outputs": [
    {
     "data": {
      "text/plain": [
       "1"
      ]
     },
     "execution_count": 4,
     "metadata": {},
     "output_type": "execute_result"
    }
   ],
   "source": [
    "#Nr.10\n",
    "def foo():\n",
    "    k = 0\n",
    "    while True:\n",
    "        yield k\n",
    "        k+=1\n",
    "        \n",
    "c,s = 0,0\n",
    "for i in foo():\n",
    "    s = (s+i) % 3\n",
    "    c += 1\n",
    "    if c > 3333334:\n",
    "        break\n",
    "s"
   ]
  },
  {
   "cell_type": "code",
   "execution_count": 8,
   "metadata": {},
   "outputs": [
    {
     "data": {
      "text/plain": [
       "([0, 1, 1], [])"
      ]
     },
     "execution_count": 8,
     "metadata": {},
     "output_type": "execute_result"
    }
   ],
   "source": [
    "#Nr.11\n",
    "#Richtig: Wurzel(4) = 2; 0.375; 2**53-1\n",
    "def binPlaces(x):\n",
    "    seen = []\n",
    "    start = []\n",
    "    periodic = []\n",
    "    while x > 0:\n",
    "        if x in seen:\n",
    "            cut = seen.index(x)\n",
    "            periodic = start[cut:]\n",
    "            start = start[:cut]\n",
    "            break\n",
    "        seen.append(x)\n",
    "        x*=2\n",
    "        if x >= 1:\n",
    "            start.append(1)\n",
    "            x -= 1\n",
    "        else:\n",
    "            start.append(0)\n",
    "    return start, periodic\n",
    "binPlaces(0.375)"
   ]
  },
  {
   "cell_type": "code",
   "execution_count": 10,
   "metadata": {},
   "outputs": [
    {
     "data": {
      "text/plain": [
       "20855"
      ]
     },
     "execution_count": 10,
     "metadata": {},
     "output_type": "execute_result"
    }
   ],
   "source": [
    "#Nr.12\n",
    "sum = 0\n",
    "for i in range(30, 456, 5):\n",
    "    sum += i\n",
    "sum"
   ]
  },
  {
   "cell_type": "code",
   "execution_count": 12,
   "metadata": {},
   "outputs": [
    {
     "data": {
      "text/plain": [
       "524268"
      ]
     },
     "execution_count": 12,
     "metadata": {},
     "output_type": "execute_result"
    }
   ],
   "source": [
    "#Nr.13 #NR.100 IN SPICKER\n",
    "\n",
    "import itertools\n",
    "options = {0,1,2,3,4,5,6,7,8,9,10,11,12,13,14,15,16,17,18}\n",
    "potenz = {x for length in range(len(options)+1) for x in itertools.combinations(options, length)} #len(potenz) = 2**16\n",
    "erg = []\n",
    "for elements in potenz:\n",
    "    if len(elements) <= 17:\n",
    "        erg.append(elements)\n",
    "len(erg)"
   ]
  },
  {
   "cell_type": "code",
   "execution_count": 13,
   "metadata": {},
   "outputs": [
    {
     "data": {
      "text/plain": [
       "360.0"
      ]
     },
     "execution_count": 13,
     "metadata": {},
     "output_type": "execute_result"
    }
   ],
   "source": [
    "#Nr.14\n",
    "from math import factorial\n",
    "#Perms mit Wdh.\n",
    "#n = 6\n",
    "#k1=k2=k4=k5 = 1\n",
    "#k2=2\n",
    "factorial(6)/factorial(2)"
   ]
  },
  {
   "cell_type": "code",
   "execution_count": 17,
   "metadata": {},
   "outputs": [
    {
     "name": "stdout",
     "output_type": "stream",
     "text": [
      "11\n"
     ]
    }
   ],
   "source": [
    "#Nr.15 #NR.20 IN SPICKER\n",
    "zähler = 3\n",
    "nenner = 17\n",
    "mod = 23\n",
    "for i in range(mod):\n",
    "    if (nenner*i) % mod == zähler:\n",
    "        print(i)"
   ]
  },
  {
   "cell_type": "code",
   "execution_count": 18,
   "metadata": {},
   "outputs": [],
   "source": [
    "#Nr.16\n",
    "#4. ist richtig"
   ]
  },
  {
   "cell_type": "code",
   "execution_count": 35,
   "metadata": {},
   "outputs": [
    {
     "name": "stdout",
     "output_type": "stream",
     "text": [
      "97/56\n",
      "168/97\n",
      "97/56\n",
      "265/153\n",
      "97/56\n",
      "168/97\n",
      "362/209\n",
      "97/56\n",
      "433/250\n",
      "459/265\n",
      "97/56\n"
     ]
    }
   ],
   "source": [
    "#Nr.17 #IN SPICKER\n",
    "import math\n",
    "from fractions import Fraction\n",
    "zahl = math.sqrt(3)\n",
    "maxNenner = 500 #einfach erhöhen bis es klappt\n",
    "maxAbstand = 10**-4\n",
    "min = zahl - maxAbstand\n",
    "max = zahl + maxAbstand\n",
    "for z in range(1,maxNenner+1):\n",
    "    for n in range(1,maxNenner+1):\n",
    "        q = Fraction(z,n)\n",
    "        if q > min and q < max:\n",
    "            print(q)\n",
    "#Lösung: 97/56"
   ]
  },
  {
   "cell_type": "code",
   "execution_count": 28,
   "metadata": {},
   "outputs": [
    {
     "name": "stdout",
     "output_type": "stream",
     "text": [
      "4096\n"
     ]
    },
    {
     "data": {
      "text/plain": [
       "1352"
      ]
     },
     "execution_count": 28,
     "metadata": {},
     "output_type": "execute_result"
    }
   ],
   "source": [
    "#Nr.18 #IN SPICKER\n",
    "options = [\"A\", \"B\", \"C\", \"D\", \"E\", \"F\", \"G\", \"H\"]\n",
    "allCombs = set()\n",
    "for pos1 in options:\n",
    "    for pos2 in options:\n",
    "        for pos3 in options:\n",
    "            for pos4 in options:\n",
    "                string = pos1+pos2+pos3+pos4\n",
    "                allCombs.add(string)\n",
    "print(len(allCombs))\n",
    "\n",
    "erg = set()\n",
    "for element in allCombs:\n",
    "    if element[0] == \"A\":\n",
    "        erg.add(element)\n",
    "    elif element[1] == \"B\":\n",
    "        erg.add(element)\n",
    "    elif element[2] == element[3]:\n",
    "        erg.add(element)\n",
    "len(erg)"
   ]
  },
  {
   "cell_type": "code",
   "execution_count": null,
   "metadata": {},
   "outputs": [],
   "source": []
  },
  {
   "cell_type": "code",
   "execution_count": null,
   "metadata": {},
   "outputs": [],
   "source": [
    "#Nr.20\n",
    "#A = H\n",
    "#B = C\n",
    "#D = G\n",
    "#E = I\n",
    "#F = J"
   ]
  }
 ],
 "metadata": {
  "kernelspec": {
   "display_name": "Python 3",
   "language": "python",
   "name": "python3"
  },
  "language_info": {
   "codemirror_mode": {
    "name": "ipython",
    "version": 3
   },
   "file_extension": ".py",
   "mimetype": "text/x-python",
   "name": "python",
   "nbconvert_exporter": "python",
   "pygments_lexer": "ipython3",
   "version": "3.7.1"
  }
 },
 "nbformat": 4,
 "nbformat_minor": 2
}
