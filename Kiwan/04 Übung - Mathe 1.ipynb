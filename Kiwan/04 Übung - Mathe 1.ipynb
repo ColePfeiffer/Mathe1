{
 "cells": [
  {
   "cell_type": "code",
   "execution_count": 3,
   "metadata": {},
   "outputs": [
    {
     "data": {
      "text/plain": [
       "111"
      ]
     },
     "execution_count": 3,
     "metadata": {},
     "output_type": "execute_result"
    }
   ],
   "source": [
    "def randNum (k = 2):\n",
    "    counter = 0\n",
    "    for a in range(10000):\n",
    "        check = False\n",
    "        randList = []\n",
    "        while (check == False):\n",
    "            a **= 2\n",
    "            a //= 10**k\n",
    "            a = a % 10**(2*k)\n",
    "            if a in randList:\n",
    "                check = True\n",
    "            randList.append(a)\n",
    "        #return randList, len(randList) - 1\n",
    "        if counter<len(randList):\n",
    "            counter = len(randList)\n",
    "    return counter\n",
    "\n",
    "randNum()"
   ]
  },
  {
   "cell_type": "code",
   "execution_count": null,
   "metadata": {},
   "outputs": [],
   "source": []
  }
 ],
 "metadata": {
  "kernelspec": {
   "display_name": "Python 3",
   "language": "python",
   "name": "python3"
  },
  "language_info": {
   "codemirror_mode": {
    "name": "ipython",
    "version": 3
   },
   "file_extension": ".py",
   "mimetype": "text/x-python",
   "name": "python",
   "nbconvert_exporter": "python",
   "pygments_lexer": "ipython3",
   "version": "3.7.1"
  }
 },
 "nbformat": 4,
 "nbformat_minor": 2
}
