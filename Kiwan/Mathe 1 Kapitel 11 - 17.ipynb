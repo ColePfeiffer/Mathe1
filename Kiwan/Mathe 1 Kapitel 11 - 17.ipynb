{
 "cells": [
  {
   "cell_type": "code",
   "execution_count": null,
   "metadata": {},
   "outputs": [],
   "source": [
    "#11. Rationale Zahlen\n",
    "#Fehler bei der Darstellung rationalen Zahlen in Python\n",
    "print(1 - 0.99)\n",
    "print(1 - 0.999999999999)\n",
    "print(1 / 3) #0.33333...\n",
    "print(1 / 3) * 3 #hier aber nicht 0.99999..., sondern 1\n",
    "\n",
    "#ganze Zahlen in Python immer korrekt; rationale Zahlen nicht zwingend"
   ]
  },
  {
   "cell_type": "code",
   "execution_count": null,
   "metadata": {},
   "outputs": [],
   "source": [
    "#Aufgabe 165 + 166 - Fkt für Kürzen eines Bruchs\n",
    "\n",
    "from math import gcd\n",
    "def kürzen (zähler, nenner):\n",
    "    if zähler < 0 and nenner < 0:\n",
    "        zähler *= -1\n",
    "        nenner *= -1\n",
    "    ggT = gcd(zähler, nenner)\n",
    "    return [zähler // ggT, nenner // ggT]\n",
    "\n",
    "print(kürzen(-30, -90))\n",
    "kürzen(730, 1245)"
   ]
  },
  {
   "cell_type": "code",
   "execution_count": null,
   "metadata": {},
   "outputs": [],
   "source": [
    "#Aufgabe 167 + 168 - Funktionen für das Rechnen mit Brüchen\n",
    "\n",
    "def bruchAdd(zähler1, nenner1, zähler2, nenner2):\n",
    "    kgv = (nenner1 * nenner2) // (gcd(nenner1, nenner2)) #kleinstes gemeinsames Vielfaches\n",
    "    hauptnenner = kgv\n",
    "    if nenner1 != hauptnenner: #beide Brüche auf denselben Nenner bringen\n",
    "        ergebnis = hauptnenner // nenner1\n",
    "        zähler1 *= ergebnis\n",
    "    if nenner2 != hauptnenner:\n",
    "        ergebnis = hauptnenner // nenner2\n",
    "        zähler2 *= ergebnis\n",
    "    zähler3 = zähler1 + zähler2 #Zähler addieren\n",
    "    return kürzen(zähler3, hauptnenner) #Bruch kürzen\n",
    "\n",
    "print(bruchAdd(5, 6, 4, 9))\n",
    "    \n",
    "def bruchMult(zähler1, nenner1, zähler2, nenner2):\n",
    "    zähler3 = zähler1 * zähler2\n",
    "    nenner3 = nenner1 * nenner2\n",
    "    return kürzen(zähler3, nenner3)\n",
    "\n",
    "print(bruchMult(5, 4, 10, 8))\n",
    "\n",
    "def bruchSub(zähler1, nenner1, zähler2, nenner2):\n",
    "    kgv = (nenner1 * nenner2) // (gcd(nenner1, nenner2))\n",
    "    hauptnenner = kgv\n",
    "    if nenner1 != hauptnenner:\n",
    "        ergebnis = hauptnenner // nenner1\n",
    "        zähler1 *= ergebnis\n",
    "    if nenner2 != hauptnenner:\n",
    "        ergebnis = hauptnenner // nenner2\n",
    "        zähler2 *= ergebnis\n",
    "    zähler3 = zähler1 - zähler2\n",
    "    return kürzen(zähler3, hauptnenner)\n",
    "\n",
    "print(bruchSub(-5, 6, 4, 9))\n",
    "\n",
    "def bruchDiv(zähler1, nenner1, zähler2, nenner2):\n",
    "    zähler3 = zähler1 * nenner2\n",
    "    nenner3 = nenner1 * zähler2\n",
    "    return kürzen(zähler3, nenner3)#\n",
    "\n",
    "print(bruchDiv(8, 14, 9, 15))"
   ]
  },
  {
   "cell_type": "code",
   "execution_count": null,
   "metadata": {},
   "outputs": [],
   "source": [
    "#Rechnen mit Brüchen in Python (1)\n",
    "\n",
    "from fractions import Fraction\n",
    "Fraction(3, 2) + Fraction(\"1/4\") #versch. Möglichkeiten (mit Komma oder als String)"
   ]
  },
  {
   "cell_type": "code",
   "execution_count": null,
   "metadata": {},
   "outputs": [],
   "source": [
    "#Rechnen mit Brüchen in Python (2)\n",
    "\n",
    "print(Fraction(1, 42)) # \"print\" druckt Bruch ohne \"Fraction\"\n",
    "\n",
    "from math import sqrt\n",
    "sqrt(Fraction(\"1/4\")) #Ausgabe nicht als Bruch, sondern als Fließkommazahl"
   ]
  },
  {
   "cell_type": "code",
   "execution_count": null,
   "metadata": {},
   "outputs": [],
   "source": [
    "#12. Rationale Zahlen im Computer\n",
    "#Runden in Pyhton (1)\n",
    "\n",
    "from decimal import * #das * importiert alles\n",
    "Decimal(\"21.3\"), Decimal(1 / 2) #als String oder mit /"
   ]
  },
  {
   "cell_type": "code",
   "execution_count": null,
   "metadata": {},
   "outputs": [],
   "source": [
    "#Runden in Pyhton (2)\n",
    "\n",
    "def round(dec):\n",
    "    return dec.quantize(Decimal(\"0.0000001\"))\n",
    "\n",
    "print(round(Decimal(2/3)))\n",
    "round(Decimal(\"0.00000005\"))"
   ]
  },
  {
   "cell_type": "code",
   "execution_count": null,
   "metadata": {},
   "outputs": [],
   "source": [
    "#Runden in Pyhton (3)\n",
    "\n",
    "a = round(Decimal(1/3))\n",
    "print(a)\n",
    "a + a + a #der Computer rundet immer -> Rundungsfehler (0.999... statt 1)"
   ]
  },
  {
   "cell_type": "code",
   "execution_count": null,
   "metadata": {},
   "outputs": [],
   "source": [
    "#Runden in Pyhton (4)\n",
    "#10**-6 / 100 * 100\n",
    "\n",
    "a = round(Decimal(\"0.000001\") / Decimal(\"100\")) #hier wird die erste Zahl schon auf 0 gerundet\n",
    "print(a)\n",
    "a * Decimal(\"100\") #a ist 0; 0 * x = 0 -> Rundungsfehler (eigentlich 10**-6)"
   ]
  },
  {
   "cell_type": "code",
   "execution_count": null,
   "metadata": {},
   "outputs": [],
   "source": [
    "#Fließkommadarstellung (mit Mantisse und Exponent) in Python\n",
    "\n",
    "from decimal import *\n",
    "\n",
    "getcontext().prec = 10\n",
    "getcontext().Emin = -90\n",
    "getcontext().Emax = 108\n",
    "getcontext().clamp = 1\n",
    "\n",
    "def mantissaExp (dec):\n",
    "    tup = dec.as_tuple()\n",
    "    dig = tup.digits\n",
    "    return dig, tup.exponent + len(dig) - 1\n",
    "\n",
    "print(mantissaExp(Decimal(1) / Decimal(2)))\n",
    "print(mantissaExp(Decimal(1) / Decimal(6)))\n",
    "print(mantissaExp(Decimal(\"0.0007\")))\n",
    "print(mantissaExp(Decimal(42)))\n",
    "print(mantissaExp(Decimal(12345)))\n",
    "#Erste innere KLammer: Mantisse (Nullen werden dabei ausgelassen); dahinter: Exponent; Vorzeichen fehlt"
   ]
  },
  {
   "cell_type": "code",
   "execution_count": null,
   "metadata": {},
   "outputs": [],
   "source": [
    "#weitere Fehler bei Maschinenzahlen\n",
    "\n",
    "\"\"\"Auslöschung\"\"\"\n",
    "a = Decimal(10000000000) + Decimal(42) #1 mit 10 Nullen\n",
    "b = Decimal(10000000000) + Decimal(41)\n",
    "print(a - b) #Ergebnis müsste 1 sein, ist aber 0 (siehe Notizen zur Vorlesung vom 30.04.19)\n",
    "\n",
    "\"\"\"Absorption\"\"\"\n",
    "c = Decimal(\"0.0000000001\")\n",
    "print(Decimal(1) + c + c + c + c + c) #man kann beliebig viele c's addieren, es ändert nichts an der Ausgabe\n",
    "\n",
    "\"\"\"Unterlauf\"\"\"\n",
    "d = Decimal(\"1E-70\")\n",
    "print(d * d * Decimal(\"1E70\")) #Ergebnis müsste 1E-70 sein, ist aber 0"
   ]
  },
  {
   "cell_type": "code",
   "execution_count": null,
   "metadata": {},
   "outputs": [],
   "source": [
    "#13. Das IEEE-Format\n",
    "#Binärzahlen in Brüche umwandeln\n",
    "\n",
    "from fractions import Fraction\n",
    "Fraction(0b1011, 0b10000)"
   ]
  },
  {
   "cell_type": "code",
   "execution_count": null,
   "metadata": {},
   "outputs": [],
   "source": [
    "#Aufgabe 191 - Fkt, die die ersten n binären Nackkommastellen einer Zahl ausgibt\n",
    "\n",
    "def binKomma (zahl, n):\n",
    "    binärliste = []\n",
    "    while len(binärliste) < n:\n",
    "        zahl *= 2\n",
    "        if zahl >= 1:\n",
    "            binärliste.append(1)\n",
    "            zahl -= 1\n",
    "        else:\n",
    "            binärliste.append(0)\n",
    "    return binärliste\n",
    "\n",
    "binKomma(0.6875, 10) #Ausgabe zeigt: (wahrscheinlich) keine Periode"
   ]
  },
  {
   "cell_type": "code",
   "execution_count": null,
   "metadata": {},
   "outputs": [],
   "source": [
    "#Listen Teil 4\n",
    "\n",
    "a = [2, 4, 6, 8, 10]\n",
    "print(a[-2]) #negativer Index; -1 von rechts beginnend\n",
    "\n",
    "print(a.index(6)) #Index eines Elements ausgeben; Index ist 2, weil man mit 0 beginnt\n",
    "\n",
    "print(a[1:4]) #von Index 1 bis 3 ausgeben lassen, letztes zählt nicht mit (wie bei range); auch mit neg. Index möglich"
   ]
  },
  {
   "cell_type": "code",
   "execution_count": null,
   "metadata": {},
   "outputs": [],
   "source": [
    "#Bsp - Fkt, die die binären Nachkommastellen (mit Periode) angibt\n",
    "\n",
    "def binPlaces (x):\n",
    "    seen = []\n",
    "    start = []\n",
    "    periodic = []\n",
    "    while x > 0:\n",
    "        if x in seen:\n",
    "            cut = seen.index(x)\n",
    "            periodic = start[cut:]\n",
    "            start = start[:cut]\n",
    "            break\n",
    "        seen.append(x)\n",
    "        x *= 2\n",
    "        if x >= 1:\n",
    "            start.append(1)\n",
    "            x -= 1\n",
    "        else:\n",
    "            start.append(0)\n",
    "    return start, periodic\n",
    "#in Ausgabe: erste Klammer = nicht-periodischer Anteil; zweite KLammer = periodischer Anteil\n",
    "\n",
    "from decimal import Decimal\n",
    "print(binPlaces(Decimal(\"0.3\"))) #Ausgabe meint die Binärzahl 0.0¯1001¯ (Periode 1001)\n",
    "\n",
    "from fractions import Fraction\n",
    "binPlaces(Fraction(3, 14))"
   ]
  },
  {
   "cell_type": "code",
   "execution_count": null,
   "metadata": {},
   "outputs": [],
   "source": [
    "#Aufgabe 193\n",
    "\n",
    "a = [5, 8, 42, 9, 18, 2, 42, 19]\n",
    "print(a.index(42)) #Liste wird von links aus gelesen; bricht nach der ersten 42 ab\n",
    "\n",
    "#a.index(1) würde Error ausgeben, da 1 nicht in der Liste vorkommt"
   ]
  },
  {
   "cell_type": "code",
   "execution_count": null,
   "metadata": {},
   "outputs": [],
   "source": [
    "#Rundungsfehler bei Fließkommazahlen im Computer\n",
    "\n",
    "from fractions import Fraction\n",
    "print(Fraction.from_float(0.1)) #Fehler in Darstellung von 0.1, weil es binär eine Periode enthält; Erklärung: s. Skript\n",
    "print(Decimal.from_float(0.1))\n",
    "\n",
    "#Aufgabe 197\n",
    "print(\"Aufgabe 197:\")\n",
    "print(1.00000000000001)\n",
    "print(1.000000000000001)\n",
    "print(1.0000000000000001)\n",
    "print(1.11111111111111)\n",
    "print(1.111111111111111)\n",
    "print(1.1111111111111111)\n",
    "\n",
    "#Aufgabe 198\n",
    "print(\"Aufgabe 198:\")\n",
    "print(3602879701896397/36028797018963968)\n",
    "print(0.10000000000000000)\n",
    "print(0.10000000000000001)\n",
    "print(0.10000000000000002)\n",
    "\n",
    "#Rechenenaugikeit im IEEE-Format liegt bei ca. 15 bis 17 Stellen, ansonsten wird zur nächsten Zahl gerundet"
   ]
  },
  {
   "cell_type": "code",
   "execution_count": null,
   "metadata": {},
   "outputs": [],
   "source": [
    "#Typische Programmierfehler beim Umgang mit Fließkommazahlen\n",
    "\n",
    "def surprise1 (x, y):\n",
    "    if x + x + x == y:\n",
    "        print(\"Yes!\")\n",
    "\n",
    "print(surprise1(0.1, 0.3))\n",
    "\n",
    "def surprise2 (x, y):\n",
    "    if 6 * x == y:\n",
    "        print(\"Yes!\")\n",
    "\n",
    "print(surprise2(0.1, 0.6))\n",
    "\n",
    "#Fehler aufgrund von Rundung im Computer\n",
    "\n",
    "#!bei FLießkommazahlen nicht auf Gleichheit (==) prüfen!\n",
    "\n",
    "\n",
    "print(10000000000000001 + 10000000000000001)\n",
    "print(10000000000000001 + 10000000000000001.0) #auch ganze Zahlen verlieren in Fließkommadarstellung ihre Exaktheit"
   ]
  },
  {
   "cell_type": "code",
   "execution_count": null,
   "metadata": {},
   "outputs": [],
   "source": [
    "#Alternative zum Testen auf Gleichheit bei Fließkommazahlen\n",
    "\n",
    "from math import isclose\n",
    "\n",
    "def surprise1b (x, y):\n",
    "    if isclose(x + x + x, y): #statt Gleichheit: ist der Abstand der beiden Werte sehr gering\n",
    "        print(\"Nice\")\n",
    "        \n",
    "surprise1b(0.1, 0.3)"
   ]
  },
  {
   "cell_type": "code",
   "execution_count": null,
   "metadata": {},
   "outputs": [],
   "source": [
    "#Aufgabe 201 - Welchen Wert hat c am Ende?\n",
    "\n",
    "#c = 0\n",
    "#x = 0.0\n",
    "#while x != 2.0:\n",
    "#    x += 0.1\n",
    "#    c += 1\n",
    "    \n",
    "#unendliche Schleife; bei Fließkommazahlen nicht auf Gleichheit testen\n",
    "#verbessert:\n",
    "c = 0\n",
    "x = 0.0\n",
    "while x < 2.0:\n",
    "    x += 0.1\n",
    "    c += 1\n",
    "c\n",
    "\n",
    "\n",
    "#Aufgabe 202 - Welchen Wert hat b am Ende?\n",
    "\n",
    "#a = 2**53\n",
    "#a *= 1.0\n",
    "#b = a\n",
    "#while b == a:\n",
    "#    b += 1\n",
    "\n",
    "#unendliche Schleife\n",
    "#(inkl. hidden bit) nur 53 Bits für Mantisse; dadurch ist b + 1 in Fließkomma-Aritmetik dasselbe wie b\n",
    "#so bleiben b und a immer gleich"
   ]
  },
  {
   "cell_type": "code",
   "execution_count": null,
   "metadata": {},
   "outputs": [],
   "source": [
    "#spezielle Werte im IEEE-Format\n",
    "\n",
    "#negative 0\n",
    "-1.0 * 0.0\n",
    "print(-1.0 * 0.0 == 0)\n",
    "#negative 0 wird in Python genau wie positive 0 behandelt, trotz Unterschieds in IEEE-Format (Vorzeichen 1(-0) bzw. 0(0))\n",
    "\n",
    "#Unendlichkeit (Verwendung bei Grenzwerten)\n",
    "a = 1e100 / 1e-300\n",
    "print(a, -a)\n",
    "#oder aus Bibliothek\n",
    "from math import inf\n",
    "print(inf, -inf)\n",
    "print(3 * inf)\n",
    "print(1 / inf)\n",
    "\n",
    "#Bitmuster für \"keine Zahl\"\n",
    "from math import nan #nan = not a number\n",
    "inf / inf, inf - inf, nan"
   ]
  },
  {
   "cell_type": "code",
   "execution_count": null,
   "metadata": {},
   "outputs": [],
   "source": [
    "#Mathematisches Runden\n",
    "print(1 + 2**-52)\n",
    "print(1 + 2**-52 + 2**-53)\n",
    "print(1 + 2**-53)\n",
    "print(1 + 2**-53 + 2**-52)\n",
    "#2. und 4. Zeile unterscheiden sich nur in Reihenfolge\n",
    "# -> bei Fließkommazahlen gelten die üblichen Rechengesetze (z.B. Kommutativgesetz) nicht\n",
    "\n",
    "#in IEEE wird automatisch bei der 0 als letzte Ziffer abgerundet, bei der 1 aufgerundet\n",
    "#Vorteil math. Runden: Rundungsfehler ist im Gegensatz zum kaufmännisches Runden deutlich kleiner"
   ]
  },
  {
   "cell_type": "code",
   "execution_count": null,
   "metadata": {},
   "outputs": [],
   "source": [
    "#14. Irrationale Zahlen\n",
    "#Aufgabe 215 - Fkt für Babylonisches Wurzelziehen\n",
    "#sowie Aufgabe 217 und 218\n",
    "\n",
    "\"kp, das sind etwas härtere Aufgaben\""
   ]
  },
  {
   "cell_type": "code",
   "execution_count": null,
   "metadata": {},
   "outputs": [],
   "source": [
    "#15. Mengen\n",
    "\n",
    "#2 Möglichkeiten Mengen in Python zu definieren\n",
    "A = {1, 2, 3, 42}\n",
    "#A = set([1, 2, 3, 42]) #identisch mit oberem\n",
    "print(A)\n",
    "\n",
    "print(3 in A, 7 in A, 7 not in A) #Vorkommen eines Elements in einer Menge\n",
    "\n",
    "B = {3, 42, 2, 1} #Reihenfolge spielt keine Rolle\n",
    "print(A == B)\n",
    "\n",
    "C = {1, 2, 3, 3, 42} #doppelte 3 ändert die Identität der Menge nicht\n",
    "print(A == B == C)\n",
    "print(len(C)) #Länge ist trotzdem 4, nicht 5\n",
    "\n",
    "#Teilmengen\n",
    "X = {3, 5, 10}\n",
    "Y = {3, 5, 6, 10, 11}\n",
    "print(X <= Y) # <= wird hier für Teilmenge verwendet; X ist Teilmenge von Y -> True"
   ]
  },
  {
   "cell_type": "code",
   "execution_count": null,
   "metadata": {},
   "outputs": [],
   "source": [
    "#Aufgabe 229 - Fkt für Teilmengen\n",
    "\n",
    "def subset (A, B):\n",
    "    for x in A:\n",
    "        if x not in B:\n",
    "            return False\n",
    "    return True\n",
    "    \n",
    "subset ({3, 5, 10}, {3, 5, 6, 10, 11})"
   ]
  },
  {
   "cell_type": "code",
   "execution_count": null,
   "metadata": {},
   "outputs": [],
   "source": [
    "#Leere Menge\n",
    "\n",
    "#N = {} #wird für etwas anderes benutzt, daher muss man die andere Methode benutzen\n",
    "set = ()\n",
    "\n",
    "subset (set(), {1, 2, 3})\n",
    "\"überarbeiten\""
   ]
  },
  {
   "cell_type": "code",
   "execution_count": null,
   "metadata": {},
   "outputs": [],
   "source": [
    "#Vereinigung von Mengen\n",
    "print({1, 2, 3, 4} | {3, 4, 5}) #alle Elemente die in A ODER B (|) vorkommen; jedes Element kommt in Vereinigung nur ein Mal vor \n",
    "\n",
    "#Durchschnitt von Mengen\n",
    "print({1, 2, 3, 4} & {3, 4, 5}) #alle Elemente die in A UND B (&) vorkommen; nur die Elemente, die in beiden Mengen vorkommen\n",
    "\n",
    "#mengentheoretische Differenz von Mengen\n",
    "print({1, 2, 3, 4} - {3, 4, 5}) #alle Elemente die in A, aber nicht in B vorkommen; man zieht B von A ab\n",
    "print({3, 4, 5} - {1, 2, 3, 4}) #alle Elemente die in B, aber nicht in A vorkommen; man zieht A von B ab\n",
    "#Aufgabe 238:  Reihenfolge spielt hier große Rolle, im Gegensatz zu Vereinigung und Durchschnitt (welche kommutativ sind) "
   ]
  },
  {
   "cell_type": "code",
   "execution_count": null,
   "metadata": {},
   "outputs": [],
   "source": [
    "#Aufgabe 239\n",
    "\n",
    "def vereinigung (A, B):\n",
    "    result = set()\n",
    "    for x in A:\n",
    "        result.add(x)\n",
    "    for x in B:\n",
    "        result.add(x)\n",
    "    return result\n",
    "\n",
    "print(vereinigung({1, 2, 3, 4}, {3, 4, 5}))\n",
    "\n",
    "\n",
    "def durchschnitt (A, B):\n",
    "    result = set()\n",
    "    for x in A:\n",
    "        if x in B:\n",
    "            result.add(x)\n",
    "    return result\n",
    "\n",
    "print(durchschnitt({1, 2, 3, 4}, {3, 4, 5}))\n",
    "\n",
    "\n",
    "def differenz (A, B):\n",
    "    result = set()\n",
    "    for x in A:\n",
    "        if x not in B:\n",
    "            result.add(x)\n",
    "    return result\n",
    "\n",
    "print(differenz({1, 2, 3, 4}, {3, 4, 5}))"
   ]
  },
  {
   "cell_type": "code",
   "execution_count": null,
   "metadata": {},
   "outputs": [],
   "source": [
    "#Aufgabe 241 - Ersatz für add und remove\n",
    "\n",
    "#A |= {x}\n",
    "#theoretisch Ersatz für add\n",
    "\n",
    "A = {1, 2, 3}\n",
    "B = {1, 2, 3}\n",
    "C = {1, 2, 3}\n",
    "AA = A\n",
    "BB = B\n",
    "CC = C\n",
    "A.add(4)\n",
    "B |= {4}\n",
    "C = C | {4}\n",
    "AA, BB, CC\n",
    "\n",
    "#A -= {x}\n",
    "#theoretisch Ersatz für remove"
   ]
  },
  {
   "cell_type": "code",
   "execution_count": null,
   "metadata": {},
   "outputs": [],
   "source": [
    "#add und remove\n",
    "\n",
    "A = {1, 3, 5}\n",
    "A.add(7) #wird hinzugefügt\n",
    "A.add(3) #ändert nichts, weil 3 schon in A ist\n",
    "print(A)\n",
    "\n",
    "B = {1, 2, 3}\n",
    "B.remove(2) #entfernt 2 aus B\n",
    "print(B)"
   ]
  },
  {
   "cell_type": "code",
   "execution_count": null,
   "metadata": {},
   "outputs": [],
   "source": [
    "#Aufgabe 244 - Menge mit range definieren\n",
    "\n",
    "print(set(range(10)))\n",
    "\n",
    "print(set(range(101)))\n",
    "print(set(range(2, 81, 2)))"
   ]
  },
  {
   "cell_type": "code",
   "execution_count": null,
   "metadata": {},
   "outputs": [],
   "source": [
    "#Mengenschreibweise in Python\n",
    "\"\"\"Reihenfolge von Skriptbsp. und Aufgaben hier nicht richtig, weil ich ersteres in einer Zelle gesammelt habe\"\"\"\n",
    "\n",
    "A = set(range(101))\n",
    "\n",
    "print()\n",
    "D = set()\n",
    "for n in A:\n",
    "    if n < 42 and n % 3 != 0:\n",
    "        D.add(n)\n",
    "print(D)\n",
    "\"oder mit comprehension\"\n",
    "D = {n for n in A if n < 42 and n % 3 != 0}\n",
    "print(D)\n",
    "\n",
    "print()\n",
    "X = {m ** 2 for m in range(100) if m ** 2 < 500}\n",
    "print(X)\n",
    "\n",
    "print()\n",
    "from fractions import Fraction\n",
    "N = {1, 2, 5}\n",
    "D = {3, 7, 9, 11}\n",
    "A = set()\n",
    "for n in N:\n",
    "    for d in D:\n",
    "        A.add(Fraction(n, d))\n",
    "print(A)\n",
    "\"oder mit comprehension\"\n",
    "A = {Fraction(n, d) for n in N for d in D}\n",
    "print(A)"
   ]
  },
  {
   "cell_type": "code",
   "execution_count": null,
   "metadata": {},
   "outputs": [],
   "source": [
    "#Aufgabe 247 - Übung Mengenschreibweise\n",
    "\n",
    "from sympy import isprime\n",
    "from math import sqrt\n",
    "\n",
    "X1 = {x for x in range(-9, 10)}\n",
    "X2 = {x for x in range(101) if isprime(x) and x ** 2 < 10000}\n",
    "X3 = {x for x in range(500) if sqrt(x) % 1 == 0} #oder wie oben: X = {m ** 2 for m in range(100) if m ** 2 < 500}\n",
    "X1, X2, X3"
   ]
  },
  {
   "cell_type": "code",
   "execution_count": null,
   "metadata": {},
   "outputs": [],
   "source": [
    "#Aufgabe 248 - Übung Mengenschreibweise\n",
    "\n",
    "from fractions import Fraction\n",
    "\n",
    "Y1 = {Fraction(1, x) for x in range(1, 101)}\n",
    "Y2 = {2 ** x for x in range(21)}\n",
    "Y3 = {((-1) ** x) * (x ** 3) for x in range(31)}\n",
    "Y1, Y2, Y3"
   ]
  },
  {
   "cell_type": "code",
   "execution_count": null,
   "metadata": {},
   "outputs": [],
   "source": [
    "#16. Endliche Kombinatorik\n",
    "#frozen sets\n",
    "\n",
    "A = frozenset([1, 2, 3]) #frozen sets entsprechen eher math. Mengen; die normalen sets hier sind veränderbar\n",
    "B = frozenset([4, 5, 6])\n",
    "print(A | B) #Verknüpfungen funktionieren auch in frozen sets\n",
    "print(A & B)\n",
    "print(A - B)\n",
    "#print(A.add(4)) funktioniert nicht; frozen sets sind unveränderbar\n",
    "\n",
    "print()\n",
    "#A = {1}\n",
    "#B = {2, 3}\n",
    "#C = {A, B} #Menge, die aus Mengen besteht; funktioniert so aber nicht in Python\n",
    "A = frozenset({1})\n",
    "B = frozenset({2, 3})\n",
    "C = frozenset({A, B})\n",
    "print(C)\n",
    "\n",
    "print()\n",
    "#Aufgabe 260 - Menge in Menge\n",
    "print(1 in C) #False, weil nur die Menge {1} und nicht die Zahl 1 in C ist\n",
    "print(frozenset({frozenset({1})}) <= C)"
   ]
  },
  {
   "cell_type": "code",
   "execution_count": null,
   "metadata": {},
   "outputs": [],
   "source": [
    "#Tupel\n",
    "\n",
    "#Tupel in Python entsprechen math. Tupel, im Prinzip math. Pendant zu den Listen\n",
    "#In Python verhalten sich Tupel zu Listen, wie frozen sets zu sets (man könnte sagen Tupel sind frozen lists)\n",
    "# -> Tupel (in Python) und frozen sets sind immutable\n",
    "print((4, 2))\n",
    "print((4, 2) == (2, 4)) #also: Reihenfolge und Häufigkeit spielen eine Rolle\n",
    "print((4, 2) == (4, 4, 2))"
   ]
  },
  {
   "cell_type": "code",
   "execution_count": null,
   "metadata": {},
   "outputs": [],
   "source": [
    "#Aufgabe 261\n",
    "\n",
    "print(frozenset({frozenset({1})})) # = {{1}}\n",
    "print(frozenset(frozenset({1}))) # = {1}\n",
    "\"nochmal angucken/nachfragen\""
   ]
  },
  {
   "cell_type": "code",
   "execution_count": null,
   "metadata": {},
   "outputs": [],
   "source": [
    "#Aufgabe 262 - Fkt, die sich wie ein geordnetes Paar verhält (ohne Listen oder Tupel zu verwenden)\n",
    "\n",
    "def pair (x, y):\n",
    "    return frozenset({frozenset({x}), frozenset({x, y})})\n",
    "print(pair(4, 2) == pair(2, 4))\n",
    "pair(4, 2)\n",
    "\"nochmal angucken/nachfragen\""
   ]
  },
  {
   "cell_type": "code",
   "execution_count": null,
   "metadata": {},
   "outputs": [],
   "source": [
    "#Aufgabe 263 - Fkt für kartesisches Produkt (auch: Mengenprodukt)\n",
    "\n",
    "def cartesianProduct (A, B):\n",
    "    return {(a, b) for a in A for b in B} #(a, b): Klammern sind hier nötig\n",
    "\n",
    "cartesianProduct({1, 2, 3, 4}, {4, 5, 6})"
   ]
  },
  {
   "cell_type": "code",
   "execution_count": null,
   "metadata": {},
   "outputs": [],
   "source": [
    "#Aufgabe 264 - Ist das Mengenprodukt kommutativ?\n",
    "\n",
    "A = {1}\n",
    "B = {2}\n",
    "#A x B = (1, 2)\n",
    "#B x A = (2, 1)\n",
    "#das sind 2 verschiedene Tupel, somit gilt (auch allgemein): A x B != B x A"
   ]
  },
  {
   "cell_type": "code",
   "execution_count": null,
   "metadata": {},
   "outputs": [],
   "source": [
    "#Aufgabe 266 - Mächtigkeit einer Menge (entspricht len in Python)\n",
    "\n",
    "#|A x B| = |A| * |B|\n",
    "#Bsp.:\n",
    "A = {1, 2, 3, 4}\n",
    "B = {4, 5, 6}\n",
    "print(len(A), len(B))\n",
    "len(A) * len(B)"
   ]
  },
  {
   "cell_type": "code",
   "execution_count": null,
   "metadata": {},
   "outputs": [],
   "source": [
    "#Mächtigkeit bei Verknüpfungen von Mengen\n",
    "\n",
    "#|A u B| = |A| + |B| - |A ∩ B|\n",
    "#letzter Schritt nötig weil, sonst die ELemente die in beiden vorkommen, doppelt gezählt werden würden\n",
    "#wären die Mengen disjunkt könnte man es weglassen\n",
    "\n",
    "#|A u B u C| = |A| + |B| |C| - |A ∩ B| - |B ∩ C| - |A ∩ C| + |A ∩ B ∩ C|\n",
    "#Inklusions-Exklusions-Prinzip"
   ]
  },
  {
   "cell_type": "code",
   "execution_count": null,
   "metadata": {},
   "outputs": [],
   "source": [
    "#Fkt für Summenzeichen\n",
    "\n",
    "def sum (s, a, b):\n",
    "    result = 0\n",
    "    k = a\n",
    "    while k <= b:\n",
    "        result += s(k)\n",
    "        k += 1\n",
    "    return result\n",
    "\n",
    "def square (k):\n",
    "    return k * k\n",
    "\n",
    "sum(square, 3, 10)"
   ]
  },
  {
   "cell_type": "code",
   "execution_count": null,
   "metadata": {},
   "outputs": [],
   "source": [
    "#Summenformeln\n",
    "\n",
    "#Summenformel: (n*(n+1)) / 2\n",
    "#geometrische Summenformel: (1-(q**(n+1))) / (1-q)"
   ]
  },
  {
   "cell_type": "code",
   "execution_count": null,
   "metadata": {},
   "outputs": [],
   "source": [
    "#Aufgabe 274 + 275 + 278 + 282 - Übung Summenzeichen\n",
    "\n",
    "def s1 (n):\n",
    "    return 4 * n\n",
    "print(sum(s1, 1, 30))\n",
    "\n",
    "def s2 (n):\n",
    "    return 2 * n\n",
    "print(sum(s2, 20, 40))\n",
    "\n",
    "def s3 (n):\n",
    "    return 42\n",
    "print(sum(s3, 3, 10)) #einfacher: 3 bis 10 sind 8 Summanden -> 8*42 = 336\n",
    "\n",
    "def s4 (n):\n",
    "    return 2 ** n\n",
    "print(sum(s4, 1, 9))\n",
    "\n",
    "from fractions import Fraction\n",
    "def s5 (n):\n",
    "    return Fraction(1, 2) ** n # == Fraction(1, 2 ** n)\n",
    "print(sum(s5, 0, 8))"
   ]
  },
  {
   "cell_type": "code",
   "execution_count": null,
   "metadata": {},
   "outputs": [],
   "source": [
    "#Aufgabe 284 - Fkt für Produktzeichen\n",
    "\n",
    "def prod (p, a, b):\n",
    "    result = 1\n",
    "    k = a\n",
    "    while k <= b:\n",
    "        result *= s(k)\n",
    "        k += 1\n",
    "    return result"
   ]
  },
  {
   "cell_type": "code",
   "execution_count": null,
   "metadata": {},
   "outputs": [],
   "source": [
    "#17. Permutationen, Variationen und Kombinationen\n",
    "#Permutationen\n",
    "\n",
    "#Anzahl der Permutationen einer Menge mit n Elementen = n!\n",
    "\n",
    "#rekursive Fkt für Permutationen\n",
    "def perms (L):\n",
    "    if len(L) <= 1:\n",
    "        return [L]\n",
    "    return [[L[i]] + P for i in range(len(L))\n",
    "                       for P in perms(L[:i] + L[i+1:])]\n",
    "\n",
    "print(perms([1, 2, 3]))"
   ]
  },
  {
   "cell_type": "code",
   "execution_count": null,
   "metadata": {},
   "outputs": [],
   "source": [
    "#Aufgabe 290 - rekursive Fkt für die Fakultät\n",
    "\n",
    "def fact (n):\n",
    "    result = 0\n",
    "    if n == 1:\n",
    "        return 1\n",
    "    else:\n",
    "        result = n * fact(n - 1)\n",
    "    return result\n",
    "\n",
    "fact(5)"
   ]
  },
  {
   "cell_type": "code",
   "execution_count": null,
   "metadata": {},
   "outputs": [],
   "source": [
    "#Rekursive Fkt für Permutationen, aber für solche in denen nicht alle Objekte unterscheidbar sind\n",
    "#(z.B. 2 rote Bärchen, 1 blauer)\n",
    "\n",
    "def perms2 (L):\n",
    "    if len(L) <= 1:\n",
    "        return (L,)\n",
    "    return tuple((L[i],) + P for i in range(len(L)) \n",
    "                             for P in perms2(L[:i]+L[i+1:]))\n",
    "\n",
    "perms2((1, 2, 2)), set(perms2((1, 2, 2)))"
   ]
  },
  {
   "cell_type": "code",
   "execution_count": null,
   "metadata": {},
   "outputs": [],
   "source": [
    "#Fkt für Binomialkoeffizienten (aus Bibliothek)\n",
    "\n",
    "from sympy import binomial\n",
    "\n",
    "binomial(7, 2)"
   ]
  },
  {
   "cell_type": "code",
   "execution_count": null,
   "metadata": {},
   "outputs": [],
   "source": [
    "#Aufgabe 296\n",
    "print(len(set(perms2((1, 1, 1, 1, 2)))))\n",
    "print(len(set(perms2((1, 1, 1, 2, 2)))))\n",
    "print(len(set(perms2((1, 1, 1, 2, 3)))))\n",
    "print(len(set(perms2((1, 1, 2, 2, 3)))))"
   ]
  },
  {
   "cell_type": "code",
   "execution_count": null,
   "metadata": {},
   "outputs": [],
   "source": [
    "#Aufgabe 300 + 301 - Modifikation von perms für Variationen + Variationen mit Wiederholungen\n",
    "\n",
    "def vars (L, k):\n",
    "    if k == 0:\n",
    "        return [[]]\n",
    "    return [[L[i]] + P for i in range(len(L))\n",
    "                       for P in vars(L[:i] + L[i+1:], k-1)]\n",
    "print(len(vars([1, 2, 3, 4, 5, 6, 7], 3)))\n",
    "\n",
    "\n",
    "def varsRep (L, k):\n",
    "    if k == 0:\n",
    "        return [[]]\n",
    "    return [[L[i]] + P for i in range(len(L))\n",
    "                       for P in varsRep(L, k - 1)]"
   ]
  },
  {
   "cell_type": "code",
   "execution_count": null,
   "metadata": {},
   "outputs": [],
   "source": [
    "#Aufgabe 303 - Modifikation von vars für Kombinationen\n",
    "\n",
    "def combs (L, k):\n",
    "    if k == 0:\n",
    "        return {frozenset()}\n",
    "    return {frozenset([x]) | P for x in L\n",
    "                               for P in combs(L-{x}, k-1)}"
   ]
  },
  {
   "cell_type": "code",
   "execution_count": null,
   "metadata": {},
   "outputs": [],
   "source": [
    "#Aufgabe 304 - Fkt für Binomialkoeffizenten\n",
    "\n",
    "def binom (n, k):\n",
    "    if k == 0 or k == n:\n",
    "        return 1\n",
    "    return fact(n) // (fact(k) * fact(n - k))\n",
    "print(binom(6, 1)) #6 über 1 \n",
    "\n",
    "#oder: aus Lösungen\n",
    "\n",
    "def binom2 (n, k):\n",
    "    if k == 0:\n",
    "        return 1\n",
    "    if k * 2 > n:\n",
    "        return binom(n, n - k)\n",
    "    return binom(n, k - 1) * (n + 1 - k) // k"
   ]
  },
  {
   "cell_type": "code",
   "execution_count": null,
   "metadata": {},
   "outputs": [],
   "source": [
    "#Rekursive Fkt für Potenzmenge\n",
    "\n",
    "def powerSet (A):\n",
    "    if A == set():\n",
    "        return [set()]\n",
    "    a = A.pop()\n",
    "    P = powerSet(A)\n",
    "    return P + [X | {a} for X in P]\n",
    "\n",
    "powerSet({1, 2, 3})"
   ]
  },
  {
   "cell_type": "code",
   "execution_count": null,
   "metadata": {},
   "outputs": [],
   "source": [
    "#Aufgabe 310 - Modifikation von powerSet (Mengen von Mengen statt Listen von Mengen)\n",
    "\n",
    "def powerSet2 (A):\n",
    "    if A == set():\n",
    "        return {frozenset()}\n",
    "    a = A.pop()\n",
    "    P = powerSet2(A)\n",
    "    return P | set(X | {a} for X in P)\n",
    "\n",
    "powerSet2({1, 2, 3})"
   ]
  },
  {
   "cell_type": "code",
   "execution_count": null,
   "metadata": {},
   "outputs": [],
   "source": [
    "#Fkt für Kombinationen mit Wiederholungen\n",
    "\n",
    "def convert (t):\n",
    "    c = 1\n",
    "    result = []\n",
    "    for i in t:\n",
    "        if i == 0:\n",
    "            c += 1\n",
    "        else:\n",
    "            result.append(c)\n",
    "    return result\n",
    "\n",
    "def combsRepeat (n, k):\n",
    "    return [convert(t) for t in set(perms2((1,) * k +\n",
    "                                          (0,) * (n-1)))]\n",
    "\n",
    "combsRepeat(5, 3)"
   ]
  },
  {
   "cell_type": "code",
   "execution_count": null,
   "metadata": {},
   "outputs": [],
   "source": [
    "\"306, 314-330\""
   ]
  }
 ],
 "metadata": {
  "kernelspec": {
   "display_name": "Python 3",
   "language": "python",
   "name": "python3"
  },
  "language_info": {
   "codemirror_mode": {
    "name": "ipython",
    "version": 3
   },
   "file_extension": ".py",
   "mimetype": "text/x-python",
   "name": "python",
   "nbconvert_exporter": "python",
   "pygments_lexer": "ipython3",
   "version": "3.7.1"
  }
 },
 "nbformat": 4,
 "nbformat_minor": 2
}
