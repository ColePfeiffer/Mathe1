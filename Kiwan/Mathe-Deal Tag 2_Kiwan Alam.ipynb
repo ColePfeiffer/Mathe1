{
 "cells": [
  {
   "cell_type": "code",
   "execution_count": 1,
   "metadata": {},
   "outputs": [
    {
     "name": "stdout",
     "output_type": "stream",
     "text": [
      "Hallo, ich bin 22 Jahre alt\n"
     ]
    }
   ],
   "source": [
    "#Aufgabe 1)\n",
    "\n",
    "def printAge(age):\n",
    "    print(\"Hallo, ich bin\", age, \"Jahre alt\")\n",
    "\n",
    "printAge(22)"
   ]
  },
  {
   "cell_type": "code",
   "execution_count": 2,
   "metadata": {},
   "outputs": [
    {
     "name": "stdout",
     "output_type": "stream",
     "text": [
      "4 + 5 = 9\n"
     ]
    }
   ],
   "source": [
    "#Aufgabe 2)\n",
    "\n",
    "def printEquation(a, b, c, operation):\n",
    "    print(a, operation, b, \"=\", c)\n",
    "\n",
    "printEquation(4, 5, 9, \"+\")"
   ]
  },
  {
   "cell_type": "code",
   "execution_count": 1,
   "metadata": {},
   "outputs": [
    {
     "name": "stdout",
     "output_type": "stream",
     "text": [
      "a ist kleiner als b\n",
      "None\n",
      "a ist größer als b\n",
      "None\n",
      "a ist gleich b\n",
      "None\n"
     ]
    }
   ],
   "source": [
    "#Aufgabe 3)\n",
    "\n",
    "def compareNumbers(a, b):\n",
    "    if a > b:\n",
    "        return 1\n",
    "    elif a < b:\n",
    "        return -1\n",
    "    elif a == b:\n",
    "        return 0\n",
    "#soll ich hier lieber bei den letzten beiden elif verwenden, auch wenn es hier am Ergebnis (im Vgl zu 3x if) nichts ändert?\n",
    "# das ist perfekt mit elif, weil wenn die erste Bedingung zutrifft, \n",
    "#werden mit elif die anderen beiden Bedingungen nicht mehr geprüft. Das ist effizientes programmieren :)\n",
    "\n",
    "def printCompare(a, b):\n",
    "    if compareNumbers(a, b) == -1:\n",
    "        print(\"a ist kleiner als b\")\n",
    "    elif compareNumbers(a, b) == 1:\n",
    "        print(\"a ist größer als b\")\n",
    "    elif compareNumbers(a, b) == 0:\n",
    "        print(\"a ist gleich b\")\n",
    "\n",
    "        \n",
    "#printCompare gibt dir nichts zurück(None), also du hast kein return. \n",
    "#Du möchtest ja nicht etwas ausgeben(print), dass gar nicht existiert\n",
    "#besser wäre: printCompare(4, 6)\n",
    "print(printCompare(4, 6))\n",
    "print(printCompare(6, 4))\n",
    "print(printCompare(4, 4))\n",
    "\n",
    "#elif auch hier richtig verwendet?"
   ]
  },
  {
   "cell_type": "code",
   "execution_count": 3,
   "metadata": {},
   "outputs": [
    {
     "name": "stdout",
     "output_type": "stream",
     "text": [
      "3 * 3 = 9\n"
     ]
    }
   ],
   "source": [
    "#Aufgabe 4)\n",
    "\n",
    "def square(n):\n",
    "    return n**2\n",
    "\n",
    "def printSquare(n):\n",
    "    quadrat = square(n)\n",
    "    printEquation(n, n, quadrat, \"*\")\n",
    "\n",
    "printSquare(3)"
   ]
  },
  {
   "cell_type": "code",
   "execution_count": 45,
   "metadata": {
    "scrolled": true
   },
   "outputs": [
    {
     "name": "stdout",
     "output_type": "stream",
     "text": [
      "7\n",
      "11\n"
     ]
    }
   ],
   "source": [
    "#Aufgabe 5)\n",
    "\n",
    "def loopy(a, b):\n",
    "    while a < b:\n",
    "        a += 3\n",
    "    return a\n",
    "        \n",
    "print(loopy(4, 6))\n",
    "print(loopy(2, 9))"
   ]
  },
  {
   "cell_type": "code",
   "execution_count": 2,
   "metadata": {},
   "outputs": [
    {
     "data": {
      "text/plain": [
       "True"
      ]
     },
     "execution_count": 2,
     "metadata": {},
     "output_type": "execute_result"
    }
   ],
   "source": [
    "#Aufgabe 6)\n",
    "\n",
    "def isPrime(n):\n",
    "    a = 2\n",
    "    if n < 2:\n",
    "        return False\n",
    "    while a < n:\n",
    "        if n % a == 0:\n",
    "            return False\n",
    "        a += 1\n",
    "    #wenn die if Abfrage ausgeführt wird, ist a = n. Zwangsläufig. \n",
    "    #Du kannst in dem Fall auch immer ohne Bedingung True zurückgeben\n",
    "    ##if a >= n:\n",
    "    return True\n",
    "    \n",
    "    #es steht nicht so richtig in der Aufgabenstellung, aber prüf mal am Anfang, \n",
    "    #ob n nicht einen Wert wie 1 oder 0 oder -234 hat. \n",
    "    #Ich habe das Gefühl, dass du sehr gut mit den Aufgaben zurecht kommst, deshalb\n",
    "    #für alle Zahlen ab 2 funktioniert das super\n",
    "    \n",
    "isPrime(19)"
   ]
  },
  {
   "cell_type": "code",
   "execution_count": 110,
   "metadata": {},
   "outputs": [
    {
     "data": {
      "text/plain": [
       "[2, 3, 5, 7, 11, 13, 17, 19, 23, 29]"
      ]
     },
     "execution_count": 110,
     "metadata": {},
     "output_type": "execute_result"
    }
   ],
   "source": [
    "#Aufgabe 7)\n",
    "\n",
    "def primeFinder(m):\n",
    "    primeList = []\n",
    "    n = 2\n",
    "    while len(primeList) < m:\n",
    "        if isPrime(n) == True:\n",
    "            primeList.append(n)\n",
    "        n += 1\n",
    "    return primeList\n",
    "\n",
    "primeFinder(10)"
   ]
  },
  {
   "cell_type": "code",
   "execution_count": null,
   "metadata": {},
   "outputs": [],
   "source": []
  }
 ],
 "metadata": {
  "kernelspec": {
   "display_name": "Python 3",
   "language": "python",
   "name": "python3"
  },
  "language_info": {
   "codemirror_mode": {
    "name": "ipython",
    "version": 3
   },
   "file_extension": ".py",
   "mimetype": "text/x-python",
   "name": "python",
   "nbconvert_exporter": "python",
   "pygments_lexer": "ipython3",
   "version": "3.7.1"
  }
 },
 "nbformat": 4,
 "nbformat_minor": 2
}
