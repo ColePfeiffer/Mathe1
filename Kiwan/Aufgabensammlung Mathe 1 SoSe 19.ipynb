{
 "cells": [
  {
   "cell_type": "code",
   "execution_count": null,
   "metadata": {},
   "outputs": [],
   "source": [
    "#Nr.1\n",
    "#Berechnen Sie die Summe 1**2 + 2**2 + 3**2 + ... + 25**2.\n",
    "def nr1 ():\n",
    "    sum = 0\n",
    "    for i in range(1, 26):\n",
    "        sum += i ** 2\n",
    "    return sum\n",
    "nr1()"
   ]
  },
  {
   "cell_type": "code",
   "execution_count": null,
   "metadata": {},
   "outputs": [],
   "source": [
    "#Nr.2\n",
    "#Geben Sie die Summe der ersten 100 ungeraden natüurlichen Zahlen an.\n",
    "def nr2 ():\n",
    "    sum = 0\n",
    "    for i in range(1, 200, 2):\n",
    "        sum += i\n",
    "    return sum\n",
    "nr2()"
   ]
  },
  {
   "cell_type": "code",
   "execution_count": null,
   "metadata": {},
   "outputs": [],
   "source": [
    "#Nr.4\n",
    "#Berechnen Sie in Z/17Z den Wert 7 * 7 + 10 * 7.\n",
    "(7 * 7 + 10 * 7) % 17"
   ]
  },
  {
   "cell_type": "code",
   "execution_count": null,
   "metadata": {},
   "outputs": [],
   "source": [
    "#Nr.5\n",
    "#Kreuzen Sie alle Lösungen der Gleichung (x - 2) * (x - 4) = 0 in Z/8Z an.\n",
    "def nr5 ():\n",
    "    erg = []\n",
    "    for x in range(8):\n",
    "        if ((x-2)*(x-4)) % 8 == 0:\n",
    "            erg.append(x)\n",
    "    return erg\n",
    "nr5()"
   ]
  },
  {
   "cell_type": "code",
   "execution_count": null,
   "metadata": {},
   "outputs": [],
   "source": [
    "#Nr.6\n",
    "#Wie viele verschiedene Lösungen hat die Gleichung 20x**2 + 25x + 50 = 0 in Z/100Z?\n",
    "def nr6 ():\n",
    "    erg = []\n",
    "    for x in range(100):\n",
    "        if (20*(x**2) + 25*x + 50) % 100 == 0:\n",
    "            erg.append(x)\n",
    "    print(len(erg))\n",
    "    return erg\n",
    "nr6()"
   ]
  },
  {
   "cell_type": "code",
   "execution_count": null,
   "metadata": {},
   "outputs": [],
   "source": [
    "#Nr.7\n",
    "#Für wie viele Elemente x von Z/160Z gilt x3 = x?\n",
    "def nr7 ():\n",
    "    erg = []\n",
    "    for x in range(160):\n",
    "        if x**3 % 160 == x: #funktioniert nicht für: x % 160 == x ** 3\n",
    "            erg.append(x)\n",
    "    print(len(erg))\n",
    "    return erg\n",
    "nr7()"
   ]
  },
  {
   "cell_type": "code",
   "execution_count": null,
   "metadata": {},
   "outputs": [],
   "source": [
    "#Nr.8\n",
    "#Sei a = 29 und b = 106. Die Zahl c = a**b hat deutlich mehr als eine Million Dezimalstellen.\n",
    "#Was sind die letzten beiden Ziffern von c (also die beiden ganz rechts)?\n",
    "\n",
    "29**10**3 #29**10(**x) hat als letzte Ziffern immer 01"
   ]
  },
  {
   "cell_type": "code",
   "execution_count": null,
   "metadata": {},
   "outputs": [],
   "source": [
    "#Nr.9\n",
    "#Geben Sie von der Binärdarstellung von 10*14000 das erste und das letzte Bit an.\n",
    "\n",
    "\"{0:b}\".format(10**14000)\n",
    "#Erste Stelle 0, letzte Stelle 1"
   ]
  },
  {
   "cell_type": "code",
   "execution_count": null,
   "metadata": {},
   "outputs": [],
   "source": [
    "#Nr.10\n",
    "#Geben Sie die Binärdarstellung (Zweierkomplement) von -46 auf einem 16-Bit-Computer an.\n",
    "print(-46 + 2**16)\n",
    "zahl = \"Number in binary: {:b}\"\n",
    "zahl.format(65490)"
   ]
  },
  {
   "cell_type": "code",
   "execution_count": null,
   "metadata": {},
   "outputs": [],
   "source": [
    "#Nr.11\n",
    "#Welchen Wert hat die Variable c nach Ausführung des folgenden Codes?\n",
    "c = 0\n",
    "k = 1\n",
    "for n in range(2**4): #eigentlich 2**40, macht aber keinen Unterschied\n",
    "    c += k\n",
    "    k *= -1\n",
    "c #range Ende ist gerade Zahl, aber die zählt nicht mit. Ergebnis somit, wie für jede andere ungerade Zahl auch, = 0"
   ]
  },
  {
   "cell_type": "code",
   "execution_count": null,
   "metadata": {},
   "outputs": [],
   "source": [
    "#Nr.12\n",
    "#Welchen Wert hat die Variable c nach Ausführung des folgenden Codes?\n",
    "c, k = 42, 1\n",
    "for n in range(3**4): #eigentlich 3**40, macht aber keinen Unterschied\n",
    "    k *= -1\n",
    "    c += 2*k\n",
    "c ##range Ende ist ungerade Zahl, aber die zählt nicht mit. Ergebnis somit, wie für jede andere gerade Zahl auch, = 40"
   ]
  },
  {
   "cell_type": "code",
   "execution_count": null,
   "metadata": {},
   "outputs": [],
   "source": [
    "#Nr.13\n",
    "#Welchen Wert hat die Variable c nach Ausführung des folgenden Codes?\n",
    "c = -1\n",
    "for n in range(5): #eigentlich 5**40\n",
    "    c += (n % 5) - 2\n",
    "c"
   ]
  },
  {
   "cell_type": "code",
   "execution_count": null,
   "metadata": {},
   "outputs": [],
   "source": [
    "#Nr.14\n",
    "#Welchen Wert hat die Variable c nach Ausführung des folgenden Codes?\n",
    "c = 0\n",
    "k = 1\n",
    "for n in range(0, 3): #eigentlich 3**40\n",
    "    c += (k - 1)\n",
    "    k = (k + 1) % 3\n",
    "c"
   ]
  },
  {
   "cell_type": "code",
   "execution_count": null,
   "metadata": {},
   "outputs": [],
   "source": [
    "#Nr.15\n",
    "#Welche der folgenden Zahlen ist durch 7 teilbar?\n",
    "print(int(\"17025\", 8) % 7 == 0)\n",
    "print(int(\"17137\", 8) % 7 == 0)\n",
    "print(int(\"17141\", 8) % 7 == 0)"
   ]
  },
  {
   "cell_type": "code",
   "execution_count": null,
   "metadata": {},
   "outputs": [],
   "source": [
    "#Nr.16\n",
    "#Welche der folgenden Zahlen ist durch 11 teilbar?\n",
    "print(0 / 11 == 0)\n",
    "print(10**100 % 11 == 0)\n",
    "print(10**169 % 11 == 0)\n",
    "print((10**169 + 1) % 11 == 0)"
   ]
  },
  {
   "cell_type": "code",
   "execution_count": null,
   "metadata": {},
   "outputs": [],
   "source": [
    "#Nr.17\n",
    "#Geben Sie den größten gemeinsamen Teiler von 471 694 074 821, 471 766 128 373 und 471 757 130 107 an;\n",
    "#also die größte Zahl, die alle drei Zahlen teilt.\n",
    "from math import gcd\n",
    "gcd(gcd(471694074821, 471766128373), 471757130107)"
   ]
  },
  {
   "cell_type": "code",
   "execution_count": null,
   "metadata": {},
   "outputs": [],
   "source": [
    "#Nr.18\n",
    "#Der größte gemeinsame Teiler von 18 und 11 ist 1. Geben Sie ganze Zahlen a und b an, so dass 1 = 18a + 11b gilt.\n",
    "def nr18 ():\n",
    "    for a in range(-18, 19):\n",
    "        for b in range(-11, 12):\n",
    "            if 18*a + 11*b == 1:\n",
    "                print(\"a: \", a)\n",
    "                print(\"b: \", b)\n",
    "nr18()\n",
    "print(18*-3 + 11*5 == 1)"
   ]
  },
  {
   "cell_type": "code",
   "execution_count": null,
   "metadata": {},
   "outputs": [],
   "source": [
    "#Nr.19\n",
    "#Geben Sie zwei Zahlen aus Z/27Z an, deren Produkt verschwindet, obwohl beide Zahlen nicht null sind.\n",
    "def nr19 ():\n",
    "    for a in range(1, 27):\n",
    "        for b in range(1, 27):\n",
    "            if (a * b) % 27 == 0:\n",
    "                return a, b\n",
    "nr19()"
   ]
  },
  {
   "cell_type": "code",
   "execution_count": null,
   "metadata": {},
   "outputs": [],
   "source": [
    "#Nr.20\n",
    "#Berechnen Sie den Quotienten 2/9 in Z23.\n",
    "def nr20 ():\n",
    "    for i in range(23):\n",
    "        if (9*i) % 23 == 2:\n",
    "            return i\n",
    "nr20()"
   ]
  },
  {
   "cell_type": "code",
   "execution_count": null,
   "metadata": {},
   "outputs": [],
   "source": [
    "#Nr.21\n",
    "#Geben Sie eine von 1 verschiedene Zahl an, die in Z/24Z einen Kehrwert hat.\n",
    "def nr21 ():\n",
    "    for a in range(2, 24):\n",
    "        for b in range(2, 24):\n",
    "            if (a*b) % 24 == 1:\n",
    "                return a, b\n",
    "nr21()"
   ]
  },
  {
   "cell_type": "code",
   "execution_count": null,
   "metadata": {},
   "outputs": [],
   "source": [
    "#Nr.22\n",
    "#(2/9)**1000000 Z11.\n",
    "def nr22 (): #dieselbe Fkt wie in Nr.20\n",
    "    for i in range(11):\n",
    "        if (9*i) % 11 == 2:\n",
    "            return i\n",
    "print(nr22())\n",
    "(nr22() ** 1000000) % 11"
   ]
  },
  {
   "cell_type": "code",
   "execution_count": null,
   "metadata": {},
   "outputs": [],
   "source": [
    "#Nr.23\n",
    "#Wie viele Elemente von Z/802Z sind bezüglich der Multiplikation invers zu sich selbst?\n",
    "def nr23 ():\n",
    "    erg = []\n",
    "    for x in range(802):\n",
    "        if (x*x) % 802 == 1:\n",
    "            erg.append(x)\n",
    "    print(len(erg))\n",
    "    return erg\n",
    "nr23()"
   ]
  },
  {
   "cell_type": "code",
   "execution_count": null,
   "metadata": {},
   "outputs": [],
   "source": [
    "#Nr.24\n",
    "#Wie viele Elemente von Z/93Z lassen sich als Quadrat eines Elements von Z=93Z darstellen?\n",
    "#[Beispiel: 51 ist das Quadrat von 12.]\n",
    "from math import sqrt\n",
    "def nr24 ():\n",
    "    erg = set() #Menge statt Liste verwenden, sonst hat man doppelte Elemente\n",
    "    for i in range(93):\n",
    "        temp = (i**2) % 93\n",
    "        if temp < 93:\n",
    "            erg.add(temp)\n",
    "    return len(erg), erg\n",
    "nr24()"
   ]
  },
  {
   "cell_type": "code",
   "execution_count": 2,
   "metadata": {},
   "outputs": [
    {
     "data": {
      "text/plain": [
       "4200420042"
      ]
     },
     "execution_count": 2,
     "metadata": {},
     "output_type": "execute_result"
    }
   ],
   "source": [
    "#Nr.25\n",
    "#p = 2 760 727 302 517 ist eine Primzahl. Geben Sie den Kehrwert von 853 662 459 626 in Zp an.\n",
    "#(Hinweis: kleiner Satz von Fermat.)\n",
    "pow(853662459626, 2760727302517 - 2, 2760727302517) #kleiner Satz von Fermat\n",
    "#pow(x,y,z) heißt (x**y) % z; geht auch als pow(x,y) = x**y"
   ]
  },
  {
   "cell_type": "code",
   "execution_count": null,
   "metadata": {},
   "outputs": [],
   "source": [
    "#Nr.26\n",
    "#Geben Sie die kleinste positive Lösung des folgenden Kongruenzsystems an:\n",
    "#x=2 (mod 5); x=3 (mod 4); x=6 (mod 7)\n",
    "from sympy.ntheory.modular import crt\n",
    "crt([5, 4, 7], [2, 3, 6])"
   ]
  },
  {
   "cell_type": "code",
   "execution_count": null,
   "metadata": {},
   "outputs": [],
   "source": [
    "#Nr.27\n",
    "#Geben Sie die größte negative Lösung des folgenden Kongruenzsystems an:\n",
    "#x=2 (mod 3); x=2 (mod 4); x=6 (mod 7)\n",
    "from sympy.ntheory.modular import crt\n",
    "print(crt([3, 4, 7], [2, 2, 6]))\n",
    "62 - 84"
   ]
  },
  {
   "cell_type": "code",
   "execution_count": null,
   "metadata": {},
   "outputs": [],
   "source": [
    "#Nr.28\n",
    "#Für welche a hat das folgende Kongruenzsystem keine Lösung?\n",
    "#x=1 (mod 4); x=2 (mod a); x=3 (mod 7)\n",
    "from sympy.ntheory.modular import crt\n",
    "A = crt([4, 9, 7], [1, 2, 3])\n",
    "B = crt([4, 3, 7], [1, 2, 3])\n",
    "C = crt([4, 6, 7], [1, 2, 3])\n",
    "D = crt([4, 8, 7], [1, 2, 3])\n",
    "E = crt([4, 5, 7], [1, 2, 3])\n",
    "A, B, C, D, E"
   ]
  },
  {
   "cell_type": "code",
   "execution_count": null,
   "metadata": {},
   "outputs": [],
   "source": [
    "#Nr.29\n",
    "#Kreuzen Sie die kanonische Primfaktorzerlegung von 9999 an.\n",
    "from sympy.ntheory import factorint\n",
    "factorint(9999)"
   ]
  },
  {
   "cell_type": "code",
   "execution_count": null,
   "metadata": {},
   "outputs": [],
   "source": [
    "#Nr.30\n",
    "#Geben Sie die 42. Primzahl an.\n",
    "from sympy import prime\n",
    "prime(42)"
   ]
  },
  {
   "cell_type": "code",
   "execution_count": null,
   "metadata": {},
   "outputs": [],
   "source": [
    "#Nr.32\n",
    "#Wenn man pi(10**8) durch 10**8 teilt, was kommt dann ungefähr heraus?\n",
    "#pi(10**8) = 10**8 / ln(10**8)\n",
    "#(10**8 / ln(10**8)) * (1 / 10**8) = 1 / ln(10**8)"
   ]
  },
  {
   "cell_type": "code",
   "execution_count": null,
   "metadata": {},
   "outputs": [],
   "source": [
    "#Nr.33\n",
    "\n",
    "from math import log1p\n",
    "print(10**14 / log1p(10**14))\n",
    "\n",
    "print(8*10**11)\n",
    "print(3*10**12)\n",
    "print(7*10**12)\n",
    "print(2*10**13)\n",
    "#2 ist richtig"
   ]
  },
  {
   "cell_type": "code",
   "execution_count": null,
   "metadata": {},
   "outputs": [],
   "source": [
    "#Nr.34\n",
    "#Welche der  folgenden Zahlen liegt am dichtesten an der 10**14-ten Primzahl? (4 Antwortmöglichkeiten)\n",
    "\n",
    "print(7 * 10**13) #1\n",
    "print(3 * 10**14) #2\n",
    "print(8 * 10**14) #3\n",
    "print(3 * 10**15) #4\n",
    "\n",
    "from math import log1p\n",
    "print(10**14 * log1p(10**14)) #Primzahlsatz; log1p ist ln (nur log müsste auch reichen)\n",
    "#4 ist richtig"
   ]
  },
  {
   "cell_type": "code",
   "execution_count": null,
   "metadata": {
    "scrolled": true
   },
   "outputs": [],
   "source": [
    "#Nr.35\n",
    "#Wie viele Elemente enthält die Menge {(p, q) : p, q € P  [0; 10**21 ]} ungefähr?\n",
    "from math import log1p\n",
    "print((10**21 / log1p(10**21))**2)\n",
    "\n",
    "print(4.3*10**38)\n",
    "print(3.9*10**40)\n",
    "print(3.6*10**42)\n",
    "print(3.3*10**44)\n",
    "#1. ist richtig"
   ]
  },
  {
   "cell_type": "code",
   "execution_count": null,
   "metadata": {},
   "outputs": [],
   "source": [
    "#Nr.36\n",
    "#Wie viele Primzahlen liegen ungefähr zwischen 10**20 und 10**21?\n",
    "from math import log1p\n",
    "a = (10**21 / log1p(10**21))\n",
    "b = (10**20 / log1p(10**20))\n",
    "print(a - b)\n",
    "print()\n",
    "print(1.9 * 10**19)\n",
    "print(2.1 * 10**19)\n",
    "print(2.2 * 10**18)\n",
    "print(1.8 * 10**20)\n",
    "#1. ist richtig"
   ]
  },
  {
   "cell_type": "code",
   "execution_count": null,
   "metadata": {},
   "outputs": [],
   "source": [
    "#Nr.37\n",
    "#Wenn man sich eine Liste aller vierstelligen Primzahlen, bei denen eine Ziffer dreimal vorkommt,\n",
    "#anschaut, dann kommt eine Ziffer in der gesamten Liste nie vor. Welche ist es?\n",
    "from sympy import isprime\n",
    "def nr37 ():\n",
    "    erg = []\n",
    "    for i in range(1000, 9000): #Liste am Ende durchgucken: reicht nicht ganz bis 10000, deshalb nochmal für range(9000, 10000)\n",
    "        if isprime(i):\n",
    "            erg.append(i)\n",
    "    return erg\n",
    "#nr37() #Lösung: 0"
   ]
  },
  {
   "cell_type": "code",
   "execution_count": null,
   "metadata": {},
   "outputs": [],
   "source": [
    "#Nr.38\n",
    "#Wie viele sechsstellige Primzahlen gibt es, bei denen alle sechs Ziffern identisch sind?\n",
    "from sympy import isprime\n",
    "isprime(111111), isprime(222222), isprime(333333), isprime(444444), isprime(555555), isprime(666666), isprime(777777), isprime(888888), isprime(999999)"
   ]
  },
  {
   "cell_type": "code",
   "execution_count": null,
   "metadata": {},
   "outputs": [],
   "source": [
    "#Nr.39\n",
    "#Ein Primzahlzwilling ist ein Paar von Primzahlen, deren Differenz zwei ist. Der erste Primzahlzwilling ist (3, 5).\n",
    "#Welches ist der siebte Primzahlzwilling?\n",
    "from sympy import isprime\n",
    "def nr39 ():\n",
    "    i = 2\n",
    "    erg = []\n",
    "    while True:\n",
    "        if isprime(i) and isprime(i+2):\n",
    "            erg.append((i, i+2))\n",
    "        if len(erg) == 7:\n",
    "            return erg\n",
    "        i += 1\n",
    "nr39()"
   ]
  },
  {
   "cell_type": "code",
   "execution_count": null,
   "metadata": {},
   "outputs": [],
   "source": [
    "#Nr.41\n",
    "#Geben Sie die Dezimalzahl 0.4-72- (Periode 72) = 0.472472472... als gekürzten Bruch an.\n",
    "#0.4-72- = 1/10 * 4.-72- = 1/10 * (4 + 72/99) = 1/10 * (396/99 + 72/99) = 1/10 * 468/99 = 468/990\n",
    "from fractions import Fraction\n",
    "Fraction(468, 990) #Vorrechnung siehe oben"
   ]
  },
  {
   "cell_type": "code",
   "execution_count": null,
   "metadata": {},
   "outputs": [],
   "source": [
    "#Nr.42\n",
    "#Geben Sie die Binärzahl 0.1011 dezimal als Bruch an.\n",
    "#0.1011 = 1*2**-1 + 1*2**-3 + 1*2**-4 = 1/2 + 1/8 + 1/16 = 8/16 + 2/16 + 1/16 = 11/16\n",
    "\n",
    "#oder\n",
    "\n",
    "#0.1011 = 1011/10000 (binär) = 11/16 (dezimal) \n",
    "#Vorgehensweise: Binärzahl als Nenner, Zähler mit selber Ziffernanzahl mit 0 auffüllen (hier 4) und eine 1 vorne ran\n",
    "from fractions import Fraction\n",
    "Fraction(0b1011, 0b10000)"
   ]
  },
  {
   "cell_type": "code",
   "execution_count": null,
   "metadata": {},
   "outputs": [],
   "source": [
    "#Nr.43\n",
    "#Geben Sie die Binärzahl 0.0-01- (Periode 01) = 0.00101010101010101... dezimal als gekürzten Bruch an.\n",
    "#0.0-01- = 1/10 * 0.-01- #Periode bis direkt hinter das Komma verschieben\n",
    "#        = 1/10 * 01/11  #Periode in den Nenner, unten mit 1en auffüllen mit der selben Ziffernzahl UND eine weitere 1 vorne\n",
    "                         #für die anderen Zahlensysteme: Nenner mit höchster Ziffer auffüllen und eine weitere vorne dran\n",
    "#        = 1/2 * 1/3 = 1/6 (1/10 binär = 1/2 dezimal)"
   ]
  },
  {
   "cell_type": "code",
   "execution_count": null,
   "metadata": {},
   "outputs": [],
   "source": [
    "#Nr.44\n",
    "#Geben Sie die Zahl 0.7 (dezimal) in Binärdarstellung an.\n",
    "#0.7 * 2 = 1.4\n",
    "#0.4 * 2 = 0.8\n",
    "#0.8 * 2 = 1.6\n",
    "#0.6 * 2 = 1.2\n",
    "#0.2 * 2 = 0.4\n",
    "#Lösung: 1-0110- (0.1-0110-, Periode 0110)"
   ]
  },
  {
   "cell_type": "code",
   "execution_count": null,
   "metadata": {},
   "outputs": [],
   "source": [
    "#Nr.45\n",
    "#Kreuzen Sie die Zahlen an, die man dezimal mit endlich vielen Nachkommastellen darstellen kann:\n",
    "print(1/8)\n",
    "print(2/5)\n",
    "print(3/16)\n",
    "print(21/28)\n",
    "print(1/70)"
   ]
  },
  {
   "cell_type": "code",
   "execution_count": null,
   "metadata": {},
   "outputs": [],
   "source": [
    "#Nr.46\n",
    "#Welche dieser Zahlen kann man binär mit endlich vielen Nachkommastellen darstellen?\n",
    "#Nenner muss im Binärsystem eine Zweierpotenz sein (gekürzter Bruch!)\n",
    "#Richtig: 1/8, 3/16, 15/20 (= 3/4)\n",
    "#Falsch: 2/5, 1/7"
   ]
  },
  {
   "cell_type": "code",
   "execution_count": null,
   "metadata": {},
   "outputs": [],
   "source": [
    "#Nr.47 \n",
    "#Welche dieser Zahlen kann man oktal mit endlich vielen Nachkommastellen darstellen?\n",
    "#Nenner muss im Oktalsystem eine Zweierpotenz sein (gekürzter Bruch!)\n",
    "#Richtig: 1/8, 7/28 (= 1/4), 5/16\n",
    "#Falsch: 3/5, 2/11\n",
    "\n",
    "#Nr.48 - Aufgabe wie 47\n",
    "#Richtig: 3/8, Wurzel 1/4 (= 1/2), 75/200 (= 3/8)\n",
    "#Falsch: 2/7, Wurzel 1/2"
   ]
  },
  {
   "cell_type": "code",
   "execution_count": null,
   "metadata": {},
   "outputs": [],
   "source": [
    "#Nr.51\n",
    "#Die Zahl 2/5 sieht binär so aus: 0.-0110- (Periode). Kreuzen Sie an, welche von den folgenden Bitfolgen\n",
    "#die Mantisse (ohne hidden bit) ist, wenn diese Zahl im IEEE-Format double dargestellt wird.\n",
    "#Verschiebung bis eine 1 vor dem Komma steht: das ist das hidden bit\n",
    "#0.011001100110... -> 1.10011001100...\n",
    "#1001100110011001100110011001100110011001100110011001100110011...\n",
    "#52 Stellen: 1001100110011001100110011001100110011001100110011001\n",
    "#danach wäre eine weitere 1 gekommen -> RUNDEN: aus 01(1) wird 10\n",
    "#Richtig (3.Antwort): 1001100110011001100110011001100110011001100110011010"
   ]
  },
  {
   "cell_type": "code",
   "execution_count": null,
   "metadata": {},
   "outputs": [],
   "source": [
    "#Nr.52\n",
    "#Die Zahl 4/5 sieht binär so aus: 0-1100- (Periode). Wenn diese Zahl im IEEE-Format double dargestellt wird,\n",
    "#welche Ziffer kommt in der 52-stelligen Mantisse (ohne hidden bit) häufiger vor?\n",
    "#(1.)1001100110011001100110011001100110011001100110011010\n",
    "#Antwort: Es kommen gleich viele Einsen und Nullen vor."
   ]
  },
  {
   "cell_type": "code",
   "execution_count": null,
   "metadata": {},
   "outputs": [],
   "source": [
    "#Nr.53\n",
    "#Welche der folgenden Zahlen lassen sich im IEEE-Format double (64 Bit) exakt darstellen?\n",
    "#Richtig: 0.5; 2**-42; (2**53)-1\n",
    "#Falsch: Pi; 3.14; (2**53)+1\n",
    "    #Begründung: Pi ist periodisch; (2**53)+1 ist größer als die erlaubte Anzahl an Stellen (53);\n",
    "                #3.14 hat periodischen Anteil (siehe Fkt unten)\n",
    "\n",
    "#Nr.54 - Aufgabe wie 53\n",
    "#Richtig: 0.375; Wurzel 1/4\n",
    "#Falsch: 1.41 (siehe Fkt unten); Wurzel 2 (irrationale Zahl); (2**53)+2 (zu groß); (2**53)+3 (zu groß)\n",
    "\n",
    "def binPlaces (x):\n",
    "    seen = []\n",
    "    start = []\n",
    "    periodic = []\n",
    "    while x > 0:\n",
    "        if x in seen:\n",
    "            cut = seen.index(x)\n",
    "            periodic = start[cut:]\n",
    "            start = start[:cut]\n",
    "            break\n",
    "        seen.append(x)\n",
    "        x *= 2\n",
    "        if x >= 1:\n",
    "            start.append(1)\n",
    "            x -= 1\n",
    "        else:\n",
    "            start.append(0)\n",
    "    return start, periodic\n",
    "\n",
    "from decimal import Decimal\n",
    "print(binPlaces(Decimal(\"0.14\"))) #Vorkommastelle weglassen\n",
    "print(binPlaces(Decimal(\"0.41\")))"
   ]
  },
  {
   "cell_type": "code",
   "execution_count": null,
   "metadata": {},
   "outputs": [],
   "source": [
    "#Aufgabe 57\n",
    "#Kreuzen Sie von den folgenden Zahlen die an, die irrational sind\n",
    "#Richtig: Wurzel 91; Wurzel 101; Wurzel 111\n",
    "#Falsch: Wurzel 81 = 9; Wurzel 100 = 10; Wurzel 121 = 11\n",
    "#Alle richtigen Werte sind Wurzeln aus Quadratzahlen -> Wurzeln aus allen anderen Zahlen sind irrational\n",
    "\n",
    "#Aufgabe 58 - wie 57\n",
    "#Richtig: Wurzel 8, Wurzel 3*Wurzel 3*Wurzel 3; Wurzel 111\n",
    "#Falsch: Wurzel 2*Wurzel 8 = Wurzel 16 = 4; Wurzel 81 = 9; Wurzel 121 = 11\n",
    "from math import sqrt\n",
    "sqrt(3)*sqrt(3)*sqrt(3)"
   ]
  },
  {
   "cell_type": "code",
   "execution_count": 2,
   "metadata": {},
   "outputs": [
    {
     "name": "stdout",
     "output_type": "stream",
     "text": [
      "10**-4 =  0.0001\n",
      "1694157/978122\n",
      "Wurzel aus 3: 1.7320508075688772\n",
      "Überprüfung:  1.7320508075679721\n"
     ]
    }
   ],
   "source": [
    "#Nr.59\n",
    "#Geben Sie einen Bruch an, der sich von Wurzel(3) um weniger als 10**-4 unterscheidet.\n",
    "import math\n",
    "from fractions import Fraction\n",
    "\n",
    "math.sqrt(3)\n",
    "print(\"10**-4 = \", 10**-4)\n",
    "\n",
    "print(Fraction(math.sqrt(3)).limit_denominator())\n",
    "\n",
    "print(\"Wurzel aus 3:\", math.sqrt(3))\n",
    "print(\"Überprüfung: \",1694157/978122)"
   ]
  },
  {
   "cell_type": "code",
   "execution_count": 3,
   "metadata": {},
   "outputs": [
    {
     "name": "stdout",
     "output_type": "stream",
     "text": [
      "930249/416020\n",
      "Wurzel aus 5:  2.23606797749979\n",
      "Ergebnis (930249/416020) als Dezimalzahl:  2.2360679775010817\n",
      "Maximaler Unterschied kleiner als: 0.01\n",
      "Überprüfung:  5.000000000005778\n"
     ]
    }
   ],
   "source": [
    "#Nr.60\n",
    "#Geben Sie einen Bruch an, dessen Quadrat sich um weniger als 10**-2 von 5 unterscheidet.\n",
    "import math\n",
    "maxUnterschied = 10**-2 #eig. sogar kleiner als\n",
    "print(Fraction(math.sqrt(5)).limit_denominator())\n",
    "print(\"Wurzel aus 5: \", math.sqrt(5))\n",
    "print(\"Ergebnis (930249/416020) als Dezimalzahl: \", 930249/416020)\n",
    "print(\"Maximaler Unterschied kleiner als:\", maxUnterschied)\n",
    "print(\"Überprüfung: \",(930249/416020)**2)"
   ]
  },
  {
   "cell_type": "code",
   "execution_count": 4,
   "metadata": {},
   "outputs": [
    {
     "name": "stdout",
     "output_type": "stream",
     "text": [
      "Bruch: 4/7\n"
     ]
    }
   ],
   "source": [
    "#Nr.61\n",
    "#Geben Sie einen Bruch an, der sich von 1/Wurzel(3) um weniger als 10**-2 unterscheidet\n",
    "#und dessen Nenner einen kleineren Betrag als 10 hat.\n",
    "import math\n",
    "from fractions import Fraction\n",
    "\n",
    "zahl = 1/math.sqrt(3)\n",
    "maxUnterschied = 10**-2\n",
    "min = zahl-maxUnterschied\n",
    "max = zahl+maxUnterschied\n",
    "maxNenner = 9\n",
    "\n",
    "for z in range(1,maxNenner+1): #z = Zähler\n",
    "    for n in range (1,maxNenner+1): #n = Nenner\n",
    "        q = Fraction(z,n)\n",
    "        if(q > min and q < max):\n",
    "            print(\"Bruch:\", q)"
   ]
  },
  {
   "cell_type": "code",
   "execution_count": 6,
   "metadata": {},
   "outputs": [
    {
     "name": "stdout",
     "output_type": "stream",
     "text": [
      "Bruch:  1/7\n",
      "Bruch:  2/13\n",
      "Bruch:  1/7\n",
      "Bruch:  3/19\n",
      "Anzahl:  3\n",
      "\n",
      "Zur Kontrolle\n",
      "Min: 0.14159265358979312  Max: 0.16227766016837952\n",
      "0.15789473684210525\n",
      "0.15384615384615385\n",
      "0.14285714285714285\n"
     ]
    }
   ],
   "source": [
    "#Nr.62\n",
    "#Zwischen pi-3 und Wurzel(10)-3 liegen unendlich viele Brüche. Bei wie vielen dieser Brüche ist der Nenner kleiner als 20,\n",
    "#wenn sie in gekürzter Form dargestellt werden? [Hinweis: Schreiben Sie sich dafür ein kleines Programm.]\n",
    "import math\n",
    "from fractions import Fraction\n",
    "\n",
    "rangeMin = math.pi-3\n",
    "rangeMax = math.sqrt(10)-3\n",
    "maxNenner = 19\n",
    "numberOfFractions = set()\n",
    "\n",
    "for n in range(1,maxNenner+1):\n",
    "    for z in range (1,maxNenner+1):\n",
    "        q = Fraction(n,z)\n",
    "        if(q >= rangeMin and q <= rangeMax):\n",
    "            numberOfFractions.add(q)\n",
    "            print(\"Bruch: \", q)\n",
    "            \n",
    "print(\"Anzahl: \", len(numberOfFractions))\n",
    "print()\n",
    "print(\"Zur Kontrolle\")\n",
    "print(\"Min:\", rangeMin, \" Max:\", rangeMax)\n",
    "print(3/19)\n",
    "print(2/13)\n",
    "print(1/7)"
   ]
  },
  {
   "cell_type": "code",
   "execution_count": 7,
   "metadata": {},
   "outputs": [
    {
     "name": "stdout",
     "output_type": "stream",
     "text": [
      "Bruch:  161/72\n",
      "\n",
      "Zwei mögliche Lösungen aus der Schleife:\n",
      "\n",
      "\n",
      "Kontrolle für (161/72): 2.236111111111111\n",
      "Bedingung 1: min:  2.23606797749979 \n",
      "Bedingung 2: nicht größer als q-Wurzel aus 5: 0.0001\n",
      "Wert - Wurzel aus 5:  0.000043 < 0.0001\n",
      "\n",
      "\n",
      "Kontrolle für (928/415): 2.236144578313253\n",
      "Bedingung 1: min: 2.23606797749979 \n",
      "Bedingung 2: nicht größer als q-Wurzel aus 5: 0.0001\n",
      "Wert - Wurzel aus 5: 0.000077 < 0.0001\n"
     ]
    }
   ],
   "source": [
    "#Nr.63\n",
    "#Geben Sie einen Bruch q an, der die folgenden drei Bedingungen erfüllt:\n",
    "    #q ist größer als Wurzel(5).\n",
    "    #q - Wurzel(5) ist kleiner als 10**-4.\n",
    "    #Der Nenner von q ist kleiner als 100 000.\n",
    "    \n",
    "min = math.sqrt(5)\n",
    "maxMinusSqrt = 10**-4\n",
    "maxNenner = 200 #der eigentlich max-Nenner ist natürlich größer, aber falls wir vorher etwas finden, \n",
    "                #ist die Aufgabe ja auch erledigt... und das dauert dann nicht so lange im Loop\n",
    "\n",
    "for z in range(1,maxNenner+1):\n",
    "    for n in range (1,maxNenner+1):\n",
    "        q = Fraction(z, n)\n",
    "        if(q > min and ((q - math.sqrt(5)) < maxMinusSqrt)):\n",
    "            print(\"Bruch: \", q)\n",
    "            \n",
    "            \n",
    "print(\"\\nZwei mögliche Lösungen aus der Schleife:\")\n",
    "\n",
    "print(\"\\n\\nKontrolle für (161/72):\",161/72)\n",
    "print(\"Bedingung 1: min: \", min, \"\\nBedingung 2: nicht größer als q-Wurzel aus 5:\", maxMinusSqrt)\n",
    "print(\"Wert - Wurzel aus 5: \", '{:f}'.format((161/72)-min), \"<\",maxMinusSqrt)\n",
    "\n",
    "'''\n",
    "#wert = 7.660081346338998e-05\n",
    "#'{:f}'.format(wert)\n",
    "\n",
    "Das sorgt dafür, dass so kryptische Darstellungen wie 5944E-49 als normale Zahl dargestellt werden.\n",
    "'''\n",
    "\n",
    "print(\"\\n\\nKontrolle für (928/415):\",928/415)\n",
    "print(\"Bedingung 1: min:\", min, \"\\nBedingung 2: nicht größer als q-Wurzel aus 5:\", maxMinusSqrt)\n",
    "print(\"Wert - Wurzel aus 5:\", '{:f}'.format((928/415)-min), \"<\",maxMinusSqrt)"
   ]
  },
  {
   "cell_type": "code",
   "execution_count": null,
   "metadata": {},
   "outputs": [],
   "source": [
    "#Nr.70\n",
    "#Wie viele Elemente hat die folgende Menge? {p/q: p€Z und q€(N+) und |pq| <= 3}\n",
    "from fractions import Fraction\n",
    "erg = set()\n",
    "for p in range(-3, 4):\n",
    "    for q in range(1, 4):\n",
    "        if abs(p * q) <= 3:\n",
    "            erg.add(Fraction(p, q))\n",
    "len(erg), erg"
   ]
  },
  {
   "cell_type": "code",
   "execution_count": 5,
   "metadata": {},
   "outputs": [
    {
     "data": {
      "text/plain": [
       "(4, {(1,), (1, 2), (1, 2, 4), (1, 4)})"
      ]
     },
     "execution_count": 5,
     "metadata": {},
     "output_type": "execute_result"
    }
   ],
   "source": [
    "#Nr.71\n",
    "#Sei A = {1,2,4} und B = {2,3,4}. Wie viele Elemente hat die Menge P(A) \\ P(B)? (P = Potenzmenge = alle Teilmengen)\n",
    "import itertools\n",
    "A = {1, 2, 4}\n",
    "B = {2, 3, 4}\n",
    "potenzA = {x for length in range(len(A)+1) for x in itertools.combinations(A, length)}\n",
    "potenzB = {x for length in range(len(B)+1) for x in itertools.combinations(B, length)}\n",
    "erg = potenzA - potenzB\n",
    "len(erg), erg"
   ]
  },
  {
   "cell_type": "code",
   "execution_count": 3,
   "metadata": {},
   "outputs": [
    {
     "name": "stdout",
     "output_type": "stream",
     "text": [
      "{(1, 2), (1, 3), (3, 1), (2, 1)}\n"
     ]
    }
   ],
   "source": [
    "#Nr.72\n",
    "#Sei A = {1,2,3} und B = {2,3,4}. Geben Sie ein geordnetes Paar an, das Element von A**2 \\ B**2,\n",
    "#aber nicht Element von (A \\ B)**2 ist.\n",
    "import itertools\n",
    "A = {1, 2, 3}\n",
    "B = {2, 3, 4}\n",
    "A2 = set(itertools.product(A, A))\n",
    "B2 = set(itertools.product(B, B))\n",
    "\n",
    "C = A - B #A\\B\n",
    "C2 =  set(itertools.product(C, C)) #(A \\ B)**2\n",
    "print(A2 - B2 - C2)"
   ]
  },
  {
   "cell_type": "code",
   "execution_count": null,
   "metadata": {},
   "outputs": [],
   "source": [
    "#Nr.73\n",
    "#Sei A = {-2,-1,0,1,2,3}. Geben Sie die Mächtigkeit von B = {xy: x,y € A} an.\n",
    "A = {-2, -1, 0, 1, 2, 3}\n",
    "B = set()\n",
    "for m in A:\n",
    "    for n in A:\n",
    "        B.add(m*n)\n",
    "len(B), B"
   ]
  },
  {
   "cell_type": "code",
   "execution_count": null,
   "metadata": {},
   "outputs": [],
   "source": [
    "#Nr.74\n",
    "#Sei A die Menge der ersten 22 Primzahlen und B = {m/n: m,n € A}. Geben Sie die Mächtigkeit von B an.\n",
    "from sympy import prime\n",
    "A = set()\n",
    "B = set()\n",
    "for i in range(1, 23): #1 muss als Startwert angegeben werden, funzt sonst iwie nicht\n",
    "    A.add(prime(i))\n",
    "        \n",
    "for m in A:\n",
    "    for n in A:\n",
    "        B.add(m/n)\n",
    "len(B)"
   ]
  },
  {
   "cell_type": "code",
   "execution_count": null,
   "metadata": {},
   "outputs": [],
   "source": [
    "#Nr.75\n",
    "#Sei A die Menge der ersten 23 Primzahlen und B die Menge {ggT(m,n): m,n € A}. Geben Sie die Mächtigkeit von B an.\n",
    "from sympy import prime\n",
    "from math import gcd\n",
    "A = set()\n",
    "B = set()\n",
    "for i in range(1, 24): #1 muss als Startwert angegeben werden, funzt sonst iwie nicht\n",
    "    A.add(prime(i))\n",
    "    \n",
    "for m in A:\n",
    "    for n in A:\n",
    "        B.add(gcd(m, n))\n",
    "len(B)"
   ]
  },
  {
   "cell_type": "code",
   "execution_count": null,
   "metadata": {},
   "outputs": [],
   "source": [
    "#Nr.76\n",
    "#Sei A die Menge der ersten 40 Primzahlen und B die Menge {mn: m,n € A}. Geben Sie die Mächtigkeit von B an.\n",
    "from sympy import prime\n",
    "A = set()\n",
    "B = set()\n",
    "for i in range(1, 41): #1 muss als Startwert angegeben werden, funzt sonst iwie nicht\n",
    "    A.add(prime(i))\n",
    "        \n",
    "for m in A:\n",
    "    for n in A:\n",
    "        B.add(m*n)\n",
    "len(B)"
   ]
  },
  {
   "cell_type": "code",
   "execution_count": null,
   "metadata": {},
   "outputs": [],
   "source": [
    "#Nr.77\n",
    "#Sei A die Menge der ersten 40 Primzahlen und B = {mn: m,n € A und m!=n}. Geben Sie die Mächtigkeit von B an.\n",
    "from sympy import prime\n",
    "A = set()\n",
    "B = set()\n",
    "for i in range(1, 41): #1 muss als Startwert angegeben werden, funzt sonst iwie nicht\n",
    "    A.add(prime(i))\n",
    "        \n",
    "for m in A:\n",
    "    for n in A:\n",
    "        if m != n:\n",
    "            B.add(m*n)\n",
    "len(B)"
   ]
  },
  {
   "cell_type": "code",
   "execution_count": null,
   "metadata": {},
   "outputs": [],
   "source": [
    "#Nr.78\n",
    "#Sei A = {p € P: p < q}. Für welche Primzahl q gilt |A x A| = 100?\n",
    "import itertools\n",
    "from sympy import prime\n",
    "#|A x A| = |A| * |A| (s. Skript Lösungen Nr.266) -> 100 = 10 * 10 -> range(1, 11)\n",
    "\n",
    "A = set()\n",
    "for p in range(1, 11):\n",
    "    A.add(prime(p)) #in A sind die ersten 10 Primzahlen\n",
    "len(set(itertools.product(A, A)))\n",
    "q = prime(11) #somit muss q die nächste Primzahl sein\n",
    "q"
   ]
  },
  {
   "cell_type": "code",
   "execution_count": null,
   "metadata": {},
   "outputs": [],
   "source": [
    "\"! ALAAARM\"\n",
    "#Nr.79\n",
    "#Die Mengen A und B sind folgendermaßen definiert:\n",
    "    #A = {{n, n+1, n+2}: n € N und n <= 42} = {{0, 1, 2}, {1, 2, 3}, ..., {42, 43, 44}}\n",
    "    #B = {X ∩ Y: X,Y € A und X!=Y}\n",
    "A = []\n",
    "B = []\n",
    "XY = []\n",
    "for n in range(43):\n",
    "    A.append({n, n+1, n+2})\n",
    "for X in A:\n",
    "    for Y in A:\n",
    "        if X != Y and X&Y and X not in XY and Y not in XY:\n",
    "            XY.append(X)\n",
    "            XY.append(Y)\n",
    "len(XY)"
   ]
  },
  {
   "cell_type": "code",
   "execution_count": null,
   "metadata": {},
   "outputs": [],
   "source": [
    "#Nr.80\n",
    "#A, B und C sind Mengen, die jeweils 30 Elemente haben. A ∩ B hat fünf Elemente, A ∩ C hat sechs Elemente.\n",
    "#Ferner sind A ∩ B und A ∩ C disjunkt und es gilt |A u B u C| = 70. Wie viele Elemente hat B ∩ C?\n",
    "\n",
    "#einfache Lösung? (evtl? dunno for sure)\n",
    "#90 Elemente insgesamt\n",
    "#|A u B u C| = 70 sind 70 die sich nicht überschneiden\n",
    "#somit bleiben 90 - 70 = 20 übrig, die sich überschneiden\n",
    "#|A ∩ B| = 5 sowie |A ∩ C| = 6\n",
    "#|(A ∩ B) ∩ (A ∩ C)| = 0\n",
    "#somit müssen in B ∩ C die restlichen 9 sein\n",
    "#|B ∩ C| = 9\n",
    "#Inklusions-Exklusions-Prinzip im Skript angucken"
   ]
  },
  {
   "cell_type": "code",
   "execution_count": 11,
   "metadata": {},
   "outputs": [
    {
     "data": {
      "text/plain": [
       "225"
      ]
     },
     "execution_count": 11,
     "metadata": {},
     "output_type": "execute_result"
    }
   ],
   "source": [
    "#Nr.81\n",
    "#Wie viele dreistellige Dezimalzahlen gibt es, bei denen entweder alle Ziffern gerade oder alle Ziffern ungerade sind?\n",
    "#(Hinweis: 007 und 042 sind keine dreistelligen Zahlen.)\n",
    "\n",
    "#gerade Ziffern: 4*5*5 = 100\n",
    "    #für die erste Ziffer keine 0 (also 2,4,6,8), bei den anderen beiden mit 0\n",
    "#ungerade Ziffern: 5*5*5 = 125\n",
    "    #für alle Ziffern (1,3,5,7,9)\n",
    "    #Formel: n**k (n = 5, k = 3)\n",
    "    \n",
    "#Alternativ: (5**3 + 5**3) - 5**2\n",
    "    #Klammer addiert alle Möglichkeiten für nur gerade und ungerade Ziffern inkl. 0 als erstes\n",
    "    #Subtraktion zieht alle Zahlen unter 100 ab\n",
    "    \n",
    "4*5*5 + 5**3"
   ]
  },
  {
   "cell_type": "code",
   "execution_count": 21,
   "metadata": {},
   "outputs": [
    {
     "data": {
      "text/plain": [
       "740"
      ]
     },
     "execution_count": 21,
     "metadata": {},
     "output_type": "execute_result"
    }
   ],
   "source": [
    "#Nr.82\n",
    "#Wie viele dreistellige natürliche Zahlen, die mindestens eine der drei folgenden Bedingungen erfüllen, gibt es?\n",
    "    #(i) Die erste Ziffer ist ungerade.\n",
    "    #(ii) Die Zahl ist durch 2 teilbar.\n",
    "    #(iii) Die Zahl ist durch 5 teilbar.\n",
    "#Erlaubt sind also z.B. die Zahlen 103, 452 und 425, aber auch 152 oder 300.\n",
    "#Nicht erlaubt sind etwa 42 (nicht dreistellig) oder 421.\n",
    "\n",
    "A = set()\n",
    "B = set()\n",
    "C = set()\n",
    "erg = set()\n",
    "\n",
    "for a in range(100, 1000):\n",
    "    if (a // 100) % 2 == 1:\n",
    "        A.add(a)\n",
    "for b in range(100, 1000):\n",
    "    if b % 2 == 0:\n",
    "        B.add(b)\n",
    "for c in range(100, 1000):\n",
    "    if c % 5 == 0:\n",
    "        C.add(c)\n",
    "erg = A | B | C\n",
    "len(erg)"
   ]
  },
  {
   "cell_type": "code",
   "execution_count": 8,
   "metadata": {},
   "outputs": [
    {
     "data": {
      "text/plain": [
       "1352"
      ]
     },
     "execution_count": 8,
     "metadata": {},
     "output_type": "execute_result"
    }
   ],
   "source": [
    "#Nr.83\n",
    "#Wie viele verschiedene Zeichenketten der Länge 4, die mindestens eine der folgenden Bedingungen\n",
    "#erfüllen, kann man aus den 8 Buchstaben A bis H konstruieren?\n",
    "    #(i) Der erste Buchstabe ist A.\n",
    "    #(ii) Der zweite Buchstabe ist B.\n",
    "    #(iii) Der dritte Buchstabe ist C.\n",
    "#Erlaubt sind also z.B. die Zeichenketten ADBH oder DBDH, aber auch AHCC oder ABCA.\n",
    "\n",
    "options = ['A', 'B', 'C', 'D', 'E', 'F', 'G', 'H']\n",
    "#Alle möglichen Kombinationen für Zeichenketten der Länge 4\n",
    "allCombs = set()\n",
    "for pos1 in options:\n",
    "    for pos2 in options:\n",
    "        for pos3 in options:\n",
    "            for pos4 in options:\n",
    "                string = pos1+pos2+pos3+pos4\n",
    "                allCombs.add(string) #n**k Elemente: 8**4 = 4096\n",
    "                \n",
    "A = set()\n",
    "for element in allCombs:\n",
    "    if element[0] == \"A\":\n",
    "        A.add(element)\n",
    "    elif element[1] == \"B\":\n",
    "        A.add(element)\n",
    "    elif element[2] == \"C\":\n",
    "        A.add(element)\n",
    "len(A)\n",
    "\n",
    "#Alternative\n",
    "#bed1 = 1*8*8*8\n",
    "#bed2 = 7*1*8*8 #7 für erste Stelle, weil, damit das A aus Bed. 1 rausgenommen wird\n",
    "#bed3 = 7*7*1*8 #A und B für 1. und 2. Stelle rausnehmen\n",
    "#erg = bed1+bed2+bed3\n",
    "#erg"
   ]
  },
  {
   "cell_type": "code",
   "execution_count": 14,
   "metadata": {},
   "outputs": [
    {
     "data": {
      "text/plain": [
       "1152"
      ]
     },
     "execution_count": 14,
     "metadata": {},
     "output_type": "execute_result"
    }
   ],
   "source": [
    "#Nr.84\n",
    "#Wie viele verschiedene Zeichenketten der Länge 4, die mindestens eine der folgenden Bedingungen\n",
    "#erfüllen, kann man aus den 6 Buchstaben A bis F konstruieren?\n",
    "    #(i) Der erste Buchstabe ist A.\n",
    "    #(ii) Der zweite Buchstabe ist B.\n",
    "    #(iii) Die ersten beiden Buchstaben sind unterschiedlich sind.\n",
    "#Erlaubt sind also z.B. die Zeichenketten AABF oder BBDF oder CFCC oder ABCA.\n",
    "\n",
    "options = [\"A\", \"B\", \"C\", \"D\", \"E\", \"F\"]\n",
    "#Alle möglichen Kombinationen für Zeichenketten der Länge 4\n",
    "allCombs = set()\n",
    "for pos1 in options:\n",
    "    for pos2 in options:\n",
    "        for pos3 in options:\n",
    "            for pos4 in options:\n",
    "                string = pos1+pos2+pos3+pos4\n",
    "                allCombs.add(string) #n**k Elemente: 6**4 = 1296\n",
    "\n",
    "A = set()\n",
    "for element in allCombs:\n",
    "    if element[0] == \"A\":\n",
    "        A.add(element)\n",
    "    elif element[1] == \"B\":\n",
    "        A.add(element)\n",
    "    elif element[0] != element[1]:\n",
    "        A.add(element)\n",
    "len(A)"
   ]
  },
  {
   "cell_type": "code",
   "execution_count": 16,
   "metadata": {},
   "outputs": [
    {
     "data": {
      "text/plain": [
       "1352"
      ]
     },
     "execution_count": 16,
     "metadata": {},
     "output_type": "execute_result"
    }
   ],
   "source": [
    "#Nr.85\n",
    "#Wie viele verschiedene Zeichenketten der Länge 4, die mindestens eine der folgenden Bedingungen\n",
    "#erfüllen, kann man aus den 8 Buchstaben A bis H konstruieren?\n",
    "    #(i) Der erste Buchstabe ist A.\n",
    "    #(ii) Der zweite Buchstabe ist B.\n",
    "    #(iii) Die letzen beiden Buchstaben sind gleich.\n",
    "#Erlaubt sind also z.B. die Zeichenketten ACBH oder CBDH oder CAHH oder ACCC.\n",
    "\n",
    "options = ['A', 'B', 'C', 'D', 'E', 'F', 'G', 'H']\n",
    "#Alle möglichen Kombinationen für Zeichenketten der Länge 4\n",
    "allCombs = set()\n",
    "for pos1 in options:\n",
    "    for pos2 in options:\n",
    "        for pos3 in options:\n",
    "            for pos4 in options:\n",
    "                string = pos1+pos2+pos3+pos4\n",
    "                allCombs.add(string) #n**k Elemente: 8**4 = 4096\n",
    "                \n",
    "A = set()\n",
    "for element in allCombs:\n",
    "    if element[0] == \"A\":\n",
    "        A.add(element)\n",
    "    elif element[1] == \"B\":\n",
    "        A.add(element)\n",
    "    elif element[2] == element[3]:\n",
    "        A.add(element)\n",
    "len(A)"
   ]
  },
  {
   "cell_type": "code",
   "execution_count": 20,
   "metadata": {},
   "outputs": [
    {
     "data": {
      "text/plain": [
       "2149"
      ]
     },
     "execution_count": 20,
     "metadata": {},
     "output_type": "execute_result"
    }
   ],
   "source": [
    "#Nr.86\n",
    "#Wie viele verschiedene Zeichenketten der Länge 4, die mindestens eine der folgenden Bedingungen\n",
    "#erfüllen, kann man aus den 7 Buchstaben A bis G konstruieren?\n",
    "    #(i) Der erste Buchstabe ist A.\n",
    "    #(ii) Der zweite Buchstabe ist B.\n",
    "    #(iii) Die letzen beiden Buchstaben sind verschieden.\n",
    "#Erlaubt sind also z.B. die Zeichenketten ACGG oder CBDG oder CAEF oder ACCC.\n",
    "\n",
    "options = ['A', 'B', 'C', 'D', 'E', 'F', 'G']\n",
    "#Alle möglichen Kombinationen für Zeichenketten der Länge 4\n",
    "allCombs = set()\n",
    "for pos1 in options:\n",
    "    for pos2 in options:\n",
    "        for pos3 in options:\n",
    "            for pos4 in options:\n",
    "                string = pos1+pos2+pos3+pos4\n",
    "                allCombs.add(string) #n**k Elemente: 7**4 = 2401\n",
    "                \n",
    "A = set()\n",
    "for element in allCombs:\n",
    "    if element[0] == \"A\":\n",
    "        A.add(element)\n",
    "    elif element[1] == \"B\":\n",
    "        A.add(element)\n",
    "    elif element[2] != element[3]:\n",
    "        A.add(element)\n",
    "len(A)"
   ]
  },
  {
   "cell_type": "code",
   "execution_count": 38,
   "metadata": {},
   "outputs": [
    {
     "data": {
      "text/plain": [
       "1257"
      ]
     },
     "execution_count": 38,
     "metadata": {},
     "output_type": "execute_result"
    }
   ],
   "source": [
    "#Nr.87\n",
    "#Wie viele verschiedene Zeichenketten der Länge 4, die mindestens eine der folgenden Bedingungen\n",
    "#erfüllen, kann man aus den 7 Buchstaben A bis G konstruieren?\n",
    "    #(i) Der erste Buchstabe ist A.\n",
    "    #(ii) Der zweite Buchstabe ist B.\n",
    "    #(iii) Alle vier Buchstaben sind verschieden.\n",
    "#Erlaubt sind also z.B. die Zeichenketten ACEE oder BBDF oder CAEF oder ABCD.\n",
    "\n",
    "options = ['A', 'B', 'C', 'D', 'E', 'F', 'G']\n",
    "#Alle möglichen Kombinationen für Zeichenketten der Länge 4\n",
    "allCombs = set()\n",
    "for pos1 in options:\n",
    "    for pos2 in options:\n",
    "        for pos3 in options:\n",
    "            for pos4 in options:\n",
    "                string = pos1+pos2+pos3+pos4\n",
    "                allCombs.add(string) #n**k Elemente: 7**4 = 2401\n",
    "                \n",
    "A = set()\n",
    "ungleich1 = (element[0] != element[1])\n",
    "ungleich2 = (element[2] != element[3])\n",
    "for element in allCombs:\n",
    "    if element[0] == \"A\":\n",
    "        A.add(element)\n",
    "    elif element[1] == \"B\":\n",
    "        A.add(element)\n",
    "    elif element[0] != element[1] and element[0] != element[2] and element[0] != element[3] and element[1] != element[2] and element[1] != element[3] and element[2] != element[3]:\n",
    "        A.add(element)\n",
    "len(A)"
   ]
  },
  {
   "cell_type": "code",
   "execution_count": null,
   "metadata": {},
   "outputs": [],
   "source": [
    "#Nr.88\n",
    "#Berechnen Sie die folgende Summe: E k=12 bis 44 (k + 3)\n",
    "erg = 0\n",
    "for k in range(12, 45):\n",
    "    erg += k + 3\n",
    "erg"
   ]
  },
  {
   "cell_type": "code",
   "execution_count": 2,
   "metadata": {},
   "outputs": [
    {
     "data": {
      "text/plain": [
       "20855"
      ]
     },
     "execution_count": 2,
     "metadata": {},
     "output_type": "execute_result"
    }
   ],
   "source": [
    "#Nr.89\n",
    "#Berechnen Sie die Summe 30 + 35 + 40 + 45 + ... + 445 + 450 + 455.\n",
    "erg = 0\n",
    "for i in range(30, 456, 5):\n",
    "    erg += i\n",
    "erg"
   ]
  },
  {
   "cell_type": "code",
   "execution_count": 3,
   "metadata": {},
   "outputs": [
    {
     "name": "stdout",
     "output_type": "stream",
     "text": [
      "455951\n"
     ]
    },
    {
     "data": {
      "text/plain": [
       "45"
      ]
     },
     "execution_count": 3,
     "metadata": {},
     "output_type": "execute_result"
    }
   ],
   "source": [
    "#Nr.90\n",
    "#Welchen Wert muss k haben, damit E n=k bis 110 (n**2 + n + 1) = 425546 gilt?\n",
    "def nr90 ():\n",
    "    erg = 0\n",
    "    k = 0\n",
    "    for n in range(111):\n",
    "        erg += (n**2 + n + 1) #zuerst von 0 bis 110 alles aufaddieren\n",
    "    for m in range(111): #dann nochmal abziehen bis das Ergebnis erreicht wurde\n",
    "        erg -= (m**2 + m + 1)\n",
    "        k += 1 #dabei k immer hochzählen lassen\n",
    "        if erg == 425546:\n",
    "            break\n",
    "    return k\n",
    "nr90()\n",
    "#Werte durchprobieren bringt auch 45"
   ]
  },
  {
   "cell_type": "code",
   "execution_count": 19,
   "metadata": {},
   "outputs": [
    {
     "data": {
      "text/plain": [
       "Fraction(5, 42)"
      ]
     },
     "execution_count": 19,
     "metadata": {},
     "output_type": "execute_result"
    }
   ],
   "source": [
    "#Nr.91\n",
    "#Geben Sie das folgende Produkt als gekürzten Bruch an: PI k=5 bis 41 (k/(k+1))\n",
    "from fractions import Fraction\n",
    "erg = 1\n",
    "for k in range(5, 42):\n",
    "    erg *= Fraction(k, k+1)\n",
    "erg"
   ]
  },
  {
   "cell_type": "code",
   "execution_count": 22,
   "metadata": {},
   "outputs": [
    {
     "data": {
      "text/plain": [
       "Fraction(3, 43)"
      ]
     },
     "execution_count": 22,
     "metadata": {},
     "output_type": "execute_result"
    }
   ],
   "source": [
    "#Nr.92\n",
    "#Geben Sie das folgende Produkt als gekürzten Bruch an: PI k=3 bis 42 (k**2/(k**2 + k))\n",
    "from fractions import Fraction\n",
    "erg = 1\n",
    "for k in range(3, 43):\n",
    "    erg *= Fraction(k**2, k**2 + k)\n",
    "erg"
   ]
  },
  {
   "cell_type": "code",
   "execution_count": 18,
   "metadata": {},
   "outputs": [
    {
     "name": "stdout",
     "output_type": "stream",
     "text": [
      "750\n"
     ]
    },
    {
     "data": {
      "text/plain": [
       "750"
      ]
     },
     "execution_count": 18,
     "metadata": {},
     "output_type": "execute_result"
    }
   ],
   "source": [
    "#Nr.93\n",
    "#Welchen Wert hat das Produkt a * (a + a) * (a + a + a) * ... * (a + a + ... + a), wenn es aus ingesamt n Faktoren besteht?\n",
    "#Ausprobieren mit a = 5; n = 3\n",
    "print(5 * (5+5) * (5+5+5))\n",
    "6 * 5**3 #richtig: n!a**n"
   ]
  },
  {
   "cell_type": "code",
   "execution_count": 42,
   "metadata": {},
   "outputs": [
    {
     "data": {
      "text/plain": [
       "360"
      ]
     },
     "execution_count": 42,
     "metadata": {},
     "output_type": "execute_result"
    }
   ],
   "source": [
    "#Nr.94\n",
    "#Durch Umsortieren der Ziffern kann man aus 234456 andere Zahlen machen, z.B. 423654 oder 564234.\n",
    "#Wie viele verschiedene Zahlen (inklusive 234456) kann man auf diese Art erhalten?\n",
    "\n",
    "#Permutationen mit Wiederholung\n",
    "#n=6; r=5; k1=1, k2=1, k3=2, k4=1, k5=1\n",
    "from sympy import factorial\n",
    "factorial(6) / factorial(2)"
   ]
  },
  {
   "cell_type": "code",
   "execution_count": 54,
   "metadata": {},
   "outputs": [
    {
     "data": {
      "text/plain": [
       "462"
      ]
     },
     "execution_count": 54,
     "metadata": {},
     "output_type": "execute_result"
    }
   ],
   "source": [
    "#Nr.95\n",
    "#Wie viele verschiedene Zahlen gibt es, die man als Produkt von genau fünf (nicht notwendig verschiedenen)\n",
    "#Primzahlen unter 18 darstellen kann? (Beispiele für solche Zahlen sind 2**5 oder 2 * 3 * 5 * 7 * 17.)\n",
    "\n",
    "#Kombinationen mit Wiederholung\n",
    "from itertools import combinations_with_replacement\n",
    "primes = [2, 3, 5, 7, 11, 13, 17]\n",
    "erg = list(combinations_with_replacement(primes, 5))\n",
    "len(erg)"
   ]
  },
  {
   "cell_type": "code",
   "execution_count": 59,
   "metadata": {},
   "outputs": [
    {
     "data": {
      "text/plain": [
       "329"
      ]
     },
     "execution_count": 59,
     "metadata": {},
     "output_type": "execute_result"
    }
   ],
   "source": [
    "#Nr.96\n",
    "#Wie viele verschiedene Zahlen gibt es, die man als Produkt von vier oder weniger (nicht notwendig verschiedenen)\n",
    "#Primzahlen unter 18 darstellen kann? (Beispiele für solche Zahlen sind 2**4 oder 3**2 oder 2 * 3 * 5 * 17 oder 11 * 13 oder 7.)\n",
    "\n",
    "#Kombinationen mit Wiederholung\n",
    "from itertools import combinations_with_replacement\n",
    "zahlen = [1, 2, 3, 5, 7, 11, 13, 17] #wichtig: am Ende 1 abziehen, weil man auch 1**5 in der Liste hat\n",
    "erg = list(combinations_with_replacement(zahlen, 4))\n",
    "len(erg)-1"
   ]
  },
  {
   "cell_type": "code",
   "execution_count": 62,
   "metadata": {},
   "outputs": [
    {
     "data": {
      "text/plain": [
       "322"
      ]
     },
     "execution_count": 62,
     "metadata": {},
     "output_type": "execute_result"
    }
   ],
   "source": [
    "#Nr.97\n",
    "#Wie viele verschiedene Zahlen gibt es, die man als Produkt von zwei, drei oder vier (nicht notwendig verschiedenen)\n",
    "#Primzahlen unter 18 darstellen kann? (Beispiele für solche Zahlen sind 2**4 oder 3**3 oder 2 * 3 * 5 * 17 oder 11 * 13.)\n",
    "\n",
    "#Kombinationen mit Wiederholung\n",
    "from itertools import combinations_with_replacement\n",
    "zahlen = [1, 2, 3, 5, 7, 11, 13, 17]\n",
    "erg = list(combinations_with_replacement(zahlen, 4))\n",
    "len(erg) - 8 #alle in der Form (1**4 * primzahl) sowie 1**5 abziehen -> insgesamt 8**1"
   ]
  },
  {
   "cell_type": "code",
   "execution_count": 88,
   "metadata": {},
   "outputs": [
    {
     "name": "stdout",
     "output_type": "stream",
     "text": [
      "Anzahl aller Teilmengen: 8192\n"
     ]
    },
    {
     "data": {
      "text/plain": [
       "1287"
      ]
     },
     "execution_count": 88,
     "metadata": {},
     "output_type": "execute_result"
    }
   ],
   "source": [
    "#Nr.98\n",
    "#Wie viele Teilmengen von {5,6,7,8,9,10,11,12,13,14,15,16,17} gibt es, die mindestens eine Primzahl enthalten?\n",
    "\n",
    "#Kombinationen\n",
    "import itertools\n",
    "A = {5,6,7,8,9,10,11,12,13,14,15,16,17}\n",
    "potenz = {x for length in range(len(A)+1) for x in itertools.combinations(A, length)}\n",
    "print(\"Anzahl aller Teilmengen:\", len(potenz))\n",
    "from sympy import binomial #oder from itertools import combinations -> len(list(combinations(A, 5)))\n",
    "binomial(13, 5)"
   ]
  },
  {
   "cell_type": "code",
   "execution_count": null,
   "metadata": {},
   "outputs": [],
   "source": []
  }
 ],
 "metadata": {
  "kernelspec": {
   "display_name": "Python 3",
   "language": "python",
   "name": "python3"
  },
  "language_info": {
   "codemirror_mode": {
    "name": "ipython",
    "version": 3
   },
   "file_extension": ".py",
   "mimetype": "text/x-python",
   "name": "python",
   "nbconvert_exporter": "python",
   "pygments_lexer": "ipython3",
   "version": "3.7.1"
  }
 },
 "nbformat": 4,
 "nbformat_minor": 2
}
