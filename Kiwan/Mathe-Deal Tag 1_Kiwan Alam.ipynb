{
 "cells": [
  {
   "cell_type": "code",
   "execution_count": 2,
   "metadata": {},
   "outputs": [
    {
     "name": "stdout",
     "output_type": "stream",
     "text": [
      "4\n",
      "16\n"
     ]
    }
   ],
   "source": [
    "#Aufgabe 1)\n",
    "\n",
    "def square(n):\n",
    "    return n**2\n",
    "\n",
    "print(square(2))\n",
    "print(square(4))"
   ]
  },
  {
   "cell_type": "code",
   "execution_count": 9,
   "metadata": {},
   "outputs": [
    {
     "name": "stdout",
     "output_type": "stream",
     "text": [
      "True\n",
      "None\n",
      "None\n"
     ]
    }
   ],
   "source": [
    "#Aufgabe 2)\n",
    "\n",
    "def checkSum(a, b, c):\n",
    "    if a + b == c:\n",
    "        print(True)\n",
    "        #return True\n",
    "\n",
    "\n",
    "print(checkSum(2, 4, 6)) #Warum wird hier bei der Verwendung von print sowohl True als auch None ausgegeben?\n",
    "print(checkSum(2, 4, 5))\n",
    "\n",
    "#checkSum gibt ja kein Wert zurück (kein return) und wenn du \"nichts\" ausgeben (printen) möchtest, steht da \"None\".\n",
    "#Kommentier das return True mal ein, dann wird, wenn du print(True) schreibst, \n",
    "#auch True zurückgegeben und auch noch mal durch durch print(checkSum(2, 4, 6)) noch mal geschrieben\n",
    "#komm gerne mal vorbei, dann erkläre ich dir das mal an Hand von ein paar Beispielen :)\n",
    "\n",
    "#None erscheint, weil ich doppelt print verwendet habe\n",
    "#print(Funktion()) gibt den zurückgegeben Wert (mit return) der Fkt aus, meine Fkt hat aber kein return, daher das \"None\"\n",
    "#Trotzdem wird auch True ausgegeben wegen des prints innerhalb der Fkt"
   ]
  },
  {
   "cell_type": "code",
   "execution_count": 1,
   "metadata": {},
   "outputs": [
    {
     "name": "stdout",
     "output_type": "stream",
     "text": [
      "-1\n",
      "1\n",
      "0\n"
     ]
    }
   ],
   "source": [
    "#Aufgabe 3)\n",
    "\n",
    "def compareNumbers(a, b):\n",
    "    if a > b:\n",
    "        return 1\n",
    "    elif a < b:\n",
    "        return -1\n",
    "    elif a == b:\n",
    "        return 0\n",
    "    \n",
    "print(compareNumbers(4, 6))\n",
    "print(compareNumbers(7, 6))\n",
    "print(compareNumbers(4, 4))\n",
    "#mega cool!"
   ]
  },
  {
   "cell_type": "code",
   "execution_count": 32,
   "metadata": {},
   "outputs": [
    {
     "name": "stdout",
     "output_type": "stream",
     "text": [
      "fizz\n",
      "None\n",
      "buzz\n",
      "None\n",
      "fizzbuzz\n",
      "None\n"
     ]
    }
   ],
   "source": [
    "#Aufgabe 4)\n",
    "\n",
    "#In der Vorlesung kam \"elif\" bisher nicht vor, daher habe ich mir kurz etwas dazu durchgelesen. Habe ich es hier korrekt verwendet?\n",
    "\n",
    "def fizzbuzz(n):\n",
    "    if n % 3 == 0 and n % 5 == 0:  \n",
    "        print(\"fizzbuzz\")\n",
    "    elif n % 3 == 0:\n",
    "        print(\"fizz\")\n",
    "    elif n % 5 == 0:\n",
    "        print(\"buzz\")\n",
    "\n",
    "print(fizzbuzz(33)) #Dieselbe Frage wie in Aufgabe 2) (None)\n",
    "print(fizzbuzz(10))\n",
    "print(fizzbuzz(30))\n",
    "#elif hast du genau richtig verwendet :) Perfekt!\n",
    "#wegen \"None\" siehe oben"
   ]
  },
  {
   "cell_type": "code",
   "execution_count": 8,
   "metadata": {},
   "outputs": [
    {
     "name": "stdout",
     "output_type": "stream",
     "text": [
      "False\n",
      "False\n",
      "False\n",
      "True\n"
     ]
    }
   ],
   "source": [
    "#Aufgabe 5)\n",
    "\n",
    "def intervall(a, b, c):\n",
    "    if c < 0:\n",
    "        return False\n",
    "    if c < a or c > b:\n",
    "        return True\n",
    "    else:\n",
    "        return False\n",
    "    \n",
    "print(intervall(1, 3, -1))\n",
    "print(intervall(1, 3, 2))\n",
    "print(intervall(1, 3, 1))\n",
    "print(intervall(1, 3, 0))\n",
    "#megaaa!"
   ]
  },
  {
   "cell_type": "code",
   "execution_count": null,
   "metadata": {},
   "outputs": [],
   "source": []
  }
 ],
 "metadata": {
  "kernelspec": {
   "display_name": "Python 3",
   "language": "python",
   "name": "python3"
  },
  "language_info": {
   "codemirror_mode": {
    "name": "ipython",
    "version": 3
   },
   "file_extension": ".py",
   "mimetype": "text/x-python",
   "name": "python",
   "nbconvert_exporter": "python",
   "pygments_lexer": "ipython3",
   "version": "3.7.1"
  }
 },
 "nbformat": 4,
 "nbformat_minor": 2
}
