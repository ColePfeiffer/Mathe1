{
  "nbformat": 4,
  "nbformat_minor": 0,
  "metadata": {
    "colab": {
      "name": "Deal_Tag_3.1.ipynb",
      "version": "0.3.2",
      "provenance": [],
      "collapsed_sections": []
    },
    "kernelspec": {
      "name": "python3",
      "display_name": "Python 3"
    }
  },
  "cells": [
    {
      "cell_type": "code",
      "metadata": {
        "id": "HmhDDFcjnVbv",
        "colab_type": "code",
        "colab": {}
      },
      "source": [
        "def faculty(n):\n",
        "  f=1\n",
        "  for i in range(1,n+1):\n",
        "    f=f*i\n",
        "  return(f)"
      ],
      "execution_count": 0,
      "outputs": []
    },
    {
      "cell_type": "code",
      "metadata": {
        "id": "P3sOZXrbooE3",
        "colab_type": "code",
        "colab": {}
      },
      "source": [
        "def intervallSum(startValue, endValue):\n",
        "  sum=0\n",
        "  for i in range(startValue,endValue+1):\n",
        "    sum=sum+i\n",
        "  return(sum)"
      ],
      "execution_count": 0,
      "outputs": []
    },
    {
      "cell_type": "code",
      "metadata": {
        "id": "LxNvb2jPqW0F",
        "colab_type": "code",
        "colab": {}
      },
      "source": [
        "def sum(n, odd):\n",
        "  if odd:\n",
        "    s=0\n",
        "    for i in range(1,(n*2),2):\n",
        "      s=s+i\n",
        "    return(s)\n",
        "  else:\n",
        "    s=0\n",
        "    for i in range(2,(n*2)+1,2):\n",
        "      s=s+i\n",
        "    return(s)"
      ],
      "execution_count": 0,
      "outputs": []
    },
    {
      "cell_type": "code",
      "metadata": {
        "id": "3o6C8kzZs8Sa",
        "colab_type": "code",
        "colab": {}
      },
      "source": [
        "def modulo(zaehler, nenner, restklasse):\n",
        "  for i in range(0,restklasse):\n",
        "    if (nenner*i)%restklasse==zaehler:\n",
        "      return(i)"
      ],
      "execution_count": 0,
      "outputs": []
    },
    {
      "cell_type": "code",
      "metadata": {
        "id": "HpW6NW15wDXf",
        "colab_type": "code",
        "colab": {}
      },
      "source": [
        "def compareNumbers(a,b):\n",
        "  if a<b:\n",
        "    return(-1)\n",
        "  elif a>b:\n",
        "    return(1)\n",
        "  elif a==b:\n",
        "    return(0)\n",
        "  \n",
        "def printCompare(a, b):\n",
        "  if compareNumbers(a,b)==-1:\n",
        "    print(a,\"ist kleiner als\",b)\n",
        "  elif compareNumbers(a,b)==1:\n",
        "    print(a,\"ist größer als\",b)\n",
        "  else:\n",
        "    print(a,\"ist gleich\",b)\n",
        "\n",
        "def compareIntervallSum(a1, b1, a2, b2):\n",
        "  printCompare(intervallSum(a1,b1), intervallSum(a2,b2))\n",
        "  "
      ],
      "execution_count": 0,
      "outputs": []
    },
    {
      "cell_type": "code",
      "metadata": {
        "id": "34s1LVIn07CM",
        "colab_type": "code",
        "colab": {}
      },
      "source": [
        ""
      ],
      "execution_count": 0,
      "outputs": []
    },
    {
      "cell_type": "code",
      "metadata": {
        "id": "B_E6U3dS08z7",
        "colab_type": "code",
        "colab": {}
      },
      "source": [
        ""
      ],
      "execution_count": 0,
      "outputs": []
    },
    {
      "cell_type": "code",
      "metadata": {
        "id": "DuxbTkmf1IRb",
        "colab_type": "code",
        "colab": {}
      },
      "source": [
        ""
      ],
      "execution_count": 0,
      "outputs": []
    }
  ]
}