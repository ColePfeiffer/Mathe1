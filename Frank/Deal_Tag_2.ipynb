{
 "cells": [
  {
   "cell_type": "code",
   "execution_count": 0,
   "metadata": {
    "colab": {},
    "colab_type": "code",
    "id": "Bi9qBRAQXT4k"
   },
   "outputs": [],
   "source": [
    "def printAge(age):\n",
    "  print(\"Hallo, ich bin\",age,\"Jahre alt\")"
   ]
  },
  {
   "cell_type": "code",
   "execution_count": 0,
   "metadata": {
    "colab": {},
    "colab_type": "code",
    "id": "QH8YR-K1XzG_"
   },
   "outputs": [],
   "source": [
    "def printEquation(a, b, c, operation):\n",
    "  print(a,operation,b,\"=\",c)"
   ]
  },
  {
   "cell_type": "code",
   "execution_count": 0,
   "metadata": {
    "colab": {},
    "colab_type": "code",
    "id": "Q-uLr5-0X5bF"
   },
   "outputs": [],
   "source": [
    "def compareNumbers(a,b):\n",
    "  if a<b:\n",
    "    return(-1)\n",
    "  elif a>b:\n",
    "    return(1)\n",
    "  elif a==b:\n",
    "    return(0)\n",
    "  \n",
    "def printCompare(a, b):\n",
    "  if compareNumbers(a,b)==-1:\n",
    "    print(a,\"ist kleiner als\",b)\n",
    "  elif compareNumbers(a,b)==1:\n",
    "    print(a,\"ist größer als\",b)\n",
    "  else:\n",
    "    print(a,\"ist gleich\",b)\n",
    "    "
   ]
  },
  {
   "cell_type": "code",
   "execution_count": 0,
   "metadata": {
    "colab": {},
    "colab_type": "code",
    "id": "X6pEcTcUY_gc"
   },
   "outputs": [],
   "source": [
    "def square(n):\n",
    "  n=n**2\n",
    "  return(n)\n",
    "\n",
    "def printEquation(a, b, c, operation):\n",
    "  print(a,operation,b,\"=\",c)\n",
    "  \n",
    "def printSquare(n):\n",
    "  printEquation(n,n,square(n),\"*\")"
   ]
  },
  {
   "cell_type": "code",
   "execution_count": 0,
   "metadata": {
    "colab": {},
    "colab_type": "code",
    "id": "3I_aPsUfcDTa"
   },
   "outputs": [],
   "source": [
    "def loopy(a, b):\n",
    "  while a<b:\n",
    "    a=a+3\n",
    "  return a"
   ]
  },
  {
   "cell_type": "code",
   "execution_count": 0,
   "metadata": {
    "colab": {},
    "colab_type": "code",
    "id": "BddvlhzndXhJ"
   },
   "outputs": [],
   "source": [
    "from math import sqrt\n",
    "def isPrime(n):\n",
    "   if n<2:\n",
    "      return(False)\n",
    "   elif n==2:\n",
    "      return(True)\n",
    "   z=2\n",
    "   while z<sqrt(n)+1:\n",
    "    if n%z==0:\n",
    "       return(False)\n",
    "    else:\n",
    "      z=z+1\n",
    "   return(True)"
   ]
  },
  {
   "cell_type": "code",
   "execution_count": 0,
   "metadata": {
    "colab": {},
    "colab_type": "code",
    "id": "7hsacLoHeXjg"
   },
   "outputs": [],
   "source": [
    "def primeFinder(m):\n",
    "  p=1\n",
    "  z=0\n",
    "  while z<m:\n",
    "    if isPrime(p):\n",
    "      print(p)\n",
    "      z=z+1\n",
    "    p=p+1"
   ]
  },
  {
   "cell_type": "code",
   "execution_count": 0,
   "metadata": {
    "colab": {},
    "colab_type": "code",
    "id": "0J1jC_k0fyI2"
   },
   "outputs": [],
   "source": []
  },
  {
   "cell_type": "code",
   "execution_count": 0,
   "metadata": {
    "colab": {},
    "colab_type": "code",
    "id": "fZFCeM5IJdZq"
   },
   "outputs": [],
   "source": []
  }
 ],
 "metadata": {
  "colab": {
   "collapsed_sections": [],
   "name": "Deal_Tag_2.ipynb",
   "provenance": [],
   "version": "0.3.2"
  },
  "kernelspec": {
   "display_name": "Python 3",
   "language": "python",
   "name": "python3"
  }
 },
 "nbformat": 4,
 "nbformat_minor": 1
}
