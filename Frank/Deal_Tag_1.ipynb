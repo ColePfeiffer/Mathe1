{
 "cells": [
  {
   "cell_type": "code",
   "execution_count": 0,
   "metadata": {
    "colab": {},
    "colab_type": "code",
    "id": "UHu8N82LG-P_"
   },
   "outputs": [],
   "source": [
    "def square(n):\n",
    "  n=n**2\n",
    "  return(n)"
   ]
  },
  {
   "cell_type": "code",
   "execution_count": 0,
   "metadata": {
    "colab": {},
    "colab_type": "code",
    "id": "VhUO_490HQCe"
   },
   "outputs": [],
   "source": [
    "def checksum(a,b,c):\n",
    "  if a+b==c:\n",
    "    print(True)"
   ]
  },
  {
   "cell_type": "code",
   "execution_count": 0,
   "metadata": {
    "colab": {},
    "colab_type": "code",
    "id": "UmntHPmzHbSk"
   },
   "outputs": [],
   "source": [
    "def compareNumbers(a,b):\n",
    "  if a<b:\n",
    "    return(-1)\n",
    "  elif a>b:\n",
    "    return(1)\n",
    "  elif a==b:\n",
    "    return(0)"
   ]
  },
  {
   "cell_type": "code",
   "execution_count": 0,
   "metadata": {
    "colab": {},
    "colab_type": "code",
    "id": "CVkWAjg4LaCJ"
   },
   "outputs": [],
   "source": [
    "def fizzbuzz(n):\n",
    "  if n%3==0 and n%5==0:\n",
    "    print(\"fizzbuzz\")\n",
    "  elif n%3==0:\n",
    "    print(\"fizz\")\n",
    "  elif n%5==0:\n",
    "    print(\"buzz\")"
   ]
  },
  {
   "cell_type": "code",
   "execution_count": 0,
   "metadata": {
    "colab": {},
    "colab_type": "code",
    "id": "rQ41Xo-UNMy2"
   },
   "outputs": [],
   "source": [
    "def intervall(a,b,c):\n",
    "  if c>=0 and (c<a or c>b):\n",
    "    return(True)\n",
    "  else:\n",
    "    return(False)\n",
    "  \n",
    "    "
   ]
  },
  {
   "cell_type": "code",
   "execution_count": 0,
   "metadata": {
    "colab": {},
    "colab_type": "code",
    "id": "V-yBXwOrOgH9"
   },
   "outputs": [],
   "source": []
  },
  {
   "cell_type": "code",
   "execution_count": 0,
   "metadata": {
    "colab": {},
    "colab_type": "code",
    "id": "bMrEWBA8Qtx7"
   },
   "outputs": [],
   "source": []
  }
 ],
 "metadata": {
  "colab": {
   "collapsed_sections": [],
   "name": "Deal_Tag_1.ipynb",
   "provenance": [],
   "version": "0.3.2"
  },
  "kernelspec": {
   "display_name": "Python 3",
   "language": "python",
   "name": "python3"
  }
 },
 "nbformat": 4,
 "nbformat_minor": 1
}
