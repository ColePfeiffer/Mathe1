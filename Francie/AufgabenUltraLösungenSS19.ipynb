{
 "cells": [
  {
   "cell_type": "code",
   "execution_count": null,
   "metadata": {},
   "outputs": [],
   "source": [
    "'''\n",
    "Aufgabe 1\n",
    "Berechne die Summe 1^2+2^2...+25^2\n",
    "'''\n",
    "\n",
    "addSum = 0\n",
    "#zählt in range 0-25 hoch.\n",
    "for i in range (0,26):\n",
    "    k = i*i\n",
    "    addSum +=k \n",
    "addSum\n"
   ]
  },
  {
   "cell_type": "code",
   "execution_count": null,
   "metadata": {},
   "outputs": [],
   "source": [
    "'''\n",
    "Aufgabe 2 \n",
    "Geben Sie die Summe der ersten 100 ungeraden natürlichen Zahlen an.\n",
    "'''\n",
    "\n",
    "n=100**2\n",
    "n"
   ]
  },
  {
   "cell_type": "code",
   "execution_count": null,
   "metadata": {},
   "outputs": [],
   "source": [
    "''' \n",
    "Aufgabe 3 \n",
    "Welche von den folgenden Zahlen ist die größte? \n",
    "[ ] 11110001001000000 2\n",
    "[x] 5056447 8\n",
    "[ ] 1E240 16\n",
    "'''\n",
    "print(0b11110001001000000)\n",
    "print(0o5056447)\n",
    "print(0x1E240)"
   ]
  },
  {
   "cell_type": "code",
   "execution_count": null,
   "metadata": {},
   "outputs": [],
   "source": [
    "'''\n",
    "Aufgabe 4\n",
    "Berechnen Sie in Z/17Z den Wert 7·7+10·7.\n",
    "'''\n",
    "(7*7+10*7)%17"
   ]
  },
  {
   "cell_type": "code",
   "execution_count": null,
   "metadata": {},
   "outputs": [],
   "source": [
    "'''\n",
    "Aufgabe 5\n",
    "Kreuzen Sie alle Lösungen der Gleichung (x − 2) · (x − 4) = 0 in Z/8Z an. \n",
    "[x]0 [ ]1 [x]2 [ ]3 [x]4 [ ]5 [x]6 [ ]7\n",
    "'''\n",
    "\n",
    "for i in range (0,8):\n",
    "    if (i-2)*(i-4)%8==0:\n",
    "        print(i)"
   ]
  },
  {
   "cell_type": "code",
   "execution_count": null,
   "metadata": {},
   "outputs": [],
   "source": [
    "'''\n",
    "Aufgabe 6\n",
    "Wie viele verschiedene Lösungen hat die Gleichung 20x^2 + 25x + 50 = 0 in Z/100Z?\n",
    "'''\n",
    "counter=0\n",
    "for i in range(0,100):\n",
    "    if (20*(i**2)+25*i+50)%100==0:\n",
    "        counter+=1\n",
    "        print(i,counter)\n",
    "        \n",
    "#5"
   ]
  },
  {
   "cell_type": "code",
   "execution_count": null,
   "metadata": {},
   "outputs": [],
   "source": [
    "'''\n",
    "Aufgabe 7\n",
    "Für wie viele Elemente x von Z/160Z gilt x3 = x?\n",
    "'''\n",
    "counter=0\n",
    "for i in range(0,160):\n",
    "    if ((i**3)%160==i):\n",
    "        counter+=1\n",
    "print('Anzahl:', counter)"
   ]
  },
  {
   "cell_type": "code",
   "execution_count": null,
   "metadata": {},
   "outputs": [],
   "source": [
    "'''\n",
    "Aufgabe 8\n",
    "Sei a = 29 und b = 10^6. Die Zahl c = a^b hat deutlich mehr als eine Million Dezimalstellen.\n",
    "Was sind die letzten beiden Ziffern von c (also die beiden ganz rechts)?\n",
    "\n",
    ">01\n",
    "'''\n",
    "a=29\n",
    "b=100 #hier wird die Zahl runtergebrochen auf 100.. ändert nix an der Stelle und ist nicht soo groß\n",
    "\n",
    "\n",
    "c=a**b\n",
    "c"
   ]
  },
  {
   "cell_type": "code",
   "execution_count": null,
   "metadata": {},
   "outputs": [],
   "source": [
    "'''\n",
    "Aufgabe 9\n",
    "Geben Sie von der Binärdarstellung von 10^14000 das erste und das letzte Bit an.\n",
    "erstes:  1 \n",
    "letztes: 0\n",
    "'''\n",
    "c=10**2\n",
    "c\n",
    "bin(100) #umwandeln in bin.. weils gerade ist muss hinten eine 0 stehen und anfang ne 1,w eils immer so ist"
   ]
  },
  {
   "cell_type": "code",
   "execution_count": null,
   "metadata": {},
   "outputs": [],
   "source": [
    "'''\n",
    "Aufgabe 10\n",
    "Geben Sie die Binärdarstellung (Zweierkomplement) von −46 auf einem 16-Bit-Computer an.\n",
    "'''\n",
    "\n",
    "print('Binär: ',bin(46))\n",
    "print('16-Bit & gekippt & 1 addiert: ', '1111 1111 1101 0010')\n"
   ]
  },
  {
   "cell_type": "code",
   "execution_count": null,
   "metadata": {},
   "outputs": [],
   "source": [
    "'''\n",
    "Aufgabe 11\n",
    "Welchen Wert hat die Variable c nach Ausführung des folgenden Codes?\n",
    "c=0\n",
    "k=1\n",
    "for n in range(2 ** 40):\n",
    "    c += k \n",
    "    k *= -1\n",
    "    \n",
    "0\n",
    "'''\n",
    "c=0\n",
    "k=1\n",
    "for n in range(2 ** 4):\n",
    "    c += k \n",
    "    k *= -1\n",
    "c"
   ]
  },
  {
   "cell_type": "code",
   "execution_count": null,
   "metadata": {},
   "outputs": [],
   "source": [
    "'''\n",
    "Aufgabe 12\n",
    "Welchen Wert hat die Variable c nach Ausführung des folgenden Codes?\n",
    "\n",
    "40\n",
    "'''\n",
    "c, k = 42, 1\n",
    "for n in range(3 ** 4):\n",
    "    k *= -1 \n",
    "    c += 2*k\n",
    "c"
   ]
  },
  {
   "cell_type": "code",
   "execution_count": null,
   "metadata": {},
   "outputs": [],
   "source": [
    "'''\n",
    "Aufgabe 13\n",
    "Welchen Wert hat die Variable c nach Ausführung des folgenden Codes?\n",
    "\n",
    "-1\n",
    "\n",
    "'''\n",
    "c = -1\n",
    "for n in range(5 ** 4):\n",
    "    c += (n % 5) - 2\n",
    "c"
   ]
  },
  {
   "cell_type": "code",
   "execution_count": null,
   "metadata": {},
   "outputs": [],
   "source": [
    "'''\n",
    "Aufgabe 14\n",
    "Welchen Wert hat die Variable c nach Ausführung des folgenden Codes?\n",
    "\n",
    "0\n",
    "'''\n",
    "c=0\n",
    "k=1\n",
    "for n in range(0, 3 ** 4):\n",
    "    c += (k - 1)\n",
    "    k = (k + 1) % 3\n",
    "c"
   ]
  },
  {
   "cell_type": "code",
   "execution_count": null,
   "metadata": {},
   "outputs": [],
   "source": [
    "'''\n",
    "Aufgabe 15\n",
    "Welche der folgenden Zahlen ist durch 7 teilbar?\n",
    "\n",
    "oktal:\n",
    "[ ] 17025     [ ] 17025     [x] 17141\n",
    "'''\n",
    "a= 0o17025\n",
    "b= 0o17025\n",
    "c= 0o17141\n",
    "\n",
    "print(a, a%7)\n",
    "print(b, b%7)\n",
    "print(c, c%7)"
   ]
  },
  {
   "cell_type": "code",
   "execution_count": 3,
   "metadata": {},
   "outputs": [
    {
     "name": "stdout",
     "output_type": "stream",
     "text": [
      "10\n"
     ]
    },
    {
     "data": {
      "text/plain": [
       "0"
      ]
     },
     "execution_count": 3,
     "metadata": {},
     "output_type": "execute_result"
    }
   ],
   "source": [
    "'''\n",
    "Aufgabe 16\n",
    "Welche der folgenden Zahlen ist durch 11 teilbar?\n",
    "[x]  0 null ist durch jede Zahl teilbar\n",
    "[ ] 10^10^10 Es ist egal wie viele 0 (10erPotenzen) an die 10 anhängen, sie wird nie durch 11 teilbar sein.\n",
    "[ ] 10^13^13 Zunächst rechnen wir 13^13 und prüfen auf Teilbarkeit. > 10 Rest. 10^13 bringt auch nix\n",
    "[x] (10^13^13)+1 siehe oben, +1\n",
    "\n",
    "auch 10**100\n",
    "oder 10**169\n",
    "\n",
    "'''\n",
    "n=(10**169)%11\n",
    "print(n)\n",
    "k=(10**169+1)%11\n",
    "k\n",
    "\n",
    "\n",
    "\n"
   ]
  },
  {
   "cell_type": "code",
   "execution_count": null,
   "metadata": {},
   "outputs": [],
   "source": [
    "'''\n",
    "Aufgabe 17\n",
    "Geben Sie den größten gemeinsamen Teiler von \n",
    "471 694 074 821\n",
    "471 766 128 373 \n",
    "471 757 130 107\n",
    "an; also die größte Zahl, die alle drei Zahlen teilt.\n",
    "'''\n",
    "\n",
    "from math import gcd\n",
    "gcd(471694074821,gcd(471766128373,471757130107))\n"
   ]
  },
  {
   "cell_type": "code",
   "execution_count": null,
   "metadata": {},
   "outputs": [],
   "source": [
    "'''\n",
    "Aufgabe 18\n",
    "Der größte gemeinsame Teiler von 18 und 11 ist 1. \n",
    "Geben Sie ganze Zahlen a und b an, so dass 1 = 18a + 11b gilt.\n",
    "'''\n",
    "\n",
    "maxRange=10\n",
    "\n",
    "#wir müssen uns auch im negativen Zahlenraum bewegen um die Gleichung zu lösen\n",
    "for a in range(-maxRange,maxRange):\n",
    "    for b in range (-maxRange,maxRange):\n",
    "        if (18*a + 11*b ==1):\n",
    "            print(a,b)\n"
   ]
  },
  {
   "cell_type": "code",
   "execution_count": null,
   "metadata": {},
   "outputs": [],
   "source": [
    "'''\n",
    "Aufgabe 19\n",
    "Geben Sie zwei Zahlen aus Z/27Z an, deren Produkt verschwindet, obwohl beide Zahlen nicht null sind.\n",
    "'''\n",
    "\n",
    "for i in range (1,27):\n",
    "    for u in range (1,27):\n",
    "        if i *u == 27:\n",
    "            print (i,u)\n",
    "            \n",
    "            # man könnte auch i*u%27 == 0 machen, dann wirds aber unübersichtlich aus irgendeinem Grund"
   ]
  },
  {
   "cell_type": "code",
   "execution_count": null,
   "metadata": {},
   "outputs": [],
   "source": [
    "'''\n",
    "Aufgabe 20\n",
    "Berechnen Sie den Quotienten 2/9 in Z23'''\n",
    "\n",
    "# offText: Division ist Multiplikation mit dem Kehrwert. Um 4/5 in Z7 zu teilen, \n",
    "# brauchen wir also den Kehrwert von 5, und das ist 3. 4/5 ist dann 4 · 3, also 5.\n",
    "\n",
    "from sympy import isprime\n",
    "print(isprime(23))\n",
    "\n",
    "for i in range (1,23):\n",
    "    if (9*i)%23==2:\n",
    "        print(i)\n",
    "\n",
    "    #Es gibt mehrere Lösungen, da 23 eine Primzahl ist und alle Zahlen im Restklassenring ein\n",
    "    #inverses Element haben.."
   ]
  },
  {
   "cell_type": "code",
   "execution_count": null,
   "metadata": {},
   "outputs": [],
   "source": [
    "'''\n",
    "Aufgabe 21\n",
    "Geben Sie eine von 1 verschiedene Zahl an, die in Z/24Z einen Kehrwert hat.\n",
    "'''\n",
    "\n",
    "for i in range (0,24):\n",
    "    for b in range (0,24):\n",
    "        if i*b%24==1 and i!=1 and b !=1:\n",
    "            print (i,b)"
   ]
  },
  {
   "cell_type": "code",
   "execution_count": 4,
   "metadata": {},
   "outputs": [
    {
     "name": "stdout",
     "output_type": "stream",
     "text": [
      "10\n",
      "Ergebnis:  1\n"
     ]
    }
   ],
   "source": [
    "'''\n",
    "Aufgabe 22\n",
    "Berechnen Sie den Wert 􏰁(2􏰂/9)^1000000 in Z11.\n",
    "'''\n",
    "\n",
    "for i in range (0,11):\n",
    "    if (i *9)%11==2:\n",
    "        print (i) #10 gemerkt\n",
    "        \n",
    "print (\"Ergebnis: \", (10**1000000)%11) #man kann auch annehmen das 10 in Z11 -1 ist. -1**1000000 würde wohl schneller gehen, denn da geht es nur noch um gerade \n",
    "#oder ungerade. Wenn die Zahl gerade ist, kommt 1 raus. :)"
   ]
  },
  {
   "cell_type": "code",
   "execution_count": null,
   "metadata": {},
   "outputs": [],
   "source": [
    "'''\n",
    "Aufgabe 23\n",
    "Wie viele Elemente von Z/802Z sind bezüglich der Multiplikation invers zu sich selbst?\n",
    "'''\n",
    "counter =0\n",
    "for i in range (0,802):\n",
    "    if ((i*i) %802)==1:\n",
    "        counter+=1\n",
    "        print (i, counter)"
   ]
  },
  {
   "cell_type": "code",
   "execution_count": 28,
   "metadata": {},
   "outputs": [
    {
     "name": "stdout",
     "output_type": "stream",
     "text": [
      "{0, 1, 4, 7, 9, 10, 16, 18, 19, 25, 28, 31, 33, 36, 39, 40, 45, 49, 51, 63, 64, 66, 67, 69, 70, 72, 76, 78, 81, 82, 87, 90} 32\n"
     ]
    }
   ],
   "source": [
    "'''\n",
    "Aufgabe 24\n",
    "Wie viele Elemente von Z/93Z lassen sich als Quadrat eines Elements von Z/93Z darstellen? \n",
    "[Bei- spiel: 51 ist das Quadrat von 12.]\n",
    "\n",
    "siehe 20\n",
    "'''\n",
    "counter=0\n",
    "liste=set()\n",
    "\n",
    "for i in range(0,93):\n",
    "    temp = (i**2)%93\n",
    "    if(temp<=92):\n",
    "        liste.add(temp)\n",
    "        counter+=1\n",
    "        \n",
    "print(liste, len(liste))"
   ]
  },
  {
   "cell_type": "code",
   "execution_count": 52,
   "metadata": {},
   "outputs": [
    {
     "name": "stdout",
     "output_type": "stream",
     "text": [
      "4200420042\n"
     ]
    }
   ],
   "source": [
    "'''\n",
    "Aufgabe 25\n",
    "p = 2 760 727 302 517 ist eine Primzahl.\n",
    "Geben Sie den Kehrwert von 853 662 459 626 in Zp an. (Hinweis: kleiner Satz von Fermat.)\n",
    "\n",
    "Siehe 21\n",
    "\n",
    "\n",
    "z*x=1 mod(p)\n",
    "(z*x) mod(p)=1\n",
    "z*x=1+n*p\n",
    "1=z*x-n*p\n",
    "erweiterter Euklidischer Algorithmus\n",
    "\n",
    "z*x=1\n",
    "z**p-1=1=z*x\n",
    "z**p-1=z*x\n",
    "x=z**p-1/z = z**p-2 nahc jedem Multiplikationsschritt kann man modulo p rechnen, dann würden die Zahlen nicht so groß, ist aber auch net so Bombe.\n",
    "Euklidischer Algorithmus ist schneller\n",
    "\n",
    "z**(p-1)\n",
    "pow(z,p-1)\n",
    "'''\n",
    "a=853662459626\n",
    "p=2760727302517\n",
    "b=p-2\n",
    "print(pow(a,p-2,p))\n",
    "\n",
    "#MEGA ROCK!!!! <3\n"
   ]
  },
  {
   "cell_type": "code",
   "execution_count": 42,
   "metadata": {},
   "outputs": [
    {
     "name": "stdout",
     "output_type": "stream",
     "text": [
      "7070651414971679/2251799813685248\n",
      "9007199254740991\n",
      "9007199254740993\n",
      "9007199254740992\n"
     ]
    }
   ],
   "source": [
    "'''\n",
    "Aufgabe 53\n",
    "\n",
    "\n",
    "'''\n",
    "from fractions import Fraction\n",
    "print(Fraction(3.14))\n",
    "print(Fraction(2**53-1)) #gerade noch so darstellbar\n",
    "print(Fraction(2**53+1))#fällt raus\n",
    "print(Fraction(2**53)) #darstellbarer bereich in IEEE \n"
   ]
  },
  {
   "cell_type": "code",
   "execution_count": null,
   "metadata": {},
   "outputs": [],
   "source": [
    "7070651414971679/2251799813685248\n"
   ]
  },
  {
   "cell_type": "code",
   "execution_count": null,
   "metadata": {},
   "outputs": [],
   "source": [
    "'''\n",
    "Aufgabe 56\n",
    "Kreuzen Sie die Zahlen an, die nicht rational sind.\n",
    "0.500000000000000000000000000000000000000000000000000000000000000000000 . . . \n",
    "0.112123123411212312341121231234112123123411212312341121231234112123123 . . . \n",
    "0.112123123412345123456123456712345678123456789123456789101234567891011 . . . \n",
    "0.318424242424242424242424242424242424242424242424242424242424242424242 . . . \n",
    "0.010010001000010000010000001000000010000000010000000001000000000010000 . . .\n",
    "(Alle Zahlen sind so gemeint, dass es nach einem hoffentlich erkennbaren Muster immer so weiter geht;\n",
    "daher die Punkte am Ende. Falls Sie sich bei einer Zahl nicht sicher sind, melden Sie sich bitte.)\n",
    "\n",
    "'''\n",
    "\n",
    "print(\" Die Zahlen, die periodisch sind, sind rational. Andere no, diese hier werden immer größer, sodass 3 & 5 nicht rational sind\")"
   ]
  },
  {
   "cell_type": "code",
   "execution_count": 43,
   "metadata": {},
   "outputs": [
    {
     "name": "stdout",
     "output_type": "stream",
     "text": [
      "1.7320508075688772\n",
      "0.0001\n"
     ]
    },
    {
     "data": {
      "text/plain": [
       "Fraction(43301, 25000)"
      ]
     },
     "execution_count": 43,
     "metadata": {},
     "output_type": "execute_result"
    }
   ],
   "source": [
    "'''\n",
    "Aufgabe 59\n",
    "Geben Sie einen Bruch an, der sich von sqrt(3) um weniger als 10^−4 unterscheidet.\n",
    "'''\n",
    "\n",
    "from math import sqrt\n",
    "k= sqrt(3)\n",
    "print(k)\n",
    "#die Zahl soll sich um weniger als die vierte Nachkommastelle unterscheiden, deshalb verändert man, \n",
    "#die 5. Stelle (man kann als 5. Stelle einsetzen was man will)\n",
    "\n",
    "l=10**-4\n",
    "print(l)\n",
    "\n",
    "from fractions import Fraction\n",
    "Fraction(1.73204).limit_denominator()\n",
    "\n",
    "#andere Möglichkeit sqrt(3)- ist eine irrationale Zahl. Siehe Kapitel irrationale Zahlen -> komisches Wurzelziehen mit Geometrie\n",
    "#arrithmetisches Mittel\n",
    "#1+3/2=2\n",
    "#andere Kante muss dann so groß werden, dass 2*y=3 ist. y=3/2 = 1.5 -> neues Dreieck mit 1,5x2.. forever weiter.. abbruchbedingung\n",
    "#abs(math.sqrt(3)-x)>10**-4 -> while schleife und Abbruchbedingung...\n"
   ]
  },
  {
   "cell_type": "code",
   "execution_count": null,
   "metadata": {},
   "outputs": [],
   "source": [
    "'''\n",
    "Aufgabe 60 \n",
    "Geben Sie einen Bruch an, dessen Quadrat sich um weniger als 10^−2 von 5 unterscheidet.\n",
    "'''\n",
    "\n",
    "k=10**-2\n",
    "print(k)\n",
    "Fraction(sqrt(5.001)).limit_denominator()"
   ]
  },
  {
   "cell_type": "code",
   "execution_count": 45,
   "metadata": {},
   "outputs": [
    {
     "name": "stdout",
     "output_type": "stream",
     "text": [
      "Bruch:  4/7\n"
     ]
    }
   ],
   "source": [
    "'''\n",
    "Aufgabe 61\n",
    "Geben Sie einen Bruch an, der sich von 1/ sqrt(3) um weniger als 10^−2 \n",
    "unterscheidet und dessen Nenner einen kleineren Betrag als 10 hat.\n",
    "'''\n",
    "\n",
    "import math\n",
    "from fractions import Fraction\n",
    "\n",
    "zahl = 1/math.sqrt(3)\n",
    "maxUnterschied = 10**-2\n",
    "min = zahl-maxUnterschied\n",
    "max = zahl+maxUnterschied\n",
    "maxNenner = 9\n",
    "\n",
    "for n in range(1,maxNenner+1):\n",
    "    for z in range (1,maxNenner+1):\n",
    "        q = Fraction(n,z)\n",
    "        if(q > min and q < max): # Letzte Bedingung muss per Hand überprüft werden\n",
    "            print(\"Bruch: \", q)"
   ]
  },
  {
   "cell_type": "code",
   "execution_count": 46,
   "metadata": {},
   "outputs": [
    {
     "name": "stdout",
     "output_type": "stream",
     "text": [
      "angeblich 21 vielleicht aber auch unendlich viele... :D\n"
     ]
    }
   ],
   "source": [
    "'''\n",
    "Aufgabe 62\n",
    "Zwischen π − 3 und (sqrt(10))-3 ist kleiner als 20, \n",
    "10 − 3 liegen unendlich viele Bru ̈che. Bei wie vielen dieser Bru ̈che ist der Nen-wenn sie in gekürzter Form dargestellt werden? \n",
    "[Hinweis: Schreiben Sie sich dafu ̈r ein kleines Programm.]\n",
    "\n",
    " '''\n",
    "from math import pi\n",
    "zahl=0\n",
    "i=pi-3\n",
    "while(i<(sqrt(10)-3)):\n",
    "    if(i>0.05):\n",
    "        zahl+=1\n",
    "    i+=0.001\n",
    "print(\"angeblich\",zahl, \"vielleicht aber auch unendlich viele... :D\")\n",
    "\n"
   ]
  },
  {
   "cell_type": "code",
   "execution_count": 47,
   "metadata": {},
   "outputs": [
    {
     "name": "stdout",
     "output_type": "stream",
     "text": [
      "Wurzel 5 2.23606797749979\n",
      "mini 0.0001\n"
     ]
    },
    {
     "data": {
      "text/plain": [
       "Fraction(27951, 12500)"
      ]
     },
     "execution_count": 47,
     "metadata": {},
     "output_type": "execute_result"
    }
   ],
   "source": [
    "'''\n",
    "Aufgabe 63\n",
    "Geben Sie einen Bruch q an, der die folgenden drei Bedingungen erfüllt: \n",
    "• q ist größer als sqrt(5).\n",
    "• q − √5 ist kleiner als 10^−4.\n",
    "• Der Nenner von q ist kleiner als 100 000.\n",
    "'''\n",
    "\n",
    "k = sqrt(5)\n",
    "print(\"Wurzel 5\", k)\n",
    "print(\"mini\", 10**-4)\n",
    "\n",
    "#kleinere Zahl als k gesucht, wir verändern also die 5 Stelle nach dem Komma \n",
    "#und probieren rum <3 \n",
    "\n",
    "Fraction(2.23608).limit_denominator()\n",
    "\n"
   ]
  },
  {
   "cell_type": "code",
   "execution_count": null,
   "metadata": {},
   "outputs": [],
   "source": [
    "'''\n",
    "Aufgabe 64\n",
    "Kreuzen Sie von den folgenden Mengen die an, die das Element 11 enthalten: \n",
    "[ ] {x∈Z:x2 <100}\n",
    "[ ] {mn : m, n ∈ P}\n",
    "[x] {x ∈ N: x < 100}\n",
    "[ ] Q\\R\n",
    "[ ] {x∈Q:x̸=0undx−1 ≥11}\n",
    "'''"
   ]
  },
  {
   "cell_type": "code",
   "execution_count": null,
   "metadata": {},
   "outputs": [],
   "source": [
    "'''\n",
    "Aufgabe 65\n",
    "Jeweils zwei der unten aufgefu ̈hrten Mengen sind gleich. Finden Sie die entsprechenden Paare.\n",
    "Pärchen : A=R∩R   C=R∪R\n",
    "E = N ∪ {42}\n",
    "G={2√2}      I={n∈N:n2 ≤0}\n",
    "B={x∈Q:x2 =8}∪N     D={x∈Q:x2 =xundx<1}       F = {x ∈ R : x2 = x und x < 0}\n",
    "H={x∈R:x2 =8undx>0}               J={x∈Q:x2 =8undx>0}'''"
   ]
  },
  {
   "cell_type": "code",
   "execution_count": null,
   "metadata": {},
   "outputs": [],
   "source": [
    "'''\n",
    "Aufgabe 69\n",
    "\n",
    "enthält N 0? \n",
    "\n",
    "Aufgabe 70\n",
    "siehe Buch... \n",
    "Kombis:\n",
    "00,01,02,03,0-1,0-2,0-3,11,12,13,1-1,1-2,1-3,10,20,21,2-1,30,31,3-1\n",
    "Antwort: 20 Elemente\n",
    "\n",
    "Aufgabe 71\n",
    "Sei A = {1, 2, 4} und B = {2, 3, 4}. Wie viele Elemente hat die Menge à(A) \\ à(B)?\n",
    "WAS IST DAS????\n",
    "\n",
    "Aufgabe 72\n",
    "Sei A = {1, 2, 3} und B = {2, 3, 4}. \n",
    "Geben Sie ein geordnetes Paar an, das Element von A2 \\ B^2, aber nicht Element von (A \\ B)^2 ist.\n",
    "\n",
    "Aufgabe 73\n",
    "Sei A = {−2,−1,0,1,2,3}. Geben Sie die Mächtigkeit von B = {xy: x,y ∈ A} an.\n",
    "Antwort: 15. \n",
    "1 mal Element 0, \n",
    "dann multipliziert man alle Elemente miteinander.. dabei fallen immer wieder welche weg, da sich ihre Produkte\n",
    "doppeln würden. \n",
    "-2 > 6 (-2*-2, -2*-1, -2*0...)\n",
    "-1 > 4 (-1*-1, -1*1...)\n",
    "1 > 2 (1*2, 1*3)\n",
    "2 > 2 (2*2, 2*3)\n",
    "3 > 1 (3*3)\n",
    "\n",
    "Aufgabe 74\n",
    "Sei A die Menge der ersten 22 Primzahlen und B = {m/n : m,n ∈ A}. Geben Sie die Mächtigkeit von B an.\n",
    "\n",
    "'''\n",
    "#Logik siehe oben.\n",
    "a=1\n",
    "Ergebnis =0\n",
    "while a<22: \n",
    "    Ergebnis+=a\n",
    "    a+=1\n",
    "print(\"Die Mächtigkeit von B\", Ergebnis)"
   ]
  },
  {
   "cell_type": "code",
   "execution_count": null,
   "metadata": {},
   "outputs": [],
   "source": [
    "'''\n",
    "Aufgabe 75 \n",
    "Sei A die Menge der ersten 23 Primzahlen und B die Menge {ggT(m, n) : m, n ∈ A}.\n",
    "Geben Sie die Ma ̈chtigkeit von B an.\n",
    "'''\n",
    "\n",
    "print(\"Fake NEWS. Primzahlen haben keine gemeinsamen Teiler.. außer 1 :D B= {1} \")"
   ]
  },
  {
   "cell_type": "code",
   "execution_count": null,
   "metadata": {},
   "outputs": [],
   "source": [
    "'''\n",
    "Aufgabe 76\n",
    "Sei A die Menge der ersten 40 Primzahlen und B die Menge {mn : m,n ∈ A}. \n",
    "Geben Sie die Mächtigkeit von B an.\n",
    "'''\n",
    "### COPY CAT####\n",
    "a=1\n",
    "Ergebnis =0\n",
    "while a<40: \n",
    "    Ergebnis+=a\n",
    "    a+=1\n",
    "print(\"Die Mächtigkeit von B\", Ergebnis)"
   ]
  },
  {
   "cell_type": "code",
   "execution_count": null,
   "metadata": {},
   "outputs": [],
   "source": [
    "'''\n",
    "Aufgabe 77\n",
    "Sei A die Menge der ersten 40 Primzahlen und B = {mn: m,n ∈ A und m ̸= n}. \n",
    "Geben Sie die Mächtigkeit von B an.'''\n",
    "\n",
    "a=1\n",
    "Ergebnis =0\n",
    "while a<40: \n",
    "    Ergebnis+=a-1 #hier minus 1 gerechnet um die Dopplungen rauszurechnen..\n",
    "    a+=1\n",
    "print(\"Die Mächtigkeit von B\", Ergebnis) "
   ]
  },
  {
   "cell_type": "code",
   "execution_count": 58,
   "metadata": {},
   "outputs": [
    {
     "name": "stdout",
     "output_type": "stream",
     "text": [
      "31\n",
      "13.0\n",
      "43\n"
     ]
    }
   ],
   "source": [
    "'''\n",
    "Aufgabe 78\n",
    "Sei A = {p ∈ P : p < q}. Für welche Primzahl q gilt |A × A| = 100?\n",
    "\n",
    "Lösung Aufgabe 266. Die Mächtigkeit von |A × A| ist |A| * |A|\n",
    "Die Mächtigkeit ist die Anzahl der Elemente. Die Mächtigkeit von A muss 10 sein, da 10*10 =100 ergibt. \n",
    "A wird wie oben definiert. Wir möchten 10 Elemente in der Menge haben, dementsprechend ermittelt man die 11te.\n",
    "\n",
    "'''\n",
    "\n",
    "from sympy import prime\n",
    "print(prime(11))\n",
    "\n"
   ]
  },
  {
   "cell_type": "code",
   "execution_count": 61,
   "metadata": {},
   "outputs": [
    {
     "name": "stdout",
     "output_type": "stream",
     "text": [
      "43\n",
      "79 bis 70 runter.. also muss BC 9 Elemente enthalten.\n"
     ]
    }
   ],
   "source": [
    "'''\n",
    "Aufgabe 79\n",
    "Die Mengen A und B sind folgendermaßen definiert:\n",
    "A = {{n, n + 1, n + 2} : n E N und n <= 42} = {{0, 1, 2}, {1, 2, 3}, . . . , {42, 43, 44}}\n",
    "B = {X \\ Y : X, Y E A und X /= Y }\n",
    "Wie viele Elemente hat B?\n",
    "\n",
    "Die Mengen umfasst die Schnittmengen der Menge A (1,2,3) (2,3,4) (3,4,5) (4,5,6)....(42,43,44)\n",
    "Also 23 3 4 45.. es haben zwei Paare immer zwei Elemente gemein. Die 44,0 und 1 schneiden sich mit nichts. \n",
    "43-1 = 42 \n",
    "die 42*2= 84 Wir nehmen die Anzahl doppelt, da wir jeweils zwei Elementpaare haben\n",
    "'''\n",
    "A = set()\n",
    "B=set()\n",
    "\n",
    "for n in range (0,43):\n",
    "    A.add((n,n+1,n+2))\n",
    "    \n",
    "print(len(A))\n",
    "\n",
    "'''\n",
    "\n",
    "Aufgabe 80\n",
    "A, B und C sind Mengen, die jeweils 30 Elemente haben. A\\B hat f¨unf Elemente, A\\C hat sechs\n",
    "Elemente. Ferner sind A \\ B und A \\ C disjunkt und es gilt |A [ B [ C| = 70. Wie viele Elemente\n",
    "hat B \\ C?\n",
    "\n",
    "'''\n",
    "k= 90-6-5\n",
    "print(k, \"bis 70 runter.. also muss BC 9 Elemente enthalten.\")"
   ]
  },
  {
   "cell_type": "code",
   "execution_count": null,
   "metadata": {},
   "outputs": [],
   "source": [
    "'''\n",
    "Aufgabe 81\n",
    "\n",
    "Wie viele dreistellige Dezimalzahlen gibt es, bei denen entweder alle Ziffern gerade oder alle Ziffern\n",
    "ungerade sind? (Hinweis: 007 und 042 sind keine dreistelligen Zahlen.)\n",
    "\n",
    "'''\n",
    "\n",
    "counter = 0\n",
    "for i in range (100,1000):\n",
    "    a=i%10\n",
    "    b=(i%100)//10\n",
    "    c=(i%1000)//100\n",
    "    if a%2==0 and b%2==0 and c%2==0: #prüft ob alle Zahlen gerade sind un zählt..\n",
    "        counter+=1\n",
    "print(counter)\n",
    "    "
   ]
  },
  {
   "cell_type": "code",
   "execution_count": null,
   "metadata": {},
   "outputs": [],
   "source": [
    "'''\n",
    "Aufgabe 82\n",
    "Wie viele dreistellige natürliche Zahlen, die mindestens eine der drei folgenden Bedingungen erfüllen,\n",
    "gibt es?\n",
    "(i) Die erste Ziffer ist ungerade.\n",
    "(ii) Die Zahl ist durch 2 teilbar.\n",
    "(iii) Die Zahl ist durch 5 teilbar.\n",
    "Erlaubt sind also z.B. die Zahlen 103, 452 und 425, aber auch 152 oder 300. Nicht erlaubt sind etwa\n",
    "42 (nicht dreistellig) oder 421.\n",
    "'''\n",
    "\n",
    "counter = 0\n",
    "for i in range (100,1000):\n",
    "    a=(i%1000)//100\n",
    "    b=i%2\n",
    "    c=i%5\n",
    "    if a%2==1 or b==0 or c%2==0:\n",
    "        counter+=1\n",
    "print(counter)"
   ]
  },
  {
   "cell_type": "code",
   "execution_count": null,
   "metadata": {},
   "outputs": [],
   "source": [
    "'''\n",
    "Aufgabe 83\n",
    "Wie viele verschiedene Zeichenketten der Länge 4, die mindestens eine der folgenden Bedingungen\n",
    "erfüllen, kann man aus den 8 Buchstaben A bis H konstruieren?\n",
    "(i) Der erste Buchstabe ist A.\n",
    "(ii) Der zweite Buchstabe ist B.\n",
    "(iii) Der dritte Buchstabe ist C.\n",
    "Erlaubt sind also z.B. die Zeichenketten ADBH oder DBDH, aber auch AHCC oder ABCA\n",
    "'''\n",
    "\n",
    "print(\"haha\")"
   ]
  },
  {
   "cell_type": "code",
   "execution_count": null,
   "metadata": {},
   "outputs": [],
   "source": [
    "'''\n",
    "Aufgabe 88\n",
    "'''\n",
    "k=0\n",
    "for i in range(12,44):\n",
    "    k=k+3\n",
    "print(k)\n",
    "    "
   ]
  },
  {
   "cell_type": "code",
   "execution_count": null,
   "metadata": {},
   "outputs": [],
   "source": [
    "'''\n",
    "Aufgabe 89\n",
    "Berechnen Sie die Summe 30 + 35 + 40 + 45 + · · · + 445 + 450 + 455.\n",
    "'''\n",
    "k=0\n",
    "\n",
    "for i in range (30,460,5):\n",
    "    k=i+k\n",
    "print(k)"
   ]
  },
  {
   "cell_type": "code",
   "execution_count": null,
   "metadata": {},
   "outputs": [],
   "source": [
    "'''\n",
    "ATTENCIÓNE!!!\n",
    "\n",
    "Aufgabe 90\n",
    "Welchen Wert muss k haben, damit (Summenformel max 110, n=k, (n^2+n+1)=425546?\n",
    "'''\n",
    "\n",
    "k=0\n",
    "for i in range (38,110):\n",
    "    k+=(i**2+i+1)\n",
    "print(k)\n"
   ]
  },
  {
   "cell_type": "code",
   "execution_count": 26,
   "metadata": {},
   "outputs": [],
   "source": [
    "'''\n",
    "Aufgabe 94\n",
    "Durch Umsortieren der Ziffern kann man aus 234456 andere Zahlen machen, z.B. 423654 oder 564234.\n",
    "Wie viele verschiedene Zahlen (inklusive 234456) kann man auf diese Art erhalten?\n",
    "'''\n",
    "k=0\n",
    "def fak(n):\n",
    "    k=k*n*(n-1)\n",
    "    return k"
   ]
  },
  {
   "cell_type": "code",
   "execution_count": 27,
   "metadata": {},
   "outputs": [
    {
     "ename": "UnboundLocalError",
     "evalue": "local variable 'k' referenced before assignment",
     "output_type": "error",
     "traceback": [
      "\u001b[1;31m---------------------------------------------------------------------------\u001b[0m",
      "\u001b[1;31mUnboundLocalError\u001b[0m                         Traceback (most recent call last)",
      "\u001b[1;32m<ipython-input-27-f248ff1f9e35>\u001b[0m in \u001b[0;36m<module>\u001b[1;34m\u001b[0m\n\u001b[1;32m----> 1\u001b[1;33m \u001b[0mfak\u001b[0m\u001b[1;33m(\u001b[0m\u001b[1;36m5\u001b[0m\u001b[1;33m)\u001b[0m\u001b[1;33m\u001b[0m\u001b[1;33m\u001b[0m\u001b[0m\n\u001b[0m",
      "\u001b[1;32m<ipython-input-26-2d94b2fcb9c6>\u001b[0m in \u001b[0;36mfak\u001b[1;34m(n)\u001b[0m\n\u001b[0;32m      6\u001b[0m \u001b[0mk\u001b[0m\u001b[1;33m=\u001b[0m\u001b[1;36m0\u001b[0m\u001b[1;33m\u001b[0m\u001b[1;33m\u001b[0m\u001b[0m\n\u001b[0;32m      7\u001b[0m \u001b[1;32mdef\u001b[0m \u001b[0mfak\u001b[0m\u001b[1;33m(\u001b[0m\u001b[0mn\u001b[0m\u001b[1;33m)\u001b[0m\u001b[1;33m:\u001b[0m\u001b[1;33m\u001b[0m\u001b[1;33m\u001b[0m\u001b[0m\n\u001b[1;32m----> 8\u001b[1;33m     \u001b[0mk\u001b[0m\u001b[1;33m=\u001b[0m\u001b[0mk\u001b[0m\u001b[1;33m*\u001b[0m\u001b[0mn\u001b[0m\u001b[1;33m*\u001b[0m\u001b[1;33m(\u001b[0m\u001b[0mn\u001b[0m\u001b[1;33m-\u001b[0m\u001b[1;36m1\u001b[0m\u001b[1;33m)\u001b[0m\u001b[1;33m\u001b[0m\u001b[1;33m\u001b[0m\u001b[0m\n\u001b[0m\u001b[0;32m      9\u001b[0m     \u001b[1;32mreturn\u001b[0m \u001b[0mk\u001b[0m\u001b[1;33m\u001b[0m\u001b[1;33m\u001b[0m\u001b[0m\n",
      "\u001b[1;31mUnboundLocalError\u001b[0m: local variable 'k' referenced before assignment"
     ]
    }
   ],
   "source": [
    "fak(5)"
   ]
  },
  {
   "cell_type": "code",
   "execution_count": 9,
   "metadata": {},
   "outputs": [
    {
     "name": "stdout",
     "output_type": "stream",
     "text": [
      "die kleinste positive Lösung ist 27\n"
     ]
    }
   ],
   "source": [
    "'''\n",
    "Aufgabe 26\n",
    "Geben Sie die kleinste positive L¨osung des folgenden Kongruenzsystems an:\n",
    "x =2 (mod5)\n",
    "x =3 (mod4)\n",
    "x =6 (mod7)\n",
    "'''\n",
    "from sympy.ntheory.modular import crt\n",
    "crt([5,4,7],[2,3,6])\n",
    "print(\"die kleinste positive Lösung ist 27\")"
   ]
  },
  {
   "cell_type": "code",
   "execution_count": 13,
   "metadata": {},
   "outputs": [
    {
     "name": "stdout",
     "output_type": "stream",
     "text": [
      "größte negative Lösung  -22\n"
     ]
    }
   ],
   "source": [
    "'''\n",
    "Aufgabe 27\n",
    "Geben Sie die gr¨oßte negative L¨osung des folgenden Kongruenzsystems an:\n",
    "x ⌘2 (mod3)\n",
    "x ⌘2 (mod4)\n",
    "x ⌘6 (mod7)\n",
    "'''\n",
    "\n",
    "crt([3,4,7],[2,2,6])\n",
    "print(\"größte negative Lösung \",62-84)"
   ]
  },
  {
   "cell_type": "code",
   "execution_count": 20,
   "metadata": {},
   "outputs": [],
   "source": [
    "'''\n",
    "Aufgabe 28\n",
    "F¨ur welche a hat das folgende Kongruenzsystem keine L¨osung?\n",
    "x ⌘1 (mod4)\n",
    "x ⌘2 (moda)\n",
    "x ⌘3 (mod7)\n",
    "a = 9 a = 3 [x]a = 6 [x] a = 8 a = 5\n",
    "'''\n",
    "\n",
    "crt([4,8,7],[1,2,3])"
   ]
  },
  {
   "cell_type": "code",
   "execution_count": 22,
   "metadata": {},
   "outputs": [
    {
     "data": {
      "text/plain": [
       "181"
      ]
     },
     "execution_count": 22,
     "metadata": {},
     "output_type": "execute_result"
    }
   ],
   "source": [
    "'''\n",
    "Aufgabe 30\n",
    "Geben Sie die 42. Primzahl an.\n",
    "'''\n",
    "from sympy import prime\n",
    "prime(42)"
   ]
  },
  {
   "cell_type": "code",
   "execution_count": 30,
   "metadata": {},
   "outputs": [
    {
     "data": {
      "text/plain": [
       "3102103442166.0845"
      ]
     },
     "execution_count": 30,
     "metadata": {},
     "output_type": "execute_result"
    }
   ],
   "source": [
    "'''\n",
    "Aufgabe 33\n",
    "Welcher der folgenden Werte ist die beste Schätzung für die Anzahl der Primzahlen bis 10**14?\n",
    "[ ] 8·10**11 [x] 3·10**12 [ ] 7·10**12 [ ] 2·10**13\n",
    "\n",
    "'''\n",
    "from math import log\n",
    "k=10**14/log(10**14)\n",
    "k"
   ]
  },
  {
   "cell_type": "code",
   "execution_count": 35,
   "metadata": {},
   "outputs": [
    {
     "name": "stdout",
     "output_type": "stream",
     "text": [
      "100000000000000\n",
      "ungefähre Anzahl der Primzahlen unterhalb von n:   3102103442166.0\n",
      "Wert der n-ten Primzahl:   3223619130191664.0\n",
      "1  800000000000\n",
      "2  3000000000000\n",
      "3  7000000000000\n",
      "4  20000000000000\n",
      "5  3102103442166\n"
     ]
    }
   ],
   "source": [
    "'''\n",
    "Aufgabe 34\n",
    "Welche der folgenden Zahlen liegt am dichtesten an der 10**14-ten Primzahl?\n",
    "[ ]7·10**13 [x]3·10**14 [ ]8·10**14 [ ] 3·10**15\n",
    "'''\n",
    "\n",
    "from math import log\n",
    "\n",
    "n = 10**14\n",
    "print(n)\n",
    "\n",
    "#Es gibt ungefähr n/ln(n) Primzahlen unterhalb von n.\n",
    "print (\"ungefähre Anzahl der Primzahlen unterhalb von n:  \",(n//log(n)))\n",
    "\n",
    "#es gibt auch die Möglichkeit, den Wert der n-tenPrimzahl ungefähr zu bestimmen mit n*log(n)\n",
    "print (\"Wert der n-ten Primzahl:  \", n*log(n))\n",
    "\n",
    "print(\"1 \", 8*(10**11))\n",
    "print(\"2 \",3*(10**12))\n",
    "print(\"3 \",7*(10**12))\n",
    "print(\"4 \",2*(10**13))\n",
    "print(\"5 \",3102103442166)"
   ]
  },
  {
   "cell_type": "code",
   "execution_count": null,
   "metadata": {},
   "outputs": [],
   "source": [
    "'''\n",
    "Aufgabe 35\n",
    "Wie viele Elemente enthält die Menge { (p, q) : p, q 2 P \\ [0, 10**21 ] } ungefähr?\n",
    "[ ] 4.3·10**38 [ ]3.9·10**40 [ ]3.6·10**42 [ ]3.3·10**44\n",
    "'''"
   ]
  },
  {
   "cell_type": "code",
   "execution_count": 38,
   "metadata": {},
   "outputs": [
    {
     "name": "stdout",
     "output_type": "stream",
     "text": [
      "1.8509217204924305e+19\n"
     ]
    }
   ],
   "source": [
    "'''\n",
    "ATTENCIONE ALERTA\n",
    "\n",
    "Aufgabe 36\n",
    "Wie viele Primzahlen liegen ungefähr zwischen 10**20 und 10**21?\n",
    "[x]1.9·10**19 [ ]2.1·10**19 [ ]2.2·10**18 [ ]1.8·10**20\n",
    "\n",
    "'''\n",
    "from math import log\n",
    "k=10**20/log(10**20)\n",
    "n=10**21/log(10**21)\n",
    "print(n-k)"
   ]
  },
  {
   "cell_type": "code",
   "execution_count": 40,
   "metadata": {},
   "outputs": [
    {
     "name": "stdout",
     "output_type": "stream",
     "text": [
      "0  weil gerade. bam.\n"
     ]
    }
   ],
   "source": [
    "'''\n",
    "Aufgabe 37\n",
    "Wenn man sich eine Liste aller vierstelligen Primzahlen, bei denen eine Ziffer dreimal vorkommt,\n",
    "anschaut, dann kommt eine Zi↵er in der gesamten Liste nie vor. Welche ist es?\n",
    "'''\n",
    "print(0,\" weil gerade. bam.\")"
   ]
  },
  {
   "cell_type": "code",
   "execution_count": null,
   "metadata": {},
   "outputs": [],
   "source": [
    "'''\n",
    "Aufgabe 38\n",
    "Wie viele sechsstellige Primzahlen gibt es, bei denen alle sechs Ziffern identisch sind?\n",
    "'''\n",
    "for i in range(0,111111)"
   ]
  }
 ],
 "metadata": {
  "kernelspec": {
   "display_name": "Python 3",
   "language": "python",
   "name": "python3"
  },
  "language_info": {
   "codemirror_mode": {
    "name": "ipython",
    "version": 3
   },
   "file_extension": ".py",
   "mimetype": "text/x-python",
   "name": "python",
   "nbconvert_exporter": "python",
   "pygments_lexer": "ipython3",
   "version": "3.6.5"
  }
 },
 "nbformat": 4,
 "nbformat_minor": 2
}
