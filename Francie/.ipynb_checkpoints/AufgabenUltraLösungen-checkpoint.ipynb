{
 "cells": [
  {
   "cell_type": "code",
   "execution_count": null,
   "metadata": {},
   "outputs": [],
   "source": [
    "'''\n",
    "Aufgabe 1 \n",
    "Berechne die Summe 1^2+2^2...+25^2\n",
    "'''\n",
    "\n",
    "addSum = 0\n",
    "#zählt in range 0-25 hoch.\n",
    "for i in range (0,26):\n",
    "    k = i*i\n",
    "    addSum +=k \n",
    "addSum\n",
    "\n",
    "def p(test):\n",
    "    print(text)\n"
   ]
  },
  {
   "cell_type": "code",
   "execution_count": null,
   "metadata": {},
   "outputs": [],
   "source": [
    "''''\n",
    "Aufgabe 2 \n",
    "Welche ist die größte Zahl?\n",
    "    [ ] 11110001001000000\n",
    "    [x] 5056447\n",
    "    [ ] 1E240\n",
    "Da stellt sich die Frage, wie viele Bits man braucht um die Zahl in binär darzustellen. \n",
    "Bei Oktal braucht man 3, bei hexa braucht man 4\n",
    "'''''\n",
    "print(0b11110001001000000)\n",
    "print(0o5056447)\n",
    "print(0x1E240)"
   ]
  },
  {
   "cell_type": "code",
   "execution_count": null,
   "metadata": {},
   "outputs": [],
   "source": [
    "''''\n",
    "Aufgabe 3\n",
    "Berechnen Sie in Z/17Z den Wert 7·7+10·7.\n",
    "'''''\n",
    "(49+70)%17"
   ]
  },
  {
   "cell_type": "code",
   "execution_count": null,
   "metadata": {},
   "outputs": [],
   "source": [
    "'''\n",
    "Aufgabe 4\n",
    "Kreuzen Sie alle Lösungen der Gleichung (x − 2) · (x − 4) = 0 in Z/8Z an.\n",
    "\n",
    "for-Schleife um den Restklassenring abzubilden. Dann if-Abfrage mit der Funktion um zu checken, \n",
    "ob i in der Funktion 0 wird, diese sollen ausgegeben werden.\n",
    "'''\n",
    "\n",
    "for i in range (0,8):\n",
    "    if (((i-2)*(i-4))%8==0):\n",
    "        print(i)"
   ]
  },
  {
   "cell_type": "code",
   "execution_count": null,
   "metadata": {},
   "outputs": [],
   "source": [
    "'''\n",
    "Aufgabe 5\n",
    "Wie viele verschiedene Lösungen hat die Gleichung 20x^2 + 25x + 50 = 0 in Z/100Z?\n",
    "'''\n",
    "counter = 0 #counter um die Anzahl der Lösungen zu zählen.\n",
    "for i in range (0,100):\n",
    "    if (((20*i**2)+25*i+50)%100==0): \n",
    "        print (i)\n",
    "        counter = counter+1\n",
    "    \n",
    "print(\"Anzahl: \", counter)\n"
   ]
  },
  {
   "cell_type": "code",
   "execution_count": null,
   "metadata": {},
   "outputs": [],
   "source": [
    "'''Aufgabe 6 \n",
    "Für wie viele Elemente x von Z/160Z gilt x^3 = x?\n",
    "'''\n",
    "\n",
    "counter = 0\n",
    "for i in range (0,160):\n",
    "    if (i**3%160==i):\n",
    "        print(i)\n",
    "        counter +=1\n",
    "print(\"Anzahl: \", counter)"
   ]
  },
  {
   "cell_type": "code",
   "execution_count": null,
   "metadata": {},
   "outputs": [],
   "source": [
    "'''\n",
    "Aufgabe 7\n",
    "Sei a = 29 und b = 10^6. Die Zahl c = ab hat deutlich mehr als eine Million Dezimalstellen. \n",
    "Was sind die letzten beiden Ziffern von c (also die beiden ganz rechts)?\n",
    "\n",
    "> 01\n",
    "'''\n",
    "a= 29 # hier kann man auch jede ungerade Zahl verwenden z.B. 3,11,21 usw. es ändert nichts an der letzten Stelle\n",
    "b= 100 #hier wird die 10^6 auf 100 runtergebrochen, da die Potenz nur mehr Stellen ranfügt\n",
    "\n",
    "c=a**b\n",
    "print(c)\n",
    "\n"
   ]
  },
  {
   "cell_type": "code",
   "execution_count": null,
   "metadata": {},
   "outputs": [],
   "source": [
    "'''\n",
    "Aufgabe 8\n",
    "Geben Sie die Binärdarstellung (Zweierkomplement) von −46 auf einem 16-Bit-Computer an.\n",
    "'''\n",
    "#binärdarstellung von 46\n",
    "print (\"Umwandeln in Bin:   \",bin(46))\n",
    "\n",
    "print(\"Erweitern auf 16 Bit:   0000 0000 0010 1110\")\n",
    "print(\"Invertieren:            1111 1111 1101 0001\")\n",
    "print(\"Add 1:                  1111 1111 1101 0010\")\n",
    "\n"
   ]
  },
  {
   "cell_type": "code",
   "execution_count": null,
   "metadata": {},
   "outputs": [],
   "source": [
    "'''\n",
    "Aufgabe 9\n",
    "Welchen Wert hat die Variable c?\n",
    "'''\n",
    "c=0\n",
    "k=1\n",
    "for n in range(2 ** 2): \n",
    "    #hier geht es einzig um die Frage ob 2**40 gerade oder ungerade ist. \n",
    "    #Das Ergebnis ändert sich nicht, wenn wir die Potenz ändern. \n",
    "    #Lediglich bei ungeraden Zahlen wie 5.\n",
    "    c += k  #1,0\n",
    "    k *= -1 #-1,1\n",
    "c"
   ]
  },
  {
   "cell_type": "code",
   "execution_count": null,
   "metadata": {},
   "outputs": [],
   "source": [
    "'''\n",
    "Aufgabe 10\n",
    "Welchen Wert hat die Variable c?\n",
    "'''\n",
    "c=0\n",
    "k=1\n",
    "for n in range(0, 3**2):\n",
    "    #siehe oben nur umgekehrt. Es geht hier wieder um ungerade/geraden Durchläufe der Zahlen.\n",
    "    #Man darf die Potenz verkleinern, aber nicht das Argument (3)\n",
    "    #aber sonst würde das Ergebnis (0) verfälscht werden.\n",
    "    c += (k - 1)\n",
    "    k = (k + 1) % 3\n",
    "c"
   ]
  },
  {
   "cell_type": "code",
   "execution_count": null,
   "metadata": {},
   "outputs": [],
   "source": [
    "'''\n",
    "Aufgabe 11\n",
    "Welche der folgenden Zahlen ist durch 7 teilbar? (alle oktal)\n",
    "[ ] 17025\n",
    "[ ] 17137\n",
    "[x] 17141\n",
    "'''\n",
    "\n",
    "a=0o17025\n",
    "b=0o17137\n",
    "c=0o17141\n",
    "\n",
    "\n",
    "print(a, a%7)\n",
    "print(b, b%7)\n",
    "print(c, c%7)\n",
    "\n",
    "ax= int('17025',8) \n",
    "#mögliche Schreibweise um es dem PC verständlich zu machen, dass die Zahl oktal ist.\n",
    "#Wird in Dec umgerechnet\n",
    "#Andere Systeme sind auch möglich (3)\n",
    "print(ax)"
   ]
  },
  {
   "cell_type": "code",
   "execution_count": null,
   "metadata": {},
   "outputs": [],
   "source": [
    "'''\n",
    "Aufgabe 12\n",
    "Welche der folgenden Zahlen ist durch 11 teilbar?\n",
    "[x]  0 null ist durch jede Zahl teilbar\n",
    "[ ] 10^10^10 Es ist egal wie viele 0 (10erPotenzen) an die 10 anhängen, sie wird nie durch 11 teilbar sein.\n",
    "[ ] 10^13^13 Zunächst rechnen wir 13^13 und prüfen auf Teilbarkeit. > 8 Rest. 10^13 bringt auch nix\n",
    "[ ](10^13^13)+1 siehe oben, +1 > 9 Rest.\n",
    "'''\n",
    "\n",
    "print(((13**13)+1)%11) #scheinbar nicht durch 11 teilbar.\n",
    "#ist auch möglich jede einzelne Zahl % 11 rechnen \n",
    "print(((13%11)**(13%11))+1) # (dann kommt aber merkwürdigerweise 5 raus...?)"
   ]
  },
  {
   "cell_type": "code",
   "execution_count": null,
   "metadata": {},
   "outputs": [],
   "source": [
    "'''\n",
    "Aufgabe 13\n",
    "Geben Sie den größten gemeinsamen Teiler von \n",
    "471 694 074 821\n",
    "471 766 128 373 \n",
    "471 757 130 107\n",
    "an; also die größte Zahl, die alle drei Zahlen teilt.\n",
    "'''\n",
    "\n",
    "from math import gcd\n",
    "gcd(471694074821,gcd(471766128373,471757130107))"
   ]
  },
  {
   "cell_type": "code",
   "execution_count": null,
   "metadata": {},
   "outputs": [],
   "source": [
    "'''\n",
    "Aufgabe 14\n",
    "Der größte gemeinsame Teiler von 18 und 11 ist 1. \n",
    "Geben Sie ganze Zahlen a und b an, so dass 1 = 18a + 11b gilt.\n",
    "'''\n",
    "\n",
    "maxRange=10\n",
    "\n",
    "#wir müssen uns auch im negativen Zahlenraum bewegen um die Gleichung zu lösen\n",
    "for a in range(-maxRange,maxRange):\n",
    "    for b in range (-maxRange,maxRange):\n",
    "        if (18*a + 11*b ==1):\n",
    "            print(a,b)"
   ]
  },
  {
   "cell_type": "code",
   "execution_count": null,
   "metadata": {},
   "outputs": [],
   "source": [
    "'''\n",
    "Aufgabe 15\n",
    "Geben Sie zwei Zahlen aus Z/27Z an, deren Produkt verschwindet, \n",
    "obwohl beide Zahlen nicht null sind.\n",
    "'''\n",
    "\n",
    "for a in range (1,27):\n",
    "    for b in range (1,27):\n",
    "        if (a*b==27):\n",
    "            print (a,b)\n",
    "\n",
    "            \n",
    "            "
   ]
  },
  {
   "cell_type": "code",
   "execution_count": null,
   "metadata": {},
   "outputs": [],
   "source": [
    "#bis 35.."
   ]
  },
  {
   "cell_type": "code",
   "execution_count": null,
   "metadata": {},
   "outputs": [],
   "source": [
    "'''\n",
    "Aufgabe 16\n",
    "Berechnen Sie den Quotienten 2/9 in Z23.\n",
    "'''\n",
    "# offText: Division ist Multiplikation mit dem Kehrwert. Um 4/5 in Z7 zu teilen, \n",
    "# brauchen wir also den Kehrwert von 5, und das ist 3. 4/5 ist dann 4 · 3, also 5.\n",
    "\n",
    "#wir ermitteln den Kehrwert von 9 in Z23\n",
    "for a in range (0,23):\n",
    "    if ((9*a)%23==1):\n",
    "        print (\"Kehrwert der 9 in Z23: \", a)\n",
    "\n",
    "#dann multiplizieren wir den Kehrwert mit dem Zähler in Z23\n",
    "print(\"Quotient 2/9 in Z23: \",(2*18)%23)\n",
    "\n",
    "\n",
    "\n",
    "#geht auch kürzer:\n",
    "for b in range(0,23):\n",
    "    if((9*b)%23==2):\n",
    "        print(\"Quotient 2/9 in Z23: \"b)\n",
    "\n",
    "        \n"
   ]
  },
  {
   "cell_type": "code",
   "execution_count": null,
   "metadata": {},
   "outputs": [],
   "source": [
    "'''\n",
    "Aufgabe 17\n",
    "Geben Sie eine von 1 verschiedene Zahl an, die in Z/24Z einen Kehrwert hat.\n",
    "'''\n",
    "\n",
    "for a in range (0,24):\n",
    "    for b in range (0,24):\n",
    "        if (((a*b)%24)==1 and a != 1 and b!=1):\n",
    "            print (a,b)"
   ]
  },
  {
   "cell_type": "code",
   "execution_count": null,
   "metadata": {},
   "outputs": [],
   "source": [
    "'''\n",
    "Aufgabe 18\n",
    "Berechnen Sie den Wert (􏰁2􏰂/9)^1000000 in Z11.\n",
    "'''\n",
    "#siehe Aufgabe 16. Erneut Kehrwert bilden und anschließend den Zähler mit dem Kehrwert multiplizieren.\n",
    "for a in range (0,11):\n",
    "    if ((9*a)%11==1):\n",
    "        print (\"Kehrwert von 9 in Z11:  \",a)\n",
    "\n",
    "#2*5 sind 10, deshalb 10^100000..\n",
    "\n",
    "print(\"ERGEBNISMACHER: \",(10**1000000)%11)"
   ]
  },
  {
   "cell_type": "code",
   "execution_count": null,
   "metadata": {},
   "outputs": [],
   "source": [
    "'''\n",
    "Aufgabe 19\n",
    "Wie viele Elemente von Z/802Z sind bezüglich der Multiplikation invers zu sich selbst?\n",
    "(Damit sind die 1 (neutrales Element)gemeint.. welche Zahl ergibt multipliziert mit sich selbst 1?)\n",
    "'''\n",
    "counter = 0\n",
    "for a in range (0,802):\n",
    "    if (((a*a)%802)==1):\n",
    "        print (a)\n",
    "        counter +=1\n",
    "print (\"Anzahl der Dudes: \",counter)"
   ]
  },
  {
   "cell_type": "code",
   "execution_count": null,
   "metadata": {},
   "outputs": [],
   "source": [
    "'''\n",
    "Aufgabe 20\n",
    "Wie viele Elemente von Z/93Z lassen sich als Quadrat eines Elements von Z/93Z darstellen? \n",
    "[Beispiel: 51 ist das Quadrat von 12.]\n",
    "\n",
    "i zum quadrat in mod 93, soll kleiner als 93 sein.\n",
    "Eigentlich hätte man auch so drauf kommen können..\n",
    "'''\n",
    "counter = 0\n",
    "for i in range (0,93):\n",
    "    if (((i*i)%93)<93): \n",
    "        counter +=1\n",
    "print (\"Anzahl der Elemente: \", counter)"
   ]
  },
  {
   "cell_type": "code",
   "execution_count": null,
   "metadata": {},
   "outputs": [],
   "source": [
    "'''\n",
    "ATTENCIÒNE - ALERTA - AHHH!\n",
    "\n",
    "Aufgabe 21\n",
    "p = 2 760 727 302 517 ist eine Primzahl.\n",
    "Geben Sie den Kehrwert von 853 662 459 626 in Zp an. (Hinweis: kleiner Satz von Fermat.)\n",
    "'''\n",
    "#kleiner Test von Format a**p-1\n",
    "\n",
    "#was ist pow?\n"
   ]
  },
  {
   "cell_type": "code",
   "execution_count": null,
   "metadata": {},
   "outputs": [],
   "source": [
    "'''\n",
    "Aufgabe 22\n",
    "Geben Sie die kleinste positive Lösung des folgenden Kongruenzsystems an:\n",
    "x≡2 (mod5) \n",
    "x≡3 (mod4) \n",
    "x≡6 (mod7)\n",
    "'''\n",
    "#chinesischen Restsatz aus sympy importieren\n",
    "from sympy.ntheory.modular import crt\n",
    "\n",
    "#zunächst die Moduln eingeben, dann die Argumente\n",
    "crt([5,4,7],[2,3,6])\n",
    "\n",
    "#man erhält den kleinsten positiven Teiler und das Produkt der Moduln\n",
    "print (\"kleinste Positive Lösung: \", 27)\n",
    "\n",
    "#für den Fall, dass man den größten negativen Teiler haben möchte, rechnet man \n",
    "print(\"größter negativer Teiler: \", 27-140)"
   ]
  },
  {
   "cell_type": "code",
   "execution_count": null,
   "metadata": {},
   "outputs": [],
   "source": [
    "'''\n",
    "Aufgabe 23\n",
    "Geben Sie die größte negative Lösung des folgenden Kongruenzsystems an:\n",
    "x≡2 (mod3) \n",
    "x≡2 (mod4)\n",
    "x≡6 (mod7)\n",
    "'''\n",
    "\n",
    "crt([3,4,7],[2,2,6])\n",
    "print(\"größte negative Lösung: \", 62-84)"
   ]
  },
  {
   "cell_type": "code",
   "execution_count": null,
   "metadata": {},
   "outputs": [],
   "source": [
    "'''\n",
    "Aufgabe 24\n",
    "Für welche a hat das folgende Kongruenzsystem keine Lösung?\n",
    "x≡1 (mod4)   [ ] a = 9    [ ] a = 3   [x] a = 6   [x] a = 8  [ ] a = 5\n",
    "x≡2 (moda) \n",
    "x≡3 (mod7)\n",
    "'''\n",
    "crt([4,3,7],[1,2,3])\n",
    "\n",
    "#gibt es da eine schickere Lösung?\n",
    "\n",
    "#Antwort: Ja, siehe unten ;) \n",
    "\n",
    "for a in [9,3,6,8,5]:\n",
    "    print(crt([4,a,7],[1,2,3]), a)"
   ]
  },
  {
   "cell_type": "code",
   "execution_count": null,
   "metadata": {},
   "outputs": [],
   "source": [
    "'''\n",
    "Aufgabe 25\n",
    "Kreuzen Sie die kanonische Primfaktorzerlegung von 9999 an.\n",
    "[ ] 9*11*101         [ ](3**2)*1111\n",
    "[ ](3**2)*10*111     [ ](3**2)*(11**2)\n",
    "[x](3**2)*11*101     [ ] 3*3333\n",
    "'''\n",
    "\n",
    "#Aufgabe 136 aus der Lösung kopiert\n",
    "def primeFactors (n):\n",
    "    result = []\n",
    "    while n > 1: \n",
    "        c=2\n",
    "        while True:\n",
    "            if n % c == 0:\n",
    "                result.append(c)\n",
    "                n //= c\n",
    "                break\n",
    "            c += 1\n",
    "    return result\n",
    "\n",
    "#viel kürzer :D\n",
    "from sympy import factorint\n",
    "factorint(9999)"
   ]
  },
  {
   "cell_type": "code",
   "execution_count": null,
   "metadata": {},
   "outputs": [],
   "source": [
    "primeFactors(9999)"
   ]
  },
  {
   "cell_type": "code",
   "execution_count": null,
   "metadata": {},
   "outputs": [],
   "source": [
    "'''\n",
    "Aufgabe 26\n",
    "Geben Sie die 42. Primzahl an.\n",
    "\n",
    "sieve ist eine Funktion, die das Sieb des Eratosthenes (S76 ff) nachahmt.\n",
    "Man legt eine leere Liste für die Primes an und eine, die von 2 bis n geht.\n",
    "Dann fängt man in der for Schleife im Rahmen der While Schleife an, alle Zahlen wegzustreichen.\n",
    "übrig bleiben die Primes (2,3). Deren Vielfache werden aus der Numbers Liste weggestrichen\n",
    "'''\n",
    "def sieve (n):\n",
    "    primes= []\n",
    "    numbers = list(range(2,n)) #legt eine Liste an mit range 2-n und speichert sie in die Variable \n",
    "    c=2 #ab 2, da 1 nicht als Primzahl zählt..?\n",
    "    while c*c<n: #solange 2^2 kleiner als n ist ????\n",
    "        #man macht c Schritte, da es sonst ein Vielfaches von 2 wäre und somit nicht prim.\n",
    "        for i in range(c,n,c): \n",
    "            if i in numbers:\n",
    "                numbers.remove(i) \n",
    "        primes.append(c)\n",
    "        c=numbers[0]\n",
    "   # print (primes, \" blarks\", numbers)\n",
    "    return primes+numbers\n",
    "\n",
    "\n",
    "#wie ich sehe, hätte man sich das alles auch sparen können und einfach diese Funktion importieren und \n",
    "#nutzen können xD.... man gibt einfach den Index an.. \n",
    "from sympy import prime\n",
    "prime(42)"
   ]
  },
  {
   "cell_type": "code",
   "execution_count": null,
   "metadata": {},
   "outputs": [],
   "source": [
    "sieve(20)"
   ]
  },
  {
   "cell_type": "code",
   "execution_count": null,
   "metadata": {},
   "outputs": [],
   "source": [
    "'''\n",
    "Aufgabe 27\n",
    "Wenn man π(10^8) durch 10^8 teilt, was kommt dann ungefähr heraus?\n",
    "[ ] 1/8\n",
    "[x] 1/ln10^8 (ähnlich genug..)\n",
    "[ ] 10^-8\n",
    "[ ] ln10^8\n",
    "[ ] 8\n",
    "'''\n",
    "from sympy import primepi\n",
    "k = primepi(10**8)/10**8\n",
    "print(k)\n",
    "\n",
    "from math import log\n",
    "(1/(log(10**8)))\n",
    "\n",
    "#stumpfes rumprobieren? \n",
    "\n",
    "#natürlicher Logarithmus wird aus Math importiert und mit log(x) beschrieben\n",
    "#gibt auch Log10(x)"
   ]
  },
  {
   "cell_type": "code",
   "execution_count": null,
   "metadata": {},
   "outputs": [],
   "source": [
    "'''\n",
    "\n",
    "ATTENCIÒNE!!! ALERTA!!\n",
    "\n",
    "Aufgabe 28\n",
    "Welcher der folgenden Werte ist die beste Schätzung für die Anzahl der Primzahlen bis 10^14?\n",
    "[ ] 8·10^11    [x] 3·10^12    [ ] 7·10^12    [ ] 2·10^13\n",
    "'''\n",
    "\n",
    "from math import log\n",
    "\n",
    "n = 10**14\n",
    "print(n)\n",
    "\n",
    "#Es gibt ungefähr n/ln(n) Primzahlen unterhalb von n.\n",
    "print (\"ungefähre Anzahl der Primzahlen unterhalb von n:  \",(n//log(n)))\n",
    "\n",
    "#es gibt auch die Möglichkeit, den Wert der n-tenPrimzahl ungefähr zu bestimmen mit n*log(n)\n",
    "print (\"Wert der n-ten Primzahl:  \", n*log(n))\n",
    "\n",
    "print(\"1 \",8*(10**11))\n",
    "print(\"2 \",3*(10**12))\n",
    "print(\"3 \",7*(10**12))\n",
    "print(\"4 \",2*(10**13))\n",
    "print(\"5 \",3102103442166)\n",
    "\n",
    "#es reicht auch sich die erste Stelle anzugucken und die Ziffern zu zählen."
   ]
  },
  {
   "cell_type": "code",
   "execution_count": null,
   "metadata": {},
   "outputs": [],
   "source": [
    "'''\n",
    "Aufgabe 29\n",
    "Welche der folgenden Zahlen liegt am dichtesten an der 10^14-ten Primzahl?\n",
    "[ ] 7·10^13     [ ] 3·10^14  [ ] 8·10^14    [x] 3·10^15\n",
    "'''\n",
    "\n",
    "n = 10**14\n",
    "print(\"0 \",n*log(n))\n",
    "\n",
    "print(\"4 \", 3*(10**15))"
   ]
  },
  {
   "cell_type": "code",
   "execution_count": null,
   "metadata": {},
   "outputs": [],
   "source": [
    "'''\n",
    "\n",
    "ALERTA! ATTENCIÓNE!!!\n",
    "\n",
    "Aufgabe 30\n",
    "Wie viele Elemente enthält die Menge { (p, q) : p, q ∈ P ∩ [0, 1021 ] } ungefähr?\n",
    "[x] 4.3·10^38   [ ] 3.9·10^40  [ ] 3.6·10^42  [ ] 3.3·10^44\n",
    "\n",
    "Bei einer solchen Aufgabe kann eigentlich immer zunächst die Grundmenge der Zahlen\n",
    "(in diesem Fall alle Primzahlen bis 10**21) ausgerechnet werden. In einem zweiten Schritt\n",
    "wird diese dann hoch 2 genommen, damit die Anzahl der Tupel berechnet wird.\n",
    "'''\n",
    "\n",
    "n= 10**21"
   ]
  },
  {
   "cell_type": "code",
   "execution_count": null,
   "metadata": {},
   "outputs": [],
   "source": [
    "'''\n",
    "Aufgabe 31\n",
    "Wie viele Primzahlen liegen ungefähr zwischen 10^20 und 10^21?\n",
    "[x] 1.9·10^19  [ ] 2.1·10^19  [ ] 2.2·10^18  [ ] 1.8·10^20\n",
    "'''\n",
    "\n",
    "#zunächst berechnen wir die Anzahl der Primzahlen unterhalb 10^20 und 10^21 \n",
    "#und ziehen die Differenz voneinander ab.. [n/ln(n)]\n",
    "a = 10**20/log(10**20)\n",
    "b = 10**21/log(10**21)\n",
    "\n",
    "c = b-a\n",
    "print(c)\n",
    "#man erkennt am +19, dass es 19 Stellen sein müssen, deshalb fallen 10^18 und 10^20 weg.\n",
    "#dann rechnet man die übrigen aus..\n",
    "print(1.9*(10**19))\n",
    "print(2.1*(10**19))"
   ]
  },
  {
   "cell_type": "code",
   "execution_count": null,
   "metadata": {},
   "outputs": [],
   "source": [
    "'''\n",
    "Aufgabe 32\n",
    "Wenn man sich eine Liste aller vierstelligen Primzahlen, bei denen eine Ziffer dreimal vorkommt, \n",
    "anschaut, dann kommt eine Ziffer in der gesamten Liste nie vor. Welche ist es?\n",
    "\n",
    "\n",
    "Muss man echt die gesamte Liste abchecken? Geht das nicht auch in cool&kurz?\n",
    "'''\n",
    "\n",
    "from sympy import isprime\n",
    "\n",
    "for i in range (1000,9999):\n",
    "    if (isprime(i) and i):\n",
    "        print(i)\n",
    "\n",
    "#1-9 gesichtet 0 fehlt. Da eine Zahl, die mit 0 endet immer aufgeht."
   ]
  },
  {
   "cell_type": "code",
   "execution_count": 8,
   "metadata": {},
   "outputs": [
    {
     "name": "stdout",
     "output_type": "stream",
     "text": [
      "111111    False\n",
      "222222    False\n",
      "333333    False\n",
      "444444    False\n",
      "555555    False\n",
      "666666    False\n",
      "777777    False\n",
      "888888    False\n",
      "999999    False\n",
      "111111\n",
      "222222\n",
      "333333\n",
      "444444\n",
      "555555\n",
      "666666\n",
      "777777\n",
      "888888\n",
      "999999\n"
     ]
    }
   ],
   "source": [
    "'''\n",
    "Aufgabe 33\n",
    "Wie viele sechsstellige Primzahlen gibt es, bei denen alle sechs Ziffern identisch sind?\n",
    "\n",
    "Antwort: Keine.\n",
    "'''\n",
    "from sympy import isprime\n",
    "\n",
    "#funktion geschrieben, die in schritten von 111111 bis 1 Mio prüft, ob eine Primzahl dabei ist.. \n",
    "for i in range (111111,1000000,111111):\n",
    "    if (isprime(i)):\n",
    "        print(i, \" \", True)\n",
    "    else: \n",
    "        print(i, \"  \",False)\n",
    "        \n",
    "#man könnte es kürzer machen:\n",
    "i=111111\n",
    "\n",
    "for b in range(1,10):\n",
    "    print(i*b)\n",
    "    if (isprime(i*b)):\n",
    "        print(i)"
   ]
  },
  {
   "cell_type": "code",
   "execution_count": 15,
   "metadata": {},
   "outputs": [
    {
     "name": "stdout",
     "output_type": "stream",
     "text": [
      "3 and 5    Paar Nr. 1\n",
      "5 and 7    Paar Nr. 2\n",
      "11 and 13    Paar Nr. 3\n",
      "17 and 19    Paar Nr. 4\n",
      "29 and 31    Paar Nr. 5\n",
      "41 and 43    Paar Nr. 6\n",
      "59 and 61    Paar Nr. 7\n",
      "71 and 73    Paar Nr. 8\n"
     ]
    }
   ],
   "source": [
    "'''\n",
    "\n",
    "ATTENCIÒNE!!!! AL\n",
    "Aufgabe 34\n",
    "Ein Primzahlzwilling ist ein Paar von Primzahlen, deren Differenz zwei ist. \n",
    "Der erste Primzahlzwilling ist (3, 5).\n",
    "Welches ist der siebte Primzahlzwilling?\n",
    "\n",
    "müsste 59/61 sein\n",
    "'''\n",
    "\n",
    "from sympy import isprime\n",
    "\n",
    "\n",
    "def twinCheck(start,end):\n",
    "    counter=0\n",
    "    for i in range(start,end):\n",
    "        j=i+2\n",
    "        if(isprime(i) and isprime(j)):\n",
    "            counter+=1\n",
    "            #.format erwartet einen digit (d).. \n",
    "            print(\"{:d} and {:d}\".format(i,j), \"   Paar Nr.\", counter) \n",
    "\n",
    "twinCheck(2,100)"
   ]
  },
  {
   "cell_type": "code",
   "execution_count": 16,
   "metadata": {},
   "outputs": [
    {
     "name": "stdout",
     "output_type": "stream",
     "text": [
      "It's Primzahlen, baby.\n"
     ]
    }
   ],
   "source": [
    "'''\n",
    "Aufgabe 35\n",
    "Bei welchen Zahlen gibt der Miller-Rabin-Test immer eine korrekte Antwort? \n",
    "[x] Primzahlen\n",
    "[ ] zusammengesetzte Zahlen \n",
    "[ ] ungerade Zahlen \n",
    "[ ] Carmichael-Zahlen\n",
    "[ ] Bei jedem Zahlentyp kann es falsche Antworten geben, weil der Test probabilistisch ist.\n",
    "'''\n",
    "\n",
    "print(\"It's Primzahlen, baby.\")"
   ]
  },
  {
   "cell_type": "code",
   "execution_count": null,
   "metadata": {},
   "outputs": [],
   "source": [
    "'''\n",
    "Aufgabe 36\n",
    "Geben Sie die Dezimalzahl 0.472 = 0.4727272727272 . . . als gekürzten Bruch an.\n",
    "'''\n",
    "#limit_denominator() übernimmt das schon, muss man sich merken. <3\n",
    "from fractions import Fraction\n",
    "Fraction(0.472727272727272).limit_denominator()"
   ]
  },
  {
   "cell_type": "code",
   "execution_count": null,
   "metadata": {},
   "outputs": [],
   "source": [
    "'''\n",
    "Aufgabe 37\n",
    "Kreuzen Sie die Zahlen an, die nicht rational sind. \n",
    "[ ] 0.500000000000000000000000000000000000000000000000000000000000000000000 . . .\n",
    "[ ] 0.112123123411212312341121231234112123123411212312341121231234112123123 . . . \n",
    "[ ] 0.112123123412345123456123456712345678123456789123456789101234567891011 . . . \n",
    "[ ] 0.318424242424242424242424242424242424242424242424242424242424242424242 . . . \n",
    "[ ] 0.010010001000010000010000001000000010000000010000000001000000000010000 . . .\n",
    "(Alle Zahlen sind so gemeint, dass es nach einem hoffentlich erkennbaren Muster immer so weiter geht; \n",
    "daher die Punkte am Ende. Falls Sie sich bei einer Zahl nicht sicher sind, melden Sie sich bitte.)\n",
    "'''\n",
    "\n",
    "c = 0\n",
    "c"
   ]
  },
  {
   "cell_type": "code",
   "execution_count": null,
   "metadata": {},
   "outputs": [],
   "source": []
  }
 ],
 "metadata": {
  "kernelspec": {
   "display_name": "Python 3",
   "language": "python",
   "name": "python3"
  },
  "language_info": {
   "codemirror_mode": {
    "name": "ipython",
    "version": 3
   },
   "file_extension": ".py",
   "mimetype": "text/x-python",
   "name": "python",
   "nbconvert_exporter": "python",
   "pygments_lexer": "ipython3",
   "version": "3.6.6"
  }
 },
 "nbformat": 4,
 "nbformat_minor": 2
}
