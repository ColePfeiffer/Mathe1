{
 "cells": [
  {
   "cell_type": "code",
   "execution_count": null,
   "metadata": {},
   "outputs": [],
   "source": [
    "'''\n",
    "Aufgabe 1\n",
    "Berechne die Summe 1^2+2^2...+25^2\n",
    "'''\n",
    "\n",
    "addSum = 0\n",
    "#zählt in range 0-25 hoch.\n",
    "for i in range (0,26):\n",
    "    k = i*i\n",
    "    addSum +=k \n",
    "addSum\n",
    "\n",
    "def p(test):\n",
    "    print(text)"
   ]
  },
  {
   "cell_type": "code",
   "execution_count": null,
   "metadata": {},
   "outputs": [],
   "source": [
    "''''\n",
    "Aufgabe 2 \n",
    "Welche ist die größte Zahl?\n",
    "    [] 11110001001000000\n",
    "    [x] 5056447\n",
    "    [] 1E240\n",
    "Da stellt sich die Frage, wie viele Bits man braucht um die Zahl in binär darzustellen. \n",
    "Bei Oktal braucht man 3, bei hexa braucht man 4\n",
    "'''''\n",
    "print(0b11110001001000000)\n",
    "print(0o5056447)\n",
    "print(0x1E240)"
   ]
  },
  {
   "cell_type": "code",
   "execution_count": 1,
   "metadata": {},
   "outputs": [
    {
     "data": {
      "text/plain": [
       "0"
      ]
     },
     "execution_count": 1,
     "metadata": {},
     "output_type": "execute_result"
    }
   ],
   "source": [
    "''''\n",
    "Aufgabe 3\n",
    "Berechnen Sie in Z/17Z den Wert 7·7+10·7.\n",
    "'''''\n",
    "(49+70)%17"
   ]
  },
  {
   "cell_type": "code",
   "execution_count": 2,
   "metadata": {},
   "outputs": [
    {
     "name": "stdout",
     "output_type": "stream",
     "text": [
      "0\n",
      "2\n",
      "4\n",
      "6\n"
     ]
    }
   ],
   "source": [
    "'''\n",
    "Aufgabe 4\n",
    "Kreuzen Sie alle Lösungen der Gleichung (x − 2) · (x − 4) = 0 in Z/8Z an.\n",
    "\n",
    "for-Schleife um den Restklassenring abzubilden. Dann if-Abfrage mit der Funktion um zu checken, \n",
    "ob i in der Funktion 0 wird, diese sollen ausgegeben werden.\n",
    "'''\n",
    "\n",
    "for i in range (0,8):\n",
    "    if (((i-2)*(i-4))%8==0):\n",
    "        print(i)"
   ]
  },
  {
   "cell_type": "code",
   "execution_count": 3,
   "metadata": {},
   "outputs": [
    {
     "name": "stdout",
     "output_type": "stream",
     "text": [
      "10\n",
      "30\n",
      "50\n",
      "70\n",
      "90\n",
      "Anzahl:  5\n"
     ]
    }
   ],
   "source": [
    "'''\n",
    "Aufgabe 5\n",
    "Wie viele verschiedene Lösungen hat die Gleichung 20x^2 + 25x + 50 = 0 in Z/100Z?\n",
    "'''\n",
    "counter = 0 #counter um die Anzahl der Lösungen zu zählen.\n",
    "for i in range (0,100):\n",
    "    if (((20*i**2)+25*i+50)%100==0): \n",
    "        print (i)\n",
    "        counter = counter+1\n",
    "    \n",
    "print(\"Anzahl: \", counter)\n"
   ]
  },
  {
   "cell_type": "code",
   "execution_count": 4,
   "metadata": {},
   "outputs": [
    {
     "name": "stdout",
     "output_type": "stream",
     "text": [
      "0\n",
      "1\n",
      "15\n",
      "31\n",
      "49\n",
      "64\n",
      "65\n",
      "79\n",
      "81\n",
      "95\n",
      "96\n",
      "111\n",
      "129\n",
      "145\n",
      "159\n",
      "Anzahl:  15\n"
     ]
    }
   ],
   "source": [
    "'''\n",
    "Aufgabe 6 \n",
    "Für wie viele Elemente x von Z/160Z gilt x^3 = x?\n",
    "'''\n",
    "\n",
    "counter = 0\n",
    "for i in range (0,160):\n",
    "    if (i**3%160==i):\n",
    "        print(i)\n",
    "        counter +=1\n",
    "print(\"Anzahl: \", counter)"
   ]
  },
  {
   "cell_type": "code",
   "execution_count": null,
   "metadata": {},
   "outputs": [],
   "source": [
    "'''\n",
    "Aufgabe 7\n",
    "Sei a = 29 und b = 10^6. Die Zahl c = ab hat deutlich mehr als eine Million Dezimalstellen. \n",
    "Was sind die letzten beiden Ziffern von c (also die beiden ganz rechts)?\n",
    "\n",
    "> 01\n",
    "'''\n",
    "a= 29 # hier kann man auch jede ungerade Zahl verwenden z.B. 3,11,21 usw. es ändert nichts an der letzten Stelle\n",
    "b= 100 #hier wird die 10^6 auf 100 runtergebrochen, da die Potenz nur mehr Stellen ranfügt\n",
    "\n",
    "c=a**b\n",
    "print(c)\n",
    "\n"
   ]
  },
  {
   "cell_type": "code",
   "execution_count": null,
   "metadata": {},
   "outputs": [],
   "source": [
    "'''\n",
    "Aufgabe 8\n",
    "Geben Sie die Binärdarstellung (Zweierkomplement) von −46 auf einem 16-Bit-Computer an.\n",
    "'''\n",
    "#binärdarstellung von 46\n",
    "print (\"Umwandeln in Bin:   \",bin(46))\n",
    "\n",
    "print(\"Erweitern auf 16 Bit:   0000 0000 0010 1110\")\n",
    "print(\"Invertieren:            1111 1111 1101 0001\")\n",
    "print(\"Add 1:                  1111 1111 1101 0010\")\n",
    "\n"
   ]
  },
  {
   "cell_type": "code",
   "execution_count": 5,
   "metadata": {},
   "outputs": [
    {
     "data": {
      "text/plain": [
       "0"
      ]
     },
     "execution_count": 5,
     "metadata": {},
     "output_type": "execute_result"
    }
   ],
   "source": [
    "'''\n",
    "Aufgabe 9\n",
    "Welchen Wert hat die Variable c?\n",
    "'''\n",
    "c=0\n",
    "k=1\n",
    "for n in range(2 ** 2): \n",
    "    #hier geht es einzig um die Frage ob 2**40 gerade oder ungerade ist. \n",
    "    #Das Ergebnis ändert sich nicht, wenn wir die Potenz ändern. \n",
    "    #Lediglich bei ungeraden Zahlen wie 5.\n",
    "    c += k  #1,0\n",
    "    k *= -1 #-1,1\n",
    "c"
   ]
  },
  {
   "cell_type": "code",
   "execution_count": 1,
   "metadata": {},
   "outputs": [
    {
     "data": {
      "text/plain": [
       "0"
      ]
     },
     "execution_count": 1,
     "metadata": {},
     "output_type": "execute_result"
    }
   ],
   "source": [
    "'''\n",
    "Aufgabe 10\n",
    "Welchen Wert hat die Variable c?\n",
    "'''\n",
    "c=0\n",
    "k=1\n",
    "for n in range(0, 3**2):\n",
    "    #siehe oben nur umgekehrt. Es geht hier wieder um ungerade/geraden Durchläufe der Zahlen.\n",
    "    #Man darf die Potenz verkleinern, aber nicht das Argument (3)\n",
    "    #aber sonst würde das Ergebnis (0) verfälscht werden.\n",
    "    c += (k - 1)\n",
    "    k = (k + 1) % 3\n",
    "c"
   ]
  },
  {
   "cell_type": "code",
   "execution_count": 6,
   "metadata": {},
   "outputs": [
    {
     "name": "stdout",
     "output_type": "stream",
     "text": [
      "7701 1\n",
      "7775 5\n",
      "7777 0\n",
      "7701\n"
     ]
    }
   ],
   "source": [
    "'''\n",
    "Aufgabe 11\n",
    "Welche der folgenden Zahlen ist durch 7 teilbar? (alle oktal)\n",
    "[ ] 17025\n",
    "[ ] 17137\n",
    "[x] 17141\n",
    "'''\n",
    "\n",
    "a=0o17025\n",
    "b=0o17137\n",
    "c=0o17141\n",
    "\n",
    "\n",
    "print(a, a%7)\n",
    "print(b, b%7)\n",
    "print(c, c%7)\n",
    "\n",
    "ax= int('17025',8) \n",
    "#mögliche Schreibweise um es dem PC verständlich zu machen, dass die Zahl oktal ist.\n",
    "#Wird in Dec umgerechnet\n",
    "#Andere Systeme sind auch möglich (3)\n",
    "print(ax)"
   ]
  },
  {
   "cell_type": "code",
   "execution_count": null,
   "metadata": {},
   "outputs": [],
   "source": [
    "'''\n",
    "Aufgabe 12\n",
    "Welche der folgenden Zahlen ist durch 11 teilbar?\n",
    "[x]  0 null ist durch jede Zahl teilbar\n",
    "[ ] 10^10^10 Es ist egal wie viele 0 (10erPotenzen) an die 10 anhängen, sie wird nie durch 11 teilbar sein.\n",
    "[ ] 10^13^13 Zunächst rechnen wir 13^13 und prüfen auf Teilbarkeit. > 8 Rest. 10^13 bringt auch nix\n",
    "[ ](10^13^13)+1 siehe oben, +1 > 9 Rest.\n",
    "'''\n",
    "\n",
    "print(((13**13)+1)%11) #scheinbar nicht durch 11 teilbar.\n",
    "#ist auch möglich jede einzelne Zahl % 11 rechnen \n",
    "print(((13%11)**(13%11))+1) # (dann kommt aber merkwürdigerweise 5 raus...?)"
   ]
  },
  {
   "cell_type": "code",
   "execution_count": null,
   "metadata": {},
   "outputs": [],
   "source": [
    "'''\n",
    "Aufgabe 13\n",
    "Geben Sie den größten gemeinsamen Teiler von \n",
    "471 694 074 821\n",
    "471 766 128 373 \n",
    "471 757 130 107\n",
    "an; also die größte Zahl, die alle drei Zahlen teilt.\n",
    "'''\n",
    "\n",
    "from math import gcd\n",
    "gcd(471694074821,gcd(471766128373,471757130107))"
   ]
  },
  {
   "cell_type": "code",
   "execution_count": 2,
   "metadata": {},
   "outputs": [
    {
     "name": "stdout",
     "output_type": "stream",
     "text": [
      "-3 5\n"
     ]
    }
   ],
   "source": [
    "'''\n",
    "Aufgabe 14\n",
    "Der größte gemeinsame Teiler von 18 und 11 ist 1. \n",
    "Geben Sie ganze Zahlen a und b an, so dass 1 = 18a + 11b gilt.\n",
    "'''\n",
    "\n",
    "maxRange=10\n",
    "\n",
    "#wir müssen uns auch im negativen Zahlenraum bewegen um die Gleichung zu lösen\n",
    "for a in range(-maxRange,maxRange):\n",
    "    for b in range (-maxRange,maxRange):\n",
    "        if (18*a + 11*b ==1):\n",
    "            print(a,b)"
   ]
  },
  {
   "cell_type": "code",
   "execution_count": 7,
   "metadata": {},
   "outputs": [
    {
     "name": "stdout",
     "output_type": "stream",
     "text": [
      "3 9\n",
      "9 3\n"
     ]
    }
   ],
   "source": [
    "'''\n",
    "Aufgabe 15\n",
    "Geben Sie zwei Zahlen aus Z/27Z an, deren Produkt verschwindet, \n",
    "obwohl beide Zahlen nicht null sind.\n",
    "'''\n",
    "\n",
    "for a in range (1,27):\n",
    "    for b in range (1,27):\n",
    "        if (a*b==27):\n",
    "            print (a,b)\n",
    "\n",
    "            \n",
    "            "
   ]
  },
  {
   "cell_type": "code",
   "execution_count": null,
   "metadata": {},
   "outputs": [],
   "source": [
    "#bis 35.."
   ]
  },
  {
   "cell_type": "code",
   "execution_count": 3,
   "metadata": {},
   "outputs": [
    {
     "name": "stdout",
     "output_type": "stream",
     "text": [
      "Kehrwert der 9 in Z23:  18\n",
      "Quotient 2/9 in Z23:  13\n"
     ]
    }
   ],
   "source": [
    "'''\n",
    "Aufgabe 16\n",
    "Berechnen Sie den Quotienten 2/9 in Z23.\n",
    "'''\n",
    "# offText: Division ist Multiplikation mit dem Kehrwert. Um 4/5 in Z7 zu teilen, \n",
    "# brauchen wir also den Kehrwert von 5, und das ist 3. 4/5 ist dann 4 · 3, also 5.\n",
    "\n",
    "#wir ermitteln den Kehrwert von 9 in Z23\n",
    "for a in range (0,23):\n",
    "    if ((9*a)%23==1):\n",
    "        print (\"Kehrwert der 9 in Z23: \", a)\n",
    "\n",
    "#dann multiplizieren wir den Kehrwert mit dem Zähler in Z23\n",
    "print(\"Quotient 2/9 in Z23: \",(2*18)%23)\n",
    "\n",
    "        \n",
    "        \n"
   ]
  },
  {
   "cell_type": "code",
   "execution_count": 1,
   "metadata": {},
   "outputs": [
    {
     "name": "stdout",
     "output_type": "stream",
     "text": [
      "5 5\n",
      "7 7\n",
      "11 11\n",
      "13 13\n",
      "17 17\n",
      "19 19\n",
      "23 23\n"
     ]
    }
   ],
   "source": [
    "'''\n",
    "Aufgabe 17\n",
    "Geben Sie eine von 1 verschiedene Zahl an, die in Z/24Z einen Kehrwert hat.\n",
    "'''\n",
    "\n",
    "for a in range (0,24):\n",
    "    for b in range (0,24):\n",
    "        if (((a*b)%24)==1 and a != 1 and b!=1):\n",
    "            print (a,b)"
   ]
  },
  {
   "cell_type": "code",
   "execution_count": 5,
   "metadata": {},
   "outputs": [
    {
     "name": "stdout",
     "output_type": "stream",
     "text": [
      "Kehrwert von 9 in Z11:   5\n",
      "ERGEBNISMACHER:  1\n"
     ]
    }
   ],
   "source": [
    "'''\n",
    "Aufgabe 18\n",
    "Berechnen Sie den Wert (􏰁2􏰂/9)^1000000 in Z11.\n",
    "'''\n",
    "#siehe Aufgabe 16. Erneut Kehrwert bilden und anschließend den Zähler mit dem Kehrwert multiplizieren.\n",
    "for a in range (0,11):\n",
    "    if ((9*a)%11==1):\n",
    "        print (\"Kehrwert von 9 in Z11:  \",a)\n",
    "\n",
    "#2*5 sind 10, deshalb 10^100000..\n",
    "\n",
    "print(\"ERGEBNISMACHER: \",(10**1000000)%11)"
   ]
  },
  {
   "cell_type": "code",
   "execution_count": 6,
   "metadata": {},
   "outputs": [
    {
     "name": "stdout",
     "output_type": "stream",
     "text": [
      "1\n",
      "801\n",
      "Anzahl der Dudes:  2\n"
     ]
    }
   ],
   "source": [
    "'''\n",
    "Aufgabe 19\n",
    "Wie viele Elemente von Z/802Z sind bezüglich der Multiplikation invers zu sich selbst?\n",
    "(Damit sind die 1 (neutrales Element)gemeint.. welche Zahl ergibt multipliziert mit sich selbst 1?)\n",
    "'''\n",
    "counter = 0\n",
    "for a in range (0,802):\n",
    "    if (((a*a)%802)==1):\n",
    "        print (a)\n",
    "        counter +=1\n",
    "print (\"Anzahl der Dudes: \",counter)\n",
    "\n"
   ]
  },
  {
   "cell_type": "code",
   "execution_count": 3,
   "metadata": {},
   "outputs": [
    {
     "name": "stdout",
     "output_type": "stream",
     "text": [
      "Anzahl der Elemente:  93\n"
     ]
    }
   ],
   "source": [
    "'''\n",
    "Aufgabe 20\n",
    "Wie viele Elemente von Z/93Z lassen sich als Quadrat eines Elements von Z/93Z darstellen? \n",
    "[Beispiel: 51 ist das Quadrat von 12.]\n",
    "\n",
    "i zum quadrat in mod 93, soll kleiner als 93 sein.\n",
    "Eigentlich hätte man auch so drauf kommen können..\n",
    "'''\n",
    "counter = 0\n",
    "for i in range (0,93):\n",
    "    if (((i*i)%93)<93): \n",
    "        counter +=1\n",
    "print (\"Anzahl der Elemente: \", counter)"
   ]
  },
  {
   "cell_type": "code",
   "execution_count": null,
   "metadata": {},
   "outputs": [],
   "source": [
    "'''\n",
    "ATTENCIÒNE - ALERTA - AHHH!\n",
    "\n",
    "Aufgabe 21\n",
    "p = 2 760 727 302 517 ist eine Primzahl.\n",
    "Geben Sie den Kehrwert von 853 662 459 626 in Zp an. (Hinweis: kleiner Satz von Fermat.)\n",
    "'''\n",
    "#kleiner Test von Format a**p-1\n",
    "\n",
    "#was ist pow?\n"
   ]
  },
  {
   "cell_type": "code",
   "execution_count": null,
   "metadata": {},
   "outputs": [],
   "source": [
    "'''\n",
    "Aufgabe 22\n",
    "Geben Sie die kleinste positive Lösung des folgenden Kongruenzsystems an:\n",
    "x≡2 (mod5) \n",
    "x≡3 (mod4) \n",
    "x≡6 (mod7)\n",
    "'''\n",
    "#chinesischen Restsatz aus sympy importieren\n",
    "from sympy.ntheory.modular import crt\n",
    "\n",
    "#zunächst die Moduln eingeben, dann die Argumente\n",
    "crt([5,4,7],[2,3,6])\n",
    "\n",
    "#man erhält den kleinsten positiven Teiler und das Produkt der Moduln\n",
    "print (\"kleinste Positive Lösung: \", 27)\n",
    "\n",
    "#für den Fall, dass man den größten negativen Teiler haben möchte, rechnet man \n",
    "print(\"größter negativer Teiler: \", 27-140)"
   ]
  },
  {
   "cell_type": "code",
   "execution_count": null,
   "metadata": {},
   "outputs": [],
   "source": [
    "'''\n",
    "Aufgabe 23\n",
    "Geben Sie die größte negative Lösung des folgenden Kongruenzsystems an:\n",
    "x≡2 (mod3) \n",
    "x≡2 (mod4)\n",
    "x≡6 (mod7)\n",
    "'''\n",
    "\n",
    "crt([3,4,7],[2,2,6])\n",
    "print(\"größte negative Lösung: \", 62-84)"
   ]
  },
  {
   "cell_type": "code",
   "execution_count": null,
   "metadata": {},
   "outputs": [],
   "source": [
    "'''\n",
    "Aufgabe 24\n",
    "Für welche a hat das folgende Kongruenzsystem keine Lösung?\n",
    "x≡1 (mod4)   [ ] a = 9    [ ] a = 3   [x] a = 6   [x] a = 8  [ ] a = 5\n",
    "x≡2 (moda) \n",
    "x≡3 (mod7)\n",
    "'''\n",
    "crt([4,5,7],[1,2,3])\n",
    "\n",
    "#gibt es da eine schickere Lösung?\n"
   ]
  },
  {
   "cell_type": "code",
   "execution_count": null,
   "metadata": {},
   "outputs": [],
   "source": [
    "'''\n",
    "Aufgabe 25\n",
    "Kreuzen Sie die kanonische Primfaktorzerlegung von 9999 an.\n",
    "[ ] 9*11*101         [ ](3**2)*1111\n",
    "[ ](3**2)*10*111     [ ](3**2)*(11**2)\n",
    "[x](3**2)*11*101     [ ] 3*3333\n",
    "'''\n",
    "\n",
    "#Aufgabe 136 aus der Lösung kopiert\n",
    "def primeFactors (n):\n",
    "    result = []\n",
    "    while n > 1: \n",
    "        c=2\n",
    "        while True:\n",
    "            if n % c == 0:\n",
    "                result.append(c)\n",
    "                n //= c\n",
    "                break\n",
    "            c += 1\n",
    "    return result"
   ]
  },
  {
   "cell_type": "code",
   "execution_count": null,
   "metadata": {},
   "outputs": [],
   "source": [
    "primeFactors(9999)"
   ]
  },
  {
   "cell_type": "code",
   "execution_count": null,
   "metadata": {},
   "outputs": [],
   "source": [
    "'''\n",
    "ATTENCIÒNE!!!\n",
    "\n",
    "\n",
    "Aufgabe 26\n",
    "Geben Sie die 42. Primzahl an.\n",
    "\n",
    "sieve ist eine Funktion, die das Sieb des Eratosthenes (S76 ff) nachahmt.\n",
    "Man legt eine leere Liste für die Primes an und eine, die von 2 bis n geht.\n",
    "Dann fängt man in der for Schleife im Rahmen der While Schleife an, alle Zahlen wegzustreichen.\n",
    "übrig bleiben die Primes (2,3). Deren Vielfache werden aus der Numbers Liste weggestrichen\n",
    "'''\n",
    "def sieve (n):\n",
    "    primes= []\n",
    "    numbers = list(range(2,n)) #legt eine Liste an mit range 2-n und speichert sie in die Variable \n",
    "    c=2 #ab 2, da 1 nicht als Primzahl zählt..?\n",
    "    while c*c<n: #solange 2^2 kleiner als n ist ????\n",
    "        #man macht c Schritte, da es sonst ein Vielfaches von 2 wäre und somit nicht prim.\n",
    "        for i in range(c,n,c): \n",
    "            if i in numbers:\n",
    "                numbers.remove(i) \n",
    "        primes.append(c)\n",
    "        c=numbers[0]\n",
    "   # print (primes, \" blarks\", numbers)\n",
    "    return primes+numbers\n",
    "\n",
    "\n",
    "#wie ich sehe, hätte man sich das alles auch sparen können und einfach diese Funktion importieren und \n",
    "#nutzen können xD.... man gibt einfach den Index an.. \n",
    "from sympy import prime\n",
    "prime(42)"
   ]
  },
  {
   "cell_type": "code",
   "execution_count": null,
   "metadata": {},
   "outputs": [],
   "source": [
    "sieve(20)"
   ]
  },
  {
   "cell_type": "code",
   "execution_count": 1,
   "metadata": {},
   "outputs": [
    {
     "name": "stdout",
     "output_type": "stream",
     "text": [
      "0.05761455\n"
     ]
    },
    {
     "data": {
      "text/plain": [
       "0.05428681023790647"
      ]
     },
     "execution_count": 1,
     "metadata": {},
     "output_type": "execute_result"
    }
   ],
   "source": [
    "'''\n",
    "Aufgabe 27\n",
    "Wenn man π(10^8) durch 10^8 teilt, was kommt dann ungefähr heraus?\n",
    "[ ] 1/8\n",
    "[x] 1/ln10^8 (ähnlich genug..)\n",
    "[ ] 10^-8\n",
    "[ ] ln10^8\n",
    "[ ] 8\n",
    "'''\n",
    "from sympy import primepi\n",
    "k = primepi(10**8)/10**8\n",
    "print(k)\n",
    "\n",
    "from math import log\n",
    "(1/(log(10**8)))\n",
    "\n",
    "#stumpfes rumprobieren? \n",
    "\n",
    "#natürlicher Logarithmus wird aus Math importiert und mit log(x) beschrieben\n",
    "#gibt auch Log10(x)"
   ]
  },
  {
   "cell_type": "code",
   "execution_count": null,
   "metadata": {},
   "outputs": [],
   "source": [
    "'''\n",
    "\n",
    "ATTENCIÒNE!!! ALERTA!!\n",
    "\n",
    "Aufgabe 28\n",
    "Welcher der folgenden Werte ist die beste Schätzung für die Anzahl der Primzahlen bis 10^14?\n",
    "[ ] 8·10^11    [x] 3·10^12    [ ] 7·10^12    [ ] 2·10^13\n",
    "'''\n",
    "\n",
    "from math import log\n",
    "\n",
    "n = 10**14\n",
    "print(n)\n",
    "\n",
    "#Es gibt ungefähr n/ln(n) Primzahlen unterhalb von n.\n",
    "print (\"ungefähre Anzahl der Primzahlen unterhalb von n:  \",(n//log(n)))\n",
    "\n",
    "#es gibt auch die Möglichkeit, den Wert der n-tenPrimzahl ungefähr zu bestimmen mit n*log(n)\n",
    "print (\"Wert der n-ten Primzahl:  \", n*log(n))\n",
    "\n",
    "print(\"1 \", 8*(10**11))\n",
    "print(\"2 \",3*(10**12))\n",
    "print(\"3 \",7*(10**12))\n",
    "print(\"4 \",2*(10**13))\n",
    "print(\"5 \",3102103442166)\n",
    "\n",
    "#geht das besser?"
   ]
  },
  {
   "cell_type": "code",
   "execution_count": null,
   "metadata": {},
   "outputs": [],
   "source": [
    "'''\n",
    "Aufgabe 29\n",
    "Welche der folgenden Zahlen liegt am dichtesten an der 10^14-ten Primzahl?\n",
    "[ ] 7·10^13     [ ] 3·10^14  [ ] 8·10^14    [x] 3·10^15\n",
    "'''\n",
    "\n",
    "n = 10**14\n",
    "print(\"0 \",n*log(n))\n",
    "\n",
    "print(\"4 \", 3*(10**15))"
   ]
  },
  {
   "cell_type": "code",
   "execution_count": 6,
   "metadata": {},
   "outputs": [
    {
     "name": "stdout",
     "output_type": "stream",
     "text": [
      "0 2.0680689614440563e+19\n",
      "1 4.3e+38\n",
      "2 3.9e+40\n",
      "3 3.6e+42\n",
      "4 3.3e+44\n"
     ]
    }
   ],
   "source": [
    "'''\n",
    "\n",
    "ALERTA! ATTENCIÓNE!!!\n",
    "\n",
    "Aufgabe 30\n",
    "Wie viele Elemente enthält die Menge { (p, q) : p, q ∈ P ∩ [0, 10^21 ] } ungefähr?\n",
    "[ ] 4.3·10^38   [ ] 3.9·10^40  [ ] 3.6·10^42  [ ] 3.3·10^44\n",
    "'''\n",
    "from math import log\n",
    "n = 10**21/log(10**21)\n",
    "print(\"0\", n)\n",
    "\n",
    "k= 4.3*10**38\n",
    "print(\"1\",k)\n",
    "\n",
    "l = 3.9*10**40\n",
    "print(\"2\",l)\n",
    "\n",
    "u = 3.6 * 10**42\n",
    "print(\"3\",u)\n",
    "\n",
    "q = 3.3*10**44\n",
    "print(\"4\",q)"
   ]
  },
  {
   "cell_type": "code",
   "execution_count": null,
   "metadata": {},
   "outputs": [],
   "source": [
    "'''\n",
    "Aufgabe 31\n",
    "Wie viele Primzahlen liegen ungefähr zwischen 10^20 und 10^21?\n",
    "[x] 1.9·10^19  [ ] 2.1·10^19  [ ] 2.2·10^18  [ ] 1.8·10^20\n",
    "'''\n",
    "\n",
    "#zunächst berechnen wir die Anzahl der Primzahlen unterhalb 10^20 und 10^21 \n",
    "#und ziehen die Differenz voneinander ab.. [n/ln(n)]\n",
    "a = 10**20/log(10**20)\n",
    "b = 10**21/log(10**21)\n",
    "\n",
    "c = b-a\n",
    "print(c)\n",
    "#man erkennt am +19, dass es 19 Stellen sein müssen, deshalb fallen 10^18 und 10^20 weg.\n",
    "#dann rechnet man die übrigen aus..\n",
    "print(1.9*(10**19))\n",
    "print(2.1*(10**19))"
   ]
  },
  {
   "cell_type": "code",
   "execution_count": null,
   "metadata": {},
   "outputs": [],
   "source": [
    "'''\n",
    "Aufgabe 32\n",
    "Wenn man sich eine Liste aller vierstelligen Primzahlen, bei denen eine Ziffer dreimal vorkommt, \n",
    "anschaut, dann kommt eine Ziffer in der gesamten Liste nie vor. Welche ist es?\n",
    "\n",
    "\n",
    "Muss man echt die gesamte Liste abchecken? Geht das nicht auch in cool&kurz?\n",
    "'''\n",
    "\n",
    "from sympy import isprime\n",
    "\n",
    "for i in range (1000,9999):\n",
    "    if (isprime(i) and i):\n",
    "        print(i)\n",
    "\n",
    "#1-9 gesichtet 0 fehlt.\n",
    "        "
   ]
  },
  {
   "cell_type": "code",
   "execution_count": null,
   "metadata": {},
   "outputs": [],
   "source": [
    "'''\n",
    "Aufgabe 33\n",
    "Wie viele sechsstellige Primzahlen gibt es, bei denen alle sechs Ziffern identisch sind?\n",
    "\n",
    "Antwort: Keine.\n",
    "'''\n",
    "#funktion geschrieben, die in schritten von 111111 bis 1 Mio prüft, ob eine Primzahl dabei ist.. \n",
    "for i in range (111111,1000000,111111):\n",
    "    if (isprime(i)):\n",
    "        print(i, \" \", True)\n",
    "    else: \n",
    "        print(i, \"  \",False)"
   ]
  },
  {
   "cell_type": "code",
   "execution_count": 13,
   "metadata": {},
   "outputs": [],
   "source": [
    "'''\n",
    "\n",
    "ATTENCIÒNE!!!! ALERTA!!!!\n",
    "\n",
    "Aufgabe 34\n",
    "Ein Primzahlzwilling ist ein Paar von Primzahlen, deren Differenz zwei ist. \n",
    "Der erste Primzahlzwilling ist (3, 5).\n",
    "Welches ist der siebte Primzahlzwilling?\n",
    "\n",
    "müsste 71/73 sein\n",
    "'''\n",
    "\n",
    "from sympy import isprime\n",
    "\n",
    "\n",
    "def twinCheck(n):\n",
    "    primseListe=[]\n",
    "    for i in range (3,20):\n",
    "        if (isprime(i)):\n",
    "            primseListe.append(i)\n"
   ]
  },
  {
   "cell_type": "code",
   "execution_count": 16,
   "metadata": {},
   "outputs": [
    {
     "name": "stdout",
     "output_type": "stream",
     "text": [
      "It's Primzahlen, baby.\n"
     ]
    }
   ],
   "source": [
    "'''\n",
    "Aufgabe 35\n",
    "Bei welchen Zahlen gibt der Miller-Rabin-Test immer eine korrekte Antwort? \n",
    "[x] Primzahlen\n",
    "[ ] zusammengesetzte Zahlen \n",
    "[ ] ungerade Zahlen \n",
    "[ ] Carmichael-Zahlen\n",
    "[ ] Bei jedem Zahlentyp kann es falsche Antworten geben, weil der Test probabilistisch ist.\n",
    "'''\n",
    "\n",
    "print(\"It's Primzahlen, baby.\")"
   ]
  },
  {
   "cell_type": "code",
   "execution_count": 19,
   "metadata": {},
   "outputs": [
    {
     "data": {
      "text/plain": [
       "Fraction(26, 55)"
      ]
     },
     "execution_count": 19,
     "metadata": {},
     "output_type": "execute_result"
    }
   ],
   "source": [
    "'''\n",
    "Aufgabe 36\n",
    "Geben Sie die Dezimalzahl 0.472 = 0.4727272727272 . . . als gekürzten Bruch an.\n",
    "'''\n",
    "#limit_denominator() übernimmt das schon, muss man sich merken. <3\n",
    "from fractions import Fraction\n",
    "Fraction(0.472727272727272).limit_denominator()"
   ]
  },
  {
   "cell_type": "code",
   "execution_count": 8,
   "metadata": {},
   "outputs": [
    {
     "name": "stdout",
     "output_type": "stream",
     "text": [
      "4039661254514815/36028797018963968\n",
      "1/2\n",
      "4039661254555629/36028797018963968\n",
      "5736221198110203/18014398509481984\n",
      "2885186353511893/288230376151711744\n"
     ]
    }
   ],
   "source": [
    "'''\n",
    "Aufgabe 37\n",
    "Kreuzen Sie die Zahlen an, die nicht rational sind. \n",
    "[ ] 0.500000000000000000000000000000000000000000000000000000000000000000000 . . .\n",
    "[x] 0.112123123411212312341121231234112123123411212312341121231234112123123 . . . \n",
    "[x] 0.112123123412345123456123456712345678123456789123456789101234567891011 . . . \n",
    "[X] 0.318424242424242424242424242424242424242424242424242424242424242424242 . . . \n",
    "[x] 0.010010001000010000010000001000000010000000010000000001000000000010000 . . .\n",
    "(Alle Zahlen sind so gemeint, dass es nach einem hoffentlich erkennbaren Muster immer so weiter geht; \n",
    "daher die Punkte am Ende. Falls Sie sich bei einer Zahl nicht sicher sind, melden Sie sich bitte.)\n",
    "'''\n",
    "\n",
    "from fractions import Fraction\n",
    "from decimal import Decimal\n",
    "\n",
    "print(Fraction(Decimal(0.11212312341121231234)))\n",
    "print(Fraction(Decimal(0.5)))\n",
    "print(Fraction(Decimal(0.112123123412345123456123456712345678123456789123456789101234567891011)))\n",
    "print(Fraction(Decimal(0.318424242424242424242)))\n",
    "print(Fraction(Decimal(0.01001000100001000001000000100000001000000001000000000)))"
   ]
  },
  {
   "cell_type": "code",
   "execution_count": 10,
   "metadata": {},
   "outputs": [
    {
     "name": "stdout",
     "output_type": "stream",
     "text": [
      "1  9.0\n",
      "2  9.539392014169456\n",
      "3  10.0\n",
      "4  10.04987562112089\n",
      "5  10.535653752852738\n",
      "6  11.0\n"
     ]
    }
   ],
   "source": [
    "'''\n",
    "Aufgabe 38\n",
    "Kreuzen Sie von den folgenden Zahlen die an, die irrational sind:\n",
    "[ ]√81 [x]√91 [ ]√100 [x]√101 [x]√111 [ ]√121\n",
    "     \n",
    "'''\n",
    "#Wurzel ziehen, wenn Quark rauskommt dann ist es wohl falsch :)\n",
    "from math import sqrt\n",
    "print(\"1 \",sqrt(81))\n",
    "print(\"2 \",sqrt(91))\n",
    "print(\"3 \",sqrt(100))\n",
    "print(\"4 \",sqrt(101))\n",
    "print(\"5 \",sqrt(111))\n",
    "print(\"6 \",sqrt(121))"
   ]
  },
  {
   "cell_type": "code",
   "execution_count": 12,
   "metadata": {},
   "outputs": [
    {
     "name": "stdout",
     "output_type": "stream",
     "text": [
      "1  2.8284271247461903\n",
      "2  4.000000000000001 4.0\n",
      "3  5.196152422706631 5.196152422706632\n",
      "4  9.0\n",
      "5  10.535653752852738\n",
      "6  11.0\n"
     ]
    }
   ],
   "source": [
    "'''\n",
    "\n",
    "ATTENCIÓNE! ALERTA!!!\n",
    "\n",
    "Aufgabe 39\n",
    "Kreuzen Sie von den folgenden Zahlen die an, die irrational sind:\n",
    "[x]√8 [?]√2*√8  [x]√3*√3*√3  [ ]√81 [x]√111 [ ]√121\n",
    "'''\n",
    "from math import sqrt\n",
    "print(\"1 \",sqrt(8))\n",
    "print(\"2 \",sqrt(2)*sqrt(8), sqrt(2*8)) #kann man auch einfach sqrt(2*8)? -Aye \n",
    "print(\"3 \",sqrt(3)*sqrt(3)*sqrt(3), sqrt(3*3*3))\n",
    "print(\"4 \",sqrt(81))\n",
    "print(\"5 \",sqrt(111))\n",
    "print(\"6 \",sqrt(121))"
   ]
  },
  {
   "cell_type": "code",
   "execution_count": 20,
   "metadata": {},
   "outputs": [
    {
     "data": {
      "text/plain": [
       "Fraction(11, 16)"
      ]
     },
     "execution_count": 20,
     "metadata": {},
     "output_type": "execute_result"
    }
   ],
   "source": [
    "'''\n",
    "Aufgabe 40\n",
    "Geben Sie die Binärzahl 0.1011 dezimal als Bruch an.\n",
    "'''\n",
    "\n",
    "from fractions import Fraction\n",
    "Fraction(0b1011, 0b10000)\n",
    "#man gibt erst die Binärzahl, die konvertiert werden soll an und hinten die stellen der Ziffer an.\n",
    "#vier stellen vier 0en.\n"
   ]
  },
  {
   "cell_type": "code",
   "execution_count": 23,
   "metadata": {},
   "outputs": [
    {
     "data": {
      "text/plain": [
       "Fraction(1, 990)"
      ]
     },
     "execution_count": 23,
     "metadata": {},
     "output_type": "execute_result"
    }
   ],
   "source": [
    "'''\n",
    "???? \n",
    "\n",
    "Aufgabe 41\n",
    "Geben Sie die Binärrzahl 0.001 = 0.00101010101010101 . . . dezimal als gekürzten Bruch an.\n",
    "'''\n",
    "\n",
    "from fractions import Fraction\n",
    "Fraction(0.00101010101010101).limit_denominator()\n"
   ]
  },
  {
   "cell_type": "code",
   "execution_count": 27,
   "metadata": {},
   "outputs": [
    {
     "name": "stdout",
     "output_type": "stream",
     "text": [
      "2.  0.40000000000000002220446049250313080847263336181640625\n",
      "4. zunächst kürzen 0.75\n",
      "5.  0.01428571428571428526821396332024960429407656192779541015625\n"
     ]
    }
   ],
   "source": [
    "'''\n",
    "Aufgabe 42\n",
    "Kreuzen Sie die Zahlen an, die man dezimal mit endlich vielen Nachkommastellen darstellen kann: \n",
    "[x]1/8  [ ]2/5  [x]3/16  [x]21/28  [ ]1/70\n",
    "'''\n",
    "\n",
    "#erstere und dritte weil es ne zweier Potenz ist..\n",
    "#4. kann man auf 3/4 kürzen -> auch darstellbar\n",
    "from decimal import Decimal\n",
    "\n",
    "print(\"2. \",Decimal(2/5)) #notsafe... was ist endlich? \n",
    "print(\"4. zunächst kürzen\", Decimal(21/28))\n",
    "print(\"5. \", Decimal(1/70))\n",
    "\n"
   ]
  },
  {
   "cell_type": "code",
   "execution_count": 31,
   "metadata": {},
   "outputs": [
    {
     "data": {
      "text/plain": [
       "Decimal('0.1875')"
      ]
     },
     "execution_count": 31,
     "metadata": {},
     "output_type": "execute_result"
    }
   ],
   "source": [
    "'''\n",
    "\n",
    "ALERTA !! ATTENCÓNE!!!\n",
    "\n",
    "Aufgabe 43\n",
    "Kreuzen Sie die Zahlen an, die man binär mit endlich vielen Nachkommastellen darstellen kann: \n",
    "[x]1     [ ]2   [x] 3    [x]15   [ ]1\n",
    "   8        5      16       20      7 \n",
    "'''\n",
    "\n",
    "from fractions import Fraction\n",
    "from decimal import Decimal\n",
    "#man kann auch hier wieder die zweier Potenzen annehmen, dass die auflösbar sind.\n",
    "#gab es da noch was anderes?"
   ]
  },
  {
   "cell_type": "code",
   "execution_count": 37,
   "metadata": {},
   "outputs": [
    {
     "name": "stdout",
     "output_type": "stream",
     "text": [
      "0.3125\n"
     ]
    }
   ],
   "source": [
    "'''\n",
    "Aufgabe 44\n",
    "Kreuzen Sie die Zahlen an, die man oktal mit endlich vielen Nachkommastellen darstellen kann: \n",
    "[ ]3   [x]1  [x] 7  [x] 5  [ ] 2\n",
    "   5      8     28     16     11 \n",
    "\n",
    "'''\n",
    "7/28\n",
    "print(5/16)\n",
    "#uähhh?!\n",
    "#es sind alle darstellbar die durch 2 teilbar sind (Primfaktorzerlegung)"
   ]
  },
  {
   "cell_type": "code",
   "execution_count": 38,
   "metadata": {},
   "outputs": [
    {
     "data": {
      "text/plain": [
       "'\\nATTENCIONE\\n\\nKreuzen Sie die Zahlen an, die man oktal mit endlich vielen Nachkommastellen darstellen kann: \\n3 2 \\U0010fc101 75 \\U0010fc101\\n8 7 4 200 2\\n\\ns.o.'"
      ]
     },
     "execution_count": 38,
     "metadata": {},
     "output_type": "execute_result"
    }
   ],
   "source": [
    "'''\n",
    "ATTENCIONE\n",
    "\n",
    "Aufgabe 45\n",
    "\n",
    "Kreuzen Sie die Zahlen an, die man oktal mit endlich vielen Nachkommastellen darstellen kann: \n",
    "3 2 􏰐1 75 􏰐1\n",
    "8 7 4 200 2\n",
    "\n",
    "1.3.4.\n",
    "s.o.'''\n"
   ]
  },
  {
   "cell_type": "code",
   "execution_count": 39,
   "metadata": {},
   "outputs": [
    {
     "data": {
      "text/plain": [
       "7"
      ]
     },
     "execution_count": 39,
     "metadata": {},
     "output_type": "execute_result"
    }
   ],
   "source": []
  },
  {
   "cell_type": "code",
   "execution_count": null,
   "metadata": {},
   "outputs": [],
   "source": []
  }
 ],
 "metadata": {
  "kernelspec": {
   "display_name": "Python 3",
   "language": "python",
   "name": "python3"
  },
  "language_info": {
   "codemirror_mode": {
    "name": "ipython",
    "version": 3
   },
   "file_extension": ".py",
   "mimetype": "text/x-python",
   "name": "python",
   "nbconvert_exporter": "python",
   "pygments_lexer": "ipython3",
   "version": "3.7.3"
  }
 },
 "nbformat": 4,
 "nbformat_minor": 2
}
